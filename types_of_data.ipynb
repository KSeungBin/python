{
  "nbformat": 4,
  "nbformat_minor": 0,
  "metadata": {
    "colab": {
      "name": "types_of_data.ipynb의 사본",
      "provenance": [],
      "collapsed_sections": [],
      "toc_visible": true,
      "include_colab_link": true
    },
    "kernelspec": {
      "name": "python3",
      "display_name": "Python 3"
    },
    "language_info": {
      "name": "python"
    }
  },
  "cells": [
    {
      "cell_type": "markdown",
      "metadata": {
        "id": "view-in-github",
        "colab_type": "text"
      },
      "source": [
        "<a href=\"https://colab.research.google.com/github/KSeungBin/python/blob/master/types_of_data_ipynb%EC%9D%98_%EC%82%AC%EB%B3%B8.ipynb\" target=\"_parent\"><img src=\"https://colab.research.google.com/assets/colab-badge.svg\" alt=\"Open In Colab\"/></a>"
      ]
    },
    {
      "cell_type": "markdown",
      "source": [
        "# 변수의 종류"
      ],
      "metadata": {
        "id": "E2tz8wUakjIU"
      }
    },
    {
      "cell_type": "code",
      "source": [
        "import numpy as np\n",
        "import pandas as pd"
      ],
      "metadata": {
        "id": "Bhmu56qmVT4u"
      },
      "execution_count": 1,
      "outputs": []
    },
    {
      "cell_type": "code",
      "source": [
        "data = {\n",
        "    'Name':['John', 'Sabre', 'Kim', 'Sato', 'Lee', 'Smith', 'David', 'Park'],\n",
        "    'Country':['USA', 'France', 'Korea', None, 'Korea', 'UK', 'USA', 'Korea'],\n",
        "    'Age':['31', 33, None, 40, 36, 55, np.nan, 35], # numerical인데 categorical처럼 인식될 수 있음\n",
        "    'Job':['Student', np.nan, 'Developer', 'Chef', 'Professor', 'CEO', 'Banker', 'Student'],\n",
        "    'Hand':['L', 'R', 'R', 'B', 'L', 'L', 'R', 'R'],\n",
        "    'Height':['T', 'S', 'M', 'S', 'T', 'S', 'S', 'T'],\n",
        "    'Capital':[48.35, 150.8, 99.0, 100.0, 182.3, 1101.65, 131.87, 65.8]\n",
        "}\n",
        "\n",
        "df_nan = pd.DataFrame(data)\n",
        "df = df_nan.copy()\n",
        "df"
      ],
      "metadata": {
        "id": "z6Uu_sCnVSbT",
        "colab": {
          "base_uri": "https://localhost:8080/",
          "height": 300
        },
        "outputId": "12b138f7-9b38-4fb6-8eea-24b0f563eb20"
      },
      "execution_count": 2,
      "outputs": [
        {
          "output_type": "execute_result",
          "data": {
            "text/plain": [
              "    Name Country   Age        Job Hand Height  Capital\n",
              "0   John     USA    31    Student    L      T    48.35\n",
              "1  Sabre  France    33        NaN    R      S   150.80\n",
              "2    Kim   Korea  None  Developer    R      M    99.00\n",
              "3   Sato    None    40       Chef    B      S   100.00\n",
              "4    Lee   Korea    36  Professor    L      T   182.30\n",
              "5  Smith      UK    55        CEO    L      S  1101.65\n",
              "6  David     USA   NaN     Banker    R      S   131.87\n",
              "7   Park   Korea    35    Student    R      T    65.80"
            ],
            "text/html": [
              "\n",
              "  <div id=\"df-5b0fbe25-3a56-4e32-8dfc-cdf1d8278875\">\n",
              "    <div class=\"colab-df-container\">\n",
              "      <div>\n",
              "<style scoped>\n",
              "    .dataframe tbody tr th:only-of-type {\n",
              "        vertical-align: middle;\n",
              "    }\n",
              "\n",
              "    .dataframe tbody tr th {\n",
              "        vertical-align: top;\n",
              "    }\n",
              "\n",
              "    .dataframe thead th {\n",
              "        text-align: right;\n",
              "    }\n",
              "</style>\n",
              "<table border=\"1\" class=\"dataframe\">\n",
              "  <thead>\n",
              "    <tr style=\"text-align: right;\">\n",
              "      <th></th>\n",
              "      <th>Name</th>\n",
              "      <th>Country</th>\n",
              "      <th>Age</th>\n",
              "      <th>Job</th>\n",
              "      <th>Hand</th>\n",
              "      <th>Height</th>\n",
              "      <th>Capital</th>\n",
              "    </tr>\n",
              "  </thead>\n",
              "  <tbody>\n",
              "    <tr>\n",
              "      <th>0</th>\n",
              "      <td>John</td>\n",
              "      <td>USA</td>\n",
              "      <td>31</td>\n",
              "      <td>Student</td>\n",
              "      <td>L</td>\n",
              "      <td>T</td>\n",
              "      <td>48.35</td>\n",
              "    </tr>\n",
              "    <tr>\n",
              "      <th>1</th>\n",
              "      <td>Sabre</td>\n",
              "      <td>France</td>\n",
              "      <td>33</td>\n",
              "      <td>NaN</td>\n",
              "      <td>R</td>\n",
              "      <td>S</td>\n",
              "      <td>150.80</td>\n",
              "    </tr>\n",
              "    <tr>\n",
              "      <th>2</th>\n",
              "      <td>Kim</td>\n",
              "      <td>Korea</td>\n",
              "      <td>None</td>\n",
              "      <td>Developer</td>\n",
              "      <td>R</td>\n",
              "      <td>M</td>\n",
              "      <td>99.00</td>\n",
              "    </tr>\n",
              "    <tr>\n",
              "      <th>3</th>\n",
              "      <td>Sato</td>\n",
              "      <td>None</td>\n",
              "      <td>40</td>\n",
              "      <td>Chef</td>\n",
              "      <td>B</td>\n",
              "      <td>S</td>\n",
              "      <td>100.00</td>\n",
              "    </tr>\n",
              "    <tr>\n",
              "      <th>4</th>\n",
              "      <td>Lee</td>\n",
              "      <td>Korea</td>\n",
              "      <td>36</td>\n",
              "      <td>Professor</td>\n",
              "      <td>L</td>\n",
              "      <td>T</td>\n",
              "      <td>182.30</td>\n",
              "    </tr>\n",
              "    <tr>\n",
              "      <th>5</th>\n",
              "      <td>Smith</td>\n",
              "      <td>UK</td>\n",
              "      <td>55</td>\n",
              "      <td>CEO</td>\n",
              "      <td>L</td>\n",
              "      <td>S</td>\n",
              "      <td>1101.65</td>\n",
              "    </tr>\n",
              "    <tr>\n",
              "      <th>6</th>\n",
              "      <td>David</td>\n",
              "      <td>USA</td>\n",
              "      <td>NaN</td>\n",
              "      <td>Banker</td>\n",
              "      <td>R</td>\n",
              "      <td>S</td>\n",
              "      <td>131.87</td>\n",
              "    </tr>\n",
              "    <tr>\n",
              "      <th>7</th>\n",
              "      <td>Park</td>\n",
              "      <td>Korea</td>\n",
              "      <td>35</td>\n",
              "      <td>Student</td>\n",
              "      <td>R</td>\n",
              "      <td>T</td>\n",
              "      <td>65.80</td>\n",
              "    </tr>\n",
              "  </tbody>\n",
              "</table>\n",
              "</div>\n",
              "      <button class=\"colab-df-convert\" onclick=\"convertToInteractive('df-5b0fbe25-3a56-4e32-8dfc-cdf1d8278875')\"\n",
              "              title=\"Convert this dataframe to an interactive table.\"\n",
              "              style=\"display:none;\">\n",
              "        \n",
              "  <svg xmlns=\"http://www.w3.org/2000/svg\" height=\"24px\"viewBox=\"0 0 24 24\"\n",
              "       width=\"24px\">\n",
              "    <path d=\"M0 0h24v24H0V0z\" fill=\"none\"/>\n",
              "    <path d=\"M18.56 5.44l.94 2.06.94-2.06 2.06-.94-2.06-.94-.94-2.06-.94 2.06-2.06.94zm-11 1L8.5 8.5l.94-2.06 2.06-.94-2.06-.94L8.5 2.5l-.94 2.06-2.06.94zm10 10l.94 2.06.94-2.06 2.06-.94-2.06-.94-.94-2.06-.94 2.06-2.06.94z\"/><path d=\"M17.41 7.96l-1.37-1.37c-.4-.4-.92-.59-1.43-.59-.52 0-1.04.2-1.43.59L10.3 9.45l-7.72 7.72c-.78.78-.78 2.05 0 2.83L4 21.41c.39.39.9.59 1.41.59.51 0 1.02-.2 1.41-.59l7.78-7.78 2.81-2.81c.8-.78.8-2.07 0-2.86zM5.41 20L4 18.59l7.72-7.72 1.47 1.35L5.41 20z\"/>\n",
              "  </svg>\n",
              "      </button>\n",
              "      \n",
              "  <style>\n",
              "    .colab-df-container {\n",
              "      display:flex;\n",
              "      flex-wrap:wrap;\n",
              "      gap: 12px;\n",
              "    }\n",
              "\n",
              "    .colab-df-convert {\n",
              "      background-color: #E8F0FE;\n",
              "      border: none;\n",
              "      border-radius: 50%;\n",
              "      cursor: pointer;\n",
              "      display: none;\n",
              "      fill: #1967D2;\n",
              "      height: 32px;\n",
              "      padding: 0 0 0 0;\n",
              "      width: 32px;\n",
              "    }\n",
              "\n",
              "    .colab-df-convert:hover {\n",
              "      background-color: #E2EBFA;\n",
              "      box-shadow: 0px 1px 2px rgba(60, 64, 67, 0.3), 0px 1px 3px 1px rgba(60, 64, 67, 0.15);\n",
              "      fill: #174EA6;\n",
              "    }\n",
              "\n",
              "    [theme=dark] .colab-df-convert {\n",
              "      background-color: #3B4455;\n",
              "      fill: #D2E3FC;\n",
              "    }\n",
              "\n",
              "    [theme=dark] .colab-df-convert:hover {\n",
              "      background-color: #434B5C;\n",
              "      box-shadow: 0px 1px 3px 1px rgba(0, 0, 0, 0.15);\n",
              "      filter: drop-shadow(0px 1px 2px rgba(0, 0, 0, 0.3));\n",
              "      fill: #FFFFFF;\n",
              "    }\n",
              "  </style>\n",
              "\n",
              "      <script>\n",
              "        const buttonEl =\n",
              "          document.querySelector('#df-5b0fbe25-3a56-4e32-8dfc-cdf1d8278875 button.colab-df-convert');\n",
              "        buttonEl.style.display =\n",
              "          google.colab.kernel.accessAllowed ? 'block' : 'none';\n",
              "\n",
              "        async function convertToInteractive(key) {\n",
              "          const element = document.querySelector('#df-5b0fbe25-3a56-4e32-8dfc-cdf1d8278875');\n",
              "          const dataTable =\n",
              "            await google.colab.kernel.invokeFunction('convertToInteractive',\n",
              "                                                     [key], {});\n",
              "          if (!dataTable) return;\n",
              "\n",
              "          const docLinkHtml = 'Like what you see? Visit the ' +\n",
              "            '<a target=\"_blank\" href=https://colab.research.google.com/notebooks/data_table.ipynb>data table notebook</a>'\n",
              "            + ' to learn more about interactive tables.';\n",
              "          element.innerHTML = '';\n",
              "          dataTable['output_type'] = 'display_data';\n",
              "          await google.colab.output.renderOutput(dataTable, element);\n",
              "          const docLink = document.createElement('div');\n",
              "          docLink.innerHTML = docLinkHtml;\n",
              "          element.appendChild(docLink);\n",
              "        }\n",
              "      </script>\n",
              "    </div>\n",
              "  </div>\n",
              "  "
            ]
          },
          "metadata": {},
          "execution_count": 2
        }
      ]
    },
    {
      "cell_type": "code",
      "source": [
        "df.info()\n",
        "# Age는 float, int가 아닌 object('31' )"
      ],
      "metadata": {
        "id": "nIqNVL8QVTAK",
        "colab": {
          "base_uri": "https://localhost:8080/"
        },
        "outputId": "0776da30-441f-42f4-ec54-5e5aedd10dbc"
      },
      "execution_count": 3,
      "outputs": [
        {
          "output_type": "stream",
          "name": "stdout",
          "text": [
            "<class 'pandas.core.frame.DataFrame'>\n",
            "RangeIndex: 8 entries, 0 to 7\n",
            "Data columns (total 7 columns):\n",
            " #   Column   Non-Null Count  Dtype  \n",
            "---  ------   --------------  -----  \n",
            " 0   Name     8 non-null      object \n",
            " 1   Country  7 non-null      object \n",
            " 2   Age      6 non-null      object \n",
            " 3   Job      7 non-null      object \n",
            " 4   Hand     8 non-null      object \n",
            " 5   Height   8 non-null      object \n",
            " 6   Capital  8 non-null      float64\n",
            "dtypes: float64(1), object(6)\n",
            "memory usage: 576.0+ bytes\n"
          ]
        }
      ]
    },
    {
      "cell_type": "code",
      "source": [
        "# Age -> Int16[+] : 정수형 데이터 타입으로 변환\n",
        "# None, NaN 값을 바로 int로 바꾸면 오류 발생(float로 먼저 변환한 후 -> int로 변환하면 None은 정수형 칼럼에서 누락값으로 처리됨)\n",
        "# 즉, int로 바로 변환 하면 null 값 때문에 에러가 발생하는데, float는 null 값을 처리할 수 있음\n",
        "df['Age'] = df['Age'].astype('Float32').astype('Int16')\n",
        "df"
      ],
      "metadata": {
        "id": "SBsHo6puYYdN",
        "colab": {
          "base_uri": "https://localhost:8080/",
          "height": 300
        },
        "outputId": "2b7babe6-c480-4ebb-d1ee-2e6098d52e26"
      },
      "execution_count": 5,
      "outputs": [
        {
          "output_type": "execute_result",
          "data": {
            "text/plain": [
              "    Name Country   Age        Job Hand Height  Capital\n",
              "0   John     USA    31    Student    L      T    48.35\n",
              "1  Sabre  France    33        NaN    R      S   150.80\n",
              "2    Kim   Korea  <NA>  Developer    R      M    99.00\n",
              "3   Sato    None    40       Chef    B      S   100.00\n",
              "4    Lee   Korea    36  Professor    L      T   182.30\n",
              "5  Smith      UK    55        CEO    L      S  1101.65\n",
              "6  David     USA  <NA>     Banker    R      S   131.87\n",
              "7   Park   Korea    35    Student    R      T    65.80"
            ],
            "text/html": [
              "\n",
              "  <div id=\"df-1b1227f4-83bf-49fc-a3fe-8c159efcc4be\">\n",
              "    <div class=\"colab-df-container\">\n",
              "      <div>\n",
              "<style scoped>\n",
              "    .dataframe tbody tr th:only-of-type {\n",
              "        vertical-align: middle;\n",
              "    }\n",
              "\n",
              "    .dataframe tbody tr th {\n",
              "        vertical-align: top;\n",
              "    }\n",
              "\n",
              "    .dataframe thead th {\n",
              "        text-align: right;\n",
              "    }\n",
              "</style>\n",
              "<table border=\"1\" class=\"dataframe\">\n",
              "  <thead>\n",
              "    <tr style=\"text-align: right;\">\n",
              "      <th></th>\n",
              "      <th>Name</th>\n",
              "      <th>Country</th>\n",
              "      <th>Age</th>\n",
              "      <th>Job</th>\n",
              "      <th>Hand</th>\n",
              "      <th>Height</th>\n",
              "      <th>Capital</th>\n",
              "    </tr>\n",
              "  </thead>\n",
              "  <tbody>\n",
              "    <tr>\n",
              "      <th>0</th>\n",
              "      <td>John</td>\n",
              "      <td>USA</td>\n",
              "      <td>31</td>\n",
              "      <td>Student</td>\n",
              "      <td>L</td>\n",
              "      <td>T</td>\n",
              "      <td>48.35</td>\n",
              "    </tr>\n",
              "    <tr>\n",
              "      <th>1</th>\n",
              "      <td>Sabre</td>\n",
              "      <td>France</td>\n",
              "      <td>33</td>\n",
              "      <td>NaN</td>\n",
              "      <td>R</td>\n",
              "      <td>S</td>\n",
              "      <td>150.80</td>\n",
              "    </tr>\n",
              "    <tr>\n",
              "      <th>2</th>\n",
              "      <td>Kim</td>\n",
              "      <td>Korea</td>\n",
              "      <td>&lt;NA&gt;</td>\n",
              "      <td>Developer</td>\n",
              "      <td>R</td>\n",
              "      <td>M</td>\n",
              "      <td>99.00</td>\n",
              "    </tr>\n",
              "    <tr>\n",
              "      <th>3</th>\n",
              "      <td>Sato</td>\n",
              "      <td>None</td>\n",
              "      <td>40</td>\n",
              "      <td>Chef</td>\n",
              "      <td>B</td>\n",
              "      <td>S</td>\n",
              "      <td>100.00</td>\n",
              "    </tr>\n",
              "    <tr>\n",
              "      <th>4</th>\n",
              "      <td>Lee</td>\n",
              "      <td>Korea</td>\n",
              "      <td>36</td>\n",
              "      <td>Professor</td>\n",
              "      <td>L</td>\n",
              "      <td>T</td>\n",
              "      <td>182.30</td>\n",
              "    </tr>\n",
              "    <tr>\n",
              "      <th>5</th>\n",
              "      <td>Smith</td>\n",
              "      <td>UK</td>\n",
              "      <td>55</td>\n",
              "      <td>CEO</td>\n",
              "      <td>L</td>\n",
              "      <td>S</td>\n",
              "      <td>1101.65</td>\n",
              "    </tr>\n",
              "    <tr>\n",
              "      <th>6</th>\n",
              "      <td>David</td>\n",
              "      <td>USA</td>\n",
              "      <td>&lt;NA&gt;</td>\n",
              "      <td>Banker</td>\n",
              "      <td>R</td>\n",
              "      <td>S</td>\n",
              "      <td>131.87</td>\n",
              "    </tr>\n",
              "    <tr>\n",
              "      <th>7</th>\n",
              "      <td>Park</td>\n",
              "      <td>Korea</td>\n",
              "      <td>35</td>\n",
              "      <td>Student</td>\n",
              "      <td>R</td>\n",
              "      <td>T</td>\n",
              "      <td>65.80</td>\n",
              "    </tr>\n",
              "  </tbody>\n",
              "</table>\n",
              "</div>\n",
              "      <button class=\"colab-df-convert\" onclick=\"convertToInteractive('df-1b1227f4-83bf-49fc-a3fe-8c159efcc4be')\"\n",
              "              title=\"Convert this dataframe to an interactive table.\"\n",
              "              style=\"display:none;\">\n",
              "        \n",
              "  <svg xmlns=\"http://www.w3.org/2000/svg\" height=\"24px\"viewBox=\"0 0 24 24\"\n",
              "       width=\"24px\">\n",
              "    <path d=\"M0 0h24v24H0V0z\" fill=\"none\"/>\n",
              "    <path d=\"M18.56 5.44l.94 2.06.94-2.06 2.06-.94-2.06-.94-.94-2.06-.94 2.06-2.06.94zm-11 1L8.5 8.5l.94-2.06 2.06-.94-2.06-.94L8.5 2.5l-.94 2.06-2.06.94zm10 10l.94 2.06.94-2.06 2.06-.94-2.06-.94-.94-2.06-.94 2.06-2.06.94z\"/><path d=\"M17.41 7.96l-1.37-1.37c-.4-.4-.92-.59-1.43-.59-.52 0-1.04.2-1.43.59L10.3 9.45l-7.72 7.72c-.78.78-.78 2.05 0 2.83L4 21.41c.39.39.9.59 1.41.59.51 0 1.02-.2 1.41-.59l7.78-7.78 2.81-2.81c.8-.78.8-2.07 0-2.86zM5.41 20L4 18.59l7.72-7.72 1.47 1.35L5.41 20z\"/>\n",
              "  </svg>\n",
              "      </button>\n",
              "      \n",
              "  <style>\n",
              "    .colab-df-container {\n",
              "      display:flex;\n",
              "      flex-wrap:wrap;\n",
              "      gap: 12px;\n",
              "    }\n",
              "\n",
              "    .colab-df-convert {\n",
              "      background-color: #E8F0FE;\n",
              "      border: none;\n",
              "      border-radius: 50%;\n",
              "      cursor: pointer;\n",
              "      display: none;\n",
              "      fill: #1967D2;\n",
              "      height: 32px;\n",
              "      padding: 0 0 0 0;\n",
              "      width: 32px;\n",
              "    }\n",
              "\n",
              "    .colab-df-convert:hover {\n",
              "      background-color: #E2EBFA;\n",
              "      box-shadow: 0px 1px 2px rgba(60, 64, 67, 0.3), 0px 1px 3px 1px rgba(60, 64, 67, 0.15);\n",
              "      fill: #174EA6;\n",
              "    }\n",
              "\n",
              "    [theme=dark] .colab-df-convert {\n",
              "      background-color: #3B4455;\n",
              "      fill: #D2E3FC;\n",
              "    }\n",
              "\n",
              "    [theme=dark] .colab-df-convert:hover {\n",
              "      background-color: #434B5C;\n",
              "      box-shadow: 0px 1px 3px 1px rgba(0, 0, 0, 0.15);\n",
              "      filter: drop-shadow(0px 1px 2px rgba(0, 0, 0, 0.3));\n",
              "      fill: #FFFFFF;\n",
              "    }\n",
              "  </style>\n",
              "\n",
              "      <script>\n",
              "        const buttonEl =\n",
              "          document.querySelector('#df-1b1227f4-83bf-49fc-a3fe-8c159efcc4be button.colab-df-convert');\n",
              "        buttonEl.style.display =\n",
              "          google.colab.kernel.accessAllowed ? 'block' : 'none';\n",
              "\n",
              "        async function convertToInteractive(key) {\n",
              "          const element = document.querySelector('#df-1b1227f4-83bf-49fc-a3fe-8c159efcc4be');\n",
              "          const dataTable =\n",
              "            await google.colab.kernel.invokeFunction('convertToInteractive',\n",
              "                                                     [key], {});\n",
              "          if (!dataTable) return;\n",
              "\n",
              "          const docLinkHtml = 'Like what you see? Visit the ' +\n",
              "            '<a target=\"_blank\" href=https://colab.research.google.com/notebooks/data_table.ipynb>data table notebook</a>'\n",
              "            + ' to learn more about interactive tables.';\n",
              "          element.innerHTML = '';\n",
              "          dataTable['output_type'] = 'display_data';\n",
              "          await google.colab.output.renderOutput(dataTable, element);\n",
              "          const docLink = document.createElement('div');\n",
              "          docLink.innerHTML = docLinkHtml;\n",
              "          element.appendChild(docLink);\n",
              "        }\n",
              "      </script>\n",
              "    </div>\n",
              "  </div>\n",
              "  "
            ]
          },
          "metadata": {},
          "execution_count": 5
        }
      ]
    },
    {
      "cell_type": "code",
      "source": [
        "df.info()"
      ],
      "metadata": {
        "id": "KNlETUozaPLm",
        "colab": {
          "base_uri": "https://localhost:8080/"
        },
        "outputId": "56c3a27d-9e5b-4e00-b160-3f2d4b18b74f"
      },
      "execution_count": 6,
      "outputs": [
        {
          "output_type": "stream",
          "name": "stdout",
          "text": [
            "<class 'pandas.core.frame.DataFrame'>\n",
            "RangeIndex: 8 entries, 0 to 7\n",
            "Data columns (total 7 columns):\n",
            " #   Column   Non-Null Count  Dtype  \n",
            "---  ------   --------------  -----  \n",
            " 0   Name     8 non-null      object \n",
            " 1   Country  7 non-null      object \n",
            " 2   Age      6 non-null      Int16  \n",
            " 3   Job      7 non-null      object \n",
            " 4   Hand     8 non-null      object \n",
            " 5   Height   8 non-null      object \n",
            " 6   Capital  8 non-null      float64\n",
            "dtypes: Int16(1), float64(1), object(5)\n",
            "memory usage: 536.0+ bytes\n"
          ]
        }
      ]
    },
    {
      "cell_type": "code",
      "source": [
        "# categorical column, numerical column\n",
        "cat_cols = ['Name', 'Country', 'Job', 'Hand', 'Height']\n",
        "num_cols = ['Age', 'Capital']"
      ],
      "metadata": {
        "id": "IVeyIDWwaQbD"
      },
      "execution_count": 8,
      "outputs": []
    },
    {
      "cell_type": "code",
      "source": [
        "cat_cols"
      ],
      "metadata": {
        "colab": {
          "base_uri": "https://localhost:8080/"
        },
        "id": "Xe2iZq6DPrnW",
        "outputId": "871bcc4f-5476-480e-d8b3-7d2869560b84"
      },
      "execution_count": 10,
      "outputs": [
        {
          "output_type": "execute_result",
          "data": {
            "text/plain": [
              "['Name', 'Country', 'Job', 'Hand', 'Height']"
            ]
          },
          "metadata": {},
          "execution_count": 10
        }
      ]
    },
    {
      "cell_type": "code",
      "source": [
        "# discrete한 숫자인 정수로 모두 변환하는 것이 목적(=encoding)\n",
        "df[cat_cols]"
      ],
      "metadata": {
        "id": "fPTAnRiLajDl",
        "colab": {
          "base_uri": "https://localhost:8080/",
          "height": 300
        },
        "outputId": "a56fb127-30e5-42b7-a5ce-6eb161bb1428"
      },
      "execution_count": 12,
      "outputs": [
        {
          "output_type": "execute_result",
          "data": {
            "text/plain": [
              "    Name Country        Job Hand Height\n",
              "0   John     USA    Student    L      T\n",
              "1  Sabre  France        NaN    R      S\n",
              "2    Kim   Korea  Developer    R      M\n",
              "3   Sato    None       Chef    B      S\n",
              "4    Lee   Korea  Professor    L      T\n",
              "5  Smith      UK        CEO    L      S\n",
              "6  David     USA     Banker    R      S\n",
              "7   Park   Korea    Student    R      T"
            ],
            "text/html": [
              "\n",
              "  <div id=\"df-6ce3d839-3f23-4bc7-83a1-3dd5b547aa06\">\n",
              "    <div class=\"colab-df-container\">\n",
              "      <div>\n",
              "<style scoped>\n",
              "    .dataframe tbody tr th:only-of-type {\n",
              "        vertical-align: middle;\n",
              "    }\n",
              "\n",
              "    .dataframe tbody tr th {\n",
              "        vertical-align: top;\n",
              "    }\n",
              "\n",
              "    .dataframe thead th {\n",
              "        text-align: right;\n",
              "    }\n",
              "</style>\n",
              "<table border=\"1\" class=\"dataframe\">\n",
              "  <thead>\n",
              "    <tr style=\"text-align: right;\">\n",
              "      <th></th>\n",
              "      <th>Name</th>\n",
              "      <th>Country</th>\n",
              "      <th>Job</th>\n",
              "      <th>Hand</th>\n",
              "      <th>Height</th>\n",
              "    </tr>\n",
              "  </thead>\n",
              "  <tbody>\n",
              "    <tr>\n",
              "      <th>0</th>\n",
              "      <td>John</td>\n",
              "      <td>USA</td>\n",
              "      <td>Student</td>\n",
              "      <td>L</td>\n",
              "      <td>T</td>\n",
              "    </tr>\n",
              "    <tr>\n",
              "      <th>1</th>\n",
              "      <td>Sabre</td>\n",
              "      <td>France</td>\n",
              "      <td>NaN</td>\n",
              "      <td>R</td>\n",
              "      <td>S</td>\n",
              "    </tr>\n",
              "    <tr>\n",
              "      <th>2</th>\n",
              "      <td>Kim</td>\n",
              "      <td>Korea</td>\n",
              "      <td>Developer</td>\n",
              "      <td>R</td>\n",
              "      <td>M</td>\n",
              "    </tr>\n",
              "    <tr>\n",
              "      <th>3</th>\n",
              "      <td>Sato</td>\n",
              "      <td>None</td>\n",
              "      <td>Chef</td>\n",
              "      <td>B</td>\n",
              "      <td>S</td>\n",
              "    </tr>\n",
              "    <tr>\n",
              "      <th>4</th>\n",
              "      <td>Lee</td>\n",
              "      <td>Korea</td>\n",
              "      <td>Professor</td>\n",
              "      <td>L</td>\n",
              "      <td>T</td>\n",
              "    </tr>\n",
              "    <tr>\n",
              "      <th>5</th>\n",
              "      <td>Smith</td>\n",
              "      <td>UK</td>\n",
              "      <td>CEO</td>\n",
              "      <td>L</td>\n",
              "      <td>S</td>\n",
              "    </tr>\n",
              "    <tr>\n",
              "      <th>6</th>\n",
              "      <td>David</td>\n",
              "      <td>USA</td>\n",
              "      <td>Banker</td>\n",
              "      <td>R</td>\n",
              "      <td>S</td>\n",
              "    </tr>\n",
              "    <tr>\n",
              "      <th>7</th>\n",
              "      <td>Park</td>\n",
              "      <td>Korea</td>\n",
              "      <td>Student</td>\n",
              "      <td>R</td>\n",
              "      <td>T</td>\n",
              "    </tr>\n",
              "  </tbody>\n",
              "</table>\n",
              "</div>\n",
              "      <button class=\"colab-df-convert\" onclick=\"convertToInteractive('df-6ce3d839-3f23-4bc7-83a1-3dd5b547aa06')\"\n",
              "              title=\"Convert this dataframe to an interactive table.\"\n",
              "              style=\"display:none;\">\n",
              "        \n",
              "  <svg xmlns=\"http://www.w3.org/2000/svg\" height=\"24px\"viewBox=\"0 0 24 24\"\n",
              "       width=\"24px\">\n",
              "    <path d=\"M0 0h24v24H0V0z\" fill=\"none\"/>\n",
              "    <path d=\"M18.56 5.44l.94 2.06.94-2.06 2.06-.94-2.06-.94-.94-2.06-.94 2.06-2.06.94zm-11 1L8.5 8.5l.94-2.06 2.06-.94-2.06-.94L8.5 2.5l-.94 2.06-2.06.94zm10 10l.94 2.06.94-2.06 2.06-.94-2.06-.94-.94-2.06-.94 2.06-2.06.94z\"/><path d=\"M17.41 7.96l-1.37-1.37c-.4-.4-.92-.59-1.43-.59-.52 0-1.04.2-1.43.59L10.3 9.45l-7.72 7.72c-.78.78-.78 2.05 0 2.83L4 21.41c.39.39.9.59 1.41.59.51 0 1.02-.2 1.41-.59l7.78-7.78 2.81-2.81c.8-.78.8-2.07 0-2.86zM5.41 20L4 18.59l7.72-7.72 1.47 1.35L5.41 20z\"/>\n",
              "  </svg>\n",
              "      </button>\n",
              "      \n",
              "  <style>\n",
              "    .colab-df-container {\n",
              "      display:flex;\n",
              "      flex-wrap:wrap;\n",
              "      gap: 12px;\n",
              "    }\n",
              "\n",
              "    .colab-df-convert {\n",
              "      background-color: #E8F0FE;\n",
              "      border: none;\n",
              "      border-radius: 50%;\n",
              "      cursor: pointer;\n",
              "      display: none;\n",
              "      fill: #1967D2;\n",
              "      height: 32px;\n",
              "      padding: 0 0 0 0;\n",
              "      width: 32px;\n",
              "    }\n",
              "\n",
              "    .colab-df-convert:hover {\n",
              "      background-color: #E2EBFA;\n",
              "      box-shadow: 0px 1px 2px rgba(60, 64, 67, 0.3), 0px 1px 3px 1px rgba(60, 64, 67, 0.15);\n",
              "      fill: #174EA6;\n",
              "    }\n",
              "\n",
              "    [theme=dark] .colab-df-convert {\n",
              "      background-color: #3B4455;\n",
              "      fill: #D2E3FC;\n",
              "    }\n",
              "\n",
              "    [theme=dark] .colab-df-convert:hover {\n",
              "      background-color: #434B5C;\n",
              "      box-shadow: 0px 1px 3px 1px rgba(0, 0, 0, 0.15);\n",
              "      filter: drop-shadow(0px 1px 2px rgba(0, 0, 0, 0.3));\n",
              "      fill: #FFFFFF;\n",
              "    }\n",
              "  </style>\n",
              "\n",
              "      <script>\n",
              "        const buttonEl =\n",
              "          document.querySelector('#df-6ce3d839-3f23-4bc7-83a1-3dd5b547aa06 button.colab-df-convert');\n",
              "        buttonEl.style.display =\n",
              "          google.colab.kernel.accessAllowed ? 'block' : 'none';\n",
              "\n",
              "        async function convertToInteractive(key) {\n",
              "          const element = document.querySelector('#df-6ce3d839-3f23-4bc7-83a1-3dd5b547aa06');\n",
              "          const dataTable =\n",
              "            await google.colab.kernel.invokeFunction('convertToInteractive',\n",
              "                                                     [key], {});\n",
              "          if (!dataTable) return;\n",
              "\n",
              "          const docLinkHtml = 'Like what you see? Visit the ' +\n",
              "            '<a target=\"_blank\" href=https://colab.research.google.com/notebooks/data_table.ipynb>data table notebook</a>'\n",
              "            + ' to learn more about interactive tables.';\n",
              "          element.innerHTML = '';\n",
              "          dataTable['output_type'] = 'display_data';\n",
              "          await google.colab.output.renderOutput(dataTable, element);\n",
              "          const docLink = document.createElement('div');\n",
              "          docLink.innerHTML = docLinkHtml;\n",
              "          element.appendChild(docLink);\n",
              "        }\n",
              "      </script>\n",
              "    </div>\n",
              "  </div>\n",
              "  "
            ]
          },
          "metadata": {},
          "execution_count": 12
        }
      ]
    },
    {
      "cell_type": "code",
      "source": [
        "df_enc = df.copy()"
      ],
      "metadata": {
        "id": "PnIQYdvEeegp"
      },
      "execution_count": 13,
      "outputs": []
    },
    {
      "cell_type": "markdown",
      "source": [
        "- LabelEncoding하는 방법\n",
        "    - 판다스에서 직접하는 방법\n",
        "    - sklearn을 이용하는 방법"
      ],
      "metadata": {
        "id": "j8ibT-6Idm1I"
      }
    },
    {
      "cell_type": "code",
      "source": [
        "from sklearn.preprocessing import OrdinalEncoder\n",
        "\n",
        "# Hand 칼럼 ordinal [+] : R, L, B(양손잡이)를 숫자로 인코딩\n",
        "# Hand column은 순서가 없는 nominal data : 항상 정수로 변환해서 처리해야 함\n",
        "ord_enc = OrdinalEncoder()\n",
        "ord_enc.fit(df[['Hand']]) # 변환 작업할 때 python의 scikit-learn 사용 : 항상 fit -> transform 순서 \n",
        "ord_enc.transform(df[['Hand']])"
      ],
      "metadata": {
        "id": "we5Rk--fakFr",
        "colab": {
          "base_uri": "https://localhost:8080/"
        },
        "outputId": "7a539e71-68f4-4ff7-96b0-d86845796f8c"
      },
      "execution_count": 14,
      "outputs": [
        {
          "output_type": "execute_result",
          "data": {
            "text/plain": [
              "array([[1.],\n",
              "       [2.],\n",
              "       [2.],\n",
              "       [0.],\n",
              "       [1.],\n",
              "       [1.],\n",
              "       [2.],\n",
              "       [2.]])"
            ]
          },
          "metadata": {},
          "execution_count": 14
        }
      ]
    },
    {
      "cell_type": "code",
      "source": [
        "df_enc['Hand'] = ord_enc.transform(df[['Hand']])\n",
        "df_enc"
      ],
      "metadata": {
        "id": "5CXTawh0eQES"
      },
      "execution_count": null,
      "outputs": []
    },
    {
      "cell_type": "markdown",
      "source": [
        "- Hand는 순서가 없는 Norminal 변수인데 0 < 1 < 2로 인코딩되어서 차후 모델이 학습될 때 이 순서를 결과에 반영할 수 있게 됨\n",
        "\n",
        "- 이런 경우 원핫인코딩을 사용하는 것이 더 좋음"
      ],
      "metadata": {
        "id": "DOwm5HpjevX8"
      }
    },
    {
      "cell_type": "code",
      "source": [
        "# 정수로 변환하는 방법 1. 1,2,3,4.... 로 변경 : '크기'순으로 분류되어서는 안 되므로 1번 방법은 사용할 수 없음\n",
        "# 2. category 개수만큼 0을 채우고, 해당하는 항목에만 1을 채우는 원핫 인코딩\n",
        "from sklearn.preprocessing import OneHotEncoder\n",
        "\n",
        "# Hand 칼럼 onehot [+]\n",
        "oh_enc = OneHotEncoder(sparse=False)\n",
        "oh_enc.fit(df[['Hand']])\n",
        "oh_enc.transform(df[['Hand']])"
      ],
      "metadata": {
        "id": "lm0KTFhdenwl",
        "colab": {
          "base_uri": "https://localhost:8080/"
        },
        "outputId": "e3c366b2-14a6-4e36-9d0a-a24a86b222ce"
      },
      "execution_count": 15,
      "outputs": [
        {
          "output_type": "execute_result",
          "data": {
            "text/plain": [
              "array([[0., 1., 0.],\n",
              "       [0., 0., 1.],\n",
              "       [0., 0., 1.],\n",
              "       [1., 0., 0.],\n",
              "       [0., 1., 0.],\n",
              "       [0., 1., 0.],\n",
              "       [0., 0., 1.],\n",
              "       [0., 0., 1.]])"
            ]
          },
          "metadata": {},
          "execution_count": 15
        }
      ]
    },
    {
      "cell_type": "code",
      "source": [
        "oh_enc.get_feature_names_out()"
      ],
      "metadata": {
        "id": "lCZZtTKtfVn0"
      },
      "execution_count": null,
      "outputs": []
    },
    {
      "cell_type": "code",
      "source": [
        "df_enc = pd.concat( [df_enc, pd.DataFrame(oh_enc.transform(df[['Hand']]), \n",
        "                    columns=oh_enc.get_feature_names_out())], axis=1).drop('Hand', axis=1)\n",
        "df_enc"
      ],
      "metadata": {
        "id": "ojEQn_jIfcOD"
      },
      "execution_count": null,
      "outputs": []
    },
    {
      "cell_type": "markdown",
      "source": [
        "- Height는 순서가 있는 Ordinal 변수 이므로 그대로 OrdinalEncoding"
      ],
      "metadata": {
        "id": "z21UlGHri_Ni"
      }
    },
    {
      "cell_type": "code",
      "source": [
        "ord_enc.fit(df[['Height']])\n",
        "ord_enc.transform(df[['Height']])"
      ],
      "metadata": {
        "id": "adtYVleyikdW",
        "colab": {
          "base_uri": "https://localhost:8080/"
        },
        "outputId": "22707dce-31e4-4ff9-de88-99751356ad7e"
      },
      "execution_count": 16,
      "outputs": [
        {
          "output_type": "execute_result",
          "data": {
            "text/plain": [
              "array([[2.],\n",
              "       [1.],\n",
              "       [0.],\n",
              "       [1.],\n",
              "       [2.],\n",
              "       [1.],\n",
              "       [1.],\n",
              "       [2.]])"
            ]
          },
          "metadata": {},
          "execution_count": 16
        }
      ]
    },
    {
      "cell_type": "markdown",
      "source": [
        "- 인코딩 된 결과를 보면  M:0 < S:1 < T:2 로 되어 S < M < T 라는 의도된 순서를 지키지 못함\n",
        "\n",
        "- 순서대로 하기 위해 카테고리 순서를 직접 입력"
      ],
      "metadata": {
        "id": "0UwC5EaujTZi"
      }
    },
    {
      "cell_type": "code",
      "source": [
        "# height 칼럼 ordinal 순서 지켜서[+]\n",
        "# 순서가 있는 데이터는 정수로 변환할 때 순서를 지켜야 함\n",
        "ord_enc = OrdinalEncoder(categories=[['S','M','T']])\n",
        "ord_enc.fit(df[['Height']])\n",
        "ord_enc.transform(df[['Height']])\n",
        "\n",
        "# 즉 순서가 없는 데이터는 원핫인코딩(OneHotEncoder)\n",
        "# 순서가 있는 데이터는 내가 순서를 직접 지정해주고 변환(OrdinalEncoder)"
      ],
      "metadata": {
        "id": "dxtb6-ctjRjB",
        "colab": {
          "base_uri": "https://localhost:8080/"
        },
        "outputId": "5f58836f-6513-4656-dc17-b5629e81eb52"
      },
      "execution_count": 18,
      "outputs": [
        {
          "output_type": "execute_result",
          "data": {
            "text/plain": [
              "array([[2.],\n",
              "       [0.],\n",
              "       [1.],\n",
              "       [0.],\n",
              "       [2.],\n",
              "       [0.],\n",
              "       [0.],\n",
              "       [2.]])"
            ]
          },
          "metadata": {},
          "execution_count": 18
        }
      ]
    },
    {
      "cell_type": "markdown",
      "source": [
        "![image.png](data:image/png;base64,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)\n",
        "\n",
        "- 트리 기반 모델을 사용하면 순서 상관 없음"
      ],
      "metadata": {
        "id": "lX1o8B1pVYNN"
      }
    },
    {
      "cell_type": "markdown",
      "source": [
        "-결과를 보면 S:0 < M:1 < T:2 로 제대로 인코딩 된 것을 확인"
      ],
      "metadata": {
        "id": "uu41uEQskLdn"
      }
    },
    {
      "cell_type": "code",
      "source": [
        "df_enc['Height'] = ord_enc.transform(df[['Height']])\n",
        "df_enc"
      ],
      "metadata": {
        "id": "h67WoNIojs7N"
      },
      "execution_count": null,
      "outputs": []
    },
    {
      "cell_type": "code",
      "source": [
        ""
      ],
      "metadata": {
        "id": "2SYh33AXkXJA"
      },
      "execution_count": null,
      "outputs": []
    }
  ]
}
