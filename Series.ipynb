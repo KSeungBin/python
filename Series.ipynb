{
  "cells": [
    {
      "cell_type": "markdown",
      "metadata": {
        "id": "view-in-github",
        "colab_type": "text"
      },
      "source": [
        "<a href=\"https://colab.research.google.com/github/KSeungBin/python/blob/master/Series.ipynb\" target=\"_parent\"><img src=\"https://colab.research.google.com/assets/colab-badge.svg\" alt=\"Open In Colab\"/></a>"
      ]
    },
    {
      "cell_type": "markdown",
      "metadata": {
        "id": "H160RN68eO_9"
      },
      "source": [
        "## 판다스 (Pandas) 라이브러리"
      ]
    },
    {
      "cell_type": "markdown",
      "metadata": {
        "id": "eGuVsv3TePAD"
      },
      "source": [
        "### 데이터 타입 변환"
      ]
    },
    {
      "cell_type": "markdown",
      "metadata": {
        "id": "CCkwd-KWePAE"
      },
      "source": [
        "시리즈에 저장된 데이터가 문자열 타입으로 저장돼 있다고 가정해봅시다. 이러한 경우 덧셈 및 뺄셈 등의 연산을 적용할 수 없기 때문에 데이터 타입을 변경할 수 있어야 합니다. "
      ]
    },
    {
      "cell_type": "code",
      "execution_count": 2,
      "metadata": {
        "colab": {
          "base_uri": "https://localhost:8080/"
        },
        "id": "BBuwJifHePAE",
        "outputId": "119be058-ae51-4305-905c-fac54fd6be60"
      },
      "outputs": [
        {
          "output_type": "stream",
          "name": "stdout",
          "text": [
            "object\n"
          ]
        }
      ],
      "source": [
        "from pandas import Series\n",
        "s = Series([\"100\", \"200\", \"300\"])\n",
        "print(s.dtype) # data type : pandas에서 문자열은 object로 표현됨"
      ]
    },
    {
      "cell_type": "code",
      "source": [
        "# python에서 데이터 타입 중요!! \"100\" + 10 하면 error 발생\n",
        "# int(\"100\") + 10 해야 정상 작동함\n",
        "s + 10 "
      ],
      "metadata": {
        "colab": {
          "base_uri": "https://localhost:8080/",
          "height": 456
        },
        "id": "VBmdG_qAe_4H",
        "outputId": "b9980608-c603-4b32-f221-fd3375385b4a"
      },
      "execution_count": 3,
      "outputs": [
        {
          "output_type": "error",
          "ename": "TypeError",
          "evalue": "ignored",
          "traceback": [
            "\u001b[0;31m---------------------------------------------------------------------------\u001b[0m",
            "\u001b[0;31mTypeError\u001b[0m                                 Traceback (most recent call last)",
            "\u001b[0;32m/usr/local/lib/python3.7/dist-packages/pandas/core/ops/array_ops.py\u001b[0m in \u001b[0;36m_na_arithmetic_op\u001b[0;34m(left, right, op, is_cmp)\u001b[0m\n\u001b[1;32m    165\u001b[0m     \u001b[0;32mtry\u001b[0m\u001b[0;34m:\u001b[0m\u001b[0;34m\u001b[0m\u001b[0;34m\u001b[0m\u001b[0m\n\u001b[0;32m--> 166\u001b[0;31m         \u001b[0mresult\u001b[0m \u001b[0;34m=\u001b[0m \u001b[0mfunc\u001b[0m\u001b[0;34m(\u001b[0m\u001b[0mleft\u001b[0m\u001b[0;34m,\u001b[0m \u001b[0mright\u001b[0m\u001b[0;34m)\u001b[0m\u001b[0;34m\u001b[0m\u001b[0;34m\u001b[0m\u001b[0m\n\u001b[0m\u001b[1;32m    167\u001b[0m     \u001b[0;32mexcept\u001b[0m \u001b[0mTypeError\u001b[0m\u001b[0;34m:\u001b[0m\u001b[0;34m\u001b[0m\u001b[0;34m\u001b[0m\u001b[0m\n",
            "\u001b[0;32m/usr/local/lib/python3.7/dist-packages/pandas/core/computation/expressions.py\u001b[0m in \u001b[0;36mevaluate\u001b[0;34m(op, a, b, use_numexpr)\u001b[0m\n\u001b[1;32m    238\u001b[0m             \u001b[0;31m# error: \"None\" not callable\u001b[0m\u001b[0;34m\u001b[0m\u001b[0;34m\u001b[0m\u001b[0;34m\u001b[0m\u001b[0m\n\u001b[0;32m--> 239\u001b[0;31m             \u001b[0;32mreturn\u001b[0m \u001b[0m_evaluate\u001b[0m\u001b[0;34m(\u001b[0m\u001b[0mop\u001b[0m\u001b[0;34m,\u001b[0m \u001b[0mop_str\u001b[0m\u001b[0;34m,\u001b[0m \u001b[0ma\u001b[0m\u001b[0;34m,\u001b[0m \u001b[0mb\u001b[0m\u001b[0;34m)\u001b[0m  \u001b[0;31m# type: ignore[misc]\u001b[0m\u001b[0;34m\u001b[0m\u001b[0;34m\u001b[0m\u001b[0m\n\u001b[0m\u001b[1;32m    240\u001b[0m     \u001b[0;32mreturn\u001b[0m \u001b[0m_evaluate_standard\u001b[0m\u001b[0;34m(\u001b[0m\u001b[0mop\u001b[0m\u001b[0;34m,\u001b[0m \u001b[0mop_str\u001b[0m\u001b[0;34m,\u001b[0m \u001b[0ma\u001b[0m\u001b[0;34m,\u001b[0m \u001b[0mb\u001b[0m\u001b[0;34m)\u001b[0m\u001b[0;34m\u001b[0m\u001b[0;34m\u001b[0m\u001b[0m\n",
            "\u001b[0;32m/usr/local/lib/python3.7/dist-packages/pandas/core/computation/expressions.py\u001b[0m in \u001b[0;36m_evaluate_numexpr\u001b[0;34m(op, op_str, a, b)\u001b[0m\n\u001b[1;32m    127\u001b[0m     \u001b[0;32mif\u001b[0m \u001b[0mresult\u001b[0m \u001b[0;32mis\u001b[0m \u001b[0;32mNone\u001b[0m\u001b[0;34m:\u001b[0m\u001b[0;34m\u001b[0m\u001b[0;34m\u001b[0m\u001b[0m\n\u001b[0;32m--> 128\u001b[0;31m         \u001b[0mresult\u001b[0m \u001b[0;34m=\u001b[0m \u001b[0m_evaluate_standard\u001b[0m\u001b[0;34m(\u001b[0m\u001b[0mop\u001b[0m\u001b[0;34m,\u001b[0m \u001b[0mop_str\u001b[0m\u001b[0;34m,\u001b[0m \u001b[0ma\u001b[0m\u001b[0;34m,\u001b[0m \u001b[0mb\u001b[0m\u001b[0;34m)\u001b[0m\u001b[0;34m\u001b[0m\u001b[0;34m\u001b[0m\u001b[0m\n\u001b[0m\u001b[1;32m    129\u001b[0m \u001b[0;34m\u001b[0m\u001b[0m\n",
            "\u001b[0;32m/usr/local/lib/python3.7/dist-packages/pandas/core/computation/expressions.py\u001b[0m in \u001b[0;36m_evaluate_standard\u001b[0;34m(op, op_str, a, b)\u001b[0m\n\u001b[1;32m     68\u001b[0m         \u001b[0m_store_test_result\u001b[0m\u001b[0;34m(\u001b[0m\u001b[0;32mFalse\u001b[0m\u001b[0;34m)\u001b[0m\u001b[0;34m\u001b[0m\u001b[0;34m\u001b[0m\u001b[0m\n\u001b[0;32m---> 69\u001b[0;31m     \u001b[0;32mreturn\u001b[0m \u001b[0mop\u001b[0m\u001b[0;34m(\u001b[0m\u001b[0ma\u001b[0m\u001b[0;34m,\u001b[0m \u001b[0mb\u001b[0m\u001b[0;34m)\u001b[0m\u001b[0;34m\u001b[0m\u001b[0;34m\u001b[0m\u001b[0m\n\u001b[0m\u001b[1;32m     70\u001b[0m \u001b[0;34m\u001b[0m\u001b[0m\n",
            "\u001b[0;31mTypeError\u001b[0m: can only concatenate str (not \"int\") to str",
            "\nDuring handling of the above exception, another exception occurred:\n",
            "\u001b[0;31mTypeError\u001b[0m                                 Traceback (most recent call last)",
            "\u001b[0;32m<ipython-input-3-eab397ecb903>\u001b[0m in \u001b[0;36m<module>\u001b[0;34m()\u001b[0m\n\u001b[1;32m      1\u001b[0m \u001b[0;31m# python에서 데이터 타입 중요!! \"100\" + 10 하면 error 발생\u001b[0m\u001b[0;34m\u001b[0m\u001b[0;34m\u001b[0m\u001b[0;34m\u001b[0m\u001b[0m\n\u001b[1;32m      2\u001b[0m \u001b[0;31m# int(\"100\") + 10 해야 정상 작동함\u001b[0m\u001b[0;34m\u001b[0m\u001b[0;34m\u001b[0m\u001b[0;34m\u001b[0m\u001b[0m\n\u001b[0;32m----> 3\u001b[0;31m \u001b[0ms\u001b[0m \u001b[0;34m+\u001b[0m \u001b[0;36m10\u001b[0m\u001b[0;34m\u001b[0m\u001b[0;34m\u001b[0m\u001b[0m\n\u001b[0m",
            "\u001b[0;32m/usr/local/lib/python3.7/dist-packages/pandas/core/ops/common.py\u001b[0m in \u001b[0;36mnew_method\u001b[0;34m(self, other)\u001b[0m\n\u001b[1;32m     67\u001b[0m         \u001b[0mother\u001b[0m \u001b[0;34m=\u001b[0m \u001b[0mitem_from_zerodim\u001b[0m\u001b[0;34m(\u001b[0m\u001b[0mother\u001b[0m\u001b[0;34m)\u001b[0m\u001b[0;34m\u001b[0m\u001b[0;34m\u001b[0m\u001b[0m\n\u001b[1;32m     68\u001b[0m \u001b[0;34m\u001b[0m\u001b[0m\n\u001b[0;32m---> 69\u001b[0;31m         \u001b[0;32mreturn\u001b[0m \u001b[0mmethod\u001b[0m\u001b[0;34m(\u001b[0m\u001b[0mself\u001b[0m\u001b[0;34m,\u001b[0m \u001b[0mother\u001b[0m\u001b[0;34m)\u001b[0m\u001b[0;34m\u001b[0m\u001b[0;34m\u001b[0m\u001b[0m\n\u001b[0m\u001b[1;32m     70\u001b[0m \u001b[0;34m\u001b[0m\u001b[0m\n\u001b[1;32m     71\u001b[0m     \u001b[0;32mreturn\u001b[0m \u001b[0mnew_method\u001b[0m\u001b[0;34m\u001b[0m\u001b[0;34m\u001b[0m\u001b[0m\n",
            "\u001b[0;32m/usr/local/lib/python3.7/dist-packages/pandas/core/arraylike.py\u001b[0m in \u001b[0;36m__add__\u001b[0;34m(self, other)\u001b[0m\n\u001b[1;32m     90\u001b[0m     \u001b[0;34m@\u001b[0m\u001b[0munpack_zerodim_and_defer\u001b[0m\u001b[0;34m(\u001b[0m\u001b[0;34m\"__add__\"\u001b[0m\u001b[0;34m)\u001b[0m\u001b[0;34m\u001b[0m\u001b[0;34m\u001b[0m\u001b[0m\n\u001b[1;32m     91\u001b[0m     \u001b[0;32mdef\u001b[0m \u001b[0m__add__\u001b[0m\u001b[0;34m(\u001b[0m\u001b[0mself\u001b[0m\u001b[0;34m,\u001b[0m \u001b[0mother\u001b[0m\u001b[0;34m)\u001b[0m\u001b[0;34m:\u001b[0m\u001b[0;34m\u001b[0m\u001b[0;34m\u001b[0m\u001b[0m\n\u001b[0;32m---> 92\u001b[0;31m         \u001b[0;32mreturn\u001b[0m \u001b[0mself\u001b[0m\u001b[0;34m.\u001b[0m\u001b[0m_arith_method\u001b[0m\u001b[0;34m(\u001b[0m\u001b[0mother\u001b[0m\u001b[0;34m,\u001b[0m \u001b[0moperator\u001b[0m\u001b[0;34m.\u001b[0m\u001b[0madd\u001b[0m\u001b[0;34m)\u001b[0m\u001b[0;34m\u001b[0m\u001b[0;34m\u001b[0m\u001b[0m\n\u001b[0m\u001b[1;32m     93\u001b[0m \u001b[0;34m\u001b[0m\u001b[0m\n\u001b[1;32m     94\u001b[0m     \u001b[0;34m@\u001b[0m\u001b[0munpack_zerodim_and_defer\u001b[0m\u001b[0;34m(\u001b[0m\u001b[0;34m\"__radd__\"\u001b[0m\u001b[0;34m)\u001b[0m\u001b[0;34m\u001b[0m\u001b[0;34m\u001b[0m\u001b[0m\n",
            "\u001b[0;32m/usr/local/lib/python3.7/dist-packages/pandas/core/series.py\u001b[0m in \u001b[0;36m_arith_method\u001b[0;34m(self, other, op)\u001b[0m\n\u001b[1;32m   5524\u001b[0m \u001b[0;34m\u001b[0m\u001b[0m\n\u001b[1;32m   5525\u001b[0m         \u001b[0;32mwith\u001b[0m \u001b[0mnp\u001b[0m\u001b[0;34m.\u001b[0m\u001b[0merrstate\u001b[0m\u001b[0;34m(\u001b[0m\u001b[0mall\u001b[0m\u001b[0;34m=\u001b[0m\u001b[0;34m\"ignore\"\u001b[0m\u001b[0;34m)\u001b[0m\u001b[0;34m:\u001b[0m\u001b[0;34m\u001b[0m\u001b[0;34m\u001b[0m\u001b[0m\n\u001b[0;32m-> 5526\u001b[0;31m             \u001b[0mresult\u001b[0m \u001b[0;34m=\u001b[0m \u001b[0mops\u001b[0m\u001b[0;34m.\u001b[0m\u001b[0marithmetic_op\u001b[0m\u001b[0;34m(\u001b[0m\u001b[0mlvalues\u001b[0m\u001b[0;34m,\u001b[0m \u001b[0mrvalues\u001b[0m\u001b[0;34m,\u001b[0m \u001b[0mop\u001b[0m\u001b[0;34m)\u001b[0m\u001b[0;34m\u001b[0m\u001b[0;34m\u001b[0m\u001b[0m\n\u001b[0m\u001b[1;32m   5527\u001b[0m \u001b[0;34m\u001b[0m\u001b[0m\n\u001b[1;32m   5528\u001b[0m         \u001b[0;32mreturn\u001b[0m \u001b[0mself\u001b[0m\u001b[0;34m.\u001b[0m\u001b[0m_construct_result\u001b[0m\u001b[0;34m(\u001b[0m\u001b[0mresult\u001b[0m\u001b[0;34m,\u001b[0m \u001b[0mname\u001b[0m\u001b[0;34m=\u001b[0m\u001b[0mres_name\u001b[0m\u001b[0;34m)\u001b[0m\u001b[0;34m\u001b[0m\u001b[0;34m\u001b[0m\u001b[0m\n",
            "\u001b[0;32m/usr/local/lib/python3.7/dist-packages/pandas/core/ops/array_ops.py\u001b[0m in \u001b[0;36marithmetic_op\u001b[0;34m(left, right, op)\u001b[0m\n\u001b[1;32m    222\u001b[0m         \u001b[0m_bool_arith_check\u001b[0m\u001b[0;34m(\u001b[0m\u001b[0mop\u001b[0m\u001b[0;34m,\u001b[0m \u001b[0mleft\u001b[0m\u001b[0;34m,\u001b[0m \u001b[0mright\u001b[0m\u001b[0;34m)\u001b[0m\u001b[0;34m\u001b[0m\u001b[0;34m\u001b[0m\u001b[0m\n\u001b[1;32m    223\u001b[0m \u001b[0;34m\u001b[0m\u001b[0m\n\u001b[0;32m--> 224\u001b[0;31m         \u001b[0mres_values\u001b[0m \u001b[0;34m=\u001b[0m \u001b[0m_na_arithmetic_op\u001b[0m\u001b[0;34m(\u001b[0m\u001b[0mleft\u001b[0m\u001b[0;34m,\u001b[0m \u001b[0mright\u001b[0m\u001b[0;34m,\u001b[0m \u001b[0mop\u001b[0m\u001b[0;34m)\u001b[0m\u001b[0;34m\u001b[0m\u001b[0;34m\u001b[0m\u001b[0m\n\u001b[0m\u001b[1;32m    225\u001b[0m \u001b[0;34m\u001b[0m\u001b[0m\n\u001b[1;32m    226\u001b[0m     \u001b[0;32mreturn\u001b[0m \u001b[0mres_values\u001b[0m\u001b[0;34m\u001b[0m\u001b[0;34m\u001b[0m\u001b[0m\n",
            "\u001b[0;32m/usr/local/lib/python3.7/dist-packages/pandas/core/ops/array_ops.py\u001b[0m in \u001b[0;36m_na_arithmetic_op\u001b[0;34m(left, right, op, is_cmp)\u001b[0m\n\u001b[1;32m    171\u001b[0m             \u001b[0;31m# Don't do this for comparisons, as that will handle complex numbers\u001b[0m\u001b[0;34m\u001b[0m\u001b[0;34m\u001b[0m\u001b[0;34m\u001b[0m\u001b[0m\n\u001b[1;32m    172\u001b[0m             \u001b[0;31m#  incorrectly, see GH#32047\u001b[0m\u001b[0;34m\u001b[0m\u001b[0;34m\u001b[0m\u001b[0;34m\u001b[0m\u001b[0m\n\u001b[0;32m--> 173\u001b[0;31m             \u001b[0mresult\u001b[0m \u001b[0;34m=\u001b[0m \u001b[0m_masked_arith_op\u001b[0m\u001b[0;34m(\u001b[0m\u001b[0mleft\u001b[0m\u001b[0;34m,\u001b[0m \u001b[0mright\u001b[0m\u001b[0;34m,\u001b[0m \u001b[0mop\u001b[0m\u001b[0;34m)\u001b[0m\u001b[0;34m\u001b[0m\u001b[0;34m\u001b[0m\u001b[0m\n\u001b[0m\u001b[1;32m    174\u001b[0m         \u001b[0;32melse\u001b[0m\u001b[0;34m:\u001b[0m\u001b[0;34m\u001b[0m\u001b[0;34m\u001b[0m\u001b[0m\n\u001b[1;32m    175\u001b[0m             \u001b[0;32mraise\u001b[0m\u001b[0;34m\u001b[0m\u001b[0;34m\u001b[0m\u001b[0m\n",
            "\u001b[0;32m/usr/local/lib/python3.7/dist-packages/pandas/core/ops/array_ops.py\u001b[0m in \u001b[0;36m_masked_arith_op\u001b[0;34m(x, y, op)\u001b[0m\n\u001b[1;32m    129\u001b[0m \u001b[0;34m\u001b[0m\u001b[0m\n\u001b[1;32m    130\u001b[0m         \u001b[0;32mif\u001b[0m \u001b[0mmask\u001b[0m\u001b[0;34m.\u001b[0m\u001b[0many\u001b[0m\u001b[0;34m(\u001b[0m\u001b[0;34m)\u001b[0m\u001b[0;34m:\u001b[0m\u001b[0;34m\u001b[0m\u001b[0;34m\u001b[0m\u001b[0m\n\u001b[0;32m--> 131\u001b[0;31m             \u001b[0mresult\u001b[0m\u001b[0;34m[\u001b[0m\u001b[0mmask\u001b[0m\u001b[0;34m]\u001b[0m \u001b[0;34m=\u001b[0m \u001b[0mop\u001b[0m\u001b[0;34m(\u001b[0m\u001b[0mxrav\u001b[0m\u001b[0;34m[\u001b[0m\u001b[0mmask\u001b[0m\u001b[0;34m]\u001b[0m\u001b[0;34m,\u001b[0m \u001b[0my\u001b[0m\u001b[0;34m)\u001b[0m\u001b[0;34m\u001b[0m\u001b[0;34m\u001b[0m\u001b[0m\n\u001b[0m\u001b[1;32m    132\u001b[0m \u001b[0;34m\u001b[0m\u001b[0m\n\u001b[1;32m    133\u001b[0m     \u001b[0mnp\u001b[0m\u001b[0;34m.\u001b[0m\u001b[0mputmask\u001b[0m\u001b[0;34m(\u001b[0m\u001b[0mresult\u001b[0m\u001b[0;34m,\u001b[0m \u001b[0;34m~\u001b[0m\u001b[0mmask\u001b[0m\u001b[0;34m,\u001b[0m \u001b[0mnp\u001b[0m\u001b[0;34m.\u001b[0m\u001b[0mnan\u001b[0m\u001b[0;34m)\u001b[0m\u001b[0;34m\u001b[0m\u001b[0;34m\u001b[0m\u001b[0m\n",
            "\u001b[0;31mTypeError\u001b[0m: can only concatenate str (not \"int\") to str"
          ]
        }
      ]
    },
    {
      "cell_type": "markdown",
      "metadata": {
        "id": "dzhAN3tUePAI"
      },
      "source": [
        "`astype` 메서드는 데이터의 타입을 변경합니다. "
      ]
    },
    {
      "cell_type": "code",
      "execution_count": 4,
      "metadata": {
        "colab": {
          "base_uri": "https://localhost:8080/"
        },
        "id": "SJW_mD8uePAI",
        "outputId": "9d12b119-86a6-4045-ddd2-baf50dca0fe5"
      },
      "outputs": [
        {
          "output_type": "stream",
          "name": "stdout",
          "text": [
            "object\n"
          ]
        }
      ],
      "source": [
        "import numpy as np\n",
        "s.astype(np.uint64) # 대부분의 메서드는 값을 반환하므로 변수에 바인딩해야 한다\n",
        "print(s.dtype)"
      ]
    },
    {
      "cell_type": "code",
      "source": [
        "import numpy as np\n",
        "s = s.astype(np.uint64)\n",
        "print(s.dtype)"
      ],
      "metadata": {
        "colab": {
          "base_uri": "https://localhost:8080/"
        },
        "id": "TaOgz-pnfi-Z",
        "outputId": "50031de7-a965-42ae-b05b-3cd1ca0f78ed"
      },
      "execution_count": 5,
      "outputs": [
        {
          "output_type": "stream",
          "name": "stdout",
          "text": [
            "uint64\n"
          ]
        }
      ]
    },
    {
      "cell_type": "markdown",
      "metadata": {
        "id": "OKGN-EWPePAJ"
      },
      "source": [
        "만약 문자열 데이터에 콤마(`,`)가 파함돼 있다면 `astype` 메서드는 변환에 실패하고 에러 메시지를 출력합니다.   "
      ]
    },
    {
      "cell_type": "code",
      "execution_count": 6,
      "metadata": {
        "colab": {
          "base_uri": "https://localhost:8080/"
        },
        "id": "AoLOTgKCePAK",
        "outputId": "38047cdb-f307-4501-ef0d-c5d66e87c694"
      },
      "outputs": [
        {
          "output_type": "stream",
          "name": "stdout",
          "text": [
            "0    1,000\n",
            "1    2,000\n",
            "2    3,000\n",
            "dtype: object\n",
            "0         \n",
            "1    2,000\n",
            "2    3,000\n",
            "dtype: object\n"
          ]
        }
      ],
      "source": [
        "s = Series([\"1,000\", \"2,000\", \"3,000\"])\n",
        "print(s.replace(\",\",\"\"))  # series이 replace method는 완벽하게 똑같은 문자열만 바꾼다\n",
        "print(s.replace(\"1,000\",\"\"))"
      ]
    },
    {
      "cell_type": "code",
      "source": [
        "# 문자열의 replace 함수는?\n",
        "a = \"1,000\"\n",
        "a.replace(\",\",\"\")"
      ],
      "metadata": {
        "colab": {
          "base_uri": "https://localhost:8080/",
          "height": 35
        },
        "id": "SlWmS1EjgrBw",
        "outputId": "9017ee59-5b5f-4cc1-a476-68181c6647ec"
      },
      "execution_count": 7,
      "outputs": [
        {
          "output_type": "execute_result",
          "data": {
            "text/plain": [
              "'1000'"
            ],
            "application/vnd.google.colaboratory.intrinsic+json": {
              "type": "string"
            }
          },
          "metadata": {},
          "execution_count": 7
        }
      ]
    },
    {
      "cell_type": "code",
      "source": [
        "# 이름만 같을 뿐, 다른 클래스에 정의된 완전히 다른 함수 -> 따라서 replace 함수의 사용법도 전혀 다르다.\n",
        "class MyStr:\n",
        "  def replace(self, x, y):\n",
        "    pass\n",
        "\n",
        "class MySeries:\n",
        "  def replace(self, x, y):\n",
        "    pass"
      ],
      "metadata": {
        "id": "Pzw_jrHIgc4h"
      },
      "execution_count": null,
      "outputs": []
    },
    {
      "cell_type": "markdown",
      "source": [
        "정규식 : 문자열의 패턴을 검색  \n",
        "- regex101.com 에서 정규식 연습할 수 있다"
      ],
      "metadata": {
        "id": "1NEzBHZrkWwA"
      }
    },
    {
      "cell_type": "code",
      "source": [
        "# series class의 replace method가 패턴을 검사해서 치환하는 방법\n",
        "s = Series([\"1,000\", \"2,000\", \"3,000\"])\n",
        "print(s.replace(\",\",\"\",regex=True))  # replace는 정규식(문자열을 컨트롤할 수 있는 식)을 지원하므로, 다양한 옵션 사용 가능\n",
        "print(s.replace(\"\\d{3}\",\"\",regex=True)) # 숫자 3개가 연속되어 나오면 zz로 바꿔라\n",
        "s.replace(\",\",\"\",regex=True).astype(np.int16)"
      ],
      "metadata": {
        "colab": {
          "base_uri": "https://localhost:8080/"
        },
        "id": "yoDdNXFFg51h",
        "outputId": "be22984f-cd25-4d9f-9e58-66faa7e4c8b5"
      },
      "execution_count": 12,
      "outputs": [
        {
          "output_type": "stream",
          "name": "stdout",
          "text": [
            "0    1000\n",
            "1    2000\n",
            "2    3000\n",
            "dtype: object\n",
            "0    1,\n",
            "1    2,\n",
            "2    3,\n",
            "dtype: object\n"
          ]
        },
        {
          "output_type": "execute_result",
          "data": {
            "text/plain": [
              "0    1000\n",
              "1    2000\n",
              "2    3000\n",
              "dtype: int16"
            ]
          },
          "metadata": {},
          "execution_count": 12
        }
      ]
    },
    {
      "cell_type": "markdown",
      "source": [
        "지금까지는 series의 method.  \n",
        "아래는 문자열 데이터가 저장되어 있을 때만 사용 가능"
      ],
      "metadata": {
        "id": "PEKPR0W2h173"
      }
    },
    {
      "cell_type": "code",
      "source": [
        "s.str[0]"
      ],
      "metadata": {
        "colab": {
          "base_uri": "https://localhost:8080/"
        },
        "id": "D8ltcqC4h5Mz",
        "outputId": "a57c2471-d6d0-4665-d09d-549dbcb39231"
      },
      "execution_count": 13,
      "outputs": [
        {
          "output_type": "execute_result",
          "data": {
            "text/plain": [
              "0    1\n",
              "1    2\n",
              "2    3\n",
              "dtype: object"
            ]
          },
          "metadata": {},
          "execution_count": 13
        }
      ]
    },
    {
      "cell_type": "code",
      "source": [
        "s.str[2:]"
      ],
      "metadata": {
        "colab": {
          "base_uri": "https://localhost:8080/"
        },
        "id": "PoIy9RZXh_BE",
        "outputId": "dce23f19-a30a-4811-f4d5-ed00d6fd8f84"
      },
      "execution_count": 16,
      "outputs": [
        {
          "output_type": "execute_result",
          "data": {
            "text/plain": [
              "0    000\n",
              "1    000\n",
              "2    000\n",
              "dtype: object"
            ]
          },
          "metadata": {},
          "execution_count": 16
        }
      ]
    },
    {
      "cell_type": "code",
      "source": [
        "# 문자열 이어붙이기\n",
        "t = s.str[0] + s.str[2:]\n",
        "t.astype(np.uint16)  # 변수에 저장해야 astype으로 변경한 데이터 타입이 반영됨"
      ],
      "metadata": {
        "colab": {
          "base_uri": "https://localhost:8080/"
        },
        "id": "JXIIiS6_iCa7",
        "outputId": "1316b9c1-a653-4d35-b580-31660413b675"
      },
      "execution_count": 18,
      "outputs": [
        {
          "output_type": "execute_result",
          "data": {
            "text/plain": [
              "0    1000\n",
              "1    2000\n",
              "2    3000\n",
              "dtype: uint16"
            ]
          },
          "metadata": {},
          "execution_count": 18
        }
      ]
    },
    {
      "cell_type": "code",
      "source": [
        "s.str.replace(\",\",\"\").astype(np.uint16)  # 문자열의 replace를 broadcasting하는 것처럼 사용할 수 있다"
      ],
      "metadata": {
        "colab": {
          "base_uri": "https://localhost:8080/"
        },
        "id": "CYr_1Tk-ied_",
        "outputId": "cf94ee33-21c9-4840-cd84-490a21536904"
      },
      "execution_count": 19,
      "outputs": [
        {
          "output_type": "execute_result",
          "data": {
            "text/plain": [
              "0    1000\n",
              "1    2000\n",
              "2    3000\n",
              "dtype: uint16"
            ]
          },
          "metadata": {},
          "execution_count": 19
        }
      ]
    },
    {
      "cell_type": "code",
      "source": [
        "%timeit s.replace(\",\",\"\", regex=True).astype(np.uint16)  # 이걸 쓰자!!!"
      ],
      "metadata": {
        "colab": {
          "base_uri": "https://localhost:8080/"
        },
        "id": "_kqhkaF4jM1_",
        "outputId": "b1c3e98f-a2ef-47bd-e157-1f3b32f747bf"
      },
      "execution_count": 21,
      "outputs": [
        {
          "output_type": "stream",
          "name": "stdout",
          "text": [
            "10000 loops, best of 5: 158 µs per loop\n"
          ]
        }
      ]
    },
    {
      "cell_type": "code",
      "source": [
        "%timeit (s.str[0] + s.str[2:]).astype(np.uint16)"
      ],
      "metadata": {
        "colab": {
          "base_uri": "https://localhost:8080/"
        },
        "id": "8GuPG0mhjD6T",
        "outputId": "41a6ee7c-6b87-4619-a322-5909955159a3"
      },
      "execution_count": 26,
      "outputs": [
        {
          "output_type": "stream",
          "name": "stdout",
          "text": [
            "1000 loops, best of 5: 581 µs per loop\n"
          ]
        }
      ]
    },
    {
      "cell_type": "code",
      "source": [
        "t = s.str[0] + s.str[2:]\n",
        "%timeit t.astype(np.uint16)"
      ],
      "metadata": {
        "colab": {
          "base_uri": "https://localhost:8080/"
        },
        "id": "OmqAILtLkHk3",
        "outputId": "771c7446-991e-419f-db28-ce7ca5b0b68b"
      },
      "execution_count": 27,
      "outputs": [
        {
          "output_type": "stream",
          "name": "stdout",
          "text": [
            "10000 loops, best of 5: 66.1 µs per loop\n"
          ]
        }
      ]
    },
    {
      "cell_type": "code",
      "source": [
        "%timeit s.str.replace(\",\",\"\").astype(np.uint16)"
      ],
      "metadata": {
        "colab": {
          "base_uri": "https://localhost:8080/"
        },
        "id": "a0zzgMKEi9RA",
        "outputId": "be57a24f-54f5-4709-e602-9d34befccce4"
      },
      "execution_count": 23,
      "outputs": [
        {
          "output_type": "stream",
          "name": "stdout",
          "text": [
            "1000 loops, best of 5: 294 µs per loop\n"
          ]
        }
      ]
    },
    {
      "cell_type": "markdown",
      "metadata": {
        "id": "1sdMliBVePAL"
      },
      "source": [
        "`ValueError: invalid literal for int() with base 10: '1,000'`"
      ]
    },
    {
      "cell_type": "markdown",
      "metadata": {
        "id": "hGExiugrePAL"
      },
      "source": [
        "시리즈의 `replace` 메서드를 사용하면 데이터를 한 번에 치환할 수 있습니다. "
      ]
    },
    {
      "cell_type": "code",
      "execution_count": null,
      "metadata": {
        "id": "gnJcmvvhePAM",
        "outputId": "b4c7a187-2bca-4a70-e6f9-480b872b8d9f"
      },
      "outputs": [
        {
          "data": {
            "text/plain": [
              "0    1,000\n",
              "1    2,000\n",
              "2    3,000\n",
              "dtype: object"
            ]
          },
          "execution_count": 9,
          "metadata": {},
          "output_type": "execute_result"
        }
      ],
      "source": [
        "s = Series([\"1,000\", \"2,000\", \"3,000\"])\n",
        "s.replace(\"\", \"\")\n"
      ]
    },
    {
      "cell_type": "code",
      "execution_count": 28,
      "metadata": {
        "colab": {
          "base_uri": "https://localhost:8080/"
        },
        "id": "Mwn7qQ0IePAN",
        "outputId": "b5502dca-fc33-47d7-b4d4-b7ce3cb34a66"
      },
      "outputs": [
        {
          "output_type": "execute_result",
          "data": {
            "text/plain": [
              "1    200\n",
              "dtype: int64"
            ]
          },
          "metadata": {},
          "execution_count": 28
        }
      ],
      "source": [
        "# 시리즈에 조건을 넣을 때 이중 조건 처리하는 법(&, |)\n",
        "s = Series([100, 200, 300])\n",
        "cond0 = s > 100\n",
        "cond1 = s < 300\n",
        "s.loc[cond0 & cond1] # 슬라이싱이므로 시리즈 반환"
      ]
    },
    {
      "cell_type": "code",
      "source": [
        "s.loc[(s>100) & (s<300)]"
      ],
      "metadata": {
        "colab": {
          "base_uri": "https://localhost:8080/"
        },
        "id": "187LvRE7mDEl",
        "outputId": "99327ec3-166f-470a-9404-805a97310b81"
      },
      "execution_count": 29,
      "outputs": [
        {
          "output_type": "execute_result",
          "data": {
            "text/plain": [
              "1    200\n",
              "dtype: int64"
            ]
          },
          "metadata": {},
          "execution_count": 29
        }
      ]
    },
    {
      "cell_type": "markdown",
      "metadata": {
        "id": "ay67mok-ePAN"
      },
      "source": [
        "`regex` 옵션을 추가하면 패턴을 검색한 후 치환을 시도합니다. (문자열의 replace와 이름은 동일하고 동작은 유사하지만 다른 클래스의 메서드입니다.)"
      ]
    },
    {
      "cell_type": "code",
      "execution_count": null,
      "metadata": {
        "id": "vwy3iwcKePAN"
      },
      "outputs": [],
      "source": [
        ""
      ]
    },
    {
      "cell_type": "markdown",
      "metadata": {
        "id": "viXaBY7KePAO"
      },
      "source": [
        "불필요한 데이터를 치환한 다음 타입을 변경합니다. "
      ]
    },
    {
      "cell_type": "code",
      "execution_count": null,
      "metadata": {
        "id": "5Ql1Yf7BePAO"
      },
      "outputs": [],
      "source": [
        ""
      ]
    },
    {
      "cell_type": "markdown",
      "metadata": {
        "id": "8xz4_7m5ePAO"
      },
      "source": [
        "Q. Series에 저장된 값을 다음과 같이 변경하라. \n",
        "\n",
        "| index | values | \n",
        "| ---- | ---- |\n",
        "| 0 | 38000 | \n",
        "| 1 | 28000 | "
      ]
    },
    {
      "cell_type": "code",
      "execution_count": 30,
      "metadata": {
        "colab": {
          "base_uri": "https://localhost:8080/"
        },
        "id": "j3gjn0-uePAP",
        "outputId": "f2dadbd2-8252-4da3-e063-7330d6358baf"
      },
      "outputs": [
        {
          "output_type": "execute_result",
          "data": {
            "text/plain": [
              "0     3만 8천\n",
              "1     2만 8천\n",
              "dtype: object"
            ]
          },
          "metadata": {},
          "execution_count": 30
        }
      ],
      "source": [
        "s = Series([\"3만 8천\", \" 2만 8천\"])\n",
        "s\n"
      ]
    },
    {
      "cell_type": "code",
      "source": [
        "s.replace(\"만 \",\"\",regex=True).replace(\"천\",\"\",regex=True).astype(np.uint32) * 1000 # np.uint64도 OK\n",
        "# replace는 시리즈를 반환"
      ],
      "metadata": {
        "colab": {
          "base_uri": "https://localhost:8080/"
        },
        "id": "h-00BQZWmLxh",
        "outputId": "d3ba1d6b-4e5f-4ea8-e804-1e5cfc5e57ec"
      },
      "execution_count": 33,
      "outputs": [
        {
          "output_type": "execute_result",
          "data": {
            "text/plain": [
              "0    38000\n",
              "1    28000\n",
              "dtype: uint32"
            ]
          },
          "metadata": {},
          "execution_count": 33
        }
      ]
    },
    {
      "cell_type": "code",
      "source": [
        "# 숫자가 아닌 것을 공백으로 치환하라는 정규식\n",
        "s.replace(\"\\D\",\"\",regex=True).astype(np.uint64) * 1000"
      ],
      "metadata": {
        "colab": {
          "base_uri": "https://localhost:8080/"
        },
        "id": "5J92u0y7nA3Q",
        "outputId": "ab4d9d94-8ceb-4de1-8256-f1d9e441a833"
      },
      "execution_count": 34,
      "outputs": [
        {
          "output_type": "execute_result",
          "data": {
            "text/plain": [
              "0    38000\n",
              "1    28000\n",
              "dtype: uint64"
            ]
          },
          "metadata": {},
          "execution_count": 34
        }
      ]
    },
    {
      "cell_type": "markdown",
      "metadata": {
        "id": "ttw6ivzrePAP"
      },
      "source": [
        "### 시리즈와 Map\n",
        "시리즈를 사용하다 보면 시리즈가 지원하는 기본 연산 (덧셈, 뺄셈, 곱셈, 나눗셈) 이외에도 복잡한 형태의 사용자 정의 코드를 적용하고 싶은 경우가 있습니다. 예를 들어 시리즈에 저장된 성적을 학점으로 변경하기 위한 파이썬의 기본 함수는 없습니다. 사용자가 작성한 함수를 전체 시리즈에 적용하는 방법이 필요한데, 이를 `map` 함수로 해결합니다. "
      ]
    },
    {
      "cell_type": "code",
      "execution_count": 35,
      "metadata": {
        "colab": {
          "base_uri": "https://localhost:8080/"
        },
        "id": "FeHIxTG3ePAP",
        "outputId": "720fcbb0-2af3-4b7d-8a72-27334b0b7133"
      },
      "outputs": [
        {
          "output_type": "stream",
          "name": "stdout",
          "text": [
            "0     3\n",
            "1    13\n",
            "2    23\n",
            "dtype: int64\n"
          ]
        }
      ],
      "source": [
        "s = Series([3, 13, 23])\n",
        "print(s)"
      ]
    },
    {
      "cell_type": "code",
      "source": [
        "# map : 하나의 함수를 입력받아 mapping하는 메서드(시리즈에 있는 데이터 하나를 func에 넣어 -> 참이 반환되면 동일한 인덱스에 반환된 값을 저장 -> 반복해서 하나의 시리즈를 만들어 반환)\n",
        "def func(x):\n",
        "  return x\n",
        "\n",
        "s.map(func)"
      ],
      "metadata": {
        "colab": {
          "base_uri": "https://localhost:8080/"
        },
        "id": "7OkjerDSnV91",
        "outputId": "163634a4-ab64-469e-ea81-4bdced6e4adf"
      },
      "execution_count": 36,
      "outputs": [
        {
          "output_type": "execute_result",
          "data": {
            "text/plain": [
              "0     3\n",
              "1    13\n",
              "2    23\n",
              "dtype: int64"
            ]
          },
          "metadata": {},
          "execution_count": 36
        }
      ]
    },
    {
      "cell_type": "markdown",
      "metadata": {
        "id": "9e3_HWCOePAQ"
      },
      "source": [
        "시리즈의 점수를 다음 조건의 학점으로 변경해 봅시다. \n",
        "\n",
        "| 점수구간 | 학점 |\n",
        "| ---- | ---- |\n",
        "| 20 - 29 | A |\n",
        "| 10 - 19 | B |\n",
        "| 0 - 9 | C |"
      ]
    },
    {
      "cell_type": "code",
      "execution_count": 37,
      "metadata": {
        "colab": {
          "base_uri": "https://localhost:8080/"
        },
        "id": "1rOgJMVzePAQ",
        "outputId": "19e61063-f422-40d4-eeae-2d13ac8c754b"
      },
      "outputs": [
        {
          "output_type": "execute_result",
          "data": {
            "text/plain": [
              "0    C\n",
              "1    B\n",
              "2    A\n",
              "dtype: object"
            ]
          },
          "metadata": {},
          "execution_count": 37
        }
      ],
      "source": [
        "# map method는 python이 제공하지 않는 복잡한 기능을 내 데이터에 적용할 때 사용(내가 정의한 특정 함수를 전체 데이터에 적용)\n",
        "# 수치형 데이터를 범주형 데이터로 변환하는 함수\n",
        "def func(x):\n",
        "  if x < 10:  # 하나의 입력에 대해 반드시 한 개의 반환값을 지정해야 함\n",
        "    return \"C\"\n",
        "  elif x < 20:\n",
        "    return \"B\"\n",
        "  else:\n",
        "    return \"A\"\n",
        "\n",
        "s.map(func) # map method의 parameter는 func()라고 쓰지 않고, 함수의 이름만 넘겨준다."
      ]
    },
    {
      "cell_type": "code",
      "source": [
        "# map 함수의 원리를 그려보자\n",
        "def aa(x):\n",
        "  print(\"hi\")\n",
        "  x()  # 1. x = bb : bb 함수를 직접 호출하므로 bb의 정의부로 이동\n",
        "  print(\"bye\")\n",
        "\n",
        "def bb():\n",
        "  print(\"how are you?\")  # 2.  들여쓰기 된 코드를 실행하면 다시 aa함수로 돌아간다\n",
        "\n",
        "aa(bb)"
      ],
      "metadata": {
        "colab": {
          "base_uri": "https://localhost:8080/"
        },
        "id": "BS1z5cNypFiY",
        "outputId": "be59ca1d-a2d9-473c-e6f8-97fa0ef9f9b7"
      },
      "execution_count": 39,
      "outputs": [
        {
          "output_type": "stream",
          "name": "stdout",
          "text": [
            "hi\n",
            "how are you?\n",
            "bye\n"
          ]
        }
      ]
    },
    {
      "cell_type": "code",
      "source": [
        "!pip install pybithumb "
      ],
      "metadata": {
        "colab": {
          "base_uri": "https://localhost:8080/"
        },
        "id": "twNa2dVHqEnp",
        "outputId": "64277d30-8ab1-4c7b-8aa0-d2ed8cf72154"
      },
      "execution_count": 40,
      "outputs": [
        {
          "output_type": "stream",
          "name": "stdout",
          "text": [
            "Collecting pybithumb\n",
            "  Downloading pybithumb-1.0.21-py3-none-any.whl (9.9 kB)\n",
            "Requirement already satisfied: requests in /usr/local/lib/python3.7/dist-packages (from pybithumb) (2.23.0)\n",
            "Collecting websockets\n",
            "  Downloading websockets-10.3-cp37-cp37m-manylinux_2_5_x86_64.manylinux1_x86_64.manylinux_2_12_x86_64.manylinux2010_x86_64.whl (112 kB)\n",
            "\u001b[K     |████████████████████████████████| 112 kB 8.8 MB/s \n",
            "\u001b[?25hRequirement already satisfied: pandas in /usr/local/lib/python3.7/dist-packages (from pybithumb) (1.3.5)\n",
            "Requirement already satisfied: html5lib in /usr/local/lib/python3.7/dist-packages (from pybithumb) (1.0.1)\n",
            "Requirement already satisfied: bs4 in /usr/local/lib/python3.7/dist-packages (from pybithumb) (0.0.1)\n",
            "Collecting datetime\n",
            "  Downloading DateTime-4.4-py2.py3-none-any.whl (51 kB)\n",
            "\u001b[K     |████████████████████████████████| 51 kB 407 kB/s \n",
            "\u001b[?25hRequirement already satisfied: beautifulsoup4 in /usr/local/lib/python3.7/dist-packages (from bs4->pybithumb) (4.6.3)\n",
            "Collecting zope.interface\n",
            "  Downloading zope.interface-5.4.0-cp37-cp37m-manylinux2010_x86_64.whl (251 kB)\n",
            "\u001b[K     |████████████████████████████████| 251 kB 52.8 MB/s \n",
            "\u001b[?25hRequirement already satisfied: pytz in /usr/local/lib/python3.7/dist-packages (from datetime->pybithumb) (2018.9)\n",
            "Requirement already satisfied: six>=1.9 in /usr/local/lib/python3.7/dist-packages (from html5lib->pybithumb) (1.15.0)\n",
            "Requirement already satisfied: webencodings in /usr/local/lib/python3.7/dist-packages (from html5lib->pybithumb) (0.5.1)\n",
            "Requirement already satisfied: numpy>=1.17.3 in /usr/local/lib/python3.7/dist-packages (from pandas->pybithumb) (1.21.5)\n",
            "Requirement already satisfied: python-dateutil>=2.7.3 in /usr/local/lib/python3.7/dist-packages (from pandas->pybithumb) (2.8.2)\n",
            "Requirement already satisfied: certifi>=2017.4.17 in /usr/local/lib/python3.7/dist-packages (from requests->pybithumb) (2021.10.8)\n",
            "Requirement already satisfied: chardet<4,>=3.0.2 in /usr/local/lib/python3.7/dist-packages (from requests->pybithumb) (3.0.4)\n",
            "Requirement already satisfied: urllib3!=1.25.0,!=1.25.1,<1.26,>=1.21.1 in /usr/local/lib/python3.7/dist-packages (from requests->pybithumb) (1.24.3)\n",
            "Requirement already satisfied: idna<3,>=2.5 in /usr/local/lib/python3.7/dist-packages (from requests->pybithumb) (2.10)\n",
            "Requirement already satisfied: setuptools in /usr/local/lib/python3.7/dist-packages (from zope.interface->datetime->pybithumb) (57.4.0)\n",
            "Installing collected packages: zope.interface, websockets, datetime, pybithumb\n",
            "Successfully installed datetime-4.4 pybithumb-1.0.21 websockets-10.3 zope.interface-5.4.0\n"
          ]
        }
      ]
    },
    {
      "cell_type": "code",
      "source": [
        "import pybithumb\n",
        "\n",
        "btc = pybithumb.get_candlestick(\"BTC\")\n",
        "print(btc)                      # 2차원 데이터를 관리하는 pandas(dataframe)\n",
        "print(btc['close'])             # 1차원 데이터를 관리하는 pandas(series)\n",
        "print(btc['close'].values)    # series의 인스턴스 변수를 가져옴 : 값만 가져왔기 때문에 ndarray"
      ],
      "metadata": {
        "colab": {
          "base_uri": "https://localhost:8080/"
        },
        "id": "gf7mJo7OqKxS",
        "outputId": "49487df8-70fe-4e0d-f7b7-a1922c2a574a"
      },
      "execution_count": 51,
      "outputs": [
        {
          "output_type": "stream",
          "name": "stdout",
          "text": [
            "                           open        high         low       close  \\\n",
            "time                                                                  \n",
            "2013-12-27 00:00:00    737000.0    755000.0    737000.0    755000.0   \n",
            "2013-12-28 00:00:00    750000.0    750000.0    750000.0    750000.0   \n",
            "2013-12-29 00:00:00    750000.0    750000.0    728000.0    739000.0   \n",
            "2013-12-30 00:00:00    740000.0    772000.0    740000.0    768000.0   \n",
            "2013-12-31 00:00:00    768000.0    800000.0    763000.0    768000.0   \n",
            "...                         ...         ...         ...         ...   \n",
            "2022-04-15 00:00:00  50630000.0  50796000.0  49605000.0  50379000.0   \n",
            "2022-04-16 00:00:00  50380000.0  50802000.0  50179000.0  50605000.0   \n",
            "2022-04-17 00:00:00  50600000.0  50723000.0  50128000.0  50321000.0   \n",
            "2022-04-18 00:00:00  50301000.0  50563000.0  48523000.0  49418000.0   \n",
            "2022-04-19 11:00:00  49405000.0  51222000.0  49027000.0  50530000.0   \n",
            "\n",
            "                          volume  \n",
            "time                              \n",
            "2013-12-27 00:00:00     3.780000  \n",
            "2013-12-28 00:00:00    12.000000  \n",
            "2013-12-29 00:00:00    19.058000  \n",
            "2013-12-30 00:00:00     9.488973  \n",
            "2013-12-31 00:00:00    18.650350  \n",
            "...                          ...  \n",
            "2022-04-15 00:00:00  2170.489141  \n",
            "2022-04-16 00:00:00  1096.512534  \n",
            "2022-04-17 00:00:00  1020.035569  \n",
            "2022-04-18 00:00:00  2271.629746  \n",
            "2022-04-19 11:00:00  1165.061896  \n",
            "\n",
            "[2946 rows x 5 columns]\n",
            "time\n",
            "2013-12-27 00:00:00      755000.0\n",
            "2013-12-28 00:00:00      750000.0\n",
            "2013-12-29 00:00:00      739000.0\n",
            "2013-12-30 00:00:00      768000.0\n",
            "2013-12-31 00:00:00      768000.0\n",
            "                          ...    \n",
            "2022-04-15 00:00:00    50379000.0\n",
            "2022-04-16 00:00:00    50605000.0\n",
            "2022-04-17 00:00:00    50321000.0\n",
            "2022-04-18 00:00:00    49418000.0\n",
            "2022-04-19 11:00:00    50530000.0\n",
            "Name: close, Length: 2946, dtype: float64\n",
            "[  755000.   750000.   739000. ... 50321000. 49418000. 50530000.]\n"
          ]
        }
      ]
    },
    {
      "cell_type": "code",
      "source": [
        "# 우선 시리즈에서 하나의 데이터를 꺼내 return하는 동작이 실행되는지 확인\n",
        "def func(x):  # x에는 755000.0 ...이 차례로 들어옴 (dtype이 float이므로 숫자 연산을 하면 됨)\n",
        "  return x\n",
        "btc['close'].map(func)"
      ],
      "metadata": {
        "colab": {
          "base_uri": "https://localhost:8080/"
        },
        "id": "pfYZ7wTuq76S",
        "outputId": "4247d766-20dd-49aa-b6df-db4d36812abd"
      },
      "execution_count": 47,
      "outputs": [
        {
          "output_type": "execute_result",
          "data": {
            "text/plain": [
              "time\n",
              "2013-12-27 00:00:00      755000.0\n",
              "2013-12-28 00:00:00      750000.0\n",
              "2013-12-29 00:00:00      739000.0\n",
              "2013-12-30 00:00:00      768000.0\n",
              "2013-12-31 00:00:00      768000.0\n",
              "                          ...    \n",
              "2022-04-15 00:00:00    50379000.0\n",
              "2022-04-16 00:00:00    50605000.0\n",
              "2022-04-17 00:00:00    50321000.0\n",
              "2022-04-18 00:00:00    49418000.0\n",
              "2022-04-19 11:00:00    50531000.0\n",
              "Name: close, Length: 2946, dtype: float64"
            ]
          },
          "metadata": {},
          "execution_count": 47
        }
      ]
    },
    {
      "cell_type": "code",
      "source": [
        "def func(x):\n",
        "  if x > 40000000:\n",
        "    return \"expensive\"\n",
        "  elif x > 20000000:\n",
        "    return \"reasonable\"\n",
        "  else:\n",
        "    return \"have to buy\"\n",
        "\n",
        "buy_or_giveup = btc['close'].map(func)\n",
        "buy_or_giveup   "
      ],
      "metadata": {
        "colab": {
          "base_uri": "https://localhost:8080/"
        },
        "id": "jphj1TAGrHIG",
        "outputId": "b8336ad7-2532-4667-b518-43a32bb5e7be"
      },
      "execution_count": 48,
      "outputs": [
        {
          "output_type": "execute_result",
          "data": {
            "text/plain": [
              "time\n",
              "2013-12-27 00:00:00    have to buy\n",
              "2013-12-28 00:00:00    have to buy\n",
              "2013-12-29 00:00:00    have to buy\n",
              "2013-12-30 00:00:00    have to buy\n",
              "2013-12-31 00:00:00    have to buy\n",
              "                          ...     \n",
              "2022-04-15 00:00:00      expensive\n",
              "2022-04-16 00:00:00      expensive\n",
              "2022-04-17 00:00:00      expensive\n",
              "2022-04-18 00:00:00      expensive\n",
              "2022-04-19 11:00:00      expensive\n",
              "Name: close, Length: 2946, dtype: object"
            ]
          },
          "metadata": {},
          "execution_count": 48
        }
      ]
    },
    {
      "cell_type": "code",
      "source": [
        "buy_or_giveup.value_counts()"
      ],
      "metadata": {
        "colab": {
          "base_uri": "https://localhost:8080/"
        },
        "id": "q3cqO4Jmr3qB",
        "outputId": "3d9ae8bf-a98e-4a4b-9e7e-02db4e52da96"
      },
      "execution_count": 49,
      "outputs": [
        {
          "output_type": "execute_result",
          "data": {
            "text/plain": [
              "have to buy    2418\n",
              "expensive       416\n",
              "reasonable      112\n",
              "Name: close, dtype: int64"
            ]
          },
          "metadata": {},
          "execution_count": 49
        }
      ]
    },
    {
      "cell_type": "code",
      "source": [
        "buy_or_giveup.value_counts().plot.bar()"
      ],
      "metadata": {
        "colab": {
          "base_uri": "https://localhost:8080/",
          "height": 333
        },
        "id": "Rox3X20lsCiN",
        "outputId": "f8bf4209-4be8-4c6b-9fcd-306c1ee2a0d6"
      },
      "execution_count": 50,
      "outputs": [
        {
          "output_type": "execute_result",
          "data": {
            "text/plain": [
              "<matplotlib.axes._subplots.AxesSubplot at 0x7fe70d34b510>"
            ]
          },
          "metadata": {},
          "execution_count": 50
        },
        {
          "output_type": "display_data",
          "data": {
            "text/plain": [
              "<Figure size 432x288 with 1 Axes>"
            ],
            "image/png": "[encoded data removed]"
          },
          "metadata": {
            "needs_background": "light"
          }
        }
      ]
    },
    {
      "cell_type": "markdown",
      "metadata": {
        "id": "ZICnenj2ePAQ"
      },
      "source": [
        "`cut` 함수를 사용하면 더욱 쉽게 수치형 데이터를 범주형 데이터로 변환할 수 있습니다.   \n",
        "- `bins`와 `labels` 옵션을 사용합니다. "
      ]
    },
    {
      "cell_type": "code",
      "execution_count": null,
      "metadata": {
        "id": "3dCa6LwgePAQ"
      },
      "outputs": [],
      "source": [
        "# 수치형 데이터를 범주형 데이터로 쉽게 바꿀 수 있는 cut 함수(map을 짧게 표현 - record를 단 한 줄로 표현할 수도 있음)\n",
        "# 온라인 강의를 듣고 배우기"
      ]
    },
    {
      "cell_type": "markdown",
      "metadata": {
        "id": "10tzGLl1ePAR"
      },
      "source": [
        "Q. `map` 연산을 사용해서 시리즈에 저장된 값으로 학점을 판별하라.\n",
        "- 90점 이상이면 A\n",
        "- 70점 이상이면 B\n",
        "- 나머지 F\n",
        "\n",
        "연산 적용 결과\n",
        "```\n",
        "영수    A\n",
        "철수    B\n",
        "영희    F\n",
        "```"
      ]
    },
    {
      "cell_type": "code",
      "execution_count": null,
      "metadata": {
        "id": "5hZbiONdePAR"
      },
      "outputs": [],
      "source": [
        "s = Series([94, 74, 30], index=['영수', '철수', '영희'])\n"
      ]
    },
    {
      "cell_type": "markdown",
      "metadata": {
        "id": "zC7mQ1L9ePAR"
      },
      "source": [
        "Q. `map` 연산을 사용해서 시리즈에 저장된 값에 다음 연산을 적용하라. \n",
        "- 0 이상 이면 값을 2배 키우고,\n",
        "- 0 보다 작으면 값을 10 뺀다\n",
        "\n",
        "연산 적용 결과\n",
        "```\n",
        "0    20\n",
        "1     6\n",
        "2   -13\n",
        "dtype: int64\n",
        "```"
      ]
    },
    {
      "cell_type": "code",
      "execution_count": null,
      "metadata": {
        "id": "htSPxQhIePAR"
      },
      "outputs": [],
      "source": [
        "s = Series([10, 3, -3])"
      ]
    },
    {
      "cell_type": "markdown",
      "metadata": {
        "id": "lQ6qJo4mePAS"
      },
      "source": [
        "### 시리즈 정렬\n",
        "`sort_values` 메서드를 사용하면 쉽게 데이터를 정렬할 수 있습니다.  \n",
        "- `ascending` 값에 따라 오름차순 혹은 내림차순으로 정렬됩니다.   \n",
        "-> 온라인 강의로 대체"
      ]
    },
    {
      "cell_type": "code",
      "execution_count": null,
      "metadata": {
        "id": "P_UIa38YePAS"
      },
      "outputs": [],
      "source": [
        "from pandas import Series\n",
        "\n",
        "data = [3.1, 2.0, 10.1, 5.1]\n",
        "index = [\"000010\", \"000020\", \"000030\", \"000040\"]\n",
        "s = Series(data=data, index=index)\n",
        "\n"
      ]
    },
    {
      "cell_type": "markdown",
      "metadata": {
        "id": "IrHjW7hvePAS"
      },
      "source": [
        "`sort_index` 메서드는 인덱스를 기준으로 정렬합니다."
      ]
    },
    {
      "cell_type": "code",
      "execution_count": null,
      "metadata": {
        "id": "2v3PHQ3uePAS"
      },
      "outputs": [],
      "source": [
        ""
      ]
    },
    {
      "cell_type": "markdown",
      "metadata": {
        "id": "lUNepH-OePAS"
      },
      "source": [
        "### 데이터 순위\n",
        "`rank` 메서드는 순위를 측정합니다."
      ]
    },
    {
      "cell_type": "code",
      "execution_count": null,
      "metadata": {
        "id": "4EQjandhePAS"
      },
      "outputs": [],
      "source": [
        ""
      ]
    },
    {
      "cell_type": "markdown",
      "metadata": {
        "id": "rERhjJoyePAT"
      },
      "source": [
        "### 데이터 갯수 세기"
      ]
    },
    {
      "cell_type": "markdown",
      "metadata": {
        "id": "qE9IrusrePAT"
      },
      "source": [
        "시리즈에 저장된 데이터들의 출현 빈도를 세는 함수 `value_counts`"
      ]
    },
    {
      "cell_type": "code",
      "execution_count": null,
      "metadata": {
        "id": "Sw5MYG2lePAT"
      },
      "outputs": [],
      "source": [
        "import numpy as np\n",
        "\n",
        "s = Series(np.random.randint(10, size=100))\n"
      ]
    }
  ],
  "metadata": {
    "kernelspec": {
      "display_name": "Python 3",
      "language": "python",
      "name": "python3"
    },
    "language_info": {
      "codemirror_mode": {
        "name": "ipython",
        "version": 3
      },
      "file_extension": ".py",
      "mimetype": "text/x-python",
      "name": "python",
      "nbconvert_exporter": "python",
      "pygments_lexer": "ipython3",
      "version": "3.8.8"
    },
    "toc": {
      "base_numbering": 1,
      "nav_menu": {},
      "number_sections": true,
      "sideBar": true,
      "skip_h1_title": false,
      "title_cell": "Table of Contents",
      "title_sidebar": "Contents",
      "toc_cell": false,
      "toc_position": {},
      "toc_section_display": true,
      "toc_window_display": true
    },
    "colab": {
      "name": "Series.ipynb",
      "provenance": [],
      "collapsed_sections": [],
      "include_colab_link": true
    }
  },
  "nbformat": 4,
  "nbformat_minor": 0
}