{
  "cells": [
    {
      "cell_type": "markdown",
      "metadata": {
        "id": "view-in-github",
        "colab_type": "text"
      },
      "source": [
        "<a href=\"https://colab.research.google.com/github/KSeungBin/python/blob/master/Series.ipynb\" target=\"_parent\"><img src=\"https://colab.research.google.com/assets/colab-badge.svg\" alt=\"Open In Colab\"/></a>"
      ]
    },
    {
      "cell_type": "code",
      "source": [
        "# 모듈 : 클래스, 함수, 데이터 등이 모여있다\n",
        "!pip install pybithumb"
      ],
      "metadata": {
        "colab": {
          "base_uri": "https://localhost:8080/"
        },
        "id": "xyY-7z7TJDNH",
        "outputId": "edb2f054-d92f-4294-947d-0279fc24c349"
      },
      "execution_count": 1,
      "outputs": [
        {
          "output_type": "stream",
          "name": "stdout",
          "text": [
            "Collecting pybithumb\n",
            "  Downloading pybithumb-1.0.21-py3-none-any.whl (9.9 kB)\n",
            "Collecting datetime\n",
            "  Downloading DateTime-4.4-py2.py3-none-any.whl (51 kB)\n",
            "\u001b[K     |████████████████████████████████| 51 kB 409 kB/s \n",
            "\u001b[?25hRequirement already satisfied: pandas in /usr/local/lib/python3.7/dist-packages (from pybithumb) (1.3.5)\n",
            "Requirement already satisfied: html5lib in /usr/local/lib/python3.7/dist-packages (from pybithumb) (1.0.1)\n",
            "Requirement already satisfied: requests in /usr/local/lib/python3.7/dist-packages (from pybithumb) (2.23.0)\n",
            "Collecting websockets\n",
            "  Downloading websockets-10.3-cp37-cp37m-manylinux_2_5_x86_64.manylinux1_x86_64.manylinux_2_12_x86_64.manylinux2010_x86_64.whl (112 kB)\n",
            "\u001b[K     |████████████████████████████████| 112 kB 9.7 MB/s \n",
            "\u001b[?25hRequirement already satisfied: bs4 in /usr/local/lib/python3.7/dist-packages (from pybithumb) (0.0.1)\n",
            "Requirement already satisfied: beautifulsoup4 in /usr/local/lib/python3.7/dist-packages (from bs4->pybithumb) (4.6.3)\n",
            "Collecting zope.interface\n",
            "  Downloading zope.interface-5.4.0-cp37-cp37m-manylinux2010_x86_64.whl (251 kB)\n",
            "\u001b[K     |████████████████████████████████| 251 kB 44.5 MB/s \n",
            "\u001b[?25hRequirement already satisfied: pytz in /usr/local/lib/python3.7/dist-packages (from datetime->pybithumb) (2018.9)\n",
            "Requirement already satisfied: webencodings in /usr/local/lib/python3.7/dist-packages (from html5lib->pybithumb) (0.5.1)\n",
            "Requirement already satisfied: six>=1.9 in /usr/local/lib/python3.7/dist-packages (from html5lib->pybithumb) (1.15.0)\n",
            "Requirement already satisfied: numpy>=1.17.3 in /usr/local/lib/python3.7/dist-packages (from pandas->pybithumb) (1.21.5)\n",
            "Requirement already satisfied: python-dateutil>=2.7.3 in /usr/local/lib/python3.7/dist-packages (from pandas->pybithumb) (2.8.2)\n",
            "Requirement already satisfied: idna<3,>=2.5 in /usr/local/lib/python3.7/dist-packages (from requests->pybithumb) (2.10)\n",
            "Requirement already satisfied: certifi>=2017.4.17 in /usr/local/lib/python3.7/dist-packages (from requests->pybithumb) (2021.10.8)\n",
            "Requirement already satisfied: chardet<4,>=3.0.2 in /usr/local/lib/python3.7/dist-packages (from requests->pybithumb) (3.0.4)\n",
            "Requirement already satisfied: urllib3!=1.25.0,!=1.25.1,<1.26,>=1.21.1 in /usr/local/lib/python3.7/dist-packages (from requests->pybithumb) (1.24.3)\n",
            "Requirement already satisfied: setuptools in /usr/local/lib/python3.7/dist-packages (from zope.interface->datetime->pybithumb) (57.4.0)\n",
            "Installing collected packages: zope.interface, websockets, datetime, pybithumb\n",
            "Successfully installed datetime-4.4 pybithumb-1.0.21 websockets-10.3 zope.interface-5.4.0\n"
          ]
        }
      ]
    },
    {
      "cell_type": "code",
      "source": [
        "import pybithumb\n",
        "btc = pybithumb.get_candlestick(\"BTC\")  # 비트코인의 가격정보를 일자별로 정리(pandas - DataFrame : 2차원 데이터를 정리하는 자료구조)\n",
        "xrp = pybithumb.get_candlestick(\"XRP\")  # 종목2"
      ],
      "metadata": {
        "id": "BqTChzYVJQJn"
      },
      "execution_count": 3,
      "outputs": []
    },
    {
      "cell_type": "code",
      "source": [
        "# 여러 개 columns 중 종가(close)만을 출력하기\n",
        "btc['close'].values # ndarray가 모여 2차원 자료구조인 dataframe을 구성"
      ],
      "metadata": {
        "colab": {
          "base_uri": "https://localhost:8080/"
        },
        "id": "GRqbmZBmJZa_",
        "outputId": "76a45166-4380-46fd-cd57-18d5ba36b247"
      },
      "execution_count": 4,
      "outputs": [
        {
          "output_type": "execute_result",
          "data": {
            "text/plain": [
              "array([  755000.,   750000.,   739000., ..., 50321000., 49418000.,\n",
              "       50884000.])"
            ]
          },
          "metadata": {},
          "execution_count": 4
        }
      ]
    },
    {
      "cell_type": "code",
      "source": [
        "import matplotlib.pyplot as plt\n",
        "import numpy as np\n",
        "x = np.arange(len(btc['close'].values)) \n",
        "plt.plot(x, btc['close'].values)  # (x,y) 값을 넣으면 line chart를 그리는 plot method"
      ],
      "metadata": {
        "colab": {
          "base_uri": "https://localhost:8080/",
          "height": 294
        },
        "id": "U-Mlw3xmKGjT",
        "outputId": "f45f8aac-fc3f-42f8-d829-737ad3080b5f"
      },
      "execution_count": 5,
      "outputs": [
        {
          "output_type": "execute_result",
          "data": {
            "text/plain": [
              "[<matplotlib.lines.Line2D at 0x7f327bde6ed0>]"
            ]
          },
          "metadata": {},
          "execution_count": 5
        },
        {
          "output_type": "display_data",
          "data": {
            "text/plain": [
              "<Figure size 432x288 with 1 Axes>"
            ],
            "image/png": "[encoded data removed]"
          },
          "metadata": {
            "needs_background": "light"
          }
        }
      ]
    },
    {
      "cell_type": "code",
      "source": [
        "# btc['close'].values라고 쓰지 않아도 plt 라이브러리는 알아서 해석해줌. but, 둘의 사이즈가 다르다는 문제\n",
        "plt.scatter(btc['close'], xrp['close']) # 산포도 그리기"
      ],
      "metadata": {
        "colab": {
          "base_uri": "https://localhost:8080/",
          "height": 597
        },
        "id": "h4kgWUVSKr-2",
        "outputId": "788f0352-3dfd-4a34-858b-1be264992f1e"
      },
      "execution_count": 6,
      "outputs": [
        {
          "output_type": "error",
          "ename": "ValueError",
          "evalue": "ignored",
          "traceback": [
            "\u001b[0;31m---------------------------------------------------------------------------\u001b[0m",
            "\u001b[0;31mValueError\u001b[0m                                Traceback (most recent call last)",
            "\u001b[0;32m<ipython-input-6-dcca6925d48f>\u001b[0m in \u001b[0;36m<module>\u001b[0;34m()\u001b[0m\n\u001b[1;32m      1\u001b[0m \u001b[0;31m# btc['close'].values라고 쓰지 않아도 plt 라이브러리는 알아서 해석해줌. but, 둘의 사이즈가 다르다는 문제\u001b[0m\u001b[0;34m\u001b[0m\u001b[0;34m\u001b[0m\u001b[0;34m\u001b[0m\u001b[0m\n\u001b[0;32m----> 2\u001b[0;31m \u001b[0mplt\u001b[0m\u001b[0;34m.\u001b[0m\u001b[0mscatter\u001b[0m\u001b[0;34m(\u001b[0m\u001b[0mbtc\u001b[0m\u001b[0;34m[\u001b[0m\u001b[0;34m'close'\u001b[0m\u001b[0;34m]\u001b[0m\u001b[0;34m,\u001b[0m \u001b[0mxrp\u001b[0m\u001b[0;34m[\u001b[0m\u001b[0;34m'close'\u001b[0m\u001b[0;34m]\u001b[0m\u001b[0;34m)\u001b[0m \u001b[0;31m# 산포도 그리기\u001b[0m\u001b[0;34m\u001b[0m\u001b[0;34m\u001b[0m\u001b[0m\n\u001b[0m",
            "\u001b[0;32m/usr/local/lib/python3.7/dist-packages/matplotlib/pyplot.py\u001b[0m in \u001b[0;36mscatter\u001b[0;34m(x, y, s, c, marker, cmap, norm, vmin, vmax, alpha, linewidths, verts, edgecolors, plotnonfinite, data, **kwargs)\u001b[0m\n\u001b[1;32m   2814\u001b[0m         \u001b[0mverts\u001b[0m\u001b[0;34m=\u001b[0m\u001b[0mverts\u001b[0m\u001b[0;34m,\u001b[0m \u001b[0medgecolors\u001b[0m\u001b[0;34m=\u001b[0m\u001b[0medgecolors\u001b[0m\u001b[0;34m,\u001b[0m\u001b[0;34m\u001b[0m\u001b[0;34m\u001b[0m\u001b[0m\n\u001b[1;32m   2815\u001b[0m         plotnonfinite=plotnonfinite, **({\"data\": data} if data is not\n\u001b[0;32m-> 2816\u001b[0;31m         None else {}), **kwargs)\n\u001b[0m\u001b[1;32m   2817\u001b[0m     \u001b[0msci\u001b[0m\u001b[0;34m(\u001b[0m\u001b[0m__ret\u001b[0m\u001b[0;34m)\u001b[0m\u001b[0;34m\u001b[0m\u001b[0;34m\u001b[0m\u001b[0m\n\u001b[1;32m   2818\u001b[0m     \u001b[0;32mreturn\u001b[0m \u001b[0m__ret\u001b[0m\u001b[0;34m\u001b[0m\u001b[0;34m\u001b[0m\u001b[0m\n",
            "\u001b[0;32m/usr/local/lib/python3.7/dist-packages/matplotlib/__init__.py\u001b[0m in \u001b[0;36minner\u001b[0;34m(ax, data, *args, **kwargs)\u001b[0m\n\u001b[1;32m   1563\u001b[0m     \u001b[0;32mdef\u001b[0m \u001b[0minner\u001b[0m\u001b[0;34m(\u001b[0m\u001b[0max\u001b[0m\u001b[0;34m,\u001b[0m \u001b[0;34m*\u001b[0m\u001b[0margs\u001b[0m\u001b[0;34m,\u001b[0m \u001b[0mdata\u001b[0m\u001b[0;34m=\u001b[0m\u001b[0;32mNone\u001b[0m\u001b[0;34m,\u001b[0m \u001b[0;34m**\u001b[0m\u001b[0mkwargs\u001b[0m\u001b[0;34m)\u001b[0m\u001b[0;34m:\u001b[0m\u001b[0;34m\u001b[0m\u001b[0;34m\u001b[0m\u001b[0m\n\u001b[1;32m   1564\u001b[0m         \u001b[0;32mif\u001b[0m \u001b[0mdata\u001b[0m \u001b[0;32mis\u001b[0m \u001b[0;32mNone\u001b[0m\u001b[0;34m:\u001b[0m\u001b[0;34m\u001b[0m\u001b[0;34m\u001b[0m\u001b[0m\n\u001b[0;32m-> 1565\u001b[0;31m             \u001b[0;32mreturn\u001b[0m \u001b[0mfunc\u001b[0m\u001b[0;34m(\u001b[0m\u001b[0max\u001b[0m\u001b[0;34m,\u001b[0m \u001b[0;34m*\u001b[0m\u001b[0mmap\u001b[0m\u001b[0;34m(\u001b[0m\u001b[0msanitize_sequence\u001b[0m\u001b[0;34m,\u001b[0m \u001b[0margs\u001b[0m\u001b[0;34m)\u001b[0m\u001b[0;34m,\u001b[0m \u001b[0;34m**\u001b[0m\u001b[0mkwargs\u001b[0m\u001b[0;34m)\u001b[0m\u001b[0;34m\u001b[0m\u001b[0;34m\u001b[0m\u001b[0m\n\u001b[0m\u001b[1;32m   1566\u001b[0m \u001b[0;34m\u001b[0m\u001b[0m\n\u001b[1;32m   1567\u001b[0m         \u001b[0mbound\u001b[0m \u001b[0;34m=\u001b[0m \u001b[0mnew_sig\u001b[0m\u001b[0;34m.\u001b[0m\u001b[0mbind\u001b[0m\u001b[0;34m(\u001b[0m\u001b[0max\u001b[0m\u001b[0;34m,\u001b[0m \u001b[0;34m*\u001b[0m\u001b[0margs\u001b[0m\u001b[0;34m,\u001b[0m \u001b[0;34m**\u001b[0m\u001b[0mkwargs\u001b[0m\u001b[0;34m)\u001b[0m\u001b[0;34m\u001b[0m\u001b[0;34m\u001b[0m\u001b[0m\n",
            "\u001b[0;32m/usr/local/lib/python3.7/dist-packages/matplotlib/cbook/deprecation.py\u001b[0m in \u001b[0;36mwrapper\u001b[0;34m(*args, **kwargs)\u001b[0m\n\u001b[1;32m    356\u001b[0m                 \u001b[0;34mf\"%(removal)s.  If any parameter follows {name!r}, they \"\u001b[0m\u001b[0;34m\u001b[0m\u001b[0;34m\u001b[0m\u001b[0m\n\u001b[1;32m    357\u001b[0m                 f\"should be pass as keyword, not positionally.\")\n\u001b[0;32m--> 358\u001b[0;31m         \u001b[0;32mreturn\u001b[0m \u001b[0mfunc\u001b[0m\u001b[0;34m(\u001b[0m\u001b[0;34m*\u001b[0m\u001b[0margs\u001b[0m\u001b[0;34m,\u001b[0m \u001b[0;34m**\u001b[0m\u001b[0mkwargs\u001b[0m\u001b[0;34m)\u001b[0m\u001b[0;34m\u001b[0m\u001b[0;34m\u001b[0m\u001b[0m\n\u001b[0m\u001b[1;32m    359\u001b[0m \u001b[0;34m\u001b[0m\u001b[0m\n\u001b[1;32m    360\u001b[0m     \u001b[0;32mreturn\u001b[0m \u001b[0mwrapper\u001b[0m\u001b[0;34m\u001b[0m\u001b[0;34m\u001b[0m\u001b[0m\n",
            "\u001b[0;32m/usr/local/lib/python3.7/dist-packages/matplotlib/axes/_axes.py\u001b[0m in \u001b[0;36mscatter\u001b[0;34m(self, x, y, s, c, marker, cmap, norm, vmin, vmax, alpha, linewidths, verts, edgecolors, plotnonfinite, **kwargs)\u001b[0m\n\u001b[1;32m   4389\u001b[0m         \u001b[0my\u001b[0m \u001b[0;34m=\u001b[0m \u001b[0mnp\u001b[0m\u001b[0;34m.\u001b[0m\u001b[0mma\u001b[0m\u001b[0;34m.\u001b[0m\u001b[0mravel\u001b[0m\u001b[0;34m(\u001b[0m\u001b[0my\u001b[0m\u001b[0;34m)\u001b[0m\u001b[0;34m\u001b[0m\u001b[0;34m\u001b[0m\u001b[0m\n\u001b[1;32m   4390\u001b[0m         \u001b[0;32mif\u001b[0m \u001b[0mx\u001b[0m\u001b[0;34m.\u001b[0m\u001b[0msize\u001b[0m \u001b[0;34m!=\u001b[0m \u001b[0my\u001b[0m\u001b[0;34m.\u001b[0m\u001b[0msize\u001b[0m\u001b[0;34m:\u001b[0m\u001b[0;34m\u001b[0m\u001b[0;34m\u001b[0m\u001b[0m\n\u001b[0;32m-> 4391\u001b[0;31m             \u001b[0;32mraise\u001b[0m \u001b[0mValueError\u001b[0m\u001b[0;34m(\u001b[0m\u001b[0;34m\"x and y must be the same size\"\u001b[0m\u001b[0;34m)\u001b[0m\u001b[0;34m\u001b[0m\u001b[0;34m\u001b[0m\u001b[0m\n\u001b[0m\u001b[1;32m   4392\u001b[0m \u001b[0;34m\u001b[0m\u001b[0m\n\u001b[1;32m   4393\u001b[0m         \u001b[0;32mif\u001b[0m \u001b[0ms\u001b[0m \u001b[0;32mis\u001b[0m \u001b[0;32mNone\u001b[0m\u001b[0;34m:\u001b[0m\u001b[0;34m\u001b[0m\u001b[0;34m\u001b[0m\u001b[0m\n",
            "\u001b[0;31mValueError\u001b[0m: x and y must be the same size"
          ]
        },
        {
          "output_type": "display_data",
          "data": {
            "text/plain": [
              "<Figure size 432x288 with 1 Axes>"
            ],
            "image/png": "[encoded data removed]"
          },
          "metadata": {
            "needs_background": "light"
          }
        }
      ]
    },
    {
      "cell_type": "code",
      "source": [
        "len(btc['close'])"
      ],
      "metadata": {
        "colab": {
          "base_uri": "https://localhost:8080/"
        },
        "id": "yyMNrMPMLDAs",
        "outputId": "3cd04764-a353-442a-d049-8fe5d6e76e34"
      },
      "execution_count": 7,
      "outputs": [
        {
          "output_type": "execute_result",
          "data": {
            "text/plain": [
              "2946"
            ]
          },
          "metadata": {},
          "execution_count": 7
        }
      ]
    },
    {
      "cell_type": "code",
      "source": [
        "len(xrp['close'])"
      ],
      "metadata": {
        "colab": {
          "base_uri": "https://localhost:8080/"
        },
        "id": "QBAXUs8aLGvx",
        "outputId": "6176d46b-15aa-440f-f4d3-540e4f4e344d"
      },
      "execution_count": 8,
      "outputs": [
        {
          "output_type": "execute_result",
          "data": {
            "text/plain": [
              "1786"
            ]
          },
          "metadata": {},
          "execution_count": 8
        }
      ]
    },
    {
      "cell_type": "markdown",
      "source": [
        "![image.png](data:image/png;base64,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)"
      ],
      "metadata": {
        "id": "cyurnNcoXqZb"
      }
    },
    {
      "cell_type": "code",
      "source": [
        "# 1000개만 슬라이싱해서 둘의 사이즈를 통일하기\n",
        "# 양의 상관관계가 보임 -> regression : 이 상관관계를 가장 잘 표현하는 ax + b를 구하는 것\n",
        "plt.scatter(btc['close'].values[-1000:], xrp['close'].values[-1000:])"
      ],
      "metadata": {
        "colab": {
          "base_uri": "https://localhost:8080/",
          "height": 296
        },
        "id": "Px3sm2e0LJ3J",
        "outputId": "7d72a3d1-a020-49c0-b29a-8f22ceaabea3"
      },
      "execution_count": 9,
      "outputs": [
        {
          "output_type": "execute_result",
          "data": {
            "text/plain": [
              "<matplotlib.collections.PathCollection at 0x7f327b3bf990>"
            ]
          },
          "metadata": {},
          "execution_count": 9
        },
        {
          "output_type": "display_data",
          "data": {
            "text/plain": [
              "<Figure size 432x288 with 1 Axes>"
            ],
            "image/png": "[encoded data removed]"
          },
          "metadata": {
            "needs_background": "light"
          }
        }
      ]
    },
    {
      "cell_type": "code",
      "source": [
        "print(1e10) # 1 * 10의 10제곱\n",
        "print(1e7)  # 10의 7제곱"
      ],
      "metadata": {
        "colab": {
          "base_uri": "https://localhost:8080/"
        },
        "id": "werXjtmRLYyD",
        "outputId": "2a7418e9-00a6-4a7f-9f7d-3beb8836ebd3"
      },
      "execution_count": 10,
      "outputs": [
        {
          "output_type": "stream",
          "name": "stdout",
          "text": [
            "10000000000.0\n",
            "10000000.0\n"
          ]
        }
      ]
    },
    {
      "cell_type": "code",
      "source": [
        "# regression : ax + b로 모델링(비트코인의 가격으로 리플의 가격을 예측하기)\n",
        "# a, b를 구하는 방법 = (비트코인 가격 column과 1로 채워진 column을 하나의 행렬로 만든 후 pseudo inverse) * (리플의 가격 행렬)\n",
        "b = btc['close'].values[-1000:]\n",
        "b0 = b.reshape(1000, 1)  # b0 = b.reshape(-1,1)도 OK\n",
        "b0.shape"
      ],
      "metadata": {
        "colab": {
          "base_uri": "https://localhost:8080/"
        },
        "id": "v-dyRw_kL4H1",
        "outputId": "478a3fbd-b405-4c68-fc02-fd7ee6649857"
      },
      "execution_count": 11,
      "outputs": [
        {
          "output_type": "execute_result",
          "data": {
            "text/plain": [
              "(1000, 1)"
            ]
          },
          "metadata": {},
          "execution_count": 11
        }
      ]
    },
    {
      "cell_type": "code",
      "source": [
        "# 1로 구성된 ndarray 만들기\n",
        "# [1] * 1000 # 리스트 안에 1000개의 1을 채운다\n",
        "o = np.ones((1000,1), dtype=np.uint32)\n",
        "o.shape"
      ],
      "metadata": {
        "colab": {
          "base_uri": "https://localhost:8080/"
        },
        "id": "SFcXNNeGMrN9",
        "outputId": "5a32e6e6-4845-4913-8dda-cc1c65b96ef3"
      },
      "execution_count": 12,
      "outputs": [
        {
          "output_type": "execute_result",
          "data": {
            "text/plain": [
              "(1000, 1)"
            ]
          },
          "metadata": {},
          "execution_count": 12
        }
      ]
    },
    {
      "cell_type": "code",
      "source": [
        "# ndarray b0와 o를 합쳐 하나의 행렬로 만들기\n",
        "a = np.hstack((b0,o))  # horizontal(columns를 -> 방향으로 쌓는다)\n",
        "a.shape "
      ],
      "metadata": {
        "colab": {
          "base_uri": "https://localhost:8080/"
        },
        "id": "cB1kDtHLNQx2",
        "outputId": "68af1972-b856-4082-a206-509702ee4aa4"
      },
      "execution_count": 13,
      "outputs": [
        {
          "output_type": "execute_result",
          "data": {
            "text/plain": [
              "(1000, 2)"
            ]
          },
          "metadata": {},
          "execution_count": 13
        }
      ]
    },
    {
      "cell_type": "code",
      "source": [
        "# b 행렬 만들기\n",
        "x = xrp['close'].values[-1000:].reshape(-1,1)\n",
        "x.shape"
      ],
      "metadata": {
        "colab": {
          "base_uri": "https://localhost:8080/"
        },
        "id": "0gqdth-bNmQ7",
        "outputId": "b0c15210-ca55-4b3f-9042-1c576666456c"
      },
      "execution_count": 16,
      "outputs": [
        {
          "output_type": "execute_result",
          "data": {
            "text/plain": [
              "(1000, 1)"
            ]
          },
          "metadata": {},
          "execution_count": 16
        }
      ]
    },
    {
      "cell_type": "code",
      "source": [
        "print(np.linalg.pinv(a))   # inv는 정방행렬에 대한 역행렬을 구한다. (1000,2) 행렬이므로 pinv를 구해야 함\n",
        "v = np.linalg.pinv(a) @ x            # [[a], [b]] = a의 역행렬 * x 행렬\n",
        "a = v[0,0]\n",
        "b = v[1,0] "
      ],
      "metadata": {
        "colab": {
          "base_uri": "https://localhost:8080/"
        },
        "id": "SyvDMu9ANwhG",
        "outputId": "232487c4-1ce2-436d-ee44-233209c325b2"
      },
      "execution_count": 17,
      "outputs": [
        {
          "output_type": "stream",
          "name": "stdout",
          "text": [
            "[[-3.90817941e-11 -3.96972212e-11 -3.95554865e-11 ...  3.31637503e-11\n",
            "   3.14797180e-11  3.42137062e-11]\n",
            " [ 2.27164990e-03  2.29167477e-03  2.28706298e-03 ... -7.90876133e-05\n",
            "  -2.42922914e-05 -1.13251253e-04]]\n"
          ]
        }
      ]
    },
    {
      "cell_type": "code",
      "source": [
        "plt.scatter(btc['close'].values[-1000:], xrp['close'].values[-1000:])\n",
        "x = btc['close'].values[-1000:]  # x는 비트코인의 가격\n",
        "y = a*x + b\n",
        "plt.plot(x, y, color = 'r')   "
      ],
      "metadata": {
        "colab": {
          "base_uri": "https://localhost:8080/",
          "height": 296
        },
        "id": "RGG8EfGGOaJw",
        "outputId": "3753c66d-8762-42db-9b9d-ceb24144ff8f"
      },
      "execution_count": 18,
      "outputs": [
        {
          "output_type": "execute_result",
          "data": {
            "text/plain": [
              "[<matplotlib.lines.Line2D at 0x7f327b0a0d50>]"
            ]
          },
          "metadata": {},
          "execution_count": 18
        },
        {
          "output_type": "display_data",
          "data": {
            "text/plain": [
              "<Figure size 432x288 with 1 Axes>"
            ],
            "image/png": "[encoded data removed]"
          },
          "metadata": {
            "needs_background": "light"
          }
        }
      ]
    },
    {
      "cell_type": "markdown",
      "metadata": {
        "id": "p26TGomXI_rf"
      },
      "source": [
        "## 판다스 (Pandas) 라이브러리"
      ]
    },
    {
      "cell_type": "markdown",
      "metadata": {
        "id": "hTSkCn39I_rj"
      },
      "source": [
        "Pandas는 데이터 분석을 위한 고수준의 자료구조(1치원 데이터를 관리하는 series, 2차원 데이터를 관리하는 DataFrame) 와 데이터 분석 도구를 제공합니다.  \n",
        "- 여기서 고수준이란 사용자가 쉽게 데이터를 제어하고 시각화 할 수 있는 메서드를 의미합니다.\n",
        "\n",
        "판다스는 데이터 분석분야 에서 필수적으로 사용되는 중요한 모듈입니다. "
      ]
    },
    {
      "cell_type": "markdown",
      "metadata": {
        "id": "F_nvHmQxI_rk"
      },
      "source": [
        "<img src=\"https://i.ibb.co/Hh85f7j/series-0.png\" width=\"600\" height=\"400\" style=\"float:left\" />"
      ]
    },
    {
      "cell_type": "markdown",
      "metadata": {
        "id": "scXDJhtRI_rl"
      },
      "source": [
        "그림출처  \n",
        "https://plot.ly/pandas/2D-Histogram/  \n",
        "https://plot.ly/pandas/histograms/"
      ]
    },
    {
      "cell_type": "markdown",
      "metadata": {
        "id": "R8V-pUrKI_rl"
      },
      "source": [
        "판다스에는 <b>시리즈(Series)</b>와 <b>데이터 프레임 (DataFrame)</b> 두 개의 자료구조를 사용합니다. \n",
        "- 1차원 데이터를 관리하는 `Series`\n",
        "- 2차원 데이터를 관리하는 `DataFrame`"
      ]
    },
    {
      "cell_type": "markdown",
      "metadata": {
        "id": "Rrbv_NZCI_rm"
      },
      "source": [
        "파이썬의 기본자료구조(리스트, 튜플, 딕셔너리)의 부족한 부분을 보완해 보다 고수준으로 만든 자료구조로 numpy의 `ndarray`가 있었습니다.  \n",
        "ndarray는 수치 연산에 특화돼 있으며, 브로드캐스팅 기능으로 반복문을 사용하지 않고 `ndarray`의 모든 데이터에 연산 적용이 가능했었습니다.  판다스의 자료구조는 `ndarray`를 기반으로 행과 열에 이름을 붙여 가독성을 높이고 보다 범용적인 목적의 데이터를 관리해줍니다."
      ]
    },
    {
      "cell_type": "markdown",
      "metadata": {
        "id": "KspLg-xhI_rm"
      },
      "source": [
        "다양한 방식으로 import 할 수 있는데, 다음 세 가지 형태를 빈번하게 사용합니다. "
      ]
    },
    {
      "cell_type": "code",
      "execution_count": 19,
      "metadata": {
        "id": "brcPKhMgI_rn"
      },
      "outputs": [],
      "source": [
        "import pandas as pd\n",
        "from pandas import Series  # prefix(모듈, 패키지 이름) 없이 사용하기 위헤\n",
        "from pandas import DataFrame"
      ]
    },
    {
      "cell_type": "markdown",
      "metadata": {
        "id": "-0GbA-KXI_rs"
      },
      "source": [
        "### 시리즈 객체"
      ]
    },
    {
      "cell_type": "markdown",
      "metadata": {
        "id": "JuCoz4NyI_rs"
      },
      "source": [
        "리스트를 사용해서 시리즈 객체로 업그레이드 할 수 있습니다.  \n",
        "정확히 이야기하면 시리즈 클래스는 생성자로 하나의 리스트를 입력받는 겁니다.  "
      ]
    },
    {
      "cell_type": "code",
      "execution_count": 20,
      "metadata": {
        "colab": {
          "base_uri": "https://localhost:8080/"
        },
        "id": "U3FCMc9HI_rt",
        "outputId": "c8ab7212-65bc-4479-b50d-625f2f0c2ca2"
      },
      "outputs": [
        {
          "output_type": "stream",
          "name": "stdout",
          "text": [
            "0    가\n",
            "1    나\n",
            "2    다\n",
            "dtype: object\n"
          ]
        }
      ],
      "source": [
        "from pandas import Series\n",
        "import numpy as np\n",
        "\n",
        "data = [\"가\", \"나\", \"다\"]\n",
        "s = Series(data)  # series 객체: list를 넣어도 series는 시리즈 객체로 upgrade해줌\n",
        "print(s)"
      ]
    },
    {
      "cell_type": "code",
      "source": [
        "data = np.array([\"가\", \"나\", \"다\"])\n",
        "s = Series(data)  # series 객체: ndarray 넣어도 ok\n",
        "print(s)"
      ],
      "metadata": {
        "colab": {
          "base_uri": "https://localhost:8080/"
        },
        "id": "laix0ROHQMAQ",
        "outputId": "b326c6ee-98c8-4fe5-d156-96726aba1dc0"
      },
      "execution_count": 21,
      "outputs": [
        {
          "output_type": "stream",
          "name": "stdout",
          "text": [
            "0    가\n",
            "1    나\n",
            "2    다\n",
            "dtype: object\n"
          ]
        }
      ]
    },
    {
      "cell_type": "markdown",
      "metadata": {
        "id": "ksngpT3NI_ru"
      },
      "source": [
        "시리즈 객체는 자동으로 0 부터 시작하는  인덱스가 부여되며, 시리즈 객체를 출력해 보면 인덱스와 맵핑된 값이 한 로우에 표시됩니다. 또한 내부적으로 0부터 시작하는 행번호를 아래 그림과 같이 부여합니다. (행 번호의 쓰임새는 뒤에서 설명하겠습니다.) 즉, 시리즈는 입력된 데이터에 대해 행번호와 인덱스를 부여하고 출력하면 인덱스와 데이터만 표시되는 겁니다. "
      ]
    },
    {
      "cell_type": "markdown",
      "metadata": {
        "id": "9Orq9fNDI_rv"
      },
      "source": [
        "<img src=\"https://i.ibb.co/Xy8Ph47/series-1.png\" width=\"500\" style=\"float:left\" />"
      ]
    },
    {
      "cell_type": "markdown",
      "metadata": {
        "id": "MJMskFlSI_rw"
      },
      "source": [
        "시리즈 객체를 생성할 때 인덱스 값을 추가할 수 있습니다.  \n",
        "- index 파라미터에 리스트 형태로 각 값에 대응되는 인덱스를 입력합니다.   \n",
        "- 반드시 입력된 데이터의 개수와 인덱스의 개수가 동일해야 합니다. \n"
      ]
    },
    {
      "cell_type": "code",
      "source": [
        "class MySeries:\n",
        "  def __init__(self,data,index):\n",
        "    pass\n",
        "MySeries(data=[100,200], index=[\"x\",\"y\"])  # class에 접근하려면 객체를 만들고, parameter를 입력해 초기화자 작동하도록 해야함"
      ],
      "metadata": {
        "id": "p3BKhcNMQeTO"
      },
      "execution_count": null,
      "outputs": []
    },
    {
      "cell_type": "code",
      "execution_count": 23,
      "metadata": {
        "colab": {
          "base_uri": "https://localhost:8080/"
        },
        "id": "MII67FWOI_rw",
        "outputId": "33ca48b6-7990-4d87-a661-92be3815b793"
      },
      "outputs": [
        {
          "output_type": "stream",
          "name": "stdout",
          "text": [
            "메로나     1000\n",
            "구구콘     2000\n",
            "하겐다즈    3000\n",
            "dtype: int64\n"
          ]
        }
      ],
      "source": [
        "# 시리즈 : 딕셔너리 + 리스트처럼 동작(순서가 있는 자료구조)\n",
        "data = [1000, 2000, 3000]\n",
        "index = ['메로나', '구구콘', '하겐다즈'] # index 지정하지 않는다면 자동으로 0,1,2 ... 부여됨\n",
        "s = Series(data=data, index=index) # series class의 initializer로 data와 index를 입력\n",
        "print(s)"
      ]
    },
    {
      "cell_type": "markdown",
      "metadata": {
        "id": "eWnoGNfLI_rw"
      },
      "source": [
        "시리즈는 0부터 시작하는 행 번호를 부여하고, 인덱스는 사용자가 입력한 문자열을 사용합니다. (내부적인 행 번호 = -3, -2, -1)"
      ]
    },
    {
      "cell_type": "markdown",
      "metadata": {
        "id": "eJYxkqJVI_rw"
      },
      "source": [
        "<img src=\"https://i.ibb.co/FHfknW8/series-2.png\" width=\"500\" style=\"float:left\" />"
      ]
    },
    {
      "cell_type": "markdown",
      "metadata": {
        "id": "ZFLSZkKxI_rx"
      },
      "source": [
        "시리즈 객체에는 다양한 속성 (인스턴스 변수)가 있습니다. "
      ]
    },
    {
      "cell_type": "code",
      "execution_count": 24,
      "metadata": {
        "colab": {
          "base_uri": "https://localhost:8080/"
        },
        "id": "6IQy1tNkI_rx",
        "outputId": "6175c7df-bc07-4789-ddc2-880ea14d649f"
      },
      "outputs": [
        {
          "output_type": "stream",
          "name": "stdout",
          "text": [
            "Index(['메로나', '구구콘', '하겐다즈'], dtype='object')\n",
            "[1000 2000 3000]\n",
            "int64\n"
          ]
        }
      ],
      "source": [
        "print(s.index)\n",
        "print(s.values) # ,없는 리스트같네? ndarray\n",
        "print(s.dtype)"
      ]
    },
    {
      "cell_type": "markdown",
      "metadata": {
        "id": "CtFlf5YwI_rx"
      },
      "source": [
        "`values`에는 시리즈의 데이터가 `ndarray`로 저장돼 있습니다. "
      ]
    },
    {
      "cell_type": "code",
      "execution_count": null,
      "metadata": {
        "id": "9OqZZ0BKI_rx"
      },
      "outputs": [],
      "source": [
        "s.index[0:2]    # slicing\n",
        "s.index[[0,1]]  # list를 사용한 불연속적인 데이터의 슬라이싱도 가능"
      ]
    },
    {
      "cell_type": "markdown",
      "metadata": {
        "id": "FcnjtC5MI_rx"
      },
      "source": [
        "Q. 시가와 고가를 시리즈로 구성하라. "
      ]
    },
    {
      "cell_type": "markdown",
      "metadata": {
        "id": "Do_L_h6eI_rx"
      },
      "source": [
        "<img src=\"https://i.ibb.co/DQzv2sc/series-4.png\" width=\"800\" style=\"float:left\" />"
      ]
    },
    {
      "cell_type": "code",
      "execution_count": 25,
      "metadata": {
        "colab": {
          "base_uri": "https://localhost:8080/"
        },
        "id": "L0b0QCwEI_ry",
        "outputId": "1a077707-285b-4b16-d36a-993572c0b912"
      },
      "outputs": [
        {
          "output_type": "execute_result",
          "data": {
            "text/plain": [
              "2019.01    100\n",
              "2019.2     200\n",
              "dtype: int64"
            ]
          },
          "metadata": {},
          "execution_count": 25
        }
      ],
      "source": [
        "시가 = Series(data=[100,200], index=[\"2019.01\", \"2019.2\"])\n",
        "시가"
      ]
    },
    {
      "cell_type": "markdown",
      "metadata": {
        "id": "QF_7rmzMI_ry"
      },
      "source": [
        "### 시리즈의 인덱싱과 슬라이싱\n",
        "시리즈의 인덱싱 방법은 세 가지 방법을 사용할 수 있습니다. \n",
        "- `iloc`\n",
        "- `loc`\n",
        "- `[ ]`"
      ]
    },
    {
      "cell_type": "markdown",
      "metadata": {
        "id": "9G-nwUHaI_ry"
      },
      "source": [
        "iloc는 \"행 번호\"를 사용해서 하나의 데이터를 선택합니다. "
      ]
    },
    {
      "cell_type": "code",
      "execution_count": 26,
      "metadata": {
        "colab": {
          "base_uri": "https://localhost:8080/"
        },
        "id": "lYKIdWInI_ry",
        "outputId": "098607b6-51be-4de7-e04a-cbadf3a6d460"
      },
      "outputs": [
        {
          "output_type": "execute_result",
          "data": {
            "text/plain": [
              "3000"
            ]
          },
          "metadata": {},
          "execution_count": 26
        }
      ],
      "source": [
        "data = [1000, 2000, 3000]\n",
        "index = ['메로나', '구구콘', '하겐다즈']\n",
        "s = Series(data, index=index)\n",
        "\n",
        "# 인덱싱 : iloc는 행번호(integer)를 사용해 인덱싱\n",
        "s.iloc[0]   # 0번에 맵핑된 메로나\n",
        "s.iloc[-1]  # -1번에 맵핑된 하겐다즈"
      ]
    },
    {
      "cell_type": "markdown",
      "metadata": {
        "id": "rQygfYXqI_ry"
      },
      "source": [
        "loc는 \"인덱스\"를 사용해서 하나의 데이터를 선택합니다."
      ]
    },
    {
      "cell_type": "code",
      "execution_count": 27,
      "metadata": {
        "colab": {
          "base_uri": "https://localhost:8080/"
        },
        "id": "ullOVpYAI_ry",
        "outputId": "d838214c-ee38-48b0-98fc-31c4b2a35e05"
      },
      "outputs": [
        {
          "output_type": "execute_result",
          "data": {
            "text/plain": [
              "1000"
            ]
          },
          "metadata": {},
          "execution_count": 27
        }
      ],
      "source": [
        "s.loc['메로나']"
      ]
    },
    {
      "cell_type": "markdown",
      "metadata": {
        "id": "JpEBm7X3I_rz"
      },
      "source": [
        "iloc와 loc를 사용하지 않고 대괄호 `[ ]`를 바로 사용해도, 똑똑한 시리즈 객체는 적절한 값을 반환합니다."
      ]
    },
    {
      "cell_type": "code",
      "execution_count": 28,
      "metadata": {
        "colab": {
          "base_uri": "https://localhost:8080/"
        },
        "id": "8fV-LitHI_rz",
        "outputId": "b9b43e2a-cda6-4459-96af-e9430f4de4b8"
      },
      "outputs": [
        {
          "output_type": "stream",
          "name": "stdout",
          "text": [
            "1000\n",
            "1000\n"
          ]
        }
      ],
      "source": [
        "# 비추 : 의도치 않게 동작할 수 있음. 위처럼 정석으로 코드 작성하기\n",
        "print(s['메로나'])\n",
        "print(s[0])"
      ]
    },
    {
      "cell_type": "markdown",
      "metadata": {
        "id": "BQXEja1-I_rz"
      },
      "source": [
        "https://wikidocs.net/book/3488  \n",
        "리스트의 정수 인덱싱과 딕셔너리의 킷값을 사용한 인덱싱을 섞어 논것과 유사합니다. "
      ]
    },
    {
      "cell_type": "markdown",
      "metadata": {
        "id": "tAkj-fIDI_rz"
      },
      "source": [
        "----\n",
        "하나 이상의 데이터를 가져오는 슬라이싱도 사용할 수 있습니다. 이 때에도 `iloc`와 `loc` 기능을 사용합니다. "
      ]
    },
    {
      "cell_type": "code",
      "execution_count": 30,
      "metadata": {
        "colab": {
          "base_uri": "https://localhost:8080/"
        },
        "id": "tUBTR4qGI_rz",
        "outputId": "869848a3-2e9f-43d1-91c6-903e636365a9"
      },
      "outputs": [
        {
          "output_type": "stream",
          "name": "stdout",
          "text": [
            "메로나    1000\n",
            "구구콘    2000\n",
            "dtype: int64\n",
            "메로나     1000\n",
            "하겐다즈    3000\n",
            "dtype: int64\n",
            "메로나     1000\n",
            "하겐다즈    3000\n",
            "dtype: int64\n"
          ]
        }
      ],
      "source": [
        "# iloc\n",
        "print(s.iloc[0:2])  # 데이터와 데이터 사이에 index가 mapping됨(따라서 메로나와 구구콘만 출력됨)\n",
        "print(s.iloc[::2])\n",
        "print(s.iloc[[0,2]])"
      ]
    },
    {
      "cell_type": "code",
      "execution_count": 31,
      "metadata": {
        "colab": {
          "base_uri": "https://localhost:8080/"
        },
        "id": "droRYUt0I_rz",
        "outputId": "8870a354-8152-4da8-f958-62e43f2eacc5"
      },
      "outputs": [
        {
          "output_type": "stream",
          "name": "stdout",
          "text": [
            "메로나    1000\n",
            "구구콘    2000\n",
            "dtype: int64\n",
            "구구콘    2000\n",
            "메로나    1000\n",
            "dtype: int64\n",
            "구구콘    2000\n",
            "메로나    1000\n",
            "dtype: int64\n"
          ]
        }
      ],
      "source": [
        "# loc\n",
        "print(s.loc[\"메로나\":\"구구콘\"])\n",
        "print(s.loc[[\"구구콘\", \"메로나\"]])\n",
        "\n",
        "인덱스 = [\"구구콘\", \"메로나\"]\n",
        "print(s.loc[인덱스])"
      ]
    },
    {
      "cell_type": "markdown",
      "metadata": {
        "id": "5R8UqiTwI_rz"
      },
      "source": [
        "시리즈는 인접하지 않은 불연속적인 데이터를 슬라이싱할 수있습니다. "
      ]
    },
    {
      "cell_type": "code",
      "execution_count": null,
      "metadata": {
        "id": "hUltuEZ8I_r0"
      },
      "outputs": [],
      "source": [
        ""
      ]
    },
    {
      "cell_type": "markdown",
      "metadata": {
        "id": "ecIz67b2I_r0"
      },
      "source": [
        "이러한 코드는 간단하기 때문에 한 줄에 짧게 표현할 수도 있습니다. "
      ]
    },
    {
      "cell_type": "code",
      "execution_count": null,
      "metadata": {
        "id": "amN6rlA0I_r0"
      },
      "outputs": [],
      "source": [
        ""
      ]
    },
    {
      "cell_type": "markdown",
      "metadata": {
        "id": "CQY-tEnVI_r0"
      },
      "source": [
        "### 시리즈의 수정\n",
        "딕셔너리의 값을 추가(수정)했던 것과 같이 시리즈도 `iloc` 혹은 `loc`로 데이터에 접근해서 값을 대입하면 됩니다. 다음과 같이 기존에 값이 존재하지 않는다면 데이터가 추가됩니다. "
      ]
    },
    {
      "cell_type": "code",
      "source": [
        "딕셔너리 = {}\n",
        "딕셔너리['1교시'] = 100  # key, value\n",
        "딕셔너리"
      ],
      "metadata": {
        "colab": {
          "base_uri": "https://localhost:8080/"
        },
        "id": "ZQNokTqvT0J_",
        "outputId": "8f8e1b8b-6e5e-4ddb-ff71-8714ff5560fe"
      },
      "execution_count": 33,
      "outputs": [
        {
          "output_type": "execute_result",
          "data": {
            "text/plain": [
              "{'1교시': 100}"
            ]
          },
          "metadata": {},
          "execution_count": 33
        }
      ]
    },
    {
      "cell_type": "code",
      "execution_count": 32,
      "metadata": {
        "colab": {
          "base_uri": "https://localhost:8080/"
        },
        "id": "9mlcWUzcI_r0",
        "outputId": "28fad3d6-92df-4365-c9c1-5a35254bdaeb"
      },
      "outputs": [
        {
          "output_type": "stream",
          "name": "stdout",
          "text": [
            "메로나     1000\n",
            "구구콘     2000\n",
            "하겐다즈    3000\n",
            "dtype: int64\n",
            "메로나     1000\n",
            "구구콘     2000\n",
            "하겐다즈    3000\n",
            "비비빅      500\n",
            "dtype: int64\n"
          ]
        }
      ],
      "source": [
        "data = [1000, 2000, 3000]\n",
        "index = ['메로나', '구구콘', '하겐다즈']\n",
        "s = Series(data, index=index)\n",
        "print(s)\n",
        "\n",
        "s.loc['비비빅'] = 500  # index, value\n",
        "print(s)"
      ]
    },
    {
      "cell_type": "markdown",
      "metadata": {
        "id": "QETLSkU0I_r0"
      },
      "source": [
        "데이터가 존재한다면 값을 업데이트 합니다. "
      ]
    },
    {
      "cell_type": "code",
      "execution_count": 34,
      "metadata": {
        "colab": {
          "base_uri": "https://localhost:8080/"
        },
        "id": "8B7ks2oZI_r0",
        "outputId": "e4cd8f10-05c4-45c6-be10-2fa7564b449b"
      },
      "outputs": [
        {
          "output_type": "stream",
          "name": "stdout",
          "text": [
            "메로나     1000\n",
            "구구콘     2000\n",
            "하겐다즈    3000\n",
            "비비빅      400\n",
            "dtype: int64\n"
          ]
        }
      ],
      "source": [
        "# 지정한 인덱스 값이 없으면 추가, 기존 데이터에 인덱스 값이 있으면 업데이트\n",
        "s.loc['비비빅'] = 400\n",
        "print(s)"
      ]
    },
    {
      "cell_type": "code",
      "source": [
        "# iloc는 새로운 데이터를 추가할 수 없음. 기존 데이터의 수정만 가능\n",
        "s.iloc[-1] = 100   # 100을 기존 데이터의 가장 끝 행에 있는 값에 바인딩\n",
        "print(s)"
      ],
      "metadata": {
        "colab": {
          "base_uri": "https://localhost:8080/"
        },
        "id": "d9I6g8D0UDjS",
        "outputId": "10864604-b3a6-4644-bacc-294480b68846"
      },
      "execution_count": 35,
      "outputs": [
        {
          "output_type": "stream",
          "name": "stdout",
          "text": [
            "메로나     1000\n",
            "구구콘     2000\n",
            "하겐다즈    3000\n",
            "비비빅      100\n",
            "dtype: int64\n"
          ]
        }
      ]
    },
    {
      "cell_type": "markdown",
      "metadata": {
        "id": "vk9cyhJGI_r1"
      },
      "source": [
        "데이터의 삭제는 `drop` 메서드를 사용합니다. `drop` 메서드는 삭제된 결과를 반환하며, 원본 데이터는 수정하지 않습니다. 이는 실수로 데이터를 삭제할 수 있는 위험을 줄이기 위함입니다. "
      ]
    },
    {
      "cell_type": "code",
      "execution_count": 36,
      "metadata": {
        "colab": {
          "base_uri": "https://localhost:8080/"
        },
        "id": "WqguSWJhI_r1",
        "outputId": "43c5db74-835b-4cf6-fc3d-6434dfce2875"
      },
      "outputs": [
        {
          "output_type": "execute_result",
          "data": {
            "text/plain": [
              "메로나     1000\n",
              "구구콘     2000\n",
              "하겐다즈    3000\n",
              "dtype: int64"
            ]
          },
          "metadata": {},
          "execution_count": 36
        }
      ],
      "source": [
        "s.drop('비비빅')"
      ]
    },
    {
      "cell_type": "code",
      "source": [
        "s.drop(['메로나', '구구콘']) "
      ],
      "metadata": {
        "colab": {
          "base_uri": "https://localhost:8080/"
        },
        "id": "o8rDhkqZWe-s",
        "outputId": "eccbe0a9-340d-4341-fd9c-ea26272992ac"
      },
      "execution_count": 40,
      "outputs": [
        {
          "output_type": "execute_result",
          "data": {
            "text/plain": [
              "하겐다즈    3000\n",
              "dtype: int64"
            ]
          },
          "metadata": {},
          "execution_count": 40
        }
      ]
    },
    {
      "cell_type": "code",
      "source": [
        "s   # 대부분의 메서드는 원본을 건드리지 않는다\n",
        "# 기존 데이터의 값을 삭제하려면 drop method를 변수에 바인딩해야 함\n",
        "# 또는 s.drop('비비빅', inplace=True)"
      ],
      "metadata": {
        "colab": {
          "base_uri": "https://localhost:8080/"
        },
        "id": "SNKESFYOUqnH",
        "outputId": "24a18fd6-5b96-4cb1-bbce-bd8c00a3d334"
      },
      "execution_count": 37,
      "outputs": [
        {
          "output_type": "execute_result",
          "data": {
            "text/plain": [
              "메로나     1000\n",
              "구구콘     2000\n",
              "하겐다즈    3000\n",
              "비비빅      100\n",
              "dtype: int64"
            ]
          },
          "metadata": {},
          "execution_count": 37
        }
      ]
    },
    {
      "cell_type": "markdown",
      "metadata": {
        "id": "9-Q4yMdZI_r1"
      },
      "source": [
        "시리즈의 슬라이싱을 응용해서 데이터를 제거할 수도 있습니다. "
      ]
    },
    {
      "cell_type": "code",
      "execution_count": 39,
      "metadata": {
        "colab": {
          "base_uri": "https://localhost:8080/"
        },
        "id": "ihJRMM74I_r1",
        "outputId": "b8f39c2a-622c-47f8-e2f6-9c19d6f1ad1b"
      },
      "outputs": [
        {
          "output_type": "execute_result",
          "data": {
            "text/plain": [
              "메로나     1000\n",
              "구구콘     2000\n",
              "하겐다즈    3000\n",
              "dtype: int64"
            ]
          },
          "metadata": {},
          "execution_count": 39
        }
      ],
      "source": [
        "s = s.iloc[:-1]\n",
        "s"
      ]
    },
    {
      "cell_type": "markdown",
      "metadata": {
        "id": "IXgKyPKkI_r1"
      },
      "source": [
        "### 시리즈의 연산\n",
        "판다스는 `ndarray`를 기반으로 만들어졌기 때문에 `브로드캐스팅`을 모두 지원합니다. \n",
        "연산이 모든 데이터에 적용되는 겁니다.   \n",
        "https://wikidocs.net/book/3488  '브로드캐스팅' 페이지에 브로드캐스팅이 되는 조건을 확인하기"
      ]
    },
    {
      "cell_type": "code",
      "execution_count": 43,
      "metadata": {
        "colab": {
          "base_uri": "https://localhost:8080/"
        },
        "id": "4_RwWpkyI_r1",
        "outputId": "d87b4cfc-32cf-461d-9c3a-1d5833e43227"
      },
      "outputs": [
        {
          "output_type": "execute_result",
          "data": {
            "text/plain": [
              "0    20\n",
              "1    30\n",
              "2    40\n",
              "dtype: int64"
            ]
          },
          "metadata": {},
          "execution_count": 43
        }
      ],
      "source": [
        "from pandas import Series\n",
        "\n",
        "# 동일한 인덱스 위치에 값을 저장한다\n",
        "s1 = Series([10, 20, 30])\n",
        "s1 + 10"
      ]
    },
    {
      "cell_type": "markdown",
      "metadata": {
        "id": "4Had-_V4I_r1"
      },
      "source": [
        "시리즈는 `ndarray`와 같이 같은 객체간의 연산을 지원합니다.  "
      ]
    },
    {
      "cell_type": "code",
      "execution_count": 42,
      "metadata": {
        "colab": {
          "base_uri": "https://localhost:8080/"
        },
        "id": "BvPDoJmEI_r1",
        "outputId": "062b4e83-609f-45a9-c419-6ac1cdc47362"
      },
      "outputs": [
        {
          "output_type": "execute_result",
          "data": {
            "text/plain": [
              "0    30\n",
              "1    50\n",
              "2    70\n",
              "dtype: int64"
            ]
          },
          "metadata": {},
          "execution_count": 42
        }
      ],
      "source": [
        "# 동일한 인덱스 위치에 값을 저장한다\n",
        "s2 = Series([20, 30, 40])\n",
        "s1 + s2"
      ]
    },
    {
      "cell_type": "markdown",
      "metadata": {
        "id": "EBHFpkFOI_r1"
      },
      "source": [
        "시리즈 객체 간의 연산을 할 때는 인덱스가 같아야 합니다. "
      ]
    },
    {
      "cell_type": "code",
      "execution_count": 45,
      "metadata": {
        "colab": {
          "base_uri": "https://localhost:8080/"
        },
        "id": "tiiLG8zzI_r2",
        "outputId": "45c56de7-9e8e-4af0-b95c-37703079bc89"
      },
      "outputs": [
        {
          "output_type": "stream",
          "name": "stdout",
          "text": [
            "가   NaN\n",
            "나   NaN\n",
            "다   NaN\n",
            "0   NaN\n",
            "1   NaN\n",
            "2   NaN\n",
            "dtype: float64\n",
            "0   NaN\n",
            "1   NaN\n",
            "2   NaN\n",
            "가   NaN\n",
            "나   NaN\n",
            "다   NaN\n",
            "dtype: float64\n"
          ]
        }
      ],
      "source": [
        "s1 = Series([10, 20, 30], index = [\"가\", \"나\", \"다\"])\n",
        "s2 = Series([20, 30, 40])\n",
        "\n",
        "print(s1 + s2)\n",
        "print(s2 + s1)"
      ]
    },
    {
      "cell_type": "code",
      "source": [
        "s1 = Series([10, 20, 30], index = [\"가\", \"나\", \"다\"])\n",
        "s2 = Series([20, 30, 40], index = ['다', '나', '가'])\n",
        "s1 + s2"
      ],
      "metadata": {
        "colab": {
          "base_uri": "https://localhost:8080/"
        },
        "id": "RU7OTsdaZSxJ",
        "outputId": "d55dec6d-2a2b-4a90-c568-66306b97fd62"
      },
      "execution_count": 47,
      "outputs": [
        {
          "output_type": "execute_result",
          "data": {
            "text/plain": [
              "가    50\n",
              "나    50\n",
              "다    50\n",
              "dtype: int64"
            ]
          },
          "metadata": {},
          "execution_count": 47
        }
      ]
    },
    {
      "cell_type": "code",
      "source": [
        "s1 = Series([10, 20, 30, 40], index = [\"가\", \"나\", \"다\", \"라\"])\n",
        "s2 = Series([20, 30, 40], index = ['다', '나', '가'])\n",
        "s3 = s1 + s2  # 결측값(NaN)이 있으면 float type으로 변경됨(NaN을 수치형 자료로 처리하기 위해)\n",
        "s3.loc[[\"다\", \"나\", \"가\", \"라\"]]"
      ],
      "metadata": {
        "colab": {
          "base_uri": "https://localhost:8080/"
        },
        "id": "9ZeABXCqZvnp",
        "outputId": "74268780-7af1-4256-f273-f9b1e7f89cc2"
      },
      "execution_count": 50,
      "outputs": [
        {
          "output_type": "execute_result",
          "data": {
            "text/plain": [
              "다    50.0\n",
              "나    50.0\n",
              "가    50.0\n",
              "라     NaN\n",
              "dtype: float64"
            ]
          },
          "metadata": {},
          "execution_count": 50
        }
      ]
    },
    {
      "cell_type": "code",
      "source": [
        "print(type(np.nan))   # nan + 4 = nan\n",
        "type(np.inf)   # infinity 무한대"
      ],
      "metadata": {
        "colab": {
          "base_uri": "https://localhost:8080/"
        },
        "id": "VoCNWWTHaEWz",
        "outputId": "9796344a-1a7d-4e01-a67c-f34424b80ac5"
      },
      "execution_count": 52,
      "outputs": [
        {
          "output_type": "stream",
          "name": "stdout",
          "text": [
            "<class 'float'>\n"
          ]
        },
        {
          "output_type": "execute_result",
          "data": {
            "text/plain": [
              "float"
            ]
          },
          "metadata": {},
          "execution_count": 52
        }
      ]
    },
    {
      "cell_type": "markdown",
      "metadata": {
        "id": "77_cQ1_sI_r2"
      },
      "source": [
        "Pandas는 결측치를 표현하기 위해 np.nan 값을 사용합니다.   \n",
        "NaN이란 비어있는 (존재하지 않는) 값입니다."
      ]
    },
    {
      "cell_type": "markdown",
      "metadata": {
        "id": "s17wUdF9I_r2"
      },
      "source": [
        "### 시리즈의 비교연산\n",
        "모든 데이터에 비교 연산이 적용되고 boolean형 데이터가 저장된 하나의 시리즈가 반환됩니다."
      ]
    },
    {
      "cell_type": "code",
      "execution_count": 54,
      "metadata": {
        "colab": {
          "base_uri": "https://localhost:8080/"
        },
        "id": "Y90UFImSI_r2",
        "outputId": "a04a8e9e-e779-472a-8632-e078de546d66"
      },
      "outputs": [
        {
          "output_type": "stream",
          "name": "stdout",
          "text": [
            "가    False\n",
            "나    False\n",
            "다     True\n",
            "dtype: bool\n"
          ]
        }
      ],
      "source": [
        "s1 = Series([10, 20, 30], index = [\"가\", \"나\", \"다\"])\n",
        "print(s1 > 20)"
      ]
    },
    {
      "cell_type": "markdown",
      "metadata": {
        "id": "j70C0NLwI_r2"
      },
      "source": [
        "참/거짓이 저장된 조건 시리즈를 얻어 왔다면 값을 필터링 할 수 있겠죠?"
      ]
    },
    {
      "cell_type": "code",
      "execution_count": 55,
      "metadata": {
        "colab": {
          "base_uri": "https://localhost:8080/"
        },
        "id": "9slrfdV3I_r2",
        "outputId": "dafe24e5-0793-4163-ec09-374fb3019823"
      },
      "outputs": [
        {
          "output_type": "execute_result",
          "data": {
            "text/plain": [
              "다    30\n",
              "dtype: int64"
            ]
          },
          "metadata": {},
          "execution_count": 55
        }
      ],
      "source": [
        "cond = s1 > 20\n",
        "s1.loc[cond]  # 조건으로 슬라이싱할 때는 loc 사용\n",
        "# s1[cond] 해도 되지만 비추"
      ]
    },
    {
      "cell_type": "code",
      "source": [
        "# [] 안에 조건 시리즈를 넣어주면 한 줄로 정리할 수 있다\n",
        "s1.loc[s1>20]"
      ],
      "metadata": {
        "colab": {
          "base_uri": "https://localhost:8080/"
        },
        "id": "ckyLHTIlbBYs",
        "outputId": "e57e5b97-cd48-43b2-fc60-0cac75022059"
      },
      "execution_count": 56,
      "outputs": [
        {
          "output_type": "execute_result",
          "data": {
            "text/plain": [
              "다    30\n",
              "dtype: int64"
            ]
          },
          "metadata": {},
          "execution_count": 56
        }
      ]
    },
    {
      "cell_type": "markdown",
      "metadata": {
        "id": "1FrODeKEI_r2"
      },
      "source": [
        "Q. LG전자의 종가 데이터가 시리즈로 저장돼 있다. LG전자의 주가가 85000원 보다 작을 때의 일자를 출력하라."
      ]
    },
    {
      "cell_type": "code",
      "execution_count": 60,
      "metadata": {
        "colab": {
          "base_uri": "https://localhost:8080/"
        },
        "id": "Her9VB7iI_r3",
        "outputId": "da8b1fd9-ae0c-4218-817d-63104964f6f2"
      },
      "outputs": [
        {
          "output_type": "stream",
          "name": "stdout",
          "text": [
            "Index(['05/28', '05/30', '05/31'], dtype='object')\n"
          ]
        },
        {
          "output_type": "execute_result",
          "data": {
            "text/plain": [
              "['05/28', '05/30', '05/31']"
            ]
          },
          "metadata": {},
          "execution_count": 60
        }
      ],
      "source": [
        "lge = Series(data = [93000, 82400, 99100, 81000, 72300], index = [\"05/27\", \"05/28\", \"05/29\", \"05/30\", \"05/31\"])\n",
        "print(lge.loc[lge<85000].index)\n",
        "lge.loc[lge<85000].index.tolist()"
      ]
    },
    {
      "cell_type": "code",
      "source": [
        "# 변수에 조건을 저장\n",
        "cond = lge < 85000\n",
        "lge.index[cond]  # 조건이 참인 인덱스만 갖고 옴"
      ],
      "metadata": {
        "colab": {
          "base_uri": "https://localhost:8080/"
        },
        "id": "dht1YgHVcKf9",
        "outputId": "7a1dc6de-658b-407a-e6ca-1b053b5619b8"
      },
      "execution_count": 61,
      "outputs": [
        {
          "output_type": "execute_result",
          "data": {
            "text/plain": [
              "Index(['05/28', '05/30', '05/31'], dtype='object')"
            ]
          },
          "metadata": {},
          "execution_count": 61
        }
      ]
    },
    {
      "cell_type": "code",
      "source": [
        "# 한 줄로 작성하기\n",
        "lge.index[lge<85000].tolist()"
      ],
      "metadata": {
        "colab": {
          "base_uri": "https://localhost:8080/"
        },
        "id": "HRVqD5vYcRKQ",
        "outputId": "95b40966-f8ed-4ab6-bfe8-91ce3cca20e3"
      },
      "execution_count": 63,
      "outputs": [
        {
          "output_type": "execute_result",
          "data": {
            "text/plain": [
              "['05/28', '05/30', '05/31']"
            ]
          },
          "metadata": {},
          "execution_count": 63
        }
      ]
    },
    {
      "cell_type": "markdown",
      "metadata": {
        "id": "ciJ2Fqm1I_r3"
      },
      "source": [
        "Q. LG전자의 종가가 85000원 이하로 떨어진 횟수는?"
      ]
    },
    {
      "cell_type": "code",
      "execution_count": 59,
      "metadata": {
        "colab": {
          "base_uri": "https://localhost:8080/"
        },
        "id": "61-hs6C1I_r3",
        "outputId": "36e5cf58-4c2f-481d-c409-24ba5105706a"
      },
      "outputs": [
        {
          "output_type": "execute_result",
          "data": {
            "text/plain": [
              "3"
            ]
          },
          "metadata": {},
          "execution_count": 59
        }
      ],
      "source": [
        "len(lge.loc[lge<85000])"
      ]
    },
    {
      "cell_type": "markdown",
      "source": [
        "- NaN : numpy, pandas에 정의된 결측값(isna method)\n",
        "- None : 기본 python 문법에서 비어있음을 나타내는 문법(NoneType이라는 데이터 타입)\n",
        "- Null : python이 아닌 다른 프로그래밍 언어에서의 문법(다른 언어에서 많이 사용하므로, pandas에서도 isnull 메서드를 제공함)"
      ],
      "metadata": {
        "id": "d9XH6pHpc5i8"
      }
    },
    {
      "cell_type": "code",
      "source": [
        "def 함수(x=None):\n",
        "  if x == None:\n",
        "    x = [10,20,30]\n",
        "    print(x)\n",
        "함수(10)"
      ],
      "metadata": {
        "id": "jD0zu5mrdQjj"
      },
      "execution_count": 64,
      "outputs": []
    },
    {
      "cell_type": "markdown",
      "source": [
        "ndarray(Series)와 메모리\n",
        "- https://wikidocs.net/160595"
      ],
      "metadata": {
        "id": "IJ3Y-Dn3d0qz"
      }
    }
  ],
  "metadata": {
    "kernelspec": {
      "display_name": "Python 3",
      "language": "python",
      "name": "python3"
    },
    "language_info": {
      "codemirror_mode": {
        "name": "ipython",
        "version": 3
      },
      "file_extension": ".py",
      "mimetype": "text/x-python",
      "name": "python",
      "nbconvert_exporter": "python",
      "pygments_lexer": "ipython3",
      "version": "3.8.8"
    },
    "toc": {
      "base_numbering": 1,
      "nav_menu": {},
      "number_sections": true,
      "sideBar": true,
      "skip_h1_title": false,
      "title_cell": "Table of Contents",
      "title_sidebar": "Contents",
      "toc_cell": false,
      "toc_position": {},
      "toc_section_display": true,
      "toc_window_display": false
    },
    "colab": {
      "name": "Series.ipynb",
      "provenance": [],
      "collapsed_sections": [],
      "include_colab_link": true
    }
  },
  "nbformat": 4,
  "nbformat_minor": 0
}