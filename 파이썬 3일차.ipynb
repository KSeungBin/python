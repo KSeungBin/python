{
 "cells": [
  {
   "cell_type": "markdown",
   "id": "fcd21f1f",
   "metadata": {},
   "source": [
    "### enumerate(): index와 value 함께 출력"
   ]
  },
  {
   "cell_type": "code",
   "execution_count": null,
   "id": "7ba863e5",
   "metadata": {},
   "outputs": [],
   "source": [
    "mylist = [2,3,4,5,6]\n",
    "for idx, val in enumerate(mylist):\n",
    "    print(f'idx[{idx}] val[{val}]')\n",
    "    \n",
    "mylist = [2,3,4,5,6]\n",
    "for idx, val in enumerate(mylist,10): #인덱스 숫자를 내가 지정해줄 수 있다.\n",
    "    print(f'idx[{idx}] val[{val}]')"
   ]
  },
  {
   "cell_type": "markdown",
   "id": "59d95b7b",
   "metadata": {},
   "source": [
    "## 파이썬 - 군집자료형\n",
    "### 1. 리스트: list"
   ]
  },
  {
   "cell_type": "code",
   "execution_count": null,
   "id": "41079d99",
   "metadata": {},
   "outputs": [],
   "source": [
    "myList = []\n",
    "myList = list()   # 두 줄은 모두 빈 리스트를 만드는 식\n",
    "\n",
    "for i in range(1,11):\n",
    "    myList.append(i)    #리스트에 데이터 넣기: 반드시 append 필요하다.\n",
    "    myList = list(range(1))\n",
    "print(myList) = [range(1,11)]\n",
    "print(myList)"
   ]
  },
  {
   "cell_type": "code",
   "execution_count": null,
   "id": "51604a0f",
   "metadata": {
    "scrolled": true
   },
   "outputs": [],
   "source": [
    "#인덱싱 & 슬라이싱\n",
    "colors = ['red', 'green', 'blue', 'black', 'white']\n",
    "print(colors[2])\n",
    "print(colors[2:])\n",
    "\n",
    "fruits = ['apple','grape','orange']\n",
    "print(colors + fruits)"
   ]
  },
  {
   "cell_type": "code",
   "execution_count": null,
   "id": "de975b3a",
   "metadata": {},
   "outputs": [],
   "source": [
    "colors = ['red', 'green', 'blue', 'black', 'white']\n",
    "for color in colors:\n",
    "    print(f'나는 {color} 색상을 좋아합니다.')"
   ]
  },
  {
   "cell_type": "code",
   "execution_count": null,
   "id": "2d550cfe",
   "metadata": {},
   "outputs": [],
   "source": [
    "# 리스트에 요소 추가하기\n",
    "colors = ['red', 'green', 'blue', 'black', 'white']\n",
    "colors.append('violet')\n",
    "print(colors)\n",
    "\n",
    "# 리스트에 요소 삭제하기\n",
    "colors = ['red', 'green', 'blue', 'black', 'white']\n",
    "colors.remove('black')\n",
    "print(colors)\n",
    "\n",
    "# 리스트의 특정 요소 변경하기\n",
    "colors = ['red', 'green', 'blue', 'black', 'white']\n",
    "colors[2] = 'Blue'\n",
    "print(colors)\n",
    "\n",
    "# 특정 항목의 위치 찾기\n",
    "colors.index('green')\n",
    "\n",
    "# 특정 위치에 값 삽입\n",
    "colors.insert(2,'orange')\n",
    "print(colors)"
   ]
  },
  {
   "cell_type": "markdown",
   "id": "27faa85a",
   "metadata": {},
   "source": [
    "### 2차원 리스트"
   ]
  },
  {
   "cell_type": "code",
   "execution_count": null,
   "id": "09079015",
   "metadata": {},
   "outputs": [],
   "source": [
    "numbers = [[10,20,30], [40,50,60,70]]\n",
    "print(numbers[0])\n",
    "print(numbers[1])\n",
    "print(numbers[0][2])"
   ]
  },
  {
   "cell_type": "code",
   "execution_count": null,
   "id": "2e9b0d70",
   "metadata": {
    "scrolled": true
   },
   "outputs": [],
   "source": [
    "# 3차원 리스트\n",
    "numbers = [[10,20,30],[[40,50],60,70]]\n",
    "print(numbers[1][0][0])"
   ]
  },
  {
   "cell_type": "code",
   "execution_count": null,
   "id": "75e10cca",
   "metadata": {},
   "outputs": [],
   "source": [
    "#실습문제: 3행 4열 리스트 생성\n",
    "threeFour = [[0]*4 for _ in range(3)]\n",
    "# 리스트에 숫자 넣기\n",
    "num = 1\n",
    "for i in range(3):        # 3행\n",
    "    for j in range(4):    # 4열\n",
    "        threeFour[i][j] = num\n",
    "        num += 1\n",
    "for i in threeFour:\n",
    "    for j in i:\n",
    "        print(f'{j:>2d}', end='') #정렬과 두자릿수\n",
    "    print()\n",
    "    "
   ]
  },
  {
   "cell_type": "code",
   "execution_count": null,
   "id": "25d7c494",
   "metadata": {},
   "outputs": [],
   "source": [
    "a_list = list()\n",
    "for i in range(1,201):\n",
    "    if i % 3 == 0:\n",
    "        a_list.append(i)\n",
    "print(\"1~200중 3의 배수는: \", a_list)\n",
    "\n",
    "#리스트 컴프리헨션\n",
    "#더 간단한 식: a_list=[i for i in range(1,201) if i % 3 == 0]\n",
    "# a_list=[i*2 for i in range(1,201) if i % 3 == 0] 하면 각각의 값에 2배가 되어 출력됨"
   ]
  },
  {
   "cell_type": "code",
   "execution_count": 5,
   "id": "f5768283",
   "metadata": {},
   "outputs": [
    {
     "name": "stdout",
     "output_type": "stream",
     "text": [
      "BTS의 성적 입력: 100\n",
      "트와이스의 성적 입력: 80\n",
      "블랙핑크의 성적 입력: 90\n",
      "뉴이스트의 성적 입력: 70\n",
      "------------------------------\n",
      " 아이돌 성적 결과 \n",
      "------------------------------\n",
      "BTS의 성적은 100 점: 수료\n",
      "트와이스의 성적은 80 점: 수료\n",
      "블랙핑크의 성적은 90 점: 수료\n",
      "뉴이스트의 성적은 70 점: 미수료\n"
     ]
    }
   ],
   "source": [
    "a_list = ['BTS', '트와이스', '블랙핑크', '뉴이스트']\n",
    "jumsu = []\n",
    "for idx, val in enumerate(a_list):\n",
    "    tmp = int(input(f'{val}의 성적 입력: '))\n",
    "    jumsu.append(tmp)\n",
    "print('-'*30)\n",
    "print(' 아이돌 성적 결과 ')\n",
    "print('-'*30)\n",
    "result = ''\n",
    "for i in range(len(a_list)): \n",
    "    # for idx, val in enumerate(a_list): 쓰는게 가장 good\n",
    "    #len(a_list)는 숫자이기 때문에 in 다음에는 바로 숫자 쓸 수 없어 오류 뜬다. 따라서 range 쓰기\n",
    "    if jumsu[i] >= 80: result = '수료'\n",
    "    else: result = '미수료' \n",
    "        \n",
    "    print(f'{a_list[i]}의 성적은 {jumsu[i]} 점: {result}')"
   ]
  },
  {
   "cell_type": "code",
   "execution_count": 7,
   "id": "13c089ce",
   "metadata": {},
   "outputs": [
    {
     "name": "stdout",
     "output_type": "stream",
     "text": [
      "'BTS'의 성적 입력:100\n",
      "'트와이스'의 성적 입력:80\n",
      "'블랙핑크'의 성적 입력:90\n",
      "'뉴이스트'의 성적 입력:70\n",
      "-----------------------------------------\n",
      "아이돌 성적 결과\n",
      "-----------------------------------------\n",
      "['BTS', '트와이스', '블랙핑크', '뉴이스트']\n",
      "[100, 80, 90, 70]\n",
      "['PASS', 'PASS', 'PASS', 'FAIL']\n",
      "\n",
      "'BTS'의 성적은 100점: PASS\n",
      "'트와이스'의 성적은 80점: PASS\n",
      "'블랙핑크'의 성적은 90점: PASS\n",
      "'뉴이스트'의 성적은 70점: FAIL\n"
     ]
    }
   ],
   "source": [
    "idols = ['BTS', '트와이스', '블랙핑크', '뉴이스트']\n",
    "scores = [int(input(f\"'{idol}'의 성적 입력:\")) for idol in idols]\n",
    "print(\"\"\"-----------------------------------------\n",
    "아이돌 성적 결과\n",
    "-----------------------------------------\"\"\")\n",
    "result=[\"PASS\" if score >=80 else \"FAIL\" for score in scores] #컴프리헨션에서는 참일 때는 if 앞에, 그렇지 않을 때는 else 뒤에 쓴다.\n",
    "\n",
    "print(idols)\n",
    "print(scores)\n",
    "print(result)\n",
    "print()\n",
    "#최종 성적 출력\n",
    "for i, v in enumerate(idols):\n",
    "    print(f\"'{v}'의 성적은 {scores[i]}점: {result[i]}\")\n",
    "# enumerate함수와 동일한 결과를 출력하는 식\n",
    "for i in range(len(idols))\n",
    "    print(f\"'{idols[i]}'의 성적은 {scores[i]}점: {result[i]}\")     "
   ]
  },
  {
   "cell_type": "code",
   "execution_count": 12,
   "id": "7a80c6a1",
   "metadata": {},
   "outputs": [
    {
     "name": "stdout",
     "output_type": "stream",
     "text": [
      "년월일을 입력하세요 (YYYYMMDD형식):20210721\n",
      "2021/1/1 ~ 2021/7/21 : 202\n"
     ]
    }
   ],
   "source": [
    "#실습문제: 소요일 구하기\n",
    "ymd = input('년월일을 입력하세요 (YYYYMMDD형식):')\n",
    "yy = int(ymd[:4])\n",
    "mm = int(ymd[4:6])\n",
    "dd = int(ymd[6:])\n",
    "dates = [31,28,31,30,31,30,31,31,30,31,30,31]\n",
    "\n",
    "if yy % 400 == 0 or (yy % 100 != 0 and yy % 4 ==0):\n",
    "        dates[1] = 29\n",
    "days = 0\n",
    "for i in range(mm-1):\n",
    "    days += dates[i]   #왼쪽 식은 -1 안해서 엄밀히 말하면 오답\n",
    "days += dd\n",
    "# days = sum(dates[0:today_m-1])+today_d-1 (소요일이니까 -1 해야 한다)\n",
    "print(f'{yy}/1/1 ~ {yy}/{mm}/{dd} : {days}')\n",
    "\n",
    "       "
   ]
  },
  {
   "cell_type": "code",
   "execution_count": 15,
   "id": "faae8c2e",
   "metadata": {},
   "outputs": [
    {
     "name": "stdout",
     "output_type": "stream",
     "text": [
      "시작일(YYMMDD): 20210721\n",
      "시작일(YYMMDD): 20210809\n",
      "20210721 ~ 20210809 까지의 소요일은 19일 입니다\n"
     ]
    }
   ],
   "source": [
    "#실습문제2: datetime 함수(function) 사용하기 -> 기간의 소요일 구하기\n",
    "from datetime import datetime\n",
    "start = input('시작일(YYMMDD): ')\n",
    "end = input('시작일(YYMMDD): ')\n",
    "\n",
    "sday = datetime.strptime(start, '%Y%m%d')\n",
    "eday = datetime.strptime(end, '%Y%m%d')\n",
    "print(f'{start} ~ {end} 까지의 소요일은 {(eday-sday).days}일 입니다') #days라는 오브젝트 함수 사용\n",
    "#큰 숫자(eday)에서 작은 숫자(sday)를 빼야 오류 발생하지 않는다."
   ]
  }
 ],
 "metadata": {
  "kernelspec": {
   "display_name": "Python 3 (ipykernel)",
   "language": "python",
   "name": "python3"
  },
  "language_info": {
   "codemirror_mode": {
    "name": "ipython",
    "version": 3
   },
   "file_extension": ".py",
   "mimetype": "text/x-python",
   "name": "python",
   "nbconvert_exporter": "python",
   "pygments_lexer": "ipython3",
   "version": "3.8.10"
  }
 },
 "nbformat": 4,
 "nbformat_minor": 5
}
