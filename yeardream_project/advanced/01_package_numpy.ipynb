{
  "cells": [
    {
      "cell_type": "markdown",
      "metadata": {
        "id": "view-in-github",
        "colab_type": "text"
      },
      "source": [
        "<a href=\"https://colab.research.google.com/github/KSeungBin/python/blob/master/01_package_numpy.ipynb\" target=\"_parent\"><img src=\"https://colab.research.google.com/assets/colab-badge.svg\" alt=\"Open In Colab\"/></a>"
      ]
    },
    {
      "cell_type": "markdown",
      "metadata": {
        "id": "T7K-I3hUoRof"
      },
      "source": [
        "# Numpy (Numeric python)\n",
        "> - 패키지 이름과 같이 **수리적 파이썬 활용**을 위한 파이썬 패키지\n",
        "> - **선형대수학 구현**과 **과학적 컴퓨팅 연산**을 위한 함수를 제공\n",
        "> - (key) `nparray` 다차원 배열을 사용하여 **벡터의 산술 연산**이 가능\n",
        "\n",
        "> - **브로드캐스팅**을 활용하여 shape(형태 혹은 모양)이 다른 데이터의 연산이 가능\n",
        ">> - 기존 언어에서는 제공 X\n",
        ">> - 굉장히 파워풀한 기능으로서 빅데이터 연산에 굉장히 효율이 좋음     "
      ]
    },
    {
      "cell_type": "markdown",
      "metadata": {
        "id": "Biy8oRwJoRom"
      },
      "source": [
        "## Numpy 설치 와 import\n",
        "> - 선행 학습을 통해 클래스와 함수에서 클래스를 불러들여 사용할 수 있다고 배웠습니다.\n",
        "> - 다만 직접 작성한 클래스가 아닐경우, 그리고 현재 컴퓨터에 사용해야 할 패키지가 없을경우 간단한 명령어로 설치가능.\n",
        "\n",
        ">> - `pip`, `conda` 명령어 : python 라이브러리 관리 프로그램으로 오픈소스라이브러리를 간편하게 설치 할 수 있도록 하는 명령어  \n",
        "\n",
        "> 콘솔창에서 실행 시  \n",
        "**`pip` `install` `[패키지명]`** 혹은  \n",
        "**`conda` `install` `[패키지명]`**\n",
        "\n",
        "> 주피터 노트북으로 실행 시  \n",
        "**`!pip` `install` `[패키지명]`**  \n",
        "\n",
        "아나콘다 환경으로 python 환경설정 시 기본적으로 Numpy 설치가 되어있음"
      ]
    },
    {
      "cell_type": "code",
      "execution_count": null,
      "metadata": {
        "ExecuteTime": {
          "end_time": "2021-06-19T02:18:19.360356Z",
          "start_time": "2021-06-19T02:18:16.501938Z"
        },
        "id": "krCJ0ztKoRoo"
      },
      "outputs": [],
      "source": [
        "# 주피터 노트북에서 Numpy 설치\n",
        "!pip install numpy"
      ]
    },
    {
      "cell_type": "code",
      "execution_count": 1,
      "metadata": {
        "ExecuteTime": {
          "end_time": "2021-08-03T05:00:26.054538Z",
          "start_time": "2021-08-03T05:00:26.051907Z"
        },
        "id": "CdhUg_eyoRor"
      },
      "outputs": [],
      "source": [
        "# Numpy 사용을 위해 패키지 불러들이기\n",
        "import numpy as np\n",
        "# 관례적으로 np라는 약자를 많이 사용하게 됩니다.\n",
        "# 파이썬을 사용하는 대부분의 유저들이 사용하고 있는 닉네임이니 이건 꼭 지켜서 사용해주시는 것을 추천드립니다."
      ]
    },
    {
      "cell_type": "markdown",
      "metadata": {
        "id": "A9fWZ586oRos"
      },
      "source": [
        "## 데이터분석을 위한 잠깐의 선형대수학\n",
        "numpy는 기본적으로 수리적 컴퓨팅을 위한 패키지 입니다. 선형대수학을 약간만 이해한다면 데이터를 훨씬 더 깊이있게 다룰 수 있습니다.  \n",
        "- 벡터 : 방향과 크기(아래 이미지 : 스칼라 2개 = 벡터의 크기 2  / 방향은 아래쪽)\n",
        "- 행렬 : 열벡터 + 행벡터 -> table 형태 (데이터프레임, 엑셀데이터)\n",
        "- 텐서 : 이미지, 영상은 텐서 데이터(3차원 이상은 텐서) \n",
        "\n",
        "<img src=\"https://drive.google.com/uc?id=1FIVLOIP-X72PeWS7tgChMEoWCUYtyOqa\">\n",
        "\n",
        "출처 : https://art28.github.io/blog/linear-algebra-1/"
      ]
    },
    {
      "cell_type": "code",
      "source": [
        "test_list = '안녕하세요'  # 문자열은 전형적인 벡터\n",
        "test_list[0]"
      ],
      "metadata": {
        "colab": {
          "base_uri": "https://localhost:8080/",
          "height": 35
        },
        "id": "HCCixHC-pvLA",
        "outputId": "e0c0e076-4475-4760-9595-827b13b60473"
      },
      "execution_count": 2,
      "outputs": [
        {
          "output_type": "execute_result",
          "data": {
            "text/plain": [
              "'안'"
            ],
            "application/vnd.google.colaboratory.intrinsic+json": {
              "type": "string"
            }
          },
          "metadata": {},
          "execution_count": 2
        }
      ]
    },
    {
      "cell_type": "code",
      "source": [
        "# 리스트로 -> 방향의 벡터\n",
        "test_list = [1,2,3,4]"
      ],
      "metadata": {
        "id": "eJ099AlgqXeB"
      },
      "execution_count": null,
      "outputs": []
    },
    {
      "cell_type": "markdown",
      "metadata": {
        "id": "FaZWvKy5oRot"
      },
      "source": [
        "## 데이터의 구분에 따른 표현 방법과 예시\n",
        "\n",
        "#### 스칼라\n",
        "    1, 3.14, 실수 혹은 정수  \n",
        "    \n",
        "#### 벡터\n",
        "    [1, 2, 3, 4], 문자열  \n",
        "    \n",
        "#### 3 X 4 매트릭스\n",
        "    [[1, 2, 3, 4],\n",
        "     [5, 6, 7, 8],\n",
        "     [9, 0, 11, 12]]\n",
        "     \n",
        "#### 2 X 3 X 4 텐서\n",
        "    [[[1, 2, 3, 4],\n",
        "     [5, 6, 7, 8],\n",
        "     [9, 0, 11, 12]],\n",
        "     [[1, 2, 3, 4], \n",
        "     [5, 6, 7, 8],\n",
        "     [9, 0, 11, 12]]]"
      ]
    },
    {
      "cell_type": "markdown",
      "metadata": {
        "ExecuteTime": {
          "end_time": "2021-08-03T02:31:58.163370Z",
          "start_time": "2021-08-03T02:31:58.043519Z"
        },
        "id": "eAHn9HGRoRou"
      },
      "source": [
        "### 데이터로 표현한 선형대수학\n",
        "<img src=\"https://drive.google.com/uc?id=1JXgwhjipPcV147LPIrC2CgT0TmS4jT1R\">\n",
        "\n",
        "- python은 column vector를 기본으로 함    \n",
        "\n",
        "- 위 이미지 중 tensor는 컬러 이미지를 시각화한 것\n",
        "  \n",
        "출처 : https://m.blog.naver.com/nabilera1/221978354680"
      ]
    },
    {
      "cell_type": "markdown",
      "metadata": {
        "id": "eZqEVMDaoRow"
      },
      "source": [
        "### 데이터 형태에 따른 사칙연산\n",
        "\n",
        "> 스칼라 +, -, *, / -> 결과도 스칼라  \n",
        "벡터 +, -, 내적 -> +, - 결과는 벡터, 내적 결과는 스칼라  \n",
        "매트릭스 +, -, *, /  \n",
        "텐서 +, -, *, /  "
      ]
    },
    {
      "cell_type": "markdown",
      "metadata": {
        "id": "7Eca4eIPoRox"
      },
      "source": [
        "### 데이터분석에 자주 사용하는 특수한 연산\n",
        "벡터와 벡터의 내적\n",
        "    \n",
        "$$\\begin{bmatrix}1 & 2 & 3 & 4 \\end{bmatrix} \\times \\begin{bmatrix}1 \\\\ 2 \\\\ 3 \\\\ 4 \\end{bmatrix} = 1 * 1 + \\\n",
        "2 * 2 + 3 * 3 + 4 * 4 = 30$$\n",
        "# $$ A^TA $$\n",
        "\n",
        "- transpose = 한 축을 기준으로 행렬을 뒤집는 것\n",
        "- 벡터의 경우, transpose를 해야 shape을 맞춰 내적을 할 수 있음 \n",
        "- 행렬의 내적 ex) (2,5) * (5,4) = (2,4)"
      ]
    },
    {
      "cell_type": "markdown",
      "metadata": {
        "id": "To6rrH0SoRoy"
      },
      "source": [
        "#### 벡터와 벡터의 내적이 이루어지려면\n",
        "    \n",
        "    1. 벡터가 마주하는 shape의 갯수(길이)가 같아야 합니다.\n",
        "    2. 연산 앞에 위치한 벡터는 전치(transpose) 되어야 합니다.\n",
        "<img src=\"https://drive.google.com/uc?id=1VdfUo6iFHpTrPd_5RSjJLjlrX_5zWO0v\" height=\"300px\" width=\"300px\">  \n",
        "\n",
        "출처 : https://ko.wikipedia.org/wiki/%EC%A0%84%EC%B9%98%ED%96%89%EB%A0%AC  "
      ]
    },
    {
      "cell_type": "markdown",
      "metadata": {
        "id": "AFWw0_daoRoz"
      },
      "source": [
        "#### 벡터 내적으로 방정식 구현\n",
        "- linear regression 문제(머신러닝의 기본)\n",
        "\n",
        "$$y = \\begin{bmatrix}1 & 2 & 1 \\end{bmatrix} \\times \\begin{bmatrix}x_1 \\\\ x_2 \\\\ x_3 \\\\ \\end{bmatrix} = 1 * x_1 + \\\n",
        "2 * x_2 + 1 * x_3 = x_1 + 2x_2 + x_3$$"
      ]
    },
    {
      "cell_type": "markdown",
      "metadata": {
        "id": "4mhCcHN5oRo0"
      },
      "source": [
        "## 브로드캐스팅\n",
        "> 파이썬 넘파이 연산은 브로드캐스팅을 지원합니다.  \n",
        "벡터연산 시 shape이 큰 벡터의 길이만큼 shape이 작은 벡터가 연장되어 연산됩니다.\n",
        "\n",
        "<img src=\"https://drive.google.com/uc?id=139z17KEUFNIoJR_-lSnnxepmJAJx--cw\" height=\"500px\" width=\"500px\">  \n",
        "\n",
        "출처 : http://www.astroml.org/book_figures/appendix/fig_broadcast_visual.html"
      ]
    },
    {
      "cell_type": "code",
      "source": [
        "test_list = [1,2,3]\n",
        "test_list + 5"
      ],
      "metadata": {
        "colab": {
          "base_uri": "https://localhost:8080/",
          "height": 192
        },
        "id": "tELJt53Gsk9y",
        "outputId": "0c090f86-0cf4-4aa1-d5fe-c5d95e5d44f3"
      },
      "execution_count": 3,
      "outputs": [
        {
          "output_type": "error",
          "ename": "TypeError",
          "evalue": "ignored",
          "traceback": [
            "\u001b[0;31m---------------------------------------------------------------------------\u001b[0m",
            "\u001b[0;31mTypeError\u001b[0m                                 Traceback (most recent call last)",
            "\u001b[0;32m<ipython-input-3-3432c1bdf81f>\u001b[0m in \u001b[0;36m<module>\u001b[0;34m()\u001b[0m\n\u001b[1;32m      1\u001b[0m \u001b[0mtest_list\u001b[0m \u001b[0;34m=\u001b[0m \u001b[0;34m[\u001b[0m\u001b[0;36m1\u001b[0m\u001b[0;34m,\u001b[0m\u001b[0;36m2\u001b[0m\u001b[0;34m,\u001b[0m\u001b[0;36m3\u001b[0m\u001b[0;34m]\u001b[0m\u001b[0;34m\u001b[0m\u001b[0;34m\u001b[0m\u001b[0m\n\u001b[0;32m----> 2\u001b[0;31m \u001b[0mtest_list\u001b[0m \u001b[0;34m+\u001b[0m \u001b[0;36m5\u001b[0m\u001b[0;34m\u001b[0m\u001b[0;34m\u001b[0m\u001b[0m\n\u001b[0m",
            "\u001b[0;31mTypeError\u001b[0m: can only concatenate list (not \"int\") to list"
          ]
        }
      ]
    },
    {
      "cell_type": "code",
      "source": [
        "test_list + [5]"
      ],
      "metadata": {
        "colab": {
          "base_uri": "https://localhost:8080/"
        },
        "id": "_w4WbZWfsp-X",
        "outputId": "a9992303-b5a6-47a3-f91f-48e8de59350c"
      },
      "execution_count": 4,
      "outputs": [
        {
          "output_type": "execute_result",
          "data": {
            "text/plain": [
              "[1, 2, 3, 5]"
            ]
          },
          "metadata": {},
          "execution_count": 4
        }
      ]
    },
    {
      "cell_type": "code",
      "source": [
        "# broadcasting : 스칼라 값을 더해줄 수 있음\n",
        "np.arange(3) + 5 # 스칼라 값을 vector처럼 변환해주어 벡터 연산"
      ],
      "metadata": {
        "colab": {
          "base_uri": "https://localhost:8080/"
        },
        "id": "ekuP8zs7sruE",
        "outputId": "ae946592-7ee1-4106-dc53-fdf616c00b28"
      },
      "execution_count": 5,
      "outputs": [
        {
          "output_type": "execute_result",
          "data": {
            "text/plain": [
              "array([5, 6, 7])"
            ]
          },
          "metadata": {},
          "execution_count": 5
        }
      ]
    },
    {
      "cell_type": "markdown",
      "metadata": {
        "id": "HSSFUHl6oRo1"
      },
      "source": [
        "## Numpy function(유니버셜 함수)\n",
        "> `numpy`는 컴퓨팅연산을 위한 다양한 연산함수를 제공합니다.  \n",
        ">> 연산함수 기본구조  \n",
        "ex) **`np.sum`**(연산대상, axis=연산방향)  \n",
        "**`dtype()`**"
      ]
    },
    {
      "cell_type": "markdown",
      "metadata": {
        "id": "yrd8tNL3oRo1"
      },
      "source": [
        "### 수리연산\n",
        "- **`prod()`**\n",
        "- **`dot()`**\n",
        "- **`sum()`**\n",
        "- **`cumprod()`**\n",
        "- **`cumsum()`**\n",
        "- **`abs()`**\n",
        "- **`sqaure()`**\n",
        "- **`sqrt()`**\n",
        "- **`exp()`**\n",
        "- **`log()`**"
      ]
    },
    {
      "cell_type": "markdown",
      "metadata": {
        "id": "-On-vecnoRo2"
      },
      "source": [
        "### 통계연산\n",
        "- **`mean()`**\n",
        "- **`std()`**\n",
        "- **`var()`**\n",
        "- **`max()`**\n",
        "- **`min()`**\n",
        "- **`argmax()`**\n",
        "- **`argmin()`**"
      ]
    },
    {
      "cell_type": "markdown",
      "metadata": {
        "id": "KAT2Sz58oRo3"
      },
      "source": [
        "### 로직연산\n",
        "- **`arange()`**\n",
        "- **`isnan()`**\n",
        "- **`isinf()`**\n",
        "- **`unique()`**"
      ]
    },
    {
      "cell_type": "markdown",
      "metadata": {
        "id": "x-jUJOxUoRo3"
      },
      "source": [
        "### 기하\n",
        "- **`shape()`**\n",
        "- **`reshape()`**\n",
        "- **`ndim()`**\n",
        "- **`transpose()`**\n",
        "    \n",
        "각종 연산 함수 참고: https://numpy.org/doc/stable/reference/routines.math.html"
      ]
    },
    {
      "cell_type": "markdown",
      "metadata": {
        "id": "TxqfzsJHoRo4"
      },
      "source": [
        "### numpy 함수 실습"
      ]
    },
    {
      "cell_type": "code",
      "execution_count": 6,
      "metadata": {
        "ExecuteTime": {
          "end_time": "2021-09-10T05:07:46.258191Z",
          "start_time": "2021-09-10T05:07:46.245554Z"
        },
        "id": "GWafgsuHoRo4"
      },
      "outputs": [],
      "source": [
        "# 함수 예제를 위한 데이터셋\n",
        "test_list = [1, 2, 3, 4]\n",
        "test_list2 = [[1, 3], [5, 7]]\n",
        "test_flist = [1, 3.14, -4.5]\n",
        "test_list_2nd = [[1, 2, 3],\n",
        "              [4, 5, 6],\n",
        "              [7, 8, 9]]\n",
        "\n",
        "test_list_3rd = [[[1, 2, 3, 4],\n",
        "              [5, 6, 7, 8]],\n",
        "              \n",
        "              [[1, 2, 3, 4],\n",
        "               [5, 6, 7, 8]],\n",
        "\n",
        "              [[1, 2, 3, 4],\n",
        "               [5, 6, 7, 8]]]\n",
        "test_exp = [0, 1, 10]\n",
        "test_nan = [0, np.nan, np.inf]"
      ]
    },
    {
      "cell_type": "code",
      "execution_count": 7,
      "metadata": {
        "ExecuteTime": {
          "end_time": "2021-09-10T05:08:56.765908Z",
          "start_time": "2021-09-10T05:08:56.749821Z"
        },
        "colab": {
          "base_uri": "https://localhost:8080/"
        },
        "id": "hIe61nquoRo5",
        "outputId": "0831d1d0-7001-4c07-96ec-0017f575ba62"
      },
      "outputs": [
        {
          "output_type": "execute_result",
          "data": {
            "text/plain": [
              "24"
            ]
          },
          "metadata": {},
          "execution_count": 7
        }
      ],
      "source": [
        "# 곱연산 : 1 * 2 * 3 * 4\n",
        "np.prod(test_list)"
      ]
    },
    {
      "cell_type": "code",
      "execution_count": 9,
      "metadata": {
        "ExecuteTime": {
          "end_time": "2021-09-10T05:09:46.116420Z",
          "start_time": "2021-09-10T05:09:46.110493Z"
        },
        "colab": {
          "base_uri": "https://localhost:8080/"
        },
        "id": "26wLunGuoRo5",
        "outputId": "7bf847ee-46ee-4f7a-df31-ff9f626d5ed3"
      },
      "outputs": [
        {
          "output_type": "execute_result",
          "data": {
            "text/plain": [
              "array([ 1,  3,  6, 10])"
            ]
          },
          "metadata": {},
          "execution_count": 9
        }
      ],
      "source": [
        "# 합연산 : 일간 매출을 월말에 total해서 report쓸 때나 누적 수익률 등을 구할 때 사용\n",
        "np.cumsum(test_list)"
      ]
    },
    {
      "cell_type": "code",
      "execution_count": 8,
      "metadata": {
        "ExecuteTime": {
          "end_time": "2021-09-10T05:09:35.827442Z",
          "start_time": "2021-09-10T05:09:35.820458Z"
        },
        "colab": {
          "base_uri": "https://localhost:8080/"
        },
        "id": "k5f3ja_ZoRo6",
        "outputId": "18439fbc-a46f-4d1d-fc41-2757b83f4386"
      },
      "outputs": [
        {
          "output_type": "execute_result",
          "data": {
            "text/plain": [
              "array([ 1,  2,  6, 24])"
            ]
          },
          "metadata": {},
          "execution_count": 8
        }
      ],
      "source": [
        "# 누적곱연산\n",
        "np.cumprod(test_list)"
      ]
    },
    {
      "cell_type": "code",
      "execution_count": null,
      "metadata": {
        "ExecuteTime": {
          "end_time": "2021-09-10T05:10:23.533814Z",
          "start_time": "2021-09-10T05:10:23.526317Z"
        },
        "id": "5S7sOOzUoRo6"
      },
      "outputs": [],
      "source": [
        "# 누적합연산\n"
      ]
    },
    {
      "cell_type": "code",
      "execution_count": null,
      "metadata": {
        "ExecuteTime": {
          "end_time": "2021-09-10T05:12:23.843403Z",
          "start_time": "2021-09-10T05:12:23.834717Z"
        },
        "id": "yz0ZaeJboRo7"
      },
      "outputs": [],
      "source": [
        "test_flist"
      ]
    },
    {
      "cell_type": "code",
      "execution_count": null,
      "metadata": {
        "ExecuteTime": {
          "end_time": "2021-09-10T05:12:11.972345Z",
          "start_time": "2021-09-10T05:12:11.963131Z"
        },
        "id": "ncAxrgd6oRo7"
      },
      "outputs": [],
      "source": [
        "# 절대값\n"
      ]
    },
    {
      "cell_type": "code",
      "execution_count": null,
      "metadata": {
        "ExecuteTime": {
          "end_time": "2021-06-19T04:07:45.726523Z",
          "start_time": "2021-06-19T04:07:45.720686Z"
        },
        "id": "yfqlQ-OboRo8"
      },
      "outputs": [],
      "source": [
        "# 제곱\n"
      ]
    },
    {
      "cell_type": "code",
      "execution_count": null,
      "metadata": {
        "ExecuteTime": {
          "end_time": "2021-06-19T04:11:03.369518Z",
          "start_time": "2021-06-19T04:11:03.358175Z"
        },
        "id": "cTPiwj2QoRo8"
      },
      "outputs": [],
      "source": [
        "# 루트\n"
      ]
    },
    {
      "cell_type": "code",
      "execution_count": null,
      "metadata": {
        "ExecuteTime": {
          "end_time": "2021-06-19T04:11:18.225586Z",
          "start_time": "2021-06-19T04:11:18.219116Z"
        },
        "id": "yXLg_Uw9oRo9"
      },
      "outputs": [],
      "source": [
        "# exp\n"
      ]
    },
    {
      "cell_type": "code",
      "execution_count": null,
      "metadata": {
        "ExecuteTime": {
          "end_time": "2021-08-03T05:01:19.591520Z",
          "start_time": "2021-08-03T05:01:19.585551Z"
        },
        "id": "RTwD6MHOoRo9"
      },
      "outputs": [],
      "source": [
        "# 로그\n"
      ]
    },
    {
      "cell_type": "markdown",
      "metadata": {
        "id": "j_pqEO8WoRo9"
      },
      "source": [
        "## 통계값"
      ]
    },
    {
      "cell_type": "code",
      "execution_count": null,
      "metadata": {
        "ExecuteTime": {
          "end_time": "2021-09-10T05:13:37.170636Z",
          "start_time": "2021-09-10T05:13:37.164700Z"
        },
        "id": "kSc1GfFioRo-"
      },
      "outputs": [],
      "source": [
        "test_list"
      ]
    },
    {
      "cell_type": "code",
      "execution_count": null,
      "metadata": {
        "ExecuteTime": {
          "end_time": "2021-09-10T05:13:30.853608Z",
          "start_time": "2021-09-10T05:13:30.844952Z"
        },
        "id": "K_4gh2IWoRo-"
      },
      "outputs": [],
      "source": [
        "# 평균\n"
      ]
    },
    {
      "cell_type": "code",
      "execution_count": null,
      "metadata": {
        "ExecuteTime": {
          "end_time": "2021-09-10T05:13:56.366791Z",
          "start_time": "2021-09-10T05:13:56.358622Z"
        },
        "id": "7Gt2q8vYoRo-"
      },
      "outputs": [],
      "source": [
        "# 표준편차\n"
      ]
    },
    {
      "cell_type": "code",
      "execution_count": null,
      "metadata": {
        "ExecuteTime": {
          "end_time": "2021-09-10T05:14:06.823565Z",
          "start_time": "2021-09-10T05:14:06.815675Z"
        },
        "id": "6do3g6wqoRo_"
      },
      "outputs": [],
      "source": [
        "# 분산\n"
      ]
    },
    {
      "cell_type": "code",
      "execution_count": null,
      "metadata": {
        "ExecuteTime": {
          "end_time": "2021-06-19T04:12:27.542508Z",
          "start_time": "2021-06-19T04:12:27.534606Z"
        },
        "id": "VbxaygFBoRo_"
      },
      "outputs": [],
      "source": [
        "# 최대값\n"
      ]
    },
    {
      "cell_type": "code",
      "execution_count": null,
      "metadata": {
        "ExecuteTime": {
          "end_time": "2021-06-19T04:12:33.511575Z",
          "start_time": "2021-06-19T04:12:33.502964Z"
        },
        "id": "dyyl5_8ZoRpA"
      },
      "outputs": [],
      "source": [
        "# 최소값\n"
      ]
    },
    {
      "cell_type": "code",
      "execution_count": null,
      "metadata": {
        "ExecuteTime": {
          "end_time": "2021-09-10T05:15:23.830359Z",
          "start_time": "2021-09-10T05:15:23.823549Z"
        },
        "id": "G4sY3niFoRpA"
      },
      "outputs": [],
      "source": [
        "test_list_2nd"
      ]
    },
    {
      "cell_type": "code",
      "execution_count": 10,
      "metadata": {
        "ExecuteTime": {
          "end_time": "2021-09-10T05:16:00.907914Z",
          "start_time": "2021-09-10T05:16:00.900907Z"
        },
        "colab": {
          "base_uri": "https://localhost:8080/"
        },
        "id": "8DbDGZSJoRpB",
        "outputId": "d17c61b8-2774-44b4-b065-4068fc60fde5"
      },
      "outputs": [
        {
          "output_type": "stream",
          "name": "stdout",
          "text": [
            "[1, 2, 3, 4]\n"
          ]
        },
        {
          "output_type": "execute_result",
          "data": {
            "text/plain": [
              "3"
            ]
          },
          "metadata": {},
          "execution_count": 10
        }
      ],
      "source": [
        "# 자주 사용합니다. : 최대 확률을 가진 결과값을 빼올 때 많이 사용\n",
        "# 최대값 존재하고 있는 인덱스 넘버를 리턴\n",
        "# 출력값이 인덱스\n",
        "print(test_list)\n",
        "np.argmax(test_list)"
      ]
    },
    {
      "cell_type": "code",
      "execution_count": 11,
      "metadata": {
        "ExecuteTime": {
          "end_time": "2021-09-10T05:17:31.475238Z",
          "start_time": "2021-09-10T05:17:31.468087Z"
        },
        "colab": {
          "base_uri": "https://localhost:8080/"
        },
        "id": "Akr0FtBOoRpB",
        "outputId": "d126b5da-15cf-46e1-df3e-aef695d9f10e"
      },
      "outputs": [
        {
          "output_type": "execute_result",
          "data": {
            "text/plain": [
              "0"
            ]
          },
          "metadata": {},
          "execution_count": 11
        }
      ],
      "source": [
        "# 최소값 인덱스\n",
        "# argmax보다는 덜 쓰이지만 자주 보임\n",
        "np.argmin(test_list)"
      ]
    },
    {
      "cell_type": "code",
      "execution_count": 12,
      "metadata": {
        "ExecuteTime": {
          "end_time": "2021-09-10T05:19:08.152130Z",
          "start_time": "2021-09-10T05:19:08.145038Z"
        },
        "colab": {
          "base_uri": "https://localhost:8080/"
        },
        "id": "EiassrW3oRpB",
        "outputId": "b4692bf3-0472-40b9-b54f-83da17108418"
      },
      "outputs": [
        {
          "output_type": "execute_result",
          "data": {
            "text/plain": [
              "array([0, 1, 2, 3, 4, 5, 6, 7, 8, 9])"
            ]
          },
          "metadata": {},
          "execution_count": 12
        }
      ],
      "source": [
        "# 범위설정\n",
        "# (시작포인트, 마지막포인트 + 1, 스텝수)\n",
        "# range() 함수와 동일하게 작동함\n",
        "# for i in range(0, 100, 10):\n",
        "#     print(i)\n",
        "np.arange(10)"
      ]
    },
    {
      "cell_type": "code",
      "execution_count": 13,
      "metadata": {
        "ExecuteTime": {
          "end_time": "2021-09-10T05:21:51.287275Z",
          "start_time": "2021-09-10T05:21:51.279257Z"
        },
        "colab": {
          "base_uri": "https://localhost:8080/"
        },
        "id": "HZed0IDCoRpC",
        "outputId": "997a87f3-3668-437d-ef0d-9323280aecd4"
      },
      "outputs": [
        {
          "output_type": "execute_result",
          "data": {
            "text/plain": [
              "array([ 0.        ,  0.20408163,  0.40816327,  0.6122449 ,  0.81632653,\n",
              "        1.02040816,  1.2244898 ,  1.42857143,  1.63265306,  1.83673469,\n",
              "        2.04081633,  2.24489796,  2.44897959,  2.65306122,  2.85714286,\n",
              "        3.06122449,  3.26530612,  3.46938776,  3.67346939,  3.87755102,\n",
              "        4.08163265,  4.28571429,  4.48979592,  4.69387755,  4.89795918,\n",
              "        5.10204082,  5.30612245,  5.51020408,  5.71428571,  5.91836735,\n",
              "        6.12244898,  6.32653061,  6.53061224,  6.73469388,  6.93877551,\n",
              "        7.14285714,  7.34693878,  7.55102041,  7.75510204,  7.95918367,\n",
              "        8.16326531,  8.36734694,  8.57142857,  8.7755102 ,  8.97959184,\n",
              "        9.18367347,  9.3877551 ,  9.59183673,  9.79591837, 10.        ])"
            ]
          },
          "metadata": {},
          "execution_count": 13
        }
      ],
      "source": [
        "# 범위 데이터 생성 : 시각화할 때 sample data 생성할 때 많이 사용\n",
        "# (시작 값, 마지막 값 + 1, 데이터갯수)\n",
        "np.linspace(0,10,50)"
      ]
    },
    {
      "cell_type": "code",
      "execution_count": null,
      "metadata": {
        "ExecuteTime": {
          "end_time": "2021-09-10T05:22:33.862908Z",
          "start_time": "2021-09-10T05:22:33.857150Z"
        },
        "id": "rWpNQEQ7oRpC"
      },
      "outputs": [],
      "source": [
        "test_nan"
      ]
    },
    {
      "cell_type": "code",
      "execution_count": null,
      "metadata": {
        "ExecuteTime": {
          "end_time": "2021-09-10T05:23:04.766328Z",
          "start_time": "2021-09-10T05:23:04.759827Z"
        },
        "id": "ZjXpDdSwoRpC"
      },
      "outputs": [],
      "source": [
        "# 결측 확인\n"
      ]
    },
    {
      "cell_type": "code",
      "execution_count": null,
      "metadata": {
        "ExecuteTime": {
          "end_time": "2021-09-10T05:23:29.589356Z",
          "start_time": "2021-09-10T05:23:29.582563Z"
        },
        "id": "oWdbuywdoRpD"
      },
      "outputs": [],
      "source": [
        "# 발산 확인\n"
      ]
    },
    {
      "cell_type": "code",
      "execution_count": 14,
      "metadata": {
        "ExecuteTime": {
          "end_time": "2021-09-10T05:24:04.892319Z",
          "start_time": "2021-09-10T05:24:04.886284Z"
        },
        "colab": {
          "base_uri": "https://localhost:8080/"
        },
        "id": "YG6nftkvoRpD",
        "outputId": "3c0ca79f-da12-454b-ba8d-02a5d55d541f"
      },
      "outputs": [
        {
          "output_type": "execute_result",
          "data": {
            "text/plain": [
              "[[[1, 2, 3, 4], [5, 6, 7, 8]],\n",
              " [[1, 2, 3, 4], [5, 6, 7, 8]],\n",
              " [[1, 2, 3, 4], [5, 6, 7, 8]]]"
            ]
          },
          "metadata": {},
          "execution_count": 14
        }
      ],
      "source": [
        "test_list_3rd"
      ]
    },
    {
      "cell_type": "code",
      "execution_count": 15,
      "metadata": {
        "ExecuteTime": {
          "end_time": "2021-09-10T05:25:09.938954Z",
          "start_time": "2021-09-10T05:25:09.929863Z"
        },
        "colab": {
          "base_uri": "https://localhost:8080/"
        },
        "id": "O69Mm4qioRpD",
        "outputId": "d5934692-e8f9-48fb-df53-1fa3b37158aa"
      },
      "outputs": [
        {
          "output_type": "execute_result",
          "data": {
            "text/plain": [
              "array([1, 2, 3, 4, 5, 6, 7, 8])"
            ]
          },
          "metadata": {},
          "execution_count": 15
        }
      ],
      "source": [
        "# 고유값 확인(중복값이 제거된 유니크한 값)\n",
        "np.unique(test_list_3rd)"
      ]
    },
    {
      "cell_type": "code",
      "execution_count": 16,
      "metadata": {
        "ExecuteTime": {
          "end_time": "2021-09-10T05:25:42.923158Z",
          "start_time": "2021-09-10T05:25:42.911006Z"
        },
        "colab": {
          "base_uri": "https://localhost:8080/"
        },
        "id": "hO_uFCI7oRpE",
        "outputId": "0a4c43d0-1af9-4e8e-a087-3c2e9db15ece"
      },
      "outputs": [
        {
          "output_type": "execute_result",
          "data": {
            "text/plain": [
              "(3, 2, 4)"
            ]
          },
          "metadata": {},
          "execution_count": 16
        }
      ],
      "source": [
        "# 데이터 구조(모양)확인 : tensor\n",
        "np.shape(test_list_3rd)"
      ]
    },
    {
      "cell_type": "code",
      "execution_count": 17,
      "metadata": {
        "ExecuteTime": {
          "end_time": "2021-09-10T05:28:35.937865Z",
          "start_time": "2021-09-10T05:28:35.931340Z"
        },
        "colab": {
          "base_uri": "https://localhost:8080/"
        },
        "id": "FspOuUkGoRpE",
        "outputId": "4078525e-c6f5-4102-ab63-f329b22f4201"
      },
      "outputs": [
        {
          "output_type": "execute_result",
          "data": {
            "text/plain": [
              "array([[1, 2, 3, 4, 5, 6],\n",
              "       [7, 8, 1, 2, 3, 4],\n",
              "       [5, 6, 7, 8, 1, 2],\n",
              "       [3, 4, 5, 6, 7, 8]])"
            ]
          },
          "metadata": {},
          "execution_count": 17
        }
      ],
      "source": [
        "# 데이터 shape 변경\n",
        "# 어떤 조건에서 reshape가능한가? 데이터 내부에 존재하는 속성 갯수(24개)가 같아야 함.\n",
        "np.reshape(test_list_3rd, (4,6))\n",
        "np.reshape(test_list_3rd, (2,12))\n",
        "np.reshape(test_list_3rd, (3,8))"
      ]
    },
    {
      "cell_type": "code",
      "execution_count": null,
      "metadata": {
        "ExecuteTime": {
          "end_time": "2021-09-10T05:30:37.880633Z",
          "start_time": "2021-09-10T05:30:37.875952Z"
        },
        "id": "3-kEnKEsoRpE"
      },
      "outputs": [],
      "source": [
        "np.shape(test_list_3rd)"
      ]
    },
    {
      "cell_type": "code",
      "execution_count": 18,
      "metadata": {
        "ExecuteTime": {
          "end_time": "2021-09-10T05:30:11.053839Z",
          "start_time": "2021-09-10T05:30:11.048323Z"
        },
        "colab": {
          "base_uri": "https://localhost:8080/"
        },
        "id": "-fVzKo6SoRpE",
        "outputId": "5a99ae1e-e1f4-43ec-e779-50fac3a1acf4"
      },
      "outputs": [
        {
          "output_type": "execute_result",
          "data": {
            "text/plain": [
              "array([[[[1, 2, 3],\n",
              "         [4, 5, 6]],\n",
              "\n",
              "        [[7, 8, 1],\n",
              "         [2, 3, 4]]],\n",
              "\n",
              "\n",
              "       [[[5, 6, 7],\n",
              "         [8, 1, 2]],\n",
              "\n",
              "        [[3, 4, 5],\n",
              "         [6, 7, 8]]]])"
            ]
          },
          "metadata": {},
          "execution_count": 18
        }
      ],
      "source": [
        "# 데이터 차원확인\n",
        "# 데이터가 존재하는 축방향이 늘어나면 차원수도 늘어남\n",
        "# 기하학적 데이터의 차원수를 이야기하고\n",
        "# 데이터분석을 할 때는 열기준으로 차원을 이야기 합니다.\n",
        "np.reshape(test_list_3rd, (2,2,2,3))"
      ]
    },
    {
      "cell_type": "code",
      "source": [
        "np.ndim(test_list_3rd)"
      ],
      "metadata": {
        "colab": {
          "base_uri": "https://localhost:8080/"
        },
        "id": "S1ehpG2Ov1ml",
        "outputId": "f8213bc5-c769-4692-b295-85a553575eaa"
      },
      "execution_count": 19,
      "outputs": [
        {
          "output_type": "execute_result",
          "data": {
            "text/plain": [
              "3"
            ]
          },
          "metadata": {},
          "execution_count": 19
        }
      ]
    },
    {
      "cell_type": "code",
      "execution_count": null,
      "metadata": {
        "ExecuteTime": {
          "end_time": "2021-09-10T05:33:44.542351Z",
          "start_time": "2021-09-10T05:33:44.536058Z"
        },
        "id": "sZjgWVoooRpF"
      },
      "outputs": [],
      "source": [
        "# 전치행렬\n"
      ]
    },
    {
      "cell_type": "markdown",
      "metadata": {
        "id": "9pN_2MenoRpF"
      },
      "source": [
        "## Numpy array (배열, 행렬)\n",
        "> - numpy 연산의 기본이 되는 데이터 구조입니다.  \n",
        "> - 리스트보다 간편하게 만들 수 있으며 **연산이 빠른** 장점이 있습니다.  \n",
        "> - **브로드캐스팅 연산을 지원**합니다.  \n",
        "> - 단, **같은 type**의 데이터만 저장 가능합니다.  \n",
        "> - array 또한 numpy의 기본 함수로서 생성 가능합니다.  \n",
        "\n",
        ">> array 함수 호출 기본구조  \n",
        "ex) **`np.array(배열변환 대상 데이터)`**  \n",
        "ex) **`np.arange(start, end, step_forward)`**"
      ]
    },
    {
      "cell_type": "markdown",
      "metadata": {
        "id": "HgPJjwA_oRpF"
      },
      "source": [
        "### numpy array 실습"
      ]
    },
    {
      "cell_type": "code",
      "execution_count": 20,
      "metadata": {
        "ExecuteTime": {
          "end_time": "2021-09-10T05:38:17.188254Z",
          "start_time": "2021-09-10T05:38:17.183014Z"
        },
        "id": "KQTesZPcoRpG"
      },
      "outputs": [],
      "source": [
        "# 기존 데이터 구조를 array로 변환\n",
        "test_array = np.array(test_list)\n",
        "test_array2 = np.array(test_list2)\n",
        "test_farray = np.array(test_flist)\n",
        "test_array_2nd = np.array(test_list_2nd)\n",
        "test_array_3rd = np.array(test_list_3rd)"
      ]
    },
    {
      "cell_type": "code",
      "execution_count": 22,
      "metadata": {
        "ExecuteTime": {
          "end_time": "2021-09-10T05:38:47.055844Z",
          "start_time": "2021-09-10T05:38:47.051784Z"
        },
        "colab": {
          "base_uri": "https://localhost:8080/"
        },
        "id": "CPb7-ZtNoRpG",
        "outputId": "3439e93f-1b24-4aed-9281-cfd772244d55"
      },
      "outputs": [
        {
          "output_type": "execute_result",
          "data": {
            "text/plain": [
              "array([[[1, 2, 3, 4],\n",
              "        [5, 6, 7, 8]],\n",
              "\n",
              "       [[1, 2, 3, 4],\n",
              "        [5, 6, 7, 8]],\n",
              "\n",
              "       [[1, 2, 3, 4],\n",
              "        [5, 6, 7, 8]]])"
            ]
          },
          "metadata": {},
          "execution_count": 22
        }
      ],
      "source": [
        "# array 생성 확인\n",
        "test_array_3rd   # list보다 array로 변환했을 때 사람이 이해하기 쉬운 형태"
      ]
    },
    {
      "cell_type": "code",
      "execution_count": 23,
      "metadata": {
        "ExecuteTime": {
          "end_time": "2021-09-10T05:43:27.080879Z",
          "start_time": "2021-09-10T05:43:27.078172Z"
        },
        "colab": {
          "base_uri": "https://localhost:8080/"
        },
        "id": "dp8xzwKboRpG",
        "outputId": "e45a6f14-942f-4d3f-cf78-923c01249ec5"
      },
      "outputs": [
        {
          "output_type": "execute_result",
          "data": {
            "text/plain": [
              "array(['1', '2', '3', '4', '안녕'], dtype='<U21')"
            ]
          },
          "metadata": {},
          "execution_count": 23
        }
      ],
      "source": [
        "# 같은 타입의 데이터만 들어가는지 확인\n",
        "test_list.append('안녕') \n",
        "test_array = np.array(test_list)\n",
        "test_array  # 기존의 실수나 정수도 문자열로 변경되어, array 안에 문자열 데이터만 들어가있음"
      ]
    },
    {
      "cell_type": "code",
      "execution_count": null,
      "metadata": {
        "ExecuteTime": {
          "end_time": "2021-09-10T05:44:09.302063Z",
          "start_time": "2021-09-10T05:44:09.295076Z"
        },
        "id": "rk4OwNG3oRpH"
      },
      "outputs": [],
      "source": [
        "# 2차원 배열 확인\n"
      ]
    },
    {
      "cell_type": "code",
      "execution_count": null,
      "metadata": {
        "ExecuteTime": {
          "end_time": "2021-09-10T05:44:55.643344Z",
          "start_time": "2021-09-10T05:44:55.637106Z"
        },
        "id": "f70ou9V7oRpH"
      },
      "outputs": [],
      "source": [
        "# 3차원 배열 확인\n"
      ]
    },
    {
      "cell_type": "code",
      "execution_count": 24,
      "metadata": {
        "ExecuteTime": {
          "end_time": "2021-09-10T05:47:06.371655Z",
          "start_time": "2021-09-10T05:47:06.367168Z"
        },
        "colab": {
          "base_uri": "https://localhost:8080/"
        },
        "id": "CVeHPGx1oRpH",
        "outputId": "4b19c9a9-4489-4586-ddc0-5b2abaae1c91"
      },
      "outputs": [
        {
          "output_type": "execute_result",
          "data": {
            "text/plain": [
              "array([[ 0,  1,  2,  3,  4],\n",
              "       [ 5,  6,  7,  8,  9],\n",
              "       [10, 11, 12, 13, 14],\n",
              "       [15, 16, 17, 18, 19],\n",
              "       [20, 21, 22, 23, 24]])"
            ]
          },
          "metadata": {},
          "execution_count": 24
        }
      ],
      "source": [
        "# np.arange 함수로 생성\n",
        "np.arange(25).reshape(5,5)"
      ]
    },
    {
      "cell_type": "code",
      "execution_count": null,
      "metadata": {
        "ExecuteTime": {
          "end_time": "2021-09-10T05:57:45.735507Z",
          "start_time": "2021-09-10T05:57:45.730329Z"
        },
        "id": "ekCipmThoRpI"
      },
      "outputs": [],
      "source": [
        ""
      ]
    },
    {
      "cell_type": "markdown",
      "metadata": {
        "id": "K8nPIZ0aoRpI"
      },
      "source": [
        "### 특수한 형태의 array를 함수로 생성\n",
        "함수 호출의 기본구조\n",
        "> ex) **`np.ones([자료구조 shape])`**  \n",
        "> 자료구조 shape은 정수, **[ ]**리스트, **( )** 튜플 로만 입력가능합니다.\n",
        "\n",
        ">> - ones()  \n",
        ">> - zeros()  \n",
        ">> - empty()  \n",
        ">> - eye()"
      ]
    },
    {
      "cell_type": "code",
      "execution_count": 25,
      "metadata": {
        "ExecuteTime": {
          "end_time": "2021-09-10T06:03:35.147322Z",
          "start_time": "2021-09-10T06:03:35.141909Z"
        },
        "colab": {
          "base_uri": "https://localhost:8080/"
        },
        "id": "U2310YlnoRpI",
        "outputId": "f4842cc2-20d3-4bab-a06e-e8ed042ec453"
      },
      "outputs": [
        {
          "output_type": "execute_result",
          "data": {
            "text/plain": [
              "array([[1., 1., 1., 1., 1.],\n",
              "       [1., 1., 1., 1., 1.],\n",
              "       [1., 1., 1., 1., 1.],\n",
              "       [1., 1., 1., 1., 1.],\n",
              "       [1., 1., 1., 1., 1.]])"
            ]
          },
          "metadata": {},
          "execution_count": 25
        }
      ],
      "source": [
        "# 1로 초기화한 array 생성\n",
        "np.ones((5,5))"
      ]
    },
    {
      "cell_type": "code",
      "execution_count": null,
      "metadata": {
        "ExecuteTime": {
          "end_time": "2021-09-10T06:04:05.457164Z",
          "start_time": "2021-09-10T06:04:05.451399Z"
        },
        "id": "JlMv07eCoRpI"
      },
      "outputs": [],
      "source": [
        "# 0으로 초기화\n"
      ]
    },
    {
      "cell_type": "code",
      "execution_count": null,
      "metadata": {
        "ExecuteTime": {
          "end_time": "2021-09-10T06:05:07.127161Z",
          "start_time": "2021-09-10T06:05:07.121604Z"
        },
        "id": "QIC9TPXKoRpJ"
      },
      "outputs": [],
      "source": [
        "# 빈 값으로 초기화\n"
      ]
    },
    {
      "cell_type": "code",
      "execution_count": null,
      "metadata": {
        "ExecuteTime": {
          "end_time": "2021-09-10T06:11:41.461776Z",
          "start_time": "2021-09-10T06:11:41.455598Z"
        },
        "id": "zmxeXU8uoRpJ"
      },
      "outputs": [],
      "source": [
        "# 항등행렬 초기화\n",
        "# 항등행렬의 수학적 의미는 항등행렬 X A = A\n",
        "# shape이 안맞는 경우 연산이 가능하도록 할 때\n"
      ]
    },
    {
      "cell_type": "markdown",
      "metadata": {
        "id": "6cMGBBGtoRpJ"
      },
      "source": [
        "### array 속성 및 내장함수\n",
        "`np.array` 에는 유용한 수리, 통계 연산을 위한 함수가 갖추어져 있습니다. 다차원 기하학적 연산을 위한 함수도 함께 살펴보겠습니다.  \n",
        "    \n",
        "> array 내장 속성 호출 기본구조  : 속성은 괄호 붙이지 않는다\n",
        "ex) **`test_array.ndim`**  \n",
        "자주 사용하는 속성 `shape`, `dtype`, `ndim`\n",
        "    \n",
        "> array 내장함수 호출 기본구조  : 함수는 소괄호 붙여야 한다\n",
        "ex) **`test_array.prod()`**\n",
        "    \n",
        "위에 학습한 np.sum() 과는 달리 array 변수의 인자를 받아 그대로 사용합니다."
      ]
    },
    {
      "cell_type": "markdown",
      "metadata": {
        "id": "lqMhntO-oRpK"
      },
      "source": [
        "#### array 속성"
      ]
    },
    {
      "cell_type": "code",
      "execution_count": 26,
      "metadata": {
        "ExecuteTime": {
          "end_time": "2021-09-10T06:18:59.601375Z",
          "start_time": "2021-09-10T06:18:59.597286Z"
        },
        "colab": {
          "base_uri": "https://localhost:8080/"
        },
        "id": "nYII4fFZoRpK",
        "outputId": "57bdc160-0d5d-433f-8879-6007aa8e76c2"
      },
      "outputs": [
        {
          "output_type": "execute_result",
          "data": {
            "text/plain": [
              "<function ndarray.argmax>"
            ]
          },
          "metadata": {},
          "execution_count": 26
        }
      ],
      "source": [
        "# 데이터 타입확인\n",
        "test_array.argmax"
      ]
    },
    {
      "cell_type": "code",
      "source": [
        "# function이니까 소괄호붙여야겠다\n",
        "test_array.argmax()"
      ],
      "metadata": {
        "colab": {
          "base_uri": "https://localhost:8080/"
        },
        "id": "fsSKEEBH084Q",
        "outputId": "dc5fc69a-9849-469a-a01b-8acc57da3778"
      },
      "execution_count": 27,
      "outputs": [
        {
          "output_type": "execute_result",
          "data": {
            "text/plain": [
              "4"
            ]
          },
          "metadata": {},
          "execution_count": 27
        }
      ]
    },
    {
      "cell_type": "code",
      "execution_count": 28,
      "metadata": {
        "ExecuteTime": {
          "end_time": "2021-09-10T06:19:24.178008Z",
          "start_time": "2021-09-10T06:19:24.174611Z"
        },
        "colab": {
          "base_uri": "https://localhost:8080/"
        },
        "id": "Cjk4MhTxoRpK",
        "outputId": "04955a71-938b-45b1-ad46-63f3939cc2b3"
      },
      "outputs": [
        {
          "output_type": "execute_result",
          "data": {
            "text/plain": [
              "(5,)"
            ]
          },
          "metadata": {},
          "execution_count": 28
        }
      ],
      "source": [
        "# 데이터구조 확인\n",
        "# np.shape()\n",
        "test_array.shape  # 'class명.' 하면 속성이나 내장함수에 바로 접근할 수 있다."
      ]
    },
    {
      "cell_type": "code",
      "execution_count": null,
      "metadata": {
        "ExecuteTime": {
          "end_time": "2021-09-10T06:20:10.057116Z",
          "start_time": "2021-09-10T06:20:10.053090Z"
        },
        "id": "1XtWrBVToRpK"
      },
      "outputs": [],
      "source": [
        "# 데이터 차원 확인\n"
      ]
    },
    {
      "cell_type": "code",
      "execution_count": null,
      "metadata": {
        "ExecuteTime": {
          "end_time": "2021-09-10T06:29:16.069671Z",
          "start_time": "2021-09-10T06:29:16.064815Z"
        },
        "id": "YzXPuKTRoRpL"
      },
      "outputs": [],
      "source": [
        "# 전치행렬\n"
      ]
    },
    {
      "cell_type": "markdown",
      "metadata": {
        "id": "WRI6f2CRoRpL"
      },
      "source": [
        "#### array 내장함수"
      ]
    },
    {
      "cell_type": "code",
      "execution_count": null,
      "metadata": {
        "ExecuteTime": {
          "end_time": "2021-09-10T06:30:44.690675Z",
          "start_time": "2021-09-10T06:30:44.686617Z"
        },
        "id": "TzL-1ommoRpL"
      },
      "outputs": [],
      "source": [
        "test_array"
      ]
    },
    {
      "cell_type": "code",
      "execution_count": null,
      "metadata": {
        "ExecuteTime": {
          "end_time": "2021-09-10T06:33:07.374789Z",
          "start_time": "2021-09-10T06:33:07.369909Z"
        },
        "id": "iblfmmqOoRpM"
      },
      "outputs": [],
      "source": [
        "# 내장함수 호출\n"
      ]
    },
    {
      "cell_type": "code",
      "execution_count": null,
      "metadata": {
        "id": "1yY5qAMpoRpM"
      },
      "outputs": [],
      "source": [
        "# numpy 함수와 키워드가 같습니다.\n"
      ]
    },
    {
      "cell_type": "markdown",
      "metadata": {
        "id": "MShK8yU3oRpM"
      },
      "source": [
        "### array 연산\n",
        "컴퓨팅 연산을 위한 패키지인 만큼 편리한 배열 연산 기능을 지원합니다. 여러 array 연산을 통해 다른 자료구조와의 연산 차이를 알아봅시다."
      ]
    },
    {
      "cell_type": "code",
      "execution_count": 29,
      "metadata": {
        "ExecuteTime": {
          "end_time": "2021-09-10T06:38:24.605844Z",
          "start_time": "2021-09-10T06:38:24.600219Z"
        },
        "colab": {
          "base_uri": "https://localhost:8080/"
        },
        "id": "XzJfOgvLoRpM",
        "outputId": "cc030369-5974-4cf0-8e0d-396eb987c157"
      },
      "outputs": [
        {
          "output_type": "execute_result",
          "data": {
            "text/plain": [
              "[1, 2, 3, 4, '안녕', 5]"
            ]
          },
          "metadata": {},
          "execution_count": 29
        }
      ],
      "source": [
        "# 리스트연산 test\n",
        "# array는 만드는 것도 편하고 연산이 빠르다\n",
        "test_list + [5]  # 리스트의 덧셈 : 뒤에 append만 해줌(그 이유는 리스트 안에 들어있는 데이터 타입이 각각 다를 수 있기 때문)"
      ]
    },
    {
      "cell_type": "code",
      "source": [
        "test_array"
      ],
      "metadata": {
        "colab": {
          "base_uri": "https://localhost:8080/"
        },
        "id": "mx18gDAr1p1G",
        "outputId": "89cd8d69-c0ed-47d1-91e6-d5d682fa29f0"
      },
      "execution_count": 30,
      "outputs": [
        {
          "output_type": "execute_result",
          "data": {
            "text/plain": [
              "array(['1', '2', '3', '4', '안녕'], dtype='<U21')"
            ]
          },
          "metadata": {},
          "execution_count": 30
        }
      ]
    },
    {
      "cell_type": "code",
      "source": [
        "# 문자열을 숫자형 데이터로 바꾼 후 Broadcasting 연산\n",
        "test_list = [1,2,3,4]\n",
        "test_array = np.array(test_list)\n",
        "test_array + 5"
      ],
      "metadata": {
        "colab": {
          "base_uri": "https://localhost:8080/"
        },
        "id": "NHUBrAs51wdD",
        "outputId": "a05d8495-4a7b-44d0-8bc3-1c2fd47912d7"
      },
      "execution_count": 31,
      "outputs": [
        {
          "output_type": "execute_result",
          "data": {
            "text/plain": [
              "array([6, 7, 8, 9])"
            ]
          },
          "metadata": {},
          "execution_count": 31
        }
      ]
    },
    {
      "cell_type": "code",
      "execution_count": null,
      "metadata": {
        "ExecuteTime": {
          "end_time": "2021-09-10T06:40:44.379763Z",
          "start_time": "2021-09-10T06:40:44.374980Z"
        },
        "id": "IxbbRV9hoRpN"
      },
      "outputs": [],
      "source": [
        "# array 덧셈, 뺄셈, 곱셈, 나눗셈\n"
      ]
    },
    {
      "cell_type": "code",
      "execution_count": null,
      "metadata": {
        "ExecuteTime": {
          "end_time": "2021-09-10T06:44:05.940243Z",
          "start_time": "2021-09-10T06:44:05.308490Z"
        },
        "id": "ajzNOZ0koRpN"
      },
      "outputs": [],
      "source": [
        "# 실제 연산속도 차이를 확인하기 위한 큰 데이터 생성\n",
        "big_list = [i for i in range(50000000)] # big data   # for문을 돌려 list에 하나씩 append하는 것보다 list comprehension이 연산 속도 훨씬 빠르다\n",
        "big_array = np.array(big_list)"
      ]
    },
    {
      "cell_type": "code",
      "execution_count": null,
      "metadata": {
        "ExecuteTime": {
          "end_time": "2021-09-10T06:44:10.244421Z",
          "start_time": "2021-09-10T06:44:09.858402Z"
        },
        "id": "IwK1FAMRoRpN"
      },
      "outputs": [],
      "source": [
        "%%time\n",
        "# 리스트연산테스트\n",
        "big_list2 = [ i+1 for i in big_list]"
      ]
    },
    {
      "cell_type": "code",
      "execution_count": null,
      "metadata": {
        "ExecuteTime": {
          "end_time": "2021-09-10T06:44:12.755657Z",
          "start_time": "2021-09-10T06:44:12.650882Z"
        },
        "id": "GATxomXEoRpO"
      },
      "outputs": [],
      "source": [
        "%%time\n",
        "# array 연산테스트(broadcast 연산)\n",
        "big_array + 1    # 리스트연산보다 8배 ~ 20배 더 빠르다."
      ]
    },
    {
      "cell_type": "code",
      "execution_count": 32,
      "metadata": {
        "ExecuteTime": {
          "end_time": "2021-09-10T07:02:49.091212Z",
          "start_time": "2021-09-10T07:02:49.088103Z"
        },
        "id": "4uE2TCzloRpO"
      },
      "outputs": [],
      "source": [
        "# 행렬내적\n",
        "a = np.arange(24).reshape(4,6)\n",
        "b = np.arange(24).reshape(6,4)"
      ]
    },
    {
      "cell_type": "code",
      "execution_count": 33,
      "metadata": {
        "ExecuteTime": {
          "end_time": "2021-09-10T07:03:55.213937Z",
          "start_time": "2021-09-10T07:03:55.206895Z"
        },
        "colab": {
          "base_uri": "https://localhost:8080/"
        },
        "id": "jUJQ8kWjoRpO",
        "outputId": "f407c1b8-cf5e-402d-eeda-2d006ae5da9f"
      },
      "outputs": [
        {
          "output_type": "execute_result",
          "data": {
            "text/plain": [
              "array([[ 220,  235,  250,  265],\n",
              "       [ 580,  631,  682,  733],\n",
              "       [ 940, 1027, 1114, 1201],\n",
              "       [1300, 1423, 1546, 1669]])"
            ]
          },
          "metadata": {},
          "execution_count": 33
        }
      ],
      "source": [
        "# 행렬내적 연산\n",
        "a @ b"
      ]
    },
    {
      "cell_type": "markdown",
      "metadata": {
        "id": "JQPQ4a7ooRpO"
      },
      "source": [
        "### 벡터 가중합\n",
        "벡터의 내적은 가중합을 계산할 때 쓰일 수 있습니다. **가중합(weighted sum)**이란 복수의 데이터를 단순히 합하는 것이 아니라 각각의 수에 어떤 가중치 값을 곱한 후 이 곱셈 결과들을 다시 합한 것을 말합니다.  \n",
        "데이터 벡터가 $x=[x_1, \\cdots, x_N]^T$이고 가중치 벡터가 $w=[w_1, \\cdots, w_N]^T$이면 데이터 벡터의 가중합은 다음과 같습니다.\n",
        "\n",
        "$$ \n",
        "\\begin{align}\n",
        "w_1 x_1 + \\cdots + w_N x_N = \\sum_{i=1}^N w_i x_i \n",
        "\\end{align}\n",
        "$$ \n",
        "\n",
        "이 값을 벡터 $x$와 $w$의 곱으로 나타내면 $w^Tx$ 또는 $x^Tw$ 라는 간단한 수식으로 표시할 수 있습니다.  \n",
        "쇼핑을 할 때 각 물건의 가격은 데이터 벡터, 각 물건의 수량은 가중치로 생각하여 내적을 구하면 총금액을 계산할 수 있습니다.  \n",
        "=> 데이터 벡터 1개와 가중치 벡터 1개를 내적해서 계산"
      ]
    },
    {
      "cell_type": "code",
      "execution_count": 37,
      "metadata": {
        "ExecuteTime": {
          "end_time": "2021-09-10T07:15:59.162206Z",
          "start_time": "2021-09-10T07:15:59.157182Z"
        },
        "colab": {
          "base_uri": "https://localhost:8080/"
        },
        "id": "dJQRoRapoRpP",
        "outputId": "d7bf50f8-5af8-4331-92db-3ab8d5946e9f"
      },
      "outputs": [
        {
          "output_type": "execute_result",
          "data": {
            "text/plain": [
              "24100000"
            ]
          },
          "metadata": {},
          "execution_count": 37
        }
      ],
      "source": [
        "# 벡터의 가중합 연습문제\n",
        "# 삼성전자, 셀트리온, 카카오로 포트폴리오를 구성하려한다. \n",
        "# 각 종목의 가격은 80,000원, 270,000원, 160,000원이다.\n",
        "# 삼성전자 100주, 셀트리온 30주, 카카오 50주로 구성하기 위한 매수금액을 구하시오\n",
        "# (80000 * 100) + (270000 * 30) + (160000 * 50)\n",
        "\n",
        "stock = np.array([100, 30, 50])            # 수량 벡터\n",
        "price = np.array([80000, 270000, 160000])  # 가격 벡터\n",
        "stock @ price"
      ]
    },
    {
      "cell_type": "code",
      "source": [
        ""
      ],
      "metadata": {
        "id": "rfCY8HUj5HIc"
      },
      "execution_count": null,
      "outputs": []
    },
    {
      "cell_type": "markdown",
      "metadata": {
        "id": "3_Pf0LkEoRpP"
      },
      "source": [
        "## array 인덱싱, 슬라이싱(매우중요)\n",
        "> 기본적으로 자료구조란 데이터의 묶음, 그 묶음을 관리 할 수 있는 바구니를 이야기 합니다.  \n",
        "데이터 분석을 위해 자료구조를 사용하지만 자료구조안 내용에 접근을 해야 할 경우도 있습니다.\n",
        ">> **인덱싱**이란?  \n",
        "데이터 바구니 안에 든 내용 하나에 접근하는 명령, 인덱스는 내용의 순번  \n",
        ">> **슬라이싱**이란?  \n",
        "데이터 바구니 안에 든 내용 여러가지에 접근 하는 명령  \n",
        "\n",
        "기본적으로 인덱싱과 슬라이싱의 색인은 리스트와 동일합니다."
      ]
    },
    {
      "cell_type": "markdown",
      "metadata": {
        "id": "l-mNK2_uoRpP"
      },
      "source": [
        "### 인덱싱, 슬라이싱 실습"
      ]
    },
    {
      "cell_type": "code",
      "execution_count": 39,
      "metadata": {
        "ExecuteTime": {
          "end_time": "2021-09-10T07:37:56.003486Z",
          "start_time": "2021-09-10T07:37:55.999507Z"
        },
        "colab": {
          "base_uri": "https://localhost:8080/"
        },
        "id": "EW6Lk-AcoRpQ",
        "outputId": "a0d078ad-6973-4e8f-d69a-7484d08cfa8b"
      },
      "outputs": [
        {
          "output_type": "execute_result",
          "data": {
            "text/plain": [
              "array([10, 11, 12, 13, 14, 15, 16, 17, 18, 19])"
            ]
          },
          "metadata": {},
          "execution_count": 39
        }
      ],
      "source": [
        "# 10부터 19까지 범위를 가지는 array생성\n",
        "index_test = np.arange(10,20)  # 벡터 데이터\n",
        "index_test"
      ]
    },
    {
      "cell_type": "code",
      "execution_count": 40,
      "metadata": {
        "ExecuteTime": {
          "end_time": "2021-09-10T07:41:45.003072Z",
          "start_time": "2021-09-10T07:41:44.999380Z"
        },
        "colab": {
          "base_uri": "https://localhost:8080/"
        },
        "id": "vURrth73oRpQ",
        "outputId": "e7c5b819-4068-46fa-ed05-d6fd57a73f97"
      },
      "outputs": [
        {
          "output_type": "execute_result",
          "data": {
            "text/plain": [
              "array([10, 11, 12, 13])"
            ]
          },
          "metadata": {},
          "execution_count": 40
        }
      ],
      "source": [
        "# 0부터 3번 인덱스까지\n",
        "index_test[0:4] # index_test[:4]"
      ]
    },
    {
      "cell_type": "code",
      "execution_count": 48,
      "metadata": {
        "ExecuteTime": {
          "end_time": "2021-09-10T07:41:52.010291Z",
          "start_time": "2021-09-10T07:41:52.005957Z"
        },
        "colab": {
          "base_uri": "https://localhost:8080/"
        },
        "id": "YsFxmeHKoRpQ",
        "outputId": "12afb89c-e8db-4783-883d-b116fc4959d4"
      },
      "outputs": [
        {
          "output_type": "execute_result",
          "data": {
            "text/plain": [
              "array([14, 15, 16, 17, 18, 19])"
            ]
          },
          "metadata": {},
          "execution_count": 48
        }
      ],
      "source": [
        "# 4번 인덱스부터 마지막 인덱스까지\n",
        "index_test[4:]  # index_test[4:len(index_test)]"
      ]
    },
    {
      "cell_type": "code",
      "execution_count": 44,
      "metadata": {
        "ExecuteTime": {
          "end_time": "2021-09-10T07:42:14.989703Z",
          "start_time": "2021-09-10T07:42:14.984451Z"
        },
        "colab": {
          "base_uri": "https://localhost:8080/"
        },
        "id": "Gx6-244ToRpR",
        "outputId": "9834b9db-8bee-4fb1-a85f-9949ddbed745"
      },
      "outputs": [
        {
          "output_type": "execute_result",
          "data": {
            "text/plain": [
              "array([17, 18, 19])"
            ]
          },
          "metadata": {},
          "execution_count": 44
        }
      ],
      "source": [
        "# 마지막 인덱스부터 뒤에서 3번째 인덱스까지\n",
        "index_test[-3:]  # index_test[-1:-4:-1]"
      ]
    },
    {
      "cell_type": "code",
      "execution_count": 47,
      "metadata": {
        "ExecuteTime": {
          "end_time": "2021-09-10T07:42:30.002782Z",
          "start_time": "2021-09-10T07:42:29.997452Z"
        },
        "colab": {
          "base_uri": "https://localhost:8080/"
        },
        "id": "hEyk7kePoRpR",
        "outputId": "6b8ecb50-8f14-43d1-9432-4e70304b1cd5"
      },
      "outputs": [
        {
          "output_type": "execute_result",
          "data": {
            "text/plain": [
              "array([10, 13, 16, 19])"
            ]
          },
          "metadata": {},
          "execution_count": 47
        }
      ],
      "source": [
        "# 0부터 3씩 증가하는 인덱스\n",
        "index_test[::3]  "
      ]
    },
    {
      "cell_type": "markdown",
      "metadata": {
        "id": "vm8ZQ8xqoRpR"
      },
      "source": [
        "### 여러가지 인덱싱 및 슬라이싱 방법을 시도해봅시다"
      ]
    },
    {
      "cell_type": "code",
      "execution_count": 49,
      "metadata": {
        "ExecuteTime": {
          "end_time": "2021-09-30T10:07:57.604703Z",
          "start_time": "2021-09-30T10:07:57.595285Z"
        },
        "colab": {
          "base_uri": "https://localhost:8080/"
        },
        "id": "zcV451BqoRpS",
        "outputId": "2ada6be4-90bc-4df1-c395-c0ddeca8745b"
      },
      "outputs": [
        {
          "output_type": "execute_result",
          "data": {
            "text/plain": [
              "array([[ 0,  1,  2,  3,  4],\n",
              "       [ 5,  6,  7,  8,  9],\n",
              "       [10, 11, 12, 13, 14],\n",
              "       [15, 16, 17, 18, 19],\n",
              "       [20, 21, 22, 23, 24]])"
            ]
          },
          "metadata": {},
          "execution_count": 49
        }
      ],
      "source": [
        "# 인덱싱 테스트 array 생성  : array는 배열이므로 차원수를 늘였다 줄였다 할 수 있다.\n",
        "index_test2 = np.array(range(25)).reshape([5, 5])\n",
        "index_test2"
      ]
    },
    {
      "cell_type": "code",
      "execution_count": 50,
      "metadata": {
        "colab": {
          "base_uri": "https://localhost:8080/"
        },
        "id": "Tg366Un-oRpT",
        "outputId": "76151a11-c8ef-4260-fc02-8fc869b52ffb"
      },
      "outputs": [
        {
          "output_type": "execute_result",
          "data": {
            "text/plain": [
              "array([[11, 12, 13],\n",
              "       [16, 17, 18],\n",
              "       [21, 22, 23]])"
            ]
          },
          "metadata": {},
          "execution_count": 50
        }
      ],
      "source": [
        "# 아래 슬라이싱 결과와 같게 코드를 입력해보세요\n",
        "index_test2[2:,1:4]  # [행 기준 슬라이싱 먼저, 열 기준 슬라이싱 다음]"
      ]
    },
    {
      "cell_type": "code",
      "execution_count": null,
      "metadata": {
        "ExecuteTime": {
          "end_time": "2021-09-30T10:07:59.655570Z",
          "start_time": "2021-09-30T10:07:59.651351Z"
        },
        "id": "PTA1FGahoRpT",
        "outputId": "35d70a24-88d3-427b-d9a3-d1711ab0be04"
      },
      "outputs": [
        {
          "data": {
            "text/plain": [
              "array([[11, 12, 13],\n",
              "       [16, 17, 18],\n",
              "       [21, 22, 23]])"
            ]
          },
          "execution_count": 3,
          "metadata": {},
          "output_type": "execute_result"
        }
      ],
      "source": [
        ""
      ]
    },
    {
      "cell_type": "code",
      "execution_count": 52,
      "metadata": {
        "colab": {
          "base_uri": "https://localhost:8080/"
        },
        "id": "BVH78mVooRpU",
        "outputId": "f55a7a15-7030-4f76-a3c3-160bafa1376c"
      },
      "outputs": [
        {
          "output_type": "execute_result",
          "data": {
            "text/plain": [
              "array([[2, 3, 4],\n",
              "       [7, 8, 9]])"
            ]
          },
          "metadata": {},
          "execution_count": 52
        }
      ],
      "source": [
        "# 아래 슬라이싱 결과와 같게 코드를 입력해보세요\n",
        "index_test2[:2, 2:]"
      ]
    },
    {
      "cell_type": "code",
      "execution_count": null,
      "metadata": {
        "ExecuteTime": {
          "end_time": "2021-09-30T10:08:00.840089Z",
          "start_time": "2021-09-30T10:08:00.835731Z"
        },
        "id": "TnNCwkKOoRpU",
        "outputId": "6070cdab-6d94-4489-9cb3-7cc16ab39338"
      },
      "outputs": [
        {
          "data": {
            "text/plain": [
              "array([[2, 3, 4],\n",
              "       [7, 8, 9]])"
            ]
          },
          "execution_count": 4,
          "metadata": {},
          "output_type": "execute_result"
        }
      ],
      "source": [
        ""
      ]
    },
    {
      "cell_type": "code",
      "execution_count": 53,
      "metadata": {
        "colab": {
          "base_uri": "https://localhost:8080/"
        },
        "id": "Wv7Jf4u7oRpU",
        "outputId": "61ee66dd-6cd2-4ebb-9862-2944320ed252"
      },
      "outputs": [
        {
          "output_type": "execute_result",
          "data": {
            "text/plain": [
              "array([ 1,  6, 11, 16, 21])"
            ]
          },
          "metadata": {},
          "execution_count": 53
        }
      ],
      "source": [
        "# 아래 슬라이싱 결과와 같게 코드를 입력해보세요\n",
        "index_test2[:, 1]"
      ]
    },
    {
      "cell_type": "code",
      "execution_count": null,
      "metadata": {
        "ExecuteTime": {
          "end_time": "2021-09-30T10:09:08.554090Z",
          "start_time": "2021-09-30T10:09:08.550075Z"
        },
        "id": "P-Y1ZGIioRpV",
        "outputId": "ac046a40-c01e-40d8-cd86-6f6a9c5d4201"
      },
      "outputs": [
        {
          "data": {
            "text/plain": [
              "array([ 1,  6, 11, 16, 21])"
            ]
          },
          "execution_count": 6,
          "metadata": {},
          "output_type": "execute_result"
        }
      ],
      "source": [
        ""
      ]
    },
    {
      "cell_type": "code",
      "execution_count": 54,
      "metadata": {
        "ExecuteTime": {
          "end_time": "2021-09-30T10:09:24.117254Z",
          "start_time": "2021-09-30T10:09:24.112995Z"
        },
        "colab": {
          "base_uri": "https://localhost:8080/"
        },
        "id": "8-X7WsBToRpV",
        "outputId": "9a3980e1-986e-4b4a-ea33-3e42d4b4386b"
      },
      "outputs": [
        {
          "output_type": "execute_result",
          "data": {
            "text/plain": [
              "array([[[ 0,  1,  2,  3],\n",
              "        [ 4,  5,  6,  7],\n",
              "        [ 8,  9, 10, 11],\n",
              "        [12, 13, 14, 15],\n",
              "        [16, 17, 18, 19]],\n",
              "\n",
              "       [[20, 21, 22, 23],\n",
              "        [24, 25, 26, 27],\n",
              "        [28, 29, 30, 31],\n",
              "        [32, 33, 34, 35],\n",
              "        [36, 37, 38, 39]]])"
            ]
          },
          "metadata": {},
          "execution_count": 54
        }
      ],
      "source": [
        "index_test3 = np.arange(40).reshape(2, 5, 4)\n",
        "index_test3"
      ]
    },
    {
      "cell_type": "code",
      "execution_count": 57,
      "metadata": {
        "colab": {
          "base_uri": "https://localhost:8080/"
        },
        "id": "Lf-NQqPjoRpV",
        "outputId": "4604e010-6db1-47b6-8beb-c99f14c6eaef"
      },
      "outputs": [
        {
          "output_type": "execute_result",
          "data": {
            "text/plain": [
              "array([[13, 14],\n",
              "       [17, 18]])"
            ]
          },
          "metadata": {},
          "execution_count": 57
        }
      ],
      "source": [
        "# 아래 슬라이싱 결과와 같게 코드를 입력해보세요\n",
        "index_test3[0, 3:, 1:3]"
      ]
    },
    {
      "cell_type": "code",
      "execution_count": null,
      "metadata": {
        "ExecuteTime": {
          "end_time": "2021-09-30T10:09:27.573403Z",
          "start_time": "2021-09-30T10:09:27.568936Z"
        },
        "id": "NFbH8YXpoRpW",
        "outputId": "b4563368-76bd-48a8-d9bc-ba01d79ac495"
      },
      "outputs": [
        {
          "data": {
            "text/plain": [
              "array([[13, 14],\n",
              "       [17, 18]])"
            ]
          },
          "execution_count": 8,
          "metadata": {},
          "output_type": "execute_result"
        }
      ],
      "source": [
        ""
      ]
    },
    {
      "cell_type": "code",
      "execution_count": null,
      "metadata": {
        "id": "2jNq3jH-oRpW"
      },
      "outputs": [],
      "source": [
        "# 아래 슬라이싱 결과와 같게 코드를 입력해보세요\n",
        "index_test3[:, 2:, :3]  # 축이 아무리 늘어나도(차원수), 가장 바깥 축부터 연산이 일어난다."
      ]
    },
    {
      "cell_type": "code",
      "execution_count": null,
      "metadata": {
        "ExecuteTime": {
          "end_time": "2021-09-30T10:12:05.975572Z",
          "start_time": "2021-09-30T10:12:05.971208Z"
        },
        "id": "AxP-LZr-oRpW",
        "outputId": "a830af2f-4353-4d83-b989-836f4fe53ab8"
      },
      "outputs": [
        {
          "data": {
            "text/plain": [
              "array([[[ 8,  9, 10],\n",
              "        [12, 13, 14],\n",
              "        [16, 17, 18]],\n",
              "\n",
              "       [[28, 29, 30],\n",
              "        [32, 33, 34],\n",
              "        [36, 37, 38]]])"
            ]
          },
          "execution_count": 12,
          "metadata": {},
          "output_type": "execute_result"
        }
      ],
      "source": [
        ""
      ]
    },
    {
      "cell_type": "code",
      "execution_count": 59,
      "metadata": {
        "colab": {
          "base_uri": "https://localhost:8080/"
        },
        "id": "BsrNEFjwoRpX",
        "outputId": "204e17ce-4654-4fe2-98f4-b31904825a8e"
      },
      "outputs": [
        {
          "output_type": "execute_result",
          "data": {
            "text/plain": [
              "array([[ 1,  5,  9, 13, 17],\n",
              "       [21, 25, 29, 33, 37]])"
            ]
          },
          "metadata": {},
          "execution_count": 59
        }
      ],
      "source": [
        "# 아래 슬라이싱 결과와 같게 코드를 입력해보세요\n",
        "index_test3[:, :, 1]"
      ]
    },
    {
      "cell_type": "code",
      "execution_count": null,
      "metadata": {
        "ExecuteTime": {
          "end_time": "2021-09-30T10:09:28.043744Z",
          "start_time": "2021-09-30T10:09:28.039181Z"
        },
        "id": "GhQyqtE7oRpX",
        "outputId": "255fa9cc-1d4b-4031-9dfb-9ab44bee4aa6"
      },
      "outputs": [
        {
          "data": {
            "text/plain": [
              "array([[ 1,  5,  9, 13, 17],\n",
              "       [21, 25, 29, 33, 37]])"
            ]
          },
          "execution_count": 9,
          "metadata": {},
          "output_type": "execute_result"
        }
      ],
      "source": [
        ""
      ]
    },
    {
      "cell_type": "markdown",
      "metadata": {
        "id": "qL2pg__0oRpX"
      },
      "source": [
        "## 팬시인덱싱\n",
        "numpy에서 벡터연산을 통해 bool 형태의 벡터를 기준으로 데이터를 선별하는 방법"
      ]
    },
    {
      "cell_type": "code",
      "execution_count": 60,
      "metadata": {
        "ExecuteTime": {
          "end_time": "2021-09-30T10:13:41.597329Z",
          "start_time": "2021-09-30T10:13:41.591382Z"
        },
        "colab": {
          "base_uri": "https://localhost:8080/"
        },
        "id": "K7Ik3rnCoRpY",
        "outputId": "b43cdab5-ebea-49b2-c18c-2d3d8ec9d1a6"
      },
      "outputs": [
        {
          "output_type": "execute_result",
          "data": {
            "text/plain": [
              "array([[ 0.12328906, -1.25099938,  1.78001153, -0.19196726, -2.48292504],\n",
              "       [-1.15406497, -0.64194307,  2.24880445, -0.5440453 ,  0.1411387 ],\n",
              "       [ 1.60873034,  2.62441759, -0.17709429,  0.88418182,  0.75324275],\n",
              "       [-0.31181912,  0.35797675, -0.84838519,  0.26071968, -0.05199483],\n",
              "       [-0.58066332, -1.88057318, -1.17760317, -1.69354891, -0.28858522],\n",
              "       [ 0.55690962,  0.83916083, -1.4268228 , -1.80359013,  0.68278726]])"
            ]
          },
          "metadata": {},
          "execution_count": 60
        }
      ],
      "source": [
        "# 테스트 array 생성\n",
        "pet = np.array(['개', '고양이', '고양이', '햄스터', '개', '햄스터'])\n",
        "num = np.array([1, 2, 3, 4, 5, 6])\n",
        "indexing_test = np.random.randn(6, 5)\n",
        "indexing_test"
      ]
    },
    {
      "cell_type": "code",
      "execution_count": 61,
      "metadata": {
        "ExecuteTime": {
          "end_time": "2021-09-10T08:21:25.026711Z",
          "start_time": "2021-09-10T08:21:25.021570Z"
        },
        "colab": {
          "base_uri": "https://localhost:8080/"
        },
        "id": "apEUn8nKoRpY",
        "outputId": "f08192c3-6613-4f8b-b2a1-2c2f446bf04f"
      },
      "outputs": [
        {
          "output_type": "execute_result",
          "data": {
            "text/plain": [
              "array([False, False, False,  True,  True,  True])"
            ]
          },
          "metadata": {},
          "execution_count": 61
        }
      ],
      "source": [
        "# num array 조건연산(조건연산에는 비교연산과 멤버연산(not, in)도 포함되어있음)\n",
        "num > 3   # broadcasting : 하나하나 가져와서 계산하는 게 아닌 한번에 계산"
      ]
    },
    {
      "cell_type": "code",
      "execution_count": 62,
      "metadata": {
        "colab": {
          "base_uri": "https://localhost:8080/"
        },
        "id": "1E5tcR4yoRpZ",
        "outputId": "62d86af2-0182-4758-8180-1b04daa9a064"
      },
      "outputs": [
        {
          "output_type": "execute_result",
          "data": {
            "text/plain": [
              "array([False,  True,  True, False, False, False])"
            ]
          },
          "metadata": {},
          "execution_count": 62
        }
      ],
      "source": [
        "# pet array 조건연산\n",
        "pet == '고양이'"
      ]
    },
    {
      "cell_type": "code",
      "execution_count": 64,
      "metadata": {
        "ExecuteTime": {
          "end_time": "2021-09-10T08:20:36.569910Z",
          "start_time": "2021-09-10T08:20:36.561863Z"
        },
        "colab": {
          "base_uri": "https://localhost:8080/"
        },
        "id": "2QnGpkbGoRpZ",
        "outputId": "5520f8bf-7249-482a-8f07-8a92d307e007"
      },
      "outputs": [
        {
          "output_type": "stream",
          "name": "stdout",
          "text": [
            "[[-0.31181912  0.35797675 -0.84838519  0.26071968 -0.05199483]\n",
            " [-0.58066332 -1.88057318 -1.17760317 -1.69354891 -0.28858522]\n",
            " [ 0.55690962  0.83916083 -1.4268228  -1.80359013  0.68278726]]\n"
          ]
        },
        {
          "output_type": "execute_result",
          "data": {
            "text/plain": [
              "array([[-1.15406497, -0.64194307,  2.24880445, -0.5440453 ,  0.1411387 ],\n",
              "       [ 1.60873034,  2.62441759, -0.17709429,  0.88418182,  0.75324275]])"
            ]
          },
          "metadata": {},
          "execution_count": 64
        }
      ],
      "source": [
        "# 팬시인덱스 전달 : 인덱싱 or 슬라이싱은 행방향, 열방향 모두 가능\n",
        "print(indexing_test[num > 3])\n",
        "indexing_test[pet=='고양이']"
      ]
    },
    {
      "cell_type": "code",
      "execution_count": 65,
      "metadata": {
        "ExecuteTime": {
          "end_time": "2021-09-10T08:22:57.622079Z",
          "start_time": "2021-09-10T08:22:57.617049Z"
        },
        "colab": {
          "base_uri": "https://localhost:8080/"
        },
        "id": "AocMXmYmoRpZ",
        "outputId": "f49d3242-3990-4677-bc88-d6137a3a8641"
      },
      "outputs": [
        {
          "output_type": "execute_result",
          "data": {
            "text/plain": [
              "3"
            ]
          },
          "metadata": {},
          "execution_count": 65
        }
      ],
      "source": [
        "# 조건연산 추가 sum, any, all : 데이터 검증 시 많이 사용\n",
        "\n",
        "(num > 3).sum() # false는 0, true는 1  => 따라서, sum하면 true인 개수를 구할 수 있다\n",
        "(num > 3).any() # 어느 하나라도 true가 있으면 true 출력\n",
        "(num > 3).all() # 모두 true여야 true 출력"
      ]
    }
  ],
  "metadata": {
    "kernelspec": {
      "display_name": "Python 3 (ipykernel)",
      "language": "python",
      "name": "python3"
    },
    "language_info": {
      "codemirror_mode": {
        "name": "ipython",
        "version": 3
      },
      "file_extension": ".py",
      "mimetype": "text/x-python",
      "name": "python",
      "nbconvert_exporter": "python",
      "pygments_lexer": "ipython3",
      "version": "3.8.12"
    },
    "toc": {
      "base_numbering": 1,
      "nav_menu": {},
      "number_sections": true,
      "sideBar": true,
      "skip_h1_title": true,
      "title_cell": "Table of Contents",
      "title_sidebar": "Contents",
      "toc_cell": false,
      "toc_position": {},
      "toc_section_display": true,
      "toc_window_display": false
    },
    "varInspector": {
      "cols": {
        "lenName": 16,
        "lenType": 16,
        "lenVar": 40
      },
      "kernels_config": {
        "python": {
          "delete_cmd_postfix": "",
          "delete_cmd_prefix": "del ",
          "library": "var_list.py",
          "varRefreshCmd": "print(var_dic_list())"
        },
        "r": {
          "delete_cmd_postfix": ") ",
          "delete_cmd_prefix": "rm(",
          "library": "var_list.r",
          "varRefreshCmd": "cat(var_dic_list()) "
        }
      },
      "types_to_exclude": [
        "module",
        "function",
        "builtin_function_or_method",
        "instance",
        "_Feature"
      ],
      "window_display": false
    },
    "colab": {
      "name": "01_package_numpy.ipynb",
      "provenance": [],
      "collapsed_sections": [
        "KAT2Sz58oRo3",
        "x-jUJOxUoRo3"
      ],
      "include_colab_link": true
    }
  },
  "nbformat": 4,
  "nbformat_minor": 0
}
