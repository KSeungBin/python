{
  "cells": [
    {
      "cell_type": "markdown",
      "metadata": {
        "id": "view-in-github",
        "colab_type": "text"
      },
      "source": [
        "<a href=\"https://colab.research.google.com/github/KSeungBin/python/blob/master/%EB%8D%B0%EC%9D%B4%ED%84%B0_%ED%83%80%EC%9E%85.ipynb\" target=\"_parent\"><img src=\"https://colab.research.google.com/assets/colab-badge.svg\" alt=\"Open In Colab\"/></a>"
      ]
    },
    {
      "cell_type": "markdown",
      "metadata": {
        "id": "rnGmodWxmi8m"
      },
      "source": [
        "# 파이썬 변수와 데이터 타입"
      ]
    },
    {
      "cell_type": "markdown",
      "metadata": {
        "id": "OcBVO3B7mi8p"
      },
      "source": [
        "파이썬에서는 데이터의 타입을 명확히 구분해야 합니다. 기본적인 데이터 타입은 문자와 숫자 (정수/실수)가 있습니다. "
      ]
    },
    {
      "cell_type": "markdown",
      "metadata": {
        "id": "9h9_skJumi8q"
      },
      "source": [
        "## 파이썬의 숫자"
      ]
    },
    {
      "cell_type": "markdown",
      "metadata": {
        "id": "nADvLfNcmi8q"
      },
      "source": [
        "숫자형 데이터는 숫자만으로 구성된 데이터로 천단위 구분기호를 사용하지 않습니다. 다음 코드는 숫자 1000을 표현하려는 의도로 작성했지만 코드를 실행하면 이상한(?) 결과가 출력됩니다. 천단위 구분기호가 없어야 파이썬은 \"숫자\"로 인식합니다. "
      ]
    },
    {
      "cell_type": "code",
      "execution_count": 1,
      "metadata": {
        "id": "bvHbJ7dImi8q",
        "outputId": "79fd5917-b785-4730-8787-b5a0a826859b",
        "colab": {
          "base_uri": "https://localhost:8080/"
        }
      },
      "outputs": [
        {
          "output_type": "stream",
          "name": "stdout",
          "text": [
            "1 0\n"
          ]
        }
      ],
      "source": [
        "# python interpreter는 코드를 한 줄씩 위에서 아래로 실행함(문법을 체크하면서 이상이 없다면 실행, 이상이 있다면 error message 출력)\n",
        "a = 10\n",
        "b = 20\n",
        "\n",
        "# python은 1,000을 문자로 인식\n",
        "print(1,000) "
      ]
    },
    {
      "cell_type": "code",
      "source": [
        "# jupyter notebook, colab만의 편의 기능 : print문 사용하지 않아도 마지막 값을 출력\n",
        "1000\n",
        "2000"
      ],
      "metadata": {
        "colab": {
          "base_uri": "https://localhost:8080/"
        },
        "id": "VKUzQqGjH_fc",
        "outputId": "06d3a53c-872e-451a-fe6d-a95ef9d381df"
      },
      "execution_count": 2,
      "outputs": [
        {
          "output_type": "execute_result",
          "data": {
            "text/plain": [
              "2000"
            ]
          },
          "metadata": {},
          "execution_count": 2
        }
      ]
    },
    {
      "cell_type": "code",
      "source": [
        "# 정석\n",
        "print(1000)\n",
        "print(2000)"
      ],
      "metadata": {
        "id": "KmyeN_VaIItC"
      },
      "execution_count": null,
      "outputs": []
    },
    {
      "cell_type": "markdown",
      "metadata": {
        "id": "2D84WXANmi8r"
      },
      "source": [
        "숫자형 데이터는 크게 정수와 실수 두 가지의 타입으로 구분될 수 있습니다.  "
      ]
    },
    {
      "cell_type": "markdown",
      "metadata": {
        "id": "4r7z7Rapmi8s"
      },
      "source": [
        "<img src=\"https://i.ibb.co/1LnQ7HT/1-0.png\" style=\"float:left\" />"
      ]
    },
    {
      "cell_type": "code",
      "source": [
        "type(1000)"
      ],
      "metadata": {
        "colab": {
          "base_uri": "https://localhost:8080/"
        },
        "id": "5g507_NLIw8g",
        "outputId": "e80340ec-726f-4daa-db9c-1f21c3e66380"
      },
      "execution_count": 4,
      "outputs": [
        {
          "output_type": "execute_result",
          "data": {
            "text/plain": [
              "int"
            ]
          },
          "metadata": {},
          "execution_count": 4
        }
      ]
    },
    {
      "cell_type": "code",
      "execution_count": 3,
      "metadata": {
        "id": "PxHVNvZmmi8s",
        "outputId": "abf4b91b-641c-4fcf-87ec-f5f7571ab261",
        "colab": {
          "base_uri": "https://localhost:8080/"
        }
      },
      "outputs": [
        {
          "output_type": "stream",
          "name": "stdout",
          "text": [
            "<class 'int'>\n",
            "<class 'float'>\n"
          ]
        }
      ],
      "source": [
        "print(type(1000))\n",
        "print(type(1000.0)) # python interpreter : 안쪽에 있는 것(type) 먼저 연산하고 바깥쪽에 있는 것(print) 실행"
      ]
    },
    {
      "cell_type": "markdown",
      "metadata": {
        "id": "FOUn9sRrmi8t"
      },
      "source": [
        "----\n",
        "\n",
        "참고로 print() 함수 없이도 연산의 결과가 출력되는 것처럼 보이지만 이는 주피터 노트북이 제공해주는 편의 기능입니다. 앞으로는 본격적인 코딩을 하게되면 주피터 노트북이 아닌 다른 프로그램을 사용하는데 해당 환경에서는 값이 자동으로 출력되지 않습니다. \"값을 화면에 출력할 때는 print() 함수를 사용하는 것이 정석이다\"로 이해하시면 됩니다.\n",
        "\n",
        "----"
      ]
    },
    {
      "cell_type": "markdown",
      "metadata": {
        "id": "Tyar2YtImi8t"
      },
      "source": [
        "type 이라는 이름의 함수는 데이터의 타입을 구분해서 알려줍니다. "
      ]
    },
    {
      "cell_type": "code",
      "execution_count": null,
      "metadata": {
        "id": "6ha4y6mLmi8u"
      },
      "outputs": [],
      "source": [
        ""
      ]
    },
    {
      "cell_type": "markdown",
      "metadata": {
        "id": "XUhBeW_Qmi8u"
      },
      "source": [
        "숫자형 데이터의 연산은 초등 수학에서 배운 사칙연산 결과를 반환합니다."
      ]
    },
    {
      "cell_type": "code",
      "execution_count": 5,
      "metadata": {
        "id": "86X8dd2pmi8u",
        "outputId": "de598c87-de72-4240-ec97-23b21c301085",
        "colab": {
          "base_uri": "https://localhost:8080/"
        }
      },
      "outputs": [
        {
          "output_type": "execute_result",
          "data": {
            "text/plain": [
              "110"
            ]
          },
          "metadata": {},
          "execution_count": 5
        }
      ],
      "source": [
        "# pandas는 엑셀 대체\n",
        "# python으로 우리가 계산기를 만들어야 함\n",
        "100 + 10"
      ]
    },
    {
      "cell_type": "markdown",
      "metadata": {
        "id": "0L2iqwIRmi8u"
      },
      "source": [
        "파이썬에서의 곱셈은 x 기호가 아니라 * 기호를 사용해야 합니다. 곱셈 기호를 두 번 사용하면 제곱으로 해석됩니다"
      ]
    },
    {
      "cell_type": "code",
      "execution_count": 6,
      "metadata": {
        "id": "P0-ZrgThmi8v",
        "colab": {
          "base_uri": "https://localhost:8080/"
        },
        "outputId": "eabf2e7f-458a-4ddf-ac77-8bdc6c03e3d5"
      },
      "outputs": [
        {
          "output_type": "execute_result",
          "data": {
            "text/plain": [
              "30"
            ]
          },
          "metadata": {},
          "execution_count": 6
        }
      ],
      "source": [
        "10 * 3"
      ]
    },
    {
      "cell_type": "code",
      "source": [
        "100 ** 0.5"
      ],
      "metadata": {
        "colab": {
          "base_uri": "https://localhost:8080/"
        },
        "id": "3TZ-RgImJXS4",
        "outputId": "fe2d372c-ca0b-43d5-e251-b18bc064468f"
      },
      "execution_count": 7,
      "outputs": [
        {
          "output_type": "execute_result",
          "data": {
            "text/plain": [
              "10.0"
            ]
          },
          "metadata": {},
          "execution_count": 7
        }
      ]
    },
    {
      "cell_type": "markdown",
      "metadata": {
        "id": "-kdXbz48mi8v"
      },
      "source": [
        "파이썬에서 실수(float)는 소숫점이 있는 숫자입니다. 무한대에 가까운 모든 수를 실수로 표현할 수 없기 때문에, 컴퓨터로 계산하는 실수 연산에는 오차가 존재합니다. 다음과 같이 나눗셈 연산의 결과 끝의 5라는 숫자는 오차값을 확인할 수 있습니다."
      ]
    },
    {
      "cell_type": "code",
      "execution_count": null,
      "metadata": {
        "id": "BTH-dq8Dmi8v",
        "outputId": "37cb9a19-bb66-4dc1-b9ef-7c9efb84b8e2"
      },
      "outputs": [
        {
          "data": {
            "text/plain": [
              "3.3333333333333335"
            ]
          },
          "execution_count": 9,
          "metadata": {},
          "output_type": "execute_result"
        }
      ],
      "source": [
        ""
      ]
    },
    {
      "cell_type": "markdown",
      "metadata": {
        "id": "QwTqhke_mi8v"
      },
      "source": [
        "% 연산은 나머지를 반환합니다."
      ]
    },
    {
      "cell_type": "code",
      "execution_count": 8,
      "metadata": {
        "id": "mePvH8LMmi8w",
        "outputId": "70d8efe6-050d-4056-a91a-a2f2ef3c7e65",
        "colab": {
          "base_uri": "https://localhost:8080/"
        }
      },
      "outputs": [
        {
          "output_type": "execute_result",
          "data": {
            "text/plain": [
              "1"
            ]
          },
          "metadata": {},
          "execution_count": 8
        }
      ],
      "source": [
        "10 % 3"
      ]
    },
    {
      "cell_type": "code",
      "source": [
        "10 // 3 # 몫을 반환"
      ],
      "metadata": {
        "colab": {
          "base_uri": "https://localhost:8080/"
        },
        "id": "wbnC1LewJhYc",
        "outputId": "31f0aab2-4521-4a74-95d7-5b32e73d9094"
      },
      "execution_count": 10,
      "outputs": [
        {
          "output_type": "execute_result",
          "data": {
            "text/plain": [
              "3"
            ]
          },
          "metadata": {},
          "execution_count": 10
        }
      ]
    },
    {
      "cell_type": "markdown",
      "metadata": {
        "id": "xn7o7Zjami8w"
      },
      "source": [
        "## 파이썬의 문자열-1"
      ]
    },
    {
      "cell_type": "markdown",
      "metadata": {
        "id": "Q24K8p0nmi8w"
      },
      "source": [
        "작은따옴표('')나 큰따옴표(\"\")로 묶인 문자들의 집합을 문자열이라고 부릅니다."
      ]
    },
    {
      "cell_type": "code",
      "execution_count": 11,
      "metadata": {
        "id": "zq7urGvQmi8w",
        "outputId": "d588db8c-0f2e-491c-b433-587f56c8c8d1",
        "colab": {
          "base_uri": "https://localhost:8080/"
        }
      },
      "outputs": [
        {
          "output_type": "execute_result",
          "data": {
            "text/plain": [
              "str"
            ]
          },
          "metadata": {},
          "execution_count": 11
        }
      ],
      "source": [
        "type('이건 문자열')"
      ]
    },
    {
      "cell_type": "markdown",
      "metadata": {
        "id": "Q4C-rVRymi8w"
      },
      "source": [
        "중간에 작은 따옴표가 존재하는 문자열을 표현할 때는 큰 따옴표로 문자열을 정의해야 합니다 "
      ]
    },
    {
      "cell_type": "code",
      "execution_count": 12,
      "metadata": {
        "id": "X69u1buymi8w",
        "outputId": "0be206ca-6ce3-4f30-c8f7-8238b987aa6d",
        "colab": {
          "base_uri": "https://localhost:8080/"
        }
      },
      "outputs": [
        {
          "output_type": "stream",
          "name": "stdout",
          "text": [
            "I'm a boy\n"
          ]
        }
      ],
      "source": [
        "# 문자열 안에 작은 따옴표가 있는 경우\n",
        "print(\"I'm a boy\") # print문 사용해 정석으로 출력해야 정확히 나옴"
      ]
    },
    {
      "cell_type": "markdown",
      "metadata": {
        "id": "q5ucNpAkmi8w"
      },
      "source": [
        "중간에 큰 따옴표가 존재하는 문자열을 표현할 때는 작은 따옴표로 문자열을 정의해야 합니다."
      ]
    },
    {
      "cell_type": "code",
      "execution_count": null,
      "metadata": {
        "id": "otOdyFiRmi8x",
        "outputId": "6299c97a-82d3-4a88-bc50-7aca8118d722"
      },
      "outputs": [
        {
          "data": {
            "text/plain": [
              "'철수가 소리쳤다 \"으아악\"'"
            ]
          },
          "execution_count": 14,
          "metadata": {},
          "output_type": "execute_result"
        }
      ],
      "source": [
        ""
      ]
    },
    {
      "cell_type": "markdown",
      "metadata": {
        "id": "cI3XUtozmi8x"
      },
      "source": [
        "print( ) 함수를 사용하면 읽기 좋은 형태로 출력됩니다. "
      ]
    },
    {
      "cell_type": "code",
      "execution_count": null,
      "metadata": {
        "id": "Kl-z-vLMmi8x",
        "outputId": "fa134927-09a6-4c56-d64f-514a00a6a556"
      },
      "outputs": [
        {
          "name": "stdout",
          "output_type": "stream",
          "text": [
            "철수가 소리쳤다 \"으아악\"\n"
          ]
        }
      ],
      "source": [
        ""
      ]
    },
    {
      "cell_type": "markdown",
      "metadata": {
        "id": "Sj1pDIUKmi8x"
      },
      "source": [
        "문자형 데이터의 덧셈은 문자열을 이어 붙입니다. 데이터의 타입에 따라 다른 동작을 하기 때문에 데이터의 타입을 구분하는 것이 중요합니다."
      ]
    },
    {
      "cell_type": "code",
      "execution_count": null,
      "metadata": {
        "collapsed": true,
        "id": "B3MH2ylDmi8x",
        "outputId": "dea4d36f-cf4d-4eea-bbcf-4d83454d7520"
      },
      "outputs": [
        {
          "data": {
            "text/plain": [
              "'안녕하세요'"
            ]
          },
          "execution_count": 3,
          "metadata": {},
          "output_type": "execute_result"
        }
      ],
      "source": [
        ""
      ]
    },
    {
      "cell_type": "markdown",
      "metadata": {
        "id": "NwyEKjexmi8y"
      },
      "source": [
        "파이썬에 정의돼 있지 않은 연산은 에러를 출력하구요"
      ]
    },
    {
      "cell_type": "code",
      "execution_count": null,
      "metadata": {
        "id": "3UFRBEDmmi8y",
        "outputId": "284bbfb8-beff-4afd-cc46-4b05bdeddb72"
      },
      "outputs": [
        {
          "ename": "TypeError",
          "evalue": "unsupported operand type(s) for -: 'str' and 'str'",
          "output_type": "error",
          "traceback": [
            "\u001b[1;31m---------------------------------------------------------------------------\u001b[0m",
            "\u001b[1;31mTypeError\u001b[0m                                 Traceback (most recent call last)",
            "\u001b[1;32m<ipython-input-4-dbe1ad778403>\u001b[0m in \u001b[0;36m<module>\u001b[1;34m\u001b[0m\n\u001b[1;32m----> 1\u001b[1;33m \u001b[1;34m\"안녕하세요\"\u001b[0m \u001b[1;33m-\u001b[0m \u001b[1;34m\"하세요\"\u001b[0m\u001b[1;33m\u001b[0m\u001b[1;33m\u001b[0m\u001b[0m\n\u001b[0m",
            "\u001b[1;31mTypeError\u001b[0m: unsupported operand type(s) for -: 'str' and 'str'"
          ]
        }
      ],
      "source": [
        ""
      ]
    },
    {
      "cell_type": "markdown",
      "metadata": {
        "id": "5_7gHE_omi8y"
      },
      "source": [
        "Q. 다음중 문자열 데이터가 아닌 것은 무엇인가요?"
      ]
    },
    {
      "cell_type": "markdown",
      "metadata": {
        "id": "FyP_NsMmmi8y"
      },
      "source": [
        "ABCD  \n",
        "'Hello world'  \n",
        "'I'd love to change ..'  \n",
        "'3'  "
      ]
    },
    {
      "cell_type": "markdown",
      "metadata": {
        "id": "hyUfNGLumi8y"
      },
      "source": [
        "문자열의 곱하기는 문자열을 숫자만큼 이어 붙입니다. "
      ]
    },
    {
      "cell_type": "code",
      "execution_count": null,
      "metadata": {
        "id": "e5Dm-iWsmi8y",
        "outputId": "6fafe879-1f05-4ac4-e643-5b1650340b34"
      },
      "outputs": [
        {
          "data": {
            "text/plain": [
              "'안녕안녕안녕'"
            ]
          },
          "execution_count": 19,
          "metadata": {},
          "output_type": "execute_result"
        }
      ],
      "source": [
        "10 + 3\n",
        "\"안녕\" * 3    # 문자열의 +, / 연산은 정의되어 있지 않다 ('안녕'+ 3, '안녕' / 3)\n",
        "# 렉 걸렸을 때 : '런타임' -> 실행 중단"
      ]
    },
    {
      "cell_type": "markdown",
      "metadata": {
        "id": "oZPyBUGkmi8y"
      },
      "source": [
        "연습문제-1. 주식의 보유 수량과 현재가가 다음과 같을 때 총 평가금액을 계산하라. \n",
        "- 네이버 : 77,000 / 3주  \n",
        "- 셀트리온 : 292,000 / 4주\n",
        "- 삼성증권 : 38,350 / 4주"
      ]
    },
    {
      "cell_type": "code",
      "execution_count": 13,
      "metadata": {
        "id": "m5ZWMNjkmi8z",
        "colab": {
          "base_uri": "https://localhost:8080/"
        },
        "outputId": "f240fb17-5bd0-465f-d119-89c259e0e198"
      },
      "outputs": [
        {
          "output_type": "execute_result",
          "data": {
            "text/plain": [
              "1552400"
            ]
          },
          "metadata": {},
          "execution_count": 13
        }
      ],
      "source": [
        "77000 * 3 + 292000 * 4 + 38350 * 4\n",
        "# 가독성 : 1. 괄호 : (77000 * 3) + (292000 * 4) + (38350 * 4)\n",
        "#          2. 데이터를 변수에 담기 (binding) : 수치의 나열보다, 이름이 나열된 것을 사람은 더 기억하기 쉽다."
      ]
    },
    {
      "cell_type": "markdown",
      "metadata": {
        "id": "uc8Ig63Rmi8z"
      },
      "source": [
        "## 파이썬과 변수"
      ]
    },
    {
      "cell_type": "markdown",
      "metadata": {
        "id": "jkTvEN1Emi8z"
      },
      "source": [
        "변수는 상황에 따라 변하는 값을 저장하는 공간으로 이해할 수 있습니다. 위 연습 문제와 같이 숫자를 나열하는 것보다는 변수를 사용해서 표현하면 읽기 쉽고, 기억하기도 좋습니다. 네이버라는 변수에 네이버 평가금액이 저장돼 있으며, 셀트리온, 삼성증권 변수에도 각각의 값이 저장돼 있다면 다음과 같이 코드를 표현할 수 있습니다.   \n",
        "`평가금액 = 네이버 + 셀트리온 + 삼성증권`"
      ]
    },
    {
      "cell_type": "markdown",
      "metadata": {
        "id": "Ki4x1c9mmi8z"
      },
      "source": [
        "<img src=\"https://i.ibb.co/zShF7qq/1-1.png\" style=\"float:left\" />"
      ]
    },
    {
      "cell_type": "markdown",
      "metadata": {
        "id": "ySsjRM5Fmi8z"
      },
      "source": [
        "변수를 사용할 때는 좌변에 변수의 이름, 우변에는 저장할 값을 작성하면 됩니다.  \n",
        "파이썬 인터프리터는 등호를 만나면 우변부터 해석하고, 우변에 있는 값을 좌변에 저장합니다.   \n",
        "<b>파이썬에서 등호 (=)는 같다는 의미가 아니라 대입한다라는 사실에 주의하세요`</b>"
      ]
    },
    {
      "cell_type": "markdown",
      "metadata": {
        "id": "Uqepw1Nlmi8z"
      },
      "source": [
        "<img src=\"https://i.ibb.co/2hGsHfr/1-2.png\" style=\"float:left\" />"
      ]
    },
    {
      "cell_type": "markdown",
      "metadata": {
        "id": "zJ75vv3ymi80"
      },
      "source": [
        "연습문제-1을 변수를 사용해서 표현해 보세요."
      ]
    },
    {
      "cell_type": "code",
      "execution_count": 14,
      "metadata": {
        "id": "pcliskcWmi80",
        "colab": {
          "base_uri": "https://localhost:8080/"
        },
        "outputId": "c1ed319b-b2d6-4440-ca4f-d00c6aee7b06"
      },
      "outputs": [
        {
          "output_type": "stream",
          "name": "stdout",
          "text": [
            "3 원\n"
          ]
        }
      ],
      "source": [
        "print(3,'원') # 공백 하나를 추가하고 두 데이터를 출력\n",
        "print('금' + str(3) + '원') # 문자열끼리 이어붙이기"
      ]
    },
    {
      "cell_type": "markdown",
      "metadata": {
        "id": "JcF6Mnhfmi80"
      },
      "source": [
        "값을 직접 기억하는 것보다 변수를 사용하면 코드의 재사용성이 높아지고 가독성이 좋아집니다. 변수의 이름은 달라져도 연산의 결과는 달라지지 않습니다. "
      ]
    },
    {
      "cell_type": "code",
      "execution_count": null,
      "metadata": {
        "id": "GE8xs3Ijmi80",
        "outputId": "552ec7a1-5fbb-40b9-b382-ef2a738704dc"
      },
      "outputs": [
        {
          "name": "stdout",
          "output_type": "stream",
          "text": [
            "24000000\n"
          ]
        }
      ],
      "source": [
        "변수 = 2000000 * 12\n",
        "print(변수)"
      ]
    },
    {
      "cell_type": "code",
      "execution_count": null,
      "metadata": {
        "id": "E5ugTX6tmi80",
        "outputId": "5960c333-24ed-42b5-b6e5-06efc025e7db"
      },
      "outputs": [
        {
          "name": "stdout",
          "output_type": "stream",
          "text": [
            "24000000\n"
          ]
        }
      ],
      "source": [
        "저축액 = 2000000 * 12\n",
        "print(저축액)"
      ]
    },
    {
      "cell_type": "markdown",
      "metadata": {
        "id": "ctgYmiUdmi81"
      },
      "source": [
        "변수를 다시 변수에 대입할 수도 있습니다. "
      ]
    },
    {
      "cell_type": "code",
      "execution_count": 15,
      "metadata": {
        "id": "nKengBVomi81",
        "colab": {
          "base_uri": "https://localhost:8080/"
        },
        "outputId": "5ef24ac5-f1d0-43cb-a48d-89a3cde818a6"
      },
      "outputs": [
        {
          "output_type": "stream",
          "name": "stdout",
          "text": [
            "1552400\n"
          ]
        }
      ],
      "source": [
        "# python interpreter : 등호(=)의 우변부터 해석 -> 계산 후 좌변에 정의된 변수에 넣음\n",
        "# 변수를 더블클릭하면 쉽게 복붙할 수 있다\n",
        "삼성증권 = 77000 * 3\n",
        "셀트리온 = 292000 * 4\n",
        "네이버 = 38350 * 4\n",
        "print(삼성증권 + 셀트리온 + 네이버)"
      ]
    },
    {
      "cell_type": "code",
      "source": [
        "# 미리 정의된 함수 : str, int(문자로 입력된 숫자를 진짜 숫자로 바꿔주는 class)\n",
        "int('323') + 10\n",
        "int = 10\n",
        "print(int('323')) # python keyword를 변수명으로 지정하면 안되는 이유\n",
        "# 런타임 다시 시작하고 하나의 셀에 int('323') 입력하고 실행하면 이때는 실행 가능! -> 런타임 다시 시작하면 처음부터 셀을 모두 실행해줘야 변수에 지정한 값이 할당됨"
      ],
      "metadata": {
        "id": "HdpXHy3JPfZr"
      },
      "execution_count": null,
      "outputs": []
    },
    {
      "cell_type": "markdown",
      "metadata": {
        "id": "boFHiHzhmi81"
      },
      "source": [
        "값 보다는 이름을 기억하기 쉽기 때문에 변수를 사용합니다. 변수에 담긴 값을 재사용할 수 도 있구요."
      ]
    },
    {
      "cell_type": "markdown",
      "metadata": {
        "id": "O8q4MoM9mi81"
      },
      "source": [
        "<img src=\"https://i.ibb.co/jvvD6QV/1-3.png\" style=\"float:left\" />"
      ]
    },
    {
      "cell_type": "markdown",
      "metadata": {
        "id": "DBybFypsmi81"
      },
      "source": [
        "변수에는 값에 이름표를 붙여 둔것과 같습니다. 따라서 값과 상관 없는 이름표를 붙여 놓으면 혼란을 야기할 수 있습니다. 변수의 이름을 작성할 때는 주의해야할 몇가지 사항들이 있습니다. \n",
        "\n",
        "- 변수의 이름은 영문 (한글), 숫자, 언더스코어(_)만 사용\n",
        "- 변수의 이름은 대소문자를 구분\n",
        "- (추천) 파이썬 키워드는 사용X  \n",
        "`False, class, print, return, def, try, with, from, for, int, float, if, else`"
      ]
    },
    {
      "cell_type": "markdown",
      "source": [
        "진짜 프로그래머는 변수의 이름을 반드시 영어로 작성한다\n",
        "(외국인과 협업해야 하고, 한글 사용하면 문제가 발생할 수 있기 때문"
      ],
      "metadata": {
        "id": "o1I5qbtpQnV0"
      }
    },
    {
      "cell_type": "code",
      "source": [
        "# 반드시 한글 or 영어 or Undef Bar(_) , 셋 중 하나로만 변수 이름을 시작할 수 있음\n",
        "123한글 = 2"
      ],
      "metadata": {
        "colab": {
          "base_uri": "https://localhost:8080/",
          "height": 137
        },
        "id": "on-7dm7_Q6Oo",
        "outputId": "11f1f873-496b-4dd6-f9be-488971d9aa42"
      },
      "execution_count": 16,
      "outputs": [
        {
          "output_type": "error",
          "ename": "SyntaxError",
          "evalue": "ignored",
          "traceback": [
            "\u001b[0;36m  File \u001b[0;32m\"<ipython-input-16-31f911ca8abf>\"\u001b[0;36m, line \u001b[0;32m2\u001b[0m\n\u001b[0;31m    123한글 = 2\u001b[0m\n\u001b[0m        ^\u001b[0m\n\u001b[0;31mSyntaxError\u001b[0m\u001b[0;31m:\u001b[0m invalid syntax\n"
          ]
        }
      ]
    },
    {
      "cell_type": "code",
      "source": [
        "# 대소문자를 구별함\n",
        "a = 10\n",
        "print(A)"
      ],
      "metadata": {
        "colab": {
          "base_uri": "https://localhost:8080/",
          "height": 211
        },
        "id": "GmYhznWYRFjL",
        "outputId": "0f671546-a8dc-458a-adcb-a875c7582c75"
      },
      "execution_count": 17,
      "outputs": [
        {
          "output_type": "error",
          "ename": "NameError",
          "evalue": "ignored",
          "traceback": [
            "\u001b[0;31m---------------------------------------------------------------------------\u001b[0m",
            "\u001b[0;31mNameError\u001b[0m                                 Traceback (most recent call last)",
            "\u001b[0;32m<ipython-input-17-709c89087efe>\u001b[0m in \u001b[0;36m<module>\u001b[0;34m()\u001b[0m\n\u001b[1;32m      1\u001b[0m \u001b[0;31m# 대소문자를 구별함\u001b[0m\u001b[0;34m\u001b[0m\u001b[0;34m\u001b[0m\u001b[0;34m\u001b[0m\u001b[0m\n\u001b[1;32m      2\u001b[0m \u001b[0ma\u001b[0m \u001b[0;34m=\u001b[0m \u001b[0;36m10\u001b[0m\u001b[0;34m\u001b[0m\u001b[0;34m\u001b[0m\u001b[0m\n\u001b[0;32m----> 3\u001b[0;31m \u001b[0mprint\u001b[0m\u001b[0;34m(\u001b[0m\u001b[0mA\u001b[0m\u001b[0;34m)\u001b[0m\u001b[0;34m\u001b[0m\u001b[0;34m\u001b[0m\u001b[0m\n\u001b[0m",
            "\u001b[0;31mNameError\u001b[0m: name 'A' is not defined"
          ]
        }
      ]
    },
    {
      "cell_type": "code",
      "source": [
        "# 숫자 : 정수(int), 숫자(float)\n",
        "# 문자열 (str) : 2,176.78 -> 문자열을 잘 다뤄야 웹페이지에 있는 숫자(, 표기된 것은 문자열)를 연산할 수 있음\n",
        "float(\"3232.30\") + 103 "
      ],
      "metadata": {
        "colab": {
          "base_uri": "https://localhost:8080/"
        },
        "id": "zwKQA0PJRPuw",
        "outputId": "52dd03e6-ffae-4059-a751-93854fdbd864"
      },
      "execution_count": 31,
      "outputs": [
        {
          "output_type": "execute_result",
          "data": {
            "text/plain": [
              "3335.3"
            ]
          },
          "metadata": {},
          "execution_count": 31
        }
      ]
    },
    {
      "cell_type": "markdown",
      "metadata": {
        "id": "7i9fA4DNmi81"
      },
      "source": [
        "## 파이썬의 문자열-2"
      ]
    },
    {
      "cell_type": "markdown",
      "metadata": {
        "id": "hXAOFaormi81"
      },
      "source": [
        "대부분의 데이터가 문자열 형태로 제공되기 때문에 \"문자열\"은 매우 중요합니다. 파이썬 세계에서는 다음 그림 안의 테이블 데이터가 숫자가 아닌 문자열로 인식될 것임을 알 수 있습니다. 이러한 데이터를 읽어와서 가공하기 위해서는 문자열 데이터를 능숙히 다룰 수 있어야 합니다. "
      ]
    },
    {
      "cell_type": "markdown",
      "metadata": {
        "id": "yXup8SItmi81"
      },
      "source": [
        "<img src=\"https://i.ibb.co/Fh3Q6hc/1-4.png\" style=\"float:left\" />"
      ]
    },
    {
      "cell_type": "markdown",
      "metadata": {
        "id": "NplHUCyvmi81"
      },
      "source": [
        "### 문자열과 인덱싱\n",
        "문자열에서 데이터를 하나가져오는 것을 인덱싱이라고 합니다. 문자열이 생성될 때, 보이지는 않지만 인덱스(index)라고 불리는 숫자값이 맵핑됩니다. `변수 = \"Samsung\"` 코드가 실행되면 다음과 같이 인덱스가 내부적으로 부여됩니다. 그림의 상단 부분을 참고하면 인덱스는 0부터 시작해서 순차 증가하는 것을 알 수 있습니다. "
      ]
    },
    {
      "cell_type": "markdown",
      "metadata": {
        "id": "d750FZUumi83"
      },
      "source": [
        "<img src=\"https://i.ibb.co/j5QrWrR/1-5.png\" style=\"float:left\" />"
      ]
    },
    {
      "cell_type": "markdown",
      "metadata": {
        "id": "ZCdah5-kmi83"
      },
      "source": [
        "자동으로 부여된 인덱스를 사용해서 문자열 값을 하나 가져올 수 있습니다. "
      ]
    },
    {
      "cell_type": "code",
      "execution_count": 19,
      "metadata": {
        "id": "WyMy1HmMmi83",
        "outputId": "6ae477cf-c48d-478a-a0d3-53708c71e283",
        "colab": {
          "base_uri": "https://localhost:8080/",
          "height": 35
        }
      },
      "outputs": [
        {
          "output_type": "execute_result",
          "data": {
            "text/plain": [
              "'S'"
            ],
            "application/vnd.google.colaboratory.intrinsic+json": {
              "type": "string"
            }
          },
          "metadata": {},
          "execution_count": 19
        }
      ],
      "source": [
        "변수 = 'Samsung'\n",
        "변수[0] # indexing : 인덱스(내부적으로 맵핑된 숫자)를 사용해 하나의 데이터를 갖고오는 것"
      ]
    },
    {
      "cell_type": "code",
      "source": [
        "print(변수[3] + 변수[4])"
      ],
      "metadata": {
        "colab": {
          "base_uri": "https://localhost:8080/",
          "height": 35
        },
        "id": "kZvMkRBSSJXC",
        "outputId": "bdb5ed3a-1ccd-403a-9858-4f28efa4d41a"
      },
      "execution_count": 20,
      "outputs": [
        {
          "output_type": "execute_result",
          "data": {
            "text/plain": [
              "'su'"
            ],
            "application/vnd.google.colaboratory.intrinsic+json": {
              "type": "string"
            }
          },
          "metadata": {},
          "execution_count": 20
        }
      ]
    },
    {
      "cell_type": "code",
      "source": [
        "print(변수[-7] + 변수[-1])"
      ],
      "metadata": {
        "colab": {
          "base_uri": "https://localhost:8080/"
        },
        "id": "cIGSE3-8SrR2",
        "outputId": "8e8d39ec-60da-4e9b-e928-5e6e1208e4ce"
      },
      "execution_count": 21,
      "outputs": [
        {
          "output_type": "stream",
          "name": "stdout",
          "text": [
            "Sg\n"
          ]
        }
      ]
    },
    {
      "cell_type": "markdown",
      "metadata": {
        "id": "IdR4QPVzmi83"
      },
      "source": [
        "### 문자열과 슬라이싱"
      ]
    },
    {
      "cell_type": "markdown",
      "metadata": {
        "id": "CkwlDbcrmi83"
      },
      "source": [
        "문자열에서 하나 이상의 데이터를 가져오는 것을 슬라이싱 (slicing) 이라고 합니다. 인덱싱은 문자 하나에 인덱스 하나가 부여 되지지만, 슬라이싱은 범위(구간)를 지정해야 하기 때문에 문자 사이에 인덱스가 위치한다고 생각하면 됩니다."
      ]
    },
    {
      "cell_type": "markdown",
      "metadata": {
        "id": "nbhNJuEzmi83"
      },
      "source": [
        "<img src=\"https://i.ibb.co/1MLRZYR/1-6.png\" style=\"float:left\" />"
      ]
    },
    {
      "cell_type": "code",
      "execution_count": 22,
      "metadata": {
        "id": "gdnQm5hzmi83",
        "outputId": "459a57c5-cedf-45a0-edb8-ed917676768c",
        "colab": {
          "base_uri": "https://localhost:8080/",
          "height": 35
        }
      },
      "outputs": [
        {
          "output_type": "execute_result",
          "data": {
            "text/plain": [
              "'hello'"
            ],
            "application/vnd.google.colaboratory.intrinsic+json": {
              "type": "string"
            }
          },
          "metadata": {},
          "execution_count": 22
        }
      ],
      "source": [
        "string = \"hello minsu\"\n",
        "string[0]  # indexing\n",
        "string[0:5]  # slicing"
      ]
    },
    {
      "cell_type": "code",
      "source": [
        "string[0:6] # 띄어쓰기도 문자열\n",
        "print(string[:5])\n",
        "print(string[:])\n",
        "print(string[-1:-5])  # 출력 안 됨\n",
        "print(string[-5:-1])  \n",
        "print(string[-5:])\n",
        "print(string[-4:])\n",
        "print(\"H\" + string[1:6] + \"M\" + string[7:])\n",
        "f\"H{string[1:6]}M{string[7:]}\""
      ],
      "metadata": {
        "colab": {
          "base_uri": "https://localhost:8080/",
          "height": 164
        },
        "id": "SI8aFcIQToXV",
        "outputId": "952d1105-099e-4a68-821b-e3d73e10133f"
      },
      "execution_count": 38,
      "outputs": [
        {
          "output_type": "stream",
          "name": "stdout",
          "text": [
            "hello\n",
            "hello minsu\n",
            "\n",
            "mins\n",
            "minsu\n",
            "insu\n",
            "Hello Minsu\n"
          ]
        },
        {
          "output_type": "execute_result",
          "data": {
            "text/plain": [
              "'Hello Minsu'"
            ],
            "application/vnd.google.colaboratory.intrinsic+json": {
              "type": "string"
            }
          },
          "metadata": {},
          "execution_count": 38
        }
      ]
    },
    {
      "cell_type": "markdown",
      "metadata": {
        "id": "OKCGD38Umi83"
      },
      "source": [
        "시작 인덱스를 생략하면 0부터, 끝 인덱스를 생략하면 끝까지 데이터를 가져옵니다. 문자열을 슬라이싱한 결과는 문자열입니다. 따라서 의미는 없지만 다음의 코드를 실행하면 hello minsu가 출력됩니다. "
      ]
    },
    {
      "cell_type": "code",
      "execution_count": 24,
      "metadata": {
        "id": "hnnYZQG_mi84",
        "outputId": "2bfd9529-ae5e-4646-e449-49fc497a8f82",
        "colab": {
          "base_uri": "https://localhost:8080/",
          "height": 35
        }
      },
      "outputs": [
        {
          "output_type": "execute_result",
          "data": {
            "text/plain": [
              "'h'"
            ],
            "application/vnd.google.colaboratory.intrinsic+json": {
              "type": "string"
            }
          },
          "metadata": {},
          "execution_count": 24
        }
      ],
      "source": [
        "string[:][:][:][:]  # 문자열은 slicing해도 data type이 str \n",
        "\"hello minsu\" * 4   #  반복출력과 동일한 결과 출력됨\n",
        "string[:][:][:][0]"
      ]
    },
    {
      "cell_type": "markdown",
      "metadata": {
        "id": "riYluVL3mi84"
      },
      "source": [
        "### 문자열의 수정\n",
        "한 번 생성된 문자열은 수정이 불가능 합니다. "
      ]
    },
    {
      "cell_type": "code",
      "execution_count": 26,
      "metadata": {
        "id": "DqGi3WP6mi84",
        "outputId": "71b8ebd4-0287-492b-ffc2-6f5493e85468",
        "colab": {
          "base_uri": "https://localhost:8080/",
          "height": 192
        }
      },
      "outputs": [
        {
          "output_type": "error",
          "ename": "TypeError",
          "evalue": "ignored",
          "traceback": [
            "\u001b[0;31m---------------------------------------------------------------------------\u001b[0m",
            "\u001b[0;31mTypeError\u001b[0m                                 Traceback (most recent call last)",
            "\u001b[0;32m<ipython-input-26-c7e708d9c112>\u001b[0m in \u001b[0;36m<module>\u001b[0;34m()\u001b[0m\n\u001b[1;32m      1\u001b[0m \u001b[0;31m# 한 번 정의된 문자열은 바꿀 수 없다\u001b[0m\u001b[0;34m\u001b[0m\u001b[0;34m\u001b[0m\u001b[0;34m\u001b[0m\u001b[0m\n\u001b[0;32m----> 2\u001b[0;31m \u001b[0mstring\u001b[0m\u001b[0;34m[\u001b[0m\u001b[0;36m0\u001b[0m\u001b[0;34m]\u001b[0m \u001b[0;34m=\u001b[0m \u001b[0;34m\"H\"\u001b[0m\u001b[0;34m\u001b[0m\u001b[0;34m\u001b[0m\u001b[0m\n\u001b[0m",
            "\u001b[0;31mTypeError\u001b[0m: 'str' object does not support item assignment"
          ]
        }
      ],
      "source": [
        "# 한 번 정의된 문자열은 바꿀 수 없다\n",
        "string[0] = \"H\""
      ]
    },
    {
      "cell_type": "markdown",
      "metadata": {
        "id": "Tbzg8TiDmi84"
      },
      "source": [
        "새롭게 하나의 문자열을 정의해야 합니다.    "
      ]
    },
    {
      "cell_type": "code",
      "execution_count": 25,
      "metadata": {
        "id": "w8aGodNCmi84",
        "outputId": "41cd44e1-beea-40e0-c295-f27f5ced35e2",
        "colab": {
          "base_uri": "https://localhost:8080/",
          "height": 35
        }
      },
      "outputs": [
        {
          "output_type": "execute_result",
          "data": {
            "text/plain": [
              "'Hello minsu'"
            ],
            "application/vnd.google.colaboratory.intrinsic+json": {
              "type": "string"
            }
          },
          "metadata": {},
          "execution_count": 25
        }
      ],
      "source": [
        "\"H\" + string[1:]"
      ]
    },
    {
      "cell_type": "markdown",
      "metadata": {
        "id": "bh5N3NdRmi84"
      },
      "source": [
        "### 문자열 formatting \n",
        "문자열 정의 기호 앞에 f를 붙이고 변수는 중괄호(`{ }`)와 함께 표현합니다.  \n",
        "`f\" {변수명} \"` "
      ]
    },
    {
      "cell_type": "code",
      "execution_count": 28,
      "metadata": {
        "id": "kJtH8aEGmi84",
        "colab": {
          "base_uri": "https://localhost:8080/"
        },
        "outputId": "638a5500-6b6e-4a1f-b6cb-820841c2ae9d"
      },
      "outputs": [
        {
          "output_type": "stream",
          "name": "stdout",
          "text": [
            "30000.234 원\n"
          ]
        }
      ],
      "source": [
        "용돈 = 30000.234\n",
        "print(용돈, '원')  # 용돈 + '원' -> 숫자와 문자는 더할 수 없음"
      ]
    },
    {
      "cell_type": "markdown",
      "metadata": {
        "id": "9A7TGniOmi84"
      },
      "source": [
        "수식을 입력할 수도 있습니다."
      ]
    },
    {
      "cell_type": "code",
      "execution_count": 29,
      "metadata": {
        "id": "u43qq8Dcmi84",
        "colab": {
          "base_uri": "https://localhost:8080/"
        },
        "outputId": "2c735274-a649-4013-ef0e-4ae0abd4f729"
      },
      "outputs": [
        {
          "output_type": "stream",
          "name": "stdout",
          "text": [
            "30000.234원\n"
          ]
        }
      ],
      "source": [
        "# f - string\n",
        "print(f\"{용돈}원\")   # formatting : 변수({})에 있는 값을 꺼내와서 문자와 연결"
      ]
    },
    {
      "cell_type": "markdown",
      "metadata": {
        "id": "02cvD4Hdmi84"
      },
      "source": [
        "변수가 아닌 문자열을 문자열 기호안에 그대로 넣어줍니다.  \n",
        "`f\"안녕하세요. {변수명}\"`"
      ]
    },
    {
      "cell_type": "code",
      "execution_count": 30,
      "metadata": {
        "id": "BI35RN2ami85",
        "colab": {
          "base_uri": "https://localhost:8080/"
        },
        "outputId": "cbcb4e61-6448-4dce-c75c-ef208cf5b3e8"
      },
      "outputs": [
        {
          "output_type": "stream",
          "name": "stdout",
          "text": [
            "30,000.234원\n",
            "30000.2원\n"
          ]
        }
      ],
      "source": [
        "# option 지정\n",
        "print(f\"{용돈:,}원\") # 천 단위 구분(,)\n",
        "print(f\"{용돈:.1f}원\")"
      ]
    },
    {
      "cell_type": "code",
      "execution_count": 32,
      "metadata": {
        "id": "nxflr2dKmi85",
        "colab": {
          "base_uri": "https://localhost:8080/",
          "height": 35
        },
        "outputId": "8476e72c-cf43-4a2d-d491-59d1f0cfcf90"
      },
      "outputs": [
        {
          "output_type": "execute_result",
          "data": {
            "text/plain": [
              "'3232'"
            ],
            "application/vnd.google.colaboratory.intrinsic+json": {
              "type": "string"
            }
          },
          "metadata": {},
          "execution_count": 32
        }
      ],
      "source": [
        "변수 = \"3232\"\n",
        "f'{int(변수):3}'"
      ]
    },
    {
      "cell_type": "markdown",
      "metadata": {
        "id": "g-39tTk8mi85"
      },
      "source": [
        "### 문제 더 풀어보기\n",
        "https://wikidocs.net/30101  \n",
        "https://wikidocs.net/32135  \n",
        "https://wikidocs.net/30102  "
      ]
    },
    {
      "cell_type": "markdown",
      "metadata": {
        "id": "BVt3p4uUmi85"
      },
      "source": [
        "## 부록 (변수)"
      ]
    },
    {
      "cell_type": "markdown",
      "source": [
        ""
      ],
      "metadata": {
        "id": "Koc0lgLLXEZu"
      }
    },
    {
      "cell_type": "markdown",
      "metadata": {
        "id": "Rw_3BFUdmi85"
      },
      "source": [
        "메모리와 변수에 대한 설명\n",
        "\n",
        "만든 빵을 저장('목적'이 다른 것)\n",
        "- 창고 : 많이 저장하려고 차곡차곡 쌓아놓음 = 하드디스크(주기억장치 : 데이터를 차곡차곡 많이 저장)\n",
        "- 진열대 : 빵을 팔기 위해 예쁘게 진열  = 메모리(보조기억장치 : 컴퓨터를 실행하기 위한 목적의 데이터는 메모리에 올라와 있어야 함)  \n",
        "\n",
        "  \n",
        "  \n",
        "HDD에 저장되어 있는 코드를 읽어와 메모리에 올리고 -> 메모리에 있는 내용을 가지고 CPU가 실행(CPU는 RAM 메모리만 바라본다)\n",
        "- 용량 : HDD > RAM > Cache(SRAM)"
      ]
    },
    {
      "cell_type": "code",
      "source": [
        "변수 = 10\n",
        "id(변수)"
      ],
      "metadata": {
        "colab": {
          "base_uri": "https://localhost:8080/"
        },
        "id": "7KUkc7y0XFh_",
        "outputId": "192891d2-1172-4d66-be02-a06557855757"
      },
      "execution_count": 33,
      "outputs": [
        {
          "output_type": "execute_result",
          "data": {
            "text/plain": [
              "94340334709536"
            ]
          },
          "metadata": {},
          "execution_count": 33
        }
      ]
    },
    {
      "cell_type": "code",
      "source": [
        "# 메모리 공간 어딘가에 저장된 10을 변수가 가리키고, 20은 변수2가 가리킨다 by ID\n",
        "변수2 = 20\n",
        "id(변수2)"
      ],
      "metadata": {
        "colab": {
          "base_uri": "https://localhost:8080/"
        },
        "id": "tOsIz_NNYe2g",
        "outputId": "1c34061a-be27-4782-add9-13193fae504a"
      },
      "execution_count": 34,
      "outputs": [
        {
          "output_type": "execute_result",
          "data": {
            "text/plain": [
              "94340334709856"
            ]
          },
          "metadata": {},
          "execution_count": 34
        }
      ]
    },
    {
      "cell_type": "code",
      "source": [
        "# 변수와 변수3의 주소가 동일하다 : 메모리 공간에 있는 10을 변수와 변수3이 동시에 가리킨다\n",
        "변수3 = 10 \n",
        "id(변수3)\n"
      ],
      "metadata": {
        "colab": {
          "base_uri": "https://localhost:8080/"
        },
        "id": "NGcLNHZyYvz_",
        "outputId": "fbbd5a50-57b4-4516-ec61-13ee17e08532"
      },
      "execution_count": 36,
      "outputs": [
        {
          "output_type": "execute_result",
          "data": {
            "text/plain": [
              "94340334709536"
            ]
          },
          "metadata": {},
          "execution_count": 36
        }
      ]
    },
    {
      "cell_type": "code",
      "source": [
        "변수3 = 변수 + 10 # 메모리 공간에 있는 20을 변수3이 가리킨다\n",
        "id(변수3) \n",
        "# 즉 변수는 이름표. interpreter가 우변의 연산을 수행한 후, 그 값을 저장하고 있는 해당 메모리를 가리키는 역할\n",
        "# 변수에 값이 저장되는 것이 아님. 값을 참조하는 것(binding)"
      ],
      "metadata": {
        "colab": {
          "base_uri": "https://localhost:8080/"
        },
        "id": "CWzQtN6KZQAU",
        "outputId": "a5dc3594-fb46-4574-c832-ad69a8103f0b"
      },
      "execution_count": 35,
      "outputs": [
        {
          "output_type": "execute_result",
          "data": {
            "text/plain": [
              "94340334709856"
            ]
          },
          "metadata": {},
          "execution_count": 35
        }
      ]
    },
    {
      "cell_type": "markdown",
      "metadata": {
        "id": "-DNpr6E9mi85"
      },
      "source": [
        "bit 설명"
      ]
    },
    {
      "cell_type": "code",
      "execution_count": null,
      "metadata": {
        "id": "6pUHtKAzmi85"
      },
      "outputs": [],
      "source": [
        "string = 'abc'  # 우변부터 실행 : 메모리에 a, b, c가 각각 저장됨\n",
        "string[0]       # 메모리에 있는 a를 참조하여 그 값을 출력함\n",
        "string[0] = 'A' # error : 메모리에 정의된 값(특히 문자열)을 일부만 바꾸는 것을 문법적으로 허용하지 않음 - 문자열은 immutable. 단, mutable은 메모리에 있는 값을 바꿀 수 있음\n",
        "'A' + string[1:] # A를 메모리의 새로운 공간에 정의. 기존에 메모리에 저장되어 있던 b,c를 읽어옴 => 즉 기존에 정의된 문자열을 바꾸지 않고, 새롭게 데이터를 생성해 기존의 연결을 끊고 재연결한 것\n",
        "string = 'A' + string[1:]  # 기존에 저장되어 있던 a,b,c와의 연결이 끊어지고 string 변수가 A, b, c를 가리킴 (연결이 끊어져 참조되지 않는 데이터 a는 일정 주기로 정리됨 - garbage collector)"
      ]
    },
    {
      "cell_type": "code",
      "source": [
        "string = \"hello minsoo\"\n",
        "print(string.upper())\n",
        "print(string.capitalize())\n",
        "print(string.replace(\"h\", \"H\"))"
      ],
      "metadata": {
        "colab": {
          "base_uri": "https://localhost:8080/"
        },
        "id": "klLUAHFVeMbS",
        "outputId": "630dda2c-b61c-448e-e585-f41277313f7a"
      },
      "execution_count": 39,
      "outputs": [
        {
          "output_type": "stream",
          "name": "stdout",
          "text": [
            "HELLO MINSOO\n",
            "Hello minsoo\n",
            "Hello minsoo\n"
          ]
        }
      ]
    },
    {
      "cell_type": "code",
      "source": [
        "id(float(100/10))\n",
        "id(float(10.0))  # 메모리에 새로운 공간을 확보하여 새로운 데이터를 저장하고, 이를 변수가 가리킴(참조)"
      ],
      "metadata": {
        "id": "pfKpYJmUefUF"
      },
      "execution_count": null,
      "outputs": []
    }
  ],
  "metadata": {
    "kernelspec": {
      "display_name": "Python 3",
      "language": "python",
      "name": "python3"
    },
    "language_info": {
      "codemirror_mode": {
        "name": "ipython",
        "version": 3
      },
      "file_extension": ".py",
      "mimetype": "text/x-python",
      "name": "python",
      "nbconvert_exporter": "python",
      "pygments_lexer": "ipython3",
      "version": "3.8.8"
    },
    "toc": {
      "base_numbering": 1,
      "nav_menu": {},
      "number_sections": true,
      "sideBar": true,
      "skip_h1_title": false,
      "title_cell": "Table of Contents",
      "title_sidebar": "Contents",
      "toc_cell": false,
      "toc_position": {},
      "toc_section_display": true,
      "toc_window_display": false
    },
    "colab": {
      "name": "데이터 타입.ipynb",
      "provenance": [],
      "collapsed_sections": [],
      "toc_visible": true,
      "include_colab_link": true
    }
  },
  "nbformat": 4,
  "nbformat_minor": 0
}
