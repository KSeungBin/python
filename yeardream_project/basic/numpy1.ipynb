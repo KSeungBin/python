{
  "cells": [
    {
      "cell_type": "markdown",
      "metadata": {
        "id": "view-in-github",
        "colab_type": "text"
      },
      "source": [
        "<a href=\"https://colab.research.google.com/github/KSeungBin/python/blob/master/numpy.ipynb\" target=\"_parent\"><img src=\"https://colab.research.google.com/assets/colab-badge.svg\" alt=\"Open In Colab\"/></a>"
      ]
    },
    {
      "cell_type": "markdown",
      "metadata": {
        "id": "XJg8cApLSOSX"
      },
      "source": [
        "# 넘파이 (Numpy)\n",
        "수학 및 과학 연산을 위한 파이썬 패키지입니다. \n",
        "- 기술통계 분석 정도에 사용\n",
        "- matplotlib, Pandas 등 다른 Python 모듈과 함께 사용\n",
        "\n",
        "홈페이지 : https://numpy.org/devdocs/user/quickstart.html  \n",
        "           -> numpy guideline"
      ]
    },
    {
      "cell_type": "code",
      "source": [
        "import pybithumb \n",
        "tickers = pybithumb.get_tickers()"
      ],
      "metadata": {
        "id": "jsKgl6DCVZyV"
      },
      "execution_count": null,
      "outputs": []
    },
    {
      "cell_type": "code",
      "source": [
        "# alias 지정\n",
        "import pybithumb as pb\n",
        "tickers = pb.get_tickers()"
      ],
      "metadata": {
        "id": "uH0fGHupVgVJ"
      },
      "execution_count": null,
      "outputs": []
    },
    {
      "cell_type": "code",
      "source": [
        "# prefix 없이 메서드 사용하는 방법\n",
        "from pybithumb import get_tickers    # from pyybithumb import * 는 비추\n",
        "tickers = get_tickers()"
      ],
      "metadata": {
        "id": "HrQAFfooVL2B"
      },
      "execution_count": null,
      "outputs": []
    },
    {
      "cell_type": "markdown",
      "metadata": {
        "id": "WDZolfljSOSe"
      },
      "source": [
        "참고자료 : https://wikidocs.net/160667"
      ]
    },
    {
      "cell_type": "markdown",
      "metadata": {
        "id": "N3uEUrwSSOSf"
      },
      "source": [
        "파이썬 모듈을 사용하기 위해서는 import를 해야 합니다.  \n",
        "많은 사람들이 import 하는 방식을 사용하는 것이 가독성을 높일 수 있습니다."
      ]
    },
    {
      "cell_type": "code",
      "execution_count": 2,
      "metadata": {
        "id": "UsSTr_tmSOSg"
      },
      "outputs": [],
      "source": [
        "import numpy as np    \n",
        "from numpy import abs, max   # 자주 사용하는 함수일 때 prefix 없이 사용 가능하게 함"
      ]
    },
    {
      "cell_type": "code",
      "source": [
        "# 사용자 정의 함수와 python 내부 함수의 이름이 동일할 때\n",
        "from numpy import abs as kk  # from numpy as *라고 하면 문제를 해결할 수 없음\n",
        "def abs(x):\n",
        "  return 10"
      ],
      "metadata": {
        "id": "rQ32Yy3VWWLs"
      },
      "execution_count": null,
      "outputs": []
    },
    {
      "cell_type": "markdown",
      "metadata": {
        "id": "rATgv77DSOSh"
      },
      "source": [
        "## NdArray"
      ]
    },
    {
      "cell_type": "markdown",
      "metadata": {
        "id": "h4tS6MJHSOSi"
      },
      "source": [
        "넘파이에서는 배열을 효과적으로 관리하기 위한 ndarray 객체를 제공합니다. 이는 파이썬 기본 자료구조인 리스트 (튜플)을 <b>업그레이드</b> 해서 보다 향상된 기능을 제공합니다. 리스트를 상속받아 더 많은 기능을 구현해서 사용성을 높이는 것으로 추측해 볼 수 있죠?"
      ]
    },
    {
      "cell_type": "code",
      "source": [
        "arr = [1,2,3,4]      # python 기초문법은 수치연산 함수를 제공하지 않는다(따라서, 아래처럼 사용자가 직접 계산해야 함)\n",
        "sum(arr) / len(arr)  # numpy는 mean(평균), std(표준편차), var(분산) 등 자료구조(ndarray)의 연산 제공"
      ],
      "metadata": {
        "id": "H0hyCwwHXKxV"
      },
      "execution_count": null,
      "outputs": []
    },
    {
      "cell_type": "code",
      "execution_count": 3,
      "metadata": {
        "colab": {
          "base_uri": "https://localhost:8080/"
        },
        "id": "x7TDICkKSOSj",
        "outputId": "9ca44307-a000-4186-acc0-bacebe50512c"
      },
      "outputs": [
        {
          "output_type": "stream",
          "name": "stdout",
          "text": [
            "<class 'numpy.ndarray'>\n"
          ]
        }
      ],
      "source": [
        "arr = [1, 2, 3, 4]\n",
        "a = np.array(arr) # list를 numpy의 array 함수에 넣어주면 ndarray 객체를 반환\n",
        "print( type (a) )"
      ]
    },
    {
      "cell_type": "markdown",
      "metadata": {
        "id": "ZTbgW_9KSOSk"
      },
      "source": [
        "리스트를 업그레이드 했기 때문에 리스트가 제공하는 모든 기능을 사용할 수 있습니다. 인덱싱, 슬라이싱도 정상동작함을 확인할 수 있습니다."
      ]
    },
    {
      "cell_type": "code",
      "execution_count": 7,
      "metadata": {
        "colab": {
          "base_uri": "https://localhost:8080/"
        },
        "id": "QaO8Ot9lSOSl",
        "outputId": "3e54dfcb-468a-479e-f893-062b3abdb46c"
      },
      "outputs": [
        {
          "output_type": "stream",
          "name": "stdout",
          "text": [
            "1\n"
          ]
        },
        {
          "output_type": "execute_result",
          "data": {
            "text/plain": [
              "array([1, 2])"
            ]
          },
          "metadata": {},
          "execution_count": 7
        }
      ],
      "source": [
        "print(a[0])      # indexing 지원\n",
        "a[0:2]    # slicing 지원"
      ]
    },
    {
      "cell_type": "markdown",
      "metadata": {
        "id": "t-anW_9qSOSm"
      },
      "source": [
        "`zeros` 함수를 사용하면 0으로 채워진 `ndarray`를 만들 수 있습니다. "
      ]
    },
    {
      "cell_type": "code",
      "execution_count": 9,
      "metadata": {
        "colab": {
          "base_uri": "https://localhost:8080/"
        },
        "id": "CV1MQylWSOSn",
        "outputId": "d5487a0b-c4c4-46d1-a528-bb50af2cf912"
      },
      "outputs": [
        {
          "output_type": "stream",
          "name": "stdout",
          "text": [
            "[0. 0. 0. 0. 0. 0. 0. 0. 0. 0.]\n"
          ]
        },
        {
          "output_type": "execute_result",
          "data": {
            "text/plain": [
              "array([0, 0, 0, 0, 0, 0, 0, 0, 0, 0])"
            ]
          },
          "metadata": {},
          "execution_count": 9
        }
      ],
      "source": [
        "# 0으로 채워진 배열(자료구조)을 만들 수 있다\n",
        "print(np.zeros(10))   # float 0.0 이 10개 생성됨 \n",
        "\n",
        "# 데이터 타입 지정해서 정수 10개 생성\n",
        "np.zeros(10, dtype=int)"
      ]
    },
    {
      "cell_type": "markdown",
      "metadata": {
        "id": "QqedP1BSSOSn"
      },
      "source": [
        "`ones` 함수를 사용하면 1로 채워진 `ndarray`를 만들 수 있습니다. "
      ]
    },
    {
      "cell_type": "code",
      "execution_count": 10,
      "metadata": {
        "colab": {
          "base_uri": "https://localhost:8080/"
        },
        "id": "FFX-Kx5rSOSo",
        "outputId": "b33d142e-28cf-4a65-9fe9-7ec1b3f5089e"
      },
      "outputs": [
        {
          "output_type": "execute_result",
          "data": {
            "text/plain": [
              "array([1, 1, 1, 1, 1, 1, 1, 1, 1, 1])"
            ]
          },
          "metadata": {},
          "execution_count": 10
        }
      ],
      "source": [
        "np.ones(10, dtype=int)"
      ]
    },
    {
      "cell_type": "markdown",
      "metadata": {
        "id": "vBP93G7dSOSo"
      },
      "source": [
        "튜플로 x, y 크기를 지정하면 2차원 형태로 배열이 생성됩니다. "
      ]
    },
    {
      "cell_type": "code",
      "execution_count": 11,
      "metadata": {
        "colab": {
          "base_uri": "https://localhost:8080/"
        },
        "id": "1dCqOXeySOSp",
        "outputId": "99da27cc-cc39-4a47-be1f-2cb923210ede"
      },
      "outputs": [
        {
          "output_type": "execute_result",
          "data": {
            "text/plain": [
              "array([[1, 1, 1],\n",
              "       [1, 1, 1],\n",
              "       [1, 1, 1]])"
            ]
          },
          "metadata": {},
          "execution_count": 11
        }
      ],
      "source": [
        "# 2차원 형태로 ndarray를 만들기  - 2차원이므로 리스트 안에 리스트가 들어있는 형태\n",
        "np.ones((3,3), dtype=int) "
      ]
    },
    {
      "cell_type": "markdown",
      "metadata": {
        "id": "rGxesnN7SOSp"
      },
      "source": [
        "이차원 데이터가 저장된 리스트도 한 번에 ndarray로 변환할 수 있습니다.   \n",
        "리스트에 저장된 다음 값은 `arr = [[1, 2], [3, 4]]` 아래 그림과 같은 구조를 표현합니다. "
      ]
    },
    {
      "cell_type": "markdown",
      "metadata": {
        "id": "qkaEB83NSOSq"
      },
      "source": [
        "<img src=\"https://i.ibb.co/6g96V6V/numpy-0.png\" width=\"300\" style=\"float:left\" />"
      ]
    },
    {
      "cell_type": "code",
      "execution_count": 12,
      "metadata": {
        "colab": {
          "base_uri": "https://localhost:8080/"
        },
        "id": "fHj_Vm-lSOSq",
        "outputId": "8f900dec-9b84-4dbe-fde0-cc3ed720a494"
      },
      "outputs": [
        {
          "output_type": "stream",
          "name": "stdout",
          "text": [
            "[[1 2]\n",
            " [3 4]]\n"
          ]
        }
      ],
      "source": [
        "arr = [[1, 2], [3, 4]]  # 2차원 리스트\n",
        "a = np.array(arr) # python의 기본 자료구조인 list, dict   -> 이들의 불편함을 개선한 ndarray 자료구조(객체) 생성하기\n",
        "print(a)"
      ]
    },
    {
      "cell_type": "markdown",
      "metadata": {
        "id": "uSDUgLLgSOSq"
      },
      "source": [
        "`vstack` 함수는 두 개의 `ndarray`를 `vertical` 방향으로 합칩니다. 이 때 전달하는 `ndarray`는 리스트로 정의해서 파라미터로 전달해야 합니다. "
      ]
    },
    {
      "cell_type": "code",
      "execution_count": 13,
      "metadata": {
        "colab": {
          "base_uri": "https://localhost:8080/"
        },
        "id": "-KmTRYZySOSr",
        "outputId": "a6bfcc55-be90-4646-827e-430a9feb45c8"
      },
      "outputs": [
        {
          "output_type": "stream",
          "name": "stdout",
          "text": [
            "2\n",
            "[1 2]\n",
            "[[1 2]]\n"
          ]
        }
      ],
      "source": [
        "print(len(a))  # list는 ,로 데이터를 구분한다 => python interpreter는 a의 데이터 갯수를 2개로 count (2개의 덩어리)\n",
        "print(a[0])   \n",
        "print(a[:1])  # 2차원 리스트(ndarray)를 슬라이싱하면 2차원 리스트(ndarray) 반환(슬라이싱 : 해당하는 데이터를 꺼내오고, 동일한 자료구조로 반환)"
      ]
    },
    {
      "cell_type": "code",
      "source": [
        "a = [1,2,3,4]  # 데이터를 1차원으로 표현\n",
        "a = [          # 데이터를 2차원으로 정의(리스트 안에 리스트)\n",
        "     [1,2],\n",
        "     [3,4]\n",
        "]"
      ],
      "metadata": {
        "id": "V376rabQaPIq"
      },
      "execution_count": null,
      "outputs": []
    },
    {
      "cell_type": "markdown",
      "metadata": {
        "id": "3cPLmcDpSOSr"
      },
      "source": [
        "`hstack` 함수는 두 개의 `ndarray`를 `horizontal` 방향으로 합칩니다."
      ]
    },
    {
      "cell_type": "code",
      "execution_count": null,
      "metadata": {
        "id": "ZD8F3W1ZSOSr",
        "outputId": "a39e6d66-8212-44aa-d951-7072676edd1a"
      },
      "outputs": [
        {
          "name": "stdout",
          "output_type": "stream",
          "text": [
            "[1 2 3 4]\n"
          ]
        }
      ],
      "source": [
        "\n",
        "\n",
        "\n",
        "\n",
        "\n"
      ]
    },
    {
      "cell_type": "markdown",
      "metadata": {
        "id": "m5RPyBKFSOSs"
      },
      "source": [
        "reshape은 차원을 재정의 합니다. "
      ]
    },
    {
      "cell_type": "code",
      "execution_count": 18,
      "metadata": {
        "colab": {
          "base_uri": "https://localhost:8080/"
        },
        "id": "r12-CvQZSOSs",
        "outputId": "564c8e8a-cf5b-4077-d34c-c0a9d2581b00"
      },
      "outputs": [
        {
          "output_type": "execute_result",
          "data": {
            "text/plain": [
              "array([[[1, 2],\n",
              "        [3, 4]],\n",
              "\n",
              "       [[5, 6],\n",
              "        [7, 8]]])"
            ]
          },
          "metadata": {},
          "execution_count": 18
        }
      ],
      "source": [
        "arr = [1, 2, 3, 4]\n",
        "a = np.array(arr) # 1차원 리스트를 1차원 ndarray로 변환\n",
        "a.reshape((2,2))  # (행, 열) \n",
        "# a라는 ndarray class에 정의된 reshape method 호출 : (행,열) 정보(입력 파라미터)를 튜플이나 리스트 형태로 넣어야한다고 정의되어 있음\n",
        "# reshape method는 return하는 것으로 설계되어 있음 : 따라서, 변수로 결과값을 받아서 사용해야 함\n",
        "arr1 = [1,2,3,4,5,6,7,8]\n",
        "b = np.array(arr1)\n",
        "b.reshape((4,2))  # arr1의 원소가 8개이므로, 갯수에 맞춰 reshape해야 함\n",
        "b.reshape((2,2,2))"
      ]
    },
    {
      "cell_type": "code",
      "source": [
        "def mysum(a):\n",
        "  return "
      ],
      "metadata": {
        "id": "wXGLvalucT0J"
      },
      "execution_count": null,
      "outputs": []
    },
    {
      "cell_type": "markdown",
      "metadata": {
        "id": "zXvnkRSJSOSt"
      },
      "source": [
        "넘파이의 `arange()` 함수는 `range()` 함수와 유사하게 호출할 수 있으며, 결괏값으로 `ndarray`를 반환합니다. "
      ]
    },
    {
      "cell_type": "code",
      "execution_count": 16,
      "metadata": {
        "colab": {
          "base_uri": "https://localhost:8080/"
        },
        "id": "aFWfQcABSOSt",
        "outputId": "7518e612-351a-4a00-857e-eb8f276f6e7c"
      },
      "outputs": [
        {
          "output_type": "stream",
          "name": "stdout",
          "text": [
            "[0 1 2 3]\n",
            "[90 91 92 93 94 95 96 97 98 99]\n",
            "[0 2 4 6 8]\n"
          ]
        }
      ],
      "source": [
        "a = np.arange(4)\n",
        "print(a)\n",
        "\n",
        "b = np.arange(90,100)\n",
        "print(b)\n",
        "\n",
        "c = np.arange(0,10,2)\n",
        "print(c)"
      ]
    },
    {
      "cell_type": "markdown",
      "metadata": {
        "id": "Pnxe03I0SOSt"
      },
      "source": [
        "시작/끝/증감폭을 지정할 수 있습니다."
      ]
    },
    {
      "cell_type": "code",
      "execution_count": null,
      "metadata": {
        "id": "oZFcM21LSOSt"
      },
      "outputs": [],
      "source": [
        ""
      ]
    },
    {
      "cell_type": "markdown",
      "metadata": {
        "id": "Rpe6fgtWSOSu"
      },
      "source": [
        "다음 2차원 `ndarray`에는 총 3개의 데이터가 있습니다. \n",
        "```\n",
        "[  데이터1 \n",
        "   데이터2\n",
        "   데이터3 ]\n",
        "```\n",
        "그리고 각각의 데이터에는 다시 `ndarray`가 들어 있습니다."
      ]
    },
    {
      "cell_type": "code",
      "execution_count": null,
      "metadata": {
        "id": "kGRTZbEkSOSu",
        "outputId": "6ededba1-dc44-446a-fe40-01462130a2c8"
      },
      "outputs": [
        {
          "name": "stdout",
          "output_type": "stream",
          "text": [
            "[[0 1 2]\n",
            " [3 4 5]\n",
            " [6 7 8]]\n"
          ]
        }
      ],
      "source": [
        "\n",
        "\n",
        "\n"
      ]
    },
    {
      "cell_type": "markdown",
      "metadata": {
        "id": "yicJQowjSOSu"
      },
      "source": [
        "## NdArray의 인덱싱과 슬라이싱"
      ]
    },
    {
      "cell_type": "markdown",
      "metadata": {
        "id": "_NZ7MRJQSOSu"
      },
      "source": [
        "0번째 들어있는 데이터를 인덱싱으로 출력하면 `ndarray`가 출력됩니다. "
      ]
    },
    {
      "cell_type": "code",
      "execution_count": 20,
      "metadata": {
        "colab": {
          "base_uri": "https://localhost:8080/"
        },
        "id": "ZwlYLK0lSOSu",
        "outputId": "4e0373a3-cc1c-4e15-cbb1-cdca261e976e"
      },
      "outputs": [
        {
          "output_type": "stream",
          "name": "stdout",
          "text": [
            "[0 1 2]\n"
          ]
        }
      ],
      "source": [
        "a = np.arange(9).reshape((3,3))  # np.arange하면 0~8의 값을 가진 ndarray가 생성됨\n",
        "a   # (3,3) reshape로 2차원 ndarray로 변환하기\n",
        "print(a[0])"
      ]
    },
    {
      "cell_type": "markdown",
      "metadata": {
        "id": "crd54CsZSOSv"
      },
      "source": [
        "<img src=\"https://i.ibb.co/hcYQ0sn/numpy-1.png\" width=\"300\" style=\"float:left\" />"
      ]
    },
    {
      "cell_type": "markdown",
      "metadata": {
        "id": "FFzzLzpaSOSv"
      },
      "source": [
        "하나의 값을 출력하려면 또 다시 인덱싱을 사용하면 되겠죠? 첫 번째 행의 두 번째 열에 있는 값 (`1`)을 출력해 봅시다."
      ]
    },
    {
      "cell_type": "code",
      "execution_count": 23,
      "metadata": {
        "colab": {
          "base_uri": "https://localhost:8080/"
        },
        "id": "aXWF_Rm0SOSv",
        "outputId": "32072943-45ca-4ceb-df4e-e02ff7dc5c72"
      },
      "outputs": [
        {
          "output_type": "stream",
          "name": "stdout",
          "text": [
            "1\n",
            "8\n"
          ]
        }
      ],
      "source": [
        "print(a[0][1])\n",
        "print(a[-1][-1])"
      ]
    },
    {
      "cell_type": "markdown",
      "metadata": {
        "id": "9JWgex6OSOSv"
      },
      "source": [
        "<img src=\"https://i.ibb.co/MNMwS45/numpy-2.png\" width=\"300\" style=\"float:left\" />"
      ]
    },
    {
      "cell_type": "markdown",
      "metadata": {
        "id": "w3QGQ8xPSOSw"
      },
      "source": [
        "슬라이싱으로 0번, 1번 두 개의 줄을 선택하기 "
      ]
    },
    {
      "cell_type": "code",
      "execution_count": 24,
      "metadata": {
        "colab": {
          "base_uri": "https://localhost:8080/"
        },
        "id": "Q3L_DwB4SOSw",
        "outputId": "0cffb2fd-3e76-4ad4-ec11-1d2527403924"
      },
      "outputs": [
        {
          "output_type": "execute_result",
          "data": {
            "text/plain": [
              "array([[0, 1, 2],\n",
              "       [3, 4, 5]])"
            ]
          },
          "metadata": {},
          "execution_count": 24
        }
      ],
      "source": [
        "a[0:2]"
      ]
    },
    {
      "cell_type": "markdown",
      "metadata": {
        "id": "uPMuAdiSSOSw"
      },
      "source": [
        "<img src=\"https://i.ibb.co/zmKXhbY/numpy-3.png\" width=\"300\" style=\"float:left\" />"
      ]
    },
    {
      "cell_type": "markdown",
      "metadata": {
        "id": "CMC-fBaOSOSx"
      },
      "source": [
        "불연속적인 행 선택하기"
      ]
    },
    {
      "cell_type": "code",
      "execution_count": 25,
      "metadata": {
        "colab": {
          "base_uri": "https://localhost:8080/"
        },
        "id": "4MG_I46PSOSy",
        "outputId": "8d81a906-39ae-40ca-d737-fec19ed04b37"
      },
      "outputs": [
        {
          "output_type": "execute_result",
          "data": {
            "text/plain": [
              "array([[0, 1, 2],\n",
              "       [6, 7, 8]])"
            ]
          },
          "metadata": {},
          "execution_count": 25
        }
      ],
      "source": [
        "# 2개씩 건너뛰며 데이터를 연속적으로 선택\n",
        "a[::2]"
      ]
    },
    {
      "cell_type": "code",
      "source": [
        "# 리스트로 인덱스를 나열하여 지정한 위치의 행을 불연속적으로 선택\n",
        "a = np.arange(12).reshape(4,3)\n",
        "print(a)\n",
        "print(a[[0,1,3]])\n",
        "print(a[[0,0,1,1]]) # 중복된 데이터를 가져올 수 있다\n",
        "print(a[[1,1,0,2]])  # 순서를 바꿔서 가져올 수 있다\n",
        "print(a[-2][2])    # [행][열] 정보로 하나의 데이터 가져오기 "
      ],
      "metadata": {
        "colab": {
          "base_uri": "https://localhost:8080/"
        },
        "id": "mXp9XGrCjWlO",
        "outputId": "fdd6d894-dfa7-49de-d79f-51eebb4e91fd"
      },
      "execution_count": 28,
      "outputs": [
        {
          "output_type": "stream",
          "name": "stdout",
          "text": [
            "[[ 0  1  2]\n",
            " [ 3  4  5]\n",
            " [ 6  7  8]\n",
            " [ 9 10 11]]\n",
            "[[ 0  1  2]\n",
            " [ 3  4  5]\n",
            " [ 9 10 11]]\n",
            "[[0 1 2]\n",
            " [0 1 2]\n",
            " [3 4 5]\n",
            " [3 4 5]]\n",
            "[[3 4 5]\n",
            " [3 4 5]\n",
            " [0 1 2]\n",
            " [6 7 8]]\n"
          ]
        }
      ]
    },
    {
      "cell_type": "markdown",
      "metadata": {
        "id": "FPB4lGw9SOSy"
      },
      "source": [
        "0번 1번 행과 0번 1번 열을 선택하기"
      ]
    },
    {
      "cell_type": "code",
      "execution_count": 30,
      "metadata": {
        "colab": {
          "base_uri": "https://localhost:8080/"
        },
        "id": "GlFNdU1BSOSy",
        "outputId": "a0e83a66-7f97-48da-aee7-a63c32ca0c5c"
      },
      "outputs": [
        {
          "output_type": "stream",
          "name": "stdout",
          "text": [
            "[[0 1]\n",
            " [3 4]]\n",
            "8\n"
          ]
        },
        {
          "output_type": "execute_result",
          "data": {
            "text/plain": [
              "8"
            ]
          },
          "metadata": {},
          "execution_count": 30
        }
      ],
      "source": [
        "a = np.arange(9).reshape(3,3)\n",
        "print(a[:2, :2])\n",
        "print(a[-1][2]) # a[-1][-1]과 동일 : [행][열] 정보를 입력하면 내부적으로 2번의 인덱싱이 발생해 비효율적\n",
        "a[-1,-1] # [행, 열] : 한 번에 데이터를 선택해 실행 속도가 훨씬 빠른 코드"
      ]
    },
    {
      "cell_type": "code",
      "source": [
        "%timeit a[2][2]"
      ],
      "metadata": {
        "colab": {
          "base_uri": "https://localhost:8080/"
        },
        "id": "sMQtXgEGldM9",
        "outputId": "5e30720f-911f-4ed5-cc0d-b7d633124cdd"
      },
      "execution_count": 31,
      "outputs": [
        {
          "output_type": "stream",
          "name": "stdout",
          "text": [
            "The slowest run took 49.33 times longer than the fastest. This could mean that an intermediate result is being cached.\n",
            "1000000 loops, best of 5: 243 ns per loop\n"
          ]
        }
      ]
    },
    {
      "cell_type": "code",
      "source": [
        "%timeit a[2,2]  # 빅데이터에서 일부만 가져올 때, 2배 빠른 코드 : 2차원 데이터의 인덱싱과 슬라이싱은 comma로 하기"
      ],
      "metadata": {
        "colab": {
          "base_uri": "https://localhost:8080/"
        },
        "id": "wvnnkn6glgQ1",
        "outputId": "47637f6e-9110-451b-f2fc-234078962df1"
      },
      "execution_count": 32,
      "outputs": [
        {
          "output_type": "stream",
          "name": "stdout",
          "text": [
            "The slowest run took 857.47 times longer than the fastest. This could mean that an intermediate result is being cached.\n",
            "10000000 loops, best of 5: 121 ns per loop\n"
          ]
        }
      ]
    },
    {
      "cell_type": "markdown",
      "metadata": {
        "id": "E2PLwSq0SOSy"
      },
      "source": [
        "<img src=\"https://i.ibb.co/N7dnqtj/numpy-4.png\" width=\"300\" style=\"float:left\" />"
      ]
    },
    {
      "cell_type": "markdown",
      "metadata": {
        "id": "Kyrk7u01SOSy"
      },
      "source": [
        "불연속적인 행출력하기"
      ]
    },
    {
      "cell_type": "code",
      "execution_count": 33,
      "metadata": {
        "colab": {
          "base_uri": "https://localhost:8080/"
        },
        "id": "_dxJ9jMgSOSy",
        "outputId": "27a4f905-93f9-4a96-edec-a2e4d077a88c"
      },
      "outputs": [
        {
          "output_type": "execute_result",
          "data": {
            "text/plain": [
              "array([[ 0,  1,  2],\n",
              "       [ 3,  4,  5],\n",
              "       [ 6,  7,  8],\n",
              "       [ 9, 10, 11]])"
            ]
          },
          "metadata": {},
          "execution_count": 33
        }
      ],
      "source": [
        "a = np.arange(12).reshape(4,3)\n",
        "a"
      ]
    },
    {
      "cell_type": "markdown",
      "metadata": {
        "id": "7cVJEye6SOSy"
      },
      "source": [
        "불연속적인 열출력하기"
      ]
    },
    {
      "cell_type": "code",
      "execution_count": 35,
      "metadata": {
        "colab": {
          "base_uri": "https://localhost:8080/"
        },
        "id": "OSm_PBSLSOSz",
        "outputId": "073bab35-a555-419a-a6b0-cbe580b459f6"
      },
      "outputs": [
        {
          "output_type": "stream",
          "name": "stdout",
          "text": [
            "[ 0 11]\n"
          ]
        },
        {
          "output_type": "execute_result",
          "data": {
            "text/plain": [
              "array([[ 0,  2],\n",
              "       [ 9, 11]])"
            ]
          },
          "metadata": {},
          "execution_count": 35
        }
      ],
      "source": [
        "print(a[[0,3],[0,2]])  # [[행에 대한 선택정보], [열에 대한 선택정보]] -> 불연속적으로 원소를 가져올 때 2차원으로 인덱싱하면 위험(bad code)\n",
        "a[::3, ::2] # better code : 행은 처음부터 끝까지 3개씩 건너뛰며 가져오기, 열은 처음부터 끝까지 2개씩 건너뛰며 가져오기 "
      ]
    },
    {
      "cell_type": "code",
      "source": [
        "a[::2, [0,1]]   # a[[0,2],:2] : [0,2]는 indexing, :2는 slicing"
      ],
      "metadata": {
        "colab": {
          "base_uri": "https://localhost:8080/"
        },
        "id": "iDEKDURJmpbD",
        "outputId": "4071756a-ef32-42e9-e96f-e703226878fa"
      },
      "execution_count": 36,
      "outputs": [
        {
          "output_type": "execute_result",
          "data": {
            "text/plain": [
              "array([[0, 1],\n",
              "       [6, 7]])"
            ]
          },
          "metadata": {},
          "execution_count": 36
        }
      ]
    },
    {
      "cell_type": "code",
      "source": [
        "print(a[0, ::2])  # a[0, [0,2]]\n",
        "print(a[:, [0,2]]) # 행 전체를 선택 : a[[0,1,2,3], [0,2]]  -> 리스트를 사용한 인덱싱은 불안전(error 발생할 수 있음) "
      ],
      "metadata": {
        "colab": {
          "base_uri": "https://localhost:8080/"
        },
        "id": "PYKRgySRndnN",
        "outputId": "6efee1cd-8d1f-4505-9415-38c66673f6c8"
      },
      "execution_count": 37,
      "outputs": [
        {
          "output_type": "execute_result",
          "data": {
            "text/plain": [
              "array([0, 2])"
            ]
          },
          "metadata": {},
          "execution_count": 37
        }
      ]
    },
    {
      "cell_type": "markdown",
      "metadata": {
        "id": "jt6v-DR8SOSz"
      },
      "source": [
        "## Numpy의 다양한 속성값"
      ]
    },
    {
      "cell_type": "code",
      "execution_count": 38,
      "metadata": {
        "colab": {
          "base_uri": "https://localhost:8080/"
        },
        "id": "123IhRjcSOSz",
        "outputId": "5d65bccd-d15a-46ed-e5c2-af4b566084f6"
      },
      "outputs": [
        {
          "output_type": "stream",
          "name": "stdout",
          "text": [
            "int64\n"
          ]
        }
      ],
      "source": [
        "a = np.arange(4)\n",
        "print(a.dtype)  # 메모리의 독립적인 공간에 객체(인스턴스) a가 생성됨 -> dtype은 객체 안에 정의된 인스턴스 변수"
      ]
    },
    {
      "cell_type": "code",
      "source": [
        "b = np.zeros(3)\n",
        "print(b.dtype)"
      ],
      "metadata": {
        "colab": {
          "base_uri": "https://localhost:8080/"
        },
        "id": "biJcmN43o3YZ",
        "outputId": "f6ad44cb-5258-4779-e90a-244c36f8f097"
      },
      "execution_count": 39,
      "outputs": [
        {
          "output_type": "stream",
          "name": "stdout",
          "text": [
            "float64\n"
          ]
        }
      ]
    },
    {
      "cell_type": "markdown",
      "metadata": {
        "id": "SxFavsM9SOSz"
      },
      "source": [
        "`shape` 속성은 데이터의 크기를 출력합니다. "
      ]
    },
    {
      "cell_type": "code",
      "execution_count": 41,
      "metadata": {
        "colab": {
          "base_uri": "https://localhost:8080/"
        },
        "id": "OoOABIiWSOSz",
        "outputId": "c131621e-c980-495a-e165-b338c5ba8624"
      },
      "outputs": [
        {
          "output_type": "stream",
          "name": "stdout",
          "text": [
            "[0 1 2 3]\n"
          ]
        },
        {
          "output_type": "execute_result",
          "data": {
            "text/plain": [
              "(4,)"
            ]
          },
          "metadata": {},
          "execution_count": 41
        }
      ],
      "source": [
        "print(a)\n",
        "a.shape   # 1차원으로 4개의 데이터가 들어있다"
      ]
    },
    {
      "cell_type": "markdown",
      "metadata": {
        "id": "0bQYBg3FSOSz"
      },
      "source": [
        "이차원 데이터에서도 정상동작 합니다. "
      ]
    },
    {
      "cell_type": "code",
      "execution_count": 43,
      "metadata": {
        "colab": {
          "base_uri": "https://localhost:8080/"
        },
        "id": "IUgqkvcTSOS0",
        "outputId": "67d5a406-c77a-4c18-cb63-8680168beae3"
      },
      "outputs": [
        {
          "output_type": "stream",
          "name": "stdout",
          "text": [
            "[[0 1]\n",
            " [2 3]\n",
            " [4 5]]\n",
            "(3, 2)\n"
          ]
        }
      ],
      "source": [
        "a = np.arange(6).reshape(3, 2)\n",
        "print(a)\n",
        "print(a.shape)  # 2차원 데이터 : 3행 2열의 ndarray"
      ]
    },
    {
      "cell_type": "code",
      "execution_count": null,
      "metadata": {
        "id": "lIcinooHSOS0",
        "outputId": "8ece1ddb-e3c5-4450-cfcc-a889843d66e4"
      },
      "outputs": [
        {
          "name": "stdout",
          "output_type": "stream",
          "text": [
            "2\n"
          ]
        }
      ],
      "source": [
        "a = np.arange(6).reshape(3, 2)\n",
        "print(a.ndim)  # number of dimension : 차원의 숫자를 가지고 있는 인스턴스 변수\n",
        "# a는 2차원 데이터"
      ]
    },
    {
      "cell_type": "markdown",
      "metadata": {
        "id": "yCmNm7tWSOS0"
      },
      "source": [
        "`reshape`으로 다시 1차원으로 변경할 수 있습니다."
      ]
    },
    {
      "cell_type": "code",
      "execution_count": null,
      "metadata": {
        "id": "JNQmbQdESOS0"
      },
      "outputs": [],
      "source": [
        "a.reshape(1,6) # 2개의 값을 넣으면 2차원으로 반환\n",
        "a.reshape(6)   # 1개의 값을 넣으면 1차원으로 반환"
      ]
    },
    {
      "cell_type": "markdown",
      "metadata": {
        "id": "S_0cBuSJSOS0"
      },
      "source": [
        "`flat` 속성과 형변환을 통해 1차원으로 변경할 수도 있습니다."
      ]
    },
    {
      "cell_type": "code",
      "execution_count": 44,
      "metadata": {
        "colab": {
          "base_uri": "https://localhost:8080/"
        },
        "id": "kX71MD9cSOS1",
        "outputId": "63a528c8-d582-4703-b1c7-f8323125acb6"
      },
      "outputs": [
        {
          "output_type": "execute_result",
          "data": {
            "text/plain": [
              "(6,)"
            ]
          },
          "metadata": {},
          "execution_count": 44
        }
      ],
      "source": [
        "a.flatten()   # 데이터를 1차원으로, 일렬로 연결\n",
        "# a.reshape(-1) 과 동일\n",
        "a.reshape(6).shape  # 1차원"
      ]
    },
    {
      "cell_type": "code",
      "source": [
        "print(a.reshape(6,1).shape)   # 2개의 값을 입력했기 때문에 shape을 찍으면 2차원 데이터로 나옴\n",
        "print(a.reshape(6,1).ndim)"
      ],
      "metadata": {
        "colab": {
          "base_uri": "https://localhost:8080/"
        },
        "id": "gXV170_iqDgY",
        "outputId": "353f375c-6759-4d67-84db-2360a2962faa"
      },
      "execution_count": 45,
      "outputs": [
        {
          "output_type": "stream",
          "name": "stdout",
          "text": [
            "(6, 1)\n",
            "2\n"
          ]
        }
      ]
    },
    {
      "cell_type": "markdown",
      "metadata": {
        "id": "Z4mBwiKmSOS1"
      },
      "source": [
        "Q. 학생들의 점수를 ndarray로 표현하라.\n",
        "- 문자열을 제외하고 점수만 표현"
      ]
    },
    {
      "cell_type": "markdown",
      "metadata": {
        "id": "9K7LgfRQSOS1"
      },
      "source": [
        "<img src=\"https://i.ibb.co/Rcsc9d2/numpy-5.png\" width=\"250\" style=\"float:left\" />"
      ]
    },
    {
      "cell_type": "code",
      "execution_count": 46,
      "metadata": {
        "colab": {
          "base_uri": "https://localhost:8080/"
        },
        "id": "qcvmLZw-SOS1",
        "outputId": "a891be82-9beb-4a5d-9c2c-79600a90cb3c"
      },
      "outputs": [
        {
          "output_type": "stream",
          "name": "stdout",
          "text": [
            "[[30, 25, 66], [23, 44, 23]]\n"
          ]
        }
      ],
      "source": [
        "#method 1\n",
        "score = [\n",
        "         [30,25,66],\n",
        "         [23,44,23]\n",
        "]\n",
        "print(score)"
      ]
    },
    {
      "cell_type": "code",
      "source": [
        "# method2\n",
        "arr = [30,25,66,23,44,23]\n",
        "a = np.array(arr).reshape(2,3)\n",
        "a"
      ],
      "metadata": {
        "colab": {
          "base_uri": "https://localhost:8080/"
        },
        "id": "l1J8km5uqwZb",
        "outputId": "a6f9d17d-c91e-45be-c12e-ce99148ce25d"
      },
      "execution_count": 47,
      "outputs": [
        {
          "output_type": "execute_result",
          "data": {
            "text/plain": [
              "array([[30, 25, 66],\n",
              "       [23, 44, 23]])"
            ]
          },
          "metadata": {},
          "execution_count": 47
        }
      ]
    },
    {
      "cell_type": "markdown",
      "metadata": {
        "id": "Wct9UuPkSOS1"
      },
      "source": [
        "Q. 기말고사 점수의 합을 출력하라.\n",
        "- `sum()` 함수 사용"
      ]
    },
    {
      "cell_type": "markdown",
      "metadata": {
        "id": "DJTItmW_SOS1"
      },
      "source": [
        "<img src=\"https://i.ibb.co/Rcsc9d2/numpy-5.png\" width=\"250\" style=\"float:left\" />"
      ]
    },
    {
      "cell_type": "code",
      "execution_count": 48,
      "metadata": {
        "colab": {
          "base_uri": "https://localhost:8080/"
        },
        "id": "f38OPBYxSOS1",
        "outputId": "1361d33a-43cd-4782-a6a9-71f322f68dd8"
      },
      "outputs": [
        {
          "output_type": "execute_result",
          "data": {
            "text/plain": [
              "90"
            ]
          },
          "metadata": {},
          "execution_count": 48
        }
      ],
      "source": [
        "sum(a[1])    # 비추\n",
        "a[1].sum()   # ndarray에 정의된 sum 함수를 사용하는 것이 결측값, error처리에 더 좋음"
      ]
    },
    {
      "cell_type": "code",
      "source": [
        "print(a.sum(axis=0)) # Y축 방향의 합\n",
        "print(a.sum(axis=1)) # X축 방향의 합\n",
        "print(a.sum(axis=1)[1])# 인덱싱 : 기말고사 점수의 합만 출력"
      ],
      "metadata": {
        "colab": {
          "base_uri": "https://localhost:8080/"
        },
        "id": "ndI-2QjVrUiy",
        "outputId": "ffb09ddc-8add-49ef-94dd-d0263f189264"
      },
      "execution_count": 49,
      "outputs": [
        {
          "output_type": "stream",
          "name": "stdout",
          "text": [
            "[53 69 89]\n",
            "[121  90]\n",
            "90\n"
          ]
        }
      ]
    },
    {
      "cell_type": "markdown",
      "metadata": {
        "id": "Agk2B-hpSOS2"
      },
      "source": [
        "Q. 영어점수의 평균을 출력하라."
      ]
    },
    {
      "cell_type": "markdown",
      "metadata": {
        "id": "zd8LztEESOS2"
      },
      "source": [
        "<img src=\"https://i.ibb.co/Rcsc9d2/numpy-5.png\" width=\"250\" style=\"float:left\" />"
      ]
    },
    {
      "cell_type": "code",
      "execution_count": 51,
      "metadata": {
        "colab": {
          "base_uri": "https://localhost:8080/"
        },
        "id": "3WFazrCySOS2",
        "outputId": "cbe8cefc-f575-4eea-87e7-556243f7bb50"
      },
      "outputs": [
        {
          "output_type": "execute_result",
          "data": {
            "text/plain": [
              "34.5"
            ]
          },
          "metadata": {},
          "execution_count": 51
        }
      ],
      "source": [
        "a[:, 1].mean()  # 고수준 인터페이스 : 사람과 가까운 형태로 메서드를 제공한다(가독성 UP, 직관적이고 사용자가 작성하기 쉽다)"
      ]
    },
    {
      "cell_type": "markdown",
      "metadata": {
        "id": "WM-7_ctSSOS2"
      },
      "source": [
        "축 정보 axis "
      ]
    },
    {
      "cell_type": "code",
      "execution_count": 52,
      "metadata": {
        "colab": {
          "base_uri": "https://localhost:8080/"
        },
        "id": "e5_z9PKySOS2",
        "outputId": "691cf76c-4e5e-4ef0-9981-88fd326c2c25"
      },
      "outputs": [
        {
          "output_type": "execute_result",
          "data": {
            "text/plain": [
              "34.5"
            ]
          },
          "metadata": {},
          "execution_count": 52
        }
      ],
      "source": [
        "a.mean(axis=0)[1]  # 불필요한 연산('국어','수학'열의 평균 계산)이 있어 비효율적인 코드. 따라서, 위 코드의 실행 속도가 더 빠르다"
      ]
    },
    {
      "cell_type": "code",
      "source": [
        "%timeit a[:, 1].mean()"
      ],
      "metadata": {
        "colab": {
          "base_uri": "https://localhost:8080/"
        },
        "id": "zuzar0ZIstwj",
        "outputId": "d19b29dd-eb5b-44b0-e1f9-a755285a80d2"
      },
      "execution_count": 53,
      "outputs": [
        {
          "output_type": "stream",
          "name": "stdout",
          "text": [
            "The slowest run took 13.21 times longer than the fastest. This could mean that an intermediate result is being cached.\n",
            "100000 loops, best of 5: 6.63 µs per loop\n"
          ]
        }
      ]
    },
    {
      "cell_type": "code",
      "source": [
        "%timeit a.mean(axis=0)[1]"
      ],
      "metadata": {
        "colab": {
          "base_uri": "https://localhost:8080/"
        },
        "id": "iJg9dig7szFi",
        "outputId": "12d29c21-3fa3-41f4-99fb-926db52e1ad0"
      },
      "execution_count": 54,
      "outputs": [
        {
          "output_type": "stream",
          "name": "stdout",
          "text": [
            "The slowest run took 14.02 times longer than the fastest. This could mean that an intermediate result is being cached.\n",
            "100000 loops, best of 5: 9.36 µs per loop\n"
          ]
        }
      ]
    },
    {
      "cell_type": "markdown",
      "metadata": {
        "id": "C8XoYYOASOS2"
      },
      "source": [
        "###### 3차원데이터"
      ]
    },
    {
      "cell_type": "code",
      "execution_count": null,
      "metadata": {
        "id": "-dYStidDSOS3"
      },
      "outputs": [],
      "source": [
        ""
      ]
    },
    {
      "cell_type": "markdown",
      "metadata": {
        "id": "o4WoTnMRSOS3"
      },
      "source": [
        "## reshape 메서드의 이해"
      ]
    },
    {
      "cell_type": "markdown",
      "metadata": {
        "id": "agqGtv3gSOS3"
      },
      "source": [
        "같은 메모리를 공유하며 보여지는 결과만 다른 다른 뷰 (view) 사용합니다. "
      ]
    },
    {
      "cell_type": "code",
      "execution_count": null,
      "metadata": {
        "id": "2qTXIIsWSOS3",
        "outputId": "cc5b03eb-9751-4486-f5c8-cfd9fce7850c"
      },
      "outputs": [
        {
          "data": {
            "text/plain": [
              "1537299995344"
            ]
          },
          "execution_count": 3,
          "metadata": {},
          "output_type": "execute_result"
        }
      ],
      "source": [
        "a = np.arange(9)\n",
        "id(a)"
      ]
    },
    {
      "cell_type": "code",
      "execution_count": null,
      "metadata": {
        "id": "wO_VCfZqSOS3",
        "outputId": "52cf4e6b-6994-4a0e-e81b-12e004c39fa0"
      },
      "outputs": [
        {
          "data": {
            "text/plain": [
              "1537300507504"
            ]
          },
          "execution_count": 4,
          "metadata": {},
          "output_type": "execute_result"
        }
      ],
      "source": [
        "b = a.reshape(3, 3)\n",
        "id(b)"
      ]
    },
    {
      "cell_type": "markdown",
      "metadata": {
        "id": "wvyS8sssSOS4"
      },
      "source": [
        "`base` 속성에는 원본 데이터의 위치가 기록돼 있습니다. "
      ]
    },
    {
      "cell_type": "code",
      "execution_count": null,
      "metadata": {
        "id": "gMQhmdqZSOS5",
        "outputId": "c6892a93-a108-46e3-ca57-4f59d7001d4e"
      },
      "outputs": [
        {
          "data": {
            "text/plain": [
              "1537299995344"
            ]
          },
          "execution_count": 5,
          "metadata": {},
          "output_type": "execute_result"
        }
      ],
      "source": [
        ""
      ]
    },
    {
      "cell_type": "markdown",
      "metadata": {
        "id": "E4t4LebgSOS5"
      },
      "source": [
        "`a`의 값을 변경한 뒤에 `b`의 값을 확인해 봅시다. "
      ]
    },
    {
      "cell_type": "code",
      "execution_count": null,
      "metadata": {
        "id": "5tDvSvFfSOS5"
      },
      "outputs": [],
      "source": [
        ""
      ]
    },
    {
      "cell_type": "markdown",
      "metadata": {
        "id": "Y-lq1jONSOS5"
      },
      "source": [
        "복사본을 만들고 싶다면 `copy`를 사용합니다."
      ]
    },
    {
      "cell_type": "code",
      "execution_count": null,
      "metadata": {
        "id": "cIsdFzRESOS5"
      },
      "outputs": [],
      "source": [
        ""
      ]
    },
    {
      "cell_type": "markdown",
      "metadata": {
        "id": "7ObNHC8SSOS5"
      },
      "source": [
        "얕은 복사 (shallow copy)와 깊은 복사 (deep copy)"
      ]
    },
    {
      "cell_type": "code",
      "execution_count": null,
      "metadata": {
        "id": "hPahwCSpSOS5"
      },
      "outputs": [],
      "source": [
        ""
      ]
    },
    {
      "cell_type": "markdown",
      "metadata": {
        "id": "AtVDW0SSSOS5"
      },
      "source": [
        "`is`와 `==`"
      ]
    },
    {
      "cell_type": "code",
      "execution_count": null,
      "metadata": {
        "id": "DGLWTujkSOS6"
      },
      "outputs": [],
      "source": [
        ""
      ]
    },
    {
      "cell_type": "markdown",
      "metadata": {
        "id": "-7pSxLzKSOS6"
      },
      "source": [
        "## numpy와 함수  및 메서드\n",
        "numpy는 수치연산과 관련된 다양한 함수를 제공합니다. "
      ]
    },
    {
      "cell_type": "markdown",
      "metadata": {
        "id": "7ci-9Nm8SOS6"
      },
      "source": [
        "`random.randn(숫자)` 메서드는 `0`부터 `숫자 - 1` 범위의 임의의 수를 반환합니다. "
      ]
    },
    {
      "cell_type": "code",
      "execution_count": null,
      "metadata": {
        "id": "pPsZeTgSSOS6",
        "outputId": "a076af9b-5332-4420-f402-f27195e40ab1"
      },
      "outputs": [
        {
          "name": "stdout",
          "output_type": "stream",
          "text": [
            "3\n"
          ]
        }
      ],
      "source": [
        "num = np.random.randint(5)\n",
        "print(num)"
      ]
    },
    {
      "cell_type": "markdown",
      "metadata": {
        "id": "RwUP_sAjSOS6"
      },
      "source": [
        "시작값과 끝값을 지정할 수도 있습니다. "
      ]
    },
    {
      "cell_type": "code",
      "execution_count": null,
      "metadata": {
        "id": "eOhWuQlgSOS6",
        "outputId": "e3e1f9dc-db5a-4ded-bfaa-f48918cb0a81"
      },
      "outputs": [
        {
          "data": {
            "text/plain": [
              "2"
            ]
          },
          "execution_count": 13,
          "metadata": {},
          "output_type": "execute_result"
        }
      ],
      "source": [
        "\n"
      ]
    },
    {
      "cell_type": "markdown",
      "metadata": {
        "id": "2Z4FNKUnSOS7"
      },
      "source": [
        "세 번째 파라미터는 size를 튜플로 지정합니다.  \n",
        "- `size=(행, 열)`"
      ]
    },
    {
      "cell_type": "code",
      "execution_count": null,
      "metadata": {
        "id": "bND7Ol9YSOS7"
      },
      "outputs": [],
      "source": [
        ""
      ]
    },
    {
      "cell_type": "markdown",
      "metadata": {
        "id": "WFcVCknaSOS7"
      },
      "source": [
        "`random.shuffle(ndarray)`은 ndarray의 데이터의 순서를 무작위로 변경합니다.  \n",
        "- `shuffle` 메서드는 값을 반환하지 않고 파라미터 자체를 변경합니다. "
      ]
    },
    {
      "cell_type": "code",
      "execution_count": null,
      "metadata": {
        "id": "x0F8l2h0SOS7"
      },
      "outputs": [],
      "source": [
        ""
      ]
    },
    {
      "cell_type": "markdown",
      "metadata": {
        "id": "ht_i6vmhSOS7"
      },
      "source": [
        "`chioce` 메서드는 데이터를 sampling 합니다. \n",
        "- `np.random.choice(a, size=None, replace=True, p=None)`\n",
        "- a는 1차원 데이터"
      ]
    },
    {
      "cell_type": "code",
      "execution_count": null,
      "metadata": {
        "id": "5BI3VbF0SOS7"
      },
      "outputs": [],
      "source": [
        ""
      ]
    },
    {
      "cell_type": "markdown",
      "metadata": {
        "id": "o8tXTVN3SOS7"
      },
      "source": [
        "`np.unique` 메서드는 중복된 값을 제거합니다."
      ]
    },
    {
      "cell_type": "code",
      "execution_count": null,
      "metadata": {
        "id": "VOXXgIfHSOS7"
      },
      "outputs": [],
      "source": [
        ""
      ]
    },
    {
      "cell_type": "markdown",
      "metadata": {
        "id": "ixVc-85hSOS8"
      },
      "source": [
        "`linspace`는 구간을 입력된 개수로 분할합니다.\n",
        "- 0부터 5까지를 50개의 구간으로 분할하는 코드"
      ]
    },
    {
      "cell_type": "code",
      "execution_count": 59,
      "metadata": {
        "colab": {
          "base_uri": "https://localhost:8080/"
        },
        "id": "vhG_PuIZSOS8",
        "outputId": "1c1efa91-7cb3-4a8f-d286-49e752549560"
      },
      "outputs": [
        {
          "output_type": "execute_result",
          "data": {
            "text/plain": [
              "array([0.        , 0.10204082, 0.20408163, 0.30612245, 0.40816327,\n",
              "       0.51020408, 0.6122449 , 0.71428571, 0.81632653, 0.91836735,\n",
              "       1.02040816, 1.12244898, 1.2244898 , 1.32653061, 1.42857143,\n",
              "       1.53061224, 1.63265306, 1.73469388, 1.83673469, 1.93877551,\n",
              "       2.04081633, 2.14285714, 2.24489796, 2.34693878, 2.44897959,\n",
              "       2.55102041, 2.65306122, 2.75510204, 2.85714286, 2.95918367,\n",
              "       3.06122449, 3.16326531, 3.26530612, 3.36734694, 3.46938776,\n",
              "       3.57142857, 3.67346939, 3.7755102 , 3.87755102, 3.97959184,\n",
              "       4.08163265, 4.18367347, 4.28571429, 4.3877551 , 4.48979592,\n",
              "       4.59183673, 4.69387755, 4.79591837, 4.89795918, 5.        ])"
            ]
          },
          "metadata": {},
          "execution_count": 59
        }
      ],
      "source": [
        "# linear space는 3개의 값을 입력받는다\n",
        "np.linspace(0, 5, 50)  # 0부터 5까지를 균등한 50개의 구간으로 나누기"
      ]
    },
    {
      "cell_type": "code",
      "source": [
        "x = np.array([0,1,2,3]) \n",
        "x + 4 # ndarray는 broadcast 연산 가능(리스트는 for문으로 연산해야 하므로 비효율적)\n",
        "y = x ** 2  # y = x^2 그래프 그리기"
      ],
      "metadata": {
        "id": "WXebRv4JuL7-"
      },
      "execution_count": 60,
      "outputs": []
    },
    {
      "cell_type": "code",
      "source": [
        "import matplotlib.pyplot as plt\n",
        "plt.plot(x,y)   # x=0,1,2,3 위치에만 점찍고 선그래프를 그림"
      ],
      "metadata": {
        "colab": {
          "base_uri": "https://localhost:8080/",
          "height": 283
        },
        "id": "O5RkDTCzu2ix",
        "outputId": "ceb09b35-a5fe-4e96-8b79-d57fb95f0cf3"
      },
      "execution_count": 61,
      "outputs": [
        {
          "output_type": "execute_result",
          "data": {
            "text/plain": [
              "[<matplotlib.lines.Line2D at 0x7fda914d1050>]"
            ]
          },
          "metadata": {},
          "execution_count": 61
        },
        {
          "output_type": "display_data",
          "data": {
            "text/plain": [
              "<Figure size 432x288 with 1 Axes>"
            ],
            "image/png": "[encoded data removed]"
          },
          "metadata": {
            "needs_background": "light"
          }
        }
      ]
    },
    {
      "cell_type": "code",
      "source": [
        "x = np.arange(100) # 부드러운 곡선 그래프 그리기\n",
        "y = x ** 2\n",
        "plt.plot(x,y)"
      ],
      "metadata": {
        "colab": {
          "base_uri": "https://localhost:8080/",
          "height": 283
        },
        "id": "UzDubeeNvDa2",
        "outputId": "77f4ffd1-5b68-417d-a212-df123e6ff293"
      },
      "execution_count": 62,
      "outputs": [
        {
          "output_type": "execute_result",
          "data": {
            "text/plain": [
              "[<matplotlib.lines.Line2D at 0x7fda8e7c8550>]"
            ]
          },
          "metadata": {},
          "execution_count": 62
        },
        {
          "output_type": "display_data",
          "data": {
            "text/plain": [
              "<Figure size 432x288 with 1 Axes>"
            ],
            "image/png": "[encoded data removed]"
          },
          "metadata": {
            "needs_background": "light"
          }
        }
      ]
    },
    {
      "cell_type": "code",
      "source": [
        "x = np.linspace(0,1,100)  # linspace 활용하여 0부터 1까지의 구간을 세밀하게 그리기\n",
        "y = x ** 2\n",
        "plt.plot(x,y)"
      ],
      "metadata": {
        "colab": {
          "base_uri": "https://localhost:8080/",
          "height": 283
        },
        "id": "WmZqWw85vWKC",
        "outputId": "2380b857-29ad-490b-f426-2e33ae360b55"
      },
      "execution_count": 63,
      "outputs": [
        {
          "output_type": "execute_result",
          "data": {
            "text/plain": [
              "[<matplotlib.lines.Line2D at 0x7fda8e6e37d0>]"
            ]
          },
          "metadata": {},
          "execution_count": 63
        },
        {
          "output_type": "display_data",
          "data": {
            "text/plain": [
              "<Figure size 432x288 with 1 Axes>"
            ],
            "image/png": "[encoded data removed]"
          },
          "metadata": {
            "needs_background": "light"
          }
        }
      ]
    },
    {
      "cell_type": "markdown",
      "metadata": {
        "id": "kc3Dx34iSOS8"
      },
      "source": [
        "회전 "
      ]
    },
    {
      "cell_type": "markdown",
      "metadata": {
        "id": "sTUkSskxSOS8"
      },
      "source": [
        "## 다항식 풀기"
      ]
    },
    {
      "cell_type": "markdown",
      "metadata": {
        "id": "r_gfeMR6SOS8"
      },
      "source": [
        "사람과 강아지의 수는 총 4입니다. 다리의 개수는 14입니다. 사람과 강아지의 수는?  \n",
        "사람의 수를 x, 강아지의 수를 y로 정의하자.\n",
        "\n",
        "$ x + y = 4 $  \n",
        "$ 2x + 4y = 14 $"
      ]
    },
    {
      "cell_type": "markdown",
      "metadata": {
        "id": "WQk9T964SOS8"
      },
      "source": [
        "행렬식으로 표현해 봅시다."
      ]
    },
    {
      "cell_type": "code",
      "execution_count": 56,
      "metadata": {
        "id": "jojmD0yCSOS8"
      },
      "outputs": [],
      "source": [
        "import numpy as np\n",
        "\n",
        "a = np.array( [\n",
        "    [1, 1],\n",
        "    [2, 4]\n",
        "])\n",
        "\n",
        "b = np.array([4, 14])"
      ]
    },
    {
      "cell_type": "markdown",
      "metadata": {
        "id": "XX5-1knqSOS9"
      },
      "source": [
        "`solve` 를 사용한 해결"
      ]
    },
    {
      "cell_type": "code",
      "execution_count": null,
      "metadata": {
        "id": "1rScTJ6sSOS9"
      },
      "outputs": [],
      "source": [
        ""
      ]
    },
    {
      "cell_type": "markdown",
      "metadata": {
        "id": "N3itqc-6SOS9"
      },
      "source": [
        "역행렬을 사용한 해결"
      ]
    },
    {
      "cell_type": "code",
      "execution_count": 57,
      "metadata": {
        "colab": {
          "base_uri": "https://localhost:8080/"
        },
        "id": "gkBaM0N0SOS9",
        "outputId": "7f363a84-586c-4734-8513-6287451ea550"
      },
      "outputs": [
        {
          "output_type": "execute_result",
          "data": {
            "text/plain": [
              "array([[ 2. , -0.5],\n",
              "       [-1. ,  0.5]])"
            ]
          },
          "metadata": {},
          "execution_count": 57
        }
      ],
      "source": [
        "# [[x],[y]] = a의 역행렬 * b\n",
        "inv_a = np.linalg.inv(a)  # linear algebra.inverse matrix\n",
        "#pseudo inverse : 정방행렬이 아닐때에도 역행렬 계산 가능(np.linalg.pinv(a))\n",
        "inv_a"
      ]
    },
    {
      "cell_type": "code",
      "source": [
        "inv_a @ b"
      ],
      "metadata": {
        "colab": {
          "base_uri": "https://localhost:8080/"
        },
        "id": "iHseR_Xwt9Ol",
        "outputId": "32a4e10a-846a-43cf-9e66-f05f4ce88acc"
      },
      "execution_count": 58,
      "outputs": [
        {
          "output_type": "execute_result",
          "data": {
            "text/plain": [
              "array([1., 3.])"
            ]
          },
          "metadata": {},
          "execution_count": 58
        }
      ]
    },
    {
      "cell_type": "markdown",
      "source": [
        "numpy -> series -> data frame -> data frame을 전처리하여 머신러닝 모델 생성"
      ],
      "metadata": {
        "id": "fc3H2y0XxTQT"
      }
    }
  ],
  "metadata": {
    "kernelspec": {
      "display_name": "Python 3",
      "language": "python",
      "name": "python3"
    },
    "language_info": {
      "codemirror_mode": {
        "name": "ipython",
        "version": 3
      },
      "file_extension": ".py",
      "mimetype": "text/x-python",
      "name": "python",
      "nbconvert_exporter": "python",
      "pygments_lexer": "ipython3",
      "version": "3.8.8"
    },
    "toc": {
      "base_numbering": 1,
      "nav_menu": {},
      "number_sections": true,
      "sideBar": true,
      "skip_h1_title": false,
      "title_cell": "Table of Contents",
      "title_sidebar": "Contents",
      "toc_cell": false,
      "toc_position": {},
      "toc_section_display": true,
      "toc_window_display": false
    },
    "colab": {
      "name": "numpy.ipynb",
      "provenance": [],
      "collapsed_sections": [],
      "include_colab_link": true
    }
  },
  "nbformat": 4,
  "nbformat_minor": 0
}
