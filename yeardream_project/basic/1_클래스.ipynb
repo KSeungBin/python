{
  "cells": [
    {
      "cell_type": "markdown",
      "metadata": {
        "id": "view-in-github",
        "colab_type": "text"
      },
      "source": [
        "<a href=\"https://colab.research.google.com/github/KSeungBin/python/blob/master/1_%ED%81%B4%EB%9E%98%EC%8A%A4.ipynb\" target=\"_parent\"><img src=\"https://colab.research.google.com/assets/colab-badge.svg\" alt=\"Open In Colab\"/></a>"
      ]
    },
    {
      "cell_type": "markdown",
      "metadata": {
        "id": "pbnKwWLrzocz"
      },
      "source": [
        "# 파이썬 클래스\n",
        "최대한(?) 간단히 클래스를 설명해보겠습니다. 기본적인 내용만 설명하기 때문에 파이썬 입문서를 한 권 추가로 읽어 보실 것을 추천드립니다.   \n",
        "\n",
        "[QUESTION]\n",
        "B 클래스에서 정의된 메서드라도 동일한 모듈안에만 있다면 A클래스에서 생성된 객체에서 B클래스의 메서드를 사용할 수 있을까요?\n",
        "\n",
        "[ANSWER]\n",
        "네, 클래스 안에서 클래스를 생성할 수 있다.\n",
        "\n",
        "class A:\n",
        "  pass\n",
        "\n",
        "class B:\n",
        "  def f(self):\n",
        "    a = A()\n",
        "\n",
        "A = B()\n",
        "a.f()"
      ]
    },
    {
      "cell_type": "markdown",
      "metadata": {
        "id": "Xm8fAJPQzoc_"
      },
      "source": [
        "## 클래스란?"
      ]
    },
    {
      "cell_type": "markdown",
      "metadata": {
        "id": "-oySpQtGzodC"
      },
      "source": [
        "클래스는 함수와 같은 의도로 코드를 정리하기 위해 사용합니다. 함수 보다 한 발 더 나아가 관련된 함수와 변수를 하나로 묶어서 정리할 수 있습니다. 관련 있는 통계학/경제학/정치학을 사회과학이라는 보다 큰 카테고리로 묶는 것과 같습니다.  \n",
        "<img src=\"https://i.ibb.co/2MgSYz7/class-0.png\" width=\"600\" style=\"float:left\" />"
      ]
    },
    {
      "cell_type": "markdown",
      "metadata": {
        "id": "ig9yRoiozodE"
      },
      "source": [
        "클래스는 `class` 키워드로 정의(정리) 할 수 있습니다. 함수와 같은 원리로 정의 자체는 아무런 동작을 수행하지 않습니다. 클래스내에 정의된 함수를 특별히 <b>메서드(method)</b>라고 부릅니다. 이 때 함수의 첫 번째 파라미터로 `self`를 추가해야 합니다. "
      ]
    },
    {
      "cell_type": "code",
      "execution_count": null,
      "metadata": {
        "id": "e4AqouXEzodF"
      },
      "outputs": [],
      "source": [
        "def 통계학 ():\n",
        "    print(\"통계학\")\n",
        "\n",
        "def 경제학 ():\n",
        "    print(\"경제학\")\n",
        "\n",
        "def 정치학 ():\n",
        "    print(\"정치학\")"
      ]
    },
    {
      "cell_type": "code",
      "execution_count": null,
      "metadata": {
        "id": "sUKsyxbczodJ"
      },
      "outputs": [],
      "source": [
        "class 사회과학: # 사회과학() : 함수는 괄호 생략 불가, 클래스는 괄호 생략 가능\n",
        "  def 통계학 (self):  # class : 함수의 첫번째 parameter는 self를 넣어줘야 함\n",
        "      print(\"통계학\")\n",
        "\n",
        "  def 경제학 (self): # 클래스 내에 정의된 함수(통계학, 경제학, 정치학) = 메서드\n",
        "      print(\"경제학\")\n",
        "\n",
        "  def 정치학 (self):\n",
        "      print(\"정치학\")"
      ]
    },
    {
      "cell_type": "markdown",
      "metadata": {
        "id": "OBI-MWC5zodL"
      },
      "source": [
        "정의된 클래스는 이를 호출해서 생성할 수 있습니다. 클래스로 정의하면 사용하는 방법이 조금 달라지는것 뿐입니다."
      ]
    },
    {
      "cell_type": "code",
      "execution_count": null,
      "metadata": {
        "colab": {
          "base_uri": "https://localhost:8080/"
        },
        "id": "4M0-cdxWzodN",
        "outputId": "4ca293ad-e1f1-463b-b6e1-65e1a8e2c0e6"
      },
      "outputs": [
        {
          "output_type": "stream",
          "name": "stdout",
          "text": [
            "<class '__main__.사회과학'>\n"
          ]
        }
      ],
      "source": [
        "변수 = 사회과학() # 사회과학 클래스를 호출하면 독립적인 메모리 공간이 확보되어 사회과학 객체(object, instance)가 생성되고, 변수가 그 object를 가리킨다\n",
        "print(type(변수))"
      ]
    },
    {
      "cell_type": "markdown",
      "metadata": {
        "id": "d9C8e95gzodR"
      },
      "source": [
        "클래스를 생성한 결과를 인스턴스/오브젝트/객체 라고 부릅니다. 위 코드는 사회과학 클래스를 생성해서 반환된 사회과학 객체를 변수에 바인딩하는 겁니다. 붕어빵처럼 얼마든지 여러개의 객체를 찍어낼 수 있습니다. "
      ]
    },
    {
      "cell_type": "code",
      "execution_count": null,
      "metadata": {
        "id": "NNzNLxnkzodT"
      },
      "outputs": [],
      "source": [
        "# 객체1과 객체2는 독립적인 메모리 공간을 사용한다\n",
        "변수1 = 사회과학()  # 호출할 때는 괄호 생략 불가능\n",
        "변수2 = 사회과학()"
      ]
    },
    {
      "cell_type": "markdown",
      "metadata": {
        "id": "DkOtjhu_zodV"
      },
      "source": [
        "메모리에는 다음과 같이 클래스와 객체가 저장됩니다. 우선 설계도인 \"사회과학 클래스\"가 메모리에 저장됩니다. 그리고 `변수1 = 사회과학()` 코드가 실행되면 클래스를 복사해서 객체를 메모리의 새로운 공간에 복사하고 이를 변수 1이 가리킵니다. `변수2 = 사회과학()` 코드가 실행되면 동일한 과정이 반복됩니다. 여기서 중요한 점은 <b> 별도의 메모리에 두 객체가 저장</b>된다는 것입니다. "
      ]
    },
    {
      "cell_type": "markdown",
      "metadata": {
        "id": "tgBudsQWzodW"
      },
      "source": [
        "<img src=\"https://i.ibb.co/HDPzP9D/class-1.png\" width=\"400\" style=\"float:left\" />"
      ]
    },
    {
      "cell_type": "markdown",
      "metadata": {
        "id": "H2s3zAN0zodX"
      },
      "source": [
        "클래스에 정의된 메서드 (함수)는 객체를 통해 호출할 수 있습니다. 위 그림을 참고하면 변수1 객체에는 사회과학 클래스로부터 복사된 세 개의 함수가 정의돼 있습니다. 이를 호출하는 코드는 다음과 같습니다."
      ]
    },
    {
      "cell_type": "code",
      "execution_count": null,
      "metadata": {
        "colab": {
          "base_uri": "https://localhost:8080/"
        },
        "id": "7c-r60EOzodY",
        "outputId": "1f4856e0-dc52-4441-b1f0-43fee7337147"
      },
      "outputs": [
        {
          "output_type": "stream",
          "name": "stdout",
          "text": [
            "통계학\n",
            "경제학\n",
            "정치학\n"
          ]
        }
      ],
      "source": [
        "변수1 = 사회과학() # 1. 메서드를 호출하기 위해선 먼저 클래스를 호출해 객체를 만들어야 함\n",
        "\n",
        "사회과학.통계학(변수1)  # 2. 사회과학 클래스 안에 정의된 통계학 메서드를 호출 -> 호출할 때 객체를 가리키는 변수1(self = 객체)을 입력함(즉, 메서드를 호출할 때는 생성한 객체를 넘겨줘야 함)\n",
        "사회과학.경제학(변수1)\n",
        "사회과학.정치학(변수1)"
      ]
    },
    {
      "cell_type": "markdown",
      "metadata": {
        "id": "pzh6uRlDzoda"
      },
      "source": [
        "함수와 동일하게 메서드의 정의에 따라 메서드를 호출하는 방법이 다릅니다. "
      ]
    },
    {
      "cell_type": "code",
      "execution_count": null,
      "metadata": {
        "id": "ClW7te7Czoda"
      },
      "outputs": [],
      "source": [
        "class 수업시간:\n",
        "    def 예제1(self):\n",
        "        return \"어려워요\"\n",
        "\n",
        "    def 예제2(self, 값):\n",
        "        print(\"입력:\", 값)"
      ]
    },
    {
      "cell_type": "code",
      "execution_count": null,
      "metadata": {
        "colab": {
          "base_uri": "https://localhost:8080/"
        },
        "id": "hhYxvCeKzodc",
        "outputId": "41535e1c-c5d6-46e6-e935-6620d19ef4e0"
      },
      "outputs": [
        {
          "output_type": "stream",
          "name": "stdout",
          "text": [
            "어려워요\n",
            "입력: 10\n"
          ]
        }
      ],
      "source": [
        "class 수업시간:\n",
        "    def 예제1(self):\n",
        "        return \"어려워요\"\n",
        "\n",
        "    def 예제2(self, 값):\n",
        "        print(\"입력:\", 값)\n",
        "\n",
        "객체 = 수업시간()\n",
        "y = 수업시간.예제1(객체)  # 객체를 연결해줘야 출력이 되지 + return은 값을 반환해주니까 결과를 변수에 바인딩할 수 있네 or return이니까 print하지 않으면 출력이 안되겠네\n",
        "print(y)\n",
        "수업시간.예제2(변수, 10)   # 객체를 넘겨주고, 10을 넣어주면 바로 print되겠다\n"
      ]
    },
    {
      "cell_type": "markdown",
      "metadata": {
        "id": "15iG6D7Qzodd"
      },
      "source": [
        "###### 연습 문제 \n",
        "다음의 함수를 \"예의바른학생\"이라는 이름의 클래스로 정리해 봅시다."
      ]
    },
    {
      "cell_type": "code",
      "execution_count": null,
      "metadata": {
        "id": "Cmew7hJfzode"
      },
      "outputs": [],
      "source": [
        "def 첫인사(이름):\n",
        "    print(\"안녕하세요\")\n",
        "    print(\"반갑습니다\")\n",
        "    print(f\"내이름은 {이름}!\")\n",
        "    \n",
        "def 작별인사():\n",
        "    print(\"안녕히가세요\")\n",
        "    print(\"다음에 뵙겠습니다\")    "
      ]
    },
    {
      "cell_type": "code",
      "execution_count": null,
      "metadata": {
        "id": "TFvEL2sGzodf"
      },
      "outputs": [],
      "source": [
        "class 예의바른학생:\n",
        "  def 첫인사(self, 이름):\n",
        "    print(\"안녕하세요\")\n",
        "    print(\"반갑습니다\")\n",
        "    print(f\"내이름은 {이름}!\")\n",
        "    \n",
        "  def 작별인사(self):\n",
        "      print(\"안녕히가세요\")\n",
        "      print(\"다음에 뵙겠습니다\")    "
      ]
    },
    {
      "cell_type": "markdown",
      "metadata": {
        "id": "714Gm3Kczodf"
      },
      "source": [
        "예의바른학생에 정의된 `첫인사`, `작별인사` 메서드를 호출하라."
      ]
    },
    {
      "cell_type": "code",
      "execution_count": null,
      "metadata": {
        "colab": {
          "base_uri": "https://localhost:8080/"
        },
        "id": "ZKkHdi_fzodg",
        "outputId": "1d38b9e1-cb34-4832-d9f9-46313589603f"
      },
      "outputs": [
        {
          "output_type": "stream",
          "name": "stdout",
          "text": [
            "안녕하세요\n",
            "반갑습니다\n",
            "내이름은 김승빈!\n",
            "\n",
            "안녕히가세요\n",
            "다음에 뵙겠습니다\n"
          ]
        }
      ],
      "source": [
        "객체 = 예의바른학생()\n",
        "예의바른학생.첫인사(객체, '김승빈')\n",
        "print(\"\")\n",
        "예의바른학생.작별인사(객체)"
      ]
    },
    {
      "cell_type": "code",
      "source": [
        "# 객체에 대해서 메서드를 바로 호출하는 방법(self를 입력하지 않아도 되는 문법)\n",
        "객체.첫인사(\"김승빈\")\n",
        "print('\\n')\n",
        "객체.작별인사()   # 객체의 type이 정의되었기 때문에 -> python이 알아서 self에 값을 넣어줌"
      ],
      "metadata": {
        "colab": {
          "base_uri": "https://localhost:8080/"
        },
        "id": "q2kGyHR66O-F",
        "outputId": "68b8aac1-551e-4a76-c8d3-45d94611eec0"
      },
      "execution_count": null,
      "outputs": [
        {
          "output_type": "stream",
          "name": "stdout",
          "text": [
            "안녕하세요\n",
            "반갑습니다\n",
            "내이름은 김승빈!\n",
            "\n",
            "\n",
            "안녕히가세요\n",
            "다음에 뵙겠습니다\n"
          ]
        }
      ]
    },
    {
      "cell_type": "code",
      "source": [
        "class 마린:\n",
        "  def 공격하기(self):\n",
        "    print(\"두두두두두두\")\n",
        "\n",
        "m = 마린()   # 인스턴스 생성하고 변수에 바인딩\n",
        "m.공격하기() # python interpreter가 내부적으로 마린.공격하기(m)으로 바꿔서 호출"
      ],
      "metadata": {
        "colab": {
          "base_uri": "https://localhost:8080/"
        },
        "id": "OcTWHR2n6tsv",
        "outputId": "4344f094-3b51-49f9-a347-c4471d363e54"
      },
      "execution_count": null,
      "outputs": [
        {
          "output_type": "stream",
          "name": "stdout",
          "text": [
            "두두두두두두\n"
          ]
        }
      ]
    },
    {
      "cell_type": "markdown",
      "metadata": {
        "id": "xFZGjg5_zodg"
      },
      "source": [
        "## self의 이해"
      ]
    },
    {
      "cell_type": "markdown",
      "metadata": {
        "id": "NJa_2Vqnzodh"
      },
      "source": [
        "메서드에 추가하는 첫 번째 파라미터의 이름입니다. 변수처럼 `self` 대신 다른 이름을 넣어도 정상 동작합니다. "
      ]
    },
    {
      "cell_type": "code",
      "execution_count": null,
      "metadata": {
        "id": "kVxxZj40zodi",
        "outputId": "18ee7d27-5d79-46f3-b965-c16314d867c8"
      },
      "outputs": [
        {
          "name": "stdout",
          "output_type": "stream",
          "text": [
            "통계학\n"
          ]
        }
      ],
      "source": [
        "class 사회과학:\n",
        "    def 통계학 (ㅇㅇㅇ): # self도 변수명이기 때문에 어떤 이름도 OK(객체를 ㅇㅇㅇ이 바인딩)\n",
        "        print(\"통계학\")  # 단 self라고 써야 메서드임을 한눈에 알 수 있음\n",
        "        \n",
        "객체 = 사회과학()\n",
        "사회과학.통계학(객체)"
      ]
    },
    {
      "cell_type": "markdown",
      "metadata": {
        "id": "Z7abXz9Zzodj"
      },
      "source": [
        "하지만 관습적으로 `self`라는 키워드를 사용합니다. 함수의 정의만 보고 클래스 안의 함수인 것을 알아챌 수 있도록 우리도 `self`를 사용하는 것이죠."
      ]
    },
    {
      "cell_type": "markdown",
      "metadata": {
        "id": "CbGgrc8vzodj"
      },
      "source": [
        "파이썬은 클래스에 정의된 메서드를 `객체.메서드()` 형태로 쉽게 사용할 수 있는 편의 기능을 제공합니다. "
      ]
    },
    {
      "cell_type": "code",
      "execution_count": null,
      "metadata": {
        "id": "_Rq76tr7zodk",
        "outputId": "b99d1974-c854-46d6-c7fe-5813279e9afd"
      },
      "outputs": [
        {
          "name": "stdout",
          "output_type": "stream",
          "text": [
            "통계학\n"
          ]
        }
      ],
      "source": [
        "객체 = 사회과학()\n",
        "객체.통계학()    # 사회과학.통계학(객체)와 동일한 동작"
      ]
    },
    {
      "cell_type": "markdown",
      "metadata": {
        "id": "AlWABqyozodl"
      },
      "source": [
        "객체는 일반적으로 메모리를 가리키는 `변수`와 함께 `.` 그리고 `메서드 이름`을 나열합니다.   \n",
        "- `객체.메서드명()`"
      ]
    },
    {
      "cell_type": "markdown",
      "metadata": {
        "id": "w1O4pOAOzodl"
      },
      "source": [
        "###### 연습 문제\n",
        "`예의바른학생` 클래스를 메서드 편의 기능을 활용해서 간단히 <span style=\"color:red\">호출</span>하라."
      ]
    },
    {
      "cell_type": "code",
      "execution_count": null,
      "metadata": {
        "id": "IlxIHinDzodm"
      },
      "outputs": [],
      "source": [
        ""
      ]
    },
    {
      "cell_type": "code",
      "source": [
        "# 메서드명이 동일해도 interpreter는 속한 클래스를 명확히 구분함\n",
        "# 클래스, 객체 모두 독립적인 메모리 공간을 사용하기 때문\n",
        "class 저그:\n",
        "  def 공격하기(self):\n",
        "    print(\"looooool\")\n",
        "\n",
        "class 마린:\n",
        "  def 공격하기(self):\n",
        "    print(\"baaaaaam\")\n",
        "\n",
        "저그1 = 저그()\n",
        "print(type(저그1))  # __main__ : 함수<클래스<모듈 -> 현재 실행되고 있는 파일인 __main__에 숨겨진 이름 '저그' (모듈 내에서 명확히 구분하기 위한 prefix)\n",
        "마린1 = 마린()\n",
        "print(type(마린1))\n",
        "마린1.공격하기()"
      ],
      "metadata": {
        "colab": {
          "base_uri": "https://localhost:8080/"
        },
        "id": "2L0SJEmi8BiW",
        "outputId": "57d41044-a3f7-4bd5-f562-4d69446c4ffb"
      },
      "execution_count": null,
      "outputs": [
        {
          "output_type": "stream",
          "name": "stdout",
          "text": [
            "<class '__main__.저그'>\n",
            "<class '__main__.마린'>\n",
            "baaaaaam\n"
          ]
        }
      ]
    },
    {
      "cell_type": "code",
      "source": [
        "import numpy as np # module\n",
        "a = np.array ([10,20]) # class로 만들어진 결과물인 객체를 생성\n",
        "print(type(a))\n",
        "a.all()   # numpy.ndarray 클래스에 정의된 all 메서드를 호출해서 객체가 원하는 결과를 얻는다"
      ],
      "metadata": {
        "colab": {
          "base_uri": "https://localhost:8080/"
        },
        "id": "k56RurepAQyn",
        "outputId": "7025af9b-001b-43ad-bffe-82bcd81da835"
      },
      "execution_count": null,
      "outputs": [
        {
          "output_type": "stream",
          "name": "stdout",
          "text": [
            "<class 'numpy.ndarray'>\n"
          ]
        },
        {
          "output_type": "execute_result",
          "data": {
            "text/plain": [
              "True"
            ]
          },
          "metadata": {},
          "execution_count": 20
        }
      ]
    },
    {
      "cell_type": "code",
      "source": [
        "# pandas.DataFrame class 만든다\n",
        "# class로 객체를 만들었다면, 객체 안에 정의된 메서드를 호출할 수 있다 -> 호출해서 적절한 결과를 얻기만 하면 됨\n",
        "# 따라서, 우리는 class를 만들일이 없고, 다른 사람이 만든 클래스의 메뉴얼을 보고 원하는 기능을 호출해 사용(ex) numpy.org/doc/stable/  , pandas.pydata.org ...)\n",
        "import pandas as pd\n",
        "a = pd.DataFrame()   # ctrl + space bar로 pd class에 정의된 method list를 확인할 수 있다\n",
        "print(type(a))"
      ],
      "metadata": {
        "colab": {
          "base_uri": "https://localhost:8080/"
        },
        "id": "dJnFBBjPAw_t",
        "outputId": "60c8ba6d-467b-408f-8402-06704e9e2a7c"
      },
      "execution_count": null,
      "outputs": [
        {
          "output_type": "stream",
          "name": "stdout",
          "text": [
            "<class 'pandas.core.frame.DataFrame'>\n"
          ]
        }
      ]
    },
    {
      "cell_type": "markdown",
      "metadata": {
        "id": "SaPVZ9ILzodm"
      },
      "source": [
        "## 인스턴스 변수"
      ]
    },
    {
      "cell_type": "markdown",
      "metadata": {
        "id": "hWnGW4kOzodn"
      },
      "source": [
        "함수의 지역변수는 함수의 호출 종료와 함께 제거됩니다. "
      ]
    },
    {
      "cell_type": "code",
      "execution_count": null,
      "metadata": {
        "id": "DhVAvOsQzodn"
      },
      "outputs": [],
      "source": [
        "# 클래스 = 함수와 데이터를 모아놓은 것\n",
        "def 이름입력(name):  # 지역변수 : 함수가 호출되면 멀리 떨어진 메모리공간으로 접근하고 -> 코드의 실행이 끝나고 global 영역으로 돌아가게 되면 이름이 삭제됨\n",
        "    이름 = name     # 즉 return하지 않는다면, 함수 정의부의 실행이 끝나고 다시 함수 밖으로 돌아가면서 함수 안에 저장된 변수와 값(데이터)이 모두 삭제됨\n",
        "    \n",
        "def 출력하기():\n",
        "    print(이름)\n",
        "    \n",
        "이름입력(\"유종훈\")\n",
        "출력하기()"
      ]
    },
    {
      "cell_type": "markdown",
      "metadata": {
        "id": "X7WdzSQezodo"
      },
      "source": [
        "인스턴스의 함수 간에는 변수(값)을 공유할 수 있습니다. `self` 변수라고도 불리는데 `self.변수`와 같은 형태로 작성하면 일반 변수와 달리 그 값이 함수의 종료 이후에도 유지됩니다. \n",
        "\n",
        "![image.png](data:image/png;base64,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)"
      ]
    },
    {
      "cell_type": "code",
      "execution_count": null,
      "metadata": {
        "id": "I6RhBJldzodo"
      },
      "outputs": [],
      "source": [
        "# 9 line부터 실행\n",
        "class 사람:\n",
        "    def 이름입력 (self, 이름): # parameter 2개 : self는 객체(사람)를 가리키고, 이름은 '김승빈'을 가리킴(대입X, 포인터처럼 가리키는 것 O)\n",
        "        self.이름 = 이름   # self.이름 (. = ~ 안에, 속한, 포함되다) : 객체(첫째) 안에 '이름'이라는 공간 \n",
        "\n",
        "    def 출력하기 (self):\n",
        "        print(self.이름) # '첫쨰'(객체) 안에 있는 '이름'을 출력하라\n",
        "\n",
        "첫째 = 사람()  # 'self = 사람' 가장 중요!\n",
        "첫째.이름입력(\"김승빈\")\n",
        "첫째.출력하기()"
      ]
    },
    {
      "cell_type": "markdown",
      "source": [
        "![image.png](data:image/png;base64,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)"
      ],
      "metadata": {
        "id": "u4TixWzBkdOS"
      }
    },
    {
      "cell_type": "code",
      "source": [
        "class A:\n",
        "  def f(self, x):\n",
        "    y = 10\n",
        "    z = x + y\n",
        "    self.z = z  \n",
        "\n",
        "객체 = A()\n",
        "객체.f(10)"
      ],
      "metadata": {
        "id": "o5URIFJeIF4f"
      },
      "execution_count": null,
      "outputs": []
    },
    {
      "cell_type": "markdown",
      "metadata": {
        "id": "UTnYaVIqzodp"
      },
      "source": [
        "출력하기 메서드 안에서 `self.이름`은 `이름입력` 함수에서 저장한 값입니다. 클래스에서는 `self.이름`과 `이름` 두 가지는 변수명이 비슷하지만 전혀 특성이 다른 변수입니다. 만약 일반 변수 (self가 없는)에 값을 저장했다면 `이름입력` 함수가 종료되면서 제거되기 때문에, 출력하기에서 변수를 사용할 수 없습니다. "
      ]
    },
    {
      "cell_type": "code",
      "execution_count": null,
      "metadata": {
        "id": "DbHnF56Pzodp"
      },
      "outputs": [],
      "source": [
        "# error의 원인 : 메모리 그림을 그려보기 (함수가 return을 하면 지역변수는 휘발됨)\n",
        "class 사람:\n",
        "    def 이름입력 (self, 이름):\n",
        "        너의이름은 = 이름\n",
        "        return 너의이름은   \n",
        "        # self.이름 = 너의이름은     주의 : 이렇게 코드 작성하면 return 다음줄에 있기 때문에 기능을 수행하지 않음!!\n",
        "\n",
        "    def 출력하기 (self):\n",
        "        print(너의이름은)\n",
        "\n",
        "첫째 = 사람()\n",
        "첫째.이름입력(\"유종훈\")\n",
        "첫째.출력하기()"
      ]
    },
    {
      "cell_type": "code",
      "source": [
        "# right code\n",
        "class 사람:\n",
        "    def 이름입력 (self, 이름):\n",
        "        너의이름은 = 이름\n",
        "        return 너의이름은\n",
        "\n",
        "    def 출력하기 (self):\n",
        "        print(너의이름은)\n",
        "\n",
        "첫째 = 사람()\n",
        "결과 = 첫째.이름입력(\"유종훈\")\n",
        "print(결과)\n",
        "첫째.출력하기()"
      ],
      "metadata": {
        "id": "0uj8rISJOX4d"
      },
      "execution_count": null,
      "outputs": []
    },
    {
      "cell_type": "markdown",
      "metadata": {
        "id": "NOXilRYRzodq"
      },
      "source": [
        "그림과 함께 이해해 봅시다.   \n",
        "- 사람 객체를 생성하면 메모리 어딘가에 저장되고 첫재라는 이름표를 붙입니다. 첫째 안에는 이름하기(), 출력하기() 메서드가 복사됩니다. \n",
        "- `이름입력` 메서드를 호출하면 내부적으로 `self.이름` 변수에 `유종훈`이 저장됩니다. 인스턴스 변수를 사용하면 첫째가 저장된 메모리 공간에  이름을 추가적으로 저장합니다. \n",
        "- `출력하기` 메서드를 호출하면 `self.이름`을 가져와서 화면에 출력합니다. 이때 `self`는 메서드가 포함된 객체를 의미하여, `self.이름`은 현재 첫째의 메모리안에 있는 이름이라는 변수를 가리킵니다."
      ]
    },
    {
      "cell_type": "markdown",
      "metadata": {
        "id": "6CLFjD_Hzodq"
      },
      "source": [
        "<img src=\"https://i.ibb.co/SsjQHdd/class-2.png\" width=\"700\" style=\"float:left\" />"
      ]
    },
    {
      "cell_type": "markdown",
      "metadata": {
        "id": "OzSNeOp2zodr"
      },
      "source": [
        "인스턴스에 저장된 변수는 객체를 사용해서도 가져올 수 있습니다. 첫째 객체 안에 있는 이름이라는 변수에 저장된 값을 가져오니 \"유종훈\" 이라는 문자열이 출력됩니다. "
      ]
    },
    {
      "cell_type": "code",
      "execution_count": null,
      "metadata": {
        "id": "qgb-IdVgzodr"
      },
      "outputs": [],
      "source": [
        "class 사람:\n",
        "    def 이름입력 (self, 이름):\n",
        "        self.이름 = 이름\n",
        "\n",
        "    def 출력하기 (self):\n",
        "        print(self.이름)\n",
        "\n",
        "첫째 = 사람()\n",
        "첫째.이름입력(\"유종훈\")"
      ]
    },
    {
      "cell_type": "code",
      "execution_count": null,
      "metadata": {
        "id": "tACcMoa5zods",
        "outputId": "09c1da5e-477f-41d1-9d26-23c2f7088a44"
      },
      "outputs": [
        {
          "name": "stdout",
          "output_type": "stream",
          "text": [
            "유종훈\n"
          ]
        }
      ],
      "source": [
        "print(첫째.이름)"
      ]
    },
    {
      "cell_type": "markdown",
      "metadata": {
        "id": "3Y41HUs8zods"
      },
      "source": [
        "객체의 외부에서 값을 저장 및 변경할 수 있습니다. "
      ]
    },
    {
      "cell_type": "code",
      "execution_count": null,
      "metadata": {
        "id": "M8LfxgB1zodt"
      },
      "outputs": [],
      "source": [
        "print(첫째.이름)\n",
        "첫째.이름 = \"철수\"\n",
        "print(첫째.이름)"
      ]
    },
    {
      "cell_type": "markdown",
      "metadata": {
        "id": "dKaKkPeHzodt"
      },
      "source": [
        "객체는 붕어빵찍듯이 여러 개를 생성할 수있습니다. 코드를 정리해서 재사용성을 높이기 위해서 함수와 클래스를 사용한다고 했었죠? 여기에서 클래스의 장점을 확인할 수 있습니다. \n",
        "![image.png](data:image/png;base64,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)"
      ]
    },
    {
      "cell_type": "code",
      "execution_count": null,
      "metadata": {
        "id": "nGdXXsSAzodu"
      },
      "outputs": [],
      "source": [
        "첫째 = 사람()\n",
        "첫째.이름입력(\"김승빈\")\n",
        "print(첫째.이름)\n",
        "\n",
        "둘째 = 사람()\n",
        "둘째.이름입력(\"김성진\")\n",
        "둘째.출력하기()"
      ]
    },
    {
      "cell_type": "markdown",
      "metadata": {
        "id": "A23m158Fzodu"
      },
      "source": [
        "메모리에서 이를 표현해 봅시다. 첫째와 둘째는 각각 독립적인 공간에 생성이되고 이를 각각의 변수가 가리킵니다. 첫째와 둘째 각각에 `이름입력`, `출력하기` 메서드가 복사됩니다. `이름입력` 메서드를 호출할 때 전달한 파라미터 값이 인스턴스가 저장된 공간에 저장됩니다. 중요한 점은 인턴스 간에는 서로 영향을 받지 않는다는 것입니다. "
      ]
    },
    {
      "cell_type": "markdown",
      "metadata": {
        "id": "xiFOhhDFzodu"
      },
      "source": [
        "<img src=\"https://i.ibb.co/thvWjLv/class-3.png\" width=\"300\" style=\"float:left\" />"
      ]
    },
    {
      "cell_type": "markdown",
      "metadata": {
        "id": "IIS0bB2kzodv"
      },
      "source": [
        "## 초기화자 (Initializer)\n",
        "다음의 사람 클래스를 참고하면 클래스를 생성하는 코드가 반복됩니다. "
      ]
    },
    {
      "cell_type": "markdown",
      "metadata": {
        "id": "Ec217Fshzodv"
      },
      "source": [
        "```python\n",
        "엄마 = 사람()\n",
        "엄마.출생(\"이월순\", \"640423\", \"여\")\n",
        "엄마.정보출력()\n",
        "\n",
        "아빠 = 사람()\n",
        "아빠.출생(\"유희준\", \"590125\", \"남\")\n",
        "아빠.정보출력()\n",
        "```"
      ]
    },
    {
      "cell_type": "markdown",
      "metadata": {
        "id": "5g8UxvBFzodv"
      },
      "source": [
        "초기화자를 사용하면 클래스를 생성할 때 값을 함께 입력할 수 있습니다. `__init__`이라는 이름을 갖는 메서드를 초기화자라고 부르는데 이는 특별한 기능을 갖습니다. 초기화자가 정의되면 파이썬 인터프리터는 객체가 생성될 때 자동으로 `__init__` 메서드를 호출해 줍니다. 아래의 코드에서 `__init__` 함수를 호출하지 않았지만 파이썬 인터프리터가 자동으로 호출하여 콘솔창에 \"자동호출됨\"이라는 문자열이 출력됩니다."
      ]
    },
    {
      "cell_type": "code",
      "execution_count": 1,
      "metadata": {
        "id": "imWWPfMXzodw",
        "outputId": "13c59479-7ba6-4f9f-9a9f-1a97b8ad818a",
        "colab": {
          "base_uri": "https://localhost:8080/"
        }
      },
      "outputs": [
        {
          "output_type": "stream",
          "name": "stdout",
          "text": [
            "자동호출됨\n"
          ]
        },
        {
          "output_type": "execute_result",
          "data": {
            "text/plain": [
              "<__main__.사람 at 0x7f52f7c7c250>"
            ]
          },
          "metadata": {},
          "execution_count": 1
        }
      ],
      "source": [
        "class 사람 :\n",
        "    def __init__(self):\n",
        "        print(\"자동호출됨\")\n",
        "        \n",
        "사람()"
      ]
    },
    {
      "cell_type": "code",
      "source": [
        "# 엄마 변수에 사람 객체를 binding할 때, 간결한 코드를 사용하기 위해 initailizer 사용\n",
        "# 객체를 생성하고 method를 사용하려면 객체.__init__()으로 호출해야 했는데, 초기화자를 통해 객제를 만들고 자동으로 함수를 호출 \n",
        "class 사람 :\n",
        "  def __init__(self, 이름):\n",
        "    print(\"자동호출됨\", 이름)\n",
        "\n",
        "겍체 = 사람(\"종훈\")  # 객체 = 사람(이름=\"종훈\")"
      ],
      "metadata": {
        "colab": {
          "base_uri": "https://localhost:8080/"
        },
        "id": "4h-wEcg8GqMq",
        "outputId": "4f6f327d-d73d-4e7b-c0b9-c5db3245c7bc"
      },
      "execution_count": 2,
      "outputs": [
        {
          "output_type": "stream",
          "name": "stdout",
          "text": [
            "자동호출됨 종훈\n"
          ]
        }
      ]
    },
    {
      "cell_type": "markdown",
      "metadata": {
        "id": "9Pb4gLIRzodw"
      },
      "source": [
        "초기화자에 입력값을 추가하면 객체를 생성할 때 파라미터를 반드시 전달해야 합니다. `__init__` 메서드도 함수의 일종이기 때문에 사용 원리는 함수와 같습니다. "
      ]
    },
    {
      "cell_type": "code",
      "execution_count": null,
      "metadata": {
        "id": "agRfDNXszodx"
      },
      "outputs": [],
      "source": [
        "class 사람 :\n",
        "    \n",
        "\n",
        "아빠 = 사람(\"유희준\")\n",
        "print(아빠.이름)"
      ]
    },
    {
      "cell_type": "markdown",
      "metadata": {
        "id": "nJpdpXakzodx"
      },
      "source": [
        "다음과 같이 두 개의 값을 입력받도록 정의하면 두 개의 파라미터를 전달해야 합니다. \n",
        "참고로 pass는 기능을 구현하지 않고 문법 에러를 회피하기 위해 사용하는 키워드입니다."
      ]
    },
    {
      "cell_type": "code",
      "execution_count": null,
      "metadata": {
        "id": "BA7jiepQzody",
        "outputId": "51789075-c00d-4918-af8c-054a6182765d"
      },
      "outputs": [
        {
          "data": {
            "text/plain": [
              "<__main__.사람 at 0x2031eae3040>"
            ]
          },
          "execution_count": 9,
          "metadata": {},
          "output_type": "execute_result"
        }
      ],
      "source": [
        "# alt + enter : 코드 실행하며 아래에 새로운 셀 하나 생성\n",
        " class 사람:\n",
        "   def __init__(self, 이름, 나이):\n",
        "     self.이름 = 이름\n",
        "     self.나이 = 0\n",
        "     \n",
        "객체 = 사람(\"유희준\", 60)"
      ]
    },
    {
      "cell_type": "code",
      "source": [
        "class 계좌:\n",
        "  def __init__(self, 이름, 입금액):\n",
        "    self.이름 = 이름\n",
        "    self.입금액 = 입금액\n",
        "\n",
        "a = 계좌(\"김승빈\", 100000)\n",
        "print(a.이름)\n",
        "b = 계좌(\"김성진\", 100)\n",
        "print(b.이름)"
      ],
      "metadata": {
        "colab": {
          "base_uri": "https://localhost:8080/"
        },
        "id": "jS_JQpg_I27J",
        "outputId": "699dadca-5eb8-42e8-fef6-cff22c3c8804"
      },
      "execution_count": 3,
      "outputs": [
        {
          "output_type": "stream",
          "name": "stdout",
          "text": [
            "김승빈\n",
            "김성진\n"
          ]
        }
      ]
    },
    {
      "cell_type": "code",
      "source": [
        "class 계좌:\n",
        "  발급계좌수 = 0  # 클래스 변수\n",
        "\n",
        "  def __init__(self, 이름, 입금액):\n",
        "    self.이름 = 이름\n",
        "    self.입금액 = 입금액\n",
        "    self.발급계좌수 = 계좌.발급계좌수 + 1\n",
        "\n",
        "a = 계좌(\"김승빈\", 100000)\n",
        "print(a.이름)\n",
        "b = 계좌(\"김성진\", 100)\n",
        "print(b.이름)"
      ],
      "metadata": {
        "id": "_Ojrm2WOIBvs"
      },
      "execution_count": null,
      "outputs": []
    },
    {
      "cell_type": "code",
      "source": [
        "# 기본적으로 파이썬은 연산자 오버로딩을 지원하지 않는다(같은 이름을 갖는 함수를 재정의해서는 안된다)\n",
        "class A:\n",
        "  def __init__(self, a):\n",
        "    pass\n",
        "  def __init__(self,a,b):\n",
        "    pass\n",
        "A(1)\n",
        "A(1,2)  "
      ],
      "metadata": {
        "colab": {
          "base_uri": "https://localhost:8080/",
          "height": 230
        },
        "id": "8-KVJXegLKEN",
        "outputId": "cfff4484-b20c-4533-a137-6c8c86f119d8"
      },
      "execution_count": 4,
      "outputs": [
        {
          "output_type": "error",
          "ename": "TypeError",
          "evalue": "ignored",
          "traceback": [
            "\u001b[0;31m---------------------------------------------------------------------------\u001b[0m",
            "\u001b[0;31mTypeError\u001b[0m                                 Traceback (most recent call last)",
            "\u001b[0;32m<ipython-input-4-c325de0fb3dd>\u001b[0m in \u001b[0;36m<module>\u001b[0;34m()\u001b[0m\n\u001b[1;32m      5\u001b[0m   \u001b[0;32mdef\u001b[0m \u001b[0m__init__\u001b[0m\u001b[0;34m(\u001b[0m\u001b[0mself\u001b[0m\u001b[0;34m,\u001b[0m\u001b[0ma\u001b[0m\u001b[0;34m,\u001b[0m\u001b[0mb\u001b[0m\u001b[0;34m)\u001b[0m\u001b[0;34m:\u001b[0m\u001b[0;34m\u001b[0m\u001b[0;34m\u001b[0m\u001b[0m\n\u001b[1;32m      6\u001b[0m     \u001b[0;32mpass\u001b[0m\u001b[0;34m\u001b[0m\u001b[0;34m\u001b[0m\u001b[0m\n\u001b[0;32m----> 7\u001b[0;31m \u001b[0mA\u001b[0m\u001b[0;34m(\u001b[0m\u001b[0;36m1\u001b[0m\u001b[0;34m)\u001b[0m\u001b[0;34m\u001b[0m\u001b[0;34m\u001b[0m\u001b[0m\n\u001b[0m\u001b[1;32m      8\u001b[0m \u001b[0mA\u001b[0m\u001b[0;34m(\u001b[0m\u001b[0;36m1\u001b[0m\u001b[0;34m,\u001b[0m\u001b[0;36m2\u001b[0m\u001b[0;34m)\u001b[0m\u001b[0;34m\u001b[0m\u001b[0;34m\u001b[0m\u001b[0m\n",
            "\u001b[0;31mTypeError\u001b[0m: __init__() missing 1 required positional argument: 'b'"
          ]
        }
      ]
    },
    {
      "cell_type": "code",
      "source": [
        "# 협업시 중복, 탈락값이 발생할 수 있는 bad code\n",
        "class 사람:\n",
        "  def __init__(self, 숫자):\n",
        "    self.수 = 숫자  \n",
        "\n",
        "a = 사람(0)  # 사용자가 값을 직접 입력하는 경우 : class를 가져다 쓰는 사람이 실수할 확률이 높다\n",
        "b = 사람(1)  # 객체를 만들고 실행하면 메모리 확보 -> __init__ 실행 -> 코드를 수행하고 다시 돌아와서 -> 다음 코드(b=사람(1)) 실행\n",
        "c = 사람(2)\n",
        "\n",
        "print(a.수)\n",
        "print(b.수)\n",
        "print(c.수)\n",
        "\n"
      ],
      "metadata": {
        "id": "mEMKCPnZLdzq"
      },
      "execution_count": null,
      "outputs": []
    },
    {
      "cell_type": "code",
      "source": [
        " #  a, b 객체(인스턴스)는 서로 메모리의 독립된 공간에 있다!!\n",
        " # better code\n",
        " class 사람:\n",
        "   수 = 0  # class 변수 : 클래스 안에서 공유되는 변수\n",
        "   def __init__(self):\n",
        "     사람.수 = 사람.수 + 1  # 인스턴스 변수 : 클래스로 찍어내는 객체마다 독립된 값을 할당받음\n",
        "\n",
        "a = 사람()\n",
        "b = 사람()\n",
        "\n",
        "print(a)\n",
        "print(a.수)"
      ],
      "metadata": {
        "colab": {
          "base_uri": "https://localhost:8080/"
        },
        "id": "XgAztTS7Mmt1",
        "outputId": "ec04a55e-a89d-45e8-ea16-549aa93dbb56"
      },
      "execution_count": 5,
      "outputs": [
        {
          "output_type": "stream",
          "name": "stdout",
          "text": [
            "<__main__.사람 object at 0x7f52e971ac50>\n",
            "2\n"
          ]
        }
      ]
    },
    {
      "cell_type": "code",
      "source": [
        "# 또 다른 특수 메서드\n",
        "# 반드시 문자열을 반환해야 하는 __repr__\n",
        "# print()에는 __repr__ 메서드가 내장되어 있음 : 따라서 원칙적으로는 a = str(\"abcd\") 라고 써야함(str class의 객체를 생성한 후 메서드 호출해야 하므로)\n",
        "class 사람:\n",
        "  def __repr__(self):\n",
        "    return \"ㅋㅋㅋ\"\n",
        "\n",
        "객체 = 사람()\n",
        "print(객체)"
      ],
      "metadata": {
        "colab": {
          "base_uri": "https://localhost:8080/"
        },
        "id": "rRy6mshoNOzO",
        "outputId": "382f3a85-f52d-4565-c266-a688828b61c6"
      },
      "execution_count": 6,
      "outputs": [
        {
          "output_type": "stream",
          "name": "stdout",
          "text": [
            "ㅋㅋㅋ\n"
          ]
        }
      ]
    },
    {
      "cell_type": "code",
      "source": [
        "class 계좌:\n",
        "  발급계좌수 = 0  # 클래스 변수\n",
        "\n",
        "  def __init__(self, 이름, 입금액):\n",
        "    self.이름 = 이름\n",
        "    self.입금액 = 입금액\n",
        "    self.발급계좌수 = 계좌.발급계좌수 + 1\n",
        "  \n",
        "  def __repr__(self):\n",
        "    return f\"{self.이름} {self.입금액}\"\n",
        "\n",
        "a = 계좌(\"김승빈\", 100000)\n",
        "print(a)\n",
        "b = 계좌(\"김성진\", 100)\n",
        "print(b)"
      ],
      "metadata": {
        "colab": {
          "base_uri": "https://localhost:8080/"
        },
        "id": "XgAoLuJzNdu4",
        "outputId": "b72d2db0-d510-4e4a-9852-c0d835d54a66"
      },
      "execution_count": 7,
      "outputs": [
        {
          "output_type": "stream",
          "name": "stdout",
          "text": [
            "김승빈 100000\n",
            "김성진 100\n"
          ]
        }
      ]
    },
    {
      "cell_type": "code",
      "source": [
        "# 파이썬의 모든 것은 class\n",
        "a = int(3)   # a = 3 과 동일한 의미 : int 객체를 만들껀데, int class에는 초기화자가 지정되어 있어 하나의 값(param 3)을 입력받는다\n",
        "print(a)\n",
        "print(type(a))"
      ],
      "metadata": {
        "colab": {
          "base_uri": "https://localhost:8080/"
        },
        "id": "ezD0eKK_OBUm",
        "outputId": "e9319176-ce77-4382-957a-0949aaefc6a0"
      },
      "execution_count": 8,
      "outputs": [
        {
          "output_type": "stream",
          "name": "stdout",
          "text": [
            "3\n",
            "<class 'int'>\n"
          ]
        }
      ]
    },
    {
      "cell_type": "code",
      "source": [
        "# ctrl + space bar 또는 a. 하고 일정시간을 기다리면 사용할 수 있는 메서드 리스트가 나온다\n",
        "# 메서드 = 함수 내에 정의된 함수\n",
        "class Myint:\n",
        "  def bit_length(self):\n",
        "    return 2\n",
        "\n",
        "a.bit_length() \n",
        "\n",
        "# 함수 사용법 : 간단한 것은 함수로 정리하는 것이 좋음. 규모가 커서 한데 모아놓는 것이 좋겠다는 판단이 서면 클래스로 정의하기.\n",
        "# 클래스 사용법 : 객체를 만들고 -> class 안에 정의된 메서드를 호출해야 함 -> 객체를 print할 수도 있고, 변수에 저장할 수도 있음"
      ],
      "metadata": {
        "colab": {
          "base_uri": "https://localhost:8080/"
        },
        "id": "82R3puTLOW-M",
        "outputId": "b35e59c1-0bf7-4487-d507-5c1a1be9281b"
      },
      "execution_count": 9,
      "outputs": [
        {
          "output_type": "execute_result",
          "data": {
            "text/plain": [
              "2"
            ]
          },
          "metadata": {},
          "execution_count": 9
        }
      ]
    }
  ],
  "metadata": {
    "kernelspec": {
      "display_name": "Python 3",
      "language": "python",
      "name": "python3"
    },
    "language_info": {
      "codemirror_mode": {
        "name": "ipython",
        "version": 3
      },
      "file_extension": ".py",
      "mimetype": "text/x-python",
      "name": "python",
      "nbconvert_exporter": "python",
      "pygments_lexer": "ipython3",
      "version": "3.8.8"
    },
    "toc": {
      "base_numbering": 1,
      "nav_menu": {},
      "number_sections": true,
      "sideBar": true,
      "skip_h1_title": false,
      "title_cell": "Table of Contents",
      "title_sidebar": "Contents",
      "toc_cell": false,
      "toc_position": {
        "height": "calc(100% - 180px)",
        "left": "10px",
        "top": "150px",
        "width": "165px"
      },
      "toc_section_display": true,
      "toc_window_display": true
    },
    "colab": {
      "name": "1.클래스.ipynb",
      "provenance": [],
      "collapsed_sections": [],
      "toc_visible": true,
      "include_colab_link": true
    }
  },
  "nbformat": 4,
  "nbformat_minor": 0
}
