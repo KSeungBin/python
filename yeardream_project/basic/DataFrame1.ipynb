{
  "cells": [
    {
      "cell_type": "markdown",
      "metadata": {
        "id": "view-in-github",
        "colab_type": "text"
      },
      "source": [
        "<a href=\"https://colab.research.google.com/github/KSeungBin/python/blob/master/DataFrame1.ipynb\" target=\"_parent\"><img src=\"https://colab.research.google.com/assets/colab-badge.svg\" alt=\"Open In Colab\"/></a>"
      ]
    },
    {
      "cell_type": "markdown",
      "metadata": {
        "id": "FO2G7HB0s84B"
      },
      "source": [
        "## 판다스 데이터프레임\n",
        "판다스 데이터프레임은 다음 그림과같이 행과 열로 구성된 2차원 데이터(엑셀 데이터)를 다루는데 효과적인 자료구조입니다.   \n",
        "- ndarray, series, dataframe 학습 순서 :  생성 -> 인덱싱, 슬라이싱 -> 수정 -> 점검"
      ]
    },
    {
      "cell_type": "code",
      "source": [
        "# Q&A TIME\n",
        "# 1. python은 원칙적으로 public, protect, private 기능이 불가하지만, __var 등을 통해 우회적으로 상속받은 객체가 상위 클래스에 접근하지 못하도록 할 수 있다. \n",
        "class 마린:\n",
        "  def 방어하기(self):\n",
        "    self.__var = \n",
        "\n",
        "class 저그(마린):   # inheritance\n",
        "  def 공격하기:\n",
        "    print(\"두두두두두\")\n",
        "\n",
        "m = 저그()\n",
        "m.방어하기\n",
        "m.공격하기    \n",
        "\n",
        "\n",
        "# 2. 문자열 검색\n",
        "a = \"abc 나는 배고파\"\n",
        "\"abc in a\"\n",
        "a.index(\"나는\")\n",
        "\n",
        "# web scrapping\n",
        "import requests\n",
        "import pandas as pd\n",
        "url = \"https://finance.naver.com/\"\n",
        "r = requests.get(url, auth=('user','pass'))\n",
        "website = r.text\n",
        "dfs = pd.read_html(website, encoding='UTF-8')\n",
        "dfs = pd.read_html(url)\n",
        "print(dfs)\n",
        "\n",
        "# python interpreter는 리스트가 들어오면 슬라이싱하라는 의미로 해석 -> [] 1차원 리스트 / [[]] 2차원 리스트  -> 따라서, 슬라이싱하면 []는 시리즈를 반환하고, [[]]는 데이터프레임을 반환 "
      ],
      "metadata": {
        "id": "8-HrXNM-vKjp"
      },
      "execution_count": null,
      "outputs": []
    },
    {
      "cell_type": "markdown",
      "metadata": {
        "id": "xPHLZVnJs84H"
      },
      "source": [
        "<img src=\"https://i.ibb.co/7VjmyLd/pandas-0-0.png\" width=\"300\" style=\"float:left\" />"
      ]
    },
    {
      "cell_type": "markdown",
      "metadata": {
        "id": "5aQSwc1Ls84I"
      },
      "source": [
        "데이터 프레임은 다음과 같이 import를 합니다."
      ]
    },
    {
      "cell_type": "code",
      "execution_count": null,
      "metadata": {
        "id": "vlR_8Crzs84I"
      },
      "outputs": [],
      "source": [
        "from pandas import DataFrame\n",
        "import pandas as pd"
      ]
    },
    {
      "cell_type": "code",
      "execution_count": null,
      "metadata": {
        "id": "TAG7DzeRs84K"
      },
      "outputs": [],
      "source": [
        "import numpy as np"
      ]
    },
    {
      "cell_type": "markdown",
      "metadata": {
        "id": "NwqRHkTIs84K"
      },
      "source": [
        "데이터 프레임은 크게 세 가지 방법으로 생성할 수 있습니다. \n",
        "-\t딕셔너리로 데이터프레임을 생성\n",
        "-\t리스트로 데이터프레임을 생성\n",
        "-\t리스트와 딕셔너리로 데이터프레임을 생성\n",
        "\n",
        "#### 딕셔너리로 데이터프레임 생성"
      ]
    },
    {
      "cell_type": "markdown",
      "metadata": {
        "id": "bldbRpA-s84L"
      },
      "source": [
        "우선 위 테이블을 딕셔너리로 표현해 보겠습니다. 하나의 컬럼을 딕셔너리의 키, 값 쌍으로 구성합니다. 이 때 값은 리스트 형태로 정의합니다. "
      ]
    },
    {
      "cell_type": "code",
      "execution_count": null,
      "metadata": {
        "colab": {
          "base_uri": "https://localhost:8080/",
          "height": 112
        },
        "id": "YGcjUzpqs84L",
        "outputId": "0ce2cd82-ab2f-48f4-dec9-a8c64d2859c9"
      },
      "outputs": [
        {
          "output_type": "execute_result",
          "data": {
            "text/plain": [
              "    x   y\n",
              "0  10  20\n",
              "1  20  30"
            ],
            "text/html": [
              "\n",
              "  <div id=\"df-bb56aae1-981c-4015-b37d-c61c715ce50d\">\n",
              "    <div class=\"colab-df-container\">\n",
              "      <div>\n",
              "<style scoped>\n",
              "    .dataframe tbody tr th:only-of-type {\n",
              "        vertical-align: middle;\n",
              "    }\n",
              "\n",
              "    .dataframe tbody tr th {\n",
              "        vertical-align: top;\n",
              "    }\n",
              "\n",
              "    .dataframe thead th {\n",
              "        text-align: right;\n",
              "    }\n",
              "</style>\n",
              "<table border=\"1\" class=\"dataframe\">\n",
              "  <thead>\n",
              "    <tr style=\"text-align: right;\">\n",
              "      <th></th>\n",
              "      <th>x</th>\n",
              "      <th>y</th>\n",
              "    </tr>\n",
              "  </thead>\n",
              "  <tbody>\n",
              "    <tr>\n",
              "      <th>0</th>\n",
              "      <td>10</td>\n",
              "      <td>20</td>\n",
              "    </tr>\n",
              "    <tr>\n",
              "      <th>1</th>\n",
              "      <td>20</td>\n",
              "      <td>30</td>\n",
              "    </tr>\n",
              "  </tbody>\n",
              "</table>\n",
              "</div>\n",
              "      <button class=\"colab-df-convert\" onclick=\"convertToInteractive('df-bb56aae1-981c-4015-b37d-c61c715ce50d')\"\n",
              "              title=\"Convert this dataframe to an interactive table.\"\n",
              "              style=\"display:none;\">\n",
              "        \n",
              "  <svg xmlns=\"http://www.w3.org/2000/svg\" height=\"24px\"viewBox=\"0 0 24 24\"\n",
              "       width=\"24px\">\n",
              "    <path d=\"M0 0h24v24H0V0z\" fill=\"none\"/>\n",
              "    <path d=\"M18.56 5.44l.94 2.06.94-2.06 2.06-.94-2.06-.94-.94-2.06-.94 2.06-2.06.94zm-11 1L8.5 8.5l.94-2.06 2.06-.94-2.06-.94L8.5 2.5l-.94 2.06-2.06.94zm10 10l.94 2.06.94-2.06 2.06-.94-2.06-.94-.94-2.06-.94 2.06-2.06.94z\"/><path d=\"M17.41 7.96l-1.37-1.37c-.4-.4-.92-.59-1.43-.59-.52 0-1.04.2-1.43.59L10.3 9.45l-7.72 7.72c-.78.78-.78 2.05 0 2.83L4 21.41c.39.39.9.59 1.41.59.51 0 1.02-.2 1.41-.59l7.78-7.78 2.81-2.81c.8-.78.8-2.07 0-2.86zM5.41 20L4 18.59l7.72-7.72 1.47 1.35L5.41 20z\"/>\n",
              "  </svg>\n",
              "      </button>\n",
              "      \n",
              "  <style>\n",
              "    .colab-df-container {\n",
              "      display:flex;\n",
              "      flex-wrap:wrap;\n",
              "      gap: 12px;\n",
              "    }\n",
              "\n",
              "    .colab-df-convert {\n",
              "      background-color: #E8F0FE;\n",
              "      border: none;\n",
              "      border-radius: 50%;\n",
              "      cursor: pointer;\n",
              "      display: none;\n",
              "      fill: #1967D2;\n",
              "      height: 32px;\n",
              "      padding: 0 0 0 0;\n",
              "      width: 32px;\n",
              "    }\n",
              "\n",
              "    .colab-df-convert:hover {\n",
              "      background-color: #E2EBFA;\n",
              "      box-shadow: 0px 1px 2px rgba(60, 64, 67, 0.3), 0px 1px 3px 1px rgba(60, 64, 67, 0.15);\n",
              "      fill: #174EA6;\n",
              "    }\n",
              "\n",
              "    [theme=dark] .colab-df-convert {\n",
              "      background-color: #3B4455;\n",
              "      fill: #D2E3FC;\n",
              "    }\n",
              "\n",
              "    [theme=dark] .colab-df-convert:hover {\n",
              "      background-color: #434B5C;\n",
              "      box-shadow: 0px 1px 3px 1px rgba(0, 0, 0, 0.15);\n",
              "      filter: drop-shadow(0px 1px 2px rgba(0, 0, 0, 0.3));\n",
              "      fill: #FFFFFF;\n",
              "    }\n",
              "  </style>\n",
              "\n",
              "      <script>\n",
              "        const buttonEl =\n",
              "          document.querySelector('#df-bb56aae1-981c-4015-b37d-c61c715ce50d button.colab-df-convert');\n",
              "        buttonEl.style.display =\n",
              "          google.colab.kernel.accessAllowed ? 'block' : 'none';\n",
              "\n",
              "        async function convertToInteractive(key) {\n",
              "          const element = document.querySelector('#df-bb56aae1-981c-4015-b37d-c61c715ce50d');\n",
              "          const dataTable =\n",
              "            await google.colab.kernel.invokeFunction('convertToInteractive',\n",
              "                                                     [key], {});\n",
              "          if (!dataTable) return;\n",
              "\n",
              "          const docLinkHtml = 'Like what you see? Visit the ' +\n",
              "            '<a target=\"_blank\" href=https://colab.research.google.com/notebooks/data_table.ipynb>data table notebook</a>'\n",
              "            + ' to learn more about interactive tables.';\n",
              "          element.innerHTML = '';\n",
              "          dataTable['output_type'] = 'display_data';\n",
              "          await google.colab.output.renderOutput(dataTable, element);\n",
              "          const docLink = document.createElement('div');\n",
              "          docLink.innerHTML = docLinkHtml;\n",
              "          element.appendChild(docLink);\n",
              "        }\n",
              "      </script>\n",
              "    </div>\n",
              "  </div>\n",
              "  "
            ]
          },
          "metadata": {},
          "execution_count": 3
        }
      ],
      "source": [
        "딕셔너리 = {   # 2차원 데이터 표현\n",
        "        \"x\": [10, 20],   # x, y는 column명, index 0과 1은 자동으로 mapping됨, list에 있는 값은 데이터\n",
        "        \"y\": [20, 30]\n",
        "}\n",
        "df = DataFrame(딕셔너리)  # df = DataFrame(data = 딕셔너리)\n",
        "df # colab은 print(df)보다 예쁘게 데이터프레임을 출력해주는 기능(복사해서 사용하기)"
      ]
    },
    {
      "cell_type": "markdown",
      "metadata": {
        "id": "dnzMWQI9s84N"
      },
      "source": [
        "데이터프레임은 생성자에서 딕셔너리를 입력받아 객체를 반환합니다. 코드를 실행하면 자동으로 맵핑된 인덱스가 함께 출력됩니다. \n",
        "\n"
      ]
    },
    {
      "cell_type": "markdown",
      "metadata": {
        "id": "q5bNLHEls84N"
      },
      "source": [
        "#### 리스트로 데이터프레임 생성\n",
        "테이블의 헤더 (시가/고가/저가/종가의 1행)를 제외하고 나머지 데이터를 2차원 형태로 정의합니다. "
      ]
    },
    {
      "cell_type": "code",
      "execution_count": null,
      "metadata": {
        "colab": {
          "base_uri": "https://localhost:8080/",
          "height": 112
        },
        "id": "y4j0eyVxs84O",
        "outputId": "8debad95-fc9a-4843-9a2c-2bad1f0050aa"
      },
      "outputs": [
        {
          "output_type": "execute_result",
          "data": {
            "text/plain": [
              "    0   1\n",
              "0  10  20\n",
              "1  30  40"
            ],
            "text/html": [
              "\n",
              "  <div id=\"df-98e2bf9d-d3cb-4992-95e1-ba7217d71ad4\">\n",
              "    <div class=\"colab-df-container\">\n",
              "      <div>\n",
              "<style scoped>\n",
              "    .dataframe tbody tr th:only-of-type {\n",
              "        vertical-align: middle;\n",
              "    }\n",
              "\n",
              "    .dataframe tbody tr th {\n",
              "        vertical-align: top;\n",
              "    }\n",
              "\n",
              "    .dataframe thead th {\n",
              "        text-align: right;\n",
              "    }\n",
              "</style>\n",
              "<table border=\"1\" class=\"dataframe\">\n",
              "  <thead>\n",
              "    <tr style=\"text-align: right;\">\n",
              "      <th></th>\n",
              "      <th>0</th>\n",
              "      <th>1</th>\n",
              "    </tr>\n",
              "  </thead>\n",
              "  <tbody>\n",
              "    <tr>\n",
              "      <th>0</th>\n",
              "      <td>10</td>\n",
              "      <td>20</td>\n",
              "    </tr>\n",
              "    <tr>\n",
              "      <th>1</th>\n",
              "      <td>30</td>\n",
              "      <td>40</td>\n",
              "    </tr>\n",
              "  </tbody>\n",
              "</table>\n",
              "</div>\n",
              "      <button class=\"colab-df-convert\" onclick=\"convertToInteractive('df-98e2bf9d-d3cb-4992-95e1-ba7217d71ad4')\"\n",
              "              title=\"Convert this dataframe to an interactive table.\"\n",
              "              style=\"display:none;\">\n",
              "        \n",
              "  <svg xmlns=\"http://www.w3.org/2000/svg\" height=\"24px\"viewBox=\"0 0 24 24\"\n",
              "       width=\"24px\">\n",
              "    <path d=\"M0 0h24v24H0V0z\" fill=\"none\"/>\n",
              "    <path d=\"M18.56 5.44l.94 2.06.94-2.06 2.06-.94-2.06-.94-.94-2.06-.94 2.06-2.06.94zm-11 1L8.5 8.5l.94-2.06 2.06-.94-2.06-.94L8.5 2.5l-.94 2.06-2.06.94zm10 10l.94 2.06.94-2.06 2.06-.94-2.06-.94-.94-2.06-.94 2.06-2.06.94z\"/><path d=\"M17.41 7.96l-1.37-1.37c-.4-.4-.92-.59-1.43-.59-.52 0-1.04.2-1.43.59L10.3 9.45l-7.72 7.72c-.78.78-.78 2.05 0 2.83L4 21.41c.39.39.9.59 1.41.59.51 0 1.02-.2 1.41-.59l7.78-7.78 2.81-2.81c.8-.78.8-2.07 0-2.86zM5.41 20L4 18.59l7.72-7.72 1.47 1.35L5.41 20z\"/>\n",
              "  </svg>\n",
              "      </button>\n",
              "      \n",
              "  <style>\n",
              "    .colab-df-container {\n",
              "      display:flex;\n",
              "      flex-wrap:wrap;\n",
              "      gap: 12px;\n",
              "    }\n",
              "\n",
              "    .colab-df-convert {\n",
              "      background-color: #E8F0FE;\n",
              "      border: none;\n",
              "      border-radius: 50%;\n",
              "      cursor: pointer;\n",
              "      display: none;\n",
              "      fill: #1967D2;\n",
              "      height: 32px;\n",
              "      padding: 0 0 0 0;\n",
              "      width: 32px;\n",
              "    }\n",
              "\n",
              "    .colab-df-convert:hover {\n",
              "      background-color: #E2EBFA;\n",
              "      box-shadow: 0px 1px 2px rgba(60, 64, 67, 0.3), 0px 1px 3px 1px rgba(60, 64, 67, 0.15);\n",
              "      fill: #174EA6;\n",
              "    }\n",
              "\n",
              "    [theme=dark] .colab-df-convert {\n",
              "      background-color: #3B4455;\n",
              "      fill: #D2E3FC;\n",
              "    }\n",
              "\n",
              "    [theme=dark] .colab-df-convert:hover {\n",
              "      background-color: #434B5C;\n",
              "      box-shadow: 0px 1px 3px 1px rgba(0, 0, 0, 0.15);\n",
              "      filter: drop-shadow(0px 1px 2px rgba(0, 0, 0, 0.3));\n",
              "      fill: #FFFFFF;\n",
              "    }\n",
              "  </style>\n",
              "\n",
              "      <script>\n",
              "        const buttonEl =\n",
              "          document.querySelector('#df-98e2bf9d-d3cb-4992-95e1-ba7217d71ad4 button.colab-df-convert');\n",
              "        buttonEl.style.display =\n",
              "          google.colab.kernel.accessAllowed ? 'block' : 'none';\n",
              "\n",
              "        async function convertToInteractive(key) {\n",
              "          const element = document.querySelector('#df-98e2bf9d-d3cb-4992-95e1-ba7217d71ad4');\n",
              "          const dataTable =\n",
              "            await google.colab.kernel.invokeFunction('convertToInteractive',\n",
              "                                                     [key], {});\n",
              "          if (!dataTable) return;\n",
              "\n",
              "          const docLinkHtml = 'Like what you see? Visit the ' +\n",
              "            '<a target=\"_blank\" href=https://colab.research.google.com/notebooks/data_table.ipynb>data table notebook</a>'\n",
              "            + ' to learn more about interactive tables.';\n",
              "          element.innerHTML = '';\n",
              "          dataTable['output_type'] = 'display_data';\n",
              "          await google.colab.output.renderOutput(dataTable, element);\n",
              "          const docLink = document.createElement('div');\n",
              "          docLink.innerHTML = docLinkHtml;\n",
              "          element.appendChild(docLink);\n",
              "        }\n",
              "      </script>\n",
              "    </div>\n",
              "  </div>\n",
              "  "
            ]
          },
          "metadata": {},
          "execution_count": 4
        }
      ],
      "source": [
        "리스트 = [\n",
        "       [10,20],  # 리스트는 인덱스와 컬럼명이 지정되지 않아, 자동으로 맵핑된 인덱스 값이 들어간다\n",
        "       [30,40]    \n",
        "]\n",
        "\n",
        "df = DataFrame(리스트)\n",
        "df"
      ]
    },
    {
      "cell_type": "markdown",
      "metadata": {
        "id": "3ojn8BDys84O"
      },
      "source": [
        "그리고 생성자에 columns 파라미터로 헤더 정보를 전달합니다. "
      ]
    },
    {
      "cell_type": "code",
      "execution_count": null,
      "metadata": {
        "colab": {
          "base_uri": "https://localhost:8080/",
          "height": 131
        },
        "id": "xB7x30Gvs84P",
        "outputId": "5c060a32-2de2-4bec-fb5e-a33789d60151"
      },
      "outputs": [
        {
          "output_type": "stream",
          "name": "stdout",
          "text": [
            "[0, 1]\n"
          ]
        },
        {
          "output_type": "execute_result",
          "data": {
            "text/plain": [
              "    0   1\n",
              "x  10  20\n",
              "y  30  40"
            ],
            "text/html": [
              "\n",
              "  <div id=\"df-f5e8a208-51cf-4c2c-9571-b830ed352ba7\">\n",
              "    <div class=\"colab-df-container\">\n",
              "      <div>\n",
              "<style scoped>\n",
              "    .dataframe tbody tr th:only-of-type {\n",
              "        vertical-align: middle;\n",
              "    }\n",
              "\n",
              "    .dataframe tbody tr th {\n",
              "        vertical-align: top;\n",
              "    }\n",
              "\n",
              "    .dataframe thead th {\n",
              "        text-align: right;\n",
              "    }\n",
              "</style>\n",
              "<table border=\"1\" class=\"dataframe\">\n",
              "  <thead>\n",
              "    <tr style=\"text-align: right;\">\n",
              "      <th></th>\n",
              "      <th>0</th>\n",
              "      <th>1</th>\n",
              "    </tr>\n",
              "  </thead>\n",
              "  <tbody>\n",
              "    <tr>\n",
              "      <th>x</th>\n",
              "      <td>10</td>\n",
              "      <td>20</td>\n",
              "    </tr>\n",
              "    <tr>\n",
              "      <th>y</th>\n",
              "      <td>30</td>\n",
              "      <td>40</td>\n",
              "    </tr>\n",
              "  </tbody>\n",
              "</table>\n",
              "</div>\n",
              "      <button class=\"colab-df-convert\" onclick=\"convertToInteractive('df-f5e8a208-51cf-4c2c-9571-b830ed352ba7')\"\n",
              "              title=\"Convert this dataframe to an interactive table.\"\n",
              "              style=\"display:none;\">\n",
              "        \n",
              "  <svg xmlns=\"http://www.w3.org/2000/svg\" height=\"24px\"viewBox=\"0 0 24 24\"\n",
              "       width=\"24px\">\n",
              "    <path d=\"M0 0h24v24H0V0z\" fill=\"none\"/>\n",
              "    <path d=\"M18.56 5.44l.94 2.06.94-2.06 2.06-.94-2.06-.94-.94-2.06-.94 2.06-2.06.94zm-11 1L8.5 8.5l.94-2.06 2.06-.94-2.06-.94L8.5 2.5l-.94 2.06-2.06.94zm10 10l.94 2.06.94-2.06 2.06-.94-2.06-.94-.94-2.06-.94 2.06-2.06.94z\"/><path d=\"M17.41 7.96l-1.37-1.37c-.4-.4-.92-.59-1.43-.59-.52 0-1.04.2-1.43.59L10.3 9.45l-7.72 7.72c-.78.78-.78 2.05 0 2.83L4 21.41c.39.39.9.59 1.41.59.51 0 1.02-.2 1.41-.59l7.78-7.78 2.81-2.81c.8-.78.8-2.07 0-2.86zM5.41 20L4 18.59l7.72-7.72 1.47 1.35L5.41 20z\"/>\n",
              "  </svg>\n",
              "      </button>\n",
              "      \n",
              "  <style>\n",
              "    .colab-df-container {\n",
              "      display:flex;\n",
              "      flex-wrap:wrap;\n",
              "      gap: 12px;\n",
              "    }\n",
              "\n",
              "    .colab-df-convert {\n",
              "      background-color: #E8F0FE;\n",
              "      border: none;\n",
              "      border-radius: 50%;\n",
              "      cursor: pointer;\n",
              "      display: none;\n",
              "      fill: #1967D2;\n",
              "      height: 32px;\n",
              "      padding: 0 0 0 0;\n",
              "      width: 32px;\n",
              "    }\n",
              "\n",
              "    .colab-df-convert:hover {\n",
              "      background-color: #E2EBFA;\n",
              "      box-shadow: 0px 1px 2px rgba(60, 64, 67, 0.3), 0px 1px 3px 1px rgba(60, 64, 67, 0.15);\n",
              "      fill: #174EA6;\n",
              "    }\n",
              "\n",
              "    [theme=dark] .colab-df-convert {\n",
              "      background-color: #3B4455;\n",
              "      fill: #D2E3FC;\n",
              "    }\n",
              "\n",
              "    [theme=dark] .colab-df-convert:hover {\n",
              "      background-color: #434B5C;\n",
              "      box-shadow: 0px 1px 3px 1px rgba(0, 0, 0, 0.15);\n",
              "      filter: drop-shadow(0px 1px 2px rgba(0, 0, 0, 0.3));\n",
              "      fill: #FFFFFF;\n",
              "    }\n",
              "  </style>\n",
              "\n",
              "      <script>\n",
              "        const buttonEl =\n",
              "          document.querySelector('#df-f5e8a208-51cf-4c2c-9571-b830ed352ba7 button.colab-df-convert');\n",
              "        buttonEl.style.display =\n",
              "          google.colab.kernel.accessAllowed ? 'block' : 'none';\n",
              "\n",
              "        async function convertToInteractive(key) {\n",
              "          const element = document.querySelector('#df-f5e8a208-51cf-4c2c-9571-b830ed352ba7');\n",
              "          const dataTable =\n",
              "            await google.colab.kernel.invokeFunction('convertToInteractive',\n",
              "                                                     [key], {});\n",
              "          if (!dataTable) return;\n",
              "\n",
              "          const docLinkHtml = 'Like what you see? Visit the ' +\n",
              "            '<a target=\"_blank\" href=https://colab.research.google.com/notebooks/data_table.ipynb>data table notebook</a>'\n",
              "            + ' to learn more about interactive tables.';\n",
              "          element.innerHTML = '';\n",
              "          dataTable['output_type'] = 'display_data';\n",
              "          await google.colab.output.renderOutput(dataTable, element);\n",
              "          const docLink = document.createElement('div');\n",
              "          docLink.innerHTML = docLinkHtml;\n",
              "          element.appendChild(docLink);\n",
              "        }\n",
              "      </script>\n",
              "    </div>\n",
              "  </div>\n",
              "  "
            ]
          },
          "metadata": {},
          "execution_count": 6
        }
      ],
      "source": [
        "print(df.index.tolist()) # 인덱스를 가져오기\n",
        "df.index = ['x', 'y']    # 인덱스를 통해 dataframe update(인덱스에 접근할 수 있다면 값을 수정할 수 있기 떄문)\n",
        "df"
      ]
    },
    {
      "cell_type": "code",
      "source": [
        "# (data) header(=column)\n",
        "df.columns = ['a', 'b']\n",
        "df"
      ],
      "metadata": {
        "colab": {
          "base_uri": "https://localhost:8080/",
          "height": 112
        },
        "id": "cL1S7hQwu79k",
        "outputId": "a999e268-6d32-4405-8079-b88171222d75"
      },
      "execution_count": null,
      "outputs": [
        {
          "output_type": "execute_result",
          "data": {
            "text/plain": [
              "    a   b\n",
              "x  10  20\n",
              "y  30  40"
            ],
            "text/html": [
              "\n",
              "  <div id=\"df-6cb73ad3-410b-40b6-afc0-e8e5017e3e56\">\n",
              "    <div class=\"colab-df-container\">\n",
              "      <div>\n",
              "<style scoped>\n",
              "    .dataframe tbody tr th:only-of-type {\n",
              "        vertical-align: middle;\n",
              "    }\n",
              "\n",
              "    .dataframe tbody tr th {\n",
              "        vertical-align: top;\n",
              "    }\n",
              "\n",
              "    .dataframe thead th {\n",
              "        text-align: right;\n",
              "    }\n",
              "</style>\n",
              "<table border=\"1\" class=\"dataframe\">\n",
              "  <thead>\n",
              "    <tr style=\"text-align: right;\">\n",
              "      <th></th>\n",
              "      <th>a</th>\n",
              "      <th>b</th>\n",
              "    </tr>\n",
              "  </thead>\n",
              "  <tbody>\n",
              "    <tr>\n",
              "      <th>x</th>\n",
              "      <td>10</td>\n",
              "      <td>20</td>\n",
              "    </tr>\n",
              "    <tr>\n",
              "      <th>y</th>\n",
              "      <td>30</td>\n",
              "      <td>40</td>\n",
              "    </tr>\n",
              "  </tbody>\n",
              "</table>\n",
              "</div>\n",
              "      <button class=\"colab-df-convert\" onclick=\"convertToInteractive('df-6cb73ad3-410b-40b6-afc0-e8e5017e3e56')\"\n",
              "              title=\"Convert this dataframe to an interactive table.\"\n",
              "              style=\"display:none;\">\n",
              "        \n",
              "  <svg xmlns=\"http://www.w3.org/2000/svg\" height=\"24px\"viewBox=\"0 0 24 24\"\n",
              "       width=\"24px\">\n",
              "    <path d=\"M0 0h24v24H0V0z\" fill=\"none\"/>\n",
              "    <path d=\"M18.56 5.44l.94 2.06.94-2.06 2.06-.94-2.06-.94-.94-2.06-.94 2.06-2.06.94zm-11 1L8.5 8.5l.94-2.06 2.06-.94-2.06-.94L8.5 2.5l-.94 2.06-2.06.94zm10 10l.94 2.06.94-2.06 2.06-.94-2.06-.94-.94-2.06-.94 2.06-2.06.94z\"/><path d=\"M17.41 7.96l-1.37-1.37c-.4-.4-.92-.59-1.43-.59-.52 0-1.04.2-1.43.59L10.3 9.45l-7.72 7.72c-.78.78-.78 2.05 0 2.83L4 21.41c.39.39.9.59 1.41.59.51 0 1.02-.2 1.41-.59l7.78-7.78 2.81-2.81c.8-.78.8-2.07 0-2.86zM5.41 20L4 18.59l7.72-7.72 1.47 1.35L5.41 20z\"/>\n",
              "  </svg>\n",
              "      </button>\n",
              "      \n",
              "  <style>\n",
              "    .colab-df-container {\n",
              "      display:flex;\n",
              "      flex-wrap:wrap;\n",
              "      gap: 12px;\n",
              "    }\n",
              "\n",
              "    .colab-df-convert {\n",
              "      background-color: #E8F0FE;\n",
              "      border: none;\n",
              "      border-radius: 50%;\n",
              "      cursor: pointer;\n",
              "      display: none;\n",
              "      fill: #1967D2;\n",
              "      height: 32px;\n",
              "      padding: 0 0 0 0;\n",
              "      width: 32px;\n",
              "    }\n",
              "\n",
              "    .colab-df-convert:hover {\n",
              "      background-color: #E2EBFA;\n",
              "      box-shadow: 0px 1px 2px rgba(60, 64, 67, 0.3), 0px 1px 3px 1px rgba(60, 64, 67, 0.15);\n",
              "      fill: #174EA6;\n",
              "    }\n",
              "\n",
              "    [theme=dark] .colab-df-convert {\n",
              "      background-color: #3B4455;\n",
              "      fill: #D2E3FC;\n",
              "    }\n",
              "\n",
              "    [theme=dark] .colab-df-convert:hover {\n",
              "      background-color: #434B5C;\n",
              "      box-shadow: 0px 1px 3px 1px rgba(0, 0, 0, 0.15);\n",
              "      filter: drop-shadow(0px 1px 2px rgba(0, 0, 0, 0.3));\n",
              "      fill: #FFFFFF;\n",
              "    }\n",
              "  </style>\n",
              "\n",
              "      <script>\n",
              "        const buttonEl =\n",
              "          document.querySelector('#df-6cb73ad3-410b-40b6-afc0-e8e5017e3e56 button.colab-df-convert');\n",
              "        buttonEl.style.display =\n",
              "          google.colab.kernel.accessAllowed ? 'block' : 'none';\n",
              "\n",
              "        async function convertToInteractive(key) {\n",
              "          const element = document.querySelector('#df-6cb73ad3-410b-40b6-afc0-e8e5017e3e56');\n",
              "          const dataTable =\n",
              "            await google.colab.kernel.invokeFunction('convertToInteractive',\n",
              "                                                     [key], {});\n",
              "          if (!dataTable) return;\n",
              "\n",
              "          const docLinkHtml = 'Like what you see? Visit the ' +\n",
              "            '<a target=\"_blank\" href=https://colab.research.google.com/notebooks/data_table.ipynb>data table notebook</a>'\n",
              "            + ' to learn more about interactive tables.';\n",
              "          element.innerHTML = '';\n",
              "          dataTable['output_type'] = 'display_data';\n",
              "          await google.colab.output.renderOutput(dataTable, element);\n",
              "          const docLink = document.createElement('div');\n",
              "          docLink.innerHTML = docLinkHtml;\n",
              "          element.appendChild(docLink);\n",
              "        }\n",
              "      </script>\n",
              "    </div>\n",
              "  </div>\n",
              "  "
            ]
          },
          "metadata": {},
          "execution_count": 7
        }
      ]
    },
    {
      "cell_type": "markdown",
      "metadata": {
        "id": "-cB3Ya5js84P"
      },
      "source": [
        "데이터 프레임에도 다양한 속성 (인스턴스 변수)이 있는데 columns 파라미터에는 테이블 열의 제목이 들어있습니다. "
      ]
    },
    {
      "cell_type": "markdown",
      "metadata": {
        "id": "aJQa5Kj7s84P"
      },
      "source": [
        "#### 리스트와 딕셔너리를 조합\n",
        "세 번째 방식은 두 번째와 유사하게 행 단위로 데이터를 표현하는데 이 때 데이터에 레이블을 붙여서 각 행을 하나의 딕셔너리로 표현합니다. 말로 풀어쓰면 어려운데 코드를 보면 쉽게 이해할 수 있습니다. "
      ]
    },
    {
      "cell_type": "code",
      "execution_count": null,
      "metadata": {
        "colab": {
          "base_uri": "https://localhost:8080/",
          "height": 174
        },
        "id": "2IFGS-sgs84Q",
        "outputId": "d551b073-3755-4e0b-a847-717da4bf0f5b"
      },
      "outputs": [
        {
          "output_type": "execute_result",
          "data": {
            "text/plain": [
              "    시가   고가  저가   종가\n",
              "0  100  110  90  105\n",
              "1   90  112  80   95\n",
              "2   80  115  70   85\n",
              "3   70   80  60   75"
            ],
            "text/html": [
              "\n",
              "  <div id=\"df-e7112b26-b9a3-443a-8dab-968000e09327\">\n",
              "    <div class=\"colab-df-container\">\n",
              "      <div>\n",
              "<style scoped>\n",
              "    .dataframe tbody tr th:only-of-type {\n",
              "        vertical-align: middle;\n",
              "    }\n",
              "\n",
              "    .dataframe tbody tr th {\n",
              "        vertical-align: top;\n",
              "    }\n",
              "\n",
              "    .dataframe thead th {\n",
              "        text-align: right;\n",
              "    }\n",
              "</style>\n",
              "<table border=\"1\" class=\"dataframe\">\n",
              "  <thead>\n",
              "    <tr style=\"text-align: right;\">\n",
              "      <th></th>\n",
              "      <th>시가</th>\n",
              "      <th>고가</th>\n",
              "      <th>저가</th>\n",
              "      <th>종가</th>\n",
              "    </tr>\n",
              "  </thead>\n",
              "  <tbody>\n",
              "    <tr>\n",
              "      <th>0</th>\n",
              "      <td>100</td>\n",
              "      <td>110</td>\n",
              "      <td>90</td>\n",
              "      <td>105</td>\n",
              "    </tr>\n",
              "    <tr>\n",
              "      <th>1</th>\n",
              "      <td>90</td>\n",
              "      <td>112</td>\n",
              "      <td>80</td>\n",
              "      <td>95</td>\n",
              "    </tr>\n",
              "    <tr>\n",
              "      <th>2</th>\n",
              "      <td>80</td>\n",
              "      <td>115</td>\n",
              "      <td>70</td>\n",
              "      <td>85</td>\n",
              "    </tr>\n",
              "    <tr>\n",
              "      <th>3</th>\n",
              "      <td>70</td>\n",
              "      <td>80</td>\n",
              "      <td>60</td>\n",
              "      <td>75</td>\n",
              "    </tr>\n",
              "  </tbody>\n",
              "</table>\n",
              "</div>\n",
              "      <button class=\"colab-df-convert\" onclick=\"convertToInteractive('df-e7112b26-b9a3-443a-8dab-968000e09327')\"\n",
              "              title=\"Convert this dataframe to an interactive table.\"\n",
              "              style=\"display:none;\">\n",
              "        \n",
              "  <svg xmlns=\"http://www.w3.org/2000/svg\" height=\"24px\"viewBox=\"0 0 24 24\"\n",
              "       width=\"24px\">\n",
              "    <path d=\"M0 0h24v24H0V0z\" fill=\"none\"/>\n",
              "    <path d=\"M18.56 5.44l.94 2.06.94-2.06 2.06-.94-2.06-.94-.94-2.06-.94 2.06-2.06.94zm-11 1L8.5 8.5l.94-2.06 2.06-.94-2.06-.94L8.5 2.5l-.94 2.06-2.06.94zm10 10l.94 2.06.94-2.06 2.06-.94-2.06-.94-.94-2.06-.94 2.06-2.06.94z\"/><path d=\"M17.41 7.96l-1.37-1.37c-.4-.4-.92-.59-1.43-.59-.52 0-1.04.2-1.43.59L10.3 9.45l-7.72 7.72c-.78.78-.78 2.05 0 2.83L4 21.41c.39.39.9.59 1.41.59.51 0 1.02-.2 1.41-.59l7.78-7.78 2.81-2.81c.8-.78.8-2.07 0-2.86zM5.41 20L4 18.59l7.72-7.72 1.47 1.35L5.41 20z\"/>\n",
              "  </svg>\n",
              "      </button>\n",
              "      \n",
              "  <style>\n",
              "    .colab-df-container {\n",
              "      display:flex;\n",
              "      flex-wrap:wrap;\n",
              "      gap: 12px;\n",
              "    }\n",
              "\n",
              "    .colab-df-convert {\n",
              "      background-color: #E8F0FE;\n",
              "      border: none;\n",
              "      border-radius: 50%;\n",
              "      cursor: pointer;\n",
              "      display: none;\n",
              "      fill: #1967D2;\n",
              "      height: 32px;\n",
              "      padding: 0 0 0 0;\n",
              "      width: 32px;\n",
              "    }\n",
              "\n",
              "    .colab-df-convert:hover {\n",
              "      background-color: #E2EBFA;\n",
              "      box-shadow: 0px 1px 2px rgba(60, 64, 67, 0.3), 0px 1px 3px 1px rgba(60, 64, 67, 0.15);\n",
              "      fill: #174EA6;\n",
              "    }\n",
              "\n",
              "    [theme=dark] .colab-df-convert {\n",
              "      background-color: #3B4455;\n",
              "      fill: #D2E3FC;\n",
              "    }\n",
              "\n",
              "    [theme=dark] .colab-df-convert:hover {\n",
              "      background-color: #434B5C;\n",
              "      box-shadow: 0px 1px 3px 1px rgba(0, 0, 0, 0.15);\n",
              "      filter: drop-shadow(0px 1px 2px rgba(0, 0, 0, 0.3));\n",
              "      fill: #FFFFFF;\n",
              "    }\n",
              "  </style>\n",
              "\n",
              "      <script>\n",
              "        const buttonEl =\n",
              "          document.querySelector('#df-e7112b26-b9a3-443a-8dab-968000e09327 button.colab-df-convert');\n",
              "        buttonEl.style.display =\n",
              "          google.colab.kernel.accessAllowed ? 'block' : 'none';\n",
              "\n",
              "        async function convertToInteractive(key) {\n",
              "          const element = document.querySelector('#df-e7112b26-b9a3-443a-8dab-968000e09327');\n",
              "          const dataTable =\n",
              "            await google.colab.kernel.invokeFunction('convertToInteractive',\n",
              "                                                     [key], {});\n",
              "          if (!dataTable) return;\n",
              "\n",
              "          const docLinkHtml = 'Like what you see? Visit the ' +\n",
              "            '<a target=\"_blank\" href=https://colab.research.google.com/notebooks/data_table.ipynb>data table notebook</a>'\n",
              "            + ' to learn more about interactive tables.';\n",
              "          element.innerHTML = '';\n",
              "          dataTable['output_type'] = 'display_data';\n",
              "          await google.colab.output.renderOutput(dataTable, element);\n",
              "          const docLink = document.createElement('div');\n",
              "          docLink.innerHTML = docLinkHtml;\n",
              "          element.appendChild(docLink);\n",
              "        }\n",
              "      </script>\n",
              "    </div>\n",
              "  </div>\n",
              "  "
            ]
          },
          "metadata": {},
          "execution_count": 8
        }
      ],
      "source": [
        "# 리스트 안에 여러 개의 딕셔너리(key:value의 집합으로 데이터가 구성되어 있음)가 들어있음\n",
        "data = [\n",
        "    {'시가': 100, '고가': 110, '저가': 90, '종가': 105}, \n",
        "    {'시가':  90, '고가': 112, '저가': 80, '종가':  95}, \n",
        "    {'시가':  80, '고가': 115, '저가': 70, '종가':  85}, \n",
        "    {'시가':  70, '고가':  80, '저가': 60, '종가':  75}, \n",
        "]\n",
        "\n",
        "df = DataFrame(data)\n",
        "df"
      ]
    },
    {
      "cell_type": "markdown",
      "metadata": {
        "id": "_Zxeccxvs84Q"
      },
      "source": [
        "데이터 프레임도 시리즈와 유사하게 인덱스를 지정할 수 있습니다.  \n",
        "- 생성할 때 인덱스 추가  \n",
        "- 생성 후에 인덱스 추가  "
      ]
    },
    {
      "cell_type": "code",
      "execution_count": null,
      "metadata": {
        "colab": {
          "base_uri": "https://localhost:8080/",
          "height": 112
        },
        "id": "VX5PRVoGs84Q",
        "outputId": "7565d639-2c7b-4430-97c1-737395269c93"
      },
      "outputs": [
        {
          "output_type": "execute_result",
          "data": {
            "text/plain": [
              "    a   b\n",
              "x  10  20\n",
              "y  30  40"
            ],
            "text/html": [
              "\n",
              "  <div id=\"df-552518ab-eb1b-4fa9-8b8d-bc81ba4872a0\">\n",
              "    <div class=\"colab-df-container\">\n",
              "      <div>\n",
              "<style scoped>\n",
              "    .dataframe tbody tr th:only-of-type {\n",
              "        vertical-align: middle;\n",
              "    }\n",
              "\n",
              "    .dataframe tbody tr th {\n",
              "        vertical-align: top;\n",
              "    }\n",
              "\n",
              "    .dataframe thead th {\n",
              "        text-align: right;\n",
              "    }\n",
              "</style>\n",
              "<table border=\"1\" class=\"dataframe\">\n",
              "  <thead>\n",
              "    <tr style=\"text-align: right;\">\n",
              "      <th></th>\n",
              "      <th>a</th>\n",
              "      <th>b</th>\n",
              "    </tr>\n",
              "  </thead>\n",
              "  <tbody>\n",
              "    <tr>\n",
              "      <th>x</th>\n",
              "      <td>10</td>\n",
              "      <td>20</td>\n",
              "    </tr>\n",
              "    <tr>\n",
              "      <th>y</th>\n",
              "      <td>30</td>\n",
              "      <td>40</td>\n",
              "    </tr>\n",
              "  </tbody>\n",
              "</table>\n",
              "</div>\n",
              "      <button class=\"colab-df-convert\" onclick=\"convertToInteractive('df-552518ab-eb1b-4fa9-8b8d-bc81ba4872a0')\"\n",
              "              title=\"Convert this dataframe to an interactive table.\"\n",
              "              style=\"display:none;\">\n",
              "        \n",
              "  <svg xmlns=\"http://www.w3.org/2000/svg\" height=\"24px\"viewBox=\"0 0 24 24\"\n",
              "       width=\"24px\">\n",
              "    <path d=\"M0 0h24v24H0V0z\" fill=\"none\"/>\n",
              "    <path d=\"M18.56 5.44l.94 2.06.94-2.06 2.06-.94-2.06-.94-.94-2.06-.94 2.06-2.06.94zm-11 1L8.5 8.5l.94-2.06 2.06-.94-2.06-.94L8.5 2.5l-.94 2.06-2.06.94zm10 10l.94 2.06.94-2.06 2.06-.94-2.06-.94-.94-2.06-.94 2.06-2.06.94z\"/><path d=\"M17.41 7.96l-1.37-1.37c-.4-.4-.92-.59-1.43-.59-.52 0-1.04.2-1.43.59L10.3 9.45l-7.72 7.72c-.78.78-.78 2.05 0 2.83L4 21.41c.39.39.9.59 1.41.59.51 0 1.02-.2 1.41-.59l7.78-7.78 2.81-2.81c.8-.78.8-2.07 0-2.86zM5.41 20L4 18.59l7.72-7.72 1.47 1.35L5.41 20z\"/>\n",
              "  </svg>\n",
              "      </button>\n",
              "      \n",
              "  <style>\n",
              "    .colab-df-container {\n",
              "      display:flex;\n",
              "      flex-wrap:wrap;\n",
              "      gap: 12px;\n",
              "    }\n",
              "\n",
              "    .colab-df-convert {\n",
              "      background-color: #E8F0FE;\n",
              "      border: none;\n",
              "      border-radius: 50%;\n",
              "      cursor: pointer;\n",
              "      display: none;\n",
              "      fill: #1967D2;\n",
              "      height: 32px;\n",
              "      padding: 0 0 0 0;\n",
              "      width: 32px;\n",
              "    }\n",
              "\n",
              "    .colab-df-convert:hover {\n",
              "      background-color: #E2EBFA;\n",
              "      box-shadow: 0px 1px 2px rgba(60, 64, 67, 0.3), 0px 1px 3px 1px rgba(60, 64, 67, 0.15);\n",
              "      fill: #174EA6;\n",
              "    }\n",
              "\n",
              "    [theme=dark] .colab-df-convert {\n",
              "      background-color: #3B4455;\n",
              "      fill: #D2E3FC;\n",
              "    }\n",
              "\n",
              "    [theme=dark] .colab-df-convert:hover {\n",
              "      background-color: #434B5C;\n",
              "      box-shadow: 0px 1px 3px 1px rgba(0, 0, 0, 0.15);\n",
              "      filter: drop-shadow(0px 1px 2px rgba(0, 0, 0, 0.3));\n",
              "      fill: #FFFFFF;\n",
              "    }\n",
              "  </style>\n",
              "\n",
              "      <script>\n",
              "        const buttonEl =\n",
              "          document.querySelector('#df-552518ab-eb1b-4fa9-8b8d-bc81ba4872a0 button.colab-df-convert');\n",
              "        buttonEl.style.display =\n",
              "          google.colab.kernel.accessAllowed ? 'block' : 'none';\n",
              "\n",
              "        async function convertToInteractive(key) {\n",
              "          const element = document.querySelector('#df-552518ab-eb1b-4fa9-8b8d-bc81ba4872a0');\n",
              "          const dataTable =\n",
              "            await google.colab.kernel.invokeFunction('convertToInteractive',\n",
              "                                                     [key], {});\n",
              "          if (!dataTable) return;\n",
              "\n",
              "          const docLinkHtml = 'Like what you see? Visit the ' +\n",
              "            '<a target=\"_blank\" href=https://colab.research.google.com/notebooks/data_table.ipynb>data table notebook</a>'\n",
              "            + ' to learn more about interactive tables.';\n",
              "          element.innerHTML = '';\n",
              "          dataTable['output_type'] = 'display_data';\n",
              "          await google.colab.output.renderOutput(dataTable, element);\n",
              "          const docLink = document.createElement('div');\n",
              "          docLink.innerHTML = docLinkHtml;\n",
              "          element.appendChild(docLink);\n",
              "        }\n",
              "      </script>\n",
              "    </div>\n",
              "  </div>\n",
              "  "
            ]
          },
          "metadata": {},
          "execution_count": 10
        }
      ],
      "source": [
        "z = [\n",
        "     [10,20],\n",
        "     [30,40],\n",
        "]\n",
        "idx = ['x', 'y']\n",
        "col = ['a', 'b']\n",
        "df = DataFrame(data= z, index=idx, columns = col)\n",
        "df"
      ]
    },
    {
      "cell_type": "markdown",
      "metadata": {
        "id": "Y68K8nG1s84R"
      },
      "source": [
        "세 가지 방식 모두 동일한 데이터프레임 객체를 생성합니다. 원본 데이터가 저장된 형태에 따라 적합한 데이터프레임 생성 방식을 사용하면 됩니다. "
      ]
    },
    {
      "cell_type": "markdown",
      "metadata": {
        "id": "pjWX4JKms84R"
      },
      "source": [
        "----\n",
        "\n",
        "보통 데이터는 웹에서 가져오거나 엑셀에서 저장돼 있습니다. 데이터 프레임은 엑셀이나 웹에서 값을 얻어오는 메서드를 제공하기 때문에 처음부터 데이터 프레임을 만들일은 생각보다 많지 않습니다. "
      ]
    },
    {
      "cell_type": "code",
      "source": [
        "# scrapping : url을 통해 웹에 있는 데이터를 갖고 오기\n",
        "import pandas as pd\n",
        "url = \"https://finance.naver.com/sise/lastsearch2.nhn\"  # 한글이라서 encoding해야 함\n",
        "dfs = pd.read_html(url)  #리스트 형태로 데이터를 수집해서 반환(테이블 형태의 값만 가져올 수 있음)\n",
        "print(type(dfs))\n",
        "dfs[0]"
      ],
      "metadata": {
        "colab": {
          "base_uri": "https://localhost:8080/",
          "height": 224
        },
        "id": "d52d_qSuwTDt",
        "outputId": "f41ed51d-1c70-4bc7-81e9-95267d62a27a"
      },
      "execution_count": null,
      "outputs": [
        {
          "output_type": "stream",
          "name": "stdout",
          "text": [
            "<class 'list'>\n"
          ]
        },
        {
          "output_type": "execute_result",
          "data": {
            "text/plain": [
              "        0           1                 2             3                 4  \\\n",
              "0  °Å·¡·®    ¸Å¼öÈ£°¡    °Å·¡´ë±Ý(¹é¸¸)  ½Ã°¡ÃÑ¾×(¾ï)      ¿µ¾÷ÀÌÀÍ(¾ï)   \n",
              "1    ½Ã°¡    ¸ÅµµÈ£°¡        ÀüÀÏ°Å·¡·®  ÀÚ»êÃÑ°è(¾ï)    ¿µ¾÷ÀÌÀÍÁõ°¡À²   \n",
              "2    °í°¡  ¸Å¼öÃÑÀÜ·®        ¿Ü±¹ÀÎºñÀ²  ºÎÃ¤ÃÑ°è(¾ï)    ´ç±â¼øÀÌÀÍ(¾ï)   \n",
              "3    Àú°¡  ¸ÅµµÃÑÀÜ·®  »óÀåÁÖ½Ä¼ö(ÃµÁÖ)    ¸ÅÃâ¾×(¾ï)    ÁÖ´ç¼øÀÌÀÍ(¿ø)   \n",
              "4     NaN         NaN               NaN  ¸ÅÃâ¾×Áõ°¡À²  º¸ÅëÁÖ¹è´ç±Ý(¿ø)   \n",
              "\n",
              "           5  \n",
              "0    PER(¹è)  \n",
              "1     ROE(%)  \n",
              "2     ROA(%)  \n",
              "3    PBR(¹è)  \n",
              "4  À¯º¸À²(%)  "
            ],
            "text/html": [
              "\n",
              "  <div id=\"df-4a9f3255-5272-4023-a42c-a83c43653301\">\n",
              "    <div class=\"colab-df-container\">\n",
              "      <div>\n",
              "<style scoped>\n",
              "    .dataframe tbody tr th:only-of-type {\n",
              "        vertical-align: middle;\n",
              "    }\n",
              "\n",
              "    .dataframe tbody tr th {\n",
              "        vertical-align: top;\n",
              "    }\n",
              "\n",
              "    .dataframe thead th {\n",
              "        text-align: right;\n",
              "    }\n",
              "</style>\n",
              "<table border=\"1\" class=\"dataframe\">\n",
              "  <thead>\n",
              "    <tr style=\"text-align: right;\">\n",
              "      <th></th>\n",
              "      <th>0</th>\n",
              "      <th>1</th>\n",
              "      <th>2</th>\n",
              "      <th>3</th>\n",
              "      <th>4</th>\n",
              "      <th>5</th>\n",
              "    </tr>\n",
              "  </thead>\n",
              "  <tbody>\n",
              "    <tr>\n",
              "      <th>0</th>\n",
              "      <td>°Å·¡·®</td>\n",
              "      <td>¸Å¼öÈ£°¡</td>\n",
              "      <td>°Å·¡´ë±Ý(¹é¸¸)</td>\n",
              "      <td>½Ã°¡ÃÑ¾×(¾ï)</td>\n",
              "      <td>¿µ¾÷ÀÌÀÍ(¾ï)</td>\n",
              "      <td>PER(¹è)</td>\n",
              "    </tr>\n",
              "    <tr>\n",
              "      <th>1</th>\n",
              "      <td>½Ã°¡</td>\n",
              "      <td>¸ÅµµÈ£°¡</td>\n",
              "      <td>ÀüÀÏ°Å·¡·®</td>\n",
              "      <td>ÀÚ»êÃÑ°è(¾ï)</td>\n",
              "      <td>¿µ¾÷ÀÌÀÍÁõ°¡À²</td>\n",
              "      <td>ROE(%)</td>\n",
              "    </tr>\n",
              "    <tr>\n",
              "      <th>2</th>\n",
              "      <td>°í°¡</td>\n",
              "      <td>¸Å¼öÃÑÀÜ·®</td>\n",
              "      <td>¿Ü±¹ÀÎºñÀ²</td>\n",
              "      <td>ºÎÃ¤ÃÑ°è(¾ï)</td>\n",
              "      <td>´ç±â¼øÀÌÀÍ(¾ï)</td>\n",
              "      <td>ROA(%)</td>\n",
              "    </tr>\n",
              "    <tr>\n",
              "      <th>3</th>\n",
              "      <td>Àú°¡</td>\n",
              "      <td>¸ÅµµÃÑÀÜ·®</td>\n",
              "      <td>»óÀåÁÖ½Ä¼ö(ÃµÁÖ)</td>\n",
              "      <td>¸ÅÃâ¾×(¾ï)</td>\n",
              "      <td>ÁÖ´ç¼øÀÌÀÍ(¿ø)</td>\n",
              "      <td>PBR(¹è)</td>\n",
              "    </tr>\n",
              "    <tr>\n",
              "      <th>4</th>\n",
              "      <td>NaN</td>\n",
              "      <td>NaN</td>\n",
              "      <td>NaN</td>\n",
              "      <td>¸ÅÃâ¾×Áõ°¡À²</td>\n",
              "      <td>º¸ÅëÁÖ¹è´ç±Ý(¿ø)</td>\n",
              "      <td>À¯º¸À²(%)</td>\n",
              "    </tr>\n",
              "  </tbody>\n",
              "</table>\n",
              "</div>\n",
              "      <button class=\"colab-df-convert\" onclick=\"convertToInteractive('df-4a9f3255-5272-4023-a42c-a83c43653301')\"\n",
              "              title=\"Convert this dataframe to an interactive table.\"\n",
              "              style=\"display:none;\">\n",
              "        \n",
              "  <svg xmlns=\"http://www.w3.org/2000/svg\" height=\"24px\"viewBox=\"0 0 24 24\"\n",
              "       width=\"24px\">\n",
              "    <path d=\"M0 0h24v24H0V0z\" fill=\"none\"/>\n",
              "    <path d=\"M18.56 5.44l.94 2.06.94-2.06 2.06-.94-2.06-.94-.94-2.06-.94 2.06-2.06.94zm-11 1L8.5 8.5l.94-2.06 2.06-.94-2.06-.94L8.5 2.5l-.94 2.06-2.06.94zm10 10l.94 2.06.94-2.06 2.06-.94-2.06-.94-.94-2.06-.94 2.06-2.06.94z\"/><path d=\"M17.41 7.96l-1.37-1.37c-.4-.4-.92-.59-1.43-.59-.52 0-1.04.2-1.43.59L10.3 9.45l-7.72 7.72c-.78.78-.78 2.05 0 2.83L4 21.41c.39.39.9.59 1.41.59.51 0 1.02-.2 1.41-.59l7.78-7.78 2.81-2.81c.8-.78.8-2.07 0-2.86zM5.41 20L4 18.59l7.72-7.72 1.47 1.35L5.41 20z\"/>\n",
              "  </svg>\n",
              "      </button>\n",
              "      \n",
              "  <style>\n",
              "    .colab-df-container {\n",
              "      display:flex;\n",
              "      flex-wrap:wrap;\n",
              "      gap: 12px;\n",
              "    }\n",
              "\n",
              "    .colab-df-convert {\n",
              "      background-color: #E8F0FE;\n",
              "      border: none;\n",
              "      border-radius: 50%;\n",
              "      cursor: pointer;\n",
              "      display: none;\n",
              "      fill: #1967D2;\n",
              "      height: 32px;\n",
              "      padding: 0 0 0 0;\n",
              "      width: 32px;\n",
              "    }\n",
              "\n",
              "    .colab-df-convert:hover {\n",
              "      background-color: #E2EBFA;\n",
              "      box-shadow: 0px 1px 2px rgba(60, 64, 67, 0.3), 0px 1px 3px 1px rgba(60, 64, 67, 0.15);\n",
              "      fill: #174EA6;\n",
              "    }\n",
              "\n",
              "    [theme=dark] .colab-df-convert {\n",
              "      background-color: #3B4455;\n",
              "      fill: #D2E3FC;\n",
              "    }\n",
              "\n",
              "    [theme=dark] .colab-df-convert:hover {\n",
              "      background-color: #434B5C;\n",
              "      box-shadow: 0px 1px 3px 1px rgba(0, 0, 0, 0.15);\n",
              "      filter: drop-shadow(0px 1px 2px rgba(0, 0, 0, 0.3));\n",
              "      fill: #FFFFFF;\n",
              "    }\n",
              "  </style>\n",
              "\n",
              "      <script>\n",
              "        const buttonEl =\n",
              "          document.querySelector('#df-4a9f3255-5272-4023-a42c-a83c43653301 button.colab-df-convert');\n",
              "        buttonEl.style.display =\n",
              "          google.colab.kernel.accessAllowed ? 'block' : 'none';\n",
              "\n",
              "        async function convertToInteractive(key) {\n",
              "          const element = document.querySelector('#df-4a9f3255-5272-4023-a42c-a83c43653301');\n",
              "          const dataTable =\n",
              "            await google.colab.kernel.invokeFunction('convertToInteractive',\n",
              "                                                     [key], {});\n",
              "          if (!dataTable) return;\n",
              "\n",
              "          const docLinkHtml = 'Like what you see? Visit the ' +\n",
              "            '<a target=\"_blank\" href=https://colab.research.google.com/notebooks/data_table.ipynb>data table notebook</a>'\n",
              "            + ' to learn more about interactive tables.';\n",
              "          element.innerHTML = '';\n",
              "          dataTable['output_type'] = 'display_data';\n",
              "          await google.colab.output.renderOutput(dataTable, element);\n",
              "          const docLink = document.createElement('div');\n",
              "          docLink.innerHTML = docLinkHtml;\n",
              "          element.appendChild(docLink);\n",
              "        }\n",
              "      </script>\n",
              "    </div>\n",
              "  </div>\n",
              "  "
            ]
          },
          "metadata": {},
          "execution_count": 18
        }
      ]
    },
    {
      "cell_type": "code",
      "source": [
        "# 엑셀 파일읽어오기\n",
        "pd.read_csv(\"/content/sample_data/california_housing_test.csv\") # csv 파일을 읽어서 df으로 반환"
      ],
      "metadata": {
        "colab": {
          "base_uri": "https://localhost:8080/",
          "height": 423
        },
        "id": "zXUZNQ3Qw4Fn",
        "outputId": "2ff4f10c-cf20-49db-b7c2-dcf034e3af88"
      },
      "execution_count": null,
      "outputs": [
        {
          "output_type": "execute_result",
          "data": {
            "text/plain": [
              "      longitude  latitude  housing_median_age  total_rooms  total_bedrooms  \\\n",
              "0       -122.05     37.37                27.0       3885.0           661.0   \n",
              "1       -118.30     34.26                43.0       1510.0           310.0   \n",
              "2       -117.81     33.78                27.0       3589.0           507.0   \n",
              "3       -118.36     33.82                28.0         67.0            15.0   \n",
              "4       -119.67     36.33                19.0       1241.0           244.0   \n",
              "...         ...       ...                 ...          ...             ...   \n",
              "2995    -119.86     34.42                23.0       1450.0           642.0   \n",
              "2996    -118.14     34.06                27.0       5257.0          1082.0   \n",
              "2997    -119.70     36.30                10.0        956.0           201.0   \n",
              "2998    -117.12     34.10                40.0         96.0            14.0   \n",
              "2999    -119.63     34.42                42.0       1765.0           263.0   \n",
              "\n",
              "      population  households  median_income  median_house_value  \n",
              "0         1537.0       606.0         6.6085            344700.0  \n",
              "1          809.0       277.0         3.5990            176500.0  \n",
              "2         1484.0       495.0         5.7934            270500.0  \n",
              "3           49.0        11.0         6.1359            330000.0  \n",
              "4          850.0       237.0         2.9375             81700.0  \n",
              "...          ...         ...            ...                 ...  \n",
              "2995      1258.0       607.0         1.1790            225000.0  \n",
              "2996      3496.0      1036.0         3.3906            237200.0  \n",
              "2997       693.0       220.0         2.2895             62000.0  \n",
              "2998        46.0        14.0         3.2708            162500.0  \n",
              "2999       753.0       260.0         8.5608            500001.0  \n",
              "\n",
              "[3000 rows x 9 columns]"
            ],
            "text/html": [
              "\n",
              "  <div id=\"df-8d8628e6-fcd5-44bf-bfc9-8795df77d078\">\n",
              "    <div class=\"colab-df-container\">\n",
              "      <div>\n",
              "<style scoped>\n",
              "    .dataframe tbody tr th:only-of-type {\n",
              "        vertical-align: middle;\n",
              "    }\n",
              "\n",
              "    .dataframe tbody tr th {\n",
              "        vertical-align: top;\n",
              "    }\n",
              "\n",
              "    .dataframe thead th {\n",
              "        text-align: right;\n",
              "    }\n",
              "</style>\n",
              "<table border=\"1\" class=\"dataframe\">\n",
              "  <thead>\n",
              "    <tr style=\"text-align: right;\">\n",
              "      <th></th>\n",
              "      <th>longitude</th>\n",
              "      <th>latitude</th>\n",
              "      <th>housing_median_age</th>\n",
              "      <th>total_rooms</th>\n",
              "      <th>total_bedrooms</th>\n",
              "      <th>population</th>\n",
              "      <th>households</th>\n",
              "      <th>median_income</th>\n",
              "      <th>median_house_value</th>\n",
              "    </tr>\n",
              "  </thead>\n",
              "  <tbody>\n",
              "    <tr>\n",
              "      <th>0</th>\n",
              "      <td>-122.05</td>\n",
              "      <td>37.37</td>\n",
              "      <td>27.0</td>\n",
              "      <td>3885.0</td>\n",
              "      <td>661.0</td>\n",
              "      <td>1537.0</td>\n",
              "      <td>606.0</td>\n",
              "      <td>6.6085</td>\n",
              "      <td>344700.0</td>\n",
              "    </tr>\n",
              "    <tr>\n",
              "      <th>1</th>\n",
              "      <td>-118.30</td>\n",
              "      <td>34.26</td>\n",
              "      <td>43.0</td>\n",
              "      <td>1510.0</td>\n",
              "      <td>310.0</td>\n",
              "      <td>809.0</td>\n",
              "      <td>277.0</td>\n",
              "      <td>3.5990</td>\n",
              "      <td>176500.0</td>\n",
              "    </tr>\n",
              "    <tr>\n",
              "      <th>2</th>\n",
              "      <td>-117.81</td>\n",
              "      <td>33.78</td>\n",
              "      <td>27.0</td>\n",
              "      <td>3589.0</td>\n",
              "      <td>507.0</td>\n",
              "      <td>1484.0</td>\n",
              "      <td>495.0</td>\n",
              "      <td>5.7934</td>\n",
              "      <td>270500.0</td>\n",
              "    </tr>\n",
              "    <tr>\n",
              "      <th>3</th>\n",
              "      <td>-118.36</td>\n",
              "      <td>33.82</td>\n",
              "      <td>28.0</td>\n",
              "      <td>67.0</td>\n",
              "      <td>15.0</td>\n",
              "      <td>49.0</td>\n",
              "      <td>11.0</td>\n",
              "      <td>6.1359</td>\n",
              "      <td>330000.0</td>\n",
              "    </tr>\n",
              "    <tr>\n",
              "      <th>4</th>\n",
              "      <td>-119.67</td>\n",
              "      <td>36.33</td>\n",
              "      <td>19.0</td>\n",
              "      <td>1241.0</td>\n",
              "      <td>244.0</td>\n",
              "      <td>850.0</td>\n",
              "      <td>237.0</td>\n",
              "      <td>2.9375</td>\n",
              "      <td>81700.0</td>\n",
              "    </tr>\n",
              "    <tr>\n",
              "      <th>...</th>\n",
              "      <td>...</td>\n",
              "      <td>...</td>\n",
              "      <td>...</td>\n",
              "      <td>...</td>\n",
              "      <td>...</td>\n",
              "      <td>...</td>\n",
              "      <td>...</td>\n",
              "      <td>...</td>\n",
              "      <td>...</td>\n",
              "    </tr>\n",
              "    <tr>\n",
              "      <th>2995</th>\n",
              "      <td>-119.86</td>\n",
              "      <td>34.42</td>\n",
              "      <td>23.0</td>\n",
              "      <td>1450.0</td>\n",
              "      <td>642.0</td>\n",
              "      <td>1258.0</td>\n",
              "      <td>607.0</td>\n",
              "      <td>1.1790</td>\n",
              "      <td>225000.0</td>\n",
              "    </tr>\n",
              "    <tr>\n",
              "      <th>2996</th>\n",
              "      <td>-118.14</td>\n",
              "      <td>34.06</td>\n",
              "      <td>27.0</td>\n",
              "      <td>5257.0</td>\n",
              "      <td>1082.0</td>\n",
              "      <td>3496.0</td>\n",
              "      <td>1036.0</td>\n",
              "      <td>3.3906</td>\n",
              "      <td>237200.0</td>\n",
              "    </tr>\n",
              "    <tr>\n",
              "      <th>2997</th>\n",
              "      <td>-119.70</td>\n",
              "      <td>36.30</td>\n",
              "      <td>10.0</td>\n",
              "      <td>956.0</td>\n",
              "      <td>201.0</td>\n",
              "      <td>693.0</td>\n",
              "      <td>220.0</td>\n",
              "      <td>2.2895</td>\n",
              "      <td>62000.0</td>\n",
              "    </tr>\n",
              "    <tr>\n",
              "      <th>2998</th>\n",
              "      <td>-117.12</td>\n",
              "      <td>34.10</td>\n",
              "      <td>40.0</td>\n",
              "      <td>96.0</td>\n",
              "      <td>14.0</td>\n",
              "      <td>46.0</td>\n",
              "      <td>14.0</td>\n",
              "      <td>3.2708</td>\n",
              "      <td>162500.0</td>\n",
              "    </tr>\n",
              "    <tr>\n",
              "      <th>2999</th>\n",
              "      <td>-119.63</td>\n",
              "      <td>34.42</td>\n",
              "      <td>42.0</td>\n",
              "      <td>1765.0</td>\n",
              "      <td>263.0</td>\n",
              "      <td>753.0</td>\n",
              "      <td>260.0</td>\n",
              "      <td>8.5608</td>\n",
              "      <td>500001.0</td>\n",
              "    </tr>\n",
              "  </tbody>\n",
              "</table>\n",
              "<p>3000 rows × 9 columns</p>\n",
              "</div>\n",
              "      <button class=\"colab-df-convert\" onclick=\"convertToInteractive('df-8d8628e6-fcd5-44bf-bfc9-8795df77d078')\"\n",
              "              title=\"Convert this dataframe to an interactive table.\"\n",
              "              style=\"display:none;\">\n",
              "        \n",
              "  <svg xmlns=\"http://www.w3.org/2000/svg\" height=\"24px\"viewBox=\"0 0 24 24\"\n",
              "       width=\"24px\">\n",
              "    <path d=\"M0 0h24v24H0V0z\" fill=\"none\"/>\n",
              "    <path d=\"M18.56 5.44l.94 2.06.94-2.06 2.06-.94-2.06-.94-.94-2.06-.94 2.06-2.06.94zm-11 1L8.5 8.5l.94-2.06 2.06-.94-2.06-.94L8.5 2.5l-.94 2.06-2.06.94zm10 10l.94 2.06.94-2.06 2.06-.94-2.06-.94-.94-2.06-.94 2.06-2.06.94z\"/><path d=\"M17.41 7.96l-1.37-1.37c-.4-.4-.92-.59-1.43-.59-.52 0-1.04.2-1.43.59L10.3 9.45l-7.72 7.72c-.78.78-.78 2.05 0 2.83L4 21.41c.39.39.9.59 1.41.59.51 0 1.02-.2 1.41-.59l7.78-7.78 2.81-2.81c.8-.78.8-2.07 0-2.86zM5.41 20L4 18.59l7.72-7.72 1.47 1.35L5.41 20z\"/>\n",
              "  </svg>\n",
              "      </button>\n",
              "      \n",
              "  <style>\n",
              "    .colab-df-container {\n",
              "      display:flex;\n",
              "      flex-wrap:wrap;\n",
              "      gap: 12px;\n",
              "    }\n",
              "\n",
              "    .colab-df-convert {\n",
              "      background-color: #E8F0FE;\n",
              "      border: none;\n",
              "      border-radius: 50%;\n",
              "      cursor: pointer;\n",
              "      display: none;\n",
              "      fill: #1967D2;\n",
              "      height: 32px;\n",
              "      padding: 0 0 0 0;\n",
              "      width: 32px;\n",
              "    }\n",
              "\n",
              "    .colab-df-convert:hover {\n",
              "      background-color: #E2EBFA;\n",
              "      box-shadow: 0px 1px 2px rgba(60, 64, 67, 0.3), 0px 1px 3px 1px rgba(60, 64, 67, 0.15);\n",
              "      fill: #174EA6;\n",
              "    }\n",
              "\n",
              "    [theme=dark] .colab-df-convert {\n",
              "      background-color: #3B4455;\n",
              "      fill: #D2E3FC;\n",
              "    }\n",
              "\n",
              "    [theme=dark] .colab-df-convert:hover {\n",
              "      background-color: #434B5C;\n",
              "      box-shadow: 0px 1px 3px 1px rgba(0, 0, 0, 0.15);\n",
              "      filter: drop-shadow(0px 1px 2px rgba(0, 0, 0, 0.3));\n",
              "      fill: #FFFFFF;\n",
              "    }\n",
              "  </style>\n",
              "\n",
              "      <script>\n",
              "        const buttonEl =\n",
              "          document.querySelector('#df-8d8628e6-fcd5-44bf-bfc9-8795df77d078 button.colab-df-convert');\n",
              "        buttonEl.style.display =\n",
              "          google.colab.kernel.accessAllowed ? 'block' : 'none';\n",
              "\n",
              "        async function convertToInteractive(key) {\n",
              "          const element = document.querySelector('#df-8d8628e6-fcd5-44bf-bfc9-8795df77d078');\n",
              "          const dataTable =\n",
              "            await google.colab.kernel.invokeFunction('convertToInteractive',\n",
              "                                                     [key], {});\n",
              "          if (!dataTable) return;\n",
              "\n",
              "          const docLinkHtml = 'Like what you see? Visit the ' +\n",
              "            '<a target=\"_blank\" href=https://colab.research.google.com/notebooks/data_table.ipynb>data table notebook</a>'\n",
              "            + ' to learn more about interactive tables.';\n",
              "          element.innerHTML = '';\n",
              "          dataTable['output_type'] = 'display_data';\n",
              "          await google.colab.output.renderOutput(dataTable, element);\n",
              "          const docLink = document.createElement('div');\n",
              "          docLink.innerHTML = docLinkHtml;\n",
              "          element.appendChild(docLink);\n",
              "        }\n",
              "      </script>\n",
              "    </div>\n",
              "  </div>\n",
              "  "
            ]
          },
          "metadata": {},
          "execution_count": 12
        }
      ]
    },
    {
      "cell_type": "markdown",
      "metadata": {
        "id": "fqm0j3-Qs84R"
      },
      "source": [
        "## 데이터 프레임의 구조"
      ]
    },
    {
      "cell_type": "markdown",
      "metadata": {
        "id": "X9gPwXbfs84R"
      },
      "source": [
        "데이터프레임의 각 컬럼은 시리즈이며 같은 인덱스를 갖는 시리즈가 모여 하나의 데이터 프레임을 구성합니다. "
      ]
    },
    {
      "cell_type": "markdown",
      "metadata": {
        "id": "aYUhsXGcs84R"
      },
      "source": [
        "<img src=\"https://i.ibb.co/Xx2rtYB/pandas-0-1.png\" width=\"600\" style=\"float:left\" />"
      ]
    },
    {
      "cell_type": "markdown",
      "metadata": {
        "id": "ryEeHWUes84S"
      },
      "source": [
        "데이터 프레임은 다음과 같이 시가/고가/저가/종가 네 개의 시리즈로 구분할 수 있습니다. "
      ]
    },
    {
      "cell_type": "markdown",
      "metadata": {
        "id": "Yp8Yluebs84S"
      },
      "source": [
        "<img src=\"https://i.ibb.co/x6RMmHV/pandas-0-2.png\" width=\"600\" style=\"float:left\" />"
      ]
    },
    {
      "cell_type": "markdown",
      "metadata": {
        "id": "7mu1sSr0s84S"
      },
      "source": [
        "혹은 데이터프레임의 각 로우(row)는 시리즈이며 네 개의 시리즈로 구성됐다고 해석할 수 있습니다."
      ]
    },
    {
      "cell_type": "markdown",
      "metadata": {
        "id": "AMaAc0jWs84S"
      },
      "source": [
        "<img src=\"https://i.ibb.co/GpLVrCS/pandas-0-3.png\" width=\"600\" style=\"float:left\" />\n",
        "- 1. 동일한 인덱스를 갖는 column 시리즈 4개가 concat된 것\n",
        "- 2. 하나의 행을 회전하면 하나의 시리즈처럼 만들 수 있다(시가, 고가, 저가, 종가를 인덱스로 하는 4개의 시리즈가 concat된 것)\n",
        "-> df은 여러 개의 시리즈가 한 데 모여 있는 것"
      ]
    },
    {
      "cell_type": "markdown",
      "metadata": {
        "id": "NnBIVG3ps84T"
      },
      "source": [
        "이번에는 시가/고가/저가/종가의 인덱스를 갖는 네 개의 시리즈를 확인할 수 있습니다. "
      ]
    },
    {
      "cell_type": "markdown",
      "metadata": {
        "id": "rHPcalCMs84T"
      },
      "source": [
        "<img src=\"https://i.ibb.co/PGMNKH9/pandas-0-4.png\" width=\"600\" style=\"float:left\" />"
      ]
    },
    {
      "cell_type": "markdown",
      "metadata": {
        "id": "OYHoVn-1s84T"
      },
      "source": [
        "Q. 다음 선택된 시리즈의 인덱스는 무엇인가?"
      ]
    },
    {
      "cell_type": "markdown",
      "metadata": {
        "id": "c9jpKKcEs84T"
      },
      "source": [
        "<img src=\"https://i.ibb.co/3RP6LMC/pandas-0-5.png\" width=\"400\" style=\"float:left\" />"
      ]
    },
    {
      "cell_type": "markdown",
      "metadata": {
        "id": "XHC5WPOPs84T"
      },
      "source": [
        "## 데이터프레임과 인덱싱"
      ]
    },
    {
      "cell_type": "markdown",
      "metadata": {
        "id": "8MohT363s84T"
      },
      "source": [
        "데이터프레임은 2차원 자료를 저장하기 때문에 로우 혹은 컬럼 단위로 데이터를 가져올 수 있습니다. 다음의 데이터프레임을 사용해서 인덱싱을 연습해 봅시다."
      ]
    },
    {
      "cell_type": "code",
      "execution_count": null,
      "metadata": {
        "id": "d7lsyHPSs84T",
        "outputId": "560a659e-6a39-4a2e-e68c-1b2f3541400b",
        "colab": {
          "base_uri": "https://localhost:8080/",
          "height": 174
        }
      },
      "outputs": [
        {
          "output_type": "execute_result",
          "data": {
            "text/plain": [
              "           시가   고가  저가   종가\n",
              "20200615  100  110  90  105\n",
              "20200616   90  112  80   95\n",
              "20200617   80  115  70   85\n",
              "20200618   70   80  60   75"
            ],
            "text/html": [
              "\n",
              "  <div id=\"df-b51f2395-2fa4-43df-b81c-a96ce086d413\">\n",
              "    <div class=\"colab-df-container\">\n",
              "      <div>\n",
              "<style scoped>\n",
              "    .dataframe tbody tr th:only-of-type {\n",
              "        vertical-align: middle;\n",
              "    }\n",
              "\n",
              "    .dataframe tbody tr th {\n",
              "        vertical-align: top;\n",
              "    }\n",
              "\n",
              "    .dataframe thead th {\n",
              "        text-align: right;\n",
              "    }\n",
              "</style>\n",
              "<table border=\"1\" class=\"dataframe\">\n",
              "  <thead>\n",
              "    <tr style=\"text-align: right;\">\n",
              "      <th></th>\n",
              "      <th>시가</th>\n",
              "      <th>고가</th>\n",
              "      <th>저가</th>\n",
              "      <th>종가</th>\n",
              "    </tr>\n",
              "  </thead>\n",
              "  <tbody>\n",
              "    <tr>\n",
              "      <th>20200615</th>\n",
              "      <td>100</td>\n",
              "      <td>110</td>\n",
              "      <td>90</td>\n",
              "      <td>105</td>\n",
              "    </tr>\n",
              "    <tr>\n",
              "      <th>20200616</th>\n",
              "      <td>90</td>\n",
              "      <td>112</td>\n",
              "      <td>80</td>\n",
              "      <td>95</td>\n",
              "    </tr>\n",
              "    <tr>\n",
              "      <th>20200617</th>\n",
              "      <td>80</td>\n",
              "      <td>115</td>\n",
              "      <td>70</td>\n",
              "      <td>85</td>\n",
              "    </tr>\n",
              "    <tr>\n",
              "      <th>20200618</th>\n",
              "      <td>70</td>\n",
              "      <td>80</td>\n",
              "      <td>60</td>\n",
              "      <td>75</td>\n",
              "    </tr>\n",
              "  </tbody>\n",
              "</table>\n",
              "</div>\n",
              "      <button class=\"colab-df-convert\" onclick=\"convertToInteractive('df-b51f2395-2fa4-43df-b81c-a96ce086d413')\"\n",
              "              title=\"Convert this dataframe to an interactive table.\"\n",
              "              style=\"display:none;\">\n",
              "        \n",
              "  <svg xmlns=\"http://www.w3.org/2000/svg\" height=\"24px\"viewBox=\"0 0 24 24\"\n",
              "       width=\"24px\">\n",
              "    <path d=\"M0 0h24v24H0V0z\" fill=\"none\"/>\n",
              "    <path d=\"M18.56 5.44l.94 2.06.94-2.06 2.06-.94-2.06-.94-.94-2.06-.94 2.06-2.06.94zm-11 1L8.5 8.5l.94-2.06 2.06-.94-2.06-.94L8.5 2.5l-.94 2.06-2.06.94zm10 10l.94 2.06.94-2.06 2.06-.94-2.06-.94-.94-2.06-.94 2.06-2.06.94z\"/><path d=\"M17.41 7.96l-1.37-1.37c-.4-.4-.92-.59-1.43-.59-.52 0-1.04.2-1.43.59L10.3 9.45l-7.72 7.72c-.78.78-.78 2.05 0 2.83L4 21.41c.39.39.9.59 1.41.59.51 0 1.02-.2 1.41-.59l7.78-7.78 2.81-2.81c.8-.78.8-2.07 0-2.86zM5.41 20L4 18.59l7.72-7.72 1.47 1.35L5.41 20z\"/>\n",
              "  </svg>\n",
              "      </button>\n",
              "      \n",
              "  <style>\n",
              "    .colab-df-container {\n",
              "      display:flex;\n",
              "      flex-wrap:wrap;\n",
              "      gap: 12px;\n",
              "    }\n",
              "\n",
              "    .colab-df-convert {\n",
              "      background-color: #E8F0FE;\n",
              "      border: none;\n",
              "      border-radius: 50%;\n",
              "      cursor: pointer;\n",
              "      display: none;\n",
              "      fill: #1967D2;\n",
              "      height: 32px;\n",
              "      padding: 0 0 0 0;\n",
              "      width: 32px;\n",
              "    }\n",
              "\n",
              "    .colab-df-convert:hover {\n",
              "      background-color: #E2EBFA;\n",
              "      box-shadow: 0px 1px 2px rgba(60, 64, 67, 0.3), 0px 1px 3px 1px rgba(60, 64, 67, 0.15);\n",
              "      fill: #174EA6;\n",
              "    }\n",
              "\n",
              "    [theme=dark] .colab-df-convert {\n",
              "      background-color: #3B4455;\n",
              "      fill: #D2E3FC;\n",
              "    }\n",
              "\n",
              "    [theme=dark] .colab-df-convert:hover {\n",
              "      background-color: #434B5C;\n",
              "      box-shadow: 0px 1px 3px 1px rgba(0, 0, 0, 0.15);\n",
              "      filter: drop-shadow(0px 1px 2px rgba(0, 0, 0, 0.3));\n",
              "      fill: #FFFFFF;\n",
              "    }\n",
              "  </style>\n",
              "\n",
              "      <script>\n",
              "        const buttonEl =\n",
              "          document.querySelector('#df-b51f2395-2fa4-43df-b81c-a96ce086d413 button.colab-df-convert');\n",
              "        buttonEl.style.display =\n",
              "          google.colab.kernel.accessAllowed ? 'block' : 'none';\n",
              "\n",
              "        async function convertToInteractive(key) {\n",
              "          const element = document.querySelector('#df-b51f2395-2fa4-43df-b81c-a96ce086d413');\n",
              "          const dataTable =\n",
              "            await google.colab.kernel.invokeFunction('convertToInteractive',\n",
              "                                                     [key], {});\n",
              "          if (!dataTable) return;\n",
              "\n",
              "          const docLinkHtml = 'Like what you see? Visit the ' +\n",
              "            '<a target=\"_blank\" href=https://colab.research.google.com/notebooks/data_table.ipynb>data table notebook</a>'\n",
              "            + ' to learn more about interactive tables.';\n",
              "          element.innerHTML = '';\n",
              "          dataTable['output_type'] = 'display_data';\n",
              "          await google.colab.output.renderOutput(dataTable, element);\n",
              "          const docLink = document.createElement('div');\n",
              "          docLink.innerHTML = docLinkHtml;\n",
              "          element.appendChild(docLink);\n",
              "        }\n",
              "      </script>\n",
              "    </div>\n",
              "  </div>\n",
              "  "
            ]
          },
          "metadata": {},
          "execution_count": 2
        }
      ],
      "source": [
        "import pandas as pd\n",
        "data = [\n",
        "    {'시가': 100, '고가': 110, '저가': 90, '종가': 105}, \n",
        "    {'시가':  90, '고가': 112, '저가': 80, '종가':  95}, \n",
        "    {'시가':  80, '고가': 115, '저가': 70, '종가':  85}, \n",
        "    {'시가':  70, '고가':  80, '저가': 60, '종가':  75}, \n",
        "]\n",
        "\n",
        "df = pd.DataFrame(data, index=['20200615', '20200616', '20200617', '20200618'])\n",
        "df"
      ]
    },
    {
      "cell_type": "markdown",
      "metadata": {
        "id": "MtqiiLPzs84U"
      },
      "source": [
        "우선 컬럼의 데이터를 가져와 봅시다. 컬럼은 컬럼의 이름(columns)을 사용해서 선택할 수 있습니다. "
      ]
    },
    {
      "cell_type": "code",
      "execution_count": null,
      "metadata": {
        "id": "jnI5Ooeks84U",
        "colab": {
          "base_uri": "https://localhost:8080/"
        },
        "outputId": "e20bc1ad-dfb9-4bb9-8933-fab353152870"
      },
      "outputs": [
        {
          "output_type": "execute_result",
          "data": {
            "text/plain": [
              "20200615    110\n",
              "20200616    112\n",
              "20200617    115\n",
              "20200618     80\n",
              "Name: 고가, dtype: int64"
            ]
          },
          "metadata": {},
          "execution_count": 3
        }
      ],
      "source": [
        "df['고가']   # '고가' column을 가져온다 -> 이 때 인덱스는 (20200615...)   -> 동일한 인덱스를 갖는 4개의 시리즈가 한데 모인 df\n",
        "# df에서 대괄호를 사용 = column의 데이터를 갖고 오겠다."
      ]
    },
    {
      "cell_type": "markdown",
      "metadata": {
        "id": "ohQr0buUs84U"
      },
      "source": [
        "`ndarray`에서 사용해 본 것과 같이 연속하지 않은 컬럼을 선택할 수도 있습니다."
      ]
    },
    {
      "cell_type": "code",
      "execution_count": null,
      "metadata": {
        "id": "S8YQ7nyMs84V",
        "colab": {
          "base_uri": "https://localhost:8080/",
          "height": 174
        },
        "outputId": "74779d64-e8f8-4e14-e033-2c0e424116c4"
      },
      "outputs": [
        {
          "output_type": "execute_result",
          "data": {
            "text/plain": [
              "           고가   종가\n",
              "20200615  110  105\n",
              "20200616  112   95\n",
              "20200617  115   85\n",
              "20200618   80   75"
            ],
            "text/html": [
              "\n",
              "  <div id=\"df-c48f3b71-66c3-4ade-ad86-ea58c473f7d3\">\n",
              "    <div class=\"colab-df-container\">\n",
              "      <div>\n",
              "<style scoped>\n",
              "    .dataframe tbody tr th:only-of-type {\n",
              "        vertical-align: middle;\n",
              "    }\n",
              "\n",
              "    .dataframe tbody tr th {\n",
              "        vertical-align: top;\n",
              "    }\n",
              "\n",
              "    .dataframe thead th {\n",
              "        text-align: right;\n",
              "    }\n",
              "</style>\n",
              "<table border=\"1\" class=\"dataframe\">\n",
              "  <thead>\n",
              "    <tr style=\"text-align: right;\">\n",
              "      <th></th>\n",
              "      <th>고가</th>\n",
              "      <th>종가</th>\n",
              "    </tr>\n",
              "  </thead>\n",
              "  <tbody>\n",
              "    <tr>\n",
              "      <th>20200615</th>\n",
              "      <td>110</td>\n",
              "      <td>105</td>\n",
              "    </tr>\n",
              "    <tr>\n",
              "      <th>20200616</th>\n",
              "      <td>112</td>\n",
              "      <td>95</td>\n",
              "    </tr>\n",
              "    <tr>\n",
              "      <th>20200617</th>\n",
              "      <td>115</td>\n",
              "      <td>85</td>\n",
              "    </tr>\n",
              "    <tr>\n",
              "      <th>20200618</th>\n",
              "      <td>80</td>\n",
              "      <td>75</td>\n",
              "    </tr>\n",
              "  </tbody>\n",
              "</table>\n",
              "</div>\n",
              "      <button class=\"colab-df-convert\" onclick=\"convertToInteractive('df-c48f3b71-66c3-4ade-ad86-ea58c473f7d3')\"\n",
              "              title=\"Convert this dataframe to an interactive table.\"\n",
              "              style=\"display:none;\">\n",
              "        \n",
              "  <svg xmlns=\"http://www.w3.org/2000/svg\" height=\"24px\"viewBox=\"0 0 24 24\"\n",
              "       width=\"24px\">\n",
              "    <path d=\"M0 0h24v24H0V0z\" fill=\"none\"/>\n",
              "    <path d=\"M18.56 5.44l.94 2.06.94-2.06 2.06-.94-2.06-.94-.94-2.06-.94 2.06-2.06.94zm-11 1L8.5 8.5l.94-2.06 2.06-.94-2.06-.94L8.5 2.5l-.94 2.06-2.06.94zm10 10l.94 2.06.94-2.06 2.06-.94-2.06-.94-.94-2.06-.94 2.06-2.06.94z\"/><path d=\"M17.41 7.96l-1.37-1.37c-.4-.4-.92-.59-1.43-.59-.52 0-1.04.2-1.43.59L10.3 9.45l-7.72 7.72c-.78.78-.78 2.05 0 2.83L4 21.41c.39.39.9.59 1.41.59.51 0 1.02-.2 1.41-.59l7.78-7.78 2.81-2.81c.8-.78.8-2.07 0-2.86zM5.41 20L4 18.59l7.72-7.72 1.47 1.35L5.41 20z\"/>\n",
              "  </svg>\n",
              "      </button>\n",
              "      \n",
              "  <style>\n",
              "    .colab-df-container {\n",
              "      display:flex;\n",
              "      flex-wrap:wrap;\n",
              "      gap: 12px;\n",
              "    }\n",
              "\n",
              "    .colab-df-convert {\n",
              "      background-color: #E8F0FE;\n",
              "      border: none;\n",
              "      border-radius: 50%;\n",
              "      cursor: pointer;\n",
              "      display: none;\n",
              "      fill: #1967D2;\n",
              "      height: 32px;\n",
              "      padding: 0 0 0 0;\n",
              "      width: 32px;\n",
              "    }\n",
              "\n",
              "    .colab-df-convert:hover {\n",
              "      background-color: #E2EBFA;\n",
              "      box-shadow: 0px 1px 2px rgba(60, 64, 67, 0.3), 0px 1px 3px 1px rgba(60, 64, 67, 0.15);\n",
              "      fill: #174EA6;\n",
              "    }\n",
              "\n",
              "    [theme=dark] .colab-df-convert {\n",
              "      background-color: #3B4455;\n",
              "      fill: #D2E3FC;\n",
              "    }\n",
              "\n",
              "    [theme=dark] .colab-df-convert:hover {\n",
              "      background-color: #434B5C;\n",
              "      box-shadow: 0px 1px 3px 1px rgba(0, 0, 0, 0.15);\n",
              "      filter: drop-shadow(0px 1px 2px rgba(0, 0, 0, 0.3));\n",
              "      fill: #FFFFFF;\n",
              "    }\n",
              "  </style>\n",
              "\n",
              "      <script>\n",
              "        const buttonEl =\n",
              "          document.querySelector('#df-c48f3b71-66c3-4ade-ad86-ea58c473f7d3 button.colab-df-convert');\n",
              "        buttonEl.style.display =\n",
              "          google.colab.kernel.accessAllowed ? 'block' : 'none';\n",
              "\n",
              "        async function convertToInteractive(key) {\n",
              "          const element = document.querySelector('#df-c48f3b71-66c3-4ade-ad86-ea58c473f7d3');\n",
              "          const dataTable =\n",
              "            await google.colab.kernel.invokeFunction('convertToInteractive',\n",
              "                                                     [key], {});\n",
              "          if (!dataTable) return;\n",
              "\n",
              "          const docLinkHtml = 'Like what you see? Visit the ' +\n",
              "            '<a target=\"_blank\" href=https://colab.research.google.com/notebooks/data_table.ipynb>data table notebook</a>'\n",
              "            + ' to learn more about interactive tables.';\n",
              "          element.innerHTML = '';\n",
              "          dataTable['output_type'] = 'display_data';\n",
              "          await google.colab.output.renderOutput(dataTable, element);\n",
              "          const docLink = document.createElement('div');\n",
              "          docLink.innerHTML = docLinkHtml;\n",
              "          element.appendChild(docLink);\n",
              "        }\n",
              "      </script>\n",
              "    </div>\n",
              "  </div>\n",
              "  "
            ]
          },
          "metadata": {},
          "execution_count": 4
        }
      ],
      "source": [
        "# slicing (df를 slicing하면 df)\n",
        "df['고가':'종가']    # column의 데이터를 갖고 올 때 dataframe은 이 기능을 지원하지 않는다(문법적으로 불가)\n",
        "df[['고가','종가']]  # 1) column의 이름을 직접 지정하기"
      ]
    },
    {
      "cell_type": "code",
      "source": [
        "df.columns[0]"
      ],
      "metadata": {
        "colab": {
          "base_uri": "https://localhost:8080/",
          "height": 35
        },
        "id": "itjF7Ub404vj",
        "outputId": "dc7e024b-b097-42c4-c75a-92574e596889"
      },
      "execution_count": null,
      "outputs": [
        {
          "output_type": "execute_result",
          "data": {
            "text/plain": [
              "'시가'"
            ],
            "application/vnd.google.colaboratory.intrinsic+json": {
              "type": "string"
            }
          },
          "metadata": {},
          "execution_count": 6
        }
      ]
    },
    {
      "cell_type": "code",
      "source": [
        "df.columns[0:2]"
      ],
      "metadata": {
        "colab": {
          "base_uri": "https://localhost:8080/"
        },
        "id": "MsSKpFEt0-rN",
        "outputId": "9203c209-3d80-4a4f-959e-d6ae80fe7753"
      },
      "execution_count": null,
      "outputs": [
        {
          "output_type": "execute_result",
          "data": {
            "text/plain": [
              "Index(['시가', '고가'], dtype='object')"
            ]
          },
          "metadata": {},
          "execution_count": 7
        }
      ]
    },
    {
      "cell_type": "code",
      "source": [
        "# 2) series, ndarray와 같은 slicing하는 방법\n",
        "df[df.columns[0:2]]"
      ],
      "metadata": {
        "colab": {
          "base_uri": "https://localhost:8080/",
          "height": 174
        },
        "id": "3TqJJbc21BES",
        "outputId": "203337f4-7867-40ec-d4a5-6f1775c358a4"
      },
      "execution_count": null,
      "outputs": [
        {
          "output_type": "execute_result",
          "data": {
            "text/plain": [
              "           시가   고가\n",
              "20200615  100  110\n",
              "20200616   90  112\n",
              "20200617   80  115\n",
              "20200618   70   80"
            ],
            "text/html": [
              "\n",
              "  <div id=\"df-1f542f88-32c4-4b6f-aa90-7cd6b0911f29\">\n",
              "    <div class=\"colab-df-container\">\n",
              "      <div>\n",
              "<style scoped>\n",
              "    .dataframe tbody tr th:only-of-type {\n",
              "        vertical-align: middle;\n",
              "    }\n",
              "\n",
              "    .dataframe tbody tr th {\n",
              "        vertical-align: top;\n",
              "    }\n",
              "\n",
              "    .dataframe thead th {\n",
              "        text-align: right;\n",
              "    }\n",
              "</style>\n",
              "<table border=\"1\" class=\"dataframe\">\n",
              "  <thead>\n",
              "    <tr style=\"text-align: right;\">\n",
              "      <th></th>\n",
              "      <th>시가</th>\n",
              "      <th>고가</th>\n",
              "    </tr>\n",
              "  </thead>\n",
              "  <tbody>\n",
              "    <tr>\n",
              "      <th>20200615</th>\n",
              "      <td>100</td>\n",
              "      <td>110</td>\n",
              "    </tr>\n",
              "    <tr>\n",
              "      <th>20200616</th>\n",
              "      <td>90</td>\n",
              "      <td>112</td>\n",
              "    </tr>\n",
              "    <tr>\n",
              "      <th>20200617</th>\n",
              "      <td>80</td>\n",
              "      <td>115</td>\n",
              "    </tr>\n",
              "    <tr>\n",
              "      <th>20200618</th>\n",
              "      <td>70</td>\n",
              "      <td>80</td>\n",
              "    </tr>\n",
              "  </tbody>\n",
              "</table>\n",
              "</div>\n",
              "      <button class=\"colab-df-convert\" onclick=\"convertToInteractive('df-1f542f88-32c4-4b6f-aa90-7cd6b0911f29')\"\n",
              "              title=\"Convert this dataframe to an interactive table.\"\n",
              "              style=\"display:none;\">\n",
              "        \n",
              "  <svg xmlns=\"http://www.w3.org/2000/svg\" height=\"24px\"viewBox=\"0 0 24 24\"\n",
              "       width=\"24px\">\n",
              "    <path d=\"M0 0h24v24H0V0z\" fill=\"none\"/>\n",
              "    <path d=\"M18.56 5.44l.94 2.06.94-2.06 2.06-.94-2.06-.94-.94-2.06-.94 2.06-2.06.94zm-11 1L8.5 8.5l.94-2.06 2.06-.94-2.06-.94L8.5 2.5l-.94 2.06-2.06.94zm10 10l.94 2.06.94-2.06 2.06-.94-2.06-.94-.94-2.06-.94 2.06-2.06.94z\"/><path d=\"M17.41 7.96l-1.37-1.37c-.4-.4-.92-.59-1.43-.59-.52 0-1.04.2-1.43.59L10.3 9.45l-7.72 7.72c-.78.78-.78 2.05 0 2.83L4 21.41c.39.39.9.59 1.41.59.51 0 1.02-.2 1.41-.59l7.78-7.78 2.81-2.81c.8-.78.8-2.07 0-2.86zM5.41 20L4 18.59l7.72-7.72 1.47 1.35L5.41 20z\"/>\n",
              "  </svg>\n",
              "      </button>\n",
              "      \n",
              "  <style>\n",
              "    .colab-df-container {\n",
              "      display:flex;\n",
              "      flex-wrap:wrap;\n",
              "      gap: 12px;\n",
              "    }\n",
              "\n",
              "    .colab-df-convert {\n",
              "      background-color: #E8F0FE;\n",
              "      border: none;\n",
              "      border-radius: 50%;\n",
              "      cursor: pointer;\n",
              "      display: none;\n",
              "      fill: #1967D2;\n",
              "      height: 32px;\n",
              "      padding: 0 0 0 0;\n",
              "      width: 32px;\n",
              "    }\n",
              "\n",
              "    .colab-df-convert:hover {\n",
              "      background-color: #E2EBFA;\n",
              "      box-shadow: 0px 1px 2px rgba(60, 64, 67, 0.3), 0px 1px 3px 1px rgba(60, 64, 67, 0.15);\n",
              "      fill: #174EA6;\n",
              "    }\n",
              "\n",
              "    [theme=dark] .colab-df-convert {\n",
              "      background-color: #3B4455;\n",
              "      fill: #D2E3FC;\n",
              "    }\n",
              "\n",
              "    [theme=dark] .colab-df-convert:hover {\n",
              "      background-color: #434B5C;\n",
              "      box-shadow: 0px 1px 3px 1px rgba(0, 0, 0, 0.15);\n",
              "      filter: drop-shadow(0px 1px 2px rgba(0, 0, 0, 0.3));\n",
              "      fill: #FFFFFF;\n",
              "    }\n",
              "  </style>\n",
              "\n",
              "      <script>\n",
              "        const buttonEl =\n",
              "          document.querySelector('#df-1f542f88-32c4-4b6f-aa90-7cd6b0911f29 button.colab-df-convert');\n",
              "        buttonEl.style.display =\n",
              "          google.colab.kernel.accessAllowed ? 'block' : 'none';\n",
              "\n",
              "        async function convertToInteractive(key) {\n",
              "          const element = document.querySelector('#df-1f542f88-32c4-4b6f-aa90-7cd6b0911f29');\n",
              "          const dataTable =\n",
              "            await google.colab.kernel.invokeFunction('convertToInteractive',\n",
              "                                                     [key], {});\n",
              "          if (!dataTable) return;\n",
              "\n",
              "          const docLinkHtml = 'Like what you see? Visit the ' +\n",
              "            '<a target=\"_blank\" href=https://colab.research.google.com/notebooks/data_table.ipynb>data table notebook</a>'\n",
              "            + ' to learn more about interactive tables.';\n",
              "          element.innerHTML = '';\n",
              "          dataTable['output_type'] = 'display_data';\n",
              "          await google.colab.output.renderOutput(dataTable, element);\n",
              "          const docLink = document.createElement('div');\n",
              "          docLink.innerHTML = docLinkHtml;\n",
              "          element.appendChild(docLink);\n",
              "        }\n",
              "      </script>\n",
              "    </div>\n",
              "  </div>\n",
              "  "
            ]
          },
          "metadata": {},
          "execution_count": 8
        }
      ]
    },
    {
      "cell_type": "markdown",
      "metadata": {
        "id": "oNCt7TI5s84W"
      },
      "source": [
        "로우 데이터는 `iloc`와 `loc`를 사용해서 값을 얻어올 수 있습니다. \n",
        "- df에서 행단위로 선택할 때 : iloc, loc\n",
        "- column 단위로 데이터를 제어할 때 : 대괄호[]와 함꼐 column의 이름 정보를 넣어주기\n",
        "![image.png](data:image/png;base64,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)"
      ]
    },
    {
      "cell_type": "code",
      "execution_count": null,
      "metadata": {
        "id": "jH9-DPurs84W"
      },
      "outputs": [],
      "source": [
        "# 시리즈\n",
        "from pandas import Series\n",
        "s = Series([\"a\",\"b\"], index=[\"x\",\"y\"])\n",
        "print(s.loc['x'])\n",
        "print(s.iloc['-1'])"
      ]
    },
    {
      "cell_type": "code",
      "source": [
        "# df에서 loc, iloc은 행단위로 선택하므로 이 때의 인덱스는 20200615\n",
        "print(df.loc[\"20200615\"])\n",
        "print(df.iloc[0])  "
      ],
      "metadata": {
        "colab": {
          "base_uri": "https://localhost:8080/"
        },
        "id": "qgj_ReZU2U1P",
        "outputId": "1c6fd151-3eb7-4459-b643-cc93a79d2422"
      },
      "execution_count": null,
      "outputs": [
        {
          "output_type": "stream",
          "name": "stdout",
          "text": [
            "시가    100\n",
            "고가    110\n",
            "저가     90\n",
            "종가    105\n",
            "Name: 20200615, dtype: int64\n",
            "시가    100\n",
            "고가    110\n",
            "저가     90\n",
            "종가    105\n",
            "Name: 20200615, dtype: int64\n"
          ]
        }
      ]
    },
    {
      "cell_type": "markdown",
      "metadata": {
        "id": "uTt0Av7Os84W"
      },
      "source": [
        "당연히 연속하지 않은 여러개의 로우도 선택할 수 있습니다."
      ]
    },
    {
      "cell_type": "code",
      "execution_count": null,
      "metadata": {
        "id": "tG1zWwPQs84W",
        "colab": {
          "base_uri": "https://localhost:8080/",
          "height": 112
        },
        "outputId": "6cbb4dae-4b6f-4809-d96b-9997728a6a15"
      },
      "outputs": [
        {
          "output_type": "execute_result",
          "data": {
            "text/plain": [
              "           시가   고가  저가   종가\n",
              "20200618   70   80  60   75\n",
              "20200615  100  110  90  105"
            ],
            "text/html": [
              "\n",
              "  <div id=\"df-9c93c1f7-1cf0-4826-919a-53f926f0c4a3\">\n",
              "    <div class=\"colab-df-container\">\n",
              "      <div>\n",
              "<style scoped>\n",
              "    .dataframe tbody tr th:only-of-type {\n",
              "        vertical-align: middle;\n",
              "    }\n",
              "\n",
              "    .dataframe tbody tr th {\n",
              "        vertical-align: top;\n",
              "    }\n",
              "\n",
              "    .dataframe thead th {\n",
              "        text-align: right;\n",
              "    }\n",
              "</style>\n",
              "<table border=\"1\" class=\"dataframe\">\n",
              "  <thead>\n",
              "    <tr style=\"text-align: right;\">\n",
              "      <th></th>\n",
              "      <th>시가</th>\n",
              "      <th>고가</th>\n",
              "      <th>저가</th>\n",
              "      <th>종가</th>\n",
              "    </tr>\n",
              "  </thead>\n",
              "  <tbody>\n",
              "    <tr>\n",
              "      <th>20200618</th>\n",
              "      <td>70</td>\n",
              "      <td>80</td>\n",
              "      <td>60</td>\n",
              "      <td>75</td>\n",
              "    </tr>\n",
              "    <tr>\n",
              "      <th>20200615</th>\n",
              "      <td>100</td>\n",
              "      <td>110</td>\n",
              "      <td>90</td>\n",
              "      <td>105</td>\n",
              "    </tr>\n",
              "  </tbody>\n",
              "</table>\n",
              "</div>\n",
              "      <button class=\"colab-df-convert\" onclick=\"convertToInteractive('df-9c93c1f7-1cf0-4826-919a-53f926f0c4a3')\"\n",
              "              title=\"Convert this dataframe to an interactive table.\"\n",
              "              style=\"display:none;\">\n",
              "        \n",
              "  <svg xmlns=\"http://www.w3.org/2000/svg\" height=\"24px\"viewBox=\"0 0 24 24\"\n",
              "       width=\"24px\">\n",
              "    <path d=\"M0 0h24v24H0V0z\" fill=\"none\"/>\n",
              "    <path d=\"M18.56 5.44l.94 2.06.94-2.06 2.06-.94-2.06-.94-.94-2.06-.94 2.06-2.06.94zm-11 1L8.5 8.5l.94-2.06 2.06-.94-2.06-.94L8.5 2.5l-.94 2.06-2.06.94zm10 10l.94 2.06.94-2.06 2.06-.94-2.06-.94-.94-2.06-.94 2.06-2.06.94z\"/><path d=\"M17.41 7.96l-1.37-1.37c-.4-.4-.92-.59-1.43-.59-.52 0-1.04.2-1.43.59L10.3 9.45l-7.72 7.72c-.78.78-.78 2.05 0 2.83L4 21.41c.39.39.9.59 1.41.59.51 0 1.02-.2 1.41-.59l7.78-7.78 2.81-2.81c.8-.78.8-2.07 0-2.86zM5.41 20L4 18.59l7.72-7.72 1.47 1.35L5.41 20z\"/>\n",
              "  </svg>\n",
              "      </button>\n",
              "      \n",
              "  <style>\n",
              "    .colab-df-container {\n",
              "      display:flex;\n",
              "      flex-wrap:wrap;\n",
              "      gap: 12px;\n",
              "    }\n",
              "\n",
              "    .colab-df-convert {\n",
              "      background-color: #E8F0FE;\n",
              "      border: none;\n",
              "      border-radius: 50%;\n",
              "      cursor: pointer;\n",
              "      display: none;\n",
              "      fill: #1967D2;\n",
              "      height: 32px;\n",
              "      padding: 0 0 0 0;\n",
              "      width: 32px;\n",
              "    }\n",
              "\n",
              "    .colab-df-convert:hover {\n",
              "      background-color: #E2EBFA;\n",
              "      box-shadow: 0px 1px 2px rgba(60, 64, 67, 0.3), 0px 1px 3px 1px rgba(60, 64, 67, 0.15);\n",
              "      fill: #174EA6;\n",
              "    }\n",
              "\n",
              "    [theme=dark] .colab-df-convert {\n",
              "      background-color: #3B4455;\n",
              "      fill: #D2E3FC;\n",
              "    }\n",
              "\n",
              "    [theme=dark] .colab-df-convert:hover {\n",
              "      background-color: #434B5C;\n",
              "      box-shadow: 0px 1px 3px 1px rgba(0, 0, 0, 0.15);\n",
              "      filter: drop-shadow(0px 1px 2px rgba(0, 0, 0, 0.3));\n",
              "      fill: #FFFFFF;\n",
              "    }\n",
              "  </style>\n",
              "\n",
              "      <script>\n",
              "        const buttonEl =\n",
              "          document.querySelector('#df-9c93c1f7-1cf0-4826-919a-53f926f0c4a3 button.colab-df-convert');\n",
              "        buttonEl.style.display =\n",
              "          google.colab.kernel.accessAllowed ? 'block' : 'none';\n",
              "\n",
              "        async function convertToInteractive(key) {\n",
              "          const element = document.querySelector('#df-9c93c1f7-1cf0-4826-919a-53f926f0c4a3');\n",
              "          const dataTable =\n",
              "            await google.colab.kernel.invokeFunction('convertToInteractive',\n",
              "                                                     [key], {});\n",
              "          if (!dataTable) return;\n",
              "\n",
              "          const docLinkHtml = 'Like what you see? Visit the ' +\n",
              "            '<a target=\"_blank\" href=https://colab.research.google.com/notebooks/data_table.ipynb>data table notebook</a>'\n",
              "            + ' to learn more about interactive tables.';\n",
              "          element.innerHTML = '';\n",
              "          dataTable['output_type'] = 'display_data';\n",
              "          await google.colab.output.renderOutput(dataTable, element);\n",
              "          const docLink = document.createElement('div');\n",
              "          docLink.innerHTML = docLinkHtml;\n",
              "          element.appendChild(docLink);\n",
              "        }\n",
              "      </script>\n",
              "    </div>\n",
              "  </div>\n",
              "  "
            ]
          },
          "metadata": {},
          "execution_count": 10
        }
      ],
      "source": [
        "df.iloc[[-1,0]]"
      ]
    },
    {
      "cell_type": "markdown",
      "metadata": {
        "id": "ST_XIva1s84X"
      },
      "source": [
        "이번에는 데이터프레임에 저장된 하나의 값 (115)를 출력해 보겠습니다.  "
      ]
    },
    {
      "cell_type": "code",
      "execution_count": null,
      "metadata": {
        "id": "oZgaIYJLs84X",
        "outputId": "c3c6d103-a664-4ec4-8870-0aa3b5a4a877",
        "colab": {
          "base_uri": "https://localhost:8080/"
        }
      },
      "outputs": [
        {
          "output_type": "execute_result",
          "data": {
            "text/plain": [
              "115"
            ]
          },
          "metadata": {},
          "execution_count": 15
        }
      ],
      "source": [
        "# 115를 인덱싱하는 method 1\n",
        "df['고가'][2]  #df['고가']는 시리즈이므로 [2] ... 여러 방법으로 인덱싱과 슬라이싱이 가능하지만 비추\n",
        "df['고가'].loc['20200617']\n",
        "df['고가'].iloc[2]"
      ]
    },
    {
      "cell_type": "code",
      "source": [
        "# method 2\n",
        "df.loc['20200617'].loc['고가']\n",
        "df.loc['20200617'].iloc[1]\n",
        "\n",
        "# 비추\n",
        "df.loc['20200617']['고가']\n",
        "df.loc['20200617'][1]\n",
        "\n",
        "# method 3\n",
        "df.iloc[2].loc['고가']\n",
        "df.iloc[2].iloc[1]"
      ],
      "metadata": {
        "colab": {
          "base_uri": "https://localhost:8080/"
        },
        "id": "faNBQU4-3Hep",
        "outputId": "c4ab5abf-8a6e-4104-9368-0fee5a6dec97"
      },
      "execution_count": null,
      "outputs": [
        {
          "output_type": "execute_result",
          "data": {
            "text/plain": [
              "115"
            ]
          },
          "metadata": {},
          "execution_count": 16
        }
      ]
    },
    {
      "cell_type": "code",
      "source": [
        "# method 4 : 추천(한 번의 연산만 하기 때문에 실행 속도 빠름)\n",
        "df.loc['20200617', '고가']  #[행, 열]\n",
        "df.iloc[2, 1]"
      ],
      "metadata": {
        "colab": {
          "base_uri": "https://localhost:8080/"
        },
        "id": "Fomr_G1734H8",
        "outputId": "69631499-3ec0-4549-dfd9-fe18a0b813ef"
      },
      "execution_count": null,
      "outputs": [
        {
          "output_type": "execute_result",
          "data": {
            "text/plain": [
              "115"
            ]
          },
          "metadata": {},
          "execution_count": 18
        }
      ]
    },
    {
      "cell_type": "markdown",
      "metadata": {
        "id": "fC5yQGaIs84X"
      },
      "source": [
        "데이터 프레임에서는 `[ ]` 인덱싱 기호 한 번에 행과 열을 지정할 수도 있습니다. "
      ]
    },
    {
      "cell_type": "code",
      "execution_count": null,
      "metadata": {
        "id": "K772jKBws84X",
        "colab": {
          "base_uri": "https://localhost:8080/",
          "height": 112
        },
        "outputId": "cf5617c7-053f-44c4-aaf9-104c5dc6a26c"
      },
      "outputs": [
        {
          "output_type": "execute_result",
          "data": {
            "text/plain": [
              "           시가   고가\n",
              "20200615  100  110\n",
              "20200616   90  112"
            ],
            "text/html": [
              "\n",
              "  <div id=\"df-c42ff723-f120-44fb-bcef-c2b0f43a1b8b\">\n",
              "    <div class=\"colab-df-container\">\n",
              "      <div>\n",
              "<style scoped>\n",
              "    .dataframe tbody tr th:only-of-type {\n",
              "        vertical-align: middle;\n",
              "    }\n",
              "\n",
              "    .dataframe tbody tr th {\n",
              "        vertical-align: top;\n",
              "    }\n",
              "\n",
              "    .dataframe thead th {\n",
              "        text-align: right;\n",
              "    }\n",
              "</style>\n",
              "<table border=\"1\" class=\"dataframe\">\n",
              "  <thead>\n",
              "    <tr style=\"text-align: right;\">\n",
              "      <th></th>\n",
              "      <th>시가</th>\n",
              "      <th>고가</th>\n",
              "    </tr>\n",
              "  </thead>\n",
              "  <tbody>\n",
              "    <tr>\n",
              "      <th>20200615</th>\n",
              "      <td>100</td>\n",
              "      <td>110</td>\n",
              "    </tr>\n",
              "    <tr>\n",
              "      <th>20200616</th>\n",
              "      <td>90</td>\n",
              "      <td>112</td>\n",
              "    </tr>\n",
              "  </tbody>\n",
              "</table>\n",
              "</div>\n",
              "      <button class=\"colab-df-convert\" onclick=\"convertToInteractive('df-c42ff723-f120-44fb-bcef-c2b0f43a1b8b')\"\n",
              "              title=\"Convert this dataframe to an interactive table.\"\n",
              "              style=\"display:none;\">\n",
              "        \n",
              "  <svg xmlns=\"http://www.w3.org/2000/svg\" height=\"24px\"viewBox=\"0 0 24 24\"\n",
              "       width=\"24px\">\n",
              "    <path d=\"M0 0h24v24H0V0z\" fill=\"none\"/>\n",
              "    <path d=\"M18.56 5.44l.94 2.06.94-2.06 2.06-.94-2.06-.94-.94-2.06-.94 2.06-2.06.94zm-11 1L8.5 8.5l.94-2.06 2.06-.94-2.06-.94L8.5 2.5l-.94 2.06-2.06.94zm10 10l.94 2.06.94-2.06 2.06-.94-2.06-.94-.94-2.06-.94 2.06-2.06.94z\"/><path d=\"M17.41 7.96l-1.37-1.37c-.4-.4-.92-.59-1.43-.59-.52 0-1.04.2-1.43.59L10.3 9.45l-7.72 7.72c-.78.78-.78 2.05 0 2.83L4 21.41c.39.39.9.59 1.41.59.51 0 1.02-.2 1.41-.59l7.78-7.78 2.81-2.81c.8-.78.8-2.07 0-2.86zM5.41 20L4 18.59l7.72-7.72 1.47 1.35L5.41 20z\"/>\n",
              "  </svg>\n",
              "      </button>\n",
              "      \n",
              "  <style>\n",
              "    .colab-df-container {\n",
              "      display:flex;\n",
              "      flex-wrap:wrap;\n",
              "      gap: 12px;\n",
              "    }\n",
              "\n",
              "    .colab-df-convert {\n",
              "      background-color: #E8F0FE;\n",
              "      border: none;\n",
              "      border-radius: 50%;\n",
              "      cursor: pointer;\n",
              "      display: none;\n",
              "      fill: #1967D2;\n",
              "      height: 32px;\n",
              "      padding: 0 0 0 0;\n",
              "      width: 32px;\n",
              "    }\n",
              "\n",
              "    .colab-df-convert:hover {\n",
              "      background-color: #E2EBFA;\n",
              "      box-shadow: 0px 1px 2px rgba(60, 64, 67, 0.3), 0px 1px 3px 1px rgba(60, 64, 67, 0.15);\n",
              "      fill: #174EA6;\n",
              "    }\n",
              "\n",
              "    [theme=dark] .colab-df-convert {\n",
              "      background-color: #3B4455;\n",
              "      fill: #D2E3FC;\n",
              "    }\n",
              "\n",
              "    [theme=dark] .colab-df-convert:hover {\n",
              "      background-color: #434B5C;\n",
              "      box-shadow: 0px 1px 3px 1px rgba(0, 0, 0, 0.15);\n",
              "      filter: drop-shadow(0px 1px 2px rgba(0, 0, 0, 0.3));\n",
              "      fill: #FFFFFF;\n",
              "    }\n",
              "  </style>\n",
              "\n",
              "      <script>\n",
              "        const buttonEl =\n",
              "          document.querySelector('#df-c42ff723-f120-44fb-bcef-c2b0f43a1b8b button.colab-df-convert');\n",
              "        buttonEl.style.display =\n",
              "          google.colab.kernel.accessAllowed ? 'block' : 'none';\n",
              "\n",
              "        async function convertToInteractive(key) {\n",
              "          const element = document.querySelector('#df-c42ff723-f120-44fb-bcef-c2b0f43a1b8b');\n",
              "          const dataTable =\n",
              "            await google.colab.kernel.invokeFunction('convertToInteractive',\n",
              "                                                     [key], {});\n",
              "          if (!dataTable) return;\n",
              "\n",
              "          const docLinkHtml = 'Like what you see? Visit the ' +\n",
              "            '<a target=\"_blank\" href=https://colab.research.google.com/notebooks/data_table.ipynb>data table notebook</a>'\n",
              "            + ' to learn more about interactive tables.';\n",
              "          element.innerHTML = '';\n",
              "          dataTable['output_type'] = 'display_data';\n",
              "          await google.colab.output.renderOutput(dataTable, element);\n",
              "          const docLink = document.createElement('div');\n",
              "          docLink.innerHTML = docLinkHtml;\n",
              "          element.appendChild(docLink);\n",
              "        }\n",
              "      </script>\n",
              "    </div>\n",
              "  </div>\n",
              "  "
            ]
          },
          "metadata": {},
          "execution_count": 21
        }
      ],
      "source": [
        "df.iloc[0:2, 0:2]\n",
        "df.loc['20200615':'20200616', '시가':'고가']  # 유지보수를 고려하면 loc가 가독성이 더 좋음\n",
        "df.iloc[[0,1],[0,1]]\n",
        "df.loc[['20200615','20200616'],['시가','고가']]"
      ]
    },
    {
      "cell_type": "markdown",
      "metadata": {
        "id": "bCaAuEBIs84X"
      },
      "source": [
        "### 데이터프레임 수정\n",
        "데이터프레임에 값을 수정하거나 추가해봅시다."
      ]
    },
    {
      "cell_type": "code",
      "execution_count": null,
      "metadata": {
        "id": "7bI2Bfj5s84Y",
        "outputId": "e8114e63-2351-49db-e1b8-d177637ec2f1"
      },
      "outputs": [
        {
          "data": {
            "text/html": [
              "<div>\n",
              "<style scoped>\n",
              "    .dataframe tbody tr th:only-of-type {\n",
              "        vertical-align: middle;\n",
              "    }\n",
              "\n",
              "    .dataframe tbody tr th {\n",
              "        vertical-align: top;\n",
              "    }\n",
              "\n",
              "    .dataframe thead th {\n",
              "        text-align: right;\n",
              "    }\n",
              "</style>\n",
              "<table border=\"1\" class=\"dataframe\">\n",
              "  <thead>\n",
              "    <tr style=\"text-align: right;\">\n",
              "      <th></th>\n",
              "      <th>시가</th>\n",
              "      <th>고가</th>\n",
              "      <th>저가</th>\n",
              "      <th>종가</th>\n",
              "    </tr>\n",
              "  </thead>\n",
              "  <tbody>\n",
              "    <tr>\n",
              "      <th>20200615</th>\n",
              "      <td>100</td>\n",
              "      <td>110</td>\n",
              "      <td>90</td>\n",
              "      <td>105</td>\n",
              "    </tr>\n",
              "    <tr>\n",
              "      <th>20200616</th>\n",
              "      <td>90</td>\n",
              "      <td>112</td>\n",
              "      <td>80</td>\n",
              "      <td>95</td>\n",
              "    </tr>\n",
              "    <tr>\n",
              "      <th>20200617</th>\n",
              "      <td>80</td>\n",
              "      <td>115</td>\n",
              "      <td>70</td>\n",
              "      <td>85</td>\n",
              "    </tr>\n",
              "    <tr>\n",
              "      <th>20200618</th>\n",
              "      <td>70</td>\n",
              "      <td>80</td>\n",
              "      <td>60</td>\n",
              "      <td>75</td>\n",
              "    </tr>\n",
              "  </tbody>\n",
              "</table>\n",
              "</div>"
            ],
            "text/plain": [
              "           시가   고가  저가   종가\n",
              "20200615  100  110  90  105\n",
              "20200616   90  112  80   95\n",
              "20200617   80  115  70   85\n",
              "20200618   70   80  60   75"
            ]
          },
          "execution_count": 31,
          "metadata": {},
          "output_type": "execute_result"
        }
      ],
      "source": [
        "data = [\n",
        "    {'시가': 100, '고가': 110, '저가': 90, '종가': 105}, \n",
        "    {'시가':  90, '고가': 112, '저가': 80, '종가':  95}, \n",
        "    {'시가':  80, '고가': 115, '저가': 70, '종가':  85}, \n",
        "    {'시가':  70, '고가':  80, '저가': 60, '종가':  75}, \n",
        "]\n",
        "\n",
        "df = DataFrame(data, index=['20200615', '20200616', '20200617', '20200618'])\n",
        "df"
      ]
    },
    {
      "cell_type": "markdown",
      "metadata": {
        "id": "xMN0sfhOs84Y"
      },
      "source": [
        "데이터 프레임에 컬럼 단위로 값을 추가할 때는 컬럼의 이름과 값을 전달하면 됩니다. 만약 하나의 값을 입력한다면 컬럼 전체가 해당 값으로 채워집니다."
      ]
    },
    {
      "cell_type": "code",
      "execution_count": null,
      "metadata": {
        "id": "pYerlz7is84Y",
        "outputId": "56658c0c-a322-49d7-c1a1-94976eb011d8"
      },
      "outputs": [
        {
          "data": {
            "text/html": [
              "<div>\n",
              "<style scoped>\n",
              "    .dataframe tbody tr th:only-of-type {\n",
              "        vertical-align: middle;\n",
              "    }\n",
              "\n",
              "    .dataframe tbody tr th {\n",
              "        vertical-align: top;\n",
              "    }\n",
              "\n",
              "    .dataframe thead th {\n",
              "        text-align: right;\n",
              "    }\n",
              "</style>\n",
              "<table border=\"1\" class=\"dataframe\">\n",
              "  <thead>\n",
              "    <tr style=\"text-align: right;\">\n",
              "      <th></th>\n",
              "      <th>시가</th>\n",
              "      <th>고가</th>\n",
              "      <th>저가</th>\n",
              "      <th>종가</th>\n",
              "      <th>NEW</th>\n",
              "    </tr>\n",
              "  </thead>\n",
              "  <tbody>\n",
              "    <tr>\n",
              "      <th>20200615</th>\n",
              "      <td>100</td>\n",
              "      <td>110</td>\n",
              "      <td>90</td>\n",
              "      <td>105</td>\n",
              "      <td>10</td>\n",
              "    </tr>\n",
              "    <tr>\n",
              "      <th>20200616</th>\n",
              "      <td>90</td>\n",
              "      <td>112</td>\n",
              "      <td>80</td>\n",
              "      <td>95</td>\n",
              "      <td>10</td>\n",
              "    </tr>\n",
              "    <tr>\n",
              "      <th>20200617</th>\n",
              "      <td>80</td>\n",
              "      <td>115</td>\n",
              "      <td>70</td>\n",
              "      <td>85</td>\n",
              "      <td>10</td>\n",
              "    </tr>\n",
              "    <tr>\n",
              "      <th>20200618</th>\n",
              "      <td>70</td>\n",
              "      <td>80</td>\n",
              "      <td>60</td>\n",
              "      <td>75</td>\n",
              "      <td>10</td>\n",
              "    </tr>\n",
              "  </tbody>\n",
              "</table>\n",
              "</div>"
            ],
            "text/plain": [
              "           시가   고가  저가   종가  NEW\n",
              "20200615  100  110  90  105   10\n",
              "20200616   90  112  80   95   10\n",
              "20200617   80  115  70   85   10\n",
              "20200618   70   80  60   75   10"
            ]
          },
          "execution_count": 32,
          "metadata": {},
          "output_type": "execute_result"
        }
      ],
      "source": [
        ""
      ]
    },
    {
      "cell_type": "markdown",
      "metadata": {
        "id": "Itdi7Wkws84Y"
      },
      "source": [
        "리스트 형태로 값을 전달할 수도 있습니다."
      ]
    },
    {
      "cell_type": "code",
      "execution_count": null,
      "metadata": {
        "id": "HHn-c5Vis84Y",
        "outputId": "b078d5bc-ce1f-4290-b6da-3069beaac6bf"
      },
      "outputs": [
        {
          "data": {
            "text/html": [
              "<div>\n",
              "<style scoped>\n",
              "    .dataframe tbody tr th:only-of-type {\n",
              "        vertical-align: middle;\n",
              "    }\n",
              "\n",
              "    .dataframe tbody tr th {\n",
              "        vertical-align: top;\n",
              "    }\n",
              "\n",
              "    .dataframe thead th {\n",
              "        text-align: right;\n",
              "    }\n",
              "</style>\n",
              "<table border=\"1\" class=\"dataframe\">\n",
              "  <thead>\n",
              "    <tr style=\"text-align: right;\">\n",
              "      <th></th>\n",
              "      <th>시가</th>\n",
              "      <th>고가</th>\n",
              "      <th>저가</th>\n",
              "      <th>종가</th>\n",
              "      <th>NEW</th>\n",
              "    </tr>\n",
              "  </thead>\n",
              "  <tbody>\n",
              "    <tr>\n",
              "      <th>20200615</th>\n",
              "      <td>100</td>\n",
              "      <td>110</td>\n",
              "      <td>90</td>\n",
              "      <td>105</td>\n",
              "      <td>10</td>\n",
              "    </tr>\n",
              "    <tr>\n",
              "      <th>20200616</th>\n",
              "      <td>90</td>\n",
              "      <td>112</td>\n",
              "      <td>80</td>\n",
              "      <td>95</td>\n",
              "      <td>20</td>\n",
              "    </tr>\n",
              "    <tr>\n",
              "      <th>20200617</th>\n",
              "      <td>80</td>\n",
              "      <td>115</td>\n",
              "      <td>70</td>\n",
              "      <td>85</td>\n",
              "      <td>30</td>\n",
              "    </tr>\n",
              "    <tr>\n",
              "      <th>20200618</th>\n",
              "      <td>70</td>\n",
              "      <td>80</td>\n",
              "      <td>60</td>\n",
              "      <td>75</td>\n",
              "      <td>40</td>\n",
              "    </tr>\n",
              "  </tbody>\n",
              "</table>\n",
              "</div>"
            ],
            "text/plain": [
              "           시가   고가  저가   종가  NEW\n",
              "20200615  100  110  90  105   10\n",
              "20200616   90  112  80   95   20\n",
              "20200617   80  115  70   85   30\n",
              "20200618   70   80  60   75   40"
            ]
          },
          "execution_count": 33,
          "metadata": {},
          "output_type": "execute_result"
        }
      ],
      "source": [
        ""
      ]
    },
    {
      "cell_type": "markdown",
      "metadata": {
        "id": "0upno7OAs84Y"
      },
      "source": [
        "하나의 값을 변경할 때는 `변경할위치 = 값` 형태로 코드를 작성합니다."
      ]
    },
    {
      "cell_type": "code",
      "execution_count": null,
      "metadata": {
        "id": "CoEGkbaBs84Z"
      },
      "outputs": [],
      "source": [
        ""
      ]
    },
    {
      "cell_type": "markdown",
      "metadata": {
        "id": "AVZ4fWSWs84Z"
      },
      "source": [
        "Q. 고가와 저가의 차이를 \"변동폭\" 이름의 칼럼에 저장하라."
      ]
    },
    {
      "cell_type": "code",
      "execution_count": null,
      "metadata": {
        "id": "VCFpSUfgs84Z",
        "outputId": "881b250e-d341-4baf-dd09-80d234e55785"
      },
      "outputs": [
        {
          "data": {
            "text/html": [
              "<div>\n",
              "<style scoped>\n",
              "    .dataframe tbody tr th:only-of-type {\n",
              "        vertical-align: middle;\n",
              "    }\n",
              "\n",
              "    .dataframe tbody tr th {\n",
              "        vertical-align: top;\n",
              "    }\n",
              "\n",
              "    .dataframe thead th {\n",
              "        text-align: right;\n",
              "    }\n",
              "</style>\n",
              "<table border=\"1\" class=\"dataframe\">\n",
              "  <thead>\n",
              "    <tr style=\"text-align: right;\">\n",
              "      <th></th>\n",
              "      <th>시가</th>\n",
              "      <th>고가</th>\n",
              "      <th>저가</th>\n",
              "      <th>종가</th>\n",
              "    </tr>\n",
              "  </thead>\n",
              "  <tbody>\n",
              "    <tr>\n",
              "      <th>20200615</th>\n",
              "      <td>100</td>\n",
              "      <td>110</td>\n",
              "      <td>90</td>\n",
              "      <td>105</td>\n",
              "    </tr>\n",
              "    <tr>\n",
              "      <th>20200616</th>\n",
              "      <td>90</td>\n",
              "      <td>112</td>\n",
              "      <td>80</td>\n",
              "      <td>95</td>\n",
              "    </tr>\n",
              "    <tr>\n",
              "      <th>20200617</th>\n",
              "      <td>80</td>\n",
              "      <td>115</td>\n",
              "      <td>70</td>\n",
              "      <td>85</td>\n",
              "    </tr>\n",
              "    <tr>\n",
              "      <th>20200618</th>\n",
              "      <td>70</td>\n",
              "      <td>80</td>\n",
              "      <td>60</td>\n",
              "      <td>75</td>\n",
              "    </tr>\n",
              "  </tbody>\n",
              "</table>\n",
              "</div>"
            ],
            "text/plain": [
              "           시가   고가  저가   종가\n",
              "20200615  100  110  90  105\n",
              "20200616   90  112  80   95\n",
              "20200617   80  115  70   85\n",
              "20200618   70   80  60   75"
            ]
          },
          "execution_count": 41,
          "metadata": {},
          "output_type": "execute_result"
        }
      ],
      "source": [
        "data = [\n",
        "    {'시가': 100, '고가': 110, '저가': 90, '종가': 105}, \n",
        "    {'시가':  90, '고가': 112, '저가': 80, '종가':  95}, \n",
        "    {'시가':  80, '고가': 115, '저가': 70, '종가':  85}, \n",
        "    {'시가':  70, '고가':  80, '저가': 60, '종가':  75}, \n",
        "]\n",
        "\n",
        "df = DataFrame(data, index=['20200615', '20200616', '20200617', '20200618'])\n",
        "df"
      ]
    },
    {
      "cell_type": "markdown",
      "metadata": {
        "id": "4X2dQQfEs84Z"
      },
      "source": [
        "로우 단위의 데이터를 추가할 때는 `iloc` 혹은 `loc`를 사용하는 것외에 동일합니다."
      ]
    },
    {
      "cell_type": "code",
      "execution_count": null,
      "metadata": {
        "id": "OzPK2V9ss84Z",
        "outputId": "dec81313-dc4a-474f-91c9-8101a992b7a1"
      },
      "outputs": [
        {
          "data": {
            "text/html": [
              "<div>\n",
              "<style scoped>\n",
              "    .dataframe tbody tr th:only-of-type {\n",
              "        vertical-align: middle;\n",
              "    }\n",
              "\n",
              "    .dataframe tbody tr th {\n",
              "        vertical-align: top;\n",
              "    }\n",
              "\n",
              "    .dataframe thead th {\n",
              "        text-align: right;\n",
              "    }\n",
              "</style>\n",
              "<table border=\"1\" class=\"dataframe\">\n",
              "  <thead>\n",
              "    <tr style=\"text-align: right;\">\n",
              "      <th></th>\n",
              "      <th>시가</th>\n",
              "      <th>고가</th>\n",
              "      <th>저가</th>\n",
              "      <th>종가</th>\n",
              "    </tr>\n",
              "  </thead>\n",
              "  <tbody>\n",
              "    <tr>\n",
              "      <th>20200615</th>\n",
              "      <td>100</td>\n",
              "      <td>110</td>\n",
              "      <td>90</td>\n",
              "      <td>105</td>\n",
              "    </tr>\n",
              "    <tr>\n",
              "      <th>20200616</th>\n",
              "      <td>90</td>\n",
              "      <td>112</td>\n",
              "      <td>80</td>\n",
              "      <td>95</td>\n",
              "    </tr>\n",
              "    <tr>\n",
              "      <th>20200617</th>\n",
              "      <td>80</td>\n",
              "      <td>115</td>\n",
              "      <td>70</td>\n",
              "      <td>85</td>\n",
              "    </tr>\n",
              "    <tr>\n",
              "      <th>20200618</th>\n",
              "      <td>70</td>\n",
              "      <td>80</td>\n",
              "      <td>60</td>\n",
              "      <td>75</td>\n",
              "    </tr>\n",
              "  </tbody>\n",
              "</table>\n",
              "</div>"
            ],
            "text/plain": [
              "           시가   고가  저가   종가\n",
              "20200615  100  110  90  105\n",
              "20200616   90  112  80   95\n",
              "20200617   80  115  70   85\n",
              "20200618   70   80  60   75"
            ]
          },
          "execution_count": 36,
          "metadata": {},
          "output_type": "execute_result"
        }
      ],
      "source": [
        "data = [\n",
        "    {'시가': 100, '고가': 110, '저가': 90, '종가': 105}, \n",
        "    {'시가':  90, '고가': 112, '저가': 80, '종가':  95}, \n",
        "    {'시가':  80, '고가': 115, '저가': 70, '종가':  85}, \n",
        "    {'시가':  70, '고가':  80, '저가': 60, '종가':  75}, \n",
        "]\n",
        "\n",
        "df = DataFrame(data, index=['20200615', '20200616', '20200617', '20200618'])\n",
        "df"
      ]
    },
    {
      "cell_type": "markdown",
      "metadata": {
        "id": "8vi7qTAxs84a"
      },
      "source": [
        "`20200619` 로우에 값을 추가"
      ]
    },
    {
      "cell_type": "code",
      "execution_count": null,
      "metadata": {
        "id": "YpzGvvcUs84a",
        "outputId": "687d0931-879e-4514-a091-5aaf9b188547"
      },
      "outputs": [
        {
          "data": {
            "text/html": [
              "<div>\n",
              "<style scoped>\n",
              "    .dataframe tbody tr th:only-of-type {\n",
              "        vertical-align: middle;\n",
              "    }\n",
              "\n",
              "    .dataframe tbody tr th {\n",
              "        vertical-align: top;\n",
              "    }\n",
              "\n",
              "    .dataframe thead th {\n",
              "        text-align: right;\n",
              "    }\n",
              "</style>\n",
              "<table border=\"1\" class=\"dataframe\">\n",
              "  <thead>\n",
              "    <tr style=\"text-align: right;\">\n",
              "      <th></th>\n",
              "      <th>시가</th>\n",
              "      <th>고가</th>\n",
              "      <th>저가</th>\n",
              "      <th>종가</th>\n",
              "    </tr>\n",
              "  </thead>\n",
              "  <tbody>\n",
              "    <tr>\n",
              "      <th>20200615</th>\n",
              "      <td>100</td>\n",
              "      <td>110</td>\n",
              "      <td>90</td>\n",
              "      <td>105</td>\n",
              "    </tr>\n",
              "    <tr>\n",
              "      <th>20200616</th>\n",
              "      <td>90</td>\n",
              "      <td>112</td>\n",
              "      <td>80</td>\n",
              "      <td>95</td>\n",
              "    </tr>\n",
              "    <tr>\n",
              "      <th>20200617</th>\n",
              "      <td>80</td>\n",
              "      <td>115</td>\n",
              "      <td>70</td>\n",
              "      <td>85</td>\n",
              "    </tr>\n",
              "    <tr>\n",
              "      <th>20200618</th>\n",
              "      <td>70</td>\n",
              "      <td>80</td>\n",
              "      <td>60</td>\n",
              "      <td>75</td>\n",
              "    </tr>\n",
              "    <tr>\n",
              "      <th>20200619</th>\n",
              "      <td>10</td>\n",
              "      <td>10</td>\n",
              "      <td>10</td>\n",
              "      <td>10</td>\n",
              "    </tr>\n",
              "  </tbody>\n",
              "</table>\n",
              "</div>"
            ],
            "text/plain": [
              "           시가   고가  저가   종가\n",
              "20200615  100  110  90  105\n",
              "20200616   90  112  80   95\n",
              "20200617   80  115  70   85\n",
              "20200618   70   80  60   75\n",
              "20200619   10   10  10   10"
            ]
          },
          "execution_count": 35,
          "metadata": {},
          "output_type": "execute_result"
        }
      ],
      "source": [
        ""
      ]
    },
    {
      "cell_type": "markdown",
      "metadata": {
        "id": "Zx7dJdJ9s84a"
      },
      "source": [
        "값을 삭제할 때는 시리즈와 동일하게 drop메서드를 사용합니다. 차이점은 데이터프레임은 2차원 형태이기 때문에 가로축 삭제인지 세로축 삭제인지를 알려줘야 합니다. `axis`는 컬럼 단위로 삭제할지 로우 단위로 삭제할지를 지정합니다. `axis=1`은 컬럼 단위로 삭제한다는 의미입니다."
      ]
    },
    {
      "cell_type": "code",
      "execution_count": null,
      "metadata": {
        "id": "kFrwxE20s84a",
        "outputId": "76f39706-3509-4c1e-daff-1689718c7c8b"
      },
      "outputs": [
        {
          "data": {
            "text/html": [
              "<div>\n",
              "<style scoped>\n",
              "    .dataframe tbody tr th:only-of-type {\n",
              "        vertical-align: middle;\n",
              "    }\n",
              "\n",
              "    .dataframe tbody tr th {\n",
              "        vertical-align: top;\n",
              "    }\n",
              "\n",
              "    .dataframe thead th {\n",
              "        text-align: right;\n",
              "    }\n",
              "</style>\n",
              "<table border=\"1\" class=\"dataframe\">\n",
              "  <thead>\n",
              "    <tr style=\"text-align: right;\">\n",
              "      <th></th>\n",
              "      <th>고가</th>\n",
              "      <th>저가</th>\n",
              "      <th>종가</th>\n",
              "    </tr>\n",
              "  </thead>\n",
              "  <tbody>\n",
              "    <tr>\n",
              "      <th>20200615</th>\n",
              "      <td>110</td>\n",
              "      <td>90</td>\n",
              "      <td>105</td>\n",
              "    </tr>\n",
              "    <tr>\n",
              "      <th>20200616</th>\n",
              "      <td>112</td>\n",
              "      <td>80</td>\n",
              "      <td>95</td>\n",
              "    </tr>\n",
              "    <tr>\n",
              "      <th>20200617</th>\n",
              "      <td>115</td>\n",
              "      <td>70</td>\n",
              "      <td>85</td>\n",
              "    </tr>\n",
              "    <tr>\n",
              "      <th>20200618</th>\n",
              "      <td>80</td>\n",
              "      <td>60</td>\n",
              "      <td>75</td>\n",
              "    </tr>\n",
              "  </tbody>\n",
              "</table>\n",
              "</div>"
            ],
            "text/plain": [
              "           고가  저가   종가\n",
              "20200615  110  90  105\n",
              "20200616  112  80   95\n",
              "20200617  115  70   85\n",
              "20200618   80  60   75"
            ]
          },
          "execution_count": 40,
          "metadata": {},
          "output_type": "execute_result"
        }
      ],
      "source": [
        "df.drop('시가', axis=1)"
      ]
    },
    {
      "cell_type": "markdown",
      "metadata": {
        "id": "KwBO4f3ps84a"
      },
      "source": [
        "로우 단위로도 삭제할 수 있습니다. `axis`를 입력하지 않으면 0으로 간주됩니다."
      ]
    },
    {
      "cell_type": "code",
      "execution_count": null,
      "metadata": {
        "id": "hXyDuti7s84b",
        "outputId": "ab8bc674-09ea-43b3-f646-7901de44cc1e"
      },
      "outputs": [
        {
          "data": {
            "text/html": [
              "<div>\n",
              "<style scoped>\n",
              "    .dataframe tbody tr th:only-of-type {\n",
              "        vertical-align: middle;\n",
              "    }\n",
              "\n",
              "    .dataframe tbody tr th {\n",
              "        vertical-align: top;\n",
              "    }\n",
              "\n",
              "    .dataframe thead th {\n",
              "        text-align: right;\n",
              "    }\n",
              "</style>\n",
              "<table border=\"1\" class=\"dataframe\">\n",
              "  <thead>\n",
              "    <tr style=\"text-align: right;\">\n",
              "      <th></th>\n",
              "      <th>시가</th>\n",
              "      <th>고가</th>\n",
              "      <th>저가</th>\n",
              "      <th>종가</th>\n",
              "    </tr>\n",
              "  </thead>\n",
              "  <tbody>\n",
              "    <tr>\n",
              "      <th>20200615</th>\n",
              "      <td>100</td>\n",
              "      <td>110</td>\n",
              "      <td>90</td>\n",
              "      <td>105</td>\n",
              "    </tr>\n",
              "    <tr>\n",
              "      <th>20200616</th>\n",
              "      <td>90</td>\n",
              "      <td>112</td>\n",
              "      <td>80</td>\n",
              "      <td>95</td>\n",
              "    </tr>\n",
              "    <tr>\n",
              "      <th>20200617</th>\n",
              "      <td>80</td>\n",
              "      <td>115</td>\n",
              "      <td>70</td>\n",
              "      <td>85</td>\n",
              "    </tr>\n",
              "  </tbody>\n",
              "</table>\n",
              "</div>"
            ],
            "text/plain": [
              "           시가   고가  저가   종가\n",
              "20200615  100  110  90  105\n",
              "20200616   90  112  80   95\n",
              "20200617   80  115  70   85"
            ]
          },
          "execution_count": 39,
          "metadata": {},
          "output_type": "execute_result"
        }
      ],
      "source": [
        ""
      ]
    },
    {
      "cell_type": "markdown",
      "metadata": {
        "id": "jR5uxLs3s84b"
      },
      "source": [
        "## 인덱스 및 칼럼 설정하기"
      ]
    },
    {
      "cell_type": "markdown",
      "metadata": {
        "id": "vDu3Yq2Ks84b"
      },
      "source": [
        "`reset_index`는 인덱스를 칼럼으로 변경합니다."
      ]
    },
    {
      "cell_type": "code",
      "execution_count": null,
      "metadata": {
        "id": "trdeSmIBs84b",
        "outputId": "fa65827f-00f9-4f39-e3d6-1836b946f226"
      },
      "outputs": [
        {
          "data": {
            "text/html": [
              "<div>\n",
              "<style scoped>\n",
              "    .dataframe tbody tr th:only-of-type {\n",
              "        vertical-align: middle;\n",
              "    }\n",
              "\n",
              "    .dataframe tbody tr th {\n",
              "        vertical-align: top;\n",
              "    }\n",
              "\n",
              "    .dataframe thead th {\n",
              "        text-align: right;\n",
              "    }\n",
              "</style>\n",
              "<table border=\"1\" class=\"dataframe\">\n",
              "  <thead>\n",
              "    <tr style=\"text-align: right;\">\n",
              "      <th></th>\n",
              "      <th>index</th>\n",
              "      <th>시가</th>\n",
              "      <th>고가</th>\n",
              "      <th>저가</th>\n",
              "      <th>종가</th>\n",
              "    </tr>\n",
              "  </thead>\n",
              "  <tbody>\n",
              "    <tr>\n",
              "      <th>0</th>\n",
              "      <td>20200615</td>\n",
              "      <td>100</td>\n",
              "      <td>110</td>\n",
              "      <td>90</td>\n",
              "      <td>105</td>\n",
              "    </tr>\n",
              "    <tr>\n",
              "      <th>1</th>\n",
              "      <td>20200616</td>\n",
              "      <td>90</td>\n",
              "      <td>112</td>\n",
              "      <td>80</td>\n",
              "      <td>95</td>\n",
              "    </tr>\n",
              "    <tr>\n",
              "      <th>2</th>\n",
              "      <td>20200617</td>\n",
              "      <td>80</td>\n",
              "      <td>115</td>\n",
              "      <td>70</td>\n",
              "      <td>85</td>\n",
              "    </tr>\n",
              "    <tr>\n",
              "      <th>3</th>\n",
              "      <td>20200618</td>\n",
              "      <td>70</td>\n",
              "      <td>80</td>\n",
              "      <td>60</td>\n",
              "      <td>75</td>\n",
              "    </tr>\n",
              "  </tbody>\n",
              "</table>\n",
              "</div>"
            ],
            "text/plain": [
              "      index   시가   고가  저가   종가\n",
              "0  20200615  100  110  90  105\n",
              "1  20200616   90  112  80   95\n",
              "2  20200617   80  115  70   85\n",
              "3  20200618   70   80  60   75"
            ]
          },
          "execution_count": 37,
          "metadata": {},
          "output_type": "execute_result"
        }
      ],
      "source": [
        ""
      ]
    },
    {
      "cell_type": "markdown",
      "metadata": {
        "id": "1qLfsHFqs84b"
      },
      "source": [
        "`set_index`는 칼럼 이름으로 인덱스를 설정합니다. "
      ]
    },
    {
      "cell_type": "code",
      "execution_count": null,
      "metadata": {
        "id": "f9290u5Is84b"
      },
      "outputs": [],
      "source": [
        ""
      ]
    },
    {
      "cell_type": "markdown",
      "metadata": {
        "id": "pYlggo4Ms84b"
      },
      "source": [
        "## 데이터프레임 연결하기\n",
        "하나 이상의 데이터 프레임을 연결할 수 있습니다. "
      ]
    },
    {
      "cell_type": "code",
      "execution_count": null,
      "metadata": {
        "id": "KtFBZVPDs84c",
        "outputId": "5e9de182-8e1a-444c-911d-d15c97a3f4bf"
      },
      "outputs": [
        {
          "data": {
            "text/html": [
              "<div>\n",
              "<style scoped>\n",
              "    .dataframe tbody tr th:only-of-type {\n",
              "        vertical-align: middle;\n",
              "    }\n",
              "\n",
              "    .dataframe tbody tr th {\n",
              "        vertical-align: top;\n",
              "    }\n",
              "\n",
              "    .dataframe thead th {\n",
              "        text-align: right;\n",
              "    }\n",
              "</style>\n",
              "<table border=\"1\" class=\"dataframe\">\n",
              "  <thead>\n",
              "    <tr style=\"text-align: right;\">\n",
              "      <th></th>\n",
              "      <th>A</th>\n",
              "      <th>B</th>\n",
              "    </tr>\n",
              "  </thead>\n",
              "  <tbody>\n",
              "    <tr>\n",
              "      <th>0</th>\n",
              "      <td>-0.532825</td>\n",
              "      <td>-0.799201</td>\n",
              "    </tr>\n",
              "    <tr>\n",
              "      <th>1</th>\n",
              "      <td>0.699131</td>\n",
              "      <td>-0.703095</td>\n",
              "    </tr>\n",
              "    <tr>\n",
              "      <th>2</th>\n",
              "      <td>-0.337424</td>\n",
              "      <td>-1.686015</td>\n",
              "    </tr>\n",
              "    <tr>\n",
              "      <th>3</th>\n",
              "      <td>-0.161084</td>\n",
              "      <td>-0.330879</td>\n",
              "    </tr>\n",
              "  </tbody>\n",
              "</table>\n",
              "</div>"
            ],
            "text/plain": [
              "          A         B\n",
              "0 -0.532825 -0.799201\n",
              "1  0.699131 -0.703095\n",
              "2 -0.337424 -1.686015\n",
              "3 -0.161084 -0.330879"
            ]
          },
          "execution_count": 38,
          "metadata": {},
          "output_type": "execute_result"
        }
      ],
      "source": [
        "import pandas as pd\n",
        "import numpy as np\n",
        "\n",
        "df1 = pd.DataFrame(np.random.randn(4, 2), columns=['A', 'B'])\n",
        "df1"
      ]
    },
    {
      "cell_type": "code",
      "execution_count": null,
      "metadata": {
        "id": "kSKi2S3qs84c",
        "outputId": "0d64b528-6d6f-438f-8b85-be1b1c5b3a39"
      },
      "outputs": [
        {
          "data": {
            "text/html": [
              "<div>\n",
              "<style scoped>\n",
              "    .dataframe tbody tr th:only-of-type {\n",
              "        vertical-align: middle;\n",
              "    }\n",
              "\n",
              "    .dataframe tbody tr th {\n",
              "        vertical-align: top;\n",
              "    }\n",
              "\n",
              "    .dataframe thead th {\n",
              "        text-align: right;\n",
              "    }\n",
              "</style>\n",
              "<table border=\"1\" class=\"dataframe\">\n",
              "  <thead>\n",
              "    <tr style=\"text-align: right;\">\n",
              "      <th></th>\n",
              "      <th>A</th>\n",
              "      <th>B</th>\n",
              "    </tr>\n",
              "  </thead>\n",
              "  <tbody>\n",
              "    <tr>\n",
              "      <th>0</th>\n",
              "      <td>0.617020</td>\n",
              "      <td>0.151633</td>\n",
              "    </tr>\n",
              "    <tr>\n",
              "      <th>1</th>\n",
              "      <td>-0.308665</td>\n",
              "      <td>0.358633</td>\n",
              "    </tr>\n",
              "    <tr>\n",
              "      <th>2</th>\n",
              "      <td>0.802221</td>\n",
              "      <td>-0.870168</td>\n",
              "    </tr>\n",
              "    <tr>\n",
              "      <th>3</th>\n",
              "      <td>0.198000</td>\n",
              "      <td>0.282982</td>\n",
              "    </tr>\n",
              "  </tbody>\n",
              "</table>\n",
              "</div>"
            ],
            "text/plain": [
              "          A         B\n",
              "0  0.617020  0.151633\n",
              "1 -0.308665  0.358633\n",
              "2  0.802221 -0.870168\n",
              "3  0.198000  0.282982"
            ]
          },
          "execution_count": 39,
          "metadata": {},
          "output_type": "execute_result"
        }
      ],
      "source": [
        "df2 = pd.DataFrame(np.random.randn(4, 2), columns=['A', 'B'])\n",
        "df2"
      ]
    },
    {
      "cell_type": "markdown",
      "metadata": {
        "id": "Gtd7M_iTs84c"
      },
      "source": [
        "`append` 메서드로 연결한 데이터 프레임을 전달합니다"
      ]
    },
    {
      "cell_type": "code",
      "execution_count": null,
      "metadata": {
        "id": "0mtIjsmAs84c",
        "outputId": "698029bc-4abc-4c4b-f689-161741b2549c"
      },
      "outputs": [
        {
          "data": {
            "text/html": [
              "<div>\n",
              "<style scoped>\n",
              "    .dataframe tbody tr th:only-of-type {\n",
              "        vertical-align: middle;\n",
              "    }\n",
              "\n",
              "    .dataframe tbody tr th {\n",
              "        vertical-align: top;\n",
              "    }\n",
              "\n",
              "    .dataframe thead th {\n",
              "        text-align: right;\n",
              "    }\n",
              "</style>\n",
              "<table border=\"1\" class=\"dataframe\">\n",
              "  <thead>\n",
              "    <tr style=\"text-align: right;\">\n",
              "      <th></th>\n",
              "      <th>A</th>\n",
              "      <th>B</th>\n",
              "    </tr>\n",
              "  </thead>\n",
              "  <tbody>\n",
              "    <tr>\n",
              "      <th>0</th>\n",
              "      <td>1.382102</td>\n",
              "      <td>-1.346167</td>\n",
              "    </tr>\n",
              "    <tr>\n",
              "      <th>1</th>\n",
              "      <td>-1.106819</td>\n",
              "      <td>1.331357</td>\n",
              "    </tr>\n",
              "    <tr>\n",
              "      <th>2</th>\n",
              "      <td>0.384795</td>\n",
              "      <td>-1.562648</td>\n",
              "    </tr>\n",
              "    <tr>\n",
              "      <th>3</th>\n",
              "      <td>0.064274</td>\n",
              "      <td>1.145529</td>\n",
              "    </tr>\n",
              "    <tr>\n",
              "      <th>0</th>\n",
              "      <td>-0.559248</td>\n",
              "      <td>-1.183500</td>\n",
              "    </tr>\n",
              "    <tr>\n",
              "      <th>1</th>\n",
              "      <td>0.911591</td>\n",
              "      <td>-1.103314</td>\n",
              "    </tr>\n",
              "    <tr>\n",
              "      <th>2</th>\n",
              "      <td>0.529724</td>\n",
              "      <td>-0.685318</td>\n",
              "    </tr>\n",
              "    <tr>\n",
              "      <th>3</th>\n",
              "      <td>-0.990691</td>\n",
              "      <td>0.052634</td>\n",
              "    </tr>\n",
              "  </tbody>\n",
              "</table>\n",
              "</div>"
            ],
            "text/plain": [
              "          A         B\n",
              "0  1.382102 -1.346167\n",
              "1 -1.106819  1.331357\n",
              "2  0.384795 -1.562648\n",
              "3  0.064274  1.145529\n",
              "0 -0.559248 -1.183500\n",
              "1  0.911591 -1.103314\n",
              "2  0.529724 -0.685318\n",
              "3 -0.990691  0.052634"
            ]
          },
          "execution_count": 54,
          "metadata": {},
          "output_type": "execute_result"
        }
      ],
      "source": [
        "df1.append(df2)"
      ]
    },
    {
      "cell_type": "markdown",
      "metadata": {
        "id": "eJ8kTaDYs84c"
      },
      "source": [
        "pd의 `concat` 함수로 연결할 데이터 프레임을 리스트로 전달합니다."
      ]
    },
    {
      "cell_type": "code",
      "execution_count": null,
      "metadata": {
        "id": "1ACDY5O1s84c"
      },
      "outputs": [],
      "source": [
        ""
      ]
    },
    {
      "cell_type": "markdown",
      "metadata": {
        "id": "XzmyGrKTs84e"
      },
      "source": [
        "### merge\n",
        "`pandas`에 정의된 `merge` 함수를 사용할 수도 있습니다. "
      ]
    },
    {
      "cell_type": "code",
      "execution_count": null,
      "metadata": {
        "scrolled": true,
        "id": "PRp0l84hs84e",
        "outputId": "fb766c2c-0c1e-4ec9-a0d3-3f11673fb8c8"
      },
      "outputs": [
        {
          "data": {
            "text/html": [
              "<div>\n",
              "<style scoped>\n",
              "    .dataframe tbody tr th:only-of-type {\n",
              "        vertical-align: middle;\n",
              "    }\n",
              "\n",
              "    .dataframe tbody tr th {\n",
              "        vertical-align: top;\n",
              "    }\n",
              "\n",
              "    .dataframe thead th {\n",
              "        text-align: right;\n",
              "    }\n",
              "</style>\n",
              "<table border=\"1\" class=\"dataframe\">\n",
              "  <thead>\n",
              "    <tr style=\"text-align: right;\">\n",
              "      <th></th>\n",
              "      <th>a</th>\n",
              "      <th>b</th>\n",
              "      <th>c</th>\n",
              "      <th>d</th>\n",
              "      <th>구분</th>\n",
              "    </tr>\n",
              "  </thead>\n",
              "  <tbody>\n",
              "    <tr>\n",
              "      <th>0</th>\n",
              "      <td>3</td>\n",
              "      <td>9</td>\n",
              "      <td>1</td>\n",
              "      <td>9</td>\n",
              "      <td>가</td>\n",
              "    </tr>\n",
              "    <tr>\n",
              "      <th>1</th>\n",
              "      <td>8</td>\n",
              "      <td>0</td>\n",
              "      <td>1</td>\n",
              "      <td>1</td>\n",
              "      <td>나</td>\n",
              "    </tr>\n",
              "  </tbody>\n",
              "</table>\n",
              "</div>"
            ],
            "text/plain": [
              "   a  b  c  d 구분\n",
              "0  3  9  1  9  가\n",
              "1  8  0  1  1  나"
            ]
          },
          "execution_count": 6,
          "metadata": {},
          "output_type": "execute_result"
        }
      ],
      "source": [
        "df1 = DataFrame( np.random.randint(10, size=(2,4)), columns=[\"a\", \"b\", \"c\", \"d\"])\n",
        "df1['구분'] = [\"가\", \"나\"]\n",
        "df1"
      ]
    },
    {
      "cell_type": "code",
      "execution_count": null,
      "metadata": {
        "id": "_FXdQrHHs84e",
        "outputId": "c4f9486b-0976-4f0d-aca5-2950e9b04e64"
      },
      "outputs": [
        {
          "data": {
            "text/html": [
              "<div>\n",
              "<style scoped>\n",
              "    .dataframe tbody tr th:only-of-type {\n",
              "        vertical-align: middle;\n",
              "    }\n",
              "\n",
              "    .dataframe tbody tr th {\n",
              "        vertical-align: top;\n",
              "    }\n",
              "\n",
              "    .dataframe thead th {\n",
              "        text-align: right;\n",
              "    }\n",
              "</style>\n",
              "<table border=\"1\" class=\"dataframe\">\n",
              "  <thead>\n",
              "    <tr style=\"text-align: right;\">\n",
              "      <th></th>\n",
              "      <th>e</th>\n",
              "      <th>f</th>\n",
              "      <th>g</th>\n",
              "      <th>h</th>\n",
              "      <th>구분</th>\n",
              "    </tr>\n",
              "  </thead>\n",
              "  <tbody>\n",
              "    <tr>\n",
              "      <th>0</th>\n",
              "      <td>3</td>\n",
              "      <td>1</td>\n",
              "      <td>7</td>\n",
              "      <td>0</td>\n",
              "      <td>가</td>\n",
              "    </tr>\n",
              "    <tr>\n",
              "      <th>1</th>\n",
              "      <td>9</td>\n",
              "      <td>3</td>\n",
              "      <td>5</td>\n",
              "      <td>6</td>\n",
              "      <td>나</td>\n",
              "    </tr>\n",
              "    <tr>\n",
              "      <th>2</th>\n",
              "      <td>9</td>\n",
              "      <td>3</td>\n",
              "      <td>6</td>\n",
              "      <td>2</td>\n",
              "      <td>다</td>\n",
              "    </tr>\n",
              "    <tr>\n",
              "      <th>3</th>\n",
              "      <td>5</td>\n",
              "      <td>9</td>\n",
              "      <td>8</td>\n",
              "      <td>5</td>\n",
              "      <td>가</td>\n",
              "    </tr>\n",
              "  </tbody>\n",
              "</table>\n",
              "</div>"
            ],
            "text/plain": [
              "   e  f  g  h 구분\n",
              "0  3  1  7  0  가\n",
              "1  9  3  5  6  나\n",
              "2  9  3  6  2  다\n",
              "3  5  9  8  5  가"
            ]
          },
          "execution_count": 9,
          "metadata": {},
          "output_type": "execute_result"
        }
      ],
      "source": [
        "df2 = DataFrame( np.random.randint(10, size=(4,4)), columns=[\"e\", \"f\", \"g\", \"h\"])\n",
        "df2['구분'] = [\"가\", \"나\", \"다\", \"가\"]\n",
        "df2"
      ]
    },
    {
      "cell_type": "markdown",
      "metadata": {
        "id": "iRPc_kuCs84e"
      },
      "source": [
        "`pd.merge(df1, df2, on=\"칼럼이름\")` 형태로 사용합니다."
      ]
    },
    {
      "cell_type": "code",
      "execution_count": null,
      "metadata": {
        "id": "g2_VBYoDs84e",
        "outputId": "82ecab2c-fc48-492d-ef6c-38769f5b95de"
      },
      "outputs": [
        {
          "data": {
            "text/html": [
              "<div>\n",
              "<style scoped>\n",
              "    .dataframe tbody tr th:only-of-type {\n",
              "        vertical-align: middle;\n",
              "    }\n",
              "\n",
              "    .dataframe tbody tr th {\n",
              "        vertical-align: top;\n",
              "    }\n",
              "\n",
              "    .dataframe thead th {\n",
              "        text-align: right;\n",
              "    }\n",
              "</style>\n",
              "<table border=\"1\" class=\"dataframe\">\n",
              "  <thead>\n",
              "    <tr style=\"text-align: right;\">\n",
              "      <th></th>\n",
              "      <th>a</th>\n",
              "      <th>b</th>\n",
              "      <th>c</th>\n",
              "      <th>d</th>\n",
              "      <th>구분</th>\n",
              "      <th>e</th>\n",
              "      <th>f</th>\n",
              "      <th>g</th>\n",
              "      <th>h</th>\n",
              "    </tr>\n",
              "  </thead>\n",
              "  <tbody>\n",
              "    <tr>\n",
              "      <th>0</th>\n",
              "      <td>3</td>\n",
              "      <td>9</td>\n",
              "      <td>1</td>\n",
              "      <td>9</td>\n",
              "      <td>가</td>\n",
              "      <td>3</td>\n",
              "      <td>1</td>\n",
              "      <td>7</td>\n",
              "      <td>0</td>\n",
              "    </tr>\n",
              "    <tr>\n",
              "      <th>1</th>\n",
              "      <td>3</td>\n",
              "      <td>9</td>\n",
              "      <td>1</td>\n",
              "      <td>9</td>\n",
              "      <td>가</td>\n",
              "      <td>5</td>\n",
              "      <td>9</td>\n",
              "      <td>8</td>\n",
              "      <td>5</td>\n",
              "    </tr>\n",
              "    <tr>\n",
              "      <th>2</th>\n",
              "      <td>8</td>\n",
              "      <td>0</td>\n",
              "      <td>1</td>\n",
              "      <td>1</td>\n",
              "      <td>나</td>\n",
              "      <td>9</td>\n",
              "      <td>3</td>\n",
              "      <td>5</td>\n",
              "      <td>6</td>\n",
              "    </tr>\n",
              "  </tbody>\n",
              "</table>\n",
              "</div>"
            ],
            "text/plain": [
              "   a  b  c  d 구분  e  f  g  h\n",
              "0  3  9  1  9  가  3  1  7  0\n",
              "1  3  9  1  9  가  5  9  8  5\n",
              "2  8  0  1  1  나  9  3  5  6"
            ]
          },
          "execution_count": 10,
          "metadata": {},
          "output_type": "execute_result"
        }
      ],
      "source": [
        "pd.merge(df1, df2, on=\"구분\")"
      ]
    },
    {
      "cell_type": "markdown",
      "metadata": {
        "id": "p53IKw0Ls84f"
      },
      "source": [
        "`how` 옵션을 사용하면 `join` 방식을 지정할 수 있습니다. \n",
        "- `left` / `right` / `inner`"
      ]
    },
    {
      "cell_type": "code",
      "execution_count": null,
      "metadata": {
        "id": "nFnZmNTGs84f"
      },
      "outputs": [],
      "source": [
        ""
      ]
    }
  ],
  "metadata": {
    "kernelspec": {
      "display_name": "Python 3",
      "language": "python",
      "name": "python3"
    },
    "language_info": {
      "codemirror_mode": {
        "name": "ipython",
        "version": 3
      },
      "file_extension": ".py",
      "mimetype": "text/x-python",
      "name": "python",
      "nbconvert_exporter": "python",
      "pygments_lexer": "ipython3",
      "version": "3.8.8"
    },
    "toc": {
      "base_numbering": 1,
      "nav_menu": {},
      "number_sections": true,
      "sideBar": true,
      "skip_h1_title": false,
      "title_cell": "Table of Contents",
      "title_sidebar": "Contents",
      "toc_cell": false,
      "toc_position": {},
      "toc_section_display": true,
      "toc_window_display": true
    },
    "colab": {
      "name": "DataFrame1.ipynb",
      "provenance": [],
      "collapsed_sections": [
        "bCaAuEBIs84X",
        "XzmyGrKTs84e"
      ],
      "include_colab_link": true
    }
  },
  "nbformat": 4,
  "nbformat_minor": 0
}
