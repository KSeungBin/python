{
  "cells": [
    {
      "cell_type": "markdown",
      "metadata": {
        "id": "view-in-github",
        "colab_type": "text"
      },
      "source": [
        "<a href=\"https://colab.research.google.com/github/KSeungBin/python/blob/master/numpy2.ipynb\" target=\"_parent\"><img src=\"https://colab.research.google.com/assets/colab-badge.svg\" alt=\"Open In Colab\"/></a>"
      ]
    },
    {
      "cell_type": "markdown",
      "metadata": {
        "id": "fci8Foo7x6Gf"
      },
      "source": [
        "# Numpy - 2"
      ]
    },
    {
      "cell_type": "markdown",
      "metadata": {
        "id": "yJuHiygHx6Gr"
      },
      "source": [
        "numpy는 수치 연산과 관련된 모듈로, 숫자형 데이터를 보다 세분화된 형태로 저장합니다.\n",
        "- 크게 정수/실수/복소수/Boolean형으로 구분합니다.\n",
        "- 데이터형 뒤에는 비트수를 표기합니다. \n",
        "\n",
        "https://numpy.org/devdocs/user/basics.types.html"
      ]
    },
    {
      "cell_type": "markdown",
      "metadata": {
        "id": "vpYnqeK0x6Gu"
      },
      "source": [
        "인스턴스 변수 `dtype`에는 데이터 타입이 저장돼 있습니다. `int32`는 정수 (`integer`) 값을 저장할 수 있는 32 bits 자료형이라는 뜻입니다. 숫자가 커질 수록 더욱 큰 수를 저장할 수 있는 반면 더 많은 저장 공간을 필요로 합니다. "
      ]
    },
    {
      "cell_type": "code",
      "execution_count": 1,
      "metadata": {
        "colab": {
          "base_uri": "https://localhost:8080/"
        },
        "id": "s-tTwiPtx6Gw",
        "outputId": "b16dec23-ab53-429c-9a33-4a3f7fbf91db"
      },
      "outputs": [
        {
          "output_type": "stream",
          "name": "stdout",
          "text": [
            "int64\n"
          ]
        }
      ],
      "source": [
        "# 4는 3비트(100)로 표현할 수 있음. 즉 비트(0,1)는 데이터를 표현할 수 있는 가장 작은 단위\n",
        "# 4비트는 2의 네제곱 -> 따라서, 0(0000)부터 15(1111)까지 총 16개의 숫자를 표현할 수 있음. 부호가 있다면 -8~0~7까지 총 16개의 숫자를 표현할 수도 있음\n",
        "import numpy as np\n",
        "a = np.arange(4)\n",
        "print(a.dtype)\n",
        "# int64 : 2의 64제곱에 해당하는 숫자를 불러올 수 있음 -> 큰 숫자를 표현할 수 있지만 메모리를 많이 차지한다"
      ]
    },
    {
      "cell_type": "markdown",
      "metadata": {
        "id": "39UNTgHLx6G3"
      },
      "source": [
        "데이터 타입을 변경할 때는 `astype` 메서드를 사용합니다. `int8`은 `int32` 보다 적은 숫자를 저장할 수 있겠죠?"
      ]
    },
    {
      "cell_type": "code",
      "execution_count": 3,
      "metadata": {
        "colab": {
          "base_uri": "https://localhost:8080/"
        },
        "id": "Ot4qouRix6G4",
        "outputId": "9ad1788b-4f97-48ae-d475-115395b5c409"
      },
      "outputs": [
        {
          "output_type": "stream",
          "name": "stdout",
          "text": [
            "int8\n",
            "[ 127 -128 -127    3]\n"
          ]
        }
      ],
      "source": [
        "a = a.astype('int8') # 8비트로 숫자를 변환해라(부호가 없다면 0~255 or 부호가 있다면 -128~127) -> 그 결과를 a 변수에 바인딩(astype의 결과도 바인딩해서 사용해야 함!!)\n",
        "print(a.dtype)\n",
        "\n",
        "a[0] = 127  # ndarray의 0번 위치가 127을 가리키게 함\n",
        "a[1] = 128  # -128 이 출력되는 이유? 8bit 부호 있는 시스템에서는 -128~127 안에 있는 수만 표현할 수 있기 때문에 128은 표현할 수 없음(잘못된 데이터 타입 설정의 위험성)\n",
        "a[2] = 129  \n",
        "print(a)\n",
        "# 데이터의 값 범위가 제한적이라면 int8을 사용해야 메모리 공간 낭비를 막을 수 있다. => 데이터 타입의 최적화"
      ]
    },
    {
      "cell_type": "markdown",
      "metadata": {
        "id": "XLA_s5Eqx6G7"
      },
      "source": [
        "`uint8`은 부호없는 정수를 저장하며 `int8`보다 조금 더(2배) 큰 숫자를 저장할 수 있습니다. "
      ]
    },
    {
      "cell_type": "code",
      "execution_count": 4,
      "metadata": {
        "colab": {
          "base_uri": "https://localhost:8080/"
        },
        "id": "mMNvNeElx6G9",
        "outputId": "e62b92fa-6fa7-4052-fddb-1cf6389abd09"
      },
      "outputs": [
        {
          "output_type": "stream",
          "name": "stdout",
          "text": [
            "uint8\n",
            "[255   0 129   3]\n"
          ]
        }
      ],
      "source": [
        "a = a.astype('uint8') # unsigned int (음수를 사용하지 않는 대신 더 큰 수를 표현할 수 있다) : 0~255\n",
        "print(a.dtype)\n",
        "\n",
        "a[0] = 255\n",
        "a[1] = 256\n",
        "print(a)"
      ]
    },
    {
      "cell_type": "markdown",
      "metadata": {
        "id": "-0lV2hyTx6G_"
      },
      "source": [
        "## 넘파이의 연산\n",
        "넘파이의 사칙연산은 전체 데이터에 적용되는데, 이를 브로드 캐스팅 (broadcasting)이라고 합니다. \n",
        "### 사칙연산\n",
        "곱셈 연산이 `ndarray`에 저장된 모든 데이터에 적용됐음을 알 수 있습니다. "
      ]
    },
    {
      "cell_type": "code",
      "execution_count": 5,
      "metadata": {
        "colab": {
          "base_uri": "https://localhost:8080/"
        },
        "id": "Ta0Ts3XVx6HB",
        "outputId": "3c6b18c3-714f-4b60-8ea7-1e5f4617e927"
      },
      "outputs": [
        {
          "output_type": "stream",
          "name": "stdout",
          "text": [
            "[0 1 2 3]\n",
            "[0 3 6 9]\n"
          ]
        }
      ],
      "source": [
        "# 하나의 연산이 전체 데이터에 적용됨\n",
        "import numpy as np\n",
        "\n",
        "a = np.arange(4)\n",
        "print(a)\n",
        "print( a * 3 )"
      ]
    },
    {
      "cell_type": "markdown",
      "metadata": {
        "id": "7R7tvg6Lx6HD"
      },
      "source": [
        "곱셈 뿐만 아니라 덧셈/뺄셈/나눗셈에 대해서도 모두 동작합니다."
      ]
    },
    {
      "cell_type": "code",
      "execution_count": 6,
      "metadata": {
        "colab": {
          "base_uri": "https://localhost:8080/"
        },
        "id": "E_IUTCBix6HE",
        "outputId": "0622b420-e307-45cd-f565-1caee8bef7a5"
      },
      "outputs": [
        {
          "output_type": "stream",
          "name": "stdout",
          "text": [
            "[10 11 12 13]\n",
            "[-10  -9  -8  -7]\n",
            "[0.         0.33333333 0.66666667 1.        ]\n"
          ]
        }
      ],
      "source": [
        "print( a + 10 )\n",
        "print( a - 10 )\n",
        "print( a / 3 )"
      ]
    },
    {
      "cell_type": "markdown",
      "metadata": {
        "id": "OXjE_VZxx6HJ"
      },
      "source": [
        "ndarray와의 연산"
      ]
    },
    {
      "cell_type": "code",
      "execution_count": 8,
      "metadata": {
        "colab": {
          "base_uri": "https://localhost:8080/"
        },
        "id": "yV5rFdhpx6HK",
        "outputId": "940cabeb-b1c2-4b9e-95a3-45415b4bdd26"
      },
      "outputs": [
        {
          "output_type": "stream",
          "name": "stdout",
          "text": [
            "[2 4 6 8]\n"
          ]
        }
      ],
      "source": [
        "# 연산이 확장적으로 적용되긴 하지만, 논리적으로 타당해야 함\n",
        "a = np.arange(4)\n",
        "b = np.arange(2, 6)\n",
        "print(a+b) # 동일 위치에 동일 차원끼리 더하는 벡터 연산이 가능(단, 일대일대응이 되어야 함)"
      ]
    },
    {
      "cell_type": "markdown",
      "metadata": {
        "id": "VvWxofM7x6HL"
      },
      "source": [
        "Q. 중간고사 성적의 분산을 출력하라\n",
        "- v𝑎𝑟(𝑋)=𝐸((𝑋−𝜇)2)"
      ]
    },
    {
      "cell_type": "markdown",
      "metadata": {
        "id": "s-RUW-p-x6HM"
      },
      "source": [
        "<img src=\"https://i.ibb.co/SfVzf0Z/image.png\" width=\"250\" style=\"float:left\" />"
      ]
    },
    {
      "cell_type": "code",
      "execution_count": null,
      "metadata": {
        "id": "1tvTxIBIx6HN"
      },
      "outputs": [],
      "source": [
        "점수 = np.array([            ])"
      ]
    },
    {
      "cell_type": "markdown",
      "metadata": {
        "id": "nAm_TCBKx6HO"
      },
      "source": [
        "Q. 중간/기말고사 성적의 분산을 출력하라"
      ]
    },
    {
      "cell_type": "code",
      "execution_count": null,
      "metadata": {
        "id": "NOhFrLg3x6HP"
      },
      "outputs": [],
      "source": [
        "점수 = np.array([            ])"
      ]
    },
    {
      "cell_type": "code",
      "execution_count": null,
      "metadata": {
        "id": "PehYAbyPx6HP"
      },
      "outputs": [],
      "source": [
        "# 인덱싱, 슬라이싱 할 수 있다 = 해당 위치의 값을 바꿀 수 있다.\n",
        "a[0] = 30  # indexing : 하나의 데이터를 선택해 꺼내 줌\n",
        "a[:2] = 20 # 덩어리 데이터를 꺼내 와서 동일한 데이터 타입으로 반환 함\n",
        "a[[0,3]] = 0\n",
        "# series, dataframe에도 반복되는 개념"
      ]
    },
    {
      "cell_type": "markdown",
      "metadata": {
        "id": "BS9FrAdGx6HQ"
      },
      "source": [
        "### 비교연산\n",
        "넘파이는 크다/작다/같다/다르다 등의 비교 연산을 지원합니다. 연산의 결과는 Boolean형 데이터 타입이며, 사칙연산과 같이 모든 데이터에 비교 연산이 적용됩니다. 연산의 결괏값은 `ndarray` 입니다. "
      ]
    },
    {
      "cell_type": "code",
      "execution_count": 9,
      "metadata": {
        "colab": {
          "base_uri": "https://localhost:8080/"
        },
        "id": "8jDJIde-x6HR",
        "outputId": "4ba8a19a-9034-4f87-acd4-199af9b8ecbc"
      },
      "outputs": [
        {
          "output_type": "stream",
          "name": "stdout",
          "text": [
            "[False False False False  True]\n"
          ]
        }
      ],
      "source": [
        "a = np.arange(5)\n",
        "결과 = a > 3 # ndarray에는 하나의 연산이 전체 데이터로 확장되는 broadcasting이 적용됨(비교연산의 결과는 boolean형 데이터 타입 -> 그 결과가 ndarray 형태로 반환됨)\n",
        "print(결과)"
      ]
    },
    {
      "cell_type": "markdown",
      "metadata": {
        "id": "mheodiSXx6HS"
      },
      "source": [
        "<img src=\"https://i.ibb.co/HTpkqfW/1.png\" width=\"600\" style=\"float:left\" />"
      ]
    },
    {
      "cell_type": "markdown",
      "metadata": {
        "id": "fU4yHwb4x6HT"
      },
      "source": [
        "불린형 데이터 타입이 저장된 `ndarray`를 사용해서 값을 filtering할 수 있습니다. 조건을 충족하는 4가 출력됩니다. "
      ]
    },
    {
      "cell_type": "code",
      "execution_count": 11,
      "metadata": {
        "colab": {
          "base_uri": "https://localhost:8080/"
        },
        "id": "dvfEsYaHx6HU",
        "outputId": "07f91131-b31c-4bd3-c60d-3d465bee30ee"
      },
      "outputs": [
        {
          "output_type": "stream",
          "name": "stdout",
          "text": [
            "[4]\n"
          ]
        }
      ],
      "source": [
        "# boolean형 데이터 타입(T/F)이 저장된 ndarray를 슬라이싱(참인 위치에 대응하는 데이터만 슬라이싱하여 엑셀의 filtering 기능과 유사)\n",
        "a = np.arange(5)\n",
        "조건 = a > 3 \n",
        "print(a[조건])  # ndarray"
      ]
    },
    {
      "cell_type": "markdown",
      "metadata": {
        "id": "rTKSt6_fx6HU"
      },
      "source": [
        "위 코드는 간단하기 때문에 조건 비교와 인덱싱을 한 번에 표현할 수 있습니다. "
      ]
    },
    {
      "cell_type": "code",
      "execution_count": 10,
      "metadata": {
        "colab": {
          "base_uri": "https://localhost:8080/"
        },
        "id": "MeHBWhckx6HV",
        "outputId": "b4ccda27-a81a-43b6-818e-e915be95b276"
      },
      "outputs": [
        {
          "output_type": "execute_result",
          "data": {
            "text/plain": [
              "array([4])"
            ]
          },
          "metadata": {},
          "execution_count": 10
        }
      ],
      "source": [
        "a[a>3]\n",
        "# indexing : a[0]\n",
        "# slicing : a[ : 2]\n",
        "# 불연속적인 데이터를 선택(by list) : a[[0,2], :]\n",
        "# mask : a[a>3]"
      ]
    },
    {
      "cell_type": "markdown",
      "metadata": {
        "id": "sj3oK0-Jx6HV"
      },
      "source": [
        "`np.where` 구문을 사용하면 데이터를 쉽게 변경할 수 있습니다. "
      ]
    },
    {
      "cell_type": "code",
      "execution_count": null,
      "metadata": {
        "id": "tn6VNPVUx6HW",
        "outputId": "12809cd0-2629-44d4-912b-f55c8b5ce290"
      },
      "outputs": [
        {
          "data": {
            "text/plain": [
              "array([ 0,  1, 44,  3, 44])"
            ]
          },
          "execution_count": 36,
          "metadata": {},
          "output_type": "execute_result"
        }
      ],
      "source": [
        ""
      ]
    },
    {
      "cell_type": "markdown",
      "metadata": {
        "id": "QTYx4HaBx6HX"
      },
      "source": [
        "비교할 조건이 다수라면 `&` 기호로 조건을 구분하며, 각각의 조건 역시 괄호 `( )`로 구분해저야 합니다. "
      ]
    },
    {
      "cell_type": "code",
      "execution_count": null,
      "metadata": {
        "id": "U5zv7gLzx6HY"
      },
      "outputs": [],
      "source": [
        ""
      ]
    },
    {
      "cell_type": "markdown",
      "metadata": {
        "id": "wNF6WLInx6HY"
      },
      "source": [
        "Q. LG전자의 종가 데이터가 ndarray 형태로 저장되어 있다. LG 전자의 주가가 85000원 보다 작을 때의 가격을 출력하라."
      ]
    },
    {
      "cell_type": "code",
      "execution_count": 13,
      "metadata": {
        "id": "XK1ofAp3x6HZ"
      },
      "outputs": [],
      "source": [
        "lge = np.array([93000, 82400, 99100, 81000, 72300])"
      ]
    },
    {
      "cell_type": "code",
      "execution_count": 14,
      "metadata": {
        "colab": {
          "base_uri": "https://localhost:8080/"
        },
        "id": "hHY7uMpXx6HZ",
        "outputId": "ebb434c7-a120-411c-bde3-ed96b3f217a3"
      },
      "outputs": [
        {
          "output_type": "execute_result",
          "data": {
            "text/plain": [
              "array([82400, 81000, 72300])"
            ]
          },
          "metadata": {},
          "execution_count": 14
        }
      ],
      "source": [
        "lge[lge<85000]"
      ]
    },
    {
      "cell_type": "markdown",
      "metadata": {
        "id": "2NunKupVx6HZ"
      },
      "source": [
        "Q. LG 전자의 주가가 85000원 이하로 떨어진 횟수는?"
      ]
    },
    {
      "cell_type": "code",
      "execution_count": 16,
      "metadata": {
        "colab": {
          "base_uri": "https://localhost:8080/"
        },
        "id": "wowhZXMgx6Ha",
        "outputId": "5af1144e-9c89-48c0-beb7-786513c3850a"
      },
      "outputs": [
        {
          "output_type": "execute_result",
          "data": {
            "text/plain": [
              "3"
            ]
          },
          "metadata": {},
          "execution_count": 16
        }
      ],
      "source": [
        "len(lge[lge<85000])"
      ]
    },
    {
      "cell_type": "markdown",
      "metadata": {
        "id": "ZcIUpBj8x6Hb"
      },
      "source": [
        "Q. 종가가 80000원 이상  90000원 미만인 값을 출력하라"
      ]
    },
    {
      "cell_type": "code",
      "execution_count": 18,
      "metadata": {
        "colab": {
          "base_uri": "https://localhost:8080/"
        },
        "id": "mxvEm6yox6Hb",
        "outputId": "fd88a65d-fa91-4ba3-d5a4-1b6d7b9446ea"
      },
      "outputs": [
        {
          "output_type": "execute_result",
          "data": {
            "text/plain": [
              "array([82400, 81000])"
            ]
          },
          "metadata": {},
          "execution_count": 18
        }
      ],
      "source": [
        "cond1 = lge >= 80000 \n",
        "cond2 = lge < 90000\n",
        "lge[cond1 & cond2]"
      ]
    },
    {
      "cell_type": "code",
      "source": [
        "lge[cond1 | cond2] # or 조건"
      ],
      "metadata": {
        "colab": {
          "base_uri": "https://localhost:8080/"
        },
        "id": "8JPas8e84q_m",
        "outputId": "b765dd40-2953-47ec-b26e-62645210e219"
      },
      "execution_count": 19,
      "outputs": [
        {
          "output_type": "execute_result",
          "data": {
            "text/plain": [
              "array([93000, 82400, 99100, 81000, 72300])"
            ]
          },
          "metadata": {},
          "execution_count": 19
        }
      ]
    },
    {
      "cell_type": "code",
      "source": [
        "lge[~cond1] # not 조건"
      ],
      "metadata": {
        "colab": {
          "base_uri": "https://localhost:8080/"
        },
        "id": "LA4-nxLd4u6y",
        "outputId": "7c03899f-9ecc-4fa7-80fe-ec2d3de1241b"
      },
      "execution_count": 20,
      "outputs": [
        {
          "output_type": "execute_result",
          "data": {
            "text/plain": [
              "array([72300])"
            ]
          },
          "metadata": {},
          "execution_count": 20
        }
      ]
    },
    {
      "cell_type": "code",
      "source": [
        "# 연산자의 우선순위가 있어 python interpreter는 (80000 & lge)를 먼저 수행하려고 해 error 발생 -> 따라서, 괄호 필수!\n",
        "lge[(lge >= 80000) & (lge < 90000)]"
      ],
      "metadata": {
        "colab": {
          "base_uri": "https://localhost:8080/"
        },
        "id": "H-nFvaKk4zVj",
        "outputId": "3b3164f2-7738-45d8-d755-382ac2cf6c89"
      },
      "execution_count": 21,
      "outputs": [
        {
          "output_type": "execute_result",
          "data": {
            "text/plain": [
              "array([82400, 81000])"
            ]
          },
          "metadata": {},
          "execution_count": 21
        }
      ]
    }
  ],
  "metadata": {
    "kernelspec": {
      "display_name": "Python 3",
      "language": "python",
      "name": "python3"
    },
    "language_info": {
      "codemirror_mode": {
        "name": "ipython",
        "version": 3
      },
      "file_extension": ".py",
      "mimetype": "text/x-python",
      "name": "python",
      "nbconvert_exporter": "python",
      "pygments_lexer": "ipython3",
      "version": "3.8.8"
    },
    "toc": {
      "base_numbering": 1,
      "nav_menu": {},
      "number_sections": true,
      "sideBar": true,
      "skip_h1_title": false,
      "title_cell": "Table of Contents",
      "title_sidebar": "Contents",
      "toc_cell": false,
      "toc_position": {},
      "toc_section_display": true,
      "toc_window_display": false
    },
    "colab": {
      "name": "numpy2.ipynb",
      "provenance": [],
      "collapsed_sections": [],
      "include_colab_link": true
    }
  },
  "nbformat": 4,
  "nbformat_minor": 0
}
