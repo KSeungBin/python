{
 "cells": [
  {
   "cell_type": "markdown",
   "metadata": {},
   "source": [
    "# 8.네이버 오픈API 사용하기"
   ]
  },
  {
   "cell_type": "markdown",
   "metadata": {},
   "source": [
    "### 책 검색\n",
    " - 책검색 https://book.naver.com/\n",
    " - 네이버오픈API https://developers.naver.com/products/intro/plan/ \n",
    " - API사용신청 https://developers.naver.com/apps/#/register \n"
   ]
  },
  {
   "cell_type": "code",
   "execution_count": 1,
   "metadata": {},
   "outputs": [
    {
     "name": "stdout",
     "output_type": "stream",
     "text": [
      "검색 도서명: opencv-python\n",
      "\n",
      "제목: <b>OpenCV-Python</b>으로 배우는 영상처리 및 응용\n",
      "저자: 정성환\n",
      "설명: 『<b>OPENCV-PYTHON</b>으로 배우는 영상 처리 및 응용』 은 〈영상처리란 무엇인가?〉, 〈영상처리의 수준〉, 〈영상처리의 역사〉, 〈디지털 영상의 표현과 영상처리〉, 〈OPENCV와 파이썬 개요〉, 〈파이썬(PYTHON) 설치 및 사용〉 등을 수록하고 있는 책이다.\n",
      "url: http://book.naver.com/bookdb/book_detail.php?bid=17526674\n",
      "\n",
      "\n",
      "\n",
      "제목: <b>python</b>으로 배우는 OpenCV 프로그래밍\n",
      "저자: 김동근\n",
      "설명: <b>PYTHON</b>으로 OPENCV 프로그래밍을 구현하였습니다.- <b>PYTHON</b>, NUMPY, MATPLOTLIB, OPENCV. TENSORFLOW 사용- 영상 및 비디오 입출력, 그래픽, 이벤트 처리, OPENCV 기본연산- 임계값, 히스토그램 처리, 영상 필터링, 영상 분할- 특징 검출, 디스크립터, 매칭- 비디오에서 이동 물체 검출 및 물체 추적... \n",
      "url: http://book.naver.com/bookdb/book_detail.php?bid=13954210\n",
      "\n",
      "\n",
      "\n",
      "제목: OpenCV 4로 배우는 컴퓨터 비전과 머신 러닝 (컴퓨터 비전 기초부터 딥러닝 활용까지!)\n",
      "저자: 황선규\n",
      "설명: 라이브러리를 사용하는 방법을 설명하지만, 파이썬을 이용한 소스 코드가 필요한 분은 다음 URL에서 내려받으실 수 있습니다.\n",
      "(책 본문에서 설명하는 Mat 클래스, Scalar 클래스 사용법 등 C/C+에 특화된 내용은 제외합니다)\n",
      "파이썬 소스 코드 보기: https://github.com/sunkyoo/opencv4cvml/tree/master/<b>python</b>\n",
      "url: http://book.naver.com/bookdb/book_detail.php?bid=14722394\n",
      "\n",
      "\n"
     ]
    }
   ],
   "source": [
    "import urllib.request\n",
    "import json\n",
    "\n",
    "#------------------------------------\n",
    "# 네이버 애플리케이션 등록 정보\n",
    "#------------------------------------\n",
    "Client_ID = \"WlIpA7IkqcaBRP6XKyUk\"  # 자신의 client id \n",
    "Client_Secret = \"pIew6Mp_Fr\"    # 자신의 client secret\n",
    "\n",
    "#------------------------------------\n",
    "#  검색어 입력받아 네이버검색 url 설정\n",
    "#------------------------------------\n",
    "# 검색어 입력\n",
    "title = input(\"검색 도서명: \")\n",
    "\n",
    "# url설정\n",
    "url = \"https://openapi.naver.com/v1/search/book.json\"\n",
    "option = \"&display=3&sort=count\"    \n",
    "query = \"?query=\"+urllib.parse.quote(title)\n",
    "url_query = url + query + option\n",
    "    \n",
    "#Open API 검색 요청 개체 설정\n",
    "request = urllib.request.Request(url_query)\n",
    "request.add_header(\"X-Naver-Client-Id\", Client_ID)\n",
    "request.add_header(\"X-Naver-Client-Secret\", Client_Secret)\n",
    "\n",
    "#------------------------------------\n",
    "# 검색 요청 및 처리\n",
    "#------------------------------------\n",
    "response = urllib.request.urlopen(request)\n",
    "rescode = response.getcode()\n",
    "if(rescode == 200):\n",
    "    result = response.read().decode('utf-8')\n",
    "    #print(result) # result에 어떤 값이 들어 있는지 확인해 보기\n",
    "else:\n",
    "    print(\"검색에 실패하였습니다.\")\n",
    "    exit()\n",
    "\n",
    "#------------------------------------\n",
    "# 검색 결과 parsing 해서 보기좋게 출력하기\n",
    "#------------------------------------\n",
    "j_result = json.loads(result)   #검색 결과를 json타입으로 보여주기 - dict type으로 보여줌(items 항목 역시 dict type으로 출력됨)\n",
    "if j_result == None:\n",
    "    print(\"json.loads 실패하였습니다.\")\n",
    "    exit()\n",
    "#print(j_result) # j_result에 어떤 값이 들어 있는지 확인해 보기\n",
    " \n",
    "# j_result의 결과 중 도서 정보가 담긴 items 항목의 내용을 parsing한다.\n",
    "# json 타입으로 출력된 결과를 parsing하여 보기 좋게 출력되게 함\n",
    "for item in j_result['items']:\n",
    "    print(\"\\n제목: \" + item['title'])\n",
    "    print(\"저자: \" + item['author'])\n",
    "    print(\"설명: \" + item['description'])\n",
    "    print(\"url: \" + item['link'])\n",
    "    print(\"\\n\")\n"
   ]
  },
  {
   "cell_type": "markdown",
   "metadata": {},
   "source": [
    "# secret key 넣고 데이터 형태(xml(tag형태), json(dict type)...) 정의함\n",
    "- '공공데이터포털' 가장 많이 사용 - 검색하고, 필요한 데이터는 활용 '신청' 해야 함  \n",
    "- 그 중에서도 기상청의 기상 데이터"
   ]
  },
  {
   "cell_type": "code",
   "execution_count": null,
   "metadata": {},
   "outputs": [],
   "source": [
    "Client_ID = \"C5VZh2oJOO8EQox4fYSk\"\n",
    "Client_Secret = \"5GohLDtlWU\"\n",
    "title = input(\"검색 도서명: \")\n",
    "url = \"https://openapi.naver.com/v1/search/book.json\"\n"
   ]
  },
  {
   "cell_type": "code",
   "execution_count": 2,
   "metadata": {},
   "outputs": [
    {
     "ename": "SyntaxError",
     "evalue": "invalid syntax (3685291960.py, line 3)",
     "output_type": "error",
     "traceback": [
      "\u001b[0;36m  File \u001b[0;32m\"/tmp/ipykernel_6486/3685291960.py\"\u001b[0;36m, line \u001b[0;32m3\u001b[0m\n\u001b[0;31m    <response>\u001b[0m\n\u001b[0m    ^\u001b[0m\n\u001b[0;31mSyntaxError\u001b[0m\u001b[0;31m:\u001b[0m invalid syntax\n"
     ]
    }
   ],
   "source": [
    "import urllib.request\n",
    "import json\n",
    "title = input('지역명: ')\n",
    "<response>\n",
    "<header>\n",
    "<resultCode>00</resultCode>\n",
    "<resultMsg>NORMAL_SERVICE</resultMsg>\n",
    "</header>\n",
    "<body>\n",
    "<dataType>XML</dataType>\n",
    "<items>\n",
    "<item>\n",
    "<stnId>108</stnId>\n",
    "<tmFc>202109091700</tmFc>\n",
    "<wfSv1>□ (종합) 내일과 모레 제주도 중심 비, 오늘 밤~내일 아침 중부내륙 중심 짙은 안개 주의 ○ (오늘) 중부지방 대체로 맑음, 남부지방과 제주도 가끔 구름많음 ○ (내일) 중부지방 가끔 구름많음, 남부지방과 제주도 대체로 흐림, 새벽에 전라권과 제주도 비 시작, 아침에 경남남해안 확대 후 오후에 전라권과 경남남해안 차차 그침 낮 동안 그 밖의 대부분 지역 빗방울 곳 ○ (모레) 전국 가끔 구름많다가 오후부터 차차 맑아짐, 제주도 흐리고 낮까지 비 ○ (글피) 전국 대체로 맑겠으나, 제주도 대체로 흐림 □ 예상 강수량(10~11일) ○ 제주도: 30~80mm(많은 곳 산지 120mm 이상) ○ (10일) 전라권, 경남남해안: 5~20mm </wfSv1>\n",
    "<wn>※ 특보 및 예비특보 발표현황은 아래의 사이트를 참고하시기 바랍니다. - 기상청 홈페이지(http://www.weather.go.kr) - 모바일(http://m.kma.go.kr) - 방재기상정보시스템(http://afso.kma.go.kr) ※ 특정관리해역 특보현황(http://afso.kma.go.kr/m/wrnSpec.jsp)</wn>\n",
    "<wr>o 없음</wr>\n",
    "</item>\n",
    "</items>\n",
    "<numOfRows>10</numOfRows>\n",
    "<pageNo>1</pageNo>\n",
    "<totalCount>1</totalCount>\n",
    "</body>\n",
    "</response>"
   ]
  }
 ],
 "metadata": {
  "kernelspec": {
   "display_name": "Python 3 (ipykernel)",
   "language": "python",
   "name": "python3"
  },
  "language_info": {
   "codemirror_mode": {
    "name": "ipython",
    "version": 3
   },
   "file_extension": ".py",
   "mimetype": "text/x-python",
   "name": "python",
   "nbconvert_exporter": "python",
   "pygments_lexer": "ipython3",
   "version": "3.8.0"
  }
 },
 "nbformat": 4,
 "nbformat_minor": 4
}
