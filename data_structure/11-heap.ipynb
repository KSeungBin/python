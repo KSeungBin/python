{
 "cells": [
  {
   "cell_type": "markdown",
   "metadata": {},
   "source": [
    "## 대표적인 데이터 구조8: 힙"
   ]
  },
  {
   "cell_type": "markdown",
   "metadata": {},
   "source": [
    "### 1. 힙 (Heap) 이란?\n",
    "- 힙: 데이터에서 최대값과 최소값을 빠르게 찾기 위해 고안된 완전 이진 트리(Complete Binary Tree)\n",
    "  - 완전 이진 트리: 노드를 삽입할 때 최하단 왼쪽 노드부터 차례대로 삽입하는 트리\n",
    "\n",
    "<img src=\"https://www.fun-coding.org/00_Images/completebinarytree.png\" width=300>\n",
    "\n",
    "- 힙을 사용하는 이유\n",
    "  - 배열에 데이터를 넣고, 최대값과 최소값을 찾으려면 O(n) 이 걸림\n",
    "  - 이에 반해, 힙에 데이터를 넣고, 최대값과 최소값을 찾으면, $ O(log n) $ 이 걸림\n",
    "  - <font color= '#0000FF'>우선순위 큐</font>와 같이 최대값 또는 최소값을 빠르게 찾아야 하는 자료구조 및 알고리즘 구현 등에 활용됨"
   ]
  },
  {
   "cell_type": "markdown",
   "metadata": {},
   "source": [
    "### 2. 힙 (Heap) 구조\n",
    "- 힙은 최대값을 구하기 위한 구조 (최대 힙, Max Heap) 와, 최소값을 구하기 위한 구조 (최소 힙, Min Heap) 로 분류할 수 있음\n",
    "- 힙은 다음과 같이 두 가지 조건을 가지고 있는 자료구조임\n",
    "  1. 각 노드의 값은 해당 노드의 자식 노드가 가진 값보다 크거나 같다. (최대 힙의 경우)\n",
    "     - 최소 힙의 경우는 각 노드의 값은 해당 노드의 자식 노드가 가진 값보다 크거나 작음\n",
    "  2. 완전 이진 트리 형태를 가짐\n",
    "\n",
    ">즉, 최대 힙의 경우 root node에 반드시 최댓값을 가지고, 최소 힙의 경우 root node에 반드시 최솟값을 가지므로  \n",
    "> root node에 들어있는 값만 가져오면 바로 최댓값과 최솟값을 구할 수 있다.\n",
    "\n",
    "\n",
    "### 힙과 이진 탐색 트리의 공통점과 차이점\n",
    "- 공통점: 힙과 이진 탐색 트리는 모두 이진 트리임\n",
    "- 차이점: \n",
    "  - 힙은 각 노드의 값이 자식 노드보다 크거나 같음(Max Heap의 경우)\n",
    "  - 이진 탐색 트리는 왼쪽 자식 노드의 값이 가장 작고, 그 다음 부모 노드, 그 다음 오른쪽 자식 노드 값이 가장 큼\n",
    "  - 힙은 이진 탐색 트리의 조건인 자식 노드에서 작은 값은 왼쪽, 큰 값은 오른쪽이라는 조건은 없음\n",
    "    - 힙의 왼쪽 및 오른쪽 자식 노드의 값은 오른쪽이 클 수도 있고, 왼쪽이 클 수도 있음\n",
    "- <font color='#EEEGGG'>이진 탐색 트리는 탐색을 위한 구조, 힙은 최대/최소값 검색을 위한 구조 중 하나로 이해하면 됨 </font> \n",
    "<img src=\"https://www.fun-coding.org/00_Images/completebinarytree_bst.png\" width=\"800\" />\n"
   ]
  },
  {
   "cell_type": "markdown",
   "metadata": {},
   "source": [
    "### 3. 힙 (Heap) 동작\n",
    "- 데이터를 힙 구조에 삽입, 삭제하는 과정을 그림을 통해 선명하게 이해하기\n",
    "\n",
    "### 힙에 데이터 삽입하기 - 기본 동작 \n",
    "- 힙은 완전 이진 트리이므로, 삽입할 노드는 기본적으로 왼쪽 최하단부 노드부터 채워지는 형태로 삽입  \n",
    "- 일단 데이터를 완전 이진 트리 형식으로 왼쪽 자식 노드부터 삽입한 다음, 최대/최소 조건에 따라 자식 노드와 부모 노드를 바꿔주는 동작을 함  \n",
    "<img src=\"https://www.fun-coding.org/00_Images/heap_ordinary.png\">"
   ]
  },
  {
   "cell_type": "markdown",
   "metadata": {},
   "source": [
    "### 힙에 데이터 삽입하기 - 삽입할 데이터가 힙의 데이터보다 클 경우 (Max Heap 의 예)\n",
    "- 먼저 삽입된 데이터는 완전 이진 트리 구조에 맞추어, 최하단부 왼쪽 노드부터 채워짐\n",
    "- 채워진 노드 위치에서, 부모 노드보다 값이 클 경우, 부모 노드와 위치를 바꿔주는 작업을 반복함 (swap)\n",
    "<img src=\"https://www.fun-coding.org/00_Images/heap_insert.png\">"
   ]
  },
  {
   "cell_type": "markdown",
   "metadata": {},
   "source": [
    "### 힙의 데이터 삭제하기 (Max Heap 의 예)\n",
    "- 보통 삭제는 최상단 노드 (root 노드)를 삭제하는 것이 일반적임 (ROOT가 아닌 노드를 삭제할 일은 없다고 보면 됨)  \n",
    "  - 힙의 용도는 최대값 또는 최소값을 root 노드에 놓아서, 최대값과 최소값을 바로 꺼내 쓸 수 있도록 하는 것임\n",
    "- 상단의 데이터 삭제시, 가장 최하단부 왼쪽에 위치한 노드 (일반적으로 가장 마지막에 추가한 노드) 를 root 노드로 이동\n",
    "- root 노드의 값이 child node 보다 작을 경우, root 노드의 child node 중 가장 큰 값을 가진 노드와 root 노드 위치를 바꿔주는 작업을 반복함 (swap)\n",
    "\n",
    "<img src=\"https://www.fun-coding.org/00_Images/heap_remove.png\">\n",
    "\n",
    "\n",
    "\n",
    "\n",
    "(1) 20 -> 10 -> 15 -> 5 -> 4 -> 8 순서로 데이터가 삽입되었을 것      \n",
    "(2) 따라서 가장 마지막 노드인 8을 root node로 올린다      \n",
    "(3) 최대 힙이므로, 부모 노드와 자식 노드를 비교해 자식 노드의 값이 더 큰 경우 자리를 서로 바꾼다      "
   ]
  },
  {
   "cell_type": "markdown",
   "metadata": {},
   "source": [
    "### 4. 힙 구현\n",
    "### 힙과 배열\n",
    "- 일반적으로 힙 구현시 배열 자료구조를 활용함(힙이 완전 이진 트리의 형태를 띄기 때문에 가능한 것)\n",
    "- 배열은 인덱스가 0번부터 시작하지만, 힙 구현의 편의를 위해, root 노드 인덱스 번호를 1로 지정하면(즉 배열의 0번은 비워두고 1번부터 채워넣기), 구현이 좀더 수월함\n",
    "  - 부모 노드 인덱스 번호 (parent node's index) = 자식 노드 인덱스 번호 (child node's index) // 2\n",
    "  - 왼쪽 자식 노드 인덱스 번호 (left child node's index) = 부모 노드 인덱스 번호 (parent node's index) * 2\n",
    "  - 오른쪽 자식 노드 인덱스 번호 (right child node's index) = 부모 노드 인덱스 번호 (parent node's index) * 2 + 1\n",
    "<img src=\"https://www.fun-coding.org/00_Images/heap_array.png\" width=400>"
   ]
  },
  {
   "cell_type": "code",
   "execution_count": 4,
   "metadata": {},
   "outputs": [
    {
     "data": {
      "text/plain": [
       "1"
      ]
     },
     "execution_count": 4,
     "metadata": {},
     "output_type": "execute_result"
    }
   ],
   "source": [
    "# 예1 - 10 노드의 부모 노드 인덱스\n",
    "2 // 2"
   ]
  },
  {
   "cell_type": "code",
   "execution_count": 6,
   "metadata": {},
   "outputs": [
    {
     "data": {
      "text/plain": [
       "2"
      ]
     },
     "execution_count": 6,
     "metadata": {},
     "output_type": "execute_result"
    }
   ],
   "source": [
    "# 예1 - 15 노드의 왼쪽 자식 노드 인덱스 번호\n",
    "1 * 2"
   ]
  },
  {
   "cell_type": "code",
   "execution_count": 7,
   "metadata": {},
   "outputs": [
    {
     "data": {
      "text/plain": [
       "5"
      ]
     },
     "execution_count": 7,
     "metadata": {},
     "output_type": "execute_result"
    }
   ],
   "source": [
    "# 예1 - 15 노드의 오른쪽 자식 노드 인덱스 번호\n",
    "2 * 2 + 1"
   ]
  },
  {
   "cell_type": "markdown",
   "metadata": {},
   "source": [
    "### 힙에 데이터 삽입 구현 (Max Heap 예)"
   ]
  },
  {
   "cell_type": "markdown",
   "metadata": {},
   "source": [
    "- 힙 클래스 구현1 "
   ]
  },
  {
   "cell_type": "code",
   "execution_count": 1,
   "metadata": {},
   "outputs": [],
   "source": [
    "class Heap:\n",
    "    def __init__(self, data):\n",
    "        self.heap_array = list()       # python은 배열 구조를 리스트로 표현하는 것이 가장 편함\n",
    "        self.heap_array.append(None)  # 리스트[0]은 비워두고\n",
    "        self.heap_array.append(data)  # 배열의 1번부터 데이터를 채워넣음"
   ]
  },
  {
   "cell_type": "code",
   "execution_count": 2,
   "metadata": {},
   "outputs": [
    {
     "data": {
      "text/plain": [
       "[None, 1]"
      ]
     },
     "execution_count": 2,
     "metadata": {},
     "output_type": "execute_result"
    }
   ],
   "source": [
    "heap = Heap(1) # 인자로 최초 데이터를 넣으면 그에 맞는 힙 자료 구조를 가진 객체가 생성됨\n",
    "heap.heap_array"
   ]
  },
  {
   "cell_type": "markdown",
   "metadata": {},
   "source": [
    "- 힙 클래스 구현2 - insert1\n",
    "  - 인덱스 번호는 1번부터 시작하도록 변경\n",
    "\n",
    "<img src=\"https://www.fun-coding.org/00_Images/heap_ordinary.png\">"
   ]
  },
  {
   "cell_type": "code",
   "execution_count": 11,
   "metadata": {},
   "outputs": [],
   "source": [
    "# 1. 데이터 들어올 때마다 데이터를 쌓는 과정 구현\n",
    "# append 메서드는 배열의 맨 끝에 데이터를 추가(즉 index 4번까지 데이터가 있으면, index 5번에 노드가 추가됨 ) - 완전 이진 트리 매커니즘 따르는 것\n",
    "class Heap:\n",
    "    def __init__(self, data):\n",
    "        self.heap_array = list()\n",
    "        self.heap_array.append(None)\n",
    "        self.heap_array.append(data)\n",
    "        \n",
    "    def insert(self, data):\n",
    "        if len(self.heap_array) == 0:    # root node가 없는 경우 데이터를 삽입하고 반환하면 끝\n",
    "            self.heap_array.append(None)\n",
    "            self.heap_array.append(data)\n",
    "            return True\n",
    "        \n",
    "        self.heap_array.append(data)\n",
    "        return True           "
   ]
  },
  {
   "cell_type": "markdown",
   "metadata": {},
   "source": [
    "- 힙 클래스 구현3 - insert2\n",
    "  - 삽입한 노드가 부모 노드의 값보다 클 경우, 부모 노드와 삽입한 노드 위치를 바꿈\n",
    "  - 삽입한 노드가 루트 노드가 되거나, 부모 노드보다 값이 작거나 같을 경우까지 반복\n",
    "---\n",
    "- 특정 노드의 관련 노드 위치 알아내기\n",
    "  - 부모 노드 인덱스 번호 (parent node's index) = 자식 노드 인덱스 번호 (child node's index) // 2\n",
    "  - 왼쪽 자식 노드 인덱스 번호 (left child node's index) = 부모 노드 인덱스 번호 (parent node's index) * 2\n",
    "  - 오른쪽 자식 노드 인덱스 번호 (right child node's index) = 부모 노드 인덱스 번호 (parent node's index) * 2 + 1\n",
    "\n",
    "<img src=\"https://www.fun-coding.org/00_Images/heap_insert.png\">"
   ]
  },
  {
   "cell_type": "code",
   "execution_count": 3,
   "metadata": {},
   "outputs": [],
   "source": [
    "# 1. insert : append만 하면 맨 끝에 데이터가 추가되어 데이터 입력은 간단히 해결됨\n",
    "# 2. 현재 insert한 데이터의 위치를 기반으로  부모 노드와 비교해서 부모 노드의 값이 더 작다면 반복작업으로 swap 해야 한다.\n",
    "# 3. swap은 부모노드의 값이 자식노드보다 클 때 or root node까지 도달했을 때 멈춘다.\n",
    "class Heap:\n",
    "    def __init__(self, data):\n",
    "        self.heap_array = list()\n",
    "        self.heap_array.append(None)\n",
    "        self.heap_array.append(data)\n",
    "        \n",
    "    def move_up(self, inserted_idx):  \n",
    "        if inserted_idx <= 1:   # index 1번 = root node : 따라서, 최댓값을 가진 노드가 root node까지 이동했다면 더 이상 swap 필요 없다\n",
    "            return False\n",
    "        \n",
    "        parent_idx = inserted_idx // 2\n",
    "        if self.heap_array[inserted_idx] > self.heap_array[parent_idx]:\n",
    "            return True    # swap \n",
    "        else:\n",
    "            return False\n",
    "        \n",
    "    def insert(self, data):\n",
    "        if len(self.heap_array) == 0:\n",
    "            self.heap_array.append(None)\n",
    "            self.heap_array.append(data)\n",
    "            return True\n",
    "        \n",
    "        self.heap_array.append(data)\n",
    "        \n",
    "        inserted_idx = len(self.heap_array) - 1   # 배열의 0번 자리를 비워뒀기 때문에 배열의 길이는 노드 수보다 하나 더 많다.\n",
    "                                                  # 따라서 length - 1까지 데이터가 쭉 있는 것\n",
    "        \n",
    "        while self.move_up(inserted_idx):   # TRUE이면 부모노드(inserted_idx의 부모노드)와 자식노드(inserted_idx)의 값을 계속 바꾼다\n",
    "            parent_idx = inserted_idx // 2\n",
    "            \n",
    "            # swap\n",
    "            self.heap_array[inserted_idx], self.heap_array[parent_idx] = self.heap_array[parent_idx], self.heap_array[inserted_idx]\n",
    "            inserted_idx = parent_idx  # swap 하면 자식노드의 인덱스 값이 부모노드의 인덱스 값으로 바뀐다.\n",
    "        \n",
    "        return True\n"
   ]
  },
  {
   "cell_type": "code",
   "execution_count": 4,
   "metadata": {},
   "outputs": [
    {
     "data": {
      "text/plain": [
       "[None, 20, 10, 15, 5, 4, 8]"
      ]
     },
     "execution_count": 4,
     "metadata": {},
     "output_type": "execute_result"
    }
   ],
   "source": [
    "# 20이 가장 마지막으로 들어갔음에도 1번 인덱스 자리로 들어가있음을 확인\n",
    "# 위 그림에 있는 힙 구조((3) Swap 15 for 20)와 동일한 배열이 출력됨\n",
    "heap = Heap(15)\n",
    "heap.insert(10)\n",
    "heap.insert(8)\n",
    "heap.insert(5)\n",
    "heap.insert(4)\n",
    "heap.insert(20)\n",
    "heap.heap_array"
   ]
  },
  {
   "cell_type": "markdown",
   "metadata": {},
   "source": [
    "### 힙에 데이터 삭제 구현 (Max Heap 예)"
   ]
  },
  {
   "cell_type": "markdown",
   "metadata": {},
   "source": [
    "- 힙 클래스 구현4 - delete1\n",
    "- 보통 삭제는 최상단 노드 (root 노드)를 삭제하는 것이 일반적임\n",
    "  - 힙의 용도는 최대값 또는 최소값을 root 노드에 놓아서, 최대값과 최소값을 바로 꺼내 쓸 수 있도록 하는 것임"
   ]
  },
  {
   "cell_type": "code",
   "execution_count": 18,
   "metadata": {},
   "outputs": [],
   "source": [
    "class Heap:\n",
    "    def __init__(self, data):\n",
    "        self.heap_array = list()\n",
    "        self.heap_array.append(None)\n",
    "        self.heap_array.append(data)\n",
    "    \n",
    "    def pop(self):\n",
    "        if len(self.heap_array) <= 1:       # 배열에 None 조차 없거나, None만 있는 두 가지 경우\n",
    "            return None\n",
    "        \n",
    "        returned_data = self.heap_array[1]  # root node는 항상 인덱스 1번에 있기 때문에 이를 반환\n",
    "        return returned_data"
   ]
  },
  {
   "cell_type": "markdown",
   "metadata": {},
   "source": [
    "- 힙 클래스 구현4 - delete2\n",
    "  - 상단의 데이터 삭제시, 가장 최하단부 왼쪽에 위치한 노드 (일반적으로 가장 마지막에 추가한 노드) 를 root 노드로 이동\n",
    "  - root 노드의 값이 child node 보다 작을 경우, root 노드의 child node 중 가장 큰 값을 가진 노드와 root 노드 위치를 바꿔주는 작업을 반복함 (swap)\n",
    "---\n",
    "- 특정 노드의 관련 노드 위치 알아내기\n",
    "  - 부모 노드 인덱스 번호 (parent node's index) = 자식 노드 인덱스 번호 (child node's index) // 2\n",
    "  - 왼쪽 자식 노드 인덱스 번호 (left child node's index) = 부모 노드 인덱스 번호 (parent node's index) * 2\n",
    "  - 오른쪽 자식 노드 인덱스 번호 (right child node's index) = 부모 노드 인덱스 번호 (parent node's index) * 2 + 1\n",
    "\n",
    "<img src=\"https://www.fun-coding.org/00_Images/heap_remove.png\">"
   ]
  },
  {
   "cell_type": "code",
   "execution_count": 5,
   "metadata": {},
   "outputs": [],
   "source": [
    "# 1. root node에 있는 값을 꺼낸다.\n",
    "# 2. 가장 마지막에 있는 데이터를 root node 자리로 올려 덮어씌움\n",
    "# 3. root node로 올라간 후, 자식노드와 비교하여 자식노드가 없을 때 or 자식노드보다 자신의 데이터 값이 클 때까지 반복적으로 swap\n",
    "class Heap:\n",
    "    def __init__(self, data):\n",
    "        self.heap_array = list()\n",
    "        self.heap_array.append(None)\n",
    "        self.heap_array.append(data)\n",
    "    \n",
    "    def move_down(self, popped_idx):\n",
    "        left_child_popped_idx = popped_idx * 2\n",
    "        right_child_popped_idx = popped_idx * 2 + 1\n",
    "        \n",
    "        # case1: 왼쪽 자식 노드도 없을 때\n",
    "        if left_child_popped_idx >= len(self.heap_array): # len - 1까지 데이터있는데, len 이상을 가리키는 것은 데이터가 없는 공간을 가리키는 것\n",
    "            return False\n",
    "        # case2: 오른쪽 자식 노드만 없을 때\n",
    "        elif right_child_popped_idx >= len(self.heap_array):\n",
    "            if self.heap_array[popped_idx] < self.heap_array[left_child_popped_idx]:\n",
    "                return True    # 부모 노드보다 자식 노드의 값이 더 크다면 바꿔줘야 한다.\n",
    "            else:\n",
    "                return False\n",
    "        # case3: 왼쪽, 오른쪽 자식 노드 모두 있을 때\n",
    "        else:\n",
    "            # 3-1 : 자식 노드끼리 값을 비교 -> 자식 노드의 왼쪽 값이 오른쪽보다 클 때 -> 왼쪽 자식 노드와 부모 노드의 값을 비교\n",
    "            if self.heap_array[left_child_popped_idx] > self.heap_array[right_child_popped_idx]: \n",
    "                if self.heap_array[popped_idx] < self.heap_array[left_child_popped_idx]:\n",
    "                    return True   # 왼쪽 자식 노드의 값이 부모 노드의 값보다 크니까 swap\n",
    "                else:\n",
    "                    return False\n",
    "            else:     # 자식 노드의 오른쪽 값이 왼쪽 값보다 큰 경우\n",
    "                if self.heap_array[popped_idx] < self.heap_array[right_child_popped_idx]:\n",
    "                    return True   # 오른쪽 자식 노드의 값이 부모 노드의 값보다 크니까 swap\n",
    "                else:\n",
    "                    return False\n",
    "    \n",
    "    def pop(self):  # 위 코드에서 반환값이 true인 경우만 생각하면 됨(위에서 false로 반환되면 바로 pop하면 되기 때문)\n",
    "        if len(self.heap_array) <= 1:\n",
    "            return None\n",
    "        \n",
    "        returned_data = self.heap_array[1]\n",
    "        self.heap_array[1] = self.heap_array[-1]  # 맨 마지막 노드를 root node 위치로 바꿔주는 코드\n",
    "        del self.heap_array[-1]                   # 이제는 비어있는 맨 끝의 공간을 지움\n",
    "        popped_idx = 1                            # 올려보낸 데이터는 항상 root node에 있기 때문에 swap을 위한 기준은 항상 1번부터 시작\n",
    "        \n",
    "        while self.move_down(popped_idx):         \n",
    "            left_child_popped_idx = popped_idx * 2\n",
    "            right_child_popped_idx = popped_idx * 2 + 1\n",
    "\n",
    "            # case2: 오른쪽 자식 노드만 없을 때\n",
    "            if right_child_popped_idx >= len(self.heap_array):\n",
    "                if self.heap_array[popped_idx] < self.heap_array[left_child_popped_idx]:\n",
    "                    self.heap_array[popped_idx], self.heap_array[left_child_popped_idx] = self.heap_array[left_child_popped_idx], self.heap_array[popped_idx]\n",
    "                    popped_idx = left_child_popped_idx\n",
    "            # case3: 왼쪽, 오른쪽 자식 노드 모두 있을 때\n",
    "            else:\n",
    "                if self.heap_array[left_child_popped_idx] > self.heap_array[right_child_popped_idx]:\n",
    "                    if self.heap_array[popped_idx] < self.heap_array[left_child_popped_idx]:\n",
    "                        self.heap_array[popped_idx], self.heap_array[left_child_popped_idx] = self.heap_array[left_child_popped_idx], self.heap_array[popped_idx]\n",
    "                        popped_idx = left_child_popped_idx\n",
    "                else:\n",
    "                    if self.heap_array[popped_idx] < self.heap_array[right_child_popped_idx]:\n",
    "                        self.heap_array[popped_idx], self.heap_array[right_child_popped_idx] = self.heap_array[right_child_popped_idx], self.heap_array[popped_idx]\n",
    "                        popped_idx = right_child_popped_idx\n",
    "        \n",
    "        return returned_data\n",
    "    \n",
    "    def move_up(self, inserted_idx):\n",
    "        if inserted_idx <= 1:\n",
    "            return False\n",
    "        parent_idx = inserted_idx // 2\n",
    "        if self.heap_array[inserted_idx] > self.heap_array[parent_idx]:\n",
    "            return True\n",
    "        else:\n",
    "            return False\n",
    "\n",
    "    def insert(self, data):\n",
    "        if len(self.heap_array) == 1:\n",
    "            self.heap_array.append(data)\n",
    "            return True\n",
    "        \n",
    "        self.heap_array.append(data)\n",
    "        inserted_idx = len(self.heap_array) - 1\n",
    "        \n",
    "        while self.move_up(inserted_idx):\n",
    "            parent_idx = inserted_idx // 2\n",
    "            self.heap_array[inserted_idx], self.heap_array[parent_idx] = self.heap_array[parent_idx], self.heap_array[inserted_idx]\n",
    "            inserted_idx = parent_idx\n",
    "        return True    "
   ]
  },
  {
   "cell_type": "code",
   "execution_count": 6,
   "metadata": {},
   "outputs": [
    {
     "data": {
      "text/plain": [
       "[None, 20, 10, 15, 5, 4, 8]"
      ]
     },
     "execution_count": 6,
     "metadata": {},
     "output_type": "execute_result"
    }
   ],
   "source": [
    "heap = Heap(15)\n",
    "heap.insert(10)\n",
    "heap.insert(8)\n",
    "heap.insert(5)\n",
    "heap.insert(4)\n",
    "heap.insert(20)\n",
    "heap.heap_array"
   ]
  },
  {
   "cell_type": "code",
   "execution_count": 7,
   "metadata": {},
   "outputs": [
    {
     "data": {
      "text/plain": [
       "20"
      ]
     },
     "execution_count": 7,
     "metadata": {},
     "output_type": "execute_result"
    }
   ],
   "source": [
    "heap.pop()"
   ]
  },
  {
   "cell_type": "code",
   "execution_count": 8,
   "metadata": {},
   "outputs": [
    {
     "data": {
      "text/plain": [
       "[None, 15, 10, 8, 5, 4]"
      ]
     },
     "execution_count": 8,
     "metadata": {},
     "output_type": "execute_result"
    }
   ],
   "source": [
    "# root node에 있던 20을 pop해도, 빈 공간에 남아 있는 데이터 중 최댓값인 15가 정상적으로 올라오는 것을 확인\n",
    "# 전체 데이터 중 최댓값을 빠르게 가져올 수 있는 힙 구조(이런 점에서는 배열보다 훨씬 효율적)\n",
    "heap.heap_array"
   ]
  },
  {
   "cell_type": "code",
   "execution_count": null,
   "metadata": {},
   "outputs": [],
   "source": []
  },
  {
   "cell_type": "markdown",
   "metadata": {},
   "source": [
    "### 5. 힙 (Heap) 시간 복잡도\n",
    "  - depth (트리의 높이) 를 h라고 표기한다면,\n",
    "  - n개의 노드를 가지는 heap 에 데이터 삽입 또는 삭제시, 최악의 경우 root 노드에서 leaf 노드까지 비교해야 하므로 $h = log_2{n} $ 에 가까우므로, 시간 복잡도는 $ O(log{n}) $ \n",
    "     - 완전 이진 트리이기 때문에 $h = log_2{n} $  \n",
    "     - 참고: 빅오 표기법에서 $log{n}$ 에서의 log의 밑은 10이 아니라, 2입니다.\n",
    "     - 한번 실행시마다, 50%의 실행할 수도 있는 명령을 제거한다는 의미. 즉 50%의 실행시간을 단축시킬 수 있다는 것을 의미함\n"
   ]
  }
 ],
 "metadata": {
  "kernelspec": {
   "display_name": "Python 3 (ipykernel)",
   "language": "python",
   "name": "python3"
  },
  "language_info": {
   "codemirror_mode": {
    "name": "ipython",
    "version": 3
   },
   "file_extension": ".py",
   "mimetype": "text/x-python",
   "name": "python",
   "nbconvert_exporter": "python",
   "pygments_lexer": "ipython3",
   "version": "3.8.13"
  },
  "nbTranslate": {
   "displayLangs": [
    "*"
   ],
   "hotkey": "alt-t",
   "langInMainMenu": true,
   "sourceLang": "en",
   "targetLang": "fr",
   "useGoogleTranslate": true
  }
 },
 "nbformat": 4,
 "nbformat_minor": 1
}
