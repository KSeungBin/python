{
 "cells": [
  {
   "cell_type": "markdown",
   "id": "5dd88a01",
   "metadata": {},
   "source": [
    "### 파이썬 연산자"
   ]
  },
  {
   "cell_type": "code",
   "execution_count": null,
   "id": "a83effb1",
   "metadata": {},
   "outputs": [],
   "source": [
    "l = [1,2,3,4,5]\n",
    "a = 3\n",
    "print(a in l)\n",
    "b = 7\n",
    "print(b not in l)"
   ]
  },
  {
   "cell_type": "code",
   "execution_count": null,
   "id": "2d2e1614",
   "metadata": {},
   "outputs": [],
   "source": [
    "a = int(input(\"시프트할 숫자는?: \"))\n",
    "loop = int(input(\"출력할 횟수는?: \"))\n",
    "\n",
    "for i in range(loop) :\n",
    "    print(\"%d << %d = %d\" % (a, i+1, a << i+1))\n",
    "\n",
    "for i in range(loop) :\n",
    "    print(\"%d >> %d = %d\" % (a, i+1, a >> i+1))"
   ]
  },
  {
   "cell_type": "code",
   "execution_count": null,
   "id": "4ced74c6",
   "metadata": {},
   "outputs": [],
   "source": [
    "a = int(input(\"동전으로 교환할 금액을 입력하세요: \")) #실습문제 - my\n",
    "b = a//500\n",
    "c = (a-(500*b))//100\n",
    "d = (a-(500*b+100*c))//50\n",
    "print(f'500원짜리 ==> {b}개')\n",
    "print(f'100원짜리 ==> {c}개')\n",
    "print(f'50원짜리 ==> {d}개')"
   ]
  },
  {
   "cell_type": "code",
   "execution_count": null,
   "id": "6c1d9afd",
   "metadata": {},
   "outputs": [],
   "source": [
    "오백원, 백원, 오십원, 십원 = 0,0,0,0     #실습문제 - 방법2\n",
    "money = int(input(\"동전으로 교환할 금액: \"))\n",
    "오백원 = money//500\n",
    "money = money%500\n",
    "백원 = money//100\n",
    "money = money%100\n",
    "오십원 = money//50\n",
    "money = money%50\n",
    "십원 = money//10\n",
    "money = money%10\n",
    "print(f'500원짜리: {오백원} 개')\n"
   ]
  },
  {
   "cell_type": "markdown",
   "id": "cbfc8c18",
   "metadata": {},
   "source": [
    "## 제어문(조건문, 반복문)"
   ]
  },
  {
   "cell_type": "code",
   "execution_count": null,
   "id": "df90be26",
   "metadata": {},
   "outputs": [],
   "source": [
    "a = 100\n",
    "if a > 99 :\n",
    "    print('a는 99보다 크다')"
   ]
  },
  {
   "cell_type": "code",
   "execution_count": null,
   "id": "47447cd9",
   "metadata": {},
   "outputs": [],
   "source": [
    "#if 중첩문\n",
    "#if ~ else\n",
    "a = 80\n",
    "if a>99:\n",
    "    print('a는 99보다 크다')\n",
    "else:\n",
    "    if a>85:\n",
    "        print('a는 85보다 크다')\n",
    "    else:\n",
    "        print('a는 85보다 작거나 같다')"
   ]
  },
  {
   "cell_type": "code",
   "execution_count": null,
   "id": "40f79339",
   "metadata": {},
   "outputs": [],
   "source": [
    "#if~elif~else\n",
    "if 조건문:\n",
    "    실행 #조건문이 참일 경우 실행\n",
    "else:\n",
    "    실행 #조건문이 거짓일 경우 실행"
   ]
  },
  {
   "cell_type": "code",
   "execution_count": null,
   "id": "2ab7f227",
   "metadata": {
    "scrolled": true
   },
   "outputs": [],
   "source": [
    "a = int(input('숫자를 입력해 주세요: ')) #실습문제1\n",
    "if a%2 == 0:\n",
    "    print(f'입력된 수: {a} ==> 짝수')\n",
    "else:\n",
    "    print(f'입력된 수: {a} ==> 홀수')"
   ]
  },
  {
   "cell_type": "code",
   "execution_count": null,
   "id": "b6fbd754",
   "metadata": {},
   "outputs": [],
   "source": [
    "x = int(input('성적을 입력해 주세요: ')) #실습문제2\n",
    "\n",
    "grade = 'D'\n",
    "\n",
    "if x > 89:\n",
    "    grade = 'A'\n",
    "elif x > 79:\n",
    "    print(\"grade = 'B'\")\n",
    "elif x > 69:\n",
    "    print(\"grade = 'C'\")\n",
    "\n",
    "print(f\"성적: {x}는 {grade} 등급 입니다.\")\n"
   ]
  },
  {
   "cell_type": "code",
   "execution_count": null,
   "id": "455450f8",
   "metadata": {},
   "outputs": [],
   "source": [
    "#주민번호로 정보 추출하기\n",
    "import datetime\n",
    "now = datetime.datetime.now()\n",
    "c_year = now.year\n",
    "print(now.year)\n",
    "print(now.month)\n",
    "print(now.day)\n",
    "print(now.hour)\n",
    "print(now.minute)\n",
    "\n",
    "x = input('주민번호: ')\n",
    "yy = int(x[0:2])\n",
    "mm = x[2:4]\n",
    "dd = x[4:6]\n",
    "G = x[7]\n",
    "\n",
    "if G == '1':\n",
    "    성별 = '남성'\n",
    "    년도 = 1900 + yy    # yy += 1900 써도 된다(=> yy = yy + 1900)\n",
    "if G == '2':\n",
    "    성별 = '여성'\n",
    "    년도 = 1900 + yy\n",
    "if G == '3':\n",
    "    성별 = '남성'\n",
    "    년도 = 2000 + yy    # 변수는 적게 쓸수록 좋기 때문에 yy += 2000 으로 쓰기\n",
    "if G == '4':\n",
    "    성별 = '여성'\n",
    "    년도 = 2000 + yy\n",
    "나이 = int(c_year) - 년도 #위에서 c_year 정의하지 않고 \n",
    "                # 나이 = int(now.year) - 년도  라고 작성해도 된다.\n",
    "\n",
    "print(f\"{년도}년 {mm}월 {dd}일, {나이}세, {성별}\")\n",
    "# 위에 식 정의하지 않고  \"{yy}년 {x[2:4]}월, {int(now.year)-yy}세\"라고 쓰면 \n",
    "# 변수를 줄일 수 있어 좋다."
   ]
  },
  {
   "cell_type": "code",
   "execution_count": null,
   "id": "750cb5f7",
   "metadata": {},
   "outputs": [],
   "source": [
    "# 괄호 짝꿍 판별\n",
    "a_list = list(input('괄호: '))\n",
    "print(a_list)\n",
    "\n",
    "p = 0        \n",
    "for i in a_list:\n",
    "    print(i)\n",
    "    if i == '(':\n",
    "        p = p + 1      #pair\n",
    "    elif i == ')':\n",
    "        p = p - 1\n",
    "    elif p < 0:\n",
    "        break # 또는 break 써도 된다.\n",
    "\n",
    "if p == 0 :\n",
    "    print('True')\n",
    "else:\n",
    "    print('False')"
   ]
  },
  {
   "cell_type": "code",
   "execution_count": null,
   "id": "296a8c0c",
   "metadata": {},
   "outputs": [],
   "source": [
    "\n",
    "menu = '''[커피 자동주문 머신 메뉴]\n",
    "-------------------------------\n",
    "-아메리카노는 2500원\n",
    "-카페라테는 3000원\n",
    "-카푸치노는 3000원\n",
    "입니다. 원하시는 커피종류와 잔수를 입력하세요.\n",
    "-------------------------------\n",
    "'''\n",
    "coffee1 = int(input(menu + '아메리카노 몇잔?: '))\n",
    "coffee2 = int(input('카파라떼 몇잔? '))\n",
    "coffee3 = int(input('카푸치노 몇잔? '))\n",
    "print(coffee1, coffee2, coffee3)\n",
    "total = coffee1*2500 + coffee2*3000 + coffee3*3000\n",
    "print(f\"지불한 총 금액은 {total} 원 입니다.\")\n",
    "\n",
    "money = int(input('돈을 넣어주세요: '))\n",
    "if money > total:\n",
    "    print(f\"거스름돈은 {money - total}원 입니다.\")\n",
    "else:\n",
    "    print(f\"금액이 부족합니다. {total-money}원을 더 넣어주세요.\")\n"
   ]
  },
  {
   "cell_type": "markdown",
   "id": "f4825895",
   "metadata": {},
   "source": [
    "### 난수 : random"
   ]
  },
  {
   "cell_type": "code",
   "execution_count": null,
   "id": "67f895a0",
   "metadata": {},
   "outputs": [],
   "source": [
    "import random as rd #random 대신 rd라는 줄임말로 쓸께요\n",
    "#정수\n",
    "print(rd.randint(10,20)) # 10 <= N <= 20 중 정수 1개 임의추출\n",
    "\n",
    "#실수\n",
    "print(rd.random())  #0~1 사이의 임의의 실수\n",
    "print(rd.uniform(10,20)) # 10<= N <= 20 사이의 임의의 실수\n",
    "\n",
    "#shuffle과 choice 함수\n",
    "a_list = list(range(1,6))  #[1,2,3,4,5]\n",
    "rd.shuffle(a_list)\n",
    "print(a_list)\n",
    "\n",
    "rd.choice(a_list)\n"
   ]
  },
  {
   "cell_type": "code",
   "execution_count": null,
   "id": "b9db9c7e",
   "metadata": {},
   "outputs": [],
   "source": [
    "import random as rd\n",
    "a = rd.randrange(1,7)  #int는 (이상, 이하) range는 (이상, 미만)\n",
    "                       #int(random.randint(1,6))\n",
    "b = rd.randrange(1,7)\n",
    "print(f'''주사위를 던집니다!\n",
    "---------------------------------------\n",
    "A의 주사위 숫자는 {a} 입니다.\n",
    "B의 주사위 숫자는 {b} 입니다.\n",
    "---------------------------------------''')\n",
    "if a > b:\n",
    "    print(\"A가 이겼습니다.\")\n",
    "elif a == b:\n",
    "    print(\"비겼습니다.\")\n",
    "else:\n",
    "    print(\"B가 이겼습니다\")\n",
    "    "
   ]
  },
  {
   "cell_type": "code",
   "execution_count": null,
   "id": "9daf9c03",
   "metadata": {
    "scrolled": true
   },
   "outputs": [],
   "source": [
    "import random\n",
    "A =  [ random.randrange(1,7) for _ in range(2) ] # 2번 돌린다.\n",
    "print(A[0], A[1])\n",
    "\n",
    "print(f'''주사위를 던집니다!\n",
    "---------------------------------\n",
    "A의 주사위 숫자는 {A[0]} 입니다.\n",
    "B의 주사위 숫자는 {A[1]} 입니다.\n",
    "---------------------------------''')\n",
    "if A[0]>A[1]:\n",
    "    print(\"A가 이겼습니다\")\n",
    "elif A[0]==A[1]: \n",
    "    print(\"비겼습니다\")\n",
    "else:\n",
    "    print(\"B가 이겼습니다\")"
   ]
  },
  {
   "cell_type": "markdown",
   "id": "03072f05",
   "metadata": {},
   "source": [
    "## for 반복문"
   ]
  },
  {
   "cell_type": "code",
   "execution_count": null,
   "id": "715a289c",
   "metadata": {},
   "outputs": [],
   "source": [
    "#range\n",
    "alist = list(range(1,10,1)) # 1이상부터 10미만까지 1씩 증가하며 정수를 자동 나열\n",
    "print(alist)\n",
    "alist = list(range(10)) #0부터 시작해서 10개를 나열한다 = 즉, 10번 반복한다\n",
    "                        #range(1,11,1)도 10번 반복\n",
    "print(alist)\n"
   ]
  },
  {
   "cell_type": "code",
   "execution_count": null,
   "id": "30d7eb3c",
   "metadata": {},
   "outputs": [],
   "source": [
    "for i in range(10):             #i는 range의 괄호 안에 들어있는 숫자를 의미\n",
    "    print(f'[{i}] python')\n",
    "\n",
    "alist = [0,1,2,3,4,5,6,7,8,9]    #i는 list에 있는 요소 하나하나를 의미\n",
    "for i in alist:\n",
    "    print(f'[{i}] python')\n",
    "\n",
    "alist = ['a', 'b', 'c','d','e','f','g','h','i','j'] #문자열은 '' 써야 한다\n",
    "for i, value in enumerate(alist):     #enumerate함수 -> i는 인덱스 위치값, value는 list에 있는 요소 하나하나를 의미\n",
    "    print(f'[{i}][{value}]python')\n",
    "for _ in alist:\n",
    "    print(f\"python\")\n"
   ]
  },
  {
   "cell_type": "code",
   "execution_count": null,
   "id": "f52c4fe9",
   "metadata": {},
   "outputs": [],
   "source": [
    "#1~10까지 합 구하기\n",
    "hap = 0\n",
    "for i in range(1,11,1):\n",
    "    hap = hap + i\n",
    "print(f'1~10까지 합: {hap}')"
   ]
  },
  {
   "cell_type": "code",
   "execution_count": null,
   "id": "81737795",
   "metadata": {},
   "outputs": [],
   "source": [
    "sum(list(range(1,11))) #위의 방법보다 더 추천"
   ]
  },
  {
   "cell_type": "code",
   "execution_count": null,
   "id": "e37857a1",
   "metadata": {},
   "outputs": [],
   "source": [
    "#리스트의 요소의 합 구하기\n",
    "a_list = [70,30,40,30,50]\n",
    "hap = 0\n",
    "for i in a_list:\n",
    "    hap = hap + i\n",
    "print(f'리스트({a_list})의 모든 요소의 합은 : {hap}')\n",
    "print(sum(a_list))      #avg 쓰면 초록색으로 변하지 않는다 = 파이썬은 avg 기능은 제공하지 않음\n",
    "print(min(a_list))      #따라서, 파이썬으로 평균을 구하려면 요소를 모두 sum 한 후 개수로 // 나눠줘야 함 \n",
    "print(max(a_list))     #리스트 요소 중 최댓값\n",
    "print(len(a_list))     #list의 길이 = list에 있는 요소의 개수"
   ]
  },
  {
   "cell_type": "code",
   "execution_count": null,
   "id": "8fb0ed55",
   "metadata": {},
   "outputs": [],
   "source": [
    "#실습문제\n",
    "n = int(input('합계를 구할 숫자 입력: '))\n",
    "hap = 0\n",
    "for i in range(1, n+1):\n",
    "    hap = hap + i\n",
    "print(f'1~{n}까지의 합은: {hap}')"
   ]
  },
  {
   "cell_type": "code",
   "execution_count": null,
   "id": "e5d7c5b3",
   "metadata": {},
   "outputs": [],
   "source": [
    "n = int(input('합계를 구할 숫자 입력: '))\n",
    "hap = 0\n",
    "for i in range(1,n+1,2):\n",
    "    hap = hap + i        # hap += i 로 써도 된다.\n",
    "print(f'1~{n}까지 짝수를 제외한 합은: {hap}')"
   ]
  },
  {
   "cell_type": "code",
   "execution_count": null,
   "id": "12533081",
   "metadata": {},
   "outputs": [],
   "source": [
    "n = int(input('몇단을 출력할까요? '))\n",
    "print(f'---{n}단---')\n",
    "for i in range(1,10,1):\n",
    "    hap = n * i\n",
    "    print(f\"{n} * {i} = {hap}\")"
   ]
  },
  {
   "cell_type": "markdown",
   "id": "a6f8b844",
   "metadata": {},
   "source": [
    "### if 중첩문"
   ]
  },
  {
   "cell_type": "code",
   "execution_count": null,
   "id": "6c172f64",
   "metadata": {},
   "outputs": [],
   "source": [
    "for i in range(10):\n",
    "    print('숫자 %d' % i)\n",
    "for i in range(10):    \n",
    "    print('숫자 %d' % i, end=',') \n",
    "    #print는 enter기능, end = ''는 space bar 기능이 있어 한 줄로 만들어준다"
   ]
  },
  {
   "cell_type": "code",
   "execution_count": null,
   "id": "6104ce8b",
   "metadata": {},
   "outputs": [],
   "source": [
    "n = int(input('구구단: '))\n",
    "print(f'#{n}단')\n",
    "for i in range(1,10,1):     \n",
    "    for j in range(2,10,1):  \n",
    "        nn = i * j           \n",
    "        print(f'{i}*{j}={nn}',end='')\n",
    "    nnn = n * i             \n",
    "    print(f'{n}*{i}={nnn}', end='')"
   ]
  },
  {
   "cell_type": "code",
   "execution_count": null,
   "id": "fa21c8b6",
   "metadata": {
    "scrolled": true
   },
   "outputs": [],
   "source": [
    "for i in range(2,10,1):\n",
    "    print(f' #{i:^3}단', end='') #{i:2}이면 i가 두자리수일때 두자리 출력 가능\n",
    "print()\n",
    "for i in range(1,10):\n",
    "    for dan in range(2,10):\n",
    "        print(f'{dan}x{i}={dan*i:2}',end=' ') # end = 't'하면 tab이 되어 ㄱ, ㄴ, ㄷ ... 이렇게 출력됨\n",
    "    print()     # print()하면 한줄의 공백이 만들어지는 것과 같다."
   ]
  },
  {
   "cell_type": "code",
   "execution_count": null,
   "id": "f1d7e766",
   "metadata": {},
   "outputs": [],
   "source": [
    "#실습문제: 3행 4열 숫자 배열\n",
    "v = 1\n",
    "for i in range(3):             #바깥에 있는 for문은 행(row)\n",
    "    for j in range(4):        #안쪽에 있는 for문은 열(column)\n",
    "        print(f'{v:3}',end = '')\n",
    "        v += 1           # v = v + 1\n",
    "    print()\n"
   ]
  },
  {
   "cell_type": "code",
   "execution_count": null,
   "id": "501cbd9b",
   "metadata": {},
   "outputs": [],
   "source": [
    "for i in range(3):\n",
    "    v = 0                             # 또는 v = 1 로 두고 f'{v+i:2}'', end=''\n",
    "    for j in range(4):\n",
    "        print(f'{v+1+i:3}',end = '')  # 나중에 list 생성하는 문제와 link\n",
    "        v += 3\n",
    "    print()\n",
    "    "
   ]
  },
  {
   "cell_type": "code",
   "execution_count": null,
   "id": "c530e009",
   "metadata": {},
   "outputs": [],
   "source": [
    "# 실습문제: 100회 주사위 던져 각 숫자 횟수 출력\n",
    "import random as rd\n",
    "d1,d2,d3,d4,d5,d6 = 0,0,0,0,0,0\n",
    "for i in range(100):\n",
    "    num = rd.randint(1,6)\n",
    "    if num == 1: d1 += 1  #한 줄일 때는 if문 들여쓰기 하지 않아도 됨\n",
    "    if num == 2: d2 += 1\n",
    "    if num == 3: d3 += 1 \n",
    "    if num == 4: d4 += 1 \n",
    "    if num == 5: d5 += 1 \n",
    "    if num == 6: d6 += 1 \n",
    "print(f'주사위 숫자별 개수:')\n",
    "print(f'D1[{d1})] D2[{d2})] D3[{d3})] D4[{d4})] D5[{d5})] D6[{d6})]')\n",
    "\n",
    "max_d, max_v = 1, d1  # 최댓값이든 최솟값이든 \"하나의 기준\"을 정하고 시작하는 게 중요\n",
    "if max_v < d2:       # max_d는 하나의 값만 담을 수 있다. max_d = list()는 여러 개의 값을 담을 수 있다.\n",
    "    max_d = 2\n",
    "    max_v = d2\n",
    "if max_v < d3 : \n",
    "    max_d = 3\n",
    "    max_v = d3\n",
    "if max_v < d4 : \n",
    "    max_d = 4\n",
    "    max_v = d4\n",
    "if max_v < d5 : \n",
    "    max_d = 5\n",
    "    max_v = d5\n",
    "if max_v < d6 : \n",
    "    max_d = 6\n",
    "    max_v = d6 \n",
    "print(f'가장 많이 나온 주사위 숫자: [{max_d}]')"
   ]
  },
  {
   "cell_type": "markdown",
   "id": "f4d2d13f",
   "metadata": {},
   "source": [
    "## while 반복문\n",
    "#for는 개수가 정해져있을 때 주로 처리 (for는 유한개)\n",
    "#while은 조건이 참일 경우만 무한 반복, 조건이 거짓이 되는 순간 while 반복문을\n",
    " 빠져나가서 다음 반복문을 수행함 \n",
    "(while은 주로 무한반복할 때 사용) \n",
    "-> while True: 일 때는 반드시 무한 루프를 빠져나갈 조건(break문)을 써줘야 한다."
   ]
  },
  {
   "cell_type": "code",
   "execution_count": null,
   "id": "bff90ac0",
   "metadata": {},
   "outputs": [],
   "source": [
    "hap = 0\n",
    "for i in range(1,101):\n",
    "    hap += i\n",
    "print(hap)\n",
    "\n",
    "hap, i = 0, 1\n",
    "while i < 101:\n",
    "    hap += i\n",
    "    i += 1\n",
    "print(hap)\n",
    "\n",
    "hap, i = 0, 1\n",
    "while True:\n",
    "    if i > 100:    #여기에 써도 되고 i += 1 아랫줄에 써도 된다. \n",
    "        break\n",
    "    hap += i\n",
    "    i += 1\n",
    "print(hap)\n",
    "\n"
   ]
  },
  {
   "cell_type": "code",
   "execution_count": null,
   "id": "c30a4c33",
   "metadata": {
    "scrolled": true
   },
   "outputs": [],
   "source": [
    "treehit = 0\n",
    "while treehit < 10:      #treehit=1이면 \n",
    "    treehit += 1\n",
    "    print('나무를 %d 번 찍었습니다.' % treehit)\n",
    "print(\"나무 넘어 갑니다~\")"
   ]
  },
  {
   "cell_type": "code",
   "execution_count": null,
   "id": "7719631e",
   "metadata": {},
   "outputs": [],
   "source": [
    "treehit = 1\n",
    "while treehit < 11: \n",
    "    print('나무를 %d 번 찍었습니다.' % treehit)\n",
    "    treehit += 1\n",
    "print(\"나무 넘어 갑니다~\")"
   ]
  },
  {
   "cell_type": "code",
   "execution_count": null,
   "id": "5587c9ee",
   "metadata": {},
   "outputs": [],
   "source": [
    "# 실습문제: while 무한반복 빠져나오기\n",
    "prompt = \"\"\"\n",
    "    1. Add 2.Del 3.Modify 4.Quit\n",
    "    \n",
    "    Enter number : \"\"\"\n",
    "\n",
    "while True:\n",
    "    num = input(prompt)\n",
    "    print(f'입력한 숫자는 [{num}]')\n",
    "    if num == '4':\n",
    "        break\n",
    "print('프로그램을 종료합니다.')\n",
    "    "
   ]
  },
  {
   "cell_type": "code",
   "execution_count": null,
   "id": "728b46f3",
   "metadata": {
    "scrolled": false
   },
   "outputs": [],
   "source": [
    "length = int(input('공의 높이를 입력하세요(meter): '))\n",
    "meter, cnt = length, 0\n",
    "while True:\n",
    "    meter /= 2\n",
    "    cnt += 1\n",
    "    if meter < 0.00001:\n",
    "        break\n",
    "print(f'{length}위치에서 공의 튕긴 횟수는 총 {cnt}번 입니다.')\n",
    "    \n",
    "    "
   ]
  },
  {
   "cell_type": "code",
   "execution_count": null,
   "id": "72d5591e",
   "metadata": {},
   "outputs": [],
   "source": [
    "# binary tree\n",
    "import random\n",
    "sn = random.randint(1,100)\n",
    "prompt =\"\"\"\n",
    "----------------------------\n",
    "*비밀의 숫자가 지정되었습니다.\n",
    "----------------------------\n",
    "\"\"\"\n",
    "print(prompt)\n",
    "\n",
    "count = 0\n",
    "while True:\n",
    "    answer = int(input('숫자를 입력하세요: '))\n",
    "    count += 1\n",
    "    \n",
    "    if answer>sn:\n",
    "        print('비밀의 수는 더 작은 수 입니다.')\n",
    "    elif answer>sn:\n",
    "        print('비밀의 수는 더 큰 수 입니다.')    \n",
    "    if answer == sn:\n",
    "        print('정답 입니다')\n",
    "        break\n",
    "\n",
    "print(f'비밀의 숫자: {sn}')\n",
    "print(f'당신의 입력 횟수: {count}')\n"
   ]
  },
  {
   "cell_type": "code",
   "execution_count": null,
   "id": "3d098a98",
   "metadata": {},
   "outputs": [],
   "source": []
  }
 ],
 "metadata": {
  "kernelspec": {
   "display_name": "Python 3 (ipykernel)",
   "language": "python",
   "name": "python3"
  },
  "language_info": {
   "codemirror_mode": {
    "name": "ipython",
    "version": 3
   },
   "file_extension": ".py",
   "mimetype": "text/x-python",
   "name": "python",
   "nbconvert_exporter": "python",
   "pygments_lexer": "ipython3",
   "version": "3.8.10"
  }
 },
 "nbformat": 4,
 "nbformat_minor": 5
}
