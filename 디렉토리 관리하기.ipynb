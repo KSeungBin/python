{
 "cells": [
  {
   "cell_type": "code",
   "execution_count": null,
   "id": "ce058d15",
   "metadata": {},
   "outputs": [],
   "source": [
    "import os\n",
    "print('__file__')"
   ]
  },
  {
   "cell_type": "code",
   "execution_count": null,
   "id": "8c843e8e",
   "metadata": {},
   "outputs": [],
   "source": [
    "print(2,os.path.realpath('test.py')) # 현재 이 파일이 있는 full path"
   ]
  },
  {
   "cell_type": "code",
   "execution_count": null,
   "id": "b3cf09bf",
   "metadata": {},
   "outputs": [],
   "source": [
    "print(3,os.path.abspath('test.py'))"
   ]
  },
  {
   "cell_type": "code",
   "execution_count": null,
   "id": "8f936879",
   "metadata": {},
   "outputs": [],
   "source": [
    "print(4,os.getcwd()) #이 프로그램이 실행되는 현재 디렉토리 위치를 알려줌"
   ]
  },
  {
   "cell_type": "code",
   "execution_count": null,
   "id": "6aab1329",
   "metadata": {},
   "outputs": [],
   "source": [
    "print(5,os.path.dirname(os.path.realpath('test.py'))) \n",
    "#디렉토리와 파일을 구분해줌 -> 디렉토리만 출력해줌"
   ]
  },
  {
   "cell_type": "code",
   "execution_count": null,
   "id": "71a9d44e",
   "metadata": {},
   "outputs": [],
   "source": [
    "# 현재 디렉토리에 있는 파일목록 가져오기\n",
    "print(os.listdir(os.getcwd())) # listdir = 현재 디렉토리"
   ]
  },
  {
   "cell_type": "code",
   "execution_count": null,
   "id": "153ee464",
   "metadata": {},
   "outputs": [],
   "source": [
    "#\n",
    "dir = '../' # 상위 디렉토리로 위치를 변경해줌(rapa dir -> python dir로 위치 변경됨)\n",
    "os.chdir(dir)\n",
    "path = os.getcwd()\n",
    "print(path)"
   ]
  },
  {
   "cell_type": "code",
   "execution_count": null,
   "id": "86d6e80c",
   "metadata": {},
   "outputs": [],
   "source": [
    "dir = '../../' \n",
    "os.chdir(dir)\n",
    "path = os.getcwd()\n",
    "print(path)"
   ]
  },
  {
   "cell_type": "code",
   "execution_count": null,
   "id": "8011441b",
   "metadata": {},
   "outputs": [],
   "source": [
    "dir = '../' \n",
    "os.chdir(dir)\n",
    "path = os.getcwd\n",
    "print(path)"
   ]
  },
  {
   "cell_type": "code",
   "execution_count": null,
   "id": "0c7fa6a9",
   "metadata": {},
   "outputs": [],
   "source": [
    "print(os.__file__) # os 모듈 안에 os.py(os 파일)의 경로(위치)"
   ]
  },
  {
   "cell_type": "code",
   "execution_count": null,
   "id": "e24bae15",
   "metadata": {},
   "outputs": [],
   "source": [
    "import random\n",
    "print(random.__file__) # random 모듈이 위치한 경로"
   ]
  },
  {
   "cell_type": "code",
   "execution_count": null,
   "id": "a45e8603",
   "metadata": {},
   "outputs": [],
   "source": [
    "os.chdir('./') # 현재 디렉토리\n",
    "os.getcwd()"
   ]
  },
  {
   "cell_type": "code",
   "execution_count": null,
   "id": "780fc9fa",
   "metadata": {},
   "outputs": [],
   "source": [
    "# 디렉토리 생성하기\n",
    "def createFolder(directory):\n",
    "    try:\n",
    "        if not os.path.exists(directory):\n",
    "            os.makedirs(directory)\n",
    "    except OSError:\n",
    "        print('Error: creating directory.' + directory)\n",
    "dirname = 'C:/aaa/rapa/data'\n",
    "createFolder(dirname)"
   ]
  },
  {
   "cell_type": "code",
   "execution_count": null,
   "id": "c93ac429",
   "metadata": {},
   "outputs": [],
   "source": [
    "import os  # 디렉토리가 중복되면 오류가 뜬다. 따라서 해당 디렉토리가 있는지 확인하는 습관 필요\n",
    "def createFolder(directory):\n",
    "    os.makedirs(directory)\n",
    "\n",
    "dirname = 'C:/aaa/rapa/data'\n",
    "createFolder(dirname)"
   ]
  },
  {
   "cell_type": "code",
   "execution_count": null,
   "id": "226263d1",
   "metadata": {},
   "outputs": [],
   "source": [
    "# 디렉토리 삭제하기\n",
    "import os\n",
    "def deleteFolder(directory):\n",
    "    try:\n",
    "        if os.path.exists(directory):\n",
    "            os.rmdir(directory)\n",
    "    except OSError:\n",
    "        print('Error: deleting directory' + directory)\n",
    "dirname = 'C:/aaa/rapa/data'\n",
    "deleteFolder(dirname)"
   ]
  },
  {
   "cell_type": "code",
   "execution_count": null,
   "id": "86f22e6d",
   "metadata": {},
   "outputs": [],
   "source": [
    "# 실습문제: 특정 디렉토리의 파일목록 가져오기\n",
    "def getDirList(dirname,printOption=False):\n",
    "    os.chdir(dirname)\n",
    "    path = os.getcwd()\n",
    "    print('현재디렉토리==>',path)\n",
    "    print('-'*30)\n",
    "    return [path + '\\\\' + i if printOption==True else i for i in os.listdir(path)]\n",
    "#하나하나의 디렉토리와 파일 목록이 i에 들어온다.  -> 그걸 리스트 형태로 반환해줘\n",
    "print(getDirList('./'))    \n",
    "print(getDirList('C:/python/rapa',True))     \n",
    "print(getDirList('../',False))"
   ]
  },
  {
   "cell_type": "code",
   "execution_count": 1,
   "id": "8e282e73",
   "metadata": {},
   "outputs": [],
   "source": [
    "f = open(\"C:/python/새파일.txt\",'w')\n",
    "# w -> 디렉토리 안에 이미 '새파일'이 있으면 기존 내용을 다 지우고 현재 입력한 내용으로 덮어씌움\n",
    "f.close()"
   ]
  },
  {
   "cell_type": "code",
   "execution_count": 2,
   "id": "317baf06",
   "metadata": {},
   "outputs": [],
   "source": [
    "# 쓰기 모드\n",
    "f = open(\"C:/python/새파일.txt\",'w')\n",
    "for i in range(1,11):   #'새파일' 열어놓은 채로 코드 실행하면 반영 안 됨 # 파일 닫아놓고 실행해야 함\n",
    "    data = \"%d번째 줄입니다.\\n\" % i\n",
    "    f.write(data)\n",
    "f.close()"
   ]
  },
  {
   "cell_type": "code",
   "execution_count": null,
   "id": "62671508",
   "metadata": {},
   "outputs": [],
   "source": [
    "f = open(\"C:/python/새파일.txt\",'w')\n",
    "for i in range(1,11):  \n",
    "    data = \"%d번째 줄입니다.\" % i # \\n 은 enter키(줄바꿈) 효과\n",
    "                                 # \\t 는 tab키(들여쓰기)\n",
    "    f.write(data)\n",
    "f.close()"
   ]
  },
  {
   "cell_type": "code",
   "execution_count": 3,
   "id": "0430fd77",
   "metadata": {},
   "outputs": [
    {
     "name": "stdout",
     "output_type": "stream",
     "text": [
      "1번째 줄입니다.\n",
      "\n"
     ]
    },
    {
     "data": {
      "text/plain": [
       "<function TextIOWrapper.close()>"
      ]
     },
     "execution_count": 3,
     "metadata": {},
     "output_type": "execute_result"
    }
   ],
   "source": [
    "# 읽기 모드 - 한 줄만 읽기\n",
    "f = open(\"C:/python/새파일.txt\",'r')\n",
    "line = f.readline()\n",
    "print(line)\n",
    "f.close"
   ]
  },
  {
   "cell_type": "code",
   "execution_count": 4,
   "id": "77303e05",
   "metadata": {},
   "outputs": [
    {
     "name": "stdout",
     "output_type": "stream",
     "text": [
      "1번째 줄입니다.\n",
      "\n",
      "2번째 줄입니다.\n",
      "\n",
      "3번째 줄입니다.\n",
      "\n",
      "4번째 줄입니다.\n",
      "\n",
      "5번째 줄입니다.\n",
      "\n",
      "6번째 줄입니다.\n",
      "\n",
      "7번째 줄입니다.\n",
      "\n",
      "8번째 줄입니다.\n",
      "\n",
      "9번째 줄입니다.\n",
      "\n",
      "10번째 줄입니다.\n",
      "\n"
     ]
    },
    {
     "data": {
      "text/plain": [
       "<function TextIOWrapper.close()>"
      ]
     },
     "execution_count": 4,
     "metadata": {},
     "output_type": "execute_result"
    }
   ],
   "source": [
    "# txt 파일 읽기 모드 - 내용 전체 읽기\n",
    "f = open(\"C:/python/새파일.txt\",'r')\n",
    "for line in f.readlines(): # 한 줄씩 전체를 읽는다\n",
    "    print(line)\n",
    "f.close"
   ]
  },
  {
   "cell_type": "code",
   "execution_count": 5,
   "id": "aa144122",
   "metadata": {},
   "outputs": [
    {
     "name": "stdout",
     "output_type": "stream",
     "text": [
      "1번째 줄입니다.\n",
      "2번째 줄입니다.\n",
      "3번째 줄입니다.\n",
      "4번째 줄입니다.\n",
      "5번째 줄입니다.\n",
      "6번째 줄입니다.\n",
      "7번째 줄입니다.\n",
      "8번째 줄입니다.\n",
      "9번째 줄입니다.\n",
      "10번째 줄입니다.\n",
      "\n"
     ]
    }
   ],
   "source": [
    "# txt 파일 읽기 모드 - 내용 전체 읽기\n",
    "f = open(\"C:/python/새파일.txt\",'r') \n",
    "# 데이터의 현상이나 특징을 알고 싶을 때 이렇게 데이터 읽어온 후, 시각화해서 현황 대강 파악\n",
    "data = f.read() # 전체를 한번에 읽는다 (readlines()와 약간의 차이가 있음)\n",
    "print(data)\n",
    "f.close()"
   ]
  },
  {
   "cell_type": "code",
   "execution_count": 1,
   "id": "8daf62d2",
   "metadata": {},
   "outputs": [
    {
     "name": "stdout",
     "output_type": "stream",
     "text": [
      "[c:/python/새파일.txt]파일이 삭제되었습니다\n"
     ]
    }
   ],
   "source": [
    "# 파일 삭제\n",
    "import os\n",
    "file = \"c:/python/새파일.txt\"\n",
    "if os.path.isfile(file):\n",
    "    os.remove(file)\n",
    "    print('[%s]파일이 삭제되었습니다'% file)"
   ]
  },
  {
   "cell_type": "code",
   "execution_count": 9,
   "id": "a260f786",
   "metadata": {},
   "outputs": [],
   "source": [
    "# 실습 문제\n",
    "f = open(\"c:/python/rapa/sample.txt\",'w')\n",
    "for i in range(10):\n",
    "    import random\n",
    "    f.write('%d\\n'%random.randrange(1,101)) # 중복되지 않게 출력하려면 sample 메서드 사용\n",
    "f.close()"
   ]
  },
  {
   "cell_type": "code",
   "execution_count": 1,
   "id": "e0cdde63",
   "metadata": {},
   "outputs": [],
   "source": [
    "import random\n",
    "with open('c:/python/rapa/sample.txt','w') as f:\n",
    "    [f.write(str(random.randint(1,100))+'\\n') \n",
    "             for i in range(10)]"
   ]
  },
  {
   "cell_type": "code",
   "execution_count": 13,
   "id": "13ed0838",
   "metadata": {},
   "outputs": [
    {
     "name": "stdout",
     "output_type": "stream",
     "text": [
      "[73, 82, 52, 20, 81, 54, 12, 29, 59, 8]의 \n",
      "총합은 470입니다. \n",
      "평균은 47.0입니다.\n"
     ]
    }
   ],
   "source": [
    "hap, avg=0,0\n",
    "with open(\"C:/python/rapa/sample.txt\",'r') as f1:\n",
    "    data = [int(line) for line in f1.readlines()] # readlines는 str 형태이므로 데이터 타입을 int로 바꿔줘야 한다.\n",
    "    hap = sum(data) # 합계 등을 구할 때 list를 만들면 편하다.\n",
    "    avg = hap/len(data)\n",
    "\n",
    "context = f'{data}의 \\n총합은 {hap}입니다. \\n평균은 {avg}입니다.'\n",
    "print(context)\n",
    "\n",
    "f2 = open(\"data/result.txt\",'w')\n",
    "f2.write(context)\n",
    "f2.close()"
   ]
  },
  {
   "cell_type": "code",
   "execution_count": 7,
   "id": "e1fa5ba1",
   "metadata": {},
   "outputs": [
    {
     "ename": "SyntaxError",
     "evalue": "EOL while scanning string literal (Temp/ipykernel_7900/2117712285.py, line 2)",
     "output_type": "error",
     "traceback": [
      "\u001b[1;36m  File \u001b[1;32m\"C:\\Users\\PC021\\AppData\\Local\\Temp/ipykernel_7900/2117712285.py\"\u001b[1;36m, line \u001b[1;32m2\u001b[0m\n\u001b[1;33m    '13': '20’,\u001b[0m\n\u001b[1;37m               ^\u001b[0m\n\u001b[1;31mSyntaxError\u001b[0m\u001b[1;31m:\u001b[0m EOL while scanning string literal\n"
     ]
    }
   ],
   "source": [
    "dicText = {\n",
    "'13': '20’,\n",
    "‘토트넘’:’맨체스터유나이티드’,\n",
    "'해리 케인':'박지성’,\n",
    "'손흥민':'이승우’\n",
    "}\n",
    "with open('data/article.txt', 'r', encoding='UTF-8') as f1:\n",
    "    data = f1.read() # 텍스트파일은 ASCII만 인식, UTF-8은 코딩 필요\n",
    "    \n",
    "with open(\"data/result2.txt\",'w') as f2:\n",
    "    print('[[변경전]]\\n'+ data)\n",
    "    for i,v in dicText.items(): # dict의 key와 value를 tuple 형태로 반환\n",
    "        data = data.replace(i,v)\n",
    "    n = open('result.txt','w')\n",
    "    n.write(data)\n",
    "f.close\n"
   ]
  },
  {
   "cell_type": "code",
   "execution_count": null,
   "id": "e59c126e",
   "metadata": {},
   "outputs": [],
   "source": []
  }
 ],
 "metadata": {
  "kernelspec": {
   "display_name": "Python 3 (ipykernel)",
   "language": "python",
   "name": "python3"
  },
  "language_info": {
   "codemirror_mode": {
    "name": "ipython",
    "version": 3
   },
   "file_extension": ".py",
   "mimetype": "text/x-python",
   "name": "python",
   "nbconvert_exporter": "python",
   "pygments_lexer": "ipython3",
   "version": "3.8.10"
  }
 },
 "nbformat": 4,
 "nbformat_minor": 5
}
