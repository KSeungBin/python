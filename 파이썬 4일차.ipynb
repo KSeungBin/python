{
 "cells": [
  {
   "cell_type": "markdown",
   "id": "417dd927",
   "metadata": {},
   "source": [
    "### 튜플"
   ]
  },
  {
   "cell_type": "code",
   "execution_count": null,
   "id": "7693b728",
   "metadata": {},
   "outputs": [],
   "source": [
    "#리스트[ ], 튜플(), 딕셔너리{딕셔너리는 반드시 키와 val형태}, 집합{}\n",
    "tup1 = (10,20,30)\n",
    "tup2 = (40,50,60)\n",
    "tup3 = tup1 + tup2\n",
    "print(tup3)\n",
    "print(len(tup3))\n",
    "\n",
    "ment"
   ]
  },
  {
   "cell_type": "code",
   "execution_count": null,
   "id": "e9af7641",
   "metadata": {},
   "outputs": [],
   "source": [
    "list = ['a','b','c','d','e']\n",
    "tuple = ('a','b','c','d','e')\n",
    "import sys\n",
    "print(sys.getsizeof(list))\n",
    "print(sys.getsizeof(tuple))\n",
    "#튜플이 메모리 사이즈를 더 적게 사용한다."
   ]
  },
  {
   "cell_type": "code",
   "execution_count": null,
   "id": "6f86fa96",
   "metadata": {},
   "outputs": [],
   "source": [
    "%timeit L = ['a','b','c','d','e']\n",
    "%timeit T = ('a','b','c','d','e')\n",
    "#1000만번 Loop를 돌리는데 걸리는 시간 -> 튜플이 자료형 생성시간 더 적게 걸린다."
   ]
  },
  {
   "cell_type": "code",
   "execution_count": null,
   "id": "fdc1369a",
   "metadata": {},
   "outputs": [],
   "source": [
    "a = dict(name = 'pey', phone = '01199993323') #이 형태에서는 key에 작은따옴표 처리하면 오류난다.\n",
    "a = {'name':'pey', 'phone':'01199993323'}\n",
    "help(dict)   #dict구조에서 사용할수 있는 함수들을 확인할 수 있다(clear, pop 등)\n",
    "help(tuple)   \n",
    "#tuple구조에서는 count(특정 조건에 해당하는 요소의 개수), index(해당요소의 위치값) 함수만 사용 가능"
   ]
  },
  {
   "cell_type": "markdown",
   "id": "971b3d14",
   "metadata": {},
   "source": [
    "## 딕셔너리"
   ]
  },
  {
   "cell_type": "code",
   "execution_count": null,
   "id": "ec1bf028",
   "metadata": {},
   "outputs": [],
   "source": [
    "#딕셔너리 key로 요소 추가/수정/삭제\n",
    "name = '박지민'\n",
    "scores = {'국어':90, '영어':89, '수학':100,'과학':90}\n",
    "print(scores)\n",
    "\n",
    "#음악 추가\n",
    "scores['음악']=100\n",
    "\n",
    "#국어 점수 수정\n",
    "scores['국어'] = 70\n",
    "\n",
    "#과학 삭제\n",
    "del scores['과학']\n",
    "\n",
    "print(scores)"
   ]
  },
  {
   "cell_type": "code",
   "execution_count": null,
   "id": "e677c5ec",
   "metadata": {},
   "outputs": [],
   "source": [
    "for k in scores:\n",
    "    print(f'key[{k}], value:[{scores[k]}]')"
   ]
  },
  {
   "cell_type": "code",
   "execution_count": 2,
   "id": "8497f461",
   "metadata": {},
   "outputs": [
    {
     "name": "stdout",
     "output_type": "stream",
     "text": [
      "dict_keys(['국어', '영어', '수학', '과학'])\n",
      "국어\n",
      "영어\n",
      "수학\n",
      "과학\n"
     ]
    }
   ],
   "source": [
    "scores = {'국어':90, '영어':89, '수학':100,'과학':90}\n",
    "print(scores.keys()) #dict type에서 'keys' 라는 함수 function 사용(help(dict)에서 확인 가능)\n",
    "for k in scores.keys():\n",
    "    print(k)"
   ]
  },
  {
   "cell_type": "code",
   "execution_count": null,
   "id": "c391c5c4",
   "metadata": {},
   "outputs": [],
   "source": [
    "print(scores.values())\n",
    "for v in scores.values():\n",
    "    print(v)"
   ]
  },
  {
   "cell_type": "code",
   "execution_count": null,
   "id": "a3467ec1",
   "metadata": {
    "scrolled": true
   },
   "outputs": [],
   "source": [
    "print(scores.items()) #key와 val을 묶어 튜플 타입으로 나열해주는 기능\n",
    "for k, v in scores.items() :\n",
    "    print(k,v)"
   ]
  },
  {
   "cell_type": "code",
   "execution_count": null,
   "id": "3b10c299",
   "metadata": {},
   "outputs": [],
   "source": [
    "#두 딕셔너리 합치기: 튜플, 리스트와 달리 + 연산자가 아닌 update 함수 사용해야 함\n",
    "#단 update사용하면 순서대로 합쳐지는게 아니라 순서 뒤죽박죽되니 주의\n",
    "scores = {'국어':{'문법':30, '작문':40}, '수학':[30,20,40]}"
   ]
  },
  {
   "cell_type": "code",
   "execution_count": null,
   "id": "4a28f97f",
   "metadata": {},
   "outputs": [],
   "source": [
    "#실습: 아이돌 성적 딕셔너리 만들고 평균구하기\n",
    "names = ['BTS','트와이스','블랙핑크','세븐틴']\n",
    "idols = {}\n",
    "for name in names:\n",
    "    idols[name] = int(input(f'{name}의 성적은: '))\n",
    "print(idols)\n",
    "print(f'아이돌 성적 합계: {sum(idols.values())}, 평균: {sum(idols.values())/len(idols)}')"
   ]
  },
  {
   "cell_type": "code",
   "execution_count": null,
   "id": "ccb4964e",
   "metadata": {},
   "outputs": [],
   "source": [
    "#실습: 영어단어장 만들기\n",
    "menu = \"\"\"메뉴)\n",
    "1. 단어 등록\n",
    "2. 단어 검색\n",
    "3. 모든 단어 보기\n",
    "4. 퀴즈 풀기\n",
    "0. 종료하기\n",
    "--------------------------\n",
    "\"\"\"\n",
    "wordbook = dict()\n",
    "while True:\n",
    "    select = input(menu + '선택: ')\n",
    "    if select == '0':\n",
    "        print('프로그램을 종료합니다.')\n",
    "        break\n",
    "    elif select == '1':                #1. 단어 등록\n",
    "        k = input('새 단어: ')\n",
    "        v = input(f'{k}의 뜻: ')\n",
    "        wordbook[k] = v\n",
    "    elif select == '2':                #2. 단어 검색\n",
    "        s = input('검색할 단어: ')\n",
    "        if s in wordbook:              # in, not in 연산자로 입력한 값이 dict안에 있는지 확인 가능\n",
    "            print(f'{s}의 뜻은 {wordbook[s]}입니다')\n",
    "        else:\n",
    "            print('미등록 단어입니다.')\n",
    "    elif select == '3':                #3. 모든 단어 보기\n",
    "        for k,v in wordbook.items():\n",
    "            print(f'{k} : {v}')\n",
    "    elif select == '4':                #4. 퀴즈 풀기\n",
    "        import random as rd\n",
    "        k,v = rd.choice(tuple(wordbook.items()))\n",
    "        answer = input(f'{v}의 영어단어는?')\n",
    "        if answer == k:\n",
    "            print('정답')\n",
    "        else:\n",
    "            print('오답')\n",
    "#dict.items()의 출력값은 list 타입이 아닌, 고유한 타입이다.\n",
    "#rd.choice가 인식할 수 있는 형태로 key와 value를 뽑아내려면 이를 리스트 또는 튜플 타입으로 바꿔줘야 한다.\n",
    "# *프로그래밍을 하다가 어떤 function이 인식을 못한다면, 위처럼 type을 지정해주기\n",
    "#만약에 wordbook.items[v]라고 쓰면 값이 하나로 특정되기 때문에 \n",
    "#이런 형태로는 rd.choice 사용할 수 없다.\n",
    "    else:\n",
    "        print('잘못 입력하셨습니다.')"
   ]
  },
  {
   "cell_type": "markdown",
   "id": "6a2a50b2",
   "metadata": {},
   "source": [
    "## 집합\n",
    "- a = {}   : dict type; \n",
    "  a = set() : set type"
   ]
  },
  {
   "cell_type": "code",
   "execution_count": null,
   "id": "9b5face0",
   "metadata": {},
   "outputs": [],
   "source": [
    "#w집합은 기호 또는 function 둘 중 하나를 사용해서 계산 가능\n",
    "#교집합\n",
    "s1 = {2,4,6,8,10}\n",
    "s2 = {1,2,3,4,5}\n",
    "s = s1 & s2\n",
    "print(s)\n",
    "a = s1.intersection(s2)\n",
    "print(a)\n",
    "#합집합\n",
    "b = s1|s2 # b = s1.union(s2) 으로 대체 가능\n",
    "print(b)\n",
    "#차집합\n",
    "c = s1 - s2  # c = s1.difference(s2) 으로 대체 가능\n",
    "print(c)\n",
    "d = s2 - s1  # c = s2.difference(s1) 으로 대체 가능\n",
    "print(d)"
   ]
  },
  {
   "cell_type": "markdown",
   "id": "2a1c8021",
   "metadata": {},
   "source": [
    "## 컴프리헨션"
   ]
  },
  {
   "cell_type": "code",
   "execution_count": null,
   "id": "3aa8c022",
   "metadata": {},
   "outputs": [],
   "source": [
    "numSet = {num for num in range(1,6)}\n",
    "numSet"
   ]
  },
  {
   "cell_type": "code",
   "execution_count": null,
   "id": "62f6d5b2",
   "metadata": {},
   "outputs": [],
   "source": [
    "numList1 = [i for i in range(1,21) if i%2==0]\n",
    "print(numList1)\n",
    "numList2 = [i*2 for i in range(1,21) if i%2==0]\n",
    "print(numList2)"
   ]
  },
  {
   "cell_type": "markdown",
   "id": "5a495ba4",
   "metadata": {},
   "source": [
    "## 함수"
   ]
  },
  {
   "cell_type": "code",
   "execution_count": null,
   "id": "8733b8a1",
   "metadata": {},
   "outputs": [],
   "source": [
    "def calc(n1, n2, op):\n",
    "    operator = ['+','-','*','/']\n",
    "    if op == '+':          #return이 아닌 print를 한다면 결과: 50*30 = 1500\n",
    "        return n1 + n2                                 # 결과---: None뜬다\n",
    "    elif op == '-':       #return으로 호출하지 않았기 때문에 calc(n1,n2,op)에 들어온 내용이 없기 때문\n",
    "        return n1 - n2\n",
    "    elif op == '*':\n",
    "        return n1 * n2\n",
    "    elif op == '/':\n",
    "        return n1 / n2\n",
    "\n",
    "\n",
    "n1 = int(input('첫번째 숫자: '))\n",
    "n2 = int(input('두번째 숫자: '))   #파이썬의 내장함수는 녹색으로 표시되고\n",
    "op = input('연산기호: ')\n",
    "\n",
    "print('결과---: %s' % calc(n1,n2,op))  #calc는 사용자 정의함수이므로 검은색으로 표시"
   ]
  },
  {
   "cell_type": "code",
   "execution_count": null,
   "id": "721f2c95",
   "metadata": {},
   "outputs": [],
   "source": [
    "def calc(n1, n2, op):\n",
    "    operator = ['+','-','*','/']\n",
    "    if op in operator:\n",
    "        return eval(n1+op+n2)  #eval함수는 문자열을 다 계산한다. 문자열에서 '+'는 모든 문자를 다 붙이는 기능 \n",
    "    else:                      # 예) 100 * 200    #eval 함수의 parameter는 str type만 들어갈 수 있다.\n",
    "        return \"연산기호가 잘못되었습니다\"\n",
    "\n",
    "n1 = input('첫번째 숫자: ')\n",
    "n2 = input('두번째 숫자: ')   \n",
    "op = input('연산기호: ')\n",
    "\n",
    "print('결과: %s' % calc(n1,n2,op)) #s는 문자열 형태로 출력하라는 것\n",
    "# parameter가 문자인데 %d로 하면 오류뜨지만, parameter가 숫자인데 %s로 하는 것은 가능"
   ]
  },
  {
   "cell_type": "code",
   "execution_count": null,
   "id": "fd0c6fde",
   "metadata": {},
   "outputs": [],
   "source": [
    "operator = '+ - * /'\n",
    "print(operator.split(','))"
   ]
  },
  {
   "cell_type": "code",
   "execution_count": null,
   "id": "6111c0a2",
   "metadata": {},
   "outputs": [],
   "source": [
    "items = ['피카츄', '라이츄', '파이리', '꼬부기, 버터풀']\n",
    "def get_random_item(items):\n",
    "    import random as rd\n",
    "    return rd.choice(items)\n",
    "\n",
    "print(items)\n",
    "print(f\"random choice item's {get_random_item(items)}\")\n",
    "    "
   ]
  },
  {
   "cell_type": "code",
   "execution_count": 3,
   "id": "e6160fa1",
   "metadata": {},
   "outputs": [
    {
     "name": "stdout",
     "output_type": "stream",
     "text": [
      "**로또 추첨을 시작합니다. ** \n",
      "\n",
      "로또번호: [4, 7, 30, 34, 45, 45]\n"
     ]
    }
   ],
   "source": [
    "import random\n",
    "print('**로또 추첨을 시작합니다. ** \\n');\n",
    "def lottoNumber():\n",
    "    lot = [ random.randint(1,45) for i in range(6)] # 중복값 발생할 수 있음\n",
    "    lot.sort()   #sort의 기본값은 오름차순 정렬\n",
    "    return lot\n",
    "print(f'로또번호: {lottoNumber()}')"
   ]
  },
  {
   "cell_type": "code",
   "execution_count": null,
   "id": "6e4de18d",
   "metadata": {},
   "outputs": [],
   "source": [
    "def lotto():\n",
    "    import random\n",
    "    x = []\n",
    "    while True:\n",
    "        c = random.randint(1,45)\n",
    "        if len(x) == 6:\n",
    "            break\n",
    "        if c not in x:\n",
    "            x.append(c)     #중복 방지를 위해 작성한 식: 아래 sample함수의 작동 원리\n",
    "    x.sort()\n",
    "    return 'Good Luck !',x\n",
    "print(f'로또번호: {lotto()}')"
   ]
  },
  {
   "cell_type": "code",
   "execution_count": null,
   "id": "3d0fd51e",
   "metadata": {},
   "outputs": [],
   "source": [
    "import random\n",
    "print(\"**로또 추첨을 시작합니다.**\")\n",
    "def lotto():\n",
    "    r_num = random.sample(range(1,46),6)  #sample 함수 - 6개의 값을 중복 없이 뽑아낸다.\n",
    "    r_num.sort()\n",
    "    return r_num\n",
    "print(f'로또번호: {lotto()}')\n",
    "#random.seed(출발점): 일반적으로는 출발점에 0을 입력한다."
   ]
  },
  {
   "cell_type": "code",
   "execution_count": null,
   "id": "85f14720",
   "metadata": {},
   "outputs": [],
   "source": [
    "import urllib.request\n",
    "import ssl\n",
    "\n",
    "context = ssl._create_unverified_context()\n",
    "\n",
    "#환율정보 페이지 불러오기\n",
    "print(\"[환율정보 불러오기]\")\n",
    "URL = \"https://search.naver.com/search.naver?where=nexearch&sm=top_hty&fbm=1&ie=utf8&query=%ED%99%98%EC%9C%A8\"\n",
    "page = urllib.request.urlopen(URL, context=context)\n",
    "text = page.read().decode(\"utf8\")  # 해당 페이지의 소스코드\n",
    "#print(text) #이 함수로 출력되는 html 코드 중 \n",
    "            #아래처럼 슬라이싱으로 내가 원하는 부분을 크롤링\n",
    "\n",
    "def getTargetInfo(searchText, infoLen):\n",
    "    where = text.find(searchText) \n",
    "    targetInfo = text[where+len(searchText):where+len(searchText)+infoLen]\n",
    "    return targetInfo\n",
    "a = getTargetInfo('<span>미국 <em>USD</em></span></a></th> <td><span>', 8)\n",
    "print(a)  #달러 환율만 호출한다면 이렇게 작성하면 된다\n",
    "\n",
    "info = {'환율기준시간': [ 'class=\"grp_info\"> <em>',16], \n",
    "        '달러':['<span>미국 <em>USD</em></span></a></th> <td><span>',8],\n",
    "         '위안':['<span>중국 <em>CNY</em></span></a></th> <td><span>',6],\n",
    "        '유로화':['<span>유럽연합 <em>EUR</em></span></a></th> <td><span>',8]}\n",
    "# dict type은 key하나에 value를 list형태로 한꺼번에 넣을 수 있다.\n",
    "for k,v in info.items():\n",
    "    print(f'-{k}: {getTargetInfo(v[0], v[1])}')\n",
    "#여러 국가의 환율을 가져오려면 for문을 작성해서 호출하는 것이 편하다.\n",
    "exec(test) #shall 등의 문자 형태의 코드를 실행시키는 함수 (비교: eval(): 문자 형태의 요소를 계산하는 함수)"
   ]
  },
  {
   "cell_type": "markdown",
   "id": "3520884f",
   "metadata": {},
   "source": [
    "## lambda()"
   ]
  },
  {
   "cell_type": "code",
   "execution_count": null,
   "id": "e3788fca",
   "metadata": {},
   "outputs": [],
   "source": [
    "def hap(num1,num2):\n",
    "    return num1 + num2\n",
    "print(hap(10,20))\n",
    "\n",
    "hap = lambda num1, num2 : num1+num2\n",
    "print(hap(10,20))"
   ]
  },
  {
   "cell_type": "code",
   "execution_count": null,
   "id": "022b4147",
   "metadata": {},
   "outputs": [],
   "source": [
    "myList = [1,2,3,4,5]\n",
    "myList = list(map(lambda num : num + 10, myList)) #굳이 ppt 266p처럼 add10이라는 변수를 따로 정의할 필요 없다.\n",
    "print(myList)"
   ]
  },
  {
   "cell_type": "code",
   "execution_count": 7,
   "id": "43b1f4dc",
   "metadata": {},
   "outputs": [
    {
     "name": "stdout",
     "output_type": "stream",
     "text": [
      "[1, 2, '3', 4, 5, '6', 7, 8, '9', 10]\n"
     ]
    }
   ],
   "source": [
    "#실습문제 - 함수 정의해서 풀기\n",
    "myList = [1,2,3,4,5,6,7,8,9,10]\n",
    "def sconvert(x):\n",
    "    if x%3==0: return str(x)\n",
    "    else: return x\n",
    "    \n",
    "for i,v in enumerate(myList):\n",
    "    myList[i] = sconvert(v)\n",
    "print(myList)"
   ]
  },
  {
   "cell_type": "code",
   "execution_count": 3,
   "id": "4e3082f4",
   "metadata": {},
   "outputs": [
    {
     "name": "stdout",
     "output_type": "stream",
     "text": [
      "[1, 2, '3', 4, 5, '6', 7, 8, '9', 10]\n"
     ]
    }
   ],
   "source": [
    "#실습문제 - lambda와 map 함수로 풀기\n",
    "myList = [1,2,3,4,5,6,7,8,9,10]\n",
    "sconvert = lambda x: str(x) if x%3==0 else x\n",
    "myList = list(map(sconvert, myList))\n",
    "print(myList)\n",
    "# 컴프리헨션과 for loop 식으로 작성해도 됨 myList = [str(x) if x%3==0 else x for x in myList]"
   ]
  },
  {
   "cell_type": "code",
   "execution_count": 6,
   "id": "13eb951c",
   "metadata": {},
   "outputs": [
    {
     "name": "stdout",
     "output_type": "stream",
     "text": [
      "[2, 4, 6, 8]\n"
     ]
    }
   ],
   "source": [
    "def multi_two(x):\n",
    "    return x*2\n",
    "result = map(multi_two, [1,2,3,4])\n",
    "print(list(result))"
   ]
  },
  {
   "cell_type": "code",
   "execution_count": null,
   "id": "fa97a55e",
   "metadata": {},
   "outputs": [],
   "source": [
    "myList1 = [1,2,3,4,5]\n",
    "myList2 = [2,4,6,8,10]\n",
    "#방법1:\n",
    "func = lambda x, y: x*y\n",
    "myList = list(map(func,myList1,myList2))\n",
    "#원래 map의 인자는 2개(함수이름, 자료형)\n",
    "#튜플은 괄호 생략해도 되기 때문에 자료형이 여러개 올 수 있다.\n",
    "#즉, map(func, (myList1,mylist2))로 실제로는 인자가 2개인 것\n",
    "#cf) map(lambda x,y,z: x*(y+z),(myList1, myList2, myList3))\n",
    "\n",
    "#방법2:\n",
    "myList = list(map(lambda x, y: x*y,myList1,myList2))\n",
    "print(myList)"
   ]
  }
 ],
 "metadata": {
  "kernelspec": {
   "display_name": "Python 3 (ipykernel)",
   "language": "python",
   "name": "python3"
  },
  "language_info": {
   "codemirror_mode": {
    "name": "ipython",
    "version": 3
   },
   "file_extension": ".py",
   "mimetype": "text/x-python",
   "name": "python",
   "nbconvert_exporter": "python",
   "pygments_lexer": "ipython3",
   "version": "3.8.10"
  }
 },
 "nbformat": 4,
 "nbformat_minor": 5
}
