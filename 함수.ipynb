{
  "cells": [
    {
      "cell_type": "markdown",
      "metadata": {
        "id": "view-in-github",
        "colab_type": "text"
      },
      "source": [
        "<a href=\"https://colab.research.google.com/github/KSeungBin/python/blob/master/%ED%95%A8%EC%88%98.ipynb\" target=\"_parent\"><img src=\"https://colab.research.google.com/assets/colab-badge.svg\" alt=\"Open In Colab\"/></a>"
      ]
    },
    {
      "cell_type": "markdown",
      "metadata": {
        "id": "j2qBNv9J21pn"
      },
      "source": [
        "- 반복문 : 코드 수를 최대한 줄이기 위해 사용(코드의 반복을 줄임)\n",
        "- 함수 : 다른 사람에게 정리된 코드를 제공하기 위해 사용(모두가 이해하기 쉽도록)\n",
        "\n",
        "# 파이썬 함수\n",
        "도서관에 가면 책이 `'한국식 십진 분류표'(KDC)`에 의거하여 분야별로 분류돼 있습니다. 정해진 (표준화된) 방법을 사용하기 때문에 어떤 도서관을 가더라도 (익숙해지면) 빠르게 찾을 수 있습니다. 즉 표준화를 통해 공통된 인터페이스를 사용하면 확장성이 강해집니다.   \n",
        "```\n",
        "000 총류, 100 철학, 200 종교, 300 사회과학, 400 순수과학\n",
        "```"
      ]
    },
    {
      "cell_type": "markdown",
      "metadata": {
        "id": "PcSUwGPr21ps"
      },
      "source": [
        "## 함수 기본형"
      ]
    },
    {
      "cell_type": "markdown",
      "metadata": {
        "id": "HXtGFa9o21pt"
      },
      "source": [
        "함수는 코드를 정리하는 방법입니다. 정해진 문법에 맞게 코드를 나열하여 재사용성을 높이기 위해 함수를 사용합니다. `def` 키워드는 함수를 정의한다는 것을 파이썬 인터프리터에게 알리는 역할을 합니다. "
      ]
    },
    {
      "cell_type": "markdown",
      "metadata": {
        "id": "LXUdz1vD21pt"
      },
      "source": [
        "<img src=\"https://i.ibb.co/1TKRGDB/func-0.png\" width=\"700\" style=\"float:left\" />"
      ]
    },
    {
      "cell_type": "markdown",
      "metadata": {
        "id": "ZEGMW2c221pu"
      },
      "source": [
        "다음은 \"인사하기\"라는 이름의 함수로 코드를 정리했습니다. 함수를 정의하는 것만으로는 아무런 결과가 출력되지 않습니다."
      ]
    },
    {
      "cell_type": "code",
      "execution_count": null,
      "metadata": {
        "id": "GZkzcQH-21pu",
        "outputId": "e9bb509e-6ed3-4109-c96f-5b9db63bb114"
      },
      "outputs": [
        {
          "name": "stdout",
          "output_type": "stream",
          "text": [
            "안녕하세요\n",
            "반갑습니다\n",
            "내이름은 무지!\n",
            "안녕하세요\n",
            "반갑습니다\n",
            "내이름은 무지!\n",
            "안녕하세요\n",
            "반갑습니다\n",
            "내이름은 무지!\n"
          ]
        }
      ],
      "source": [
        "print(\"안녕하세요\")\n",
        "print(\"반갑습니다\")\n",
        "print(\"내이름은 무지!\")\n",
        "\n",
        "print(\"안녕하세요\")\n",
        "print(\"반갑습니다\")\n",
        "print(\"내이름은 무지!\")\n",
        "\n",
        "print(\"안녕하세요\")\n",
        "print(\"반갑습니다\")\n",
        "print(\"내이름은 무지!\")"
      ]
    },
    {
      "cell_type": "markdown",
      "metadata": {
        "id": "lLnEvG4s21pw"
      },
      "source": [
        "함수로 정의하기"
      ]
    },
    {
      "cell_type": "code",
      "execution_count": null,
      "metadata": {
        "id": "C-L5nCgS21px"
      },
      "outputs": [],
      "source": [
        "# 유지 보수가 쉬워지는 함수\n",
        "def 인사하기(): # 정의부\n",
        "  print(\"안녕하세요\")\n",
        "  print(\"반갑습니다\")\n",
        "  print(\"내이름은 무지!\")"
      ]
    },
    {
      "cell_type": "markdown",
      "metadata": {
        "id": "hl2d4e2O21px"
      },
      "source": [
        "함수를 <b>호출</b> 해야 들여쓰기된 코드들이 실행됩니다. "
      ]
    },
    {
      "cell_type": "code",
      "execution_count": null,
      "metadata": {
        "colab": {
          "base_uri": "https://localhost:8080/"
        },
        "id": "x_bAZFkE21py",
        "outputId": "7801cd2d-31d6-4b10-bd0d-adc68bf34983"
      },
      "outputs": [
        {
          "output_type": "stream",
          "name": "stdout",
          "text": [
            "안녕하세요\n",
            "반갑습니다\n",
            "내이름은 무지!\n",
            "안녕하세요\n",
            "반갑습니다\n",
            "내이름은 무지!\n",
            "안녕하세요\n",
            "반갑습니다\n",
            "내이름은 무지!\n"
          ]
        }
      ],
      "source": [
        "# 호출부 : python interpreter에게 함수를 호출하라는 명령을 내림\n",
        "인사하기(   ) # 함수를 호출하면 함수의 정의부로 이동해 들여쓰기 된 코드 덩어리를 실행하고, 실행을 마치면 다시 호출부로 돌아온다\n",
        "인사하기(   )\n",
        "인사하기(   )"
      ]
    },
    {
      "cell_type": "code",
      "source": [
        "for i in [0,1,2]:  # for문의 변수(i)는 0,1,2가 차례로 담겨 data type이 자동으로 지정되기 때문에 초기화 필요 없음\n",
        "  인사하기()"
      ],
      "metadata": {
        "colab": {
          "base_uri": "https://localhost:8080/"
        },
        "id": "61kmGrAq4mCb",
        "outputId": "f99b0725-6e90-40e3-9bea-3a7014c7aede"
      },
      "execution_count": null,
      "outputs": [
        {
          "output_type": "stream",
          "name": "stdout",
          "text": [
            "안녕하세요\n",
            "반갑습니다\n",
            "내이름은 무지!\n",
            "안녕하세요\n",
            "반갑습니다\n",
            "내이름은 무지!\n",
            "안녕하세요\n",
            "반갑습니다\n",
            "내이름은 무지!\n"
          ]
        }
      ]
    },
    {
      "cell_type": "code",
      "source": [
        "for i in range(3):\n",
        "  인사하기()"
      ],
      "metadata": {
        "colab": {
          "base_uri": "https://localhost:8080/"
        },
        "id": "zZmmIEEN5Djs",
        "outputId": "61beaff4-4c3a-474e-aeae-b4b9b03493de"
      },
      "execution_count": null,
      "outputs": [
        {
          "output_type": "stream",
          "name": "stdout",
          "text": [
            "안녕하세요\n",
            "반갑습니다\n",
            "내이름은 무지!\n",
            "안녕하세요\n",
            "반갑습니다\n",
            "내이름은 무지!\n",
            "안녕하세요\n",
            "반갑습니다\n",
            "내이름은 무지!\n"
          ]
        }
      ]
    },
    {
      "cell_type": "markdown",
      "metadata": {
        "id": "F4Nap-7Q21py"
      },
      "source": [
        "함수가 호출되면 함수의 정의부로 이동해서, 들여쓰기된 코드를 실행하고, 다시 호출부로 이동합니다. "
      ]
    },
    {
      "cell_type": "markdown",
      "metadata": {
        "id": "lsR3VGEk21pz"
      },
      "source": [
        "<img src=\"https://i.ibb.co/LhsTprP/func-1.png\" width=\"400\" style=\"float:left\" />"
      ]
    },
    {
      "cell_type": "markdown",
      "metadata": {
        "id": "UIdDyV2f21pz"
      },
      "source": [
        "함수 호출하기에 앞서 반드시 먼저 정의돼 있어야 합니다. 파이썬 인터프리터는 코드를 위에서 아래 방향으로 해석한다는 것을 잊지마세요!"
      ]
    },
    {
      "cell_type": "code",
      "execution_count": null,
      "metadata": {
        "id": "ZoDi1-ts21pz",
        "outputId": "0015d436-94a5-40af-dc5d-6a8850fcbb7b"
      },
      "outputs": [
        {
          "name": "stdout",
          "output_type": "stream",
          "text": [
            "안녕\n"
          ]
        }
      ],
      "source": [
        "def 인사() :\n",
        "    print(\"안녕\")    \n",
        "\n",
        "인사()"
      ]
    },
    {
      "cell_type": "code",
      "source": [
        "# 함수의 정의는 위에 몰아놓고, 호출부는 아래로 몰아서 작성하는 것이 관습\n",
        "def 인사():\n",
        "  print(\"안녕\")\n",
        "\n",
        "def 인사2():\n",
        "  print(\"Hello!\")\n",
        "\n",
        "# ---------------------\n",
        "\n",
        "인사()\n",
        "인사2()"
      ],
      "metadata": {
        "colab": {
          "base_uri": "https://localhost:8080/"
        },
        "id": "W2sPZ7Xz6BF0",
        "outputId": "45eca2c6-0c59-4fad-9aa1-9a3126632d16"
      },
      "execution_count": null,
      "outputs": [
        {
          "output_type": "stream",
          "name": "stdout",
          "text": [
            "안녕\n",
            "Hello!\n"
          ]
        }
      ]
    },
    {
      "cell_type": "markdown",
      "metadata": {
        "id": "aBNrWQka21p0"
      },
      "source": [
        "복잡한 구조의 코드를 살펴봅시다. \n",
        "다음 코드들의 실행 결과를 예측해 보세요."
      ]
    },
    {
      "cell_type": "markdown",
      "metadata": {
        "id": "Nt_ruEtz21p0"
      },
      "source": [
        "```\n",
        "print(3)\n",
        "def test():\n",
        "    print(1)\n",
        "print(2)\n",
        "test()\n",
        "```"
      ]
    },
    {
      "cell_type": "markdown",
      "metadata": {
        "id": "wrMIQwcx21p0"
      },
      "source": [
        "같은 동작을 하는데 일반 코드와 함수의 정의가 섞여 있으니 코드를 해석하기가 다소 어렵습니다. 이러한 이유로 함수의 정의부와 호출부를 섞어서 코드를 정리하지 않습니다. 코드를 정리하려고 함수를 사용하는데 코드를 읽기가 더 어려워지면 안되겠죠?  (정의부는 위쪽,  실행코드와 호출부는 아래쪽에 분리해놓는 것이 좋은 코드)"
      ]
    },
    {
      "cell_type": "markdown",
      "metadata": {
        "id": "FdRcbeIq21p1"
      },
      "source": [
        "```\n",
        "def test():\n",
        "    print(1)\n",
        "print(3)\n",
        "print(2)\n",
        "test()\n",
        "```"
      ]
    },
    {
      "cell_type": "markdown",
      "metadata": {
        "id": "wibYOilc21p1"
      },
      "source": [
        "다음 코드의 실행 결과는 어떻게 될까요?"
      ]
    },
    {
      "cell_type": "code",
      "execution_count": null,
      "metadata": {
        "id": "_SI6W5dv21p1",
        "outputId": "c50017d5-f42f-4624-a54b-dcc27b3ba610"
      },
      "outputs": [
        {
          "name": "stdout",
          "output_type": "stream",
          "text": [
            "b\n",
            "a\n",
            "c\n"
          ]
        }
      ],
      "source": [
        "# python interpreter가 정의부를 지나갈 때는 그냥 'A,B 함수가 있다'하고 넘어감 -> 호출부로 왔을 때 그제서야 정의부에 들여쓰기 된 코드를 하나하나 실행\n",
        "def A():\n",
        "    print(\"a\")\n",
        "\n",
        "def B():\n",
        "    print(\"b\")\n",
        "    A() # 함수를 호출 : 정의부로 이동한 후 들여쓰기 된 코드를 실행 -> 정의된 코드 실행이 끝나면 호출했던 부분으로 돌아옴 -> 다음코드가 있으니 print(\"c\") 실행\n",
        "    print(\"c\")\n",
        "    \n",
        "B()  # 코드를 모두 실행하면 호출부로 돌아옴 -> 다음 코드가 없으니 종료"
      ]
    },
    {
      "cell_type": "code",
      "execution_count": null,
      "metadata": {
        "id": "A2W8qAio21p1"
      },
      "outputs": [],
      "source": [
        "def 함수(   ):\n",
        "    print(\"ddd\")"
      ]
    },
    {
      "cell_type": "markdown",
      "metadata": {
        "id": "yQS0u8HL21p2"
      },
      "source": [
        "## 입력이 있는 함수\n",
        "입력이 있는 함수를 사용해 봅시다. 단순히 코드를 정리하는 것이 아니라 재사용성을 더욱 높이기 위해 변수와 함수를 연결합니다.\n",
        "다음 코드에서 `무지`/`어피치`의 이름만 변경되는 것을 알 수 있습니다. "
      ]
    },
    {
      "cell_type": "code",
      "execution_count": null,
      "metadata": {
        "scrolled": true,
        "id": "5zHxo-z921p2",
        "outputId": "11dc113b-1984-4aa9-e05f-7d06d9333490"
      },
      "outputs": [
        {
          "name": "stdout",
          "output_type": "stream",
          "text": [
            "안녕하세요\n",
            "반갑습니다\n",
            "내이름은 무지!\n",
            "안녕하세요\n",
            "반갑습니다\n",
            "내이름은 어피치!\n"
          ]
        }
      ],
      "source": [
        "print(\"안녕하세요\")\n",
        "print(\"반갑습니다\")\n",
        "print(\"내이름은 무지!\")\n",
        "\n",
        "print(\"안녕하세요\")\n",
        "print(\"반갑습니다\")\n",
        "print(\"내이름은 어피치!\")"
      ]
    },
    {
      "cell_type": "code",
      "source": [
        "# 반복문으로 정의\n",
        "for i in [\"무지\", \"어피치\"]:\n",
        "  print(\"안녕하세요\")\n",
        "  print(\"반갑습니다\")\n",
        "  print(f\"내 이름은 {i}\")"
      ],
      "metadata": {
        "colab": {
          "base_uri": "https://localhost:8080/"
        },
        "id": "vmAXiJjZ8ZAB",
        "outputId": "c47eb26c-3231-4849-c489-e323e4d16152"
      },
      "execution_count": null,
      "outputs": [
        {
          "output_type": "stream",
          "name": "stdout",
          "text": [
            "안녕하세요\n",
            "반갑습니다\n",
            "내 이름은 무지\n",
            "안녕하세요\n",
            "반갑습니다\n",
            "내 이름은 어피치\n"
          ]
        }
      ]
    },
    {
      "cell_type": "code",
      "execution_count": null,
      "metadata": {
        "id": "RPrx0Cwa21p2"
      },
      "outputs": [],
      "source": [
        "# 함수로 정의\n",
        "def 무지인사하기():\n",
        "    print(\"안녕하세요\")\n",
        "    print(\"반갑습니다\")\n",
        "    print(\"내이름은 무지!\")\n",
        "    \n",
        "def 어피치인사하기():\n",
        "    print(\"안녕하세요\")\n",
        "    print(\"반갑습니다\")\n",
        "    print(\"내이름은 어피치!\")"
      ]
    },
    {
      "cell_type": "code",
      "execution_count": null,
      "metadata": {
        "id": "aZCbBurW21p3",
        "outputId": "a85a842f-a1c6-4020-ef01-eff8ba4cd4d8"
      },
      "outputs": [
        {
          "name": "stdout",
          "output_type": "stream",
          "text": [
            "안녕하세요\n",
            "반갑습니다\n",
            "내이름은 무지!\n"
          ]
        }
      ],
      "source": [
        "무지인사하기()"
      ]
    },
    {
      "cell_type": "markdown",
      "metadata": {
        "id": "ttyTdIDl21p3"
      },
      "source": [
        "함수를 정의할 때 변수를 하나 선언하면, 함수를 호출할 때에도 하나의 값을 반드시 전달해야 합니다. 함수로 전달하는 값은 정수/문자열/자료구조 등이 될 수 있습니다. "
      ]
    },
    {
      "cell_type": "markdown",
      "metadata": {
        "id": "T73i8KTE21p3"
      },
      "source": [
        "<img src=\"https://i.ibb.co/gykwJ0M/func-2.png\" width=\"700\" style=\"float:left\" />"
      ]
    },
    {
      "cell_type": "markdown",
      "metadata": {
        "id": "AHO3kWZN21p3"
      },
      "source": [
        "무지와 어피치의 이름을 입력받는 \"인사하기\" 함수를 작성해 보겠습니다."
      ]
    },
    {
      "cell_type": "code",
      "execution_count": null,
      "metadata": {
        "colab": {
          "base_uri": "https://localhost:8080/"
        },
        "id": "MqjAEUXV21p3",
        "outputId": "b0f924dc-961b-496a-dad9-f36584df36a1"
      },
      "outputs": [
        {
          "output_type": "stream",
          "name": "stdout",
          "text": [
            "안녕하세요\n",
            "반갑습니다\n",
            "내 이름은 어피치!\n",
            "안녕하세요\n",
            "반갑습니다\n",
            "내 이름은 라이언!\n"
          ]
        }
      ],
      "source": [
        "# 호출하면 변수(이름)에 \"argument\"가 바인딩 됨 -> 정의부에 들여쓰기 된 코드를 모두 실행하면 다시 호출부로 돌아옴\n",
        "def 인사하기(이름): # 함수를 정의할 때 하나를 입력받겠다.(parameter = 이름) -> 따라서, 함수를 호출할 때 반드시 (argument=어피치, 라이언) 써야 함\n",
        "  print(\"안녕하세요\")\n",
        "  print(\"반갑습니다\")\n",
        "  print(f\"내 이름은 {이름}!\")\n",
        "\n",
        "인사하기(\"어피치\")\n",
        "인사하기(\"라이언\")"
      ]
    },
    {
      "cell_type": "markdown",
      "metadata": {
        "id": "GHrLbSFq21p4"
      },
      "source": [
        "함수가 호출될 때 입력된 값을 갖고 함수의 정의부로 이동합니다. 함수로 전달하는 값을 `파라미터`라고 부릅니다. "
      ]
    },
    {
      "cell_type": "markdown",
      "metadata": {
        "id": "tubyt3CN21p4"
      },
      "source": [
        "<img src=\"https://i.ibb.co/ZmH9ZC4/func-3.png\" width=\"350\" style=\"float:left\" />"
      ]
    },
    {
      "cell_type": "code",
      "execution_count": null,
      "metadata": {
        "colab": {
          "base_uri": "https://localhost:8080/"
        },
        "id": "x3YRGmCS21p4",
        "outputId": "cc5991f0-f373-4ebd-cb1d-a87a12896af0"
      },
      "outputs": [
        {
          "output_type": "stream",
          "name": "stdout",
          "text": [
            "어피치안녕?\n",
            "무지안녕?\n"
          ]
        }
      ],
      "source": [
        "def 인사하기( x ) : \n",
        "    print(x + \"안녕?\")\n",
        "    \n",
        "인사하기(  \"어피치\"    )\n",
        "인사하기(  \"무지\"    )"
      ]
    },
    {
      "cell_type": "markdown",
      "metadata": {
        "id": "srdpKPOh21p4"
      },
      "source": [
        "두 개의 파라미터를 입력받는 함수를 정의해 봅시다. 다음과 같은 형태의 출력이 반복되어 해당 코드를 정리해 볼겁니다.   \n",
        "`철수 ♡ 영희 결혼을 축하합니다`  \n",
        "`영수 ♡ 순희 결혼을 축하합니다`"
      ]
    },
    {
      "cell_type": "code",
      "execution_count": null,
      "metadata": {
        "id": "gBO7oFKm21p4",
        "outputId": "7eda8d28-bcf8-4fbd-b773-dab23480c8bd"
      },
      "outputs": [
        {
          "name": "stdout",
          "output_type": "stream",
          "text": [
            "--------------------\n",
            " 청 첩 장 \n",
            "--------------------\n",
            "철수 ♡ 영희 결혼을 축하합니다\n",
            "--------------------\n",
            " 청 첩 장 \n",
            "--------------------\n",
            "영수 ♡ 순희 결혼을 축하합니다\n"
          ]
        }
      ],
      "source": [
        "print(\"-\"*20)\n",
        "print(\" 청 첩 장 \")\n",
        "print(\"-\"*20)\n",
        "print(\"철수 ♡ 영희 결혼을 축하합니다\")\n",
        "\n",
        "print(\"-\"*20)\n",
        "print(\" 청 첩 장 \")\n",
        "print(\"-\"*20)\n",
        "print(\"영수 ♡ 순희 결혼을 축하합니다\")"
      ]
    },
    {
      "cell_type": "code",
      "execution_count": null,
      "metadata": {
        "id": "CGD8xScr21p5"
      },
      "outputs": [],
      "source": [
        "def 철수영희_청첩장():\n",
        "    print(\"-\"*20)\n",
        "    print(\" 청 첩 장 \")\n",
        "    print(\"-\"*20)\n",
        "    print(\"철수 ♡ 영희 결혼을 축하합니다\")\n",
        "    \n",
        "def 영희순희_청첩장():\n",
        "    print(\" 청 첩 장 \")\n",
        "    print(\"-\"*20)\n",
        "    print(\"영수 ♡ 순희 결혼을 축하합니다\")"
      ]
    },
    {
      "cell_type": "markdown",
      "metadata": {
        "id": "Fs3rUXzF21p5"
      },
      "source": [
        "파라미터의 이름을 지정할 수 있습니다. "
      ]
    },
    {
      "cell_type": "code",
      "execution_count": null,
      "metadata": {
        "colab": {
          "base_uri": "https://localhost:8080/"
        },
        "id": "dWx5YTWP21p5",
        "outputId": "703e02d3-2656-4034-c416-6157ed71aa69"
      },
      "outputs": [
        {
          "output_type": "stream",
          "name": "stdout",
          "text": [
            "--------------------\n",
            " 청 첩 장 \n",
            "--------------------\n",
            "희철 ♡ 영희 결혼을 축하합니다\n",
            "--------------------\n",
            " 청 첩 장 \n",
            "--------------------\n",
            "희철 ♡ 영자 결혼을 축하합니다\n"
          ]
        }
      ],
      "source": [
        "# parameter 2개를 입력받도록 정의\n",
        "def 청첩장(  신랑, 신부   ):\n",
        "    print(\"-\"*20)\n",
        "    print(\" 청 첩 장 \")\n",
        "    print(\"-\"*20)\n",
        "    print(f\"{신랑} ♡ {신부} 결혼을 축하합니다\")\n",
        "    \n",
        "청첩장( \"희철\", \"영희\"  ) # 호출하면 정의부로 이동 -> 신랑은 희철, 신부에는 영희가 바인딩 됨 -> 코드 실행 끝나면 호출부로 돌아옴 -> 다음 코드를 실행\n",
        "청첩장( \"희철\", \"영자\"  )"
      ]
    },
    {
      "cell_type": "markdown",
      "metadata": {
        "id": "PAkooYEI21p6"
      },
      "source": [
        "파라미터의 이름을 지정할 수 있습니다. "
      ]
    },
    {
      "cell_type": "code",
      "execution_count": null,
      "metadata": {
        "colab": {
          "base_uri": "https://localhost:8080/"
        },
        "id": "KNGeEw-221p6",
        "outputId": "2004c40f-5a9b-49c9-b2f8-4d5569d72c94"
      },
      "outputs": [
        {
          "output_type": "stream",
          "name": "stdout",
          "text": [
            "--------------------\n",
            " 청 첩 장 \n",
            "--------------------\n",
            "희철 ♡ 영희 결혼을 축하합니다\n",
            "--------------------\n",
            " 청 첩 장 \n",
            "--------------------\n",
            "희철 ♡ 영희 결혼을 축하합니다\n"
          ]
        }
      ],
      "source": [
        "# 순서가 바뀌어도 동일한 결과\n",
        "청첩장(신랑=\"희철\", 신부=\"영희\")\n",
        "청첩장(신부=\"영희\", 신랑=\"희철\") "
      ]
    },
    {
      "cell_type": "markdown",
      "metadata": {
        "id": "torRYuB-21p6"
      },
      "source": [
        "입력하지 않은 파라미터의 기본 값을 지정할 수 있습니다. "
      ]
    },
    {
      "cell_type": "code",
      "execution_count": null,
      "metadata": {
        "colab": {
          "base_uri": "https://localhost:8080/"
        },
        "id": "as40hhZL21p6",
        "outputId": "de0c8dbd-f670-4bda-d8f9-592f2cf21cb4"
      },
      "outputs": [
        {
          "output_type": "stream",
          "name": "stdout",
          "text": [
            "--------------------\n",
            " 청 첩 장 \n",
            "--------------------\n",
            "희철 ♡ 영희 결혼을 축하합니다\n",
            "--------------------\n",
            " 청 첩 장 \n",
            "--------------------\n",
            "희철 ♡ 영자 결혼을 축하합니다\n"
          ]
        }
      ],
      "source": [
        "# default 값 정의\n",
        "# parameter를 1개만 입력하면 신부는 \"영희\"라고 해석할께. 단, parameter를 2개 입력하면 바인딩된 값으로 이해할께\n",
        "def 청첩장(신랑, 신부=\"영희\"):\n",
        "    print(\"-\"*20)\n",
        "    print(\" 청 첩 장 \")\n",
        "    print(\"-\"*20)\n",
        "    print(f\"{신랑} ♡ {신부} 결혼을 축하합니다\")\n",
        "    \n",
        "청첩장( \"희철\" ) # 청첩장 위에 커서를 두면, 정의된 함수를 볼 수 있음\n",
        "청첩장( \"희철\", \"영자\"  )"
      ]
    },
    {
      "cell_type": "code",
      "source": [
        "# 리스트 하나를 입력받도록 정의 : '고객'이라는 parameter는 list로 입력해야 해\n",
        "def 청첩장(고객):\n",
        "    print(\"-\"*20)\n",
        "    print(\" 청 첩 장 \")\n",
        "    print(\"-\"*20)\n",
        "    print(f\"{고객[0]} ♡ {고객[1]} 결혼을 축하합니다\")\n",
        "    \n",
        "청첩장( [\"희철\", \"영희\"]  ) \n",
        "청첩장( [\"희철\", \"영자\"]  )"
      ],
      "metadata": {
        "colab": {
          "base_uri": "https://localhost:8080/"
        },
        "id": "1TPraJuf_FFh",
        "outputId": "c895b8c3-2beb-4719-a47c-92e6190d6871"
      },
      "execution_count": null,
      "outputs": [
        {
          "output_type": "stream",
          "name": "stdout",
          "text": [
            "--------------------\n",
            " 청 첩 장 \n",
            "--------------------\n",
            "희철 ♡ 영희 결혼을 축하합니다\n",
            "--------------------\n",
            " 청 첩 장 \n",
            "--------------------\n",
            "희철 ♡ 영자 결혼을 축하합니다\n"
          ]
        }
      ]
    },
    {
      "cell_type": "markdown",
      "metadata": {
        "id": "WDm-xdhD21p6"
      },
      "source": [
        "함수로 전달하는 파라미터의 개수는 제약이 없습니다. 정리하고 싶은 (함수로 코드를 정리하는) 사람의 마음에 달려 있습니다. 누군가가 파라미터를 두 개 입력받도록 설계한 함수를 사용할 때는 반드시 값을 두 개 전달해야 올바른 동작을 하는거죠. 예를 들어 다음의 replace라는 함수는 두 개의 파라미터를 입력받도록 설계가 돼 있을 겁니다.  \n",
        "```\n",
        "문자열 = \"abc\"\n",
        "문자열.replace(\"a\", \"b\")\n",
        "```\n",
        "len이라는 함수는 하나의 파라미터를 입력받도록 누군가가 정의를 해놨겠죠?  \n",
        "(python에 default로 정의된 len 함수 : 문자열을 입력받는 함수로 정의됨 -> 따라서, len함수의 argument로 숫자를 입력하면 error)\n",
        "```\n",
        "len(\"abcde\")\n",
        "```"
      ]
    },
    {
      "cell_type": "markdown",
      "metadata": {
        "id": "aKCAcjt921p6"
      },
      "source": [
        "## 반환값이 있는 함수\n",
        "지금 까지 배운 함수는 함수 내부에서 그 값을 출력했습니다. `len()` 함수는 호출하면 값을 출력하는 것이아니라 다음과 같이 결과를 반환해서 값을 출력할지 혹은 연산에 사용할지를 사용자가 결정할 수 있습니다. \n",
        "```\n",
        "길이 = len(\"abc\")\n",
        "```\n",
        "len 함수는 값을 print하지 않고 변수에 담는다 -> 변수는 출력 or 다른 함수의 입력으로 사용할 수 있다(함수 안에서 바로 print하는 경우 변수에 값을 대입할 수 없다)"
      ]
    },
    {
      "cell_type": "code",
      "execution_count": null,
      "metadata": {
        "id": "PpvHdJGr21p6"
      },
      "outputs": [],
      "source": [
        "길이 = len(\"abcd\")"
      ]
    },
    {
      "cell_type": "code",
      "execution_count": null,
      "metadata": {
        "id": "W2ZtqaFP21p7",
        "outputId": "a9779df3-9a74-45b4-d12f-9e99c7de8a1b"
      },
      "outputs": [
        {
          "name": "stdout",
          "output_type": "stream",
          "text": [
            "3\n"
          ]
        }
      ],
      "source": [
        "# 문법적으로 틀린 코드 \n",
        "def myfunc( x ):\n",
        "    print( 3 )\n",
        "    \n",
        "길이 = myfunc(100) # interpreter는 우변부터 실행하기 때문에 함수를 호출해서 3이 print되지만, 호출한 결과가 변수에 대입되지 않았음"
      ]
    },
    {
      "cell_type": "code",
      "execution_count": null,
      "metadata": {
        "id": "cGgYTLsh21p7",
        "outputId": "4acec93f-0287-4fd0-ea04-f1d0e89692c2"
      },
      "outputs": [
        {
          "name": "stdout",
          "output_type": "stream",
          "text": [
            "None\n"
          ]
        }
      ],
      "source": [
        "print(길이)"
      ]
    },
    {
      "cell_type": "code",
      "source": [
        "# return : 함수 안에서 계산된 값을 호출부(함수 밖)로 던진다 -> 따라서, return이 있어야 값을 변수에 저장할 수 있음\n",
        "# 즉, 함수를 호출한 결과를 변수에 저장하려면 return 해야 함 + 데이터(함수1의 반환 결과)를 함수2(다른 기능)와 연결하려면 return이 필요함\n",
        "def myfunc(x):\n",
        "  return x + 3\n",
        "\n",
        "  # 1. 결과를 출력\n",
        "  변수 = myfunc(100)\n",
        "  print(변수)\n",
        "\n",
        "  # 2. 결과를 함수의 입력으로 사용\n",
        "  변수 = myfunc(변수)\n",
        "  print(변수)"
      ],
      "metadata": {
        "id": "OhSLV3Cjj_Sp"
      },
      "execution_count": null,
      "outputs": []
    },
    {
      "cell_type": "code",
      "source": [
        "# 함수가 중첩된 경우, 안쪽부터 해석 = myfunc(103)\n",
        "myfunc(myfunc(100))"
      ],
      "metadata": {
        "colab": {
          "base_uri": "https://localhost:8080/"
        },
        "id": "jSDDFi8qkoY-",
        "outputId": "01fcf6db-5f17-4fa9-bf33-2e568f4a0320"
      },
      "execution_count": null,
      "outputs": [
        {
          "output_type": "execute_result",
          "data": {
            "text/plain": [
              "106"
            ]
          },
          "metadata": {},
          "execution_count": 2
        }
      ]
    },
    {
      "cell_type": "code",
      "source": [
        "def f(x):\n",
        "  print (x+3)\n",
        "\n",
        "f(f(100))   # f(None) => None type과 3 사이에 연산은 불가능"
      ],
      "metadata": {
        "colab": {
          "base_uri": "https://localhost:8080/",
          "height": 340
        },
        "id": "gCNBqrb4lAgv",
        "outputId": "6cb7b1d9-7e4b-4b53-a4e2-751bab2c56ee"
      },
      "execution_count": null,
      "outputs": [
        {
          "output_type": "stream",
          "name": "stdout",
          "text": [
            "103\n"
          ]
        },
        {
          "output_type": "error",
          "ename": "TypeError",
          "evalue": "ignored",
          "traceback": [
            "\u001b[0;31m---------------------------------------------------------------------------\u001b[0m",
            "\u001b[0;31mTypeError\u001b[0m                                 Traceback (most recent call last)",
            "\u001b[0;32m<ipython-input-4-c8947bbdc69b>\u001b[0m in \u001b[0;36m<module>\u001b[0;34m()\u001b[0m\n\u001b[1;32m      2\u001b[0m   \u001b[0mprint\u001b[0m \u001b[0;34m(\u001b[0m\u001b[0mx\u001b[0m\u001b[0;34m+\u001b[0m\u001b[0;36m3\u001b[0m\u001b[0;34m)\u001b[0m\u001b[0;34m\u001b[0m\u001b[0;34m\u001b[0m\u001b[0m\n\u001b[1;32m      3\u001b[0m \u001b[0;34m\u001b[0m\u001b[0m\n\u001b[0;32m----> 4\u001b[0;31m \u001b[0mf\u001b[0m\u001b[0;34m(\u001b[0m\u001b[0mf\u001b[0m\u001b[0;34m(\u001b[0m\u001b[0;36m100\u001b[0m\u001b[0;34m)\u001b[0m\u001b[0;34m)\u001b[0m\u001b[0;34m\u001b[0m\u001b[0;34m\u001b[0m\u001b[0m\n\u001b[0m",
            "\u001b[0;32m<ipython-input-4-c8947bbdc69b>\u001b[0m in \u001b[0;36mf\u001b[0;34m(x)\u001b[0m\n\u001b[1;32m      1\u001b[0m \u001b[0;32mdef\u001b[0m \u001b[0mf\u001b[0m\u001b[0;34m(\u001b[0m\u001b[0mx\u001b[0m\u001b[0;34m)\u001b[0m\u001b[0;34m:\u001b[0m\u001b[0;34m\u001b[0m\u001b[0;34m\u001b[0m\u001b[0m\n\u001b[0;32m----> 2\u001b[0;31m   \u001b[0mprint\u001b[0m \u001b[0;34m(\u001b[0m\u001b[0mx\u001b[0m\u001b[0;34m+\u001b[0m\u001b[0;36m3\u001b[0m\u001b[0;34m)\u001b[0m\u001b[0;34m\u001b[0m\u001b[0;34m\u001b[0m\u001b[0m\n\u001b[0m\u001b[1;32m      3\u001b[0m \u001b[0;34m\u001b[0m\u001b[0m\n\u001b[1;32m      4\u001b[0m \u001b[0mf\u001b[0m\u001b[0;34m(\u001b[0m\u001b[0mf\u001b[0m\u001b[0;34m(\u001b[0m\u001b[0;36m100\u001b[0m\u001b[0;34m)\u001b[0m\u001b[0;34m)\u001b[0m\u001b[0;34m\u001b[0m\u001b[0;34m\u001b[0m\u001b[0m\n",
            "\u001b[0;31mTypeError\u001b[0m: unsupported operand type(s) for +: 'NoneType' and 'int'"
          ]
        }
      ]
    },
    {
      "cell_type": "code",
      "source": [
        "# 예외처리 검색하기\n",
        "# try ~ except\n",
        "\n",
        "def f(x):\n",
        "  if x != None:\n",
        "    print(x + 10)\n",
        "\n",
        "f(None)\n",
        "f(10)"
      ],
      "metadata": {
        "colab": {
          "base_uri": "https://localhost:8080/"
        },
        "id": "9aVk1aUAoOFF",
        "outputId": "f37cca16-fb63-41a6-e10a-e31a90e73118"
      },
      "execution_count": null,
      "outputs": [
        {
          "output_type": "stream",
          "name": "stdout",
          "text": [
            "20\n"
          ]
        }
      ]
    },
    {
      "cell_type": "markdown",
      "metadata": {
        "id": "dabdsD-a21p7"
      },
      "source": [
        "함수에서 `return` 키워드는 함수의 수행을 중지하고 뒤에 나열된 값을 반환합니다. "
      ]
    },
    {
      "cell_type": "markdown",
      "metadata": {
        "id": "kZJZG3Hg21p7"
      },
      "source": [
        "<img src=\"https://i.ibb.co/Fm44F21/func-4.png\" width=\"600\" style=\"float:left\" />"
      ]
    },
    {
      "cell_type": "markdown",
      "metadata": {
        "id": "ctXvl3Xx21p7"
      },
      "source": [
        "반환값이 있는 함수를 작성해 봅시다. "
      ]
    },
    {
      "cell_type": "code",
      "execution_count": null,
      "metadata": {
        "id": "O2eW_als21p8",
        "outputId": "f20ea0b3-16c2-499f-96f9-d7f4657407f4"
      },
      "outputs": [
        {
          "name": "stdout",
          "output_type": "stream",
          "text": [
            "13.0\n"
          ]
        }
      ],
      "source": [
        "price = 10\n",
        "결과 = price * 1.3\n",
        "print(결과)"
      ]
    },
    {
      "cell_type": "code",
      "execution_count": null,
      "metadata": {
        "id": "XzUzv9m921p8",
        "outputId": "7ed2cdb1-b9ab-41d8-d54c-6deef4a37c0c"
      },
      "outputs": [
        {
          "name": "stdout",
          "output_type": "stream",
          "text": [
            "1300.0\n",
            "None\n"
          ]
        }
      ],
      "source": [
        "def 상한가(price):\n",
        "    결과 = price * 1.3\n",
        "    print(결과)\n",
        "    \n",
        "결과 = 상한가(1000)\n",
        "print(결과)"
      ]
    },
    {
      "cell_type": "code",
      "execution_count": null,
      "metadata": {
        "id": "w4OQISFS21p8"
      },
      "outputs": [],
      "source": [
        "def 상한가(price) :    \n",
        "    result = price * 1.3\n",
        "    return result    \n",
        "    \n",
        "결과 = 상한가(1000)  "
      ]
    },
    {
      "cell_type": "code",
      "execution_count": null,
      "metadata": {
        "id": "2x_dC5-Y21p8",
        "outputId": "d57d0836-ec0e-441b-9347-1f35fcd12618"
      },
      "outputs": [
        {
          "data": {
            "text/plain": [
              "1690.0"
            ]
          },
          "execution_count": 47,
          "metadata": {},
          "output_type": "execute_result"
        }
      ],
      "source": [
        "상한가(결과)"
      ]
    },
    {
      "cell_type": "code",
      "execution_count": null,
      "metadata": {
        "id": "8KjLqP6B21p9",
        "outputId": "0258a0c2-e32d-4054-da6b-8eef5c42c59d"
      },
      "outputs": [
        {
          "name": "stdout",
          "output_type": "stream",
          "text": [
            "10\n"
          ]
        }
      ],
      "source": [
        "def mylen(x):\n",
        "    return 10\n",
        "\n",
        "\n",
        "결과 = mylen( \"a\" )\n",
        "print(결과)"
      ]
    },
    {
      "cell_type": "markdown",
      "metadata": {
        "id": "1195ZDpQ21p9"
      },
      "source": [
        "## 함수 주의사항"
      ]
    },
    {
      "cell_type": "markdown",
      "metadata": {
        "id": "N6FFo3Yi21p9"
      },
      "source": [
        "함수를 사용할 때는 몇 가지 주의사항이 있습니다. \n",
        "- 함수 외부의 변수를 함수 내부에서 사용하지 않는다. \n",
        "- 함수 내부에 사용된 변수를 함수 외부에서 사용하지 않는다."
      ]
    },
    {
      "cell_type": "markdown",
      "metadata": {
        "id": "Ld1GX-DI21p9"
      },
      "source": [
        "함수 외부에 선언한 변수를 함수 내부에서 사용하지 않아야 합니다. "
      ]
    },
    {
      "cell_type": "code",
      "execution_count": null,
      "metadata": {
        "id": "myAycsLa21p9"
      },
      "outputs": [],
      "source": [
        "# 변수가 어디서 온건지 한참 찾아야하는 bad code\n",
        "def 함수():\n",
        "    print(변수)\n",
        "    \n",
        "변수 = 100\n",
        "함수()"
      ]
    },
    {
      "cell_type": "markdown",
      "metadata": {
        "id": "SHDWoLmi21p9"
      },
      "source": [
        "파라미터를 사용해서 함수 내부로 값을 전달해야 합니다."
      ]
    },
    {
      "cell_type": "code",
      "execution_count": null,
      "metadata": {
        "id": "Tl7wJybg21p9"
      },
      "outputs": [],
      "source": [
        "# 함수 안으로 값을 넣을 땐 입력값 사용하자\n",
        "def 함수(파라미터):    \n",
        "    print(파라미터)\n",
        "\n",
        "변수 = 20\n",
        "함수(변수) "
      ]
    },
    {
      "cell_type": "markdown",
      "metadata": {
        "id": "WBHr_4vA21p-"
      },
      "source": [
        "함수 내부에서 사용한 변수를 함수 외부에서 사용하면 에러가 발생합니다. "
      ]
    },
    {
      "cell_type": "code",
      "execution_count": null,
      "metadata": {
        "id": "S1IlThQG21p-",
        "outputId": "46a6d7e1-8662-4153-ad63-0f6817ea29dd"
      },
      "outputs": [
        {
          "ename": "NameError",
          "evalue": "name '변수' is not defined",
          "output_type": "error",
          "traceback": [
            "\u001b[1;31m---------------------------------------------------------------------------\u001b[0m",
            "\u001b[1;31mNameError\u001b[0m                                 Traceback (most recent call last)",
            "\u001b[1;32m<ipython-input-2-81950b8f53fa>\u001b[0m in \u001b[0;36m<module>\u001b[1;34m\u001b[0m\n\u001b[0;32m      3\u001b[0m \u001b[1;33m\u001b[0m\u001b[0m\n\u001b[0;32m      4\u001b[0m \u001b[0m함수\u001b[0m\u001b[1;33m(\u001b[0m\u001b[1;33m)\u001b[0m\u001b[1;33m\u001b[0m\u001b[1;33m\u001b[0m\u001b[0m\n\u001b[1;32m----> 5\u001b[1;33m \u001b[0mprint\u001b[0m\u001b[1;33m(\u001b[0m\u001b[0m변수\u001b[0m\u001b[1;33m)\u001b[0m\u001b[1;33m\u001b[0m\u001b[1;33m\u001b[0m\u001b[0m\n\u001b[0m",
            "\u001b[1;31mNameError\u001b[0m: name '변수' is not defined"
          ]
        }
      ],
      "source": [
        "def 함수():\n",
        "    변수 = 100\n",
        "    \n",
        "함수()\n",
        "print(변수)"
      ]
    },
    {
      "cell_type": "markdown",
      "metadata": {
        "id": "KrcWZOQp21p-"
      },
      "source": [
        "함수 내부에서 계산된 결과는 `return` 해야 합니다. "
      ]
    },
    {
      "cell_type": "code",
      "execution_count": null,
      "metadata": {
        "id": "lVllVpRM21p-"
      },
      "outputs": [],
      "source": [
        "# def f(입력값) : 입력값이 들어오면 들여쓰기 된 코드를 실행\n",
        "# return = 연산을 멈추고 함수 밖으로 데이터를 줘라\n",
        "# 결과 = 함수()  : return된 값을 변수에 바인딩\n",
        "\n",
        "def 함수():\n",
        "    변수 = 100\n",
        "    return 변수\n",
        "\n",
        "결과 = 함수()\n",
        "print(결과)"
      ]
    },
    {
      "cell_type": "markdown",
      "metadata": {
        "id": "N-FUe_fm21p-"
      },
      "source": [
        "문제 더 풀어보기  \n",
        "- https://wikidocs.net/23906\n",
        "- https://wikidocs.net/23907\n",
        "- https://wikidocs.net/7039"
      ]
    },
    {
      "cell_type": "markdown",
      "source": [
        "## 메모리와 함수\n",
        "![image.png](data:image/png;base64,iVBORw0KGgoAAAANSUhEUgAAAt8AAAGFCAYAAAAl95/IAAAAAXNSR0IArs4c6QAAAARnQU1BAACxjwv8YQUAAAAJcEhZcwAADsMAAA7DAcdvqGQAAFXZSURBVHhe7d0P8CVlfef7Z9Z/AzFhEJUBKZ3JqoxC4ugaIbkkgqHKQd0It3LLsdYSuNFlLN1ajFsXsHLDsLEcvJsIVWtquGsqoDcVoDY3M9lVhxgTx9VEVOKMVwwDEgEXZVSM+CcwCeLc/vzO88x8f8909+n//fQ571dVz/Q5v9/v/OnT55xPf/vbT685nHEAAAAAevcv/P8AAAAAekb4BgAAAAZC+AYAAAAGQvgGAAAABkL4BgAAAAZC+AYAAAAGQvgGAAAABkL4BgAAAAZC+AYAAAAGQvgGAAAABkL4BgAAAAZC+AYAAAAGQvgGAAAABkL4BgAAAAZC+AYAAAAGQvgGAAAABkL4BgAAAAZC+AYAAAAGQvgGAAAABkL4BgAAAAZC+AYAAAAGQvgGAAAABkL4BgAAAAZC+AYAAAAGQvgGAAAABkL4BgAAAAZC+AYAAAAGQvgGAAAABkL4BgAAAAZC+AYAAAAGQvgGAAAABkL4BgAAAAZC+AaACbjtttvceeed52666SZ/DQBgitYczvh5AECiTjnlFHfw4EG3du1a99hjj/lrAQBTQ/gGgAlYs2aNn3OOj20AmC7aTgAAAICBEL4BAACAgRC+AQAAgIEQvgEAAICBEL6BORjiDQAAdIXRToA5GOINKWC0EwBYDFS+J2rv3r0r1di3ve1tK/Poj4K3HDp0aOV/AACApqh8T5SCtw3d69evdzt27HCXXHKJvwZdoeKIFLAeAsBioPI9Ua9+9av93Iyqs5deeqnbv3+/vwYAAACpIXxP1JVXXun27dvnLr/8crdhwwZ/rXPvfOc7j7RJTFVoqVmE5wIAAGARvids8+bN7rrrrnO7du3y18yC68aNG921117rr2lPo3zoNrXbW5Pm+xz545prrll5Htdff33nzwX90agwdj3Jm/TzG264wf8FAADLh57vBaEDL22o0cgc991330oveBMKUrrN+++/31+zWp8jf2zfvn0lgFtXX331yvVjUGgMeLsUU7AuWl9i2ltzxRVXuG3btvlrMA/rIQAsBirfC2Lnzp0rFXCFYtHIHHWrxrZyecEFF5QGqT4P7FTI1nNRZT9QGB8rfC+ieG+GnXR9kz0bl112mZ+bT+uWNu50X1TCAQBLRZVvLI7LL79cJbEjUxbG/U/K3XjjjYfXrVu36m/ttHXr1sOPPfaY/+1h6P62bNmy6nFcffXV/qfDsfc/dXqdN2zYsOo55U1V1xvZs2fPqtvUvO4nptcz22hbdT/z/gZH2eUFAJguPsUX0K5du2p9Ue/cuXPV79tp27Zt/rfGkUIAt/c9VXFArjLt2LHD/3W59evXH/O3ZeG9KITrbwjgxeyyAgBMFz3fC+q44447clKYon7por5u9eGqjSUVeh4XXXTRyuMNsiA5WM+wWjGCqb5dwlk6ra1bt7os7B5pVRKNMKMDXUXXZ0F5Zb6MXT5BlXVIr6vWP9viUvU+a7n30859JFv/H/mGv6Kidc9xbtP5zp3zVuee/kx/5XgWYT0Elo4+fz7zQec2XzSbgAzhe0HZECU6AY+GJ7TyApmCjw1jqcgL4DLEgZiLEHrsc8gL3YGWszbcgirPt+3y0XEJV111lb/UwzL+3XOc+9HD/kJDCuLnvmPUL0/CNzBB4fPnyU9z7re+5K/EsiN8L6g4rMYVRR3kpqqjlVrFO6bn9Bu/8Rvuj//4j/01MzoY87d/+7f9pe4tWvie9xzsXpO8jbZYF8un12W8fZOfaWnkL0/CNzBB9vNn+wE/05GivXoJFAtQjvC9wMqqmLbqrUrozTffvDI/tkceeWSlYv+hD32o8rB1CiV/+Id/2NsILIsQeuo8h7qtJ10sn16XcdMvvwOfcG7v7zt38K7Z5Zdvde514424swjrIZbIoR84d/uHndu/a7nDYZ/hu2yvnooF+rwigCeJ8L3g8r6w46p3H60mRf3kfdHjV9W+jwC+CKGnznOo23rSxfLpdRn3+eU3oEVYD7HAtJG6f/dso7XK8RWpt2F01avd1+fP3g/MpjK0uiSL8L3g8loIhqh6a/zmvoK3DrZUr/fnPve5Y04s1PnBepllC99S5/e7WD69LmPCN9C9pgcyW3o/qjKuEFl2O2NUyrvq1e7j8+eOW2bLPjjztc79+u/N5j/zX5z7xPtn83LhDqrfCeIkOwvOjgYSzhppD7LUgXd9qHPClZjCtR6XAkbepDN3qsKtSrc2KIKwkQFgianyev2vziYFO/SjSvBWaFb4U+gMk6XXaPdV829HP7dhcwihnePH/zT7X7Q+hXVLAXgMely3Hf3ec8//5WwZv9dfyJzzb2cbDMHQyw2VUPlecHktBItWQev7+SzC8qr7HOr8fhfLp9dlTOV7eSiYKBiFwNTFbvdFGCquj+cQV1g1HKeG5jzzNc5teIW/Mod9P9Y15PvXPk5tRORtIKgar6lM158/Ct63f2g2v/5Fzr0l2wiwYVvi1+b835yFciSD8L0E4i/tRfsS7/v5LMLyqvsc6vx+F8un12Vc9uUXdp1L4geALcJ62Csd4PeRa5y786P+ikwXB8kuwlBxKT2HvPCttglVb+MQKV2HV6tsoyTvceYJwbZK+0wXLSD2IMut2f1pgyeP/b0pr7sLiraTPj3wHef+PFvhd31+9r8uJ8ae4ATYvXv3Sr9+HfZgXY3ZPSlh13nYrU2bwjSttJpkIcQGbwWTtsFb4SUEGNt+UNf92XfATW/OX78UAIt+1pUunkMfFLoVCtWvnBe8+6aWF702dVoz9JjV6hGowqygXqV9posWkPBaSlHwFvt7qb3uIHx36vEnnLsre/OFwP3F+5x71K/0+v9LD8zmR2bD0qWXXroStgjhi63KaDY6FuCNb3zjqgNldUDuPPFxBfYg2OS9/A1+JqMvKH2B0is8PQo1qnwHCkdlwaQqVUUD7eJvShVRhTytXzYUSZMAaA0R3vsyVugO6myUaCNBlXc9Zm3YuaN7oiprW/Ueq88cnSN8d+W+b2ehe79zB7LwHQJ37LnDnqJaw/3lVTE1UoilsKVhAScVmry+z265KMJrHp+OX+OqaxlqPdEoOPag1XAmzHl00GsI9/p7rUuTeV20u1i7ja1QBcc0KEDZQKtd+28yobkNW0k/9+1+pgEbMFWltw79cPa/AmCTDb+24X3KhtrwUPuSfQ01/9yX+gtGqOQrpIfJarMnRuu4PdBS91WEkJ48wncXVO3ef/+s8h077STnfu3lzl30imyrd4O/sh8hbKs3VNMFF1yQO9yfhhu0o4RICE3hb+2UamVcJ4IJI7hIlSrtstJrrj5hewbT0GKiZRivJ7t27VoZgrJKxVy/E2/Q6TarBHCtV3kbiIPKC+AKQvPG0EUa7Ouk6nRXffsKtCHU64C7NpV0HYQY3PkxP+Mp2AVN2p/qVG/HpmUaaJm2NdSGR15ofvONqwO5PkP6rORrL0x4jbWe2xFOYnx2JY/w3dS3vn+0vUTV7uD47I33sixMKGxr+oV/6dyThlnMaiEpG1vbVj1DGItDeJ5QGU/J/v373VVXZR+83pYtW3obNnERKfRqfVHlO6ZleeGFF/pL1Wh90hjr+ttAAVzBumiPisJ5vM6OtgGlAK4q1dkX+ysy+gJTLydtKEc1rTTq77QcNXVZldNt2dtrU52O2ZBcVmWsYlP2vAMbQEWhzW4wKGDVDeBT0eUylTE3PBSy7YaTzobbp3gvTFHI1/vB7gkKwpl6kQTCd10hdP/N3ce2l5x8QvZB+nPOPe9Z/ophhIq3Hb/bUuiOq55BCE3zzgzZ16nbm1CVXqEttEicffbZK5XaKlXaZWb3jMTB246rvmfPHn9tPVr+eh1sAA8bbvHeFE12r4VUbXOpzX5JzfsCUhCyB1MJbShHNa006ve1HMOy1P9tKdB/9D/6C5n1p3fT5x3Y9hAbnptY+zN+JofWT7XK2L0vIYAXUTDXhkw8IkfKG4sKhPZxtV2mKYhfs77EgbpsPbdVb/vZ1/fGAWohfNf1xa/l93SrveSsFwxW5bYUbuLqYQhSRaHbUmgqO6mNpnm3MSSFNlW+JTx2gnc5Be2iPSPaOOtq4yoE8Dq3p7CuDcCqbS612S+qeV9A+rLSwVRx64K+WNmVezQA1A0a9sBWiau/TWhD4PBP/IXMwbu7uV2Jw84QVcO4/amofUbroZ570QZMihuLOhhW/cphvVHbxGkvmc1PWVH1uWv2s2feHgO73l7yYT+T0cakxv9GEgjfVYWK96HH/RXexmcP3l4Ss2eT7K16mAi1Ktjh7NRrvGlTxfFYl5TaPvL2jGhdUejtesMqbBBV2aOix9D7Xotz3uJnMvHBbnlCJTKvDYUA3oyCpT0ZSRched2pfsZQKG1bgVR4sQe2icLsEK99aH/SpD5jPRctK4WmP3nXrKpd5XF01ffehZWWo2wDuMnBqzZIDs0G67FDq10OZb3eMW3g2HVBwyKOuUxxBOF7nqI2E1W6BziIsorQv62pt+phAhS8bauCKqZ67sgX2ky0Z8S2mGi5DbGuhBAe1s28aZD1tc0QcXEbioKPgtiyfoHZQFK3vcGe9bBt+NbyV6U7eOpPzf5X1TcOznXZA9usITa+9Pi1TLUR8YHXOPeeLDypx16hSeE1r9odb4SE4J4CvU63ZBtdTYeB7Gqoxyri9blpP7eeq9aTvLagJuwxDVJWbY9/V7Qu2L0MVQoQ6B3hu4yC9xfuPbbNRMFbB1ViMPHIJgqQqpiiWNyOFCiU5/Vgh0mB/Z3vfGfhMQSTZL+w6rQQ6O/UhmIDuL7g9MW6jLtw80bmqMoGgLwQWYfCjW1heM1vzeZFr0+bkGwrtP/bdcdufHUVwPOq2poUvBUCH/6a/8UCGi1Ee2gu/yt/RYLs66TTz9cZBlIh0YbhLg+mFbtBIPH6XKWfOw67CtvXZhuZet5t1/HArm/zWk7yflefYfZ9G4+2g1EQvoto2ED1d8fDB6rNZMQWk2WUN7IJB1jOZ9uR6lBg18aOxv22gXzSJ2Kq0/cdCwHc3oa+jHU7y1YBVyCJR+aoqqxiV4cCjw09CmV6TKte4+z1skGkDvuannHBsRtfbW47UEW7SlU7pscRxpG+/C/L20sUXMc8+Y6WkX2dVIGt2g6j10AbJDYgV62Wz6PloY0cheSYfXzz1lc9xrZ7Waqw62NZy4meV9Hv6uDW8Hy0wcfIJ6MjQeYJJ8yx/d2htzuBNpNlwsgmzYV2pCq91/OEUUsmq27fdywEcE3hS0zBc9kq4Hruql7aYFJ3T0LQJADEgce2MGiM5bYhOa5kSnjt49tu89oXbbTovnQ/8UaO6Hq7/hUJwzqqgq6gNcbBl1qOdtnb12kehcg/eMPqZWQrt23oMRUdrJrXrlO0rPMeoxX2Sug2u1T0eMLzsuzvarSdVesvI5+MjfAdU/COT5ijIQQJ3aNgZJP2wnKL+62LJm3cbN682f/1USkNN1lbV/2iChA2COjLV5XLuiFv6lZVmc0Xue131RRXXYv+rqr4RCMKo4HCRl5IrvraxMHe7uLPu20FOL32baqIasXR+qTQ95ZbZ1VttWXoucXtAc8/pzh8WaoY23BZNfR2ReFfyyUIGw1VKLTH4finnjG7zXhdErs8yjaEtF7qtS1bF7S+qm0kTLp8+rmzn9n3fN5j1PNT0A7TvL0STdnHZ6f4eeVtrNi2HUY+Gd2a7Mv2sJ+H7Nl3tOKtE+ZsOnXwcbsxEx9gqRMCjXGApdouAt4uE6YvqaBtRUpfXgqPNnhpNA87okfHkloP9bxvMOHijFc79407j60oKhwpUAbx3/2Hz8x6gatQOFYgCuFbgScvWOrnOshPgS1QGNFrU3ZfqhCHyrfC71uy+Tjs6rb1ezYI6kDSX8/C5rznUWf90/OMl2Wgquo5b10dsNTCEpaLpQ0ItR/o50HbdX+e+LHr9a+y0SBlzztel0SB+vYPzeb1c9vaotdIoTTv9sIGgV0ueXSb+j295kWPS7dV1sfe9nOn6LXNE55X0fLWRkNYd/OWJwZD5TvIG0pwhBPmYIaRTdC5oi+kJhT6FM5sJVRf9AoDVb8oUxZaF0JlLZ5sgJav/Hl+OImrfwq1dpnVaQGKq95FFd0QmOz9KFTr+RRV+/TzELyl6AyCuk7tBNtM+FZrR9lt16XHURT0RD9TGLTVzrxKp67r83TnReyY7noMVe9foTA+CNLKqySrPSfcvtYNhcuwjsbV6WBeQLV0n2XBO+yp6FPVA021oTXvedm2Gi0v2yOOQVH5DmzFWzSiiQ6sxODygveYfd5UvheEwpF2hysQxL2dTekLLK6yPvNnZwGt45OIDLoellUg51FlVlXmot3uClkKRqKqsT0RSJnfPedoWFDImNdOoddGLRg24CuY2OpoYG9b4axKoLKVctFtl1USFQiDsgpo/Fj0XONqe6DwqbHB9VzLqttV73tICtq3Z6+9nte8da3sPRve1/PkrZd2uWh9yttYKbr9qp8jtnKtjTZtOI7JPh49V4V7rUMYFOFb7sre+AfMmz8MJciIJoPTCWHsgX0pjGxC+EapvJAnIRh1ZND1sGqgsUKLQ1nlTRS67EgTVcKgqssauUMUotRTW5VeF70+NnDEIdmGMP1s3nMI4tsue82rBOD4eb7jY6sfi+7HbuzZ51J2+ymF7xC6NRVVuquuS0HR+jrvdoZYLlo/wvCVCvjamBqTbdUJOv6swnyE73CAZUDFezQaf/qNb3zjkRPCpDKkIOEblaiCpy82Gyg67ANPcj1UCCzbLS/zKo5VQo+tMiskKCzUEYcze596Dn/0Vn8hUzeExX3HRdXvKs+5yvNUAM+rctuKZhymxgrfVdYPq27obmuI5RIf5zDk8i+ijUZ7zErZeoteUNq1FW+NasLJc0YTn4mRIQUxKQqXqlTaMzmqLzceiWCRVAlW+rl+z7Lh6gt/XNxfruu1UWP3KmjM4rpskFW7gBU/trp0u+H5hPDbVJXnWRRM7fNSsGr7WLowb/3QhlkYkk9TaPtQaA/rRFgH+tbXfYzdZpInHLNi11ttoGIwyx2+1W5i+7zPegGtJiOyJ4XZtm0bwRvToxEv1C9sD/ZT+FaPs1oKFo3d0CgTB0Hbr/3x/6s4oIXgbg8Ma9pLrwCugBf36cYHCNalABMOiiv7+6LQbLV5ntoIUOVYznxNtfvrm122Vgjddkg+7THSe0VhW3siwjqRt/HWhyHuIyVaP1LcYFsSy9t2ktfnTbsJctB2gtr0JRYfiCkK55v/11lYqxmOklwP7cGBCn6qXFqqXAZ2d3u8K77M817u3AN3+AuZLnfb6/XRKCoKgLYtpq7Qx5x38GBou/nRd2atLwo8eQfqaTlqeQZlz7NouYpuJx72sOz3U6BWGy2boh7womXWlm3Vkb6WTarLX89997tnPela/7VBhEEsZ/iOg7faTah6owDhG43oiy3vQExpMCJKkuuhDRXxgYrzeqmrBpJ5Ab+KsnAsetxNe17nBUfR7Ss8lgV82zuuVgU7nGGsbphLLfxp3fgfO507/hmzDbG810T6Ct1BfPBhX8sm1fAd5G2woVfLF77jAywJ3piD8I1WFC72756F8DhkxAfGlUg+fMehwoZmiX9eNZDY34sDfjAvXFdRJRSVvZbzzAv4dnmVDaWosG9bJKo87pTCn16r95/r3D8/6q8w8g7O7ZM2kPMOXq2izl4TW2Efe/kjCcuVONXf/eWv+wsZgjeAvqmKueWqWX+rqt1rf8b/IKOK6aIckKmAZycbvMt6oeuIg7eC3EqfcBZU9X/T4F32+BSywsF/apVRpTTvfuKDBzWFgzzFtjfkscurKHhr48KO2hJ6vKdCGy2/9yv5wVvPRQcs2yB75PX1y19Tlwdgan3K25irIhzHUaVXvMoxAVgqy1X5VsVblW854XjnXvligjfmovKNTilk/UkWyuwBmBWGJExyPYx7ZvMUtYooSAVl1cC8qmGodJeNFZ1nw1nOXRKNcTyPwt68UK/nWDREXtXnOe/3FELjDbWiPQGxqo+hb//pl5z7x3/wFzJPyb6HX/t/Hls5Vrgu25jSc27aJhQLw1DWbXFJZZlikpYnfMftJqp4n3qivwAUI3yjcwqT8QGZYfd1wQgiSa6H807GUxZKbagua7/5s3c7t+9P/YUSRS0LbUOSfY7qi1VVWqOJVB3ppU34DhsZee00dcJiKkHxP57h3E+emM2fcKpz/27P0XVjXuC26gblPhC+0cJyhG+1m3w820p+4iezy2o3+aXTZ/PAHIRv9CIvgEvBiCgLtx5WPTnNvMrzvD7hsUNSk/BdJpxyPm+DpkgqQfG9LzvacmL72vOq+sHQfeBVEb7RwnL0XGhkkxC81W6iqjcAjEnhKe/AOrWlqNqq/uIHO9q1nqL45DThbHuxOmNFp6ZOb3KVMK09CXWDt9T9/T7oQFHb633oh0d7ufOCt56rNshSfn2Bhha/8h0PK0i7CWqi8o3eVRgRZSHXQw3FqDGGRRshCpZdG6NCWdRCUXb/RS08dSu/2pOigwDDfevvddCv1q0x2zXsaC7PfqFz375nNm81qeqPhco3Wljs8J03rCDtJqiJ8I1BKbipJcMeSJiFrzXn/Tt/YYLrYdUh+lTJ7rrK2VdIKuvHztNn8LXD3pX1TY/ZwmFfhzxlxwekiPCNFhY3fOf1eTOsIBogfGNwOSOiXPpnB91N+7+/Mp/0elg3lFoKXl2NYhF0GZLiqnIVQ4TKUFXWfehYgbKDYPtYxlXkhe8pVbpjhG+0sLhJNK/Pm+ANYAp00OWbPjgLJ97O157sNj3zqf5SorSx0GbMbfV+q/0iVRrbuerzCj3LGmaxz3CpZR3aObT8NGqMwqAm3X9c5Q4jzIxtysEbaGkxK98MK4gOUfnGaFRF1oGXPvAdePif3Uv/7/vdY4/7wkJqdr7euW/d7S8Y84boqzrySRNdVCiLKt5jj8QRn+1Sgb/o9PtjV2rt/Wtd6HKjJO6xH+J1ofKNFhYzfO/ZN2s7Efq80RLhG6PSiCc3vflIxfK2e//RbXnP/1t9nOkh7XiZc/+kES2y94xaLaqGHz23a7PnE6qyNU67P1cXISk+VX5ZyB2SfVzzKskphe+m91+npanrjbgY4RstLF74fjh7c37avxGOz9585/8c7SZohfCN0akqrOqwpWryOW917uyL/RUJaBNI+qp+dxGS7G2kdGCgfVxaXmWPaeywaO9/CH2P7DL28sSkLV4qfdCcuva0kwjeAKYvC9g33PGIv+Cp4qnAqt3ti0DV7iCVvuQ8XbRLqI1FY1xrUhW3C2WPKYV1pO+NldBjryCsacghFbt8HbEUFqvy/f1HnfvU3x090PKVL3buGU+fzQMNUflGCrQebl7/NHfxS05wl285c/Vud/W3ahpb22pgH9XEtrepjRy1dwRdPC7bLqJQ2rTKX+W51ekL71PROOZ1jd1nH7znJd1tJKbynDCYxQnfCtwK3grgotCt8A20RPhGClath48fOvbU9CkE8EUM37YdRier2dawwll00Gab9oh5z03jqu9+96xXWhhhpDtdbUwEbTbCMDmL05Nxz0NHg7daTV62cTYPAItGX9QKUWYowpXWgkVpQUlJOAOnaAztOhR69ZqoLeGP3nps8FYVuq/2CFXWdQbRELyF4N2dMKSjbZdqg6r3UlmMynd8Qp0zTnPuhafO5oGWqHwjBbnroXZ7p1QB/52fyz6H/UhTVdjd7XoOCqhBKpXvJn8fRuXQZMOv1cWBm/axzTPmqeUBrLIYle/4hDoEbwDLIJUKeDiAsE7wFlWCdeIahUgbvKfqSKXbn2goL3grBCvEd3HgZtW/1zpC8AaSMf3K913Zh7fCd8AJddAxKt9IQel6OHYFXMF73rjLdXRZpbUHxrWtfDfR58F0VfqOtWGms6UCSMa0w3d8JktOqIMeEL6Rgrnr4ZgB3IbAqu0URcGx6/aIcD9Nb7fpqBaMYAGgwHTDd9znreCtqjfjeqNjhG+koNJ6mBfAFToVAnVSHtRXd1QLQjeAOaYbvr/89ewL5uBsXn3eGlaQ4I0eEL6RgsrrYV4AVxVaZ8LUaB1t+4wBAK1MM62q6q2Wk2DTcwjeACAK1zrAbtP5/oqMArkquDdc5NyDjCUMAGOaZuU7rnq/6szZPNADKt9IQaP18P7Pz0bd0P+WxibWOMUAgMFNr1ycV/UGABxrwyucu+TDzl24w7m1P+OvzKiHOQ7kAIBBTC98f/Wh1WN6M6wgAJTTwX/v+Jhzp73EX5HR+NpNRvEAALQyrfD9aPZFQdUbAOrTaCdbf/9oBVzjct+2YzYPABjMtML3F/7+aNX7GU+n6g0AdSiAb7nKX8jcccvwZ8MEgCU3nQMu7/mmc195cDavkU3OO8O5nz5udhnoEQdcIgWdrocaivDAJ/yFjIYh1EGYDEM4nIN3Obd/9+x10F4IxgfHsgoHhq9/0dH3Qx69R8556+zcBRM3nfC9Z9/sYEs54zTnXnjqbB7oGeEbKeh0PcwbC/yZPzs7MNP2haN72tvwmQ/mBwxt/PwWQ0FiyfzuOc796GF/oYIFGK1pGm0nD//gaPA+PvtwIngDQHN5Y4E//DXn/uANs/HAUUwbLDe92bn9u/wVFR3KvsfUY/+R7cWVPQ6AnZam60JftI6pgnz9r86mvh5Xl89bVe86wVv2/r6fma5pVL7333/0QEsFb1W+gYFQ+UYKelsP9QWqUKgv7kDDE2qYQhwrVOmqVqlDe4mWs13G6r/Xxs+Zr5kFmWD7AT+D5NVdF/qi9er27D2rya5jfT2uLp+3Nka1N0i0901FALWVvC673tKG6XvMXrmJv0/SD9+qeH88e3HDgZY6jbwOtgQGQvhGCnpdD/VFesvbj579Ur2VGppQX65YbfsmP5MpCgAhDClw51W5n//Lsz0PYflWuU2kZ4jXTVXmv/hd5374bece/Z6/sqK8ENsFheCwl2Zbto6rV7sp23LyllvL294W6H2SfttJPK43wRsAupU3DOHud9MGUZeCknb3X/uK2e7/OHhro0Z99W/6IBs2TalNIaVWj75pPP5v3V09eId1TOG0j+Attl2tbQtICN6yRMebpB2+OZslAAwjHobwzo86d8NFR6vhmK+sn1thm9FM2tNGjQK4QqkNbotIz6/qcwyh+/K/7H8dO+ctfiaj0UnUWoVa0g7fnM0SAIajL237xb3sB2HWPbDs5dmyKqK9CAqMaMfuMbDDZS4ijYoTqLVD1eyiaYjQHeixdFn9riL0hS+IdMM3VW8AGJ6qZ5pCC4p84v2zauMiUtVOB5yqXUQ9pXb6o7fOnrcq2lVo+DMFIVW489jAgmZ0gGpw58f8zILS3qfg3Lf7mUTYx9N0I6hOoLYnAzvztX5mutIN31S9AWAcqqDpgEs74omqtlPuAQ/92HHAVmvN7R8qbhcRPe8wfFsZHWipIG+Dgtp5dOCbRpDRQZaxBavodULLMQyZp9dI/4e9D5vMa7CoG4SBbTlJbcOtzUGWQZ1AbZfFhe/1M9OV7mgn9qQ6Z72A8I3RMNoJUjDKeqgvvBsuPPrF19foCV1T0C7rv+6KqtyB7vNP3jULjkE8qkkeO9qDAsiv/95s3lL4V+/9g/udO3j37P86z20KZwacN0KMlmEY1k6BPLCvQVV6rdTSEbdZ1dX2cczT9+1b9j2j9UXrrtrOypZR28dn/16vbfw+KVon+l4WA0g3fO8yW7QXMd4sxkP4RgpGWw+1S1lnwwzaDi02BFVKq4ZTO952PLa5qtJlLSchBCg86z7tnoEqwVt/p/AdhABig5Aud7XHIdUzA2o5q7XJbrjE7IZf29DX1TjVqYZvhVVVlcP68/P/2rlfe4//YYGi94z+Xv3kep/EugzfVRVtoE4M4RuYg/CNFIy6Hip8h77OKqFybDpAVGEuT53qva1Kh+edd6IPtZrc/qHZvELK+e+qVlG1f6cNGm3YSJ2Nhzrahs0uKBh+9qb541ar+lo0OkyXoa9NaO7qdoo0CadF5j2+sveM1hu9b7T3xIbwts/fjhdehYK3Wk5S/uypiPANzEH4RgpGXQ91UKJ6owOdiU4HZS7yuLyqHNqe1FCVzgscNqQroFftzy36u7wgpGWtgL4+u3/9X3XZK9yMfWbAqm1AZYHbahv6ugrNXd1OkbrhtMjxJzr3f3zWX6gg3ttl2deo7fMvC/xB1XViYtI84PL7j/qZzFOe5GcAAKNQ2LP9wmEIwlC1XTRx8FbFrazaFgK01DkwrujvwqgpdtLZ/1Sx1+tQZ6MnhSphleCtZayDfBcsZLXSZoSTNSY7/drv+JmK7EhHMb2OZa1YdcTruTZwtYcp0Lo75BCKA0ozfH/H9H09q2QlAAAMQ8EvHoJQbRM2QC4C9R/b4K0w0MfoCvY++mYD+BgnRCka/1wbEiF4qY83hQ2FlORthFWZtHF2+InZbWi+zgahhJFlRI9Be2XscR6hGm9fr3mfA7rNeWPm6/Z0X0FXxzokKM3w/d0f+pnMST/tZwAAo1IFStVJ+0W8aCc6iYO3wkDXoTCvst4nG76GOCFKLIRIS5enMHLO1KiNI5yVVuutNpjr0ManDcga2lHrTzgewbIHKIfPAf2tjllQS4qdNFRpGDO/LFS3fa+VDVOZkPTCt4YX/Nb3/YUMlW8ASIcOuDr7zf5CZpFOdKLeZFvB6yN4D1VZt+LTgS/rGUu7ZteNFPYAad2yr63aVnR8Rh3xulnW4mRPePSFm2dBVyG7rMVIQb7r95QcOVlWdvt6DuExdNkm06H0wnd8ch1NAIB0qBoWvkBVzbJf2FMWn/6965CggKaAEPRVWY9pT4Xtmx2j+r2I8iq/Y7LvwyevnVXB4wr0vGpwvPFZxn4OfOvuan39XW1o6r70HPSe1fMJJ8vKG64ywZ7x9ML3g9/1MxlOKQ8A6VHf96owl31JT72aGle97QGmXdFyCrvcFYiHCN6BbfFY4F7aQnp9QytCcPw6P9NQCqe61zqrEPrh/331+vvjQ34mR1E12J4xVKOMzFs39TmgDciYQrYOnrR96Jq66OvX54xex1Bl13OPQ78eu9ptwv0m2N6UVvh+ONtiCWe1PD57gTirJQCkaUv2xWe/eKdcTVUw09kpraZf2HkVRVXjVPFWW0CgloChgrcMeV8pyhtx5dFHZtfb0FrHWKe6Dy0WH8jCv4arVAj92t/4H1aUVw22GxDxcQhFyygekaWrkB0LIyypmp9XYVc7nDaYL/nwJEZISWuc7/33O3fft2fzLzzVuTNOm80DI2Kcb6QgyfVQFdSxx5Dugh1vW/QlXhS+beU0PN+64zFro+VNH/QXBpT32IfU1f3HtxOfhjxvbOiyMaUVFBUidWBoXV0v06pjopd56k8595rfqh9A7ftAQ1vafm89prDxqL029gDMrpeBvT0F6Tuyx3L7h1a/x/Saqe1nwy9k01n1ht9MQFqV74fM2a5Oabk7CADQL30B2grXlHq/bRtC1eBdpM54zKHPu2t6PlWGcgvGGHKwD3r9rs1CmNa9EFj1f9xWoWB99sX+QuZpZiQ1hToF8xTW37rBW6+p1qnzf3MWmBV+3/23zSq/9n1gw6yWS7zXZih6j2rDKQRvPV89V7W1aANWr+vEgrekVfnmrJZIEJVvpCDZ9VC7v1WVClRx1JQ6fannhZx5lbu8Kl9oW8k72KuNOmf3C1VLhZOiU8jrMd750dm8Rp3oYyOgjF12dcTLocrt5G1ExWcUFbVL2Q0R3ZdOo1615z9vfWijrEIfqMVCr596zu1Bn23lPRcFb7tRkrfXpqtloPejqtxFx48oZKuXu+4ILgkifANzEL6RgmTXQ1WkdCpqBdBAu6TtWOApygs5/+JJzr3q35e3H+QFjaIg34WyMG1VCUAKmRoVIugiLNbR5nTpdjnY5xpU2VDJW0Z5669U3YjsKnimwD6XKzWKUbZhYjesw14bvRaW/TuF47pV95UhErNAX/Qe0v1uvvDYPvQJS2+0EwDAdOiLWF/ItgI3hYMvf/zPfsb4yRPNHnvRGRy70KR9oMjYG0Rt2hWKloMCr6Z5B9kV7ZUI62/8t6r2aqOqrI1nkamVp0rwjsXtPkVs21dRq40+U/S6qtK+QMFbqHwDc1D5RgqSXw/jqup/+Mxs93iK4l3pz/1Xzn3zzqNV2bKqZ1+VTlX/bHCpe9tVH1dfj39IdZ+Dlq32ctgAnvd3eVVwhU21rxSG/0SWZ3zQaRXx3oKiPRPzgrddBlJlORTtLeqrpSYx6VS+wygnAIDpUVVVX9JBqqedVxCLe1jf/Iere3zjcD4Ee391q3z2QDmsFjZqbPC266mVVwVXGA0nchmrCm6rxEVTfNBpFfpdu8EX75lQOFcbiSrPZRXvedXwPPHeIq3zqnJro10bO/OCt16LsEz0v17nCUknfB8wK8xpJ/kZAMBkpHDSkXni4B0qehpBwYYy/V7RgV99sAG67lkA1S8bpN5rPzT7etswWUTrgn5H64MVB9UhFbVldMFWunWsg6rWYao6XnbVg1Ot+L40NrheH21ozBu1R0FbG0RhmYTXZsj3a0vphO9wch152UY/AwCYjPi086kNZ6cvdBty7a50/a/LqwL4SL3r4TFVFUYwkXl91XVve+rs6/2ObIOwSpgUhcM4gFf9265VPaYgbFzYUFs0dSleTm0oVOuzo2hDR6+nRljKM4VjTbw0D7h8EseBAsDkxKebTunLMFTLrDiIhgAerldVMPVqmsKIDZjqly0TwnmTauXU1d3wiKuzdcd/70r8OIqmqpXqrmm51l22RcK6HCrytr1Ek4aLDD/TXh6NyjKl96tHygUAdMdWXtX3nUr127YfSFH41Bf5qv7vbAPC7ppPTd2WkxDkxgqSQ5pYH/AgQpjtWh8bdXrP2vaSmO5TG/zx+3UC0gjftuUEADBdCoC2+prKl+GhH/qZjMaLLguf2o0eDnpUH3tXVb0+1Gk5WRRVXw+7YbJgQ9XVooNNFWQVuuMw29Vy6WOjLt5gtrSHLXzO2LaXlDeUjTTC91cf8jOZE473MwCASYqr3ymwlbl54U0/1wFgGnlBPbQpq9NysiiqVllDC4aWS92DWKcsbtUoGglFwXsKy0VBWxvMtsXGHjSr96t9T0+g9SSN8P3gd/1MZtNz/AwAYJJSHHGjSWUu1XHKg/isjMui6mupMay1AWX7+BeZWrxU2S5r1RCFboVZbWCmvly04VTl9ZtY60l6bSennuhnAACTZb8sbXUW3YkPIMWxUt+AastWuXWSK13OY0dCmULoljobThNrPUnjDJec2RIJ4wyXSMHk1sM/euvRyqwqlF0eiDUmhZxAQaYrdW83nDymCwpm9kyHqK6v9WEehey8VpJArRpTrPi3WZ5jvRYNMNoJAKB7UzjhThM2zIw5kotOJd4VBbixTiCDekKlO6+1RFV+beRekq0b885KiVERvgEA3dMJdwKdNGNRpDKSy7zTb9dF1Ttt4RTzeaE79HBXPTU7RkfbCTAHbSdIwSTXwwntBq5M1W711gZdPa9FXFbLYKjXTSeXiY+dCKOVLFKFm7YTAACwSoojuWDx2eA9b7SSeKhBTbpcdDBmSpakVYbwDQAA0MQYYVEnVnrPS1aHazvltaZMpa+/6hjuEm9kTAjhGwCAsXFw3DTVCYttdLF+TKGvX3uWNPqORvOxGxR5U9F45tozkDjCNwAAdfQRlIcKcehWH6dVzxPWj6pCa4oeW5j6foxdUHU+L1BXFfrgE8cBl8AcHHCJFHDAZUJ0+upPvH8WlKcQaICpCO+tqiZ60CnhG5iD8I0UEL4BYDHQdgIAAAAMhPANAAAADITwDQAAAAyE8A0AAAAMhPANAAAADITwDQAAAAyE8A0AAAAMhPANAAAADITwDQAAAAyE8A0AAAAMhPANAOjejx72MwAAi/ANAOjeZz7oZzLrX+RnAACEbwBA9+78qJ/JnPt2PwMAIHwDALpn2042ne9nAACEbwBAt+64xc8AAGJphO8nmYdxzzf9DABgkvZ+wM9kznytnwEASBrhe+Oz/UzmAOEbACbNtpxc+F4/AwCQNML3i0/zM5knfuJnAACT9+Sn+RkAgKTXdgIAmC7G9waAUqReAEB3GN8bAEoRvgEA3WF8bwAoRfgGAHRDLSeM7w0ApQjfAIBu0HICAHOlE77tQZfff9TPAONbu3atnwNQipYTAJgrnfB9yol+JnPgG34GGNfBgwfdoUOHVubXrVu38j+AHDqrJS0nADBXOuH7haf4mcw3v0f1G0m4/fbb/Zxzmzdv9nMAVlHovm2Hv5DhrJYAUCid8H3C8c6dSvUbadm/f7+fI3wDhdTr/eN/ms2r15uzWgJAoXTCt2x6jp/JqPoNjOxLX/qSn3PurLPO8nMAVol7vTmrJQAUSit8q/oNJGTv3r1+jso3kGvvB+j1BoAa0grfYkc9OfS4nwHG8cgjj/i5LFNs2uTnAKzQQZYK3wG93gAwV3rh+5k/7WcyD9F6AgBJig+yfP4v0+sNABWkF76f8ww/k/nGP/gZAEBS4oMst36AXm8AqCC98H2qCd/f+YGfAQAkQ1VvtZwEHGQJAJWlF76f8iQ/A4yPs1sCOeKqNwdZAkBl6YVv4VTzSIAOtuTslkAkr+oNAKgszfDNqeaRgAMHDvg5RjoBjqDqDQCtpBm+OdU8EsDZLYEIVW8AaC3N8M2p5pGAu+++2885d/rpp/s5YIlR9QaA1tIM38Kp5jEy2k4Ag6o3AHQi3fDNqeYxMtpOAIOqNwB0It3wLYx6gpFopJODBw+uzGukk/Xr16/MA0uJqjcAdCbt8M2oJxgJLSeAsfcDVL0BoCNph+941JN7vukvAP2i5QTwFLypegNAZ9IO3+r7ft6z/IXMAcI3hsFIJ0BGoVvhO3j+L1P1BoCW0g7f8pLnHe39fuIn9H5jELSdYOmpz/u2Hf5CRsF7qwniAIBG0g/fCt629/v2rzr3wHf8BaAft99+u5+j7QRLKh7dRMH7yU+bXQYANJZ++Bbb+/1o9mXwpQf8BaAfGu0kYKQTLJ280U0I3gDQiWmEb/V+b3y2v5BR+wkAoB+MbgIAvZlG+JbNG1aP+30XQw8CQOcY3QQAejWd8C22+q1xvxl6EAC6o+DN6CYA0Ktphe8Xn+bcySf4CxmGHkRP1q5d6+eAJZE3rCCjmwBA56YVvtV2ctYLGHoQvdLBlocOHVqZ16nlgYVXNKwgB1kCQOemFb4lHnqQ086jY4zxjaXDsIIAMJjphW+JTzvPwZfoEKeWx1JhWEEAGNQ0w/cxp53PwjftJ+gIp5bH0jj0g1m7CcMKAsBgphm+Raedf9bP+AsZ2k/QEdpOsBTu/bRz12dB+86P+isyDCsITMrevXvdeeed52666SZ/DaZgzeGMn58eVbv/6k5/IXPRK/wM0NyJJ5545AyXDz30EGe4RBLWrFnj55xr/bGtVpPrf/VoxVt0kOWbPugvAJgCBW8FcNm3bx+tkhMx3cq3qP3EOvS4nwGa49TyWHj2DJZPf6ZzF+4geAMTZL+jrrnmGj+H1E07fIs96+XHv8SJdwCgTHwGy9dtd27zRf4CgCm54oor/Jxzu3fvdtu3Z+9nJG/64due9VLjfnPiHQDIxxksgUpuu+22SfRSq83kkksu8Zdm1e9rr73WX0Kqpt3zHWi4wTv+fha+ZdNznHtRNgENdNpbC3Sk9XqZF7wZzxuJUvh93/ve5y6++OJV4XIop5xyijt48ODK2Y4fe+wxf22adFK4iy66aGWZBffdd5/bsGGDv4TULEb4li9/3bl7D/oLGQI4GiJ8I0Wt1kuCNyZm7PA7te8BBfBf/MVfPHKeihtvvHGUjRZUM/22k+DFpzl38gn+QoaxvwGA4D0AtSYw3Fu3FLxFoRLzaSPl9a9/vb/k3Kc+9Sk/hxQtTvjWgZdnvYCxvwFAwgl0Rg7eTXpnp9JvKzfccIO79NJLV4Z7e9vb3kZYXHJadzdu3LhSOdf/Q67D5557rp/L3vZ++EGkaXHaToJ47O8zTnPuhaf6C8B8dnfjnj17Vr5Q77//fn8NuqJ+xC1btrg3vOENq740kK/WbnCdQOdP3jUL4MFIFe8m7QNT6bfVY1TACoF769at7uabb16Zn6dOT3P4Xb1Xtm3b5q9dbGO3fTS9/7DuBkOuw1oPdZ6KsD5effXVjH6SKoXvhfO3Xzt8+E8/N5v+7Av+SqAavS3ClAXEVZeZhpu07LOgcfiTn/ykf2WWm102pX74ncOHf+fnDx+++vSj0//zlsOHHz/kf2FYlR+30eRvxnD55ZcfeZybN28+nIUs/5P51q9fv/J3WTjz1xSzn0N6Tzz00EP+J/Pt2bPncLZxe3jnzp3+mmkIz1dTET23sGxOPvnkwyeddNKRv9H1bZ6zXpdwW1WXdxZ2j/xNmPR6Dcmuk5r0mJCexQzfP35iFrpDAP/O9/0PgPnsB9eOHTtWXWZanqntl3fX7GMr9Fj2Wfdff/No6P5P/8vhw/v+1P9wHJUed6TJ34whBGhNu3bt8tdWU+c5xoFKwVCfTVVooyD8zX333eevbe7GG29ctTEwxKT7jCl4r1u3Lvf386a67+ctW7Yc+dsqfxcH761bt/qfDEsbgPaxayKAp2cxw7d8/t6j4fu2/bNADlRgKx7oz759+1ZCxdBf5KlNev554SJm/ybXF24+fHjHLxwN3pru+gv/w/HMfdw5mvxNTHtMVPGtsmyb0O2Hx6jXsK46z1GB6sILL1z1N/qcqvLctAzC37RdFgqh9jEMNem5xuyGT1eTfS/q/3C9lmGZOHgr/NbZC9K1vADOHsS0LG66eOyfDx/+73ccDeD72m/xY/HpQyt8WOV94GM4yxrOi8K4/Z1jKHjb0K1JrSYJKH3cBZr8jaU2gb43otVOEG7/yiuv9NdWF/62zuNTdd0+ryqfUTYYXnLJJf7aZvoIvFWmvNYN+/O8sNl0Csv0e9/73qrri8QbJGMH70CPwW546XMlhceFmX4+lVJx/7ePhu8QwBXKgQIKfOHDSrtrsZz0JaWgEtaFoae8UGV/vkrc433dq7IVedxWE8uGxaqtEoXPtSIbjPt4H8fh/rOf/az/SXXhbzXVYVvhqvQTt63QW+F2NBUFubL3TtGGZR77d3nin5fdr16rqu9nu0zt9UXsBkmb4G3718sm/c51113n/6qc1lPbmlNlfcEwmn2yTcnt96wO4OoFv/sb/ofAaqoshQ8q7eYF+lR0TMG8St8RcY/3zmydHfjAyqqhoelUV1yJrNuLXUV8oGUT9jH2sQxD0FUYtBsKKjA0ZW+/irz1O2/DMo/9mzxlP8+736obfpb9+zzxutY0eOt1qtO/rqnq87HtM5q66PtHe/U/2aZGvd55ARzIYT+0m+xKBvpiv0BXFPR4K8j12esc6zN4a6ozsofElciuxVXvpuE+/L2mvpZhCLq2X7yoqFBlvbG3XVVeRbqKeb8/7+diN5Kqhn6r7D7i9aDpAZZN++h131XD/tlnn33k74b6XEC5xTnJTpFw8h1NwRM/8TPAag888ICfc+55z3uenwPSsXn905zbfZVzH9l+7Djem85fdcIXnQCmb5dddpmf68fu3bv9XDV2jOUsGPu57mi87TCO8ubNm10WZlfm2+hrGWahd+X/q6++euV/KVqedr3pUhYSV051PoYdO3b4ue7PlBmvB02f4zXXXOPnZrZt26aknztZuu9HHnnEXyr36le/2s9x5stULH74Dk49cRbEg7s4+yWOdeDAAT+X5ZhNm/wcML5zNxzv7vv3P+v2XbbBuf0mVK57jnMXZiHjTR9cuRi+kPXlrCDV90k2rrzyytyg0GayQebWW2/1c+V0Ihqd4CQ46aSTVoJflxTs7QaNDbVt9LEMNe3cuXPl9hUO57HrzaKcVKzt62//fv/+/X5u5pZbbvFzs/WgyX1pnbUbi4899tiR16yKqhum53Lmy+QsT/iWjc/2Mxmdep4AjgjhG0n60cNuz785zW1Y9xR/hadq9zs+lqWri/wVxwZCVdb6DuBds9XkqmFBGxo2yHz3u989Us1tK5wyXOE+VDvPOOOMTqreqTj77LP9HAEtsK9vXKG261rT9UDrp1U3wFfdMNVrG25bG1ZDnvIe+ZYrfL/4NOdOPsFfyBDAYejDNHygrlu3zq1fv35lHhiVWktu2+HWPnl2uuuDP/qxcy/f6twlH55Vu6PTxauKqgrali1b/DVpBHAF2PPOO6/SF7/ef3XlVXd1X7pPhebrr7/eX1ufgn1cDb7nnnvctdde6y/VV1ZV7YO9Pxscg1e+8pV+jtaE4IorrvBz9dufqrCvg9pNyuS1kFXdSNJrbzcQtD7bQhNGcHjZ6ADMvz6w+gDMv3vQ/xDLzI50Mu+kCsAgcg6qvHDT0/0Py+lgrLyxj8MoGEMLB0JmQcBfU84+5irsgZY61bj9e02637oHbwZ5o2eESeNoN6ED9MJtZMHIX3useSOhVH097bqgg/xiVYYkDD/XVFfe31Yd5SXv+dmfl6n6e4HG99ZrqscVPzar6Po66tyGXb/r/F2g52Wfz6ZNmxqPzoL2mq81UzaFAH7wkcOHP33XbKxyDEIfuOGDSUfJA6PREIJ73rsqdGva829Oq/WFWxTAqwbgLtn7VwiYFxjt71dhf1/PO5ykSc81XK/5JkPOxSNbbNy48ci8Jg0NWTfY23MKaCpSJZxqmrdM9bPwu3nFBS0z+xzzhiQMP9OUF+Dz5AXsoOpzy1tf7c/LxL9XNfDnTVbR9XVUuY28x2tfpzrrncajt3+rUWgwjuZrzdTlBfCUTsLzsS/OHhPDIg5G1afwoXTzzTf7a4GB5Q0heN2rDl+y+YQj62cdClV5JxhpWgVuKr5/TQoVRSHO/l4VRb9vh5vTpPBRNTgG8bjeeRs1ut26wd7+fZGyqns85YXUoOiMjQrleh00vexlLzvy87xqvA1umqpU/eOKrR2Sr+pzqzzuvaE9mXFolfi6OpNVdH0dVW4jb/nN24tRRifosbd31113+Z9gSM3XmkWQF8AVdv+/B8YP4Xoc4TFxUqBB2JMc8IGEUXzyP68O3Zp0mvjHD636wmzKhqcmYbEN+/jjSYHIVm1V7Zv3OzH7uzEFsTg4zrs9ywagMK63ArjdYA9TnSq4/bt57O+GMJoXXsvY38sLoU996lNXXY7V2RDImxQctdyqsH+Xp+zn8Z4KTSH0V3kOdt2w11tF19dR5Tbs74Tlp8cWrmvSImnDO3t5x9F8rVkUeSfhCdNt+w8f/tq3/C8OTBsA4XFQ/R5E+DDSBAwqr80kOk18F+tnXAXW1LRnua74fuNJYSnIC4bx78Ts7+XJC11lt2fZv4kpjKsabn9Ht1tlw8b+zTxlv1v2M8v+Xt6kUG8v58mr+leZbMW7Cvu3eezP5011Qn/M3o5VdH0d825DVe2839FeDLtxUfc9bI9v0oZl02WD5pqvNYvmG/9w+PBffnl1+A7TGO0o2iiw1e9H/tH/AH0JH0aagMF89X9kyTBqM/HVbqur9TMvLA4RwO39ib7wi858WFSdzGs/COzvFYnvs+z2rHm3rdvNq4LbCqr+j88gaX93nrLfLfuZZQObnWw4tdcXyXvtyqYm4df+fZ6i5xJPYU9FU/a2LHv/TVu4im5bFLDtHpd44yXeUMrr0S9jb5s2y+GVv1OXUVkIVyX8zv85C8ZD+Py9R+9b1Xn0yn6QAYP44XcOH/6dn58bvKXL9VNBKK5e9h3A7X1Zda/PU1Qh7ELcAlMmb8MmnhTa6gTdoOx3y35mKcCF3ysaYaXqbfVt3uOo0j6idbwte3tWm77rwN522CgLo63YNkhN8caLLmtjLvy86PUsovsIf8voXsNbo3+yhY+YTkF/x987983v+SuMnz7OuZdtdO4ZT/dX9OT7jzr3V3f6C5kzTnPuhaf6C+jamjWzcZSFtwV6p/G7P3KNc3d+dHb56c907vx3rTphjtX1+qmTxVx00UUr428H27ZtWzlJz/oexrjPe/wah9ueaMQ+rzrPV+N4hzGTs4Dpbr755pX5LujkOnaM73mPJZxZtGg8c/v46jzHst+tejsaT/ylL32pv5T/u3UeU5+OO+64Iyc02rdvX6WzdPahaHnYdTcLr+6Tn/zkynwd9jmWyYK+yzYC/aWj4tezznLS+8WeEfa+++5zGzZs8JfQt+U6yU4dOhX9WS+YTScc76/0fviYc5/6u2zNzz6QH86+QPui+33es/yFzIFv+hkAk3bHLc5df/7R4C2v214YvPuwdu1at2vXrlUn49GJPBQ225w8pgoFGk3xGf6asicrudGcmr4Ll112mZ+bfyIU0XLVY9ixY4e/5igFb/v49Ltt5Z18pUiVYGYf0xAn/ylyYcnZJYdkl4d9X9jH1/SMoNrQLaMwrPUlL3iLXs+my0kb2Pa9b0+XjwFkW3KoSmNu//c7VreiaNKwgGoR0cGZP3jU/3JH1OJi7wu9sGPuancf0JuiEU3mCOtn1x/b2n2tXdb29rPA4X/aHd2mvY94ivuv7c/K1GkLSU1onajSez5v+WmK+4Lz2N/PU6U1ZQj2M7nosQ7BHqSs18C2f3Tx+PLaZ+yxAvPEy0m3V5XuI/zd2Wef7a/FEKb1SZUCHXgZD08YT12HcXvg5RTPxqkTBqlffszRY+awY5+O+YWDBfcXv7c6dEcjmpQJ66emPqhf2Qa8rnvAi3p0FfbiflaxvxMoaBeNhNLnVCcM9SVvpJp4yluOMfsa5wW1VEKvpPA4tEzDBkl8Uhq7LLXcxmIPftVjqioeNWXosf+XGW0nda19inO/dLpzrzrTueevd+74p/kfGIced+7B787aUj7xZef27HPuC3/v3H3fnrWs1LXx2X4mc+Abzt0zsfYTLYdH/2k2aT7Bx/+pT33Kzzn3yle+0s8BHXn4a879wRuc+8x/8Vdknv/Lzr3jY4O2mpTR7mvbVqFd2Nu3b/eX2rvyyiuVoI6Z1P+cBQD/W+XUS237r4ei+9R9F1HfvNp1QjuNJl2u0xIyTxaUXRay/KVj6bUrW47qUdZjsj3GV1111arHrMn2EIv9mf6+qJe9ibzlZu/rKU/Jvm9HpmWqdTQLpse0NDVt+ejazp07j7z2en2rvm/XrVu30q8e7N6928+hd9mHH9pSdVsVXY1IkteWEk91K+PxyYCmNu63ThJkn78ef2KnzbfDLo1ZwcAC+uxNlUc0KRPWzz4/tlXls6M4aBrr/WAfQ1BUPR9iKmsNKavGD1011331uXdAldK29Bg1wkY8okfR9Cu/8iv+L+tru7ek7PVr0/LRtXjPSNXHoucW/oZRT4bDaCd90Cgl3/mBc9/94ez/x5/wPyigavrJ65xbn02nnuivjGj0lY9+cfa/TG3kk/jx64DWX3v5bH4eLb97Dzr39Ydn1XPRHodN2fO3B6Q29Mgjj7gTT5wtd1UPsgCyMt+Jb33/aOVfj1mv7wtOmb3mWGwazWTv7zt3+4f8FZknZ+vAuW937px/66+oTtXAoM+PbVXOLrjggiMHkam6pwMzh1b1+eogOFVwVflVBbCqLpdneAxVZYFu5WC7skp2E6p4DlGBbbO8tDegbC9CES2vJntiVEFvu7ek7HtBBw2HvQGdf3/UoPetHb1Ij+V73/vekYp4EX3/adSTsEdEFf4+RjvCarSd9EGjlKglRSOlvO5fzVpUfu65s+D1lCf5XzLUpvLAd5z73Fed2/X52fTnX5q1qQQKq6vaTybWeqLHr7AcKITPaz/RMtFy+MjfztptQvAWzX/pAX+hnQMHDvi57CFu2uTnOhKCt+h/bUSoDSl+fbFYwmgmNnif9hLntmUhtkHwHpK+rK+77jp/Kf1d0aGdpU7w7lrcUqMAVhasQxtLly0cCrXzgrdGW9FjUwuLaIPFPu4wXX755Ss/F60Puq4r9jHq8cT3rSlv+envmozCY0eracq26sSatnx0TY9BG8lapqL/5wVvofVkHFS+x1CnMq5q6QtPmQVvBdb/dof/QeaiV/iZCfny12cBVIqq37ZaXEbLZHP7cUltJUYfWF2OEbyygfGVB/2FHJue49yLsgnTtz8L1ns/4Nwj2YZiTP3dW7OfqfLd0FCV78COQaywpoDZlqpyTfq2+3i+QyzPeRVxhaOuKqW2wqvbVajS/00q7Hrd9foHWj5dLK94bGk997KAqMcRV3O7Wl5VVH3O73znO93111/vLzWv0ndFy7lO9bqLMctRD+E7BQrjaqnQCX2KAmdoM1H4nmrricTtJ9orEI+jrsqw9gZYHbaZxOwHZ1chI5deX1Xw9XrH7EYWpkehW1NsXbZhde47Ojmocujwbd8XXYWepi0AfTzfoZdnEAfyru47tJyoTUgtQ2onkKavnd340mPsYnnZdUpjVO/bl33Wz6HHoLbArjcEq6j6nOONBNFzG+vEQHXZ1ksZ8v2wrGg7SYHCp9pSXv2SWTVb1eA4ZKrNRIF1yq0nomr3Kaav/favztpLArVi2OB92kmz5aFl00Pwll7bTiy1HWljQ8/n5BP8lZ42ulTtpx1lWtTXfduO/OB95muTGs2krtCaICH4tNVFC0DKwogiCm1FU53e8DoUvtWvq2Ucgrc07StX9VbsCDht2RO5hNufRxsP9jEM0dNelx6jWj5s+4Y2NOzJn1KmvSQYFpXvlClsf/G+2bCFCp46pb2um3rrSXzafNt+YqveCt6/8C9n8z3SFn/4shrsFLt6HdWzbjc8rCnu1VgWBz4xC9w9tZcUUXALhvrY7qP1pIp4N34fz7eL5dm0jcbq+rnZU+1LV7ffxfJqehtaB+M2mCHUfbzx6d4VyrWRMdT7pg37XudU8/0jfE+BwqgdHcO2nky1Z1hVXlvh1UaELuv6QIFcwbypqr3jeYZsA8kL4nre2huSYBtK1cChD+8rrrii08rZ6H70sHPX/6pzP85Zp3oM3jJG+O6j9aSKIcJW2+Wp98Eb3/jGVVXmuuqO0FKFfV5d3n4X61+b2xhj/W9yn/pstOO7632j16DrkW26dt555x0Z4ejGG29M/vFOHeF7iuxBizLVKqlGdQkUvruuequFo0nwHkrcx64Qbvvhpcde96bq9u1OPoSXHUgpHfZ1lxkjfPQRghVa3/e+97mLL7649Au+7+fb9vbjCnOgg7YVXhS6xtDXcuvidpvehtYZDX8Z9LE+5Gn6eDViiDbMQiV5yA3XpsIxA6L3pdZh9Iee7yl6cRa2bc/wFHu/89heb7XYtLUxncCaSxsGdrhEVbvtcIwS/04C6vbtKqirGtRkmLDRKXTvvio/eKvKvf2Ac5f/5WT7uudRaLAhsoseVo2qoAqb1okps8tCG5YKZ5rqnLET84U9DFOig15tT7tCuIK8ChddDi/ZJduvHirg6A+V76m6KwsDGjkjmGLvd1z5ji8PxPa6rbwd5vVjdylvuMS8++9xeVStROaJT5gRPk60PHW9/aKZQvVn5QDK2z88q3YXVbpFLSZv+qC/MIy+KprzqOKodUS0+7ztHoyqz6Pv59v29sd6Pebp43F1VXlu8tjiPQx9tOoUabss42MXJNXPwT72cqEY4XuK4t7ogQ5M7ERRH/ZI4dsOsaQjvnVGsGQMtDzCl1uTLwX7xZg3RvqkPtB1YpxPvH8WwGM993NXMVbY63oM4KrPo+/n2/b2x3o95rHFhC7Gm9brrxBpe9ubPt+6y8y2QsiQwVvavsZ5RYihn0Mdqa7Ti4i2k6lRa4Z6vgO1n3TRojEEVXK/cO+xwVsbDyMZbJjBumwLTs9CeA5f2FWp6m0rUnk9gpPY/R6GC/xIFlLygreGDBw5eI9Ju9ADdkenz+6ZUHBVq4MCYN3XTmFboVsbXjZ4t93zEdiDEi0F1TBcow3e2rhPNbQW0eefPhcVZMM0teeAflD5nho7SojGB3/li9uNCDIEhW71pecd/KjgrY0HPQdb6dV1AxxkaNsmkqpIxK+zxgfvSdNqx7yqd5BcNWVea8lAB1DWNeZy7PK+q95W38+37e2P+XqU0UZ0fMKXrrT9jLRV+Tq2bNmyMo720Bvzqb7GfVm25zsmKt9Toj5vOzyfhhlMOXirxUQjjmis8jh4q9dZrRRqlwnPwT6XgQ4yvPvuu/2cc6effrqfG5le4/h1TtC8qndSFLQ1ROD2Tc5dm613RaOXqL1kwifG6YsNPRrLuCv6si+a0IxeKwXVLoeKU/hVS1rb4kTVE+tY2rAfI3gDfSJ8T4XCmD3AUu0mOmNiilTpVuj+myzY5rWYaPzu+CBDsSN96KDDAc72mFzbSV5bUYKvsw3ektwXo6rbCtghcBeNWBKo2n3hjtlBlEvaXlLGtp60PcPgogRru87rOalVoqiVYmh6bKHdQac5v/zyyxudNEV/o9vZs2dPJ+9xnWxGIX7ehoECt35Pj3/M0WOS+1zDwqDtZAoUyD6eBdEw/rMC2VkvSK/q/XAWeL7yoHP/8CN/hWHbS8rEY5jHNO61wugLTsk+Gc2JhxqyZ7fUqZnXr1+/Mj8a+/wHaiuyYajqx4E9in/z5s0rX/BFmtx+Y6GlRFNe/3aQaGtJmUGXYyQ+c1+b+z/nnHPcX//1X/tL8/XVDnbMKEc15Y1k0YQCrirCXVaq0Q0Nj3rVVVel1ZLYozE/Y5YN4XsKptDnrRaTz3119Qligrzh9Ip0McxfjRPTJPdhY080pA2sAareTZaB7ffWLmFbGY11tozv/fTsoMiyCnYZHTh54XsnW9kee13t6v4VeO0IOKqsjhE82wYrPY94JIumVGFNcfg5LJfkvg8XGOE7ZXnD8g0UyGqzoTFoc3r4tiFc96v7nyOpDxstPy3HYKDhFpssgzp/09kyVgtJneA9wep2mbHX1S7v31adFyF4tg3iy1JZRdrG/oxZJomVT7HKF7+2Onin3Of9+BN+xlO1u011Xn+rNhUFUDtp40PV/3me+0w/MyG2p7/Kc1w2L3+Dn5kj9G8v8Jknp84eeLcI7RbagIiHlKszEbwxtrbjwaMeKt8p+293HG3jqNozPRb1et/zzdkGwi8lMmpIBcls6cdnLB1wD0eTZVD1b7o6Mx7GX1epigHTp89k7aW5//77/TXHKhs6Ft0gfKdMYVahtk7PNGpJIlCon1/tRcHAGzB9hu/41NB83DRH+AbQlkblKQveY42pvmxoO0nZC0+dtVoQvBeX+vq/8j/9hUwYyWbiVF3Rh7wN3uprBQCM57LLLvNzx2JM9eFQ+cZSG72aFx+o2uYg1YbaVr7zRquIK97sxmxv7HXVHiS5Y8eOlTGbAQD1Eb6x1EYP37avf6T2oibLoM5pohW8FdCpprQz9rpqx7VehBFKAGAstJ0AYwpn9ZxYX3/V00SHijfBe/pU7Q6qbngBAI5F5RtLbfTKdwKaLoNwkpIiVLy7lcK6yvsFANojfGOpESZYBlORwutE3zcAtEfbCbDEbrjhBj8HzGdHrLnmmmv8HACgDirfWGrLXvW1o5IwIknaUlhXVfVW9Tvg6wMA6iN8Y6kte/i2z1+jV9Cfna5U1tVlf88AQFu0nQBYQfAGAKB/hG9giRG4AQAYFuEbWGJhvG5O/Q4AwDDo+cbS0oGGOuAw4K2AlNHzDQCLgco3ltb73vc+P+fc5s2b/RwAAEB/CN9YWrfccoufq366dAAAgDZoO8HSYvc5poS2EwBYDFS+AQAAgIEQvgEAAICBEL4BAACAgRC+AQAAgIEQvgEAAICBEL6xlPbu3evnnNuwYYOfAwAA6BfhG0vp1ltv9XPObd261c8BAAD0i/CNpbR7924/59zrX/96PwcAANAvTrKDpcSJQjA1nGQHABYDlW8AAABgIIRvAAAAYCCEbwAAAGAghG8AAABgIIRvAAAAYCCEbwAAAGAghG8AAABgIIRvAAAAYCCEbwAAAGAghG8AAABgIIRvAAAAYCCEbwAAAGAghG8AAABgIIRvAAAAYCCEbwAAAGAghG8AAABgIIRvAAAAYCCEbwAAAGAghG8AAABgIIRvAAAAYCCEbwBAJTfccIOfAwA0RfgGAFRyzTXX+Dnntm7d6ucAAHWsOZzx88DSWLNmjZ9zjrcApiCFddY+hscee8ytXbvWXwIAVEXlGwAw1/bt2/3cDMEbAJohfAMASqnXm5YTAOgGbSdYSrSdYGrGXGdPOeUUd/DgwZX5LVu2uF27dlH5BoCGCN9YSoRvTM2Y6yy93gDQHcI3lhLhG1OTSvjm/QIA7dDzDQAoxNjeANAtwjcAoBAHWgJAtwjfAIBcqnqHAy3lxhtv9HMAgKYI3wCAXHHVmwMtAaA9DrjEUuIAMkzNGOusvU9GOQGAblD5xtLZu3evn3Nuw4YNfg5AcNttt7mNGzf6SzMEbwDoBuEbS+fWW2/1cxxABuS59NJL3f333+8v8T4BgC7RdoKlY8/W99nPftadffbZK/NAyoZsO7H3peCtAy2pfANANwjfWDr0e2OKhlpvNcLJ2972Nn+J9wgAdI22EwDAiptuusldddVV/hLtJgDQByrfWDpUvjFFfa+3ccVbGOEEALpH5RsAsGpMb9m2bRvBGwB6QOUbS4fKN6aoz/U2rnpT8QaA/lD5BoAlltfnTfAGgP5Q+cbSofKNKepjvaXPGwCGR+UbAJYUfd4AMDzCNwAsoe3btx852ZSo4r1z505/CQDQF8I3ACwZtZvYqjd93gAwHMI3ACyR+ADLLVu2rJw+HgAwDA64xNLhgEtMURfrLQdYAsD4qHwDwJLgAEsAGB+VbywdKt+YorbrLSfSAYA0UPkGgCXAAZYAkAYq31g6VL4xRW3X2+OOO84dOnRoZZ6qNwCMh8o3ACyBq6++euV/+rwBYFxUvrF0qHxjilhvAWAxUPkGAAAABkL4BgAAAAZC+AYAAAAGQvgGAAAABkL4BgAAAAZC+AYAAAAGQvgGAAAABkL4BgAAAAZC+AYAAAAGQvgGAAAABkL4BoAJWLt2rZ8DAEwZ4RsAJuDqq69e+X/btm0r/wMApmnN4YyfB5bCmjVr/JxzrP4AAGBIVL4BAACAgRC+AQAAgIEQvgEAAICBEL4BAACAgRC+AQAAgIEQvrF0GC8ZAACMhfCNpcN4yQAAYCyM8w0AAAAMhMo3AAAAMBDCNwAAADAQwjcAAAAwEMI3AAAAMBDCNwAAADAQwjcAAAAwEMI3AAAAMBDCNwAAADAQwjcAAAAwEMI3AAAAMBDCNwAAADAQwjcAAAAwEMI3AAAAMBDCNwAAADAQwjcAAAAwEMI3AAAAMBDCNwAAADAQwjcAAAAwEMI3AAAAMBDCNwAAADAQwjcAAAAwEMI3AAAAMAjn/n9EZAyPeOjKRQAAAABJRU5ErkJggg==)   \n",
        "'''\n",
        "전역 변수는\n",
        "1. 문제를 발생시킬 확률이 높고\n",
        "2. 오류 발생 시 원인을 찾기 힘들어 유지보수가 힘들기 때문에\n",
        "3. 되도록 전역 변수는 사용하지 않고, 지역변수를 사용하는 것이 좋다\n",
        "'''"
      ],
      "metadata": {
        "id": "Kz-7blSMpXtW"
      }
    },
    {
      "cell_type": "code",
      "source": [
        "def 변수():  # 입력값 없는 함수\n",
        "  x = 10\n",
        "\n",
        "x = 20\n",
        "변수()  # 함수 호출\n",
        "print(x)"
      ],
      "metadata": {
        "id": "eHczvVYjpZrr"
      },
      "execution_count": null,
      "outputs": []
    },
    {
      "cell_type": "markdown",
      "source": [
        "![image.png](data:image/png;base64,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)"
      ],
      "metadata": {
        "id": "skKKMWtRr27s"
      }
    },
    {
      "cell_type": "code",
      "source": [
        "# 메모리 상에서 함수가 실행되는 영역(local)은 함수 밖(global)과 분리되어 있다. \n",
        "# 함수가 호출되면 함수 실행 영역으로 간다 -> 지역변수가 가리키는 값을, global 영역에 return하면 메모리는 local 영역을 삭제함 -> 호출부 이후에 있는 global 영역의 코드를 순차적으로 수행함\n",
        "def f(x):\n",
        "   return 20\n",
        "\n",
        "x = 10\n",
        "y = f(x)\n",
        "print(y)"
      ],
      "metadata": {
        "colab": {
          "base_uri": "https://localhost:8080/"
        },
        "id": "X55usM8mr07O",
        "outputId": "d8d88c1d-f960-470c-9f76-b79cdea019e7"
      },
      "execution_count": null,
      "outputs": [
        {
          "output_type": "stream",
          "name": "stdout",
          "text": [
            "20\n"
          ]
        }
      ]
    },
    {
      "cell_type": "markdown",
      "source": [
        "![image.png](data:image/png;base64,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)"
      ],
      "metadata": {
        "id": "-Q8o_BnRtTVm"
      }
    },
    {
      "cell_type": "code",
      "source": [
        "def f(x):\n",
        "  y = x + 20\n",
        "  return y\n",
        "\n",
        "x = 30\n",
        "y = f(x)\n",
        "print(y)"
      ],
      "metadata": {
        "id": "bTeaSZcErp4s"
      },
      "execution_count": null,
      "outputs": []
    },
    {
      "cell_type": "markdown",
      "source": [
        "![image.png](data:image/png;base64,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)"
      ],
      "metadata": {
        "id": "DO7cjUx8ta3E"
      }
    },
    {
      "cell_type": "code",
      "source": [
        "# 함수 안에 정의된 로컬 변수가 값을 찾는 과정 : 'LEGB 파이썬' 검색\n",
        "# Local -> E -> Global -> Built-in(파이썬 내부 영역에 있음)\n",
        "def f(x):\n",
        "  x = 100\n",
        "\n",
        "x = 10\n",
        "f(x)\n",
        "print(x)"
      ],
      "metadata": {
        "colab": {
          "base_uri": "https://localhost:8080/"
        },
        "id": "UyW6ma4Asmzm",
        "outputId": "c68a40e7-ba62-485c-f116-e095c087ed7a"
      },
      "execution_count": null,
      "outputs": [
        {
          "output_type": "stream",
          "name": "stdout",
          "text": [
            "10\n"
          ]
        }
      ]
    },
    {
      "cell_type": "markdown",
      "source": [
        "![image.png](data:image/png;base64,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)"
      ],
      "metadata": {
        "id": "3Uto9GvQuf-y"
      }
    },
    {
      "cell_type": "code",
      "source": [
        "# 예외 : 리스트는 return이 없어도 append 메서드를 사용하는 경우 값이 출력됨\n",
        "# 함수 바깥에서 list를 append하는 것과 동작상의 차이가 없음. 코드를 작성한 사람의 의도대로 수행할 뿐.\n",
        "def f(x):   # x = 리스트 입력받는다\n",
        "  x.append(10)\n",
        "\n",
        "x = []\n",
        "f(x)\n",
        "print(x)"
      ],
      "metadata": {
        "colab": {
          "base_uri": "https://localhost:8080/"
        },
        "id": "n25VnL9iuPsN",
        "outputId": "3b8a9ef2-6266-4d88-970f-e3f2d0f85940"
      },
      "execution_count": null,
      "outputs": [
        {
          "output_type": "stream",
          "name": "stdout",
          "text": [
            "[10]\n"
          ]
        }
      ]
    },
    {
      "cell_type": "code",
      "source": [
        "# 복사본을 만드는 것처럼 입력값을 저장해 두려면?\n",
        "x = 10\n",
        "y = x    # x 값이 12로 바뀌어도, y에는 x의 초기값인 10이 저장됨\n",
        "x = 12\n"
      ],
      "metadata": {
        "id": "sqQXkK9XwUJS"
      },
      "execution_count": null,
      "outputs": []
    }
  ],
  "metadata": {
    "kernelspec": {
      "display_name": "Python 3",
      "language": "python",
      "name": "python3"
    },
    "language_info": {
      "codemirror_mode": {
        "name": "ipython",
        "version": 3
      },
      "file_extension": ".py",
      "mimetype": "text/x-python",
      "name": "python",
      "nbconvert_exporter": "python",
      "pygments_lexer": "ipython3",
      "version": "3.8.8"
    },
    "toc": {
      "base_numbering": 1,
      "nav_menu": {},
      "number_sections": true,
      "sideBar": true,
      "skip_h1_title": false,
      "title_cell": "Table of Contents",
      "title_sidebar": "Contents",
      "toc_cell": false,
      "toc_position": {
        "height": "calc(100% - 180px)",
        "left": "10px",
        "top": "150px",
        "width": "165.188px"
      },
      "toc_section_display": true,
      "toc_window_display": true
    },
    "colab": {
      "name": "함수.ipynb",
      "provenance": [],
      "collapsed_sections": [],
      "include_colab_link": true
    }
  },
  "nbformat": 4,
  "nbformat_minor": 0
}