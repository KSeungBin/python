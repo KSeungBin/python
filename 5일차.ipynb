{
 "cells": [
  {
   "cell_type": "markdown",
   "id": "8d20e4fd",
   "metadata": {},
   "source": [
    "## filter()"
   ]
  },
  {
   "cell_type": "code",
   "execution_count": null,
   "id": "57d33ace",
   "metadata": {},
   "outputs": [],
   "source": [
    "myList = [8,3,2,10,15,7,1,9,0,11]\n",
    "\n",
    "def f(x):\n",
    "    return x > 5 and x <10\n",
    "print(list(filter(f,myList))) #참인(조건을 만족시키는) 요소만 반환\n",
    "print(list(map(f,myList)))    #map은 각 요소에 대한 조건의 결과를 리스트로 반환\n",
    "print('filter--->', list(filter(f, myList)))"
   ]
  },
  {
   "cell_type": "markdown",
   "id": "e1e7b566",
   "metadata": {},
   "source": [
    "## 재귀함수\n",
    "#'시어핀스키 삼각형 파이썬'을 구글에 검색해보기\n",
    "#모듈 검색하는 방법 -> 윈도우 검색에 'idle' 입력 -> idle 창에 'random' 검색하면 rd 모듈에 대한 정보 출력된다."
   ]
  },
  {
   "cell_type": "code",
   "execution_count": null,
   "id": "be13ed24",
   "metadata": {},
   "outputs": [],
   "source": [
    "#실습문제: 이전 문제(주사위 1~6 random으로 돌려서 가장 많이 나온수를 카운트하는 문제)\n",
    "          #는 리스트 형태로 출력했다면, 이 문제는 dict 형태로 추출한 후, dict.items로\n",
    "          #key와 value값을 한꺼번에 출력한다.\n",
    "inStr = \"\"\"\n",
    "코스모스는 과거에 있었고, 현재에 있으며, 미래에 있을 그 모든 것이다.\n",
    "우리는 코스모스의 일부다.\n",
    "이것은 결코 시적 수사가 아니다.\n",
    "\"\"\"\n",
    "def letterCount():\n",
    "    global inStr\n",
    "    countDic = {}\n",
    "    countList = []\n",
    "\n",
    "# 글자: 빈도수 딕셔너리 만들기\n",
    "for char in inStr:\n",
    "    if char >= '가' and char <= '힣':  #unicode의 시작은 '가', unicode의 끝은 '힣'\n",
    "        if char in countDic:           \n",
    "            countDic[char] +=1\n",
    "        else:\n",
    "            countDic[char] = 1\n",
    "\n",
    "#정렬하기\n",
    "#방법1\n",
    "countList = sorted(countDic.items(), key = lambda x:x[1], reverse = True)  \n",
    "#sorted(dict 이름) -> 오름차순 정렬(reverse = false) \n",
    "# 기본적으로는 key값으로 정렬되는데(key = lambda x), \n",
    "# dict type에서 value(빈도수) 순으로 정렬하려면 따로 설정해야 한다.(key = lambda x:x[1])\n",
    "\n",
    "#방법2\n",
    "import operator\n",
    "countList = sorted(countDic.items(), key = operator.itemgetter(1), reverse = True)\n",
    "\n",
    "    return countList\n",
    "    print(letterCount())\n",
    "\n",
    "#방법 3\n",
    "from collections import Counter\n",
    "counter = Counter(inStr)\n",
    "print(counter)\n",
    "# 데이터를 정렬해서 가져오기 편하도록 이미 만들어놓은 모듈\n",
    "# Counter(문자열)  -> Counter 클래스를 counter 인스턴스로 정의해서 dict type으로 정리해준다.   \n",
    "print(counter.most_common(n=2)) \n",
    "#most_common 메소드로 가장 많이 나타난 2개(빈도수가 가장 높은 2개)를 출력한다.\n",
    "# 만약 n=10으로 하면, 가장 많이 나타난 10개를 출력"
   ]
  },
  {
   "cell_type": "markdown",
   "id": "e8fb309c",
   "metadata": {},
   "source": [
    "## 패키지"
   ]
  },
  {
   "cell_type": "code",
   "execution_count": null,
   "id": "7f40f11d",
   "metadata": {},
   "outputs": [],
   "source": [
    "!pip install sklearn  #pip install 할 때는 cmd 켜서 install하고 jupyter notebook 켜는 게 가장 확실"
   ]
  },
  {
   "cell_type": "code",
   "execution_count": null,
   "id": "e0e1280a",
   "metadata": {},
   "outputs": [],
   "source": [
    "from sklearn.datasets import load_iris\n",
    "iris = load_iris()\n",
    "print(iris)"
   ]
  },
  {
   "cell_type": "markdown",
   "id": "cfe29420",
   "metadata": {},
   "source": [
    "## 클래스 정의"
   ]
  },
  {
   "cell_type": "code",
   "execution_count": null,
   "id": "cf883bb8",
   "metadata": {},
   "outputs": [],
   "source": [
    "#자동차 클래스 만들기\n",
    "class Car:      # 함수는 f() 괄호 해야 하지만 calss는 그냥 :\n",
    "    color = \"\"\n",
    "    speed = 0\n",
    "    \n",
    "    def upSpeed(self,value):\n",
    "        self.speed += value #class 앞에는 항상 self가 들어가야한다.\n",
    "                            #self.speed(자기 class에 있는 변수 speed를 사용하겠다)\n",
    "    def downSpeed(self,value):\n",
    "        self.speed -= value # 지금 있는 값에서 입력 받은 값(value)을 뺀다."
   ]
  },
  {
   "cell_type": "markdown",
   "id": "dd54e074",
   "metadata": {},
   "source": [
    "### 인스턴스 화"
   ]
  },
  {
   "cell_type": "code",
   "execution_count": null,
   "id": "ca6dc1a6",
   "metadata": {},
   "outputs": [],
   "source": [
    "myCar1 = Car() #class(설계도)를 복사해서 myCar1(인스턴스)이라는 이름으로 사용할게\n",
    "               #class 정의할 때는 ()사용하지 않지만, 인스턴스 정의할 때는 ()쓰기!!\n",
    "myCar2 = Car()\n",
    "myCar3 = Car()\n",
    "\n",
    "myCar1.color = '빨강'\n",
    "myCar1.speed = 0\n",
    "\n",
    "myCar2.color = '파랑'\n",
    "myCar2.speed = 0\n",
    "\n",
    "myCar3.color = '노랑'\n",
    "myCar3.speed = 0\n",
    "\n",
    "myCar1.upSpeed(30)\n",
    "myCar2.downSpeed(60)\n",
    "\n",
    "print(f'myCar1 색상: {myCar1.color} 속도: {myCar1.speed}')\n",
    "print(f'myCar2 색상: {myCar2.color} 속도: {myCar2.speed}')\n",
    "print(f'myCar3 색상: {myCar3.color} 속도: {myCar3.speed}')"
   ]
  },
  {
   "cell_type": "code",
   "execution_count": null,
   "id": "39d1f1aa",
   "metadata": {},
   "outputs": [],
   "source": [
    "help(dict)\n",
    "a = {'a':1}\n",
    "print(type(a))"
   ]
  },
  {
   "cell_type": "code",
   "execution_count": null,
   "id": "9287e318",
   "metadata": {},
   "outputs": [],
   "source": [
    "#magic method : 매개변수가 self만 있는 생성자\n",
    "class Car:\n",
    "    color = \"\"\n",
    "    speed = 0\n",
    "       \n",
    "    def __init__(self):  #magic method: 인스턴스 생성할 때마다 color는 무조건 '빨강'으로 지정해주세요\n",
    "        self.color = \"빨강\"\n",
    "        self.speed = 0\n",
    "\n",
    "myCar = Car() #새로 지정해줄 것이 아무것도 없을 때에는 ()만 쓰면 된다.\n",
    "print(f'나의 차는 {myCar.color}색이고, 속도는 {myCar.speed} 입니다.')"
   ]
  },
  {
   "cell_type": "code",
   "execution_count": null,
   "id": "0eba96b9",
   "metadata": {},
   "outputs": [],
   "source": [
    "# 매개변수가 여러개인 생성자\n",
    "class Car:\n",
    "    color = \"\"\n",
    "    name = \"\"\n",
    "    speed = 0\n",
    "    \n",
    "    def __init__(self, val1, val2, val3): #magic method 역시 반드시 self로 시작해야 한다.\n",
    "#myCar(\"흰색\", \"아우디\", 0) 속 인자가 무엇인지(예) 흰색은 color다)를 컴퓨터가 인지하게 하려면 init의 parameter가 3개를 받아야 함\n",
    "        self.color = val1\n",
    "        self.name = val2\n",
    "        self.speed = val3\n",
    "        \n",
    "    def getColor(self):\n",
    "        return self.color\n",
    "       \n",
    "    def getName(self):\n",
    "        return self.name\n",
    "       \n",
    "    def getSpeed(self):\n",
    "        return self.speed\n",
    "\n",
    "#인스턴스 생성\n",
    "myCar1 = Car(\"흰색\", \"아우디\", 0)\n",
    "myCar2 = Car(\"검정색\", \"벤츠\", 30)\n",
    "\n",
    "print(f'{myCar1.getColor()} {myCar1.getName()}의 속도는 {myCar1.getSpeed()} 입니다.')\n",
    "print(f'{myCar2.getColor()} {myCar2.getName()}의 속도는 {myCar2.getSpeed()} 입니다.')\n",
    "#함수를 호출하여 결과값(return 결과)을 바로 출력하도록 특정 함수의 메서드를 입력해야 한다.\n",
    "# 즉 그냥 .color가 아닌 .getColor()를 써야 한다.\n",
    "    "
   ]
  },
  {
   "cell_type": "code",
   "execution_count": null,
   "id": "f493a51b",
   "metadata": {},
   "outputs": [],
   "source": [
    "#상속\n",
    "class Car:\n",
    "    speed = 0\n",
    "    \n",
    "    def upSpeed(self, value):\n",
    "        self.speed += value\n",
    "        \n",
    "        print(\"현재 속도(슈퍼 클래스): %d\" % self.speed)\n",
    "\n",
    "class Sedan(Car):\n",
    "    def upSpeed(self, value):\n",
    "        self.speed += value\n",
    "        \n",
    "        if self.speed > 150:\n",
    "            self.speed = 150\n",
    "            print(\"현재 속도(서브 클래스): %d\" % self.speed)\n",
    "class Truck(Car):\n",
    "    pass\n",
    "\n",
    "class Sonata(Sedan):\n",
    "    pass\n",
    "\n",
    "truck1 = Truck()\n",
    "sedan1 = Sedan()\n",
    "sonata1 = Sonata()\n",
    "\n",
    "print(\"트럭 --->\", end =\"\")\n",
    "truck1.upSpeed(200)\n",
    "\n",
    "print(\"승용차 --->\", end =\"\")\n",
    "sedan1.upSpeed(200)\n",
    "\n",
    "print(\"소나타 --->\", end =\"\")\n",
    "sonata1.upSpeed(200)\n",
    "\n"
   ]
  },
  {
   "cell_type": "code",
   "execution_count": 2,
   "id": "b89d1fe5",
   "metadata": {},
   "outputs": [
    {
     "name": "stdout",
     "output_type": "stream",
     "text": [
      "#제인의 장바구니\n",
      "--------------------\n",
      "*바나나 3000 2\n",
      "*우유 2500 1\n",
      "*라면 4000 1\n",
      "** 전체 가격 = 12500 , 전체수량 = 3\n",
      "--------------------\n",
      "\n",
      "#대원의 장바구니\n",
      "--------------------\n",
      "*라면 4000 2\n",
      "** 전체 가격 = 8000 , 전체수량 = 1\n",
      "--------------------\n",
      "\n"
     ]
    }
   ],
   "source": [
    "#실습문제 - 온라인 장바구니 클래스로 만들기\n",
    "class Basket:\n",
    "    def __init__(self,id):\n",
    "        self.id = id\n",
    "        self.items = []  #물건, 가격, 수량을 담을 형태를 list로 할 것인지 dict로 할 것인지 선택\n",
    "        self.prices = [] #list가 가장 단순하므로 여기에서는 [] 로 입력\n",
    "        self.qtys = []\n",
    "        self.totalPrice = 0\n",
    "        self.itemCnt = 0\n",
    "        \n",
    "    def add(self, item, price, qty):\n",
    "        self.items.append(item)\n",
    "        self.prices.append(price)\n",
    "        self.qtys.append(qty)\n",
    "        self.totalPrice += price*qty\n",
    "        self.itemCnt += 1\n",
    "    \n",
    "    def delete(self, item, qty):\n",
    "        for i,v in enumerate(self.items):\n",
    "            if item == self.items[i]:\n",
    "                self.totalPrice -= self.prices[i]*qty\n",
    "                self.qtys[i] -= qty\n",
    "#리스트 안에 있는 하나의 품목의 수량이 1개 이상이면, 수량만큼 개수를 빼줘야 한다.\n",
    "#del에는 add에 쓴 식을 반대로만 작성하면 된다. \n",
    "            if self.qtys[i] == 0:\n",
    "                self.itemCnt -= 1\n",
    "                del(self.items[i])\n",
    "                del(self.prices[i])\n",
    "                del(self.qtys[i])\n",
    "#리스트 안에 있는 하나의 품목의 수량이 0이면, 리스트에서 아예 해당 품목을 제거해야 한다(pop)\n",
    "         \n",
    "                                  \n",
    "    def printitems(self):\n",
    "        print(f'#{self.id}의 장바구니') #변수명(클래스에서는 필드)이 {} 안에 들어가야 한다\n",
    "        print('-'*20)\n",
    "        for i,v in enumerate(self.items):\n",
    "            print(f'*{v} {self.prices[i]} {self.qtys[i]}')\n",
    "        print(f'** 전체 가격 = {self.totalPrice} , 전체수량 = {self.itemCnt}') \n",
    "        #for loop 다 돌고 나서 전체 가격과 수량을 print 해야 하므로 들여쓰기 하면 안된다. \n",
    "        print('-'*20)\n",
    "        print()\n",
    "\n",
    "basket1 = Basket(\"제인\")\n",
    "basket2 = Basket('대원')\n",
    "\n",
    "basket1.add('바나나',3000,2)\n",
    "basket1.add('우유',2500,2)\n",
    "basket1.add('라면',4000,1)\n",
    "basket2.add('라면',4000,2)\n",
    "basket1.delete('우유',1)\n",
    "\n",
    "basket1.printitems()\n",
    "basket2.printitems()"
   ]
  },
  {
   "cell_type": "code",
   "execution_count": 3,
   "id": "b3c70549",
   "metadata": {},
   "outputs": [
    {
     "name": "stdout",
     "output_type": "stream",
     "text": [
      "# 제인의 장바구니\n",
      "------------------------------\n",
      "* 바나나        3000 2\n",
      "* 우유         2500 1\n",
      "* 라면         4000 1\n",
      "** 전체가격 =  12500 전체 수량 = 3\n",
      "# 대원의 장바구니\n",
      "------------------------------\n",
      "* 라면         4000 2\n",
      "** 전체가격 =  8000 전체 수량 = 1\n"
     ]
    }
   ],
   "source": [
    "#dict 형태로 실습문제 풀기(list로 할 때보다 훨씬 깔끔해짐)\n",
    "class Basket:\n",
    "    def __init__(self, id):\n",
    "        self.id = id\n",
    "        self.바구니={} # dict type\n",
    "    def add(self, item, price, qty):\n",
    "        self.바구니[item]=[price,qty] #key를 item, value는 list로 설정\n",
    "    def delete(self, item, qty):\n",
    "        self.바구니[item][1] -= qty  #key는 계속 존재한다는 전제 하에, 수량만 조절해준다.\n",
    "    def printitems(self):\n",
    "        print(f'# {self.id}의 장바구니')\n",
    "        print('-'*30)\n",
    "        total = 0\n",
    "        cnt = len(self.바구니)  #dict에 들어가 있는 key의 개수\n",
    "        for key in self.바구니:\n",
    "            print(f'* {key:10} {self.바구니[key][0]} {self.바구니[key][1]}')\n",
    "            total += self.바구니[key][0] * self.바구니[key][1]\n",
    "        print(f'** 전체가격 =  {total} 전체 수량 = {cnt}')\n",
    "basket1 = Basket(\"제인\")\n",
    "basket2 = Basket(\"대원\")\n",
    "basket1.add('바나나',3000,2)\n",
    "basket1.add('우유',2500,2)\n",
    "basket1.add('라면',4000,1)\n",
    "basket2.add('라면',4000, 2)\n",
    "basket1.delete('우유',1)\n",
    "basket1.printitems()\n",
    "basket2.printitems()\n",
    "#https://monkey3199.github.io/develop/python/2018/12/04/python-pararrel.html"
   ]
  },
  {
   "cell_type": "code",
   "execution_count": null,
   "id": "67af7fe8",
   "metadata": {},
   "outputs": [],
   "source": []
  }
 ],
 "metadata": {
  "kernelspec": {
   "display_name": "Python 3 (ipykernel)",
   "language": "python",
   "name": "python3"
  },
  "language_info": {
   "codemirror_mode": {
    "name": "ipython",
    "version": 3
   },
   "file_extension": ".py",
   "mimetype": "text/x-python",
   "name": "python",
   "nbconvert_exporter": "python",
   "pygments_lexer": "ipython3",
   "version": "3.8.10"
  }
 },
 "nbformat": 4,
 "nbformat_minor": 5
}
